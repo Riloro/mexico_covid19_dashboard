{
 "cells": [
  {
   "cell_type": "code",
   "execution_count": 2,
   "metadata": {},
   "outputs": [],
   "source": [
    "import pandas as pd\n",
    "import bokeh.plotting as bpl\n",
    "import bokeh.models as bmd\n",
    "import bokeh.layouts as bly\n",
    "import bokeh.transform as btr\n",
    "import plotly.express as px\n",
    "import plotly.io as pio\n",
    "import plotly.graph_objects as go\n",
    "import numpy as np\n",
    "from datetime import datetime \n",
    "import timeit"
   ]
  },
  {
   "cell_type": "code",
   "execution_count": null,
   "metadata": {},
   "outputs": [],
   "source": [
    "data = pd.read_csv(\"http://datosabiertos.salud.gob.mx/gobmx/salud/datos_abiertos/datos_abiertos_covid19.zip\", compression = \"zip\", encoding = \"latin1\")"
   ]
  },
  {
   "cell_type": "code",
   "execution_count": null,
   "metadata": {},
   "outputs": [],
   "source": [
    "pio.templates.default = \"plotly_white\"\n",
    "pio.templates\n",
    "print(np.__version__)"
   ]
  },
  {
   "cell_type": "code",
   "execution_count": null,
   "metadata": {},
   "outputs": [],
   "source": [
    "data "
   ]
  },
  {
   "cell_type": "code",
   "execution_count": null,
   "metadata": {},
   "outputs": [],
   "source": [
    "last_update = data[\"FECHA_ACTUALIZACION\"].iloc[0]\n",
    "date_last_update = datetime.strptime(last_update, '%Y-%m-%d')\n",
    "\n",
    "if date_last_update.day < 10:\n",
    "    day = \"0\" + str(date_last_update.day) \n",
    "else:\n",
    "    day = str(date_last_update.day) \n",
    "\n",
    "if date_last_update.month < 10:\n",
    "    month = \"0\" + str(date_last_update.month)\n",
    "else:\n",
    "    month = str(date_last_update.month)\n",
    "\n",
    "str_last_update = day + \"/\" + month + \"/\" + str(date_last_update.year) \n",
    "str_last_update"
   ]
  },
  {
   "cell_type": "code",
   "execution_count": null,
   "metadata": {},
   "outputs": [],
   "source": [
    "data[[\"FECHA_ACTUALIZACION\", \"FECHA_SINTOMAS\",\"FECHA_INGRESO\",\"FECHA_DEF\"]] #COLUMNA QUE ME INTERESA DataFrame de una columna -----> Serie"
   ]
  },
  {
   "cell_type": "code",
   "execution_count": null,
   "metadata": {},
   "outputs": [],
   "source": [
    "data[['FECHA_ACTUALIZACION', 'ID_REGISTRO', 'ORIGEN']]"
   ]
  },
  {
   "cell_type": "code",
   "execution_count": null,
   "metadata": {},
   "outputs": [],
   "source": [
    "data.loc[10] #INFORMACION DE LA FILA 10"
   ]
  },
  {
   "cell_type": "code",
   "execution_count": null,
   "metadata": {},
   "outputs": [],
   "source": [
    "data.loc[[1,3,6]]"
   ]
  },
  {
   "cell_type": "code",
   "execution_count": null,
   "metadata": {},
   "outputs": [],
   "source": [
    "#Casos negativos, sospechosos y activos\n",
    "data[\"CLASIFICACION_FINAL\"].value_counts()"
   ]
  },
  {
   "cell_type": "code",
   "execution_count": null,
   "metadata": {},
   "outputs": [],
   "source": [
    "#Casos negativos ---> 7\n",
    "condicion_negativos = data[\"CLASIFICACION_FINAL\"] == 7"
   ]
  },
  {
   "cell_type": "code",
   "execution_count": null,
   "metadata": {},
   "outputs": [],
   "source": [
    "condicion_negativos.value_counts()"
   ]
  },
  {
   "cell_type": "code",
   "execution_count": null,
   "metadata": {},
   "outputs": [],
   "source": [
    " negativos = data[condicion_negativos] #Filtrando el data FRAME para casos negativos\n",
    " print(\"Casos Negativos =\",len(negativos))"
   ]
  },
  {
   "cell_type": "code",
   "execution_count": null,
   "metadata": {},
   "outputs": [],
   "source": [
    "# 1,2,3 CASOS CONFIRMADOS\n",
    "confirmados = data[data[\"CLASIFICACION_FINAL\"].isin([1,2,3])]\n",
    "print(\"Casos confirmados =\",len(confirmados))"
   ]
  },
  {
   "cell_type": "code",
   "execution_count": null,
   "metadata": {},
   "outputs": [],
   "source": [
    "confirmados[\"CLASIFICACION_FINAL\"].value_counts()"
   ]
  },
  {
   "cell_type": "code",
   "execution_count": null,
   "metadata": {},
   "outputs": [],
   "source": [
    "#CASOS SORPECHOSOS 6 --> sospechosos sin muestra\", \"sospechosos con posibilidad de resultado\" y \"sospechosos sin posibilidad de resultado\".\n",
    "sospechosos = data[data[\"CLASIFICACION_FINAL\"] == 6]\n",
    "print(\"Sospechosos Totales = \", len(sospechosos))"
   ]
  },
  {
   "cell_type": "code",
   "execution_count": null,
   "metadata": {},
   "outputs": [],
   "source": [
    "sospechosos_sin_muestra=data[(data[\"CLASIFICACION_FINAL\"]==6)&(data[\"RESULTADO_LAB\"]==97)]\n",
    "#sospechosos_sin_muestra\n",
    "print(\"Sospechosos sin muestra =\",len(sospechosos_sin_muestra))"
   ]
  },
  {
   "cell_type": "code",
   "execution_count": null,
   "metadata": {},
   "outputs": [],
   "source": [
    "sospechosos_con_posibilidad =data[(data[\"CLASIFICACION_FINAL\"]==6)&(data[\"RESULTADO_LAB\"]==3)]\n",
    "#sospechosos_sin_muestra\n",
    "print(\"Sospechosos con posibilidad =\",len(sospechosos_con_posibilidad))"
   ]
  },
  {
   "cell_type": "code",
   "execution_count": null,
   "metadata": {},
   "outputs": [],
   "source": [
    "sospechosos_sin_posibilidad=data[(data[\"CLASIFICACION_FINAL\"].isin([6,5,4]))&(data[\"RESULTADO_LAB\"].isin([4]))]\n",
    "print(\"Sospechosos sin posibilidad =\", len(sospechosos_sin_posibilidad))"
   ]
  },
  {
   "cell_type": "code",
   "execution_count": null,
   "metadata": {},
   "outputs": [],
   "source": [
    "#Buscando defunciones \n",
    "data.columns"
   ]
  },
  {
   "cell_type": "code",
   "execution_count": null,
   "metadata": {},
   "outputs": [],
   "source": [
    "#data[\"FECHA_DEF\"].value_counts()"
   ]
  },
  {
   "cell_type": "code",
   "execution_count": null,
   "metadata": {},
   "outputs": [],
   "source": [
    "defunciones = confirmados[confirmados[\"FECHA_DEF\"] != \"9999-99-99\"]\n",
    "print(\"Defunciones =\", len(defunciones))\n"
   ]
  },
  {
   "cell_type": "code",
   "execution_count": null,
   "metadata": {},
   "outputs": [],
   "source": [
    "grupos = confirmados.groupby(\"FECHA_INGRESO\")  #agrupando por fecha\n",
    "confirmados_por_fecha = grupos.size().to_frame(\"confirmados\").reset_index()   #INICIALMENTE grupos.size() es una serie con la fecha como ind\n",
    "confirmados_por_fecha"
   ]
  },
  {
   "cell_type": "code",
   "execution_count": null,
   "metadata": {},
   "outputs": [],
   "source": [
    "confirmados_por_fecha.dtypes"
   ]
  },
  {
   "cell_type": "code",
   "execution_count": null,
   "metadata": {},
   "outputs": [],
   "source": [
    "confirmados_por_fecha[\"FECHA_INGRESO\"][:3]"
   ]
  },
  {
   "cell_type": "code",
   "execution_count": null,
   "metadata": {},
   "outputs": [],
   "source": [
    "confirmados_por_fecha[\"fecha_ingreso\"] = pd.to_datetime(confirmados_por_fecha[\"FECHA_INGRESO\"], format = \"%Y-%m-%d\")\n",
    "confirmados_por_fecha"
   ]
  },
  {
   "cell_type": "code",
   "execution_count": null,
   "metadata": {},
   "outputs": [],
   "source": [
    "confirmados_por_fecha.dtypes"
   ]
  },
  {
   "cell_type": "code",
   "execution_count": null,
   "metadata": {},
   "outputs": [],
   "source": [
    "defunciones_por_fecha = defunciones.groupby(\"FECHA_DEF\").size().to_frame(\"defunciones\").reset_index()\n",
    "defunciones_por_fecha[\"fecha_defuncion\"] = pd.to_datetime(defunciones_por_fecha[\"FECHA_DEF\"], format = \"%Y-%m-%d\")\n",
    "defunciones_por_fecha\n"
   ]
  },
  {
   "cell_type": "code",
   "execution_count": null,
   "metadata": {},
   "outputs": [],
   "source": [
    "sospechosos_por_fecha = sospechosos.groupby(\"FECHA_SINTOMAS\").size().to_frame(\"sospechosos\").reset_index()\n",
    "sospechosos_por_fecha[\"fecha_sintomas\"] = pd.to_datetime(sospechosos_por_fecha[\"FECHA_SINTOMAS\"], format = \"%Y-%m-%d\")\n"
   ]
  },
  {
   "cell_type": "code",
   "execution_count": null,
   "metadata": {},
   "outputs": [],
   "source": [
    "bpl.output_notebook()"
   ]
  },
  {
   "cell_type": "code",
   "execution_count": null,
   "metadata": {},
   "outputs": [],
   "source": [
    "# Ploting each line in different figures ...\n",
    "def plotCases(abscisa, ordenada, x_title, y_title, g_title, paint ):\n",
    "    fig_1 = px.line( x = abscisa, y = ordenada, title = g_title, width = 1500, height = 600) # labels parameter can be added with a dict\n",
    "\n",
    "    fig_1.update_traces(marker = dict(color = paint), line = dict(color = paint, width = 2))\n",
    "    fig_1.update_xaxes(showgrid = True, title = x_title)\n",
    "    fig_1.update_yaxes(showgrid = True, title = y_title)\n",
    "    fig_1.show()\n",
    "    \n",
    "plotCases(confirmados_por_fecha[\"fecha_ingreso\"], confirmados_por_fecha[\"confirmados\"], \n",
    "        \"Fecha de registro\", \"Casos confirmados\", \"Casos de COVID-19 en México\",\"#b4004e\")\n",
    "plotCases(defunciones_por_fecha[\"fecha_defuncion\"], defunciones_por_fecha[\"defunciones\"], \n",
    "        \"Fecha de defunción\", \"Defunciones\", \"Defunciones por COVID-19 en México\" , \"black\")\n",
    "# plotCases(sospechosos_por_fecha[\"fecha_sintomas\"],sospechosos_por_fecha[\"sospechosos\"], \n",
    "#         \"Fecha del inicio de sintomas\", \"Casos sospechosos\", \"Casos sospechosos de COVID-19 en México\", \"#c67c00\")\n"
   ]
  },
  {
   "cell_type": "code",
   "execution_count": null,
   "metadata": {},
   "outputs": [],
   "source": [
    "# Computing the comulative cases ...\n",
    "def commulative_cases(data):\n",
    "    data_vec = np.array(data)\n",
    "    data_acumulados = np.cumsum(data_vec)    \n",
    "    return pd.Series(data_acumulados)                           # Numpy array to pandas Serie\n",
    "\n",
    "# Commulative confirmed cases ....\n",
    "confirmados_por_fecha[\"casos_acumulados\"] = commulative_cases(confirmados_por_fecha[\"confirmados\"])\n",
    "# Commulative Deaths  ....\n",
    "defunciones_por_fecha[\"defunciones_acumuladas\"] = commulative_cases(defunciones_por_fecha[\"defunciones\"])"
   ]
  },
  {
   "cell_type": "code",
   "execution_count": null,
   "metadata": {},
   "outputs": [],
   "source": [
    "#Computing the average with the actual day plus the 6 previous days\n",
    "def average_of_seven_days(serie , threshold = 25000):\n",
    "    data_vect = np.array(serie)\n",
    "    average = np.zeros(data_vect.size)\n",
    "    counter = 0\n",
    "    init = 0\n",
    "    # ....\n",
    "    index = np.nonzero(data_vect > threshold)\n",
    "    data_vect[index] = 0\n",
    "    #Computing the average\n",
    "    for i in range(data_vect.size):\n",
    "        if i >= 6:\n",
    "            average[counter] = np.mean(data_vect[init:i+1])\n",
    "            init += 1\n",
    "        else:\n",
    "            average[counter] = 1/7 * np.sum(data_vect[0:i+1])\n",
    "\n",
    "        counter += 1\n",
    "\n",
    "    return  pd.Series(np.round(average))   #Return a pandas Serie with rounded values"
   ]
  },
  {
   "cell_type": "code",
   "execution_count": null,
   "metadata": {},
   "outputs": [],
   "source": [
    "# confirmados_por_fecha[\"casos_promedio\"] =  average_of_seven_days(confirmados_por_fecha[\"confirmados\"])\n",
    "# defunciones_por_fecha[\"defunciones_promedio\"] = average_of_seven_days(defunciones_por_fecha[\"defunciones\"])"
   ]
  },
  {
   "cell_type": "code",
   "execution_count": null,
   "metadata": {},
   "outputs": [],
   "source": [
    "\n",
    "# fig_bar1_conf = px.bar(x =confirmados_por_fecha[\"fecha_ingreso\"], y = confirmados_por_fecha[\"confirmados\"], \n",
    "    \n",
    "#                     labels= dict(x = \"Fecha de registro\", y = \"Nuevos casos confirmados\"), title=\"Nuevos casos de COVID-19 reportados diariamente\", width = 900)\n",
    "#fig_bar1_conf.update_traces( marker = dict(color = \"#ff1744\", opacity = 0.6))\n",
    "# fig_bar2_def = px.bar(x = defunciones_por_fecha[\"fecha_defuncion\"], y = defunciones_por_fecha[\"defunciones\"],\n",
    "#                         labels = dict(x = \"Fecha de defunción\", y = \"Defunciones\"), title = \"Nuevas defunciones por COVID-19 reportadas diariamente\", width = 900)\n",
    "\n",
    "# fig_bar2_def.update_traces(marker = dict(color = \"black\"))\n",
    "\n",
    "# Bar plots for confirmed and death cases ...\n",
    "def show_confirmed_cases(x_vect,y_vect, region, anomalia):\n",
    "\n",
    "    if anomalia == True:\n",
    "        h = 600\n",
    "        w = 1000\n",
    "    else:\n",
    "        h = 450\n",
    "        w = 900\n",
    "\n",
    "    fig_bar1 = go.Figure()\n",
    "    fig_bar1.add_trace(go.Bar(x = x_vect, y = y_vect, \n",
    "                                marker = dict(color = \"#ff1744\", opacity = 0.6 ), name = \"Nuevos casos\"))\n",
    "    #Average of seven days curve ...                             \n",
    "    fig_bar1.add_trace(go.Scatter(x = x_vect, y =  average_of_seven_days(y_vect),\n",
    "                                        mode = \"lines\", line = dict(color = \"#b71c1c\", width = 2.5), name = \"Promedio de 7 días\"))\n",
    "    #custom layout\n",
    "    fig_bar1.update_xaxes(title = \"Fecha de registro\",spikethickness= .4)\n",
    "    fig_bar1.update_yaxes(title = \"Nuevos casos confirmados\")\n",
    "    fig_bar1.update_layout(width = w, height = h, hovermode = \"x unified\", title = \"Nuevos casos de COVID-19 reportados diariamente en \" + region)\n",
    "    #Showing figure ... \n",
    "    fig_bar1.show()\n",
    "\n",
    "def show_deaths(x_vect,y_vect,region, anomalia):\n",
    "    \n",
    "    if anomalia == True:\n",
    "        h = 600\n",
    "        w = 1000\n",
    "    else:\n",
    "        h = 450\n",
    "        w = 900\n",
    "    # Death cases ...\n",
    "    fig_bar2 = go.Figure()\n",
    "    fig_bar2.add_trace(go.Bar(x = x_vect, y = y_vect,\n",
    "                                marker = dict(color = \"#546e7a\", opacity = 0.75), name = \"Nuevas defunciones\"))\n",
    "    #Average of seven days curve ...                         \n",
    "    fig_bar2.add_trace(go.Scatter(x = x_vect, y =average_of_seven_days(y_vect, threshold = 2500),\n",
    "                                        mode = \"lines\", line = dict(color = \"black\", width = 2.5), name = \"Promedio de 7 días\"))\n",
    "    #custom layout\n",
    "    fig_bar2.update_xaxes(title = \"Fecha de registro\",spikethickness= .4)\n",
    "    fig_bar2.update_yaxes(title = \"Nuevas defunciones confirmadas\")\n",
    "    fig_bar2.update_layout(width = w, height = h, hovermode = \"x unified\", title = \"Nuevas defunciones de COVID-19 reportadas diariamente en \" + region)\n",
    "    #Showing figure ...\n",
    "    fig_bar2.show()\n",
    "\n",
    "show_confirmed_cases(confirmados_por_fecha[\"fecha_ingreso\"],confirmados_por_fecha[\"confirmados\"], \"México\", False)\n",
    "show_deaths(defunciones_por_fecha[\"fecha_defuncion\"],defunciones_por_fecha[\"defunciones\"],\"México\", False)"
   ]
  },
  {
   "cell_type": "code",
   "execution_count": null,
   "metadata": {},
   "outputs": [],
   "source": [
    "# Ploting the commulative confirmed and deaths cases ...\n",
    "\n",
    "def acum_plot(x_conf_data, y_conf_data, x_def_data, y_def_data, region ):\n",
    "    fig_acum = go.Figure()\n",
    "\n",
    "    fig_acum.add_trace(go.Scatter(x = x_conf_data, y = y_conf_data,\n",
    "                    mode = \"lines\" , line = dict(color = \"#ff1744\", width = 2.5), name = \"Casos confirmados\" ))\n",
    "\n",
    "    fig_acum.add_trace(go.Scatter(x = x_def_data, y = y_def_data,\n",
    "                    mode = \"lines\", line = dict(color = \"black\", width = 2.5), name = \"Defunciones \"))\n",
    "\n",
    "    fig_acum.update_xaxes(title = \"Fecha de registro\")\n",
    "    fig_acum.update_yaxes(title = \"Número de casos acumulados\")\n",
    "    fig_acum.update_layout(title = \"Casos acumulados en \" + region )\n",
    "    fig_acum.show()\n",
    "\n",
    "\n",
    "# fig_acum = go.Figure()\n",
    "\n",
    "# fig_acum.add_trace(go.Scatter(x = confirmados_por_fecha[\"fecha_ingreso\"], y = confirmados_por_fecha[\"casos_acumulados\"],\n",
    "#                     mode = \"lines\" , line = dict(color = \"#ff1744\", width = 2.5), name = \"Casos confirmados\" ))\n",
    "\n",
    "# fig_acum.add_trace(go.Scatter(x = defunciones_por_fecha[\"fecha_defuncion\"], y = defunciones_por_fecha[\"defunciones_acumuladas\"],\n",
    "#                     mode = \"lines\", line = dict(color = \"black\", width = 2.5), name = \"Defunciones \"))\n",
    "\n",
    "\n",
    "\n",
    "# fig_acum.update_xaxes(title = \"Fecha de registro\")\n",
    "# fig_acum.update_yaxes(title = \"Número de casos acumulados\")\n",
    "# fig_acum.update_layout(title = \"Casos acumulados en México\")\n",
    "# fig_acum.show()\n",
    "\n",
    "acum_plot(confirmados_por_fecha[\"fecha_ingreso\"],confirmados_por_fecha[\"casos_acumulados\"],\n",
    "            defunciones_por_fecha[\"fecha_defuncion\"], defunciones_por_fecha[\"defunciones_acumuladas\"], region = \"México\" )\n"
   ]
  },
  {
   "cell_type": "code",
   "execution_count": null,
   "metadata": {},
   "outputs": [],
   "source": [
    "\n",
    "# Ploting each line in the same figure ...\n",
    "\n",
    "# fig_2 = px.line(confirmados_por_fecha, x = \"fecha_sintomas\", y = \"confirmados\", width = 1000, height= 300,\n",
    "#                  labels= dict(fecha_sintomas = \"Fecha\", confirmados = \"Número de personas\", name = \"Casos confirmados\"))\n",
    "\n",
    "fig_2 = go.Figure()\n",
    "\n",
    "fig_2.add_trace(go.Scatter(x = confirmados_por_fecha[\"fecha_ingreso\"], y = confirmados_por_fecha[\"confirmados\"], \n",
    "                mode = \"lines\",name = \"Casos confirmados\", line = dict(color = \"#b4004e\")) )\n",
    "fig_2.add_trace(go.Scatter(x = defunciones_por_fecha[\"fecha_defuncion\"], y = defunciones_por_fecha[\"defunciones\"], \n",
    "                mode = \"lines\",name = \"Defunciones\", line = dict(color = \"black\") ) )\n",
    "fig_2.add_trace(go.Scatter(x = sospechosos_por_fecha[\"fecha_sintomas\"], y = sospechosos_por_fecha[\"sospechosos\"],\n",
    "                mode = \"lines\", name = \"Casos sospechosos\", line = dict(color = \"#c67c00\")))\n",
    "\n",
    "fig_2.update_xaxes(showgrid = True, title = \"Fecha\")\n",
    "fig_2.update_yaxes(showgrid = True , title = \"Número de personas\")\n",
    "fig_2.update_layout( width = 1200, height= 400 , title = \"COVID-19 México\")\n",
    "fig_2.show()"
   ]
  },
  {
   "cell_type": "code",
   "execution_count": null,
   "metadata": {},
   "outputs": [],
   "source": [
    "# Distribution of cases per state ...................................\n",
    "confirmados"
   ]
  },
  {
   "cell_type": "code",
   "execution_count": null,
   "metadata": {},
   "outputs": [],
   "source": [
    "def time_usage(func):\n",
    "    def wrapper(*args, **kwargs):\n",
    "        beg_ts = time.time()\n",
    "        retval = func(*args, **kwargs)\n",
    "        end_ts = time.time()\n",
    "        print(\"elapsed time: %f\" % (end_ts - beg_ts))\n",
    "        return retval\n",
    "    return wrapper"
   ]
  },
  {
   "cell_type": "code",
   "execution_count": null,
   "metadata": {},
   "outputs": [],
   "source": [
    "#Grouping by state ENTIDAD_RES\n",
    "confirmados_por_estado = confirmados.groupby(\"ENTIDAD_RES\").size().to_frame(\"Casos confirmados\").reset_index()\n",
    "confirmados_por_estado"
   ]
  },
  {
   "cell_type": "code",
   "execution_count": null,
   "metadata": {},
   "outputs": [],
   "source": [
    "# Cargando el diccionario de estados\n",
    "dics = pd.read_excel(\"https://github.com/Riloro/mexico_covid19_dashboard/blob/master/diccionarios/201128%20Catalogos_.xlsx?raw=true\", sheet_name = None)\n",
    "dics.keys()"
   ]
  },
  {
   "cell_type": "code",
   "execution_count": null,
   "metadata": {},
   "outputs": [],
   "source": [
    "dic_estados = dics[\"Catálogo de ENTIDADES\"]\n",
    "dic_estados"
   ]
  },
  {
   "cell_type": "code",
   "execution_count": null,
   "metadata": {},
   "outputs": [],
   "source": [
    "confirmados_por_entidad = pd.merge(confirmados_por_estado, dic_estados, how = \"left\", left_on = \"ENTIDAD_RES\", right_on = \"CLAVE_ENTIDAD\" ) # left outer join\n",
    "confirmados_por_entidad"
   ]
  },
  {
   "cell_type": "code",
   "execution_count": null,
   "metadata": {},
   "outputs": [],
   "source": [
    "confirmados_por_entidad.dtypes"
   ]
  },
  {
   "cell_type": "code",
   "execution_count": null,
   "metadata": {},
   "outputs": [],
   "source": [
    "# Bar plot of the confirmed cases by state\n",
    "confirmados_por_entidad.sort_values(\"Casos confirmados\", ascending = False, inplace = True ) # Ordenando por número de casos de forma descendente \n",
    "fig_bar_edo = px.bar( x = confirmados_por_entidad[\"ENTIDAD_FEDERATIVA\"], y = confirmados_por_entidad[\"Casos confirmados\"],\n",
    "                        labels = dict(x = \"Entidad Federativa\", y = \"Número de casos confirmados\"), title = \"Número de casos confirmados por estado\")\n",
    "\n",
    "\n",
    "fig_bar_edo.update_xaxes(type='category', tickfont=dict(size = 10))\n",
    "fig_bar_edo.update_traces(marker = dict(color = \"#b71c1c\"), opacity = 0.8)\n",
    "fig_bar_edo.show()"
   ]
  },
  {
   "cell_type": "code",
   "execution_count": 5,
   "metadata": {},
   "outputs": [
    {
     "output_type": "stream",
     "name": "stdout",
     "text": [
      "50.69830970000112\n"
     ]
    }
   ],
   "source": [
    "stime = timeit.default_timer()\n",
    "poblaciones = pd.read_csv(\"http://www.conapo.gob.mx/work/models/CONAPO/Datos_Abiertos/Proyecciones2018/pob_mit_proyecciones.csv\", encoding=\"latin1\")\n",
    "e = timeit.default_timer() - stime\n",
    "poblaciones\n",
    "print(e)"
   ]
  },
  {
   "cell_type": "code",
   "execution_count": 10,
   "metadata": {},
   "outputs": [],
   "source": [
    "poblacion_2020 = poblaciones[poblaciones[\"AÑO\"] == 2020]\n",
    "poblacion_2020.to_csv(\"C:/Users/user/Desktop/poblacion2020_new.csv\", encoding='latin1', index = False)"
   ]
  },
  {
   "cell_type": "code",
   "execution_count": 9,
   "metadata": {},
   "outputs": [
    {
     "output_type": "execute_result",
     "data": {
      "text/plain": [
       "        RENGLON   AÑO             ENTIDAD  CVE_GEO  EDAD     SEXO  POBLACION\n",
       "15400     15401  2020  República Mexicana        0     0  Hombres    1087447\n",
       "15401     15402  2020  República Mexicana        0     0  Mujeres    1048275\n",
       "15402     15403  2020  República Mexicana        0     1  Hombres    1093379\n",
       "15403     15404  2020  República Mexicana        0     1  Mujeres    1054636\n",
       "15404     15405  2020  República Mexicana        0     2  Hombres    1100800\n",
       "...         ...   ...                 ...      ...   ...      ...        ...\n",
       "585855   585856  2020           Zacatecas       32   107  Mujeres          1\n",
       "585856   585857  2020           Zacatecas       32   108  Hombres          0\n",
       "585857   585858  2020           Zacatecas       32   108  Mujeres          0\n",
       "585858   585859  2020           Zacatecas       32   109  Hombres          0\n",
       "585859   585860  2020           Zacatecas       32   109  Mujeres          0\n",
       "\n",
       "[7260 rows x 7 columns]"
      ],
      "text/html": "<div>\n<style scoped>\n    .dataframe tbody tr th:only-of-type {\n        vertical-align: middle;\n    }\n\n    .dataframe tbody tr th {\n        vertical-align: top;\n    }\n\n    .dataframe thead th {\n        text-align: right;\n    }\n</style>\n<table border=\"1\" class=\"dataframe\">\n  <thead>\n    <tr style=\"text-align: right;\">\n      <th></th>\n      <th>RENGLON</th>\n      <th>AÑO</th>\n      <th>ENTIDAD</th>\n      <th>CVE_GEO</th>\n      <th>EDAD</th>\n      <th>SEXO</th>\n      <th>POBLACION</th>\n    </tr>\n  </thead>\n  <tbody>\n    <tr>\n      <th>15400</th>\n      <td>15401</td>\n      <td>2020</td>\n      <td>República Mexicana</td>\n      <td>0</td>\n      <td>0</td>\n      <td>Hombres</td>\n      <td>1087447</td>\n    </tr>\n    <tr>\n      <th>15401</th>\n      <td>15402</td>\n      <td>2020</td>\n      <td>República Mexicana</td>\n      <td>0</td>\n      <td>0</td>\n      <td>Mujeres</td>\n      <td>1048275</td>\n    </tr>\n    <tr>\n      <th>15402</th>\n      <td>15403</td>\n      <td>2020</td>\n      <td>República Mexicana</td>\n      <td>0</td>\n      <td>1</td>\n      <td>Hombres</td>\n      <td>1093379</td>\n    </tr>\n    <tr>\n      <th>15403</th>\n      <td>15404</td>\n      <td>2020</td>\n      <td>República Mexicana</td>\n      <td>0</td>\n      <td>1</td>\n      <td>Mujeres</td>\n      <td>1054636</td>\n    </tr>\n    <tr>\n      <th>15404</th>\n      <td>15405</td>\n      <td>2020</td>\n      <td>República Mexicana</td>\n      <td>0</td>\n      <td>2</td>\n      <td>Hombres</td>\n      <td>1100800</td>\n    </tr>\n    <tr>\n      <th>...</th>\n      <td>...</td>\n      <td>...</td>\n      <td>...</td>\n      <td>...</td>\n      <td>...</td>\n      <td>...</td>\n      <td>...</td>\n    </tr>\n    <tr>\n      <th>585855</th>\n      <td>585856</td>\n      <td>2020</td>\n      <td>Zacatecas</td>\n      <td>32</td>\n      <td>107</td>\n      <td>Mujeres</td>\n      <td>1</td>\n    </tr>\n    <tr>\n      <th>585856</th>\n      <td>585857</td>\n      <td>2020</td>\n      <td>Zacatecas</td>\n      <td>32</td>\n      <td>108</td>\n      <td>Hombres</td>\n      <td>0</td>\n    </tr>\n    <tr>\n      <th>585857</th>\n      <td>585858</td>\n      <td>2020</td>\n      <td>Zacatecas</td>\n      <td>32</td>\n      <td>108</td>\n      <td>Mujeres</td>\n      <td>0</td>\n    </tr>\n    <tr>\n      <th>585858</th>\n      <td>585859</td>\n      <td>2020</td>\n      <td>Zacatecas</td>\n      <td>32</td>\n      <td>109</td>\n      <td>Hombres</td>\n      <td>0</td>\n    </tr>\n    <tr>\n      <th>585859</th>\n      <td>585860</td>\n      <td>2020</td>\n      <td>Zacatecas</td>\n      <td>32</td>\n      <td>109</td>\n      <td>Mujeres</td>\n      <td>0</td>\n    </tr>\n  </tbody>\n</table>\n<p>7260 rows × 7 columns</p>\n</div>"
     },
     "metadata": {},
     "execution_count": 9
    }
   ],
   "source": [
    "poblacion_2020"
   ]
  },
  {
   "cell_type": "code",
   "execution_count": null,
   "metadata": {},
   "outputs": [],
   "source": [
    "grupos_pob = poblacion_2020.groupby([\"CVE_GEO\",\"ENTIDAD\"])\n",
    "poblacion_tot_estado = grupos_pob[\"POBLACION\"].sum().to_frame(\"POBLACION\").reset_index()   # Sum operation in the POBLACION column of each group"
   ]
  },
  {
   "cell_type": "code",
   "execution_count": null,
   "metadata": {},
   "outputs": [],
   "source": [
    "datos_por_estado = pd.merge(confirmados_por_entidad, poblacion_tot_estado, how = \"left\", left_on = \"CLAVE_ENTIDAD\", right_on = \"CVE_GEO\" )\n",
    "datos_por_estado.columns"
   ]
  },
  {
   "cell_type": "code",
   "execution_count": null,
   "metadata": {},
   "outputs": [],
   "source": [
    "poblacion_tot_estado"
   ]
  },
  {
   "cell_type": "code",
   "execution_count": null,
   "metadata": {},
   "outputs": [],
   "source": [
    "lista_estados = list(datos_por_estado[\"ENTIDAD\"])\n",
    "print(lista_estados)"
   ]
  },
  {
   "cell_type": "code",
   "execution_count": null,
   "metadata": {},
   "outputs": [],
   "source": [
    "# Rate of confirmed case by 100,000 people \n",
    "datos_por_estado[\"TASA DE CASOS POR 100K\"] = 100000 * datos_por_estado[\"Casos confirmados\"]/datos_por_estado[\"POBLACION\"]\n",
    "datos_por_estado.sort_values(\"TASA DE CASOS POR 100K\", ascending = False, inplace = True)\n",
    "datos_por_estado.reset_index(drop = True, inplace = True)\n",
    "datos_por_estado"
   ]
  },
  {
   "cell_type": "code",
   "execution_count": null,
   "metadata": {},
   "outputs": [],
   "source": [
    "# Bar plot of the rate of confirmed cases per 100k persons \n",
    "fig_bar_cases_rate = px.bar(x = datos_por_estado[\"ENTIDAD\"], y = datos_por_estado[\"TASA DE CASOS POR 100K\"],\n",
    "                            labels = dict(y = \"Casos confirmados / 100k personas\" , x = \"\") ,title = \"Tasa de casos confirmados por cada 100,000 personas\")\n",
    "\n",
    "\n",
    "fig_bar_cases_rate.update_traces(marker = dict(color = \"#ff616f\"))\n",
    "#fig_bar_cases_rate.update_xaxes(tickfont = dict(size = 11))\n",
    "fig_bar_cases_rate.show()"
   ]
  },
  {
   "cell_type": "code",
   "execution_count": null,
   "metadata": {},
   "outputs": [],
   "source": [
    "# Grouping by state ENTIDAD_RES and FECHA_INGRESO\n",
    "confirmados_por_estado_fecha = confirmados.groupby([\"ENTIDAD_RES\",\"FECHA_INGRESO\"]).size().to_frame(\"confirmados\").reset_index()\n",
    "confirmados_por_estado_fecha[\"fecha_ingreso\"] = pd.to_datetime(confirmados_por_estado_fecha[\"FECHA_INGRESO\"], format = \"%Y-%m-%d\")\n",
    "\n",
    "\n",
    "confirmados_por_estado_fecha"
   ]
  },
  {
   "cell_type": "code",
   "execution_count": null,
   "metadata": {},
   "outputs": [],
   "source": [
    "defunciones_por_estado_fecha = defunciones.groupby([\"ENTIDAD_RES\", \"FECHA_DEF\"]).size().to_frame(\"defunciones\").reset_index()\n",
    "defunciones_por_estado_fecha[\"fecha_defuncion\"] = pd.to_datetime(defunciones_por_estado_fecha[\"FECHA_DEF\"], format = \"%Y-%m-%d\")\n",
    "defunciones_por_estado_fecha"
   ]
  },
  {
   "cell_type": "code",
   "execution_count": null,
   "metadata": {},
   "outputs": [],
   "source": [
    "entidad_clave = datos_por_estado[\"ENTIDAD\"].to_frame()\n",
    "entidad_clave[\"CLAVE_ENTIDAD\"] = datos_por_estado[\"CLAVE_ENTIDAD\"]\n",
    "# Merge between entidad_cave and confirmados_por_estado_fecha\n",
    "confirmados_por_estado_fecha_clave = pd.merge(confirmados_por_estado_fecha, entidad_clave, how = \"left\", left_on = \"ENTIDAD_RES\", right_on = \"CLAVE_ENTIDAD\")\n",
    "confirmados_por_estado_fecha_clave"
   ]
  },
  {
   "cell_type": "code",
   "execution_count": null,
   "metadata": {},
   "outputs": [],
   "source": [
    "# Merge betweem entidad_clave and defunciones_por_estado_fecha\n",
    "defunciones_por_estado_fecha_clave = pd.merge(defunciones_por_estado_fecha, entidad_clave, how = \"left\", left_on = \"ENTIDAD_RES\", right_on = \"CLAVE_ENTIDAD\")\n",
    "defunciones_por_estado_fecha_clave"
   ]
  },
  {
   "cell_type": "code",
   "execution_count": null,
   "metadata": {},
   "outputs": [],
   "source": [
    "clave_estado = 32\n",
    "confirmados_mich = confirmados_por_estado_fecha_clave[confirmados_por_estado_fecha_clave[\"ENTIDAD_RES\"] == clave_estado]\n",
    "print(\"Total de casos confirmados = \",confirmados_mich[\"confirmados\"].sum())\n",
    "confirmados_mich.reset_index(drop = True, inplace = True)\n",
    "confirmados_mich[\"confirmados_acumulados\"] = commulative_cases(confirmados_mich[\"confirmados\"]) # Accumulated confirmed cases in Mich.\n",
    "confirmados_mich"
   ]
  },
  {
   "cell_type": "code",
   "execution_count": null,
   "metadata": {},
   "outputs": [],
   "source": [
    "defunciones_mich = defunciones_por_estado_fecha_clave[defunciones_por_estado_fecha_clave[\"ENTIDAD_RES\"] == clave_estado ]\n",
    "print(\"Total de defunciones acumuladas = \", defunciones_mich[\"defunciones\"].sum())\n",
    "defunciones_mich.reset_index(drop = True, inplace = True)     \n",
    "defunciones_mich[\"defunciones_acumuladas\"] = commulative_cases(defunciones_mich[\"defunciones\"])\n",
    "defunciones_mich"
   ]
  },
  {
   "cell_type": "code",
   "execution_count": null,
   "metadata": {},
   "outputs": [],
   "source": [
    "#\n",
    "acum_plot(confirmados_mich[\"fecha_ingreso\"],confirmados_mich[\"confirmados_acumulados\"],\n",
    "            defunciones_mich[\"fecha_defuncion\"], defunciones_mich[\"defunciones_acumuladas\"], region = confirmados_mich[\"ENTIDAD\"].iloc[0] )\n",
    "print(\"Total de defunciones acumuladas = \", defunciones_mich[\"defunciones\"].sum())\n",
    "print(\"Total de casos confirmados = \",confirmados_mich[\"confirmados\"].sum())"
   ]
  },
  {
   "cell_type": "code",
   "execution_count": null,
   "metadata": {},
   "outputs": [],
   "source": [
    "show_confirmed_cases(confirmados_mich[\"fecha_ingreso\"],confirmados_mich[\"confirmados\"], region = confirmados_mich[\"ENTIDAD\"].iloc[0], anomalia = False)\n",
    "show_deaths(defunciones_mich[\"fecha_defuncion\"],defunciones_mich[\"defunciones\"], region = confirmados_mich[\"ENTIDAD\"].iloc[0], anomalia = False)"
   ]
  },
  {
   "cell_type": "code",
   "execution_count": null,
   "metadata": {},
   "outputs": [],
   "source": [
    "jhu_daily_reports = pd.read_csv(\"https://raw.githubusercontent.com/CSSEGISandData/COVID-19/master/csse_covid_19_data/csse_covid_19_daily_reports/01-17-2021.csv\", encoding=\"utf-8\")\n",
    "mexico_daily_report = jhu_daily_reports[jhu_daily_reports[\"Country_Region\"] == \"Mexico\"]\n",
    "mexico_daily_report"
   ]
  },
  {
   "cell_type": "code",
   "execution_count": null,
   "metadata": {},
   "outputs": [],
   "source": [
    "\n",
    "start_time = timeit.default_timer()\n",
    "#Casos confirmados reportados por JHU ....\n",
    "jhu_confirmed_time_serie = pd.read_csv(\"https://raw.githubusercontent.com/CSSEGISandData/COVID-19/master/csse_covid_19_data/csse_covid_19_time_series/time_series_covid19_confirmed_global.csv\", encoding = \"utf-8\")\n",
    "jhu_confirmed_mexico = jhu_confirmed_time_serie[jhu_confirmed_time_serie[\"Country/Region\"] == \"Mexico\"]\n",
    "#Muertes reportadas por JHU ...\n",
    "jhu_deaths_time_serie = pd.read_csv(\"https://raw.githubusercontent.com/CSSEGISandData/COVID-19/master/csse_covid_19_data/csse_covid_19_time_series/time_series_covid19_deaths_global.csv\",encoding=\"utf-8\")\n",
    "jhu_deaths_mexico = jhu_deaths_time_serie[jhu_deaths_time_serie[\"Country/Region\"] == \"Mexico\"]\n",
    "#Recuperados reportados por JHU ...\n",
    "jhu_recovered_time_serie = pd.read_csv(\"https://raw.githubusercontent.com/CSSEGISandData/COVID-19/master/csse_covid_19_data/csse_covid_19_time_series/time_series_covid19_recovered_global.csv\",encoding=\"utf-8\")\n",
    "jhu_recovered_mexico = jhu_recovered_time_serie[jhu_recovered_time_serie[\"Country/Region\"] == \"Mexico\"]\n",
    "elapsed = timeit.default_timer() - start_time\n",
    "print(elapsed)"
   ]
  },
  {
   "cell_type": "code",
   "execution_count": null,
   "metadata": {},
   "outputs": [],
   "source": [
    "raw_confirmed_data = jhu_confirmed_mexico.reset_index(drop=True).transpose().reset_index()\n",
    "raw_deats_data = jhu_deaths_mexico.reset_index(drop = True).transpose().reset_index()\n",
    "raw_recovered_data = jhu_recovered_mexico.reset_index(drop = True).transpose().reset_index()\n",
    "raw_recovered_data"
   ]
  },
  {
   "cell_type": "code",
   "execution_count": null,
   "metadata": {},
   "outputs": [],
   "source": [
    "#Insert a character in the ith position\n",
    "def insert_str(init_str, insert_str, i):\n",
    "    return init_str[:i] + insert_str + init_str[i:]"
   ]
  },
  {
   "cell_type": "code",
   "execution_count": null,
   "metadata": {},
   "outputs": [],
   "source": [
    "def insert_commas(string):\n",
    "    step = 3\n",
    "    size = len(string)\n",
    "    quotient = size//step\n",
    "    mod = size % step\n",
    "    \n",
    "    if mod == 0:\n",
    "        commas_number = quotient - 1\n",
    "        init_index = step\n",
    "    else:\n",
    "        commas_number = quotient\n",
    "        init_index = mod \n",
    "\n",
    "    for i in range(commas_number):\n",
    "        string = insert_str(string, \",\", init_index )\n",
    "        init_index = init_index + step + 1\n",
    "    return string"
   ]
  },
  {
   "cell_type": "code",
   "execution_count": null,
   "metadata": {},
   "outputs": [],
   "source": [
    "#Filtrando el numero de casos y fechas de cada dataFrame ...\n",
    "jhu_conf_mex_df = raw_confirmed_data[\"index\"].iloc[4:].to_frame(\"fecha_confirmados\").reset_index(drop = True)\n",
    "jhu_conf_mex_df[\"confirmados\"] = raw_confirmed_data[0].iloc[4:].reset_index(drop = True)\n",
    "jhu_conf_mex_df[\"fecha_confirmados_dateTime\"] = pd.to_datetime(jhu_conf_mex_df[\"fecha_confirmados\"], format = \"%m/%d/%y\")\n",
    "\n",
    "jhu_deaths_mex_df = raw_deats_data[\"index\"].iloc[4:].to_frame(\"fecha_muerte\").reset_index(drop = True)\n",
    "jhu_deaths_mex_df[\"muertes\"] = raw_deats_data[0].iloc[4:].reset_index(drop = True)\n",
    "jhu_deaths_mex_df[\"fecha_muerte_dateTime\"] = pd.to_datetime(jhu_deaths_mex_df[\"fecha_muerte\"], format = \"%m/%d/%y\")\n",
    "\n",
    "jhu_recovered_mex_df = raw_recovered_data[\"index\"].iloc[4:].to_frame(\"fecha_recuperado\").reset_index(drop = True)\n",
    "jhu_recovered_mex_df[\"recuperados\"] = raw_recovered_data[0].iloc[4:].reset_index(drop = True)\n",
    "jhu_recovered_mex_df[\"feha_recuperados_dateTime\"] = pd.to_datetime(jhu_recovered_mex_df[\"fecha_recuperado\"], format = \"%m/%d/%y\")"
   ]
  },
  {
   "cell_type": "code",
   "execution_count": null,
   "metadata": {},
   "outputs": [],
   "source": [
    "# Inserting commas ...\n",
    "str_conf_mex = str(jhu_conf_mex_df[\"confirmados\"].iloc[-1])\n",
    "str_deaths_mex = str(jhu_deaths_mex_df[\"muertes\"].iloc[-1])\n",
    "str_recovered_mex = str(jhu_recovered_mex_df[\"recuperados\"].iloc[-1])\n",
    "#Calling inset_commas function ...\n",
    "str_conf_mex_commas = insert_commas(str_conf_mex)\n",
    "str_recovered_mex_commas = insert_commas(str_recovered_mex)\n",
    "str_deaths_mex_commas = insert_commas(str_deaths_mex)\n",
    "print(str_conf_mex_commas)\n",
    "print(str_recovered_mex_commas)\n",
    "print(str_deaths_mex_commas)"
   ]
  },
  {
   "cell_type": "code",
   "execution_count": null,
   "metadata": {},
   "outputs": [],
   "source": [
    "jhu_deaths_mex_df"
   ]
  },
  {
   "cell_type": "code",
   "execution_count": null,
   "metadata": {},
   "outputs": [],
   "source": [
    "#Graficando los casos confirmados de muertes y confirmados ....\n",
    "acum_plot(jhu_conf_mex_df[\"fecha_confirmados_dateTime\"], jhu_conf_mex_df[\"confirmados\"],\n",
    "            jhu_deaths_mex_df[\"fecha_muerte_dateTime\"], jhu_deaths_mex_df[\"muertes\"], region=\"México\")"
   ]
  },
  {
   "cell_type": "code",
   "execution_count": null,
   "metadata": {},
   "outputs": [],
   "source": [
    "# difference JHU data in order to get daily cases ....\n",
    "def diff(data):\n",
    "    v_1 = np.array(data)\n",
    "    v_2 = np.diff(v_1)\n",
    "    res = np.insert(v_2,0,v_1[0])\n",
    "\n",
    "    return pd.Series(res)"
   ]
  },
  {
   "cell_type": "code",
   "execution_count": null,
   "metadata": {},
   "outputs": [],
   "source": [
    "#Getting daily cases ...\n",
    "jhu_conf_daily = diff(jhu_conf_mex_df[\"confirmados\"])   \n",
    "jhu_conf_mex_df[\"casos diarios\"] = jhu_conf_daily\n",
    "\n",
    "#Getting daily deaths...\n",
    "jhu_daily_deaths = diff(jhu_deaths_mex_df[\"muertes\"]) \n",
    "jhu_deaths_mex_df[\"muertes diarias\"] = jhu_daily_deaths\n",
    "\n",
    "jhu_deaths_mex_df"
   ]
  },
  {
   "cell_type": "code",
   "execution_count": null,
   "metadata": {},
   "outputs": [],
   "source": [
    "jhu_conf_mex_df"
   ]
  },
  {
   "cell_type": "code",
   "execution_count": null,
   "metadata": {},
   "outputs": [],
   "source": [
    " \n",
    " show_confirmed_cases(jhu_conf_mex_df[\"fecha_confirmados_dateTime\"],jhu_conf_mex_df[\"casos diarios\"], region = \"México\", anomalia = True)\n",
    " show_deaths(jhu_deaths_mex_df[\"fecha_muerte_dateTime\"], jhu_deaths_mex_df[\"muertes diarias\"],  region = \"México\", anomalia = True)"
   ]
  },
  {
   "cell_type": "code",
   "execution_count": null,
   "metadata": {},
   "outputs": [],
   "source": [
    "confirmados_por_estado_fecha_clave"
   ]
  }
 ],
 "metadata": {
  "kernelspec": {
   "display_name": "Python 3",
   "language": "python",
   "name": "python3"
  },
  "language_info": {
   "codemirror_mode": {
    "name": "ipython",
    "version": 3
   },
   "file_extension": ".py",
   "mimetype": "text/x-python",
   "name": "python",
   "nbconvert_exporter": "python",
   "pygments_lexer": "ipython3",
   "version": "3.7.1-final"
  }
 },
 "nbformat": 4,
 "nbformat_minor": 2
}