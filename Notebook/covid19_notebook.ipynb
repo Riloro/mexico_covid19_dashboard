{
 "cells": [
  {
   "cell_type": "code",
   "execution_count": 1,
   "metadata": {},
   "outputs": [],
   "source": [
    "import pandas as pd\n",
    "import bokeh.plotting as bpl\n",
    "import bokeh.models as bmd\n",
    "import bokeh.layouts as bly\n",
    "import bokeh.transform as btr\n",
    "import plotly.express as px\n",
    "import plotly.io as pio\n",
    "import plotly.graph_objects as go\n",
    "import numpy as np\n",
    "from datetime import datetime \n",
    "import timeit"
   ]
  },
  {
   "cell_type": "code",
   "execution_count": 2,
   "metadata": {},
   "outputs": [],
   "source": [
    "data = pd.read_csv(\"http://datosabiertos.salud.gob.mx/gobmx/salud/datos_abiertos/datos_abiertos_covid19.zip\", compression = \"zip\", encoding = \"latin1\")"
   ]
  },
  {
   "cell_type": "code",
   "execution_count": 3,
   "metadata": {},
   "outputs": [
    {
     "output_type": "stream",
     "name": "stdout",
     "text": [
      "1.19.5\n"
     ]
    }
   ],
   "source": [
    "pio.templates.default = \"plotly_white\"\n",
    "pio.templates\n",
    "print(np.__version__)"
   ]
  },
  {
   "cell_type": "code",
   "execution_count": 4,
   "metadata": {},
   "outputs": [
    {
     "output_type": "execute_result",
     "data": {
      "text/plain": [
       "        FECHA_ACTUALIZACION ID_REGISTRO  ORIGEN  SECTOR  ENTIDAD_UM  SEXO  \\\n",
       "0                2021-01-18      1426fb       1       4          10     1   \n",
       "1                2021-01-18      1c4583       2      12           9     2   \n",
       "2                2021-01-18      0d55c9       2      12           9     1   \n",
       "3                2021-01-18      1468a5       1       4           5     1   \n",
       "4                2021-01-18      043f64       2       4           9     2   \n",
       "...                     ...         ...     ...     ...         ...   ...   \n",
       "4139016          2021-01-18      2856be       2      12           9     2   \n",
       "4139017          2021-01-18      215a65       2      12           9     1   \n",
       "4139018          2021-01-18      32eab3       2      12           9     2   \n",
       "4139019          2021-01-18      26313e       2      12           9     1   \n",
       "4139020          2021-01-18      4005db       2      12           9     2   \n",
       "\n",
       "         ENTIDAD_NAC  ENTIDAD_RES  MUNICIPIO_RES  TIPO_PACIENTE  ...  \\\n",
       "0                 28           10              7              1  ...   \n",
       "1                  9            9              4              1  ...   \n",
       "2                  9            9             16              1  ...   \n",
       "3                 15            5             18              1  ...   \n",
       "4                  9            9             10              2  ...   \n",
       "...              ...          ...            ...            ...  ...   \n",
       "4139016            9            9             15              1  ...   \n",
       "4139017            9            9              9              1  ...   \n",
       "4139018            9            9             10              1  ...   \n",
       "4139019           12            9             17              1  ...   \n",
       "4139020            9            9              3              1  ...   \n",
       "\n",
       "        OTRO_CASO TOMA_MUESTRA_LAB RESULTADO_LAB  TOMA_MUESTRA_ANTIGENO  \\\n",
       "0              99                1             1                      2   \n",
       "1               2                1             1                      2   \n",
       "2               2                1             1                      2   \n",
       "3               1                1             1                      2   \n",
       "4              99                1             1                      2   \n",
       "...           ...              ...           ...                    ...   \n",
       "4139016         2                2            97                      1   \n",
       "4139017         1                2            97                      1   \n",
       "4139018         1                2            97                      1   \n",
       "4139019        99                2            97                      1   \n",
       "4139020         1                2            97                      1   \n",
       "\n",
       "         RESULTADO_ANTIGENO  CLASIFICACION_FINAL  MIGRANTE  PAIS_NACIONALIDAD  \\\n",
       "0                        97                    3        99            MÃ©xico   \n",
       "1                        97                    3        99            MÃ©xico   \n",
       "2                        97                    3        99            MÃ©xico   \n",
       "3                        97                    3        99            MÃ©xico   \n",
       "4                        97                    3        99            MÃ©xico   \n",
       "...                     ...                  ...       ...                ...   \n",
       "4139016                   2                    7        99            MÃ©xico   \n",
       "4139017                   1                    3        99            MÃ©xico   \n",
       "4139018                   1                    3        99            MÃ©xico   \n",
       "4139019                   2                    7        99            MÃ©xico   \n",
       "4139020                   2                    7        99            MÃ©xico   \n",
       "\n",
       "         PAIS_ORIGEN  UCI  \n",
       "0                 97   97  \n",
       "1                 97   97  \n",
       "2                 97   97  \n",
       "3                 97   97  \n",
       "4                 97    1  \n",
       "...              ...  ...  \n",
       "4139016           97   97  \n",
       "4139017           97   97  \n",
       "4139018           97   97  \n",
       "4139019           97   97  \n",
       "4139020           97   97  \n",
       "\n",
       "[4139021 rows x 40 columns]"
      ],
      "text/html": "<div>\n<style scoped>\n    .dataframe tbody tr th:only-of-type {\n        vertical-align: middle;\n    }\n\n    .dataframe tbody tr th {\n        vertical-align: top;\n    }\n\n    .dataframe thead th {\n        text-align: right;\n    }\n</style>\n<table border=\"1\" class=\"dataframe\">\n  <thead>\n    <tr style=\"text-align: right;\">\n      <th></th>\n      <th>FECHA_ACTUALIZACION</th>\n      <th>ID_REGISTRO</th>\n      <th>ORIGEN</th>\n      <th>SECTOR</th>\n      <th>ENTIDAD_UM</th>\n      <th>SEXO</th>\n      <th>ENTIDAD_NAC</th>\n      <th>ENTIDAD_RES</th>\n      <th>MUNICIPIO_RES</th>\n      <th>TIPO_PACIENTE</th>\n      <th>...</th>\n      <th>OTRO_CASO</th>\n      <th>TOMA_MUESTRA_LAB</th>\n      <th>RESULTADO_LAB</th>\n      <th>TOMA_MUESTRA_ANTIGENO</th>\n      <th>RESULTADO_ANTIGENO</th>\n      <th>CLASIFICACION_FINAL</th>\n      <th>MIGRANTE</th>\n      <th>PAIS_NACIONALIDAD</th>\n      <th>PAIS_ORIGEN</th>\n      <th>UCI</th>\n    </tr>\n  </thead>\n  <tbody>\n    <tr>\n      <th>0</th>\n      <td>2021-01-18</td>\n      <td>1426fb</td>\n      <td>1</td>\n      <td>4</td>\n      <td>10</td>\n      <td>1</td>\n      <td>28</td>\n      <td>10</td>\n      <td>7</td>\n      <td>1</td>\n      <td>...</td>\n      <td>99</td>\n      <td>1</td>\n      <td>1</td>\n      <td>2</td>\n      <td>97</td>\n      <td>3</td>\n      <td>99</td>\n      <td>MÃ©xico</td>\n      <td>97</td>\n      <td>97</td>\n    </tr>\n    <tr>\n      <th>1</th>\n      <td>2021-01-18</td>\n      <td>1c4583</td>\n      <td>2</td>\n      <td>12</td>\n      <td>9</td>\n      <td>2</td>\n      <td>9</td>\n      <td>9</td>\n      <td>4</td>\n      <td>1</td>\n      <td>...</td>\n      <td>2</td>\n      <td>1</td>\n      <td>1</td>\n      <td>2</td>\n      <td>97</td>\n      <td>3</td>\n      <td>99</td>\n      <td>MÃ©xico</td>\n      <td>97</td>\n      <td>97</td>\n    </tr>\n    <tr>\n      <th>2</th>\n      <td>2021-01-18</td>\n      <td>0d55c9</td>\n      <td>2</td>\n      <td>12</td>\n      <td>9</td>\n      <td>1</td>\n      <td>9</td>\n      <td>9</td>\n      <td>16</td>\n      <td>1</td>\n      <td>...</td>\n      <td>2</td>\n      <td>1</td>\n      <td>1</td>\n      <td>2</td>\n      <td>97</td>\n      <td>3</td>\n      <td>99</td>\n      <td>MÃ©xico</td>\n      <td>97</td>\n      <td>97</td>\n    </tr>\n    <tr>\n      <th>3</th>\n      <td>2021-01-18</td>\n      <td>1468a5</td>\n      <td>1</td>\n      <td>4</td>\n      <td>5</td>\n      <td>1</td>\n      <td>15</td>\n      <td>5</td>\n      <td>18</td>\n      <td>1</td>\n      <td>...</td>\n      <td>1</td>\n      <td>1</td>\n      <td>1</td>\n      <td>2</td>\n      <td>97</td>\n      <td>3</td>\n      <td>99</td>\n      <td>MÃ©xico</td>\n      <td>97</td>\n      <td>97</td>\n    </tr>\n    <tr>\n      <th>4</th>\n      <td>2021-01-18</td>\n      <td>043f64</td>\n      <td>2</td>\n      <td>4</td>\n      <td>9</td>\n      <td>2</td>\n      <td>9</td>\n      <td>9</td>\n      <td>10</td>\n      <td>2</td>\n      <td>...</td>\n      <td>99</td>\n      <td>1</td>\n      <td>1</td>\n      <td>2</td>\n      <td>97</td>\n      <td>3</td>\n      <td>99</td>\n      <td>MÃ©xico</td>\n      <td>97</td>\n      <td>1</td>\n    </tr>\n    <tr>\n      <th>...</th>\n      <td>...</td>\n      <td>...</td>\n      <td>...</td>\n      <td>...</td>\n      <td>...</td>\n      <td>...</td>\n      <td>...</td>\n      <td>...</td>\n      <td>...</td>\n      <td>...</td>\n      <td>...</td>\n      <td>...</td>\n      <td>...</td>\n      <td>...</td>\n      <td>...</td>\n      <td>...</td>\n      <td>...</td>\n      <td>...</td>\n      <td>...</td>\n      <td>...</td>\n      <td>...</td>\n    </tr>\n    <tr>\n      <th>4139016</th>\n      <td>2021-01-18</td>\n      <td>2856be</td>\n      <td>2</td>\n      <td>12</td>\n      <td>9</td>\n      <td>2</td>\n      <td>9</td>\n      <td>9</td>\n      <td>15</td>\n      <td>1</td>\n      <td>...</td>\n      <td>2</td>\n      <td>2</td>\n      <td>97</td>\n      <td>1</td>\n      <td>2</td>\n      <td>7</td>\n      <td>99</td>\n      <td>MÃ©xico</td>\n      <td>97</td>\n      <td>97</td>\n    </tr>\n    <tr>\n      <th>4139017</th>\n      <td>2021-01-18</td>\n      <td>215a65</td>\n      <td>2</td>\n      <td>12</td>\n      <td>9</td>\n      <td>1</td>\n      <td>9</td>\n      <td>9</td>\n      <td>9</td>\n      <td>1</td>\n      <td>...</td>\n      <td>1</td>\n      <td>2</td>\n      <td>97</td>\n      <td>1</td>\n      <td>1</td>\n      <td>3</td>\n      <td>99</td>\n      <td>MÃ©xico</td>\n      <td>97</td>\n      <td>97</td>\n    </tr>\n    <tr>\n      <th>4139018</th>\n      <td>2021-01-18</td>\n      <td>32eab3</td>\n      <td>2</td>\n      <td>12</td>\n      <td>9</td>\n      <td>2</td>\n      <td>9</td>\n      <td>9</td>\n      <td>10</td>\n      <td>1</td>\n      <td>...</td>\n      <td>1</td>\n      <td>2</td>\n      <td>97</td>\n      <td>1</td>\n      <td>1</td>\n      <td>3</td>\n      <td>99</td>\n      <td>MÃ©xico</td>\n      <td>97</td>\n      <td>97</td>\n    </tr>\n    <tr>\n      <th>4139019</th>\n      <td>2021-01-18</td>\n      <td>26313e</td>\n      <td>2</td>\n      <td>12</td>\n      <td>9</td>\n      <td>1</td>\n      <td>12</td>\n      <td>9</td>\n      <td>17</td>\n      <td>1</td>\n      <td>...</td>\n      <td>99</td>\n      <td>2</td>\n      <td>97</td>\n      <td>1</td>\n      <td>2</td>\n      <td>7</td>\n      <td>99</td>\n      <td>MÃ©xico</td>\n      <td>97</td>\n      <td>97</td>\n    </tr>\n    <tr>\n      <th>4139020</th>\n      <td>2021-01-18</td>\n      <td>4005db</td>\n      <td>2</td>\n      <td>12</td>\n      <td>9</td>\n      <td>2</td>\n      <td>9</td>\n      <td>9</td>\n      <td>3</td>\n      <td>1</td>\n      <td>...</td>\n      <td>1</td>\n      <td>2</td>\n      <td>97</td>\n      <td>1</td>\n      <td>2</td>\n      <td>7</td>\n      <td>99</td>\n      <td>MÃ©xico</td>\n      <td>97</td>\n      <td>97</td>\n    </tr>\n  </tbody>\n</table>\n<p>4139021 rows × 40 columns</p>\n</div>"
     },
     "metadata": {},
     "execution_count": 4
    }
   ],
   "source": [
    "data "
   ]
  },
  {
   "cell_type": "code",
   "execution_count": 5,
   "metadata": {},
   "outputs": [
    {
     "output_type": "execute_result",
     "data": {
      "text/plain": [
       "'18/01/2021'"
      ]
     },
     "metadata": {},
     "execution_count": 5
    }
   ],
   "source": [
    "last_update = data[\"FECHA_ACTUALIZACION\"].iloc[0]\n",
    "date_last_update = datetime.strptime(last_update, '%Y-%m-%d')\n",
    "\n",
    "if date_last_update.day < 10:\n",
    "    day = \"0\" + str(date_last_update.day) \n",
    "else:\n",
    "    day = str(date_last_update.day) \n",
    "\n",
    "if date_last_update.month < 10:\n",
    "    month = \"0\" + str(date_last_update.month)\n",
    "else:\n",
    "    month = str(date_last_update.month)\n",
    "\n",
    "str_last_update = day + \"/\" + month + \"/\" + str(date_last_update.year) \n",
    "str_last_update"
   ]
  },
  {
   "cell_type": "code",
   "execution_count": 6,
   "metadata": {},
   "outputs": [
    {
     "output_type": "execute_result",
     "data": {
      "text/plain": [
       "        FECHA_ACTUALIZACION FECHA_SINTOMAS FECHA_INGRESO   FECHA_DEF\n",
       "0                2021-01-18     2020-03-29    2020-03-31  9999-99-99\n",
       "1                2021-01-18     2020-03-30    2020-03-30  9999-99-99\n",
       "2                2021-01-18     2020-03-24    2020-03-26  9999-99-99\n",
       "3                2021-01-18     2020-03-27    2020-04-02  9999-99-99\n",
       "4                2021-01-18     2020-03-26    2020-03-26  2020-03-30\n",
       "...                     ...            ...           ...         ...\n",
       "4139016          2021-01-18     2021-01-04    2021-01-07  9999-99-99\n",
       "4139017          2021-01-18     2021-01-04    2021-01-09  9999-99-99\n",
       "4139018          2021-01-18     2021-01-05    2021-01-09  9999-99-99\n",
       "4139019          2021-01-18     2021-01-07    2021-01-08  9999-99-99\n",
       "4139020          2021-01-18     2020-12-31    2021-01-09  9999-99-99\n",
       "\n",
       "[4139021 rows x 4 columns]"
      ],
      "text/html": "<div>\n<style scoped>\n    .dataframe tbody tr th:only-of-type {\n        vertical-align: middle;\n    }\n\n    .dataframe tbody tr th {\n        vertical-align: top;\n    }\n\n    .dataframe thead th {\n        text-align: right;\n    }\n</style>\n<table border=\"1\" class=\"dataframe\">\n  <thead>\n    <tr style=\"text-align: right;\">\n      <th></th>\n      <th>FECHA_ACTUALIZACION</th>\n      <th>FECHA_SINTOMAS</th>\n      <th>FECHA_INGRESO</th>\n      <th>FECHA_DEF</th>\n    </tr>\n  </thead>\n  <tbody>\n    <tr>\n      <th>0</th>\n      <td>2021-01-18</td>\n      <td>2020-03-29</td>\n      <td>2020-03-31</td>\n      <td>9999-99-99</td>\n    </tr>\n    <tr>\n      <th>1</th>\n      <td>2021-01-18</td>\n      <td>2020-03-30</td>\n      <td>2020-03-30</td>\n      <td>9999-99-99</td>\n    </tr>\n    <tr>\n      <th>2</th>\n      <td>2021-01-18</td>\n      <td>2020-03-24</td>\n      <td>2020-03-26</td>\n      <td>9999-99-99</td>\n    </tr>\n    <tr>\n      <th>3</th>\n      <td>2021-01-18</td>\n      <td>2020-03-27</td>\n      <td>2020-04-02</td>\n      <td>9999-99-99</td>\n    </tr>\n    <tr>\n      <th>4</th>\n      <td>2021-01-18</td>\n      <td>2020-03-26</td>\n      <td>2020-03-26</td>\n      <td>2020-03-30</td>\n    </tr>\n    <tr>\n      <th>...</th>\n      <td>...</td>\n      <td>...</td>\n      <td>...</td>\n      <td>...</td>\n    </tr>\n    <tr>\n      <th>4139016</th>\n      <td>2021-01-18</td>\n      <td>2021-01-04</td>\n      <td>2021-01-07</td>\n      <td>9999-99-99</td>\n    </tr>\n    <tr>\n      <th>4139017</th>\n      <td>2021-01-18</td>\n      <td>2021-01-04</td>\n      <td>2021-01-09</td>\n      <td>9999-99-99</td>\n    </tr>\n    <tr>\n      <th>4139018</th>\n      <td>2021-01-18</td>\n      <td>2021-01-05</td>\n      <td>2021-01-09</td>\n      <td>9999-99-99</td>\n    </tr>\n    <tr>\n      <th>4139019</th>\n      <td>2021-01-18</td>\n      <td>2021-01-07</td>\n      <td>2021-01-08</td>\n      <td>9999-99-99</td>\n    </tr>\n    <tr>\n      <th>4139020</th>\n      <td>2021-01-18</td>\n      <td>2020-12-31</td>\n      <td>2021-01-09</td>\n      <td>9999-99-99</td>\n    </tr>\n  </tbody>\n</table>\n<p>4139021 rows × 4 columns</p>\n</div>"
     },
     "metadata": {},
     "execution_count": 6
    }
   ],
   "source": [
    "data[[\"FECHA_ACTUALIZACION\", \"FECHA_SINTOMAS\",\"FECHA_INGRESO\",\"FECHA_DEF\"]] #COLUMNA QUE ME INTERESA DataFrame de una columna -----> Serie"
   ]
  },
  {
   "cell_type": "code",
   "execution_count": 7,
   "metadata": {},
   "outputs": [
    {
     "output_type": "execute_result",
     "data": {
      "text/plain": [
       "        FECHA_ACTUALIZACION ID_REGISTRO  ORIGEN\n",
       "0                2021-01-18      1426fb       1\n",
       "1                2021-01-18      1c4583       2\n",
       "2                2021-01-18      0d55c9       2\n",
       "3                2021-01-18      1468a5       1\n",
       "4                2021-01-18      043f64       2\n",
       "...                     ...         ...     ...\n",
       "4139016          2021-01-18      2856be       2\n",
       "4139017          2021-01-18      215a65       2\n",
       "4139018          2021-01-18      32eab3       2\n",
       "4139019          2021-01-18      26313e       2\n",
       "4139020          2021-01-18      4005db       2\n",
       "\n",
       "[4139021 rows x 3 columns]"
      ],
      "text/html": "<div>\n<style scoped>\n    .dataframe tbody tr th:only-of-type {\n        vertical-align: middle;\n    }\n\n    .dataframe tbody tr th {\n        vertical-align: top;\n    }\n\n    .dataframe thead th {\n        text-align: right;\n    }\n</style>\n<table border=\"1\" class=\"dataframe\">\n  <thead>\n    <tr style=\"text-align: right;\">\n      <th></th>\n      <th>FECHA_ACTUALIZACION</th>\n      <th>ID_REGISTRO</th>\n      <th>ORIGEN</th>\n    </tr>\n  </thead>\n  <tbody>\n    <tr>\n      <th>0</th>\n      <td>2021-01-18</td>\n      <td>1426fb</td>\n      <td>1</td>\n    </tr>\n    <tr>\n      <th>1</th>\n      <td>2021-01-18</td>\n      <td>1c4583</td>\n      <td>2</td>\n    </tr>\n    <tr>\n      <th>2</th>\n      <td>2021-01-18</td>\n      <td>0d55c9</td>\n      <td>2</td>\n    </tr>\n    <tr>\n      <th>3</th>\n      <td>2021-01-18</td>\n      <td>1468a5</td>\n      <td>1</td>\n    </tr>\n    <tr>\n      <th>4</th>\n      <td>2021-01-18</td>\n      <td>043f64</td>\n      <td>2</td>\n    </tr>\n    <tr>\n      <th>...</th>\n      <td>...</td>\n      <td>...</td>\n      <td>...</td>\n    </tr>\n    <tr>\n      <th>4139016</th>\n      <td>2021-01-18</td>\n      <td>2856be</td>\n      <td>2</td>\n    </tr>\n    <tr>\n      <th>4139017</th>\n      <td>2021-01-18</td>\n      <td>215a65</td>\n      <td>2</td>\n    </tr>\n    <tr>\n      <th>4139018</th>\n      <td>2021-01-18</td>\n      <td>32eab3</td>\n      <td>2</td>\n    </tr>\n    <tr>\n      <th>4139019</th>\n      <td>2021-01-18</td>\n      <td>26313e</td>\n      <td>2</td>\n    </tr>\n    <tr>\n      <th>4139020</th>\n      <td>2021-01-18</td>\n      <td>4005db</td>\n      <td>2</td>\n    </tr>\n  </tbody>\n</table>\n<p>4139021 rows × 3 columns</p>\n</div>"
     },
     "metadata": {},
     "execution_count": 7
    }
   ],
   "source": [
    "data[['FECHA_ACTUALIZACION', 'ID_REGISTRO', 'ORIGEN']]"
   ]
  },
  {
   "cell_type": "code",
   "execution_count": 8,
   "metadata": {},
   "outputs": [
    {
     "output_type": "execute_result",
     "data": {
      "text/plain": [
       "FECHA_ACTUALIZACION      2021-01-18\n",
       "ID_REGISTRO                  092521\n",
       "ORIGEN                            1\n",
       "SECTOR                           12\n",
       "ENTIDAD_UM                        9\n",
       "SEXO                              1\n",
       "ENTIDAD_NAC                       9\n",
       "ENTIDAD_RES                       9\n",
       "MUNICIPIO_RES                    17\n",
       "TIPO_PACIENTE                     1\n",
       "FECHA_INGRESO            2020-03-30\n",
       "FECHA_SINTOMAS           2020-03-28\n",
       "FECHA_DEF                9999-99-99\n",
       "INTUBADO                         97\n",
       "NEUMONIA                          2\n",
       "EDAD                             49\n",
       "NACIONALIDAD                      1\n",
       "EMBARAZO                          2\n",
       "HABLA_LENGUA_INDIG                2\n",
       "INDIGENA                          2\n",
       "DIABETES                          2\n",
       "EPOC                              2\n",
       "ASMA                              2\n",
       "INMUSUPR                          2\n",
       "HIPERTENSION                      2\n",
       "OTRA_COM                          2\n",
       "CARDIOVASCULAR                    2\n",
       "OBESIDAD                          2\n",
       "RENAL_CRONICA                     2\n",
       "TABAQUISMO                        2\n",
       "OTRO_CASO                         2\n",
       "TOMA_MUESTRA_LAB                  1\n",
       "RESULTADO_LAB                     1\n",
       "TOMA_MUESTRA_ANTIGENO             2\n",
       "RESULTADO_ANTIGENO               97\n",
       "CLASIFICACION_FINAL               3\n",
       "MIGRANTE                         99\n",
       "PAIS_NACIONALIDAD           MÃ©xico\n",
       "PAIS_ORIGEN                      97\n",
       "UCI                              97\n",
       "Name: 10, dtype: object"
      ]
     },
     "metadata": {},
     "execution_count": 8
    }
   ],
   "source": [
    "data.loc[10] #INFORMACION DE LA FILA 10"
   ]
  },
  {
   "cell_type": "code",
   "execution_count": 9,
   "metadata": {},
   "outputs": [
    {
     "output_type": "execute_result",
     "data": {
      "text/plain": [
       "  FECHA_ACTUALIZACION ID_REGISTRO  ORIGEN  SECTOR  ENTIDAD_UM  SEXO  \\\n",
       "1          2021-01-18      1c4583       2      12           9     2   \n",
       "3          2021-01-18      1468a5       1       4           5     1   \n",
       "6          2021-01-18      13757c       1      12          15     1   \n",
       "\n",
       "   ENTIDAD_NAC  ENTIDAD_RES  MUNICIPIO_RES  TIPO_PACIENTE  ... OTRO_CASO  \\\n",
       "1            9            9              4              1  ...         2   \n",
       "3           15            5             18              1  ...         1   \n",
       "6           15           15            106              1  ...         1   \n",
       "\n",
       "  TOMA_MUESTRA_LAB RESULTADO_LAB  TOMA_MUESTRA_ANTIGENO  RESULTADO_ANTIGENO  \\\n",
       "1                1             1                      2                  97   \n",
       "3                1             1                      2                  97   \n",
       "6                1             1                      2                  97   \n",
       "\n",
       "   CLASIFICACION_FINAL  MIGRANTE  PAIS_NACIONALIDAD  PAIS_ORIGEN  UCI  \n",
       "1                    3        99            MÃ©xico           97   97  \n",
       "3                    3        99            MÃ©xico           97   97  \n",
       "6                    3        99            MÃ©xico           97   97  \n",
       "\n",
       "[3 rows x 40 columns]"
      ],
      "text/html": "<div>\n<style scoped>\n    .dataframe tbody tr th:only-of-type {\n        vertical-align: middle;\n    }\n\n    .dataframe tbody tr th {\n        vertical-align: top;\n    }\n\n    .dataframe thead th {\n        text-align: right;\n    }\n</style>\n<table border=\"1\" class=\"dataframe\">\n  <thead>\n    <tr style=\"text-align: right;\">\n      <th></th>\n      <th>FECHA_ACTUALIZACION</th>\n      <th>ID_REGISTRO</th>\n      <th>ORIGEN</th>\n      <th>SECTOR</th>\n      <th>ENTIDAD_UM</th>\n      <th>SEXO</th>\n      <th>ENTIDAD_NAC</th>\n      <th>ENTIDAD_RES</th>\n      <th>MUNICIPIO_RES</th>\n      <th>TIPO_PACIENTE</th>\n      <th>...</th>\n      <th>OTRO_CASO</th>\n      <th>TOMA_MUESTRA_LAB</th>\n      <th>RESULTADO_LAB</th>\n      <th>TOMA_MUESTRA_ANTIGENO</th>\n      <th>RESULTADO_ANTIGENO</th>\n      <th>CLASIFICACION_FINAL</th>\n      <th>MIGRANTE</th>\n      <th>PAIS_NACIONALIDAD</th>\n      <th>PAIS_ORIGEN</th>\n      <th>UCI</th>\n    </tr>\n  </thead>\n  <tbody>\n    <tr>\n      <th>1</th>\n      <td>2021-01-18</td>\n      <td>1c4583</td>\n      <td>2</td>\n      <td>12</td>\n      <td>9</td>\n      <td>2</td>\n      <td>9</td>\n      <td>9</td>\n      <td>4</td>\n      <td>1</td>\n      <td>...</td>\n      <td>2</td>\n      <td>1</td>\n      <td>1</td>\n      <td>2</td>\n      <td>97</td>\n      <td>3</td>\n      <td>99</td>\n      <td>MÃ©xico</td>\n      <td>97</td>\n      <td>97</td>\n    </tr>\n    <tr>\n      <th>3</th>\n      <td>2021-01-18</td>\n      <td>1468a5</td>\n      <td>1</td>\n      <td>4</td>\n      <td>5</td>\n      <td>1</td>\n      <td>15</td>\n      <td>5</td>\n      <td>18</td>\n      <td>1</td>\n      <td>...</td>\n      <td>1</td>\n      <td>1</td>\n      <td>1</td>\n      <td>2</td>\n      <td>97</td>\n      <td>3</td>\n      <td>99</td>\n      <td>MÃ©xico</td>\n      <td>97</td>\n      <td>97</td>\n    </tr>\n    <tr>\n      <th>6</th>\n      <td>2021-01-18</td>\n      <td>13757c</td>\n      <td>1</td>\n      <td>12</td>\n      <td>15</td>\n      <td>1</td>\n      <td>15</td>\n      <td>15</td>\n      <td>106</td>\n      <td>1</td>\n      <td>...</td>\n      <td>1</td>\n      <td>1</td>\n      <td>1</td>\n      <td>2</td>\n      <td>97</td>\n      <td>3</td>\n      <td>99</td>\n      <td>MÃ©xico</td>\n      <td>97</td>\n      <td>97</td>\n    </tr>\n  </tbody>\n</table>\n<p>3 rows × 40 columns</p>\n</div>"
     },
     "metadata": {},
     "execution_count": 9
    }
   ],
   "source": [
    "data.loc[[1,3,6]]"
   ]
  },
  {
   "cell_type": "code",
   "execution_count": 10,
   "metadata": {},
   "outputs": [
    {
     "output_type": "execute_result",
     "data": {
      "text/plain": [
       "7    2075246\n",
       "3    1574639\n",
       "6     345140\n",
       "1      72385\n",
       "5      58932\n",
       "4      10201\n",
       "2       2478\n",
       "Name: CLASIFICACION_FINAL, dtype: int64"
      ]
     },
     "metadata": {},
     "execution_count": 10
    }
   ],
   "source": [
    "#Casos negativos, sospechosos y activos\n",
    "data[\"CLASIFICACION_FINAL\"].value_counts()"
   ]
  },
  {
   "cell_type": "code",
   "execution_count": 11,
   "metadata": {},
   "outputs": [],
   "source": [
    "#Casos negativos ---> 7\n",
    "condicion_negativos = data[\"CLASIFICACION_FINAL\"] == 7"
   ]
  },
  {
   "cell_type": "code",
   "execution_count": 12,
   "metadata": {},
   "outputs": [
    {
     "output_type": "execute_result",
     "data": {
      "text/plain": [
       "True     2075246\n",
       "False    2063775\n",
       "Name: CLASIFICACION_FINAL, dtype: int64"
      ]
     },
     "metadata": {},
     "execution_count": 12
    }
   ],
   "source": [
    "condicion_negativos.value_counts()"
   ]
  },
  {
   "cell_type": "code",
   "execution_count": 13,
   "metadata": {},
   "outputs": [
    {
     "output_type": "stream",
     "name": "stdout",
     "text": [
      "Casos Negativos = 2075246\n"
     ]
    }
   ],
   "source": [
    " negativos = data[condicion_negativos] #Filtrando el data FRAME para casos negativos\n",
    " print(\"Casos Negativos =\",len(negativos))"
   ]
  },
  {
   "cell_type": "code",
   "execution_count": 14,
   "metadata": {},
   "outputs": [
    {
     "output_type": "stream",
     "name": "stdout",
     "text": [
      "Casos confirmados = 1649502\n"
     ]
    }
   ],
   "source": [
    "# 1,2,3 CASOS CONFIRMADOS\n",
    "confirmados = data[data[\"CLASIFICACION_FINAL\"].isin([1,2,3])]\n",
    "print(\"Casos confirmados =\",len(confirmados))"
   ]
  },
  {
   "cell_type": "code",
   "execution_count": 15,
   "metadata": {},
   "outputs": [
    {
     "output_type": "execute_result",
     "data": {
      "text/plain": [
       "3    1574639\n",
       "1      72385\n",
       "2       2478\n",
       "Name: CLASIFICACION_FINAL, dtype: int64"
      ]
     },
     "metadata": {},
     "execution_count": 15
    }
   ],
   "source": [
    "confirmados[\"CLASIFICACION_FINAL\"].value_counts()"
   ]
  },
  {
   "cell_type": "code",
   "execution_count": 16,
   "metadata": {},
   "outputs": [
    {
     "output_type": "stream",
     "name": "stdout",
     "text": [
      "Sospechosos Totales =  345140\n"
     ]
    }
   ],
   "source": [
    "#CASOS SORPECHOSOS 6 --> sospechosos sin muestra\", \"sospechosos con posibilidad de resultado\" y \"sospechosos sin posibilidad de resultado\".\n",
    "sospechosos = data[data[\"CLASIFICACION_FINAL\"] == 6]\n",
    "print(\"Sospechosos Totales = \", len(sospechosos))"
   ]
  },
  {
   "cell_type": "code",
   "execution_count": 17,
   "metadata": {},
   "outputs": [
    {
     "output_type": "stream",
     "name": "stdout",
     "text": [
      "Sospechosos sin muestra = 237614\n"
     ]
    }
   ],
   "source": [
    "sospechosos_sin_muestra=data[(data[\"CLASIFICACION_FINAL\"]==6)&(data[\"RESULTADO_LAB\"]==97)]\n",
    "#sospechosos_sin_muestra\n",
    "print(\"Sospechosos sin muestra =\",len(sospechosos_sin_muestra))"
   ]
  },
  {
   "cell_type": "code",
   "execution_count": 18,
   "metadata": {},
   "outputs": [
    {
     "output_type": "stream",
     "name": "stdout",
     "text": [
      "Sospechosos con posibilidad = 24931\n"
     ]
    }
   ],
   "source": [
    "sospechosos_con_posibilidad =data[(data[\"CLASIFICACION_FINAL\"]==6)&(data[\"RESULTADO_LAB\"]==3)]\n",
    "#sospechosos_sin_muestra\n",
    "print(\"Sospechosos con posibilidad =\",len(sospechosos_con_posibilidad))"
   ]
  },
  {
   "cell_type": "code",
   "execution_count": 19,
   "metadata": {},
   "outputs": [
    {
     "output_type": "stream",
     "name": "stdout",
     "text": [
      "Sospechosos sin posibilidad = 151728\n"
     ]
    }
   ],
   "source": [
    "sospechosos_sin_posibilidad=data[(data[\"CLASIFICACION_FINAL\"].isin([6,5,4]))&(data[\"RESULTADO_LAB\"].isin([4]))]\n",
    "print(\"Sospechosos sin posibilidad =\", len(sospechosos_sin_posibilidad))"
   ]
  },
  {
   "cell_type": "code",
   "execution_count": 20,
   "metadata": {},
   "outputs": [
    {
     "output_type": "execute_result",
     "data": {
      "text/plain": [
       "Index(['FECHA_ACTUALIZACION', 'ID_REGISTRO', 'ORIGEN', 'SECTOR', 'ENTIDAD_UM',\n",
       "       'SEXO', 'ENTIDAD_NAC', 'ENTIDAD_RES', 'MUNICIPIO_RES', 'TIPO_PACIENTE',\n",
       "       'FECHA_INGRESO', 'FECHA_SINTOMAS', 'FECHA_DEF', 'INTUBADO', 'NEUMONIA',\n",
       "       'EDAD', 'NACIONALIDAD', 'EMBARAZO', 'HABLA_LENGUA_INDIG', 'INDIGENA',\n",
       "       'DIABETES', 'EPOC', 'ASMA', 'INMUSUPR', 'HIPERTENSION', 'OTRA_COM',\n",
       "       'CARDIOVASCULAR', 'OBESIDAD', 'RENAL_CRONICA', 'TABAQUISMO',\n",
       "       'OTRO_CASO', 'TOMA_MUESTRA_LAB', 'RESULTADO_LAB',\n",
       "       'TOMA_MUESTRA_ANTIGENO', 'RESULTADO_ANTIGENO', 'CLASIFICACION_FINAL',\n",
       "       'MIGRANTE', 'PAIS_NACIONALIDAD', 'PAIS_ORIGEN', 'UCI'],\n",
       "      dtype='object')"
      ]
     },
     "metadata": {},
     "execution_count": 20
    }
   ],
   "source": [
    "#Buscando defunciones \n",
    "data.columns"
   ]
  },
  {
   "cell_type": "code",
   "execution_count": 21,
   "metadata": {},
   "outputs": [],
   "source": [
    "#data[\"FECHA_DEF\"].value_counts()"
   ]
  },
  {
   "cell_type": "code",
   "execution_count": 22,
   "metadata": {},
   "outputs": [
    {
     "output_type": "stream",
     "name": "stdout",
     "text": [
      "Defunciones = 141248\n"
     ]
    }
   ],
   "source": [
    "defunciones = confirmados[confirmados[\"FECHA_DEF\"] != \"9999-99-99\"]\n",
    "print(\"Defunciones =\", len(defunciones))\n"
   ]
  },
  {
   "cell_type": "code",
   "execution_count": 23,
   "metadata": {},
   "outputs": [
    {
     "output_type": "execute_result",
     "data": {
      "text/plain": [
       "    FECHA_INGRESO  confirmados\n",
       "0      2020-01-13            1\n",
       "1      2020-01-28            1\n",
       "2      2020-01-29            1\n",
       "3      2020-02-10            1\n",
       "4      2020-02-19            1\n",
       "..            ...          ...\n",
       "327    2021-01-14        13260\n",
       "328    2021-01-15        10362\n",
       "329    2021-01-16         4049\n",
       "330    2021-01-17         1371\n",
       "331    2021-01-18           62\n",
       "\n",
       "[332 rows x 2 columns]"
      ],
      "text/html": "<div>\n<style scoped>\n    .dataframe tbody tr th:only-of-type {\n        vertical-align: middle;\n    }\n\n    .dataframe tbody tr th {\n        vertical-align: top;\n    }\n\n    .dataframe thead th {\n        text-align: right;\n    }\n</style>\n<table border=\"1\" class=\"dataframe\">\n  <thead>\n    <tr style=\"text-align: right;\">\n      <th></th>\n      <th>FECHA_INGRESO</th>\n      <th>confirmados</th>\n    </tr>\n  </thead>\n  <tbody>\n    <tr>\n      <th>0</th>\n      <td>2020-01-13</td>\n      <td>1</td>\n    </tr>\n    <tr>\n      <th>1</th>\n      <td>2020-01-28</td>\n      <td>1</td>\n    </tr>\n    <tr>\n      <th>2</th>\n      <td>2020-01-29</td>\n      <td>1</td>\n    </tr>\n    <tr>\n      <th>3</th>\n      <td>2020-02-10</td>\n      <td>1</td>\n    </tr>\n    <tr>\n      <th>4</th>\n      <td>2020-02-19</td>\n      <td>1</td>\n    </tr>\n    <tr>\n      <th>...</th>\n      <td>...</td>\n      <td>...</td>\n    </tr>\n    <tr>\n      <th>327</th>\n      <td>2021-01-14</td>\n      <td>13260</td>\n    </tr>\n    <tr>\n      <th>328</th>\n      <td>2021-01-15</td>\n      <td>10362</td>\n    </tr>\n    <tr>\n      <th>329</th>\n      <td>2021-01-16</td>\n      <td>4049</td>\n    </tr>\n    <tr>\n      <th>330</th>\n      <td>2021-01-17</td>\n      <td>1371</td>\n    </tr>\n    <tr>\n      <th>331</th>\n      <td>2021-01-18</td>\n      <td>62</td>\n    </tr>\n  </tbody>\n</table>\n<p>332 rows × 2 columns</p>\n</div>"
     },
     "metadata": {},
     "execution_count": 23
    }
   ],
   "source": [
    "grupos = confirmados.groupby(\"FECHA_INGRESO\")  #agrupando por fecha\n",
    "confirmados_por_fecha = grupos.size().to_frame(\"confirmados\").reset_index()   #INICIALMENTE grupos.size() es una serie con la fecha como ind\n",
    "confirmados_por_fecha"
   ]
  },
  {
   "cell_type": "code",
   "execution_count": 24,
   "metadata": {},
   "outputs": [
    {
     "output_type": "execute_result",
     "data": {
      "text/plain": [
       "FECHA_INGRESO    object\n",
       "confirmados       int64\n",
       "dtype: object"
      ]
     },
     "metadata": {},
     "execution_count": 24
    }
   ],
   "source": [
    "confirmados_por_fecha.dtypes"
   ]
  },
  {
   "cell_type": "code",
   "execution_count": 25,
   "metadata": {},
   "outputs": [
    {
     "output_type": "execute_result",
     "data": {
      "text/plain": [
       "0    2020-01-13\n",
       "1    2020-01-28\n",
       "2    2020-01-29\n",
       "Name: FECHA_INGRESO, dtype: object"
      ]
     },
     "metadata": {},
     "execution_count": 25
    }
   ],
   "source": [
    "confirmados_por_fecha[\"FECHA_INGRESO\"][:3]"
   ]
  },
  {
   "cell_type": "code",
   "execution_count": 26,
   "metadata": {},
   "outputs": [
    {
     "output_type": "execute_result",
     "data": {
      "text/plain": [
       "    FECHA_INGRESO  confirmados fecha_ingreso\n",
       "0      2020-01-13            1    2020-01-13\n",
       "1      2020-01-28            1    2020-01-28\n",
       "2      2020-01-29            1    2020-01-29\n",
       "3      2020-02-10            1    2020-02-10\n",
       "4      2020-02-19            1    2020-02-19\n",
       "..            ...          ...           ...\n",
       "327    2021-01-14        13260    2021-01-14\n",
       "328    2021-01-15        10362    2021-01-15\n",
       "329    2021-01-16         4049    2021-01-16\n",
       "330    2021-01-17         1371    2021-01-17\n",
       "331    2021-01-18           62    2021-01-18\n",
       "\n",
       "[332 rows x 3 columns]"
      ],
      "text/html": "<div>\n<style scoped>\n    .dataframe tbody tr th:only-of-type {\n        vertical-align: middle;\n    }\n\n    .dataframe tbody tr th {\n        vertical-align: top;\n    }\n\n    .dataframe thead th {\n        text-align: right;\n    }\n</style>\n<table border=\"1\" class=\"dataframe\">\n  <thead>\n    <tr style=\"text-align: right;\">\n      <th></th>\n      <th>FECHA_INGRESO</th>\n      <th>confirmados</th>\n      <th>fecha_ingreso</th>\n    </tr>\n  </thead>\n  <tbody>\n    <tr>\n      <th>0</th>\n      <td>2020-01-13</td>\n      <td>1</td>\n      <td>2020-01-13</td>\n    </tr>\n    <tr>\n      <th>1</th>\n      <td>2020-01-28</td>\n      <td>1</td>\n      <td>2020-01-28</td>\n    </tr>\n    <tr>\n      <th>2</th>\n      <td>2020-01-29</td>\n      <td>1</td>\n      <td>2020-01-29</td>\n    </tr>\n    <tr>\n      <th>3</th>\n      <td>2020-02-10</td>\n      <td>1</td>\n      <td>2020-02-10</td>\n    </tr>\n    <tr>\n      <th>4</th>\n      <td>2020-02-19</td>\n      <td>1</td>\n      <td>2020-02-19</td>\n    </tr>\n    <tr>\n      <th>...</th>\n      <td>...</td>\n      <td>...</td>\n      <td>...</td>\n    </tr>\n    <tr>\n      <th>327</th>\n      <td>2021-01-14</td>\n      <td>13260</td>\n      <td>2021-01-14</td>\n    </tr>\n    <tr>\n      <th>328</th>\n      <td>2021-01-15</td>\n      <td>10362</td>\n      <td>2021-01-15</td>\n    </tr>\n    <tr>\n      <th>329</th>\n      <td>2021-01-16</td>\n      <td>4049</td>\n      <td>2021-01-16</td>\n    </tr>\n    <tr>\n      <th>330</th>\n      <td>2021-01-17</td>\n      <td>1371</td>\n      <td>2021-01-17</td>\n    </tr>\n    <tr>\n      <th>331</th>\n      <td>2021-01-18</td>\n      <td>62</td>\n      <td>2021-01-18</td>\n    </tr>\n  </tbody>\n</table>\n<p>332 rows × 3 columns</p>\n</div>"
     },
     "metadata": {},
     "execution_count": 26
    }
   ],
   "source": [
    "confirmados_por_fecha[\"fecha_ingreso\"] = pd.to_datetime(confirmados_por_fecha[\"FECHA_INGRESO\"], format = \"%Y-%m-%d\")\n",
    "confirmados_por_fecha"
   ]
  },
  {
   "cell_type": "code",
   "execution_count": 27,
   "metadata": {},
   "outputs": [
    {
     "output_type": "execute_result",
     "data": {
      "text/plain": [
       "FECHA_INGRESO            object\n",
       "confirmados               int64\n",
       "fecha_ingreso    datetime64[ns]\n",
       "dtype: object"
      ]
     },
     "metadata": {},
     "execution_count": 27
    }
   ],
   "source": [
    "confirmados_por_fecha.dtypes"
   ]
  },
  {
   "cell_type": "code",
   "execution_count": 28,
   "metadata": {},
   "outputs": [
    {
     "output_type": "execute_result",
     "data": {
      "text/plain": [
       "      FECHA_DEF  defunciones fecha_defuncion\n",
       "0    2020-03-03            1      2020-03-03\n",
       "1    2020-03-13            1      2020-03-13\n",
       "2    2020-03-17            1      2020-03-17\n",
       "3    2020-03-18            2      2020-03-18\n",
       "4    2020-03-20            1      2020-03-20\n",
       "..          ...          ...             ...\n",
       "303  2021-01-14          597      2021-01-14\n",
       "304  2021-01-15          366      2021-01-15\n",
       "305  2021-01-16          290      2021-01-16\n",
       "306  2021-01-17          199      2021-01-17\n",
       "307  2021-01-18            1      2021-01-18\n",
       "\n",
       "[308 rows x 3 columns]"
      ],
      "text/html": "<div>\n<style scoped>\n    .dataframe tbody tr th:only-of-type {\n        vertical-align: middle;\n    }\n\n    .dataframe tbody tr th {\n        vertical-align: top;\n    }\n\n    .dataframe thead th {\n        text-align: right;\n    }\n</style>\n<table border=\"1\" class=\"dataframe\">\n  <thead>\n    <tr style=\"text-align: right;\">\n      <th></th>\n      <th>FECHA_DEF</th>\n      <th>defunciones</th>\n      <th>fecha_defuncion</th>\n    </tr>\n  </thead>\n  <tbody>\n    <tr>\n      <th>0</th>\n      <td>2020-03-03</td>\n      <td>1</td>\n      <td>2020-03-03</td>\n    </tr>\n    <tr>\n      <th>1</th>\n      <td>2020-03-13</td>\n      <td>1</td>\n      <td>2020-03-13</td>\n    </tr>\n    <tr>\n      <th>2</th>\n      <td>2020-03-17</td>\n      <td>1</td>\n      <td>2020-03-17</td>\n    </tr>\n    <tr>\n      <th>3</th>\n      <td>2020-03-18</td>\n      <td>2</td>\n      <td>2020-03-18</td>\n    </tr>\n    <tr>\n      <th>4</th>\n      <td>2020-03-20</td>\n      <td>1</td>\n      <td>2020-03-20</td>\n    </tr>\n    <tr>\n      <th>...</th>\n      <td>...</td>\n      <td>...</td>\n      <td>...</td>\n    </tr>\n    <tr>\n      <th>303</th>\n      <td>2021-01-14</td>\n      <td>597</td>\n      <td>2021-01-14</td>\n    </tr>\n    <tr>\n      <th>304</th>\n      <td>2021-01-15</td>\n      <td>366</td>\n      <td>2021-01-15</td>\n    </tr>\n    <tr>\n      <th>305</th>\n      <td>2021-01-16</td>\n      <td>290</td>\n      <td>2021-01-16</td>\n    </tr>\n    <tr>\n      <th>306</th>\n      <td>2021-01-17</td>\n      <td>199</td>\n      <td>2021-01-17</td>\n    </tr>\n    <tr>\n      <th>307</th>\n      <td>2021-01-18</td>\n      <td>1</td>\n      <td>2021-01-18</td>\n    </tr>\n  </tbody>\n</table>\n<p>308 rows × 3 columns</p>\n</div>"
     },
     "metadata": {},
     "execution_count": 28
    }
   ],
   "source": [
    "defunciones_por_fecha = defunciones.groupby(\"FECHA_DEF\").size().to_frame(\"defunciones\").reset_index()\n",
    "defunciones_por_fecha[\"fecha_defuncion\"] = pd.to_datetime(defunciones_por_fecha[\"FECHA_DEF\"], format = \"%Y-%m-%d\")\n",
    "defunciones_por_fecha\n"
   ]
  },
  {
   "cell_type": "code",
   "execution_count": 29,
   "metadata": {},
   "outputs": [],
   "source": [
    "sospechosos_por_fecha = sospechosos.groupby(\"FECHA_SINTOMAS\").size().to_frame(\"sospechosos\").reset_index()\n",
    "sospechosos_por_fecha[\"fecha_sintomas\"] = pd.to_datetime(sospechosos_por_fecha[\"FECHA_SINTOMAS\"], format = \"%Y-%m-%d\")\n"
   ]
  },
  {
   "cell_type": "code",
   "execution_count": 30,
   "metadata": {},
   "outputs": [
    {
     "output_type": "display_data",
     "data": {
      "text/html": "\n    <div class=\"bk-root\">\n        <a href=\"https://bokeh.org\" target=\"_blank\" class=\"bk-logo bk-logo-small bk-logo-notebook\"></a>\n        <span id=\"1001\">Loading BokehJS ...</span>\n    </div>"
     },
     "metadata": {}
    },
    {
     "output_type": "display_data",
     "data": {
      "application/javascript": "\n(function(root) {\n  function now() {\n    return new Date();\n  }\n\n  var force = true;\n\n  if (typeof root._bokeh_onload_callbacks === \"undefined\" || force === true) {\n    root._bokeh_onload_callbacks = [];\n    root._bokeh_is_loading = undefined;\n  }\n\n  var JS_MIME_TYPE = 'application/javascript';\n  var HTML_MIME_TYPE = 'text/html';\n  var EXEC_MIME_TYPE = 'application/vnd.bokehjs_exec.v0+json';\n  var CLASS_NAME = 'output_bokeh rendered_html';\n\n  /**\n   * Render data to the DOM node\n   */\n  function render(props, node) {\n    var script = document.createElement(\"script\");\n    node.appendChild(script);\n  }\n\n  /**\n   * Handle when an output is cleared or removed\n   */\n  function handleClearOutput(event, handle) {\n    var cell = handle.cell;\n\n    var id = cell.output_area._bokeh_element_id;\n    var server_id = cell.output_area._bokeh_server_id;\n    // Clean up Bokeh references\n    if (id != null && id in Bokeh.index) {\n      Bokeh.index[id].model.document.clear();\n      delete Bokeh.index[id];\n    }\n\n    if (server_id !== undefined) {\n      // Clean up Bokeh references\n      var cmd = \"from bokeh.io.state import curstate; print(curstate().uuid_to_server['\" + server_id + \"'].get_sessions()[0].document.roots[0]._id)\";\n      cell.notebook.kernel.execute(cmd, {\n        iopub: {\n          output: function(msg) {\n            var id = msg.content.text.trim();\n            if (id in Bokeh.index) {\n              Bokeh.index[id].model.document.clear();\n              delete Bokeh.index[id];\n            }\n          }\n        }\n      });\n      // Destroy server and session\n      var cmd = \"import bokeh.io.notebook as ion; ion.destroy_server('\" + server_id + \"')\";\n      cell.notebook.kernel.execute(cmd);\n    }\n  }\n\n  /**\n   * Handle when a new output is added\n   */\n  function handleAddOutput(event, handle) {\n    var output_area = handle.output_area;\n    var output = handle.output;\n\n    // limit handleAddOutput to display_data with EXEC_MIME_TYPE content only\n    if ((output.output_type != \"display_data\") || (!output.data.hasOwnProperty(EXEC_MIME_TYPE))) {\n      return\n    }\n\n    var toinsert = output_area.element.find(\".\" + CLASS_NAME.split(' ')[0]);\n\n    if (output.metadata[EXEC_MIME_TYPE][\"id\"] !== undefined) {\n      toinsert[toinsert.length - 1].firstChild.textContent = output.data[JS_MIME_TYPE];\n      // store reference to embed id on output_area\n      output_area._bokeh_element_id = output.metadata[EXEC_MIME_TYPE][\"id\"];\n    }\n    if (output.metadata[EXEC_MIME_TYPE][\"server_id\"] !== undefined) {\n      var bk_div = document.createElement(\"div\");\n      bk_div.innerHTML = output.data[HTML_MIME_TYPE];\n      var script_attrs = bk_div.children[0].attributes;\n      for (var i = 0; i < script_attrs.length; i++) {\n        toinsert[toinsert.length - 1].firstChild.setAttribute(script_attrs[i].name, script_attrs[i].value);\n        toinsert[toinsert.length - 1].firstChild.textContent = bk_div.children[0].textContent\n      }\n      // store reference to server id on output_area\n      output_area._bokeh_server_id = output.metadata[EXEC_MIME_TYPE][\"server_id\"];\n    }\n  }\n\n  function register_renderer(events, OutputArea) {\n\n    function append_mime(data, metadata, element) {\n      // create a DOM node to render to\n      var toinsert = this.create_output_subarea(\n        metadata,\n        CLASS_NAME,\n        EXEC_MIME_TYPE\n      );\n      this.keyboard_manager.register_events(toinsert);\n      // Render to node\n      var props = {data: data, metadata: metadata[EXEC_MIME_TYPE]};\n      render(props, toinsert[toinsert.length - 1]);\n      element.append(toinsert);\n      return toinsert\n    }\n\n    /* Handle when an output is cleared or removed */\n    events.on('clear_output.CodeCell', handleClearOutput);\n    events.on('delete.Cell', handleClearOutput);\n\n    /* Handle when a new output is added */\n    events.on('output_added.OutputArea', handleAddOutput);\n\n    /**\n     * Register the mime type and append_mime function with output_area\n     */\n    OutputArea.prototype.register_mime_type(EXEC_MIME_TYPE, append_mime, {\n      /* Is output safe? */\n      safe: true,\n      /* Index of renderer in `output_area.display_order` */\n      index: 0\n    });\n  }\n\n  // register the mime type if in Jupyter Notebook environment and previously unregistered\n  if (root.Jupyter !== undefined) {\n    var events = require('base/js/events');\n    var OutputArea = require('notebook/js/outputarea').OutputArea;\n\n    if (OutputArea.prototype.mime_types().indexOf(EXEC_MIME_TYPE) == -1) {\n      register_renderer(events, OutputArea);\n    }\n  }\n\n  \n  if (typeof (root._bokeh_timeout) === \"undefined\" || force === true) {\n    root._bokeh_timeout = Date.now() + 5000;\n    root._bokeh_failed_load = false;\n  }\n\n  var NB_LOAD_WARNING = {'data': {'text/html':\n     \"<div style='background-color: #fdd'>\\n\"+\n     \"<p>\\n\"+\n     \"BokehJS does not appear to have successfully loaded. If loading BokehJS from CDN, this \\n\"+\n     \"may be due to a slow or bad network connection. Possible fixes:\\n\"+\n     \"</p>\\n\"+\n     \"<ul>\\n\"+\n     \"<li>re-rerun `output_notebook()` to attempt to load from CDN again, or</li>\\n\"+\n     \"<li>use INLINE resources instead, as so:</li>\\n\"+\n     \"</ul>\\n\"+\n     \"<code>\\n\"+\n     \"from bokeh.resources import INLINE\\n\"+\n     \"output_notebook(resources=INLINE)\\n\"+\n     \"</code>\\n\"+\n     \"</div>\"}};\n\n  function display_loaded() {\n    var el = document.getElementById(\"1001\");\n    if (el != null) {\n      el.textContent = \"BokehJS is loading...\";\n    }\n    if (root.Bokeh !== undefined) {\n      if (el != null) {\n        el.textContent = \"BokehJS \" + root.Bokeh.version + \" successfully loaded.\";\n      }\n    } else if (Date.now() < root._bokeh_timeout) {\n      setTimeout(display_loaded, 100)\n    }\n  }\n\n\n  function run_callbacks() {\n    try {\n      root._bokeh_onload_callbacks.forEach(function(callback) {\n        if (callback != null)\n          callback();\n      });\n    } finally {\n      delete root._bokeh_onload_callbacks\n    }\n    console.debug(\"Bokeh: all callbacks have finished\");\n  }\n\n  function load_libs(css_urls, js_urls, callback) {\n    if (css_urls == null) css_urls = [];\n    if (js_urls == null) js_urls = [];\n\n    root._bokeh_onload_callbacks.push(callback);\n    if (root._bokeh_is_loading > 0) {\n      console.debug(\"Bokeh: BokehJS is being loaded, scheduling callback at\", now());\n      return null;\n    }\n    if (js_urls == null || js_urls.length === 0) {\n      run_callbacks();\n      return null;\n    }\n    console.debug(\"Bokeh: BokehJS not loaded, scheduling load and callback at\", now());\n    root._bokeh_is_loading = css_urls.length + js_urls.length;\n\n    function on_load() {\n      root._bokeh_is_loading--;\n      if (root._bokeh_is_loading === 0) {\n        console.debug(\"Bokeh: all BokehJS libraries/stylesheets loaded\");\n        run_callbacks()\n      }\n    }\n\n    function on_error() {\n      console.error(\"failed to load \" + url);\n    }\n\n    for (var i = 0; i < css_urls.length; i++) {\n      var url = css_urls[i];\n      const element = document.createElement(\"link\");\n      element.onload = on_load;\n      element.onerror = on_error;\n      element.rel = \"stylesheet\";\n      element.type = \"text/css\";\n      element.href = url;\n      console.debug(\"Bokeh: injecting link tag for BokehJS stylesheet: \", url);\n      document.body.appendChild(element);\n    }\n\n    const hashes = {\"https://cdn.bokeh.org/bokeh/release/bokeh-2.2.3.min.js\": \"T2yuo9Oe71Cz/I4X9Ac5+gpEa5a8PpJCDlqKYO0CfAuEszu1JrXLl8YugMqYe3sM\", \"https://cdn.bokeh.org/bokeh/release/bokeh-widgets-2.2.3.min.js\": \"98GDGJ0kOMCUMUePhksaQ/GYgB3+NH9h996V88sh3aOiUNX3N+fLXAtry6xctSZ6\", \"https://cdn.bokeh.org/bokeh/release/bokeh-tables-2.2.3.min.js\": \"89bArO+nlbP3sgakeHjCo1JYxYR5wufVgA3IbUvDY+K7w4zyxJqssu7wVnfeKCq8\"};\n\n    for (var i = 0; i < js_urls.length; i++) {\n      var url = js_urls[i];\n      var element = document.createElement('script');\n      element.onload = on_load;\n      element.onerror = on_error;\n      element.async = false;\n      element.src = url;\n      if (url in hashes) {\n        element.crossOrigin = \"anonymous\";\n        element.integrity = \"sha384-\" + hashes[url];\n      }\n      console.debug(\"Bokeh: injecting script tag for BokehJS library: \", url);\n      document.head.appendChild(element);\n    }\n  };\n\n  function inject_raw_css(css) {\n    const element = document.createElement(\"style\");\n    element.appendChild(document.createTextNode(css));\n    document.body.appendChild(element);\n  }\n\n  \n  var js_urls = [\"https://cdn.bokeh.org/bokeh/release/bokeh-2.2.3.min.js\", \"https://cdn.bokeh.org/bokeh/release/bokeh-widgets-2.2.3.min.js\", \"https://cdn.bokeh.org/bokeh/release/bokeh-tables-2.2.3.min.js\"];\n  var css_urls = [];\n  \n\n  var inline_js = [\n    function(Bokeh) {\n      Bokeh.set_log_level(\"info\");\n    },\n    function(Bokeh) {\n    \n    \n    }\n  ];\n\n  function run_inline_js() {\n    \n    if (root.Bokeh !== undefined || force === true) {\n      \n    for (var i = 0; i < inline_js.length; i++) {\n      inline_js[i].call(root, root.Bokeh);\n    }\n    if (force === true) {\n        display_loaded();\n      }} else if (Date.now() < root._bokeh_timeout) {\n      setTimeout(run_inline_js, 100);\n    } else if (!root._bokeh_failed_load) {\n      console.log(\"Bokeh: BokehJS failed to load within specified timeout.\");\n      root._bokeh_failed_load = true;\n    } else if (force !== true) {\n      var cell = $(document.getElementById(\"1001\")).parents('.cell').data().cell;\n      cell.output_area.append_execute_result(NB_LOAD_WARNING)\n    }\n\n  }\n\n  if (root._bokeh_is_loading === 0) {\n    console.debug(\"Bokeh: BokehJS loaded, going straight to plotting\");\n    run_inline_js();\n  } else {\n    load_libs(css_urls, js_urls, function() {\n      console.debug(\"Bokeh: BokehJS plotting callback run at\", now());\n      run_inline_js();\n    });\n  }\n}(window));",
      "application/vnd.bokehjs_load.v0+json": "\n(function(root) {\n  function now() {\n    return new Date();\n  }\n\n  var force = true;\n\n  if (typeof root._bokeh_onload_callbacks === \"undefined\" || force === true) {\n    root._bokeh_onload_callbacks = [];\n    root._bokeh_is_loading = undefined;\n  }\n\n  \n\n  \n  if (typeof (root._bokeh_timeout) === \"undefined\" || force === true) {\n    root._bokeh_timeout = Date.now() + 5000;\n    root._bokeh_failed_load = false;\n  }\n\n  var NB_LOAD_WARNING = {'data': {'text/html':\n     \"<div style='background-color: #fdd'>\\n\"+\n     \"<p>\\n\"+\n     \"BokehJS does not appear to have successfully loaded. If loading BokehJS from CDN, this \\n\"+\n     \"may be due to a slow or bad network connection. Possible fixes:\\n\"+\n     \"</p>\\n\"+\n     \"<ul>\\n\"+\n     \"<li>re-rerun `output_notebook()` to attempt to load from CDN again, or</li>\\n\"+\n     \"<li>use INLINE resources instead, as so:</li>\\n\"+\n     \"</ul>\\n\"+\n     \"<code>\\n\"+\n     \"from bokeh.resources import INLINE\\n\"+\n     \"output_notebook(resources=INLINE)\\n\"+\n     \"</code>\\n\"+\n     \"</div>\"}};\n\n  function display_loaded() {\n    var el = document.getElementById(\"1001\");\n    if (el != null) {\n      el.textContent = \"BokehJS is loading...\";\n    }\n    if (root.Bokeh !== undefined) {\n      if (el != null) {\n        el.textContent = \"BokehJS \" + root.Bokeh.version + \" successfully loaded.\";\n      }\n    } else if (Date.now() < root._bokeh_timeout) {\n      setTimeout(display_loaded, 100)\n    }\n  }\n\n\n  function run_callbacks() {\n    try {\n      root._bokeh_onload_callbacks.forEach(function(callback) {\n        if (callback != null)\n          callback();\n      });\n    } finally {\n      delete root._bokeh_onload_callbacks\n    }\n    console.debug(\"Bokeh: all callbacks have finished\");\n  }\n\n  function load_libs(css_urls, js_urls, callback) {\n    if (css_urls == null) css_urls = [];\n    if (js_urls == null) js_urls = [];\n\n    root._bokeh_onload_callbacks.push(callback);\n    if (root._bokeh_is_loading > 0) {\n      console.debug(\"Bokeh: BokehJS is being loaded, scheduling callback at\", now());\n      return null;\n    }\n    if (js_urls == null || js_urls.length === 0) {\n      run_callbacks();\n      return null;\n    }\n    console.debug(\"Bokeh: BokehJS not loaded, scheduling load and callback at\", now());\n    root._bokeh_is_loading = css_urls.length + js_urls.length;\n\n    function on_load() {\n      root._bokeh_is_loading--;\n      if (root._bokeh_is_loading === 0) {\n        console.debug(\"Bokeh: all BokehJS libraries/stylesheets loaded\");\n        run_callbacks()\n      }\n    }\n\n    function on_error() {\n      console.error(\"failed to load \" + url);\n    }\n\n    for (var i = 0; i < css_urls.length; i++) {\n      var url = css_urls[i];\n      const element = document.createElement(\"link\");\n      element.onload = on_load;\n      element.onerror = on_error;\n      element.rel = \"stylesheet\";\n      element.type = \"text/css\";\n      element.href = url;\n      console.debug(\"Bokeh: injecting link tag for BokehJS stylesheet: \", url);\n      document.body.appendChild(element);\n    }\n\n    const hashes = {\"https://cdn.bokeh.org/bokeh/release/bokeh-2.2.3.min.js\": \"T2yuo9Oe71Cz/I4X9Ac5+gpEa5a8PpJCDlqKYO0CfAuEszu1JrXLl8YugMqYe3sM\", \"https://cdn.bokeh.org/bokeh/release/bokeh-widgets-2.2.3.min.js\": \"98GDGJ0kOMCUMUePhksaQ/GYgB3+NH9h996V88sh3aOiUNX3N+fLXAtry6xctSZ6\", \"https://cdn.bokeh.org/bokeh/release/bokeh-tables-2.2.3.min.js\": \"89bArO+nlbP3sgakeHjCo1JYxYR5wufVgA3IbUvDY+K7w4zyxJqssu7wVnfeKCq8\"};\n\n    for (var i = 0; i < js_urls.length; i++) {\n      var url = js_urls[i];\n      var element = document.createElement('script');\n      element.onload = on_load;\n      element.onerror = on_error;\n      element.async = false;\n      element.src = url;\n      if (url in hashes) {\n        element.crossOrigin = \"anonymous\";\n        element.integrity = \"sha384-\" + hashes[url];\n      }\n      console.debug(\"Bokeh: injecting script tag for BokehJS library: \", url);\n      document.head.appendChild(element);\n    }\n  };\n\n  function inject_raw_css(css) {\n    const element = document.createElement(\"style\");\n    element.appendChild(document.createTextNode(css));\n    document.body.appendChild(element);\n  }\n\n  \n  var js_urls = [\"https://cdn.bokeh.org/bokeh/release/bokeh-2.2.3.min.js\", \"https://cdn.bokeh.org/bokeh/release/bokeh-widgets-2.2.3.min.js\", \"https://cdn.bokeh.org/bokeh/release/bokeh-tables-2.2.3.min.js\"];\n  var css_urls = [];\n  \n\n  var inline_js = [\n    function(Bokeh) {\n      Bokeh.set_log_level(\"info\");\n    },\n    function(Bokeh) {\n    \n    \n    }\n  ];\n\n  function run_inline_js() {\n    \n    if (root.Bokeh !== undefined || force === true) {\n      \n    for (var i = 0; i < inline_js.length; i++) {\n      inline_js[i].call(root, root.Bokeh);\n    }\n    if (force === true) {\n        display_loaded();\n      }} else if (Date.now() < root._bokeh_timeout) {\n      setTimeout(run_inline_js, 100);\n    } else if (!root._bokeh_failed_load) {\n      console.log(\"Bokeh: BokehJS failed to load within specified timeout.\");\n      root._bokeh_failed_load = true;\n    } else if (force !== true) {\n      var cell = $(document.getElementById(\"1001\")).parents('.cell').data().cell;\n      cell.output_area.append_execute_result(NB_LOAD_WARNING)\n    }\n\n  }\n\n  if (root._bokeh_is_loading === 0) {\n    console.debug(\"Bokeh: BokehJS loaded, going straight to plotting\");\n    run_inline_js();\n  } else {\n    load_libs(css_urls, js_urls, function() {\n      console.debug(\"Bokeh: BokehJS plotting callback run at\", now());\n      run_inline_js();\n    });\n  }\n}(window));"
     },
     "metadata": {}
    }
   ],
   "source": [
    "bpl.output_notebook()"
   ]
  },
  {
   "cell_type": "code",
   "execution_count": 31,
   "metadata": {},
   "outputs": [
    {
     "output_type": "display_data",
     "data": {
      "application/vnd.plotly.v1+json": {
       "config": {
        "plotlyServerURL": "https://plot.ly"
       },
       "data": [
        {
         "hovertemplate": "x=%{x}<br>y=%{y}<extra></extra>",
         "legendgroup": "",
         "line": {
          "color": "#b4004e",
          "dash": "solid",
          "width": 2
         },
         "marker": {
          "color": "#b4004e"
         },
         "mode": "lines",
         "name": "",
         "orientation": "v",
         "showlegend": false,
         "type": "scatter",
         "x": [
          "2020-01-13T00:00:00",
          "2020-01-28T00:00:00",
          "2020-01-29T00:00:00",
          "2020-02-10T00:00:00",
          "2020-02-19T00:00:00",
          "2020-02-20T00:00:00",
          "2020-02-24T00:00:00",
          "2020-02-27T00:00:00",
          "2020-02-28T00:00:00",
          "2020-02-29T00:00:00",
          "2020-03-02T00:00:00",
          "2020-03-03T00:00:00",
          "2020-03-04T00:00:00",
          "2020-03-05T00:00:00",
          "2020-03-07T00:00:00",
          "2020-03-08T00:00:00",
          "2020-03-09T00:00:00",
          "2020-03-10T00:00:00",
          "2020-03-11T00:00:00",
          "2020-03-12T00:00:00",
          "2020-03-13T00:00:00",
          "2020-03-14T00:00:00",
          "2020-03-15T00:00:00",
          "2020-03-16T00:00:00",
          "2020-03-17T00:00:00",
          "2020-03-18T00:00:00",
          "2020-03-19T00:00:00",
          "2020-03-20T00:00:00",
          "2020-03-21T00:00:00",
          "2020-03-22T00:00:00",
          "2020-03-23T00:00:00",
          "2020-03-24T00:00:00",
          "2020-03-25T00:00:00",
          "2020-03-26T00:00:00",
          "2020-03-27T00:00:00",
          "2020-03-28T00:00:00",
          "2020-03-29T00:00:00",
          "2020-03-30T00:00:00",
          "2020-03-31T00:00:00",
          "2020-04-01T00:00:00",
          "2020-04-02T00:00:00",
          "2020-04-03T00:00:00",
          "2020-04-04T00:00:00",
          "2020-04-05T00:00:00",
          "2020-04-06T00:00:00",
          "2020-04-07T00:00:00",
          "2020-04-08T00:00:00",
          "2020-04-09T00:00:00",
          "2020-04-10T00:00:00",
          "2020-04-11T00:00:00",
          "2020-04-12T00:00:00",
          "2020-04-13T00:00:00",
          "2020-04-14T00:00:00",
          "2020-04-15T00:00:00",
          "2020-04-16T00:00:00",
          "2020-04-17T00:00:00",
          "2020-04-18T00:00:00",
          "2020-04-19T00:00:00",
          "2020-04-20T00:00:00",
          "2020-04-21T00:00:00",
          "2020-04-22T00:00:00",
          "2020-04-23T00:00:00",
          "2020-04-24T00:00:00",
          "2020-04-25T00:00:00",
          "2020-04-26T00:00:00",
          "2020-04-27T00:00:00",
          "2020-04-28T00:00:00",
          "2020-04-29T00:00:00",
          "2020-04-30T00:00:00",
          "2020-05-01T00:00:00",
          "2020-05-02T00:00:00",
          "2020-05-03T00:00:00",
          "2020-05-04T00:00:00",
          "2020-05-05T00:00:00",
          "2020-05-06T00:00:00",
          "2020-05-07T00:00:00",
          "2020-05-08T00:00:00",
          "2020-05-09T00:00:00",
          "2020-05-10T00:00:00",
          "2020-05-11T00:00:00",
          "2020-05-12T00:00:00",
          "2020-05-13T00:00:00",
          "2020-05-14T00:00:00",
          "2020-05-15T00:00:00",
          "2020-05-16T00:00:00",
          "2020-05-17T00:00:00",
          "2020-05-18T00:00:00",
          "2020-05-19T00:00:00",
          "2020-05-20T00:00:00",
          "2020-05-21T00:00:00",
          "2020-05-22T00:00:00",
          "2020-05-23T00:00:00",
          "2020-05-24T00:00:00",
          "2020-05-25T00:00:00",
          "2020-05-26T00:00:00",
          "2020-05-27T00:00:00",
          "2020-05-28T00:00:00",
          "2020-05-29T00:00:00",
          "2020-05-30T00:00:00",
          "2020-05-31T00:00:00",
          "2020-06-01T00:00:00",
          "2020-06-02T00:00:00",
          "2020-06-03T00:00:00",
          "2020-06-04T00:00:00",
          "2020-06-05T00:00:00",
          "2020-06-06T00:00:00",
          "2020-06-07T00:00:00",
          "2020-06-08T00:00:00",
          "2020-06-09T00:00:00",
          "2020-06-10T00:00:00",
          "2020-06-11T00:00:00",
          "2020-06-12T00:00:00",
          "2020-06-13T00:00:00",
          "2020-06-14T00:00:00",
          "2020-06-15T00:00:00",
          "2020-06-16T00:00:00",
          "2020-06-17T00:00:00",
          "2020-06-18T00:00:00",
          "2020-06-19T00:00:00",
          "2020-06-20T00:00:00",
          "2020-06-21T00:00:00",
          "2020-06-22T00:00:00",
          "2020-06-23T00:00:00",
          "2020-06-24T00:00:00",
          "2020-06-25T00:00:00",
          "2020-06-26T00:00:00",
          "2020-06-27T00:00:00",
          "2020-06-28T00:00:00",
          "2020-06-29T00:00:00",
          "2020-06-30T00:00:00",
          "2020-07-01T00:00:00",
          "2020-07-02T00:00:00",
          "2020-07-03T00:00:00",
          "2020-07-04T00:00:00",
          "2020-07-05T00:00:00",
          "2020-07-06T00:00:00",
          "2020-07-07T00:00:00",
          "2020-07-08T00:00:00",
          "2020-07-09T00:00:00",
          "2020-07-10T00:00:00",
          "2020-07-11T00:00:00",
          "2020-07-12T00:00:00",
          "2020-07-13T00:00:00",
          "2020-07-14T00:00:00",
          "2020-07-15T00:00:00",
          "2020-07-16T00:00:00",
          "2020-07-17T00:00:00",
          "2020-07-18T00:00:00",
          "2020-07-19T00:00:00",
          "2020-07-20T00:00:00",
          "2020-07-21T00:00:00",
          "2020-07-22T00:00:00",
          "2020-07-23T00:00:00",
          "2020-07-24T00:00:00",
          "2020-07-25T00:00:00",
          "2020-07-26T00:00:00",
          "2020-07-27T00:00:00",
          "2020-07-28T00:00:00",
          "2020-07-29T00:00:00",
          "2020-07-30T00:00:00",
          "2020-07-31T00:00:00",
          "2020-08-01T00:00:00",
          "2020-08-02T00:00:00",
          "2020-08-03T00:00:00",
          "2020-08-04T00:00:00",
          "2020-08-05T00:00:00",
          "2020-08-06T00:00:00",
          "2020-08-07T00:00:00",
          "2020-08-08T00:00:00",
          "2020-08-09T00:00:00",
          "2020-08-10T00:00:00",
          "2020-08-11T00:00:00",
          "2020-08-12T00:00:00",
          "2020-08-13T00:00:00",
          "2020-08-14T00:00:00",
          "2020-08-15T00:00:00",
          "2020-08-16T00:00:00",
          "2020-08-17T00:00:00",
          "2020-08-18T00:00:00",
          "2020-08-19T00:00:00",
          "2020-08-20T00:00:00",
          "2020-08-21T00:00:00",
          "2020-08-22T00:00:00",
          "2020-08-23T00:00:00",
          "2020-08-24T00:00:00",
          "2020-08-25T00:00:00",
          "2020-08-26T00:00:00",
          "2020-08-27T00:00:00",
          "2020-08-28T00:00:00",
          "2020-08-29T00:00:00",
          "2020-08-30T00:00:00",
          "2020-08-31T00:00:00",
          "2020-09-01T00:00:00",
          "2020-09-02T00:00:00",
          "2020-09-03T00:00:00",
          "2020-09-04T00:00:00",
          "2020-09-05T00:00:00",
          "2020-09-06T00:00:00",
          "2020-09-07T00:00:00",
          "2020-09-08T00:00:00",
          "2020-09-09T00:00:00",
          "2020-09-10T00:00:00",
          "2020-09-11T00:00:00",
          "2020-09-12T00:00:00",
          "2020-09-13T00:00:00",
          "2020-09-14T00:00:00",
          "2020-09-15T00:00:00",
          "2020-09-16T00:00:00",
          "2020-09-17T00:00:00",
          "2020-09-18T00:00:00",
          "2020-09-19T00:00:00",
          "2020-09-20T00:00:00",
          "2020-09-21T00:00:00",
          "2020-09-22T00:00:00",
          "2020-09-23T00:00:00",
          "2020-09-24T00:00:00",
          "2020-09-25T00:00:00",
          "2020-09-26T00:00:00",
          "2020-09-27T00:00:00",
          "2020-09-28T00:00:00",
          "2020-09-29T00:00:00",
          "2020-09-30T00:00:00",
          "2020-10-01T00:00:00",
          "2020-10-02T00:00:00",
          "2020-10-03T00:00:00",
          "2020-10-04T00:00:00",
          "2020-10-05T00:00:00",
          "2020-10-06T00:00:00",
          "2020-10-07T00:00:00",
          "2020-10-08T00:00:00",
          "2020-10-09T00:00:00",
          "2020-10-10T00:00:00",
          "2020-10-11T00:00:00",
          "2020-10-12T00:00:00",
          "2020-10-13T00:00:00",
          "2020-10-14T00:00:00",
          "2020-10-15T00:00:00",
          "2020-10-16T00:00:00",
          "2020-10-17T00:00:00",
          "2020-10-18T00:00:00",
          "2020-10-19T00:00:00",
          "2020-10-20T00:00:00",
          "2020-10-21T00:00:00",
          "2020-10-22T00:00:00",
          "2020-10-23T00:00:00",
          "2020-10-24T00:00:00",
          "2020-10-25T00:00:00",
          "2020-10-26T00:00:00",
          "2020-10-27T00:00:00",
          "2020-10-28T00:00:00",
          "2020-10-29T00:00:00",
          "2020-10-30T00:00:00",
          "2020-10-31T00:00:00",
          "2020-11-01T00:00:00",
          "2020-11-02T00:00:00",
          "2020-11-03T00:00:00",
          "2020-11-04T00:00:00",
          "2020-11-05T00:00:00",
          "2020-11-06T00:00:00",
          "2020-11-07T00:00:00",
          "2020-11-08T00:00:00",
          "2020-11-09T00:00:00",
          "2020-11-10T00:00:00",
          "2020-11-11T00:00:00",
          "2020-11-12T00:00:00",
          "2020-11-13T00:00:00",
          "2020-11-14T00:00:00",
          "2020-11-15T00:00:00",
          "2020-11-16T00:00:00",
          "2020-11-17T00:00:00",
          "2020-11-18T00:00:00",
          "2020-11-19T00:00:00",
          "2020-11-20T00:00:00",
          "2020-11-21T00:00:00",
          "2020-11-22T00:00:00",
          "2020-11-23T00:00:00",
          "2020-11-24T00:00:00",
          "2020-11-25T00:00:00",
          "2020-11-26T00:00:00",
          "2020-11-27T00:00:00",
          "2020-11-28T00:00:00",
          "2020-11-29T00:00:00",
          "2020-11-30T00:00:00",
          "2020-12-01T00:00:00",
          "2020-12-02T00:00:00",
          "2020-12-03T00:00:00",
          "2020-12-04T00:00:00",
          "2020-12-05T00:00:00",
          "2020-12-06T00:00:00",
          "2020-12-07T00:00:00",
          "2020-12-08T00:00:00",
          "2020-12-09T00:00:00",
          "2020-12-10T00:00:00",
          "2020-12-11T00:00:00",
          "2020-12-12T00:00:00",
          "2020-12-13T00:00:00",
          "2020-12-14T00:00:00",
          "2020-12-15T00:00:00",
          "2020-12-16T00:00:00",
          "2020-12-17T00:00:00",
          "2020-12-18T00:00:00",
          "2020-12-19T00:00:00",
          "2020-12-20T00:00:00",
          "2020-12-21T00:00:00",
          "2020-12-22T00:00:00",
          "2020-12-23T00:00:00",
          "2020-12-24T00:00:00",
          "2020-12-25T00:00:00",
          "2020-12-26T00:00:00",
          "2020-12-27T00:00:00",
          "2020-12-28T00:00:00",
          "2020-12-29T00:00:00",
          "2020-12-30T00:00:00",
          "2020-12-31T00:00:00",
          "2021-01-01T00:00:00",
          "2021-01-02T00:00:00",
          "2021-01-03T00:00:00",
          "2021-01-04T00:00:00",
          "2021-01-05T00:00:00",
          "2021-01-06T00:00:00",
          "2021-01-07T00:00:00",
          "2021-01-08T00:00:00",
          "2021-01-09T00:00:00",
          "2021-01-10T00:00:00",
          "2021-01-11T00:00:00",
          "2021-01-12T00:00:00",
          "2021-01-13T00:00:00",
          "2021-01-14T00:00:00",
          "2021-01-15T00:00:00",
          "2021-01-16T00:00:00",
          "2021-01-17T00:00:00",
          "2021-01-18T00:00:00"
         ],
         "xaxis": "x",
         "y": [
          1,
          1,
          1,
          1,
          1,
          1,
          1,
          5,
          3,
          1,
          2,
          4,
          5,
          3,
          1,
          4,
          2,
          10,
          30,
          29,
          60,
          50,
          36,
          70,
          96,
          105,
          149,
          129,
          81,
          65,
          156,
          219,
          174,
          209,
          249,
          181,
          153,
          329,
          295,
          354,
          329,
          370,
          233,
          243,
          596,
          493,
          546,
          440,
          528,
          440,
          446,
          900,
          884,
          928,
          948,
          1087,
          763,
          722,
          1438,
          1392,
          1326,
          1419,
          1636,
          1058,
          1013,
          1822,
          1829,
          1789,
          1801,
          1419,
          1366,
          1256,
          2521,
          2110,
          2282,
          2410,
          2425,
          1528,
          1423,
          2967,
          2937,
          3118,
          3078,
          3480,
          2173,
          1639,
          4032,
          3575,
          3907,
          4008,
          3996,
          2282,
          1878,
          4628,
          4338,
          4465,
          4224,
          4373,
          2735,
          2082,
          5292,
          4755,
          4950,
          4908,
          5052,
          3021,
          2346,
          6157,
          5768,
          5735,
          5396,
          5632,
          3075,
          2592,
          6567,
          6418,
          6149,
          6099,
          6115,
          3569,
          2467,
          6895,
          6622,
          6305,
          6297,
          6546,
          3670,
          2950,
          7523,
          7212,
          7616,
          7063,
          7084,
          3657,
          2987,
          7843,
          7895,
          7449,
          7136,
          7197,
          3864,
          3241,
          8841,
          8477,
          8809,
          8238,
          7974,
          4389,
          3431,
          9110,
          8648,
          8316,
          8078,
          8010,
          4162,
          3001,
          8480,
          8177,
          7687,
          7581,
          6705,
          3791,
          2516,
          7486,
          7385,
          7176,
          6691,
          6621,
          3673,
          2392,
          7200,
          6890,
          6443,
          6408,
          6197,
          3229,
          2311,
          6877,
          6680,
          6269,
          5993,
          6293,
          3123,
          2305,
          7013,
          6611,
          7032,
          6437,
          6326,
          3113,
          2177,
          6949,
          7088,
          6911,
          6280,
          6045,
          2851,
          2069,
          6350,
          6595,
          6024,
          5692,
          5474,
          2758,
          1858,
          6211,
          4278,
          2165,
          6324,
          5672,
          2760,
          1772,
          6252,
          6102,
          5698,
          5326,
          5272,
          2621,
          1759,
          6179,
          5976,
          5503,
          5249,
          4974,
          2391,
          1694,
          5772,
          5927,
          5663,
          5474,
          5684,
          2974,
          2130,
          6702,
          7025,
          6440,
          6401,
          6542,
          3228,
          2221,
          8099,
          8291,
          7314,
          7172,
          7164,
          3401,
          2380,
          8207,
          7904,
          7079,
          6767,
          6229,
          2896,
          2048,
          5016,
          7967,
          7416,
          7329,
          6901,
          3387,
          2457,
          8355,
          8339,
          8201,
          8017,
          7441,
          3755,
          2509,
          3044,
          9369,
          8598,
          8145,
          8227,
          4112,
          2647,
          10055,
          10161,
          9370,
          9476,
          9343,
          4706,
          2883,
          10648,
          11184,
          11190,
          10838,
          10569,
          5642,
          3009,
          12530,
          12587,
          11978,
          12036,
          11954,
          6325,
          3160,
          13561,
          13445,
          12552,
          12197,
          11780,
          6255,
          3533,
          13615,
          13099,
          11649,
          9623,
          2401,
          5391,
          4002,
          14501,
          14467,
          13467,
          10984,
          2894,
          5943,
          4494,
          14869,
          16325,
          15200,
          14484,
          13596,
          7472,
          4093,
          14668,
          13367,
          12112,
          13260,
          10362,
          4049,
          1371,
          62
         ],
         "yaxis": "y"
        }
       ],
       "layout": {
        "height": 600,
        "legend": {
         "tracegroupgap": 0
        },
        "template": {
         "data": {
          "bar": [
           {
            "error_x": {
             "color": "#2a3f5f"
            },
            "error_y": {
             "color": "#2a3f5f"
            },
            "marker": {
             "line": {
              "color": "white",
              "width": 0.5
             }
            },
            "type": "bar"
           }
          ],
          "barpolar": [
           {
            "marker": {
             "line": {
              "color": "white",
              "width": 0.5
             }
            },
            "type": "barpolar"
           }
          ],
          "carpet": [
           {
            "aaxis": {
             "endlinecolor": "#2a3f5f",
             "gridcolor": "#C8D4E3",
             "linecolor": "#C8D4E3",
             "minorgridcolor": "#C8D4E3",
             "startlinecolor": "#2a3f5f"
            },
            "baxis": {
             "endlinecolor": "#2a3f5f",
             "gridcolor": "#C8D4E3",
             "linecolor": "#C8D4E3",
             "minorgridcolor": "#C8D4E3",
             "startlinecolor": "#2a3f5f"
            },
            "type": "carpet"
           }
          ],
          "choropleth": [
           {
            "colorbar": {
             "outlinewidth": 0,
             "ticks": ""
            },
            "type": "choropleth"
           }
          ],
          "contour": [
           {
            "colorbar": {
             "outlinewidth": 0,
             "ticks": ""
            },
            "colorscale": [
             [
              0,
              "#0d0887"
             ],
             [
              0.1111111111111111,
              "#46039f"
             ],
             [
              0.2222222222222222,
              "#7201a8"
             ],
             [
              0.3333333333333333,
              "#9c179e"
             ],
             [
              0.4444444444444444,
              "#bd3786"
             ],
             [
              0.5555555555555556,
              "#d8576b"
             ],
             [
              0.6666666666666666,
              "#ed7953"
             ],
             [
              0.7777777777777778,
              "#fb9f3a"
             ],
             [
              0.8888888888888888,
              "#fdca26"
             ],
             [
              1,
              "#f0f921"
             ]
            ],
            "type": "contour"
           }
          ],
          "contourcarpet": [
           {
            "colorbar": {
             "outlinewidth": 0,
             "ticks": ""
            },
            "type": "contourcarpet"
           }
          ],
          "heatmap": [
           {
            "colorbar": {
             "outlinewidth": 0,
             "ticks": ""
            },
            "colorscale": [
             [
              0,
              "#0d0887"
             ],
             [
              0.1111111111111111,
              "#46039f"
             ],
             [
              0.2222222222222222,
              "#7201a8"
             ],
             [
              0.3333333333333333,
              "#9c179e"
             ],
             [
              0.4444444444444444,
              "#bd3786"
             ],
             [
              0.5555555555555556,
              "#d8576b"
             ],
             [
              0.6666666666666666,
              "#ed7953"
             ],
             [
              0.7777777777777778,
              "#fb9f3a"
             ],
             [
              0.8888888888888888,
              "#fdca26"
             ],
             [
              1,
              "#f0f921"
             ]
            ],
            "type": "heatmap"
           }
          ],
          "heatmapgl": [
           {
            "colorbar": {
             "outlinewidth": 0,
             "ticks": ""
            },
            "colorscale": [
             [
              0,
              "#0d0887"
             ],
             [
              0.1111111111111111,
              "#46039f"
             ],
             [
              0.2222222222222222,
              "#7201a8"
             ],
             [
              0.3333333333333333,
              "#9c179e"
             ],
             [
              0.4444444444444444,
              "#bd3786"
             ],
             [
              0.5555555555555556,
              "#d8576b"
             ],
             [
              0.6666666666666666,
              "#ed7953"
             ],
             [
              0.7777777777777778,
              "#fb9f3a"
             ],
             [
              0.8888888888888888,
              "#fdca26"
             ],
             [
              1,
              "#f0f921"
             ]
            ],
            "type": "heatmapgl"
           }
          ],
          "histogram": [
           {
            "marker": {
             "colorbar": {
              "outlinewidth": 0,
              "ticks": ""
             }
            },
            "type": "histogram"
           }
          ],
          "histogram2d": [
           {
            "colorbar": {
             "outlinewidth": 0,
             "ticks": ""
            },
            "colorscale": [
             [
              0,
              "#0d0887"
             ],
             [
              0.1111111111111111,
              "#46039f"
             ],
             [
              0.2222222222222222,
              "#7201a8"
             ],
             [
              0.3333333333333333,
              "#9c179e"
             ],
             [
              0.4444444444444444,
              "#bd3786"
             ],
             [
              0.5555555555555556,
              "#d8576b"
             ],
             [
              0.6666666666666666,
              "#ed7953"
             ],
             [
              0.7777777777777778,
              "#fb9f3a"
             ],
             [
              0.8888888888888888,
              "#fdca26"
             ],
             [
              1,
              "#f0f921"
             ]
            ],
            "type": "histogram2d"
           }
          ],
          "histogram2dcontour": [
           {
            "colorbar": {
             "outlinewidth": 0,
             "ticks": ""
            },
            "colorscale": [
             [
              0,
              "#0d0887"
             ],
             [
              0.1111111111111111,
              "#46039f"
             ],
             [
              0.2222222222222222,
              "#7201a8"
             ],
             [
              0.3333333333333333,
              "#9c179e"
             ],
             [
              0.4444444444444444,
              "#bd3786"
             ],
             [
              0.5555555555555556,
              "#d8576b"
             ],
             [
              0.6666666666666666,
              "#ed7953"
             ],
             [
              0.7777777777777778,
              "#fb9f3a"
             ],
             [
              0.8888888888888888,
              "#fdca26"
             ],
             [
              1,
              "#f0f921"
             ]
            ],
            "type": "histogram2dcontour"
           }
          ],
          "mesh3d": [
           {
            "colorbar": {
             "outlinewidth": 0,
             "ticks": ""
            },
            "type": "mesh3d"
           }
          ],
          "parcoords": [
           {
            "line": {
             "colorbar": {
              "outlinewidth": 0,
              "ticks": ""
             }
            },
            "type": "parcoords"
           }
          ],
          "pie": [
           {
            "automargin": true,
            "type": "pie"
           }
          ],
          "scatter": [
           {
            "marker": {
             "colorbar": {
              "outlinewidth": 0,
              "ticks": ""
             }
            },
            "type": "scatter"
           }
          ],
          "scatter3d": [
           {
            "line": {
             "colorbar": {
              "outlinewidth": 0,
              "ticks": ""
             }
            },
            "marker": {
             "colorbar": {
              "outlinewidth": 0,
              "ticks": ""
             }
            },
            "type": "scatter3d"
           }
          ],
          "scattercarpet": [
           {
            "marker": {
             "colorbar": {
              "outlinewidth": 0,
              "ticks": ""
             }
            },
            "type": "scattercarpet"
           }
          ],
          "scattergeo": [
           {
            "marker": {
             "colorbar": {
              "outlinewidth": 0,
              "ticks": ""
             }
            },
            "type": "scattergeo"
           }
          ],
          "scattergl": [
           {
            "marker": {
             "colorbar": {
              "outlinewidth": 0,
              "ticks": ""
             }
            },
            "type": "scattergl"
           }
          ],
          "scattermapbox": [
           {
            "marker": {
             "colorbar": {
              "outlinewidth": 0,
              "ticks": ""
             }
            },
            "type": "scattermapbox"
           }
          ],
          "scatterpolar": [
           {
            "marker": {
             "colorbar": {
              "outlinewidth": 0,
              "ticks": ""
             }
            },
            "type": "scatterpolar"
           }
          ],
          "scatterpolargl": [
           {
            "marker": {
             "colorbar": {
              "outlinewidth": 0,
              "ticks": ""
             }
            },
            "type": "scatterpolargl"
           }
          ],
          "scatterternary": [
           {
            "marker": {
             "colorbar": {
              "outlinewidth": 0,
              "ticks": ""
             }
            },
            "type": "scatterternary"
           }
          ],
          "surface": [
           {
            "colorbar": {
             "outlinewidth": 0,
             "ticks": ""
            },
            "colorscale": [
             [
              0,
              "#0d0887"
             ],
             [
              0.1111111111111111,
              "#46039f"
             ],
             [
              0.2222222222222222,
              "#7201a8"
             ],
             [
              0.3333333333333333,
              "#9c179e"
             ],
             [
              0.4444444444444444,
              "#bd3786"
             ],
             [
              0.5555555555555556,
              "#d8576b"
             ],
             [
              0.6666666666666666,
              "#ed7953"
             ],
             [
              0.7777777777777778,
              "#fb9f3a"
             ],
             [
              0.8888888888888888,
              "#fdca26"
             ],
             [
              1,
              "#f0f921"
             ]
            ],
            "type": "surface"
           }
          ],
          "table": [
           {
            "cells": {
             "fill": {
              "color": "#EBF0F8"
             },
             "line": {
              "color": "white"
             }
            },
            "header": {
             "fill": {
              "color": "#C8D4E3"
             },
             "line": {
              "color": "white"
             }
            },
            "type": "table"
           }
          ]
         },
         "layout": {
          "annotationdefaults": {
           "arrowcolor": "#2a3f5f",
           "arrowhead": 0,
           "arrowwidth": 1
          },
          "coloraxis": {
           "colorbar": {
            "outlinewidth": 0,
            "ticks": ""
           }
          },
          "colorscale": {
           "diverging": [
            [
             0,
             "#8e0152"
            ],
            [
             0.1,
             "#c51b7d"
            ],
            [
             0.2,
             "#de77ae"
            ],
            [
             0.3,
             "#f1b6da"
            ],
            [
             0.4,
             "#fde0ef"
            ],
            [
             0.5,
             "#f7f7f7"
            ],
            [
             0.6,
             "#e6f5d0"
            ],
            [
             0.7,
             "#b8e186"
            ],
            [
             0.8,
             "#7fbc41"
            ],
            [
             0.9,
             "#4d9221"
            ],
            [
             1,
             "#276419"
            ]
           ],
           "sequential": [
            [
             0,
             "#0d0887"
            ],
            [
             0.1111111111111111,
             "#46039f"
            ],
            [
             0.2222222222222222,
             "#7201a8"
            ],
            [
             0.3333333333333333,
             "#9c179e"
            ],
            [
             0.4444444444444444,
             "#bd3786"
            ],
            [
             0.5555555555555556,
             "#d8576b"
            ],
            [
             0.6666666666666666,
             "#ed7953"
            ],
            [
             0.7777777777777778,
             "#fb9f3a"
            ],
            [
             0.8888888888888888,
             "#fdca26"
            ],
            [
             1,
             "#f0f921"
            ]
           ],
           "sequentialminus": [
            [
             0,
             "#0d0887"
            ],
            [
             0.1111111111111111,
             "#46039f"
            ],
            [
             0.2222222222222222,
             "#7201a8"
            ],
            [
             0.3333333333333333,
             "#9c179e"
            ],
            [
             0.4444444444444444,
             "#bd3786"
            ],
            [
             0.5555555555555556,
             "#d8576b"
            ],
            [
             0.6666666666666666,
             "#ed7953"
            ],
            [
             0.7777777777777778,
             "#fb9f3a"
            ],
            [
             0.8888888888888888,
             "#fdca26"
            ],
            [
             1,
             "#f0f921"
            ]
           ]
          },
          "colorway": [
           "#636efa",
           "#EF553B",
           "#00cc96",
           "#ab63fa",
           "#FFA15A",
           "#19d3f3",
           "#FF6692",
           "#B6E880",
           "#FF97FF",
           "#FECB52"
          ],
          "font": {
           "color": "#2a3f5f"
          },
          "geo": {
           "bgcolor": "white",
           "lakecolor": "white",
           "landcolor": "white",
           "showlakes": true,
           "showland": true,
           "subunitcolor": "#C8D4E3"
          },
          "hoverlabel": {
           "align": "left"
          },
          "hovermode": "closest",
          "mapbox": {
           "style": "light"
          },
          "paper_bgcolor": "white",
          "plot_bgcolor": "white",
          "polar": {
           "angularaxis": {
            "gridcolor": "#EBF0F8",
            "linecolor": "#EBF0F8",
            "ticks": ""
           },
           "bgcolor": "white",
           "radialaxis": {
            "gridcolor": "#EBF0F8",
            "linecolor": "#EBF0F8",
            "ticks": ""
           }
          },
          "scene": {
           "xaxis": {
            "backgroundcolor": "white",
            "gridcolor": "#DFE8F3",
            "gridwidth": 2,
            "linecolor": "#EBF0F8",
            "showbackground": true,
            "ticks": "",
            "zerolinecolor": "#EBF0F8"
           },
           "yaxis": {
            "backgroundcolor": "white",
            "gridcolor": "#DFE8F3",
            "gridwidth": 2,
            "linecolor": "#EBF0F8",
            "showbackground": true,
            "ticks": "",
            "zerolinecolor": "#EBF0F8"
           },
           "zaxis": {
            "backgroundcolor": "white",
            "gridcolor": "#DFE8F3",
            "gridwidth": 2,
            "linecolor": "#EBF0F8",
            "showbackground": true,
            "ticks": "",
            "zerolinecolor": "#EBF0F8"
           }
          },
          "shapedefaults": {
           "line": {
            "color": "#2a3f5f"
           }
          },
          "ternary": {
           "aaxis": {
            "gridcolor": "#DFE8F3",
            "linecolor": "#A2B1C6",
            "ticks": ""
           },
           "baxis": {
            "gridcolor": "#DFE8F3",
            "linecolor": "#A2B1C6",
            "ticks": ""
           },
           "bgcolor": "white",
           "caxis": {
            "gridcolor": "#DFE8F3",
            "linecolor": "#A2B1C6",
            "ticks": ""
           }
          },
          "title": {
           "x": 0.05
          },
          "xaxis": {
           "automargin": true,
           "gridcolor": "#EBF0F8",
           "linecolor": "#EBF0F8",
           "ticks": "",
           "title": {
            "standoff": 15
           },
           "zerolinecolor": "#EBF0F8",
           "zerolinewidth": 2
          },
          "yaxis": {
           "automargin": true,
           "gridcolor": "#EBF0F8",
           "linecolor": "#EBF0F8",
           "ticks": "",
           "title": {
            "standoff": 15
           },
           "zerolinecolor": "#EBF0F8",
           "zerolinewidth": 2
          }
         }
        },
        "title": {
         "text": "Casos de COVID-19 en México"
        },
        "width": 1500,
        "xaxis": {
         "anchor": "y",
         "domain": [
          0,
          1
         ],
         "showgrid": true,
         "title": {
          "text": "Fecha de registro"
         }
        },
        "yaxis": {
         "anchor": "x",
         "domain": [
          0,
          1
         ],
         "showgrid": true,
         "title": {
          "text": "Casos confirmados"
         }
        }
       }
      }
     },
     "metadata": {}
    },
    {
     "output_type": "display_data",
     "data": {
      "application/vnd.plotly.v1+json": {
       "config": {
        "plotlyServerURL": "https://plot.ly"
       },
       "data": [
        {
         "hovertemplate": "x=%{x}<br>y=%{y}<extra></extra>",
         "legendgroup": "",
         "line": {
          "color": "black",
          "dash": "solid",
          "width": 2
         },
         "marker": {
          "color": "black"
         },
         "mode": "lines",
         "name": "",
         "orientation": "v",
         "showlegend": false,
         "type": "scatter",
         "x": [
          "2020-03-03T00:00:00",
          "2020-03-13T00:00:00",
          "2020-03-17T00:00:00",
          "2020-03-18T00:00:00",
          "2020-03-20T00:00:00",
          "2020-03-22T00:00:00",
          "2020-03-23T00:00:00",
          "2020-03-24T00:00:00",
          "2020-03-25T00:00:00",
          "2020-03-26T00:00:00",
          "2020-03-27T00:00:00",
          "2020-03-28T00:00:00",
          "2020-03-29T00:00:00",
          "2020-03-30T00:00:00",
          "2020-03-31T00:00:00",
          "2020-04-01T00:00:00",
          "2020-04-02T00:00:00",
          "2020-04-03T00:00:00",
          "2020-04-04T00:00:00",
          "2020-04-05T00:00:00",
          "2020-04-06T00:00:00",
          "2020-04-07T00:00:00",
          "2020-04-08T00:00:00",
          "2020-04-09T00:00:00",
          "2020-04-10T00:00:00",
          "2020-04-11T00:00:00",
          "2020-04-12T00:00:00",
          "2020-04-13T00:00:00",
          "2020-04-14T00:00:00",
          "2020-04-15T00:00:00",
          "2020-04-16T00:00:00",
          "2020-04-17T00:00:00",
          "2020-04-18T00:00:00",
          "2020-04-19T00:00:00",
          "2020-04-20T00:00:00",
          "2020-04-21T00:00:00",
          "2020-04-22T00:00:00",
          "2020-04-23T00:00:00",
          "2020-04-24T00:00:00",
          "2020-04-25T00:00:00",
          "2020-04-26T00:00:00",
          "2020-04-27T00:00:00",
          "2020-04-28T00:00:00",
          "2020-04-29T00:00:00",
          "2020-04-30T00:00:00",
          "2020-05-01T00:00:00",
          "2020-05-02T00:00:00",
          "2020-05-03T00:00:00",
          "2020-05-04T00:00:00",
          "2020-05-05T00:00:00",
          "2020-05-06T00:00:00",
          "2020-05-07T00:00:00",
          "2020-05-08T00:00:00",
          "2020-05-09T00:00:00",
          "2020-05-10T00:00:00",
          "2020-05-11T00:00:00",
          "2020-05-12T00:00:00",
          "2020-05-13T00:00:00",
          "2020-05-14T00:00:00",
          "2020-05-15T00:00:00",
          "2020-05-16T00:00:00",
          "2020-05-17T00:00:00",
          "2020-05-18T00:00:00",
          "2020-05-19T00:00:00",
          "2020-05-20T00:00:00",
          "2020-05-21T00:00:00",
          "2020-05-22T00:00:00",
          "2020-05-23T00:00:00",
          "2020-05-24T00:00:00",
          "2020-05-25T00:00:00",
          "2020-05-26T00:00:00",
          "2020-05-27T00:00:00",
          "2020-05-28T00:00:00",
          "2020-05-29T00:00:00",
          "2020-05-30T00:00:00",
          "2020-05-31T00:00:00",
          "2020-06-01T00:00:00",
          "2020-06-02T00:00:00",
          "2020-06-03T00:00:00",
          "2020-06-04T00:00:00",
          "2020-06-05T00:00:00",
          "2020-06-06T00:00:00",
          "2020-06-07T00:00:00",
          "2020-06-08T00:00:00",
          "2020-06-09T00:00:00",
          "2020-06-10T00:00:00",
          "2020-06-11T00:00:00",
          "2020-06-12T00:00:00",
          "2020-06-13T00:00:00",
          "2020-06-14T00:00:00",
          "2020-06-15T00:00:00",
          "2020-06-16T00:00:00",
          "2020-06-17T00:00:00",
          "2020-06-18T00:00:00",
          "2020-06-19T00:00:00",
          "2020-06-20T00:00:00",
          "2020-06-21T00:00:00",
          "2020-06-22T00:00:00",
          "2020-06-23T00:00:00",
          "2020-06-24T00:00:00",
          "2020-06-25T00:00:00",
          "2020-06-26T00:00:00",
          "2020-06-27T00:00:00",
          "2020-06-28T00:00:00",
          "2020-06-29T00:00:00",
          "2020-06-30T00:00:00",
          "2020-07-01T00:00:00",
          "2020-07-02T00:00:00",
          "2020-07-03T00:00:00",
          "2020-07-04T00:00:00",
          "2020-07-05T00:00:00",
          "2020-07-06T00:00:00",
          "2020-07-07T00:00:00",
          "2020-07-08T00:00:00",
          "2020-07-09T00:00:00",
          "2020-07-10T00:00:00",
          "2020-07-11T00:00:00",
          "2020-07-12T00:00:00",
          "2020-07-13T00:00:00",
          "2020-07-14T00:00:00",
          "2020-07-15T00:00:00",
          "2020-07-16T00:00:00",
          "2020-07-17T00:00:00",
          "2020-07-18T00:00:00",
          "2020-07-19T00:00:00",
          "2020-07-20T00:00:00",
          "2020-07-21T00:00:00",
          "2020-07-22T00:00:00",
          "2020-07-23T00:00:00",
          "2020-07-24T00:00:00",
          "2020-07-25T00:00:00",
          "2020-07-26T00:00:00",
          "2020-07-27T00:00:00",
          "2020-07-28T00:00:00",
          "2020-07-29T00:00:00",
          "2020-07-30T00:00:00",
          "2020-07-31T00:00:00",
          "2020-08-01T00:00:00",
          "2020-08-02T00:00:00",
          "2020-08-03T00:00:00",
          "2020-08-04T00:00:00",
          "2020-08-05T00:00:00",
          "2020-08-06T00:00:00",
          "2020-08-07T00:00:00",
          "2020-08-08T00:00:00",
          "2020-08-09T00:00:00",
          "2020-08-10T00:00:00",
          "2020-08-11T00:00:00",
          "2020-08-12T00:00:00",
          "2020-08-13T00:00:00",
          "2020-08-14T00:00:00",
          "2020-08-15T00:00:00",
          "2020-08-16T00:00:00",
          "2020-08-17T00:00:00",
          "2020-08-18T00:00:00",
          "2020-08-19T00:00:00",
          "2020-08-20T00:00:00",
          "2020-08-21T00:00:00",
          "2020-08-22T00:00:00",
          "2020-08-23T00:00:00",
          "2020-08-24T00:00:00",
          "2020-08-25T00:00:00",
          "2020-08-26T00:00:00",
          "2020-08-27T00:00:00",
          "2020-08-28T00:00:00",
          "2020-08-29T00:00:00",
          "2020-08-30T00:00:00",
          "2020-08-31T00:00:00",
          "2020-09-01T00:00:00",
          "2020-09-02T00:00:00",
          "2020-09-03T00:00:00",
          "2020-09-04T00:00:00",
          "2020-09-05T00:00:00",
          "2020-09-06T00:00:00",
          "2020-09-07T00:00:00",
          "2020-09-08T00:00:00",
          "2020-09-09T00:00:00",
          "2020-09-10T00:00:00",
          "2020-09-11T00:00:00",
          "2020-09-12T00:00:00",
          "2020-09-13T00:00:00",
          "2020-09-14T00:00:00",
          "2020-09-15T00:00:00",
          "2020-09-16T00:00:00",
          "2020-09-17T00:00:00",
          "2020-09-18T00:00:00",
          "2020-09-19T00:00:00",
          "2020-09-20T00:00:00",
          "2020-09-21T00:00:00",
          "2020-09-22T00:00:00",
          "2020-09-23T00:00:00",
          "2020-09-24T00:00:00",
          "2020-09-25T00:00:00",
          "2020-09-26T00:00:00",
          "2020-09-27T00:00:00",
          "2020-09-28T00:00:00",
          "2020-09-29T00:00:00",
          "2020-09-30T00:00:00",
          "2020-10-01T00:00:00",
          "2020-10-02T00:00:00",
          "2020-10-03T00:00:00",
          "2020-10-04T00:00:00",
          "2020-10-05T00:00:00",
          "2020-10-06T00:00:00",
          "2020-10-07T00:00:00",
          "2020-10-08T00:00:00",
          "2020-10-09T00:00:00",
          "2020-10-10T00:00:00",
          "2020-10-11T00:00:00",
          "2020-10-12T00:00:00",
          "2020-10-13T00:00:00",
          "2020-10-14T00:00:00",
          "2020-10-15T00:00:00",
          "2020-10-16T00:00:00",
          "2020-10-17T00:00:00",
          "2020-10-18T00:00:00",
          "2020-10-19T00:00:00",
          "2020-10-20T00:00:00",
          "2020-10-21T00:00:00",
          "2020-10-22T00:00:00",
          "2020-10-23T00:00:00",
          "2020-10-24T00:00:00",
          "2020-10-25T00:00:00",
          "2020-10-26T00:00:00",
          "2020-10-27T00:00:00",
          "2020-10-28T00:00:00",
          "2020-10-29T00:00:00",
          "2020-10-30T00:00:00",
          "2020-10-31T00:00:00",
          "2020-11-01T00:00:00",
          "2020-11-02T00:00:00",
          "2020-11-03T00:00:00",
          "2020-11-04T00:00:00",
          "2020-11-05T00:00:00",
          "2020-11-06T00:00:00",
          "2020-11-07T00:00:00",
          "2020-11-08T00:00:00",
          "2020-11-09T00:00:00",
          "2020-11-10T00:00:00",
          "2020-11-11T00:00:00",
          "2020-11-12T00:00:00",
          "2020-11-13T00:00:00",
          "2020-11-14T00:00:00",
          "2020-11-15T00:00:00",
          "2020-11-16T00:00:00",
          "2020-11-17T00:00:00",
          "2020-11-18T00:00:00",
          "2020-11-19T00:00:00",
          "2020-11-20T00:00:00",
          "2020-11-21T00:00:00",
          "2020-11-22T00:00:00",
          "2020-11-23T00:00:00",
          "2020-11-24T00:00:00",
          "2020-11-25T00:00:00",
          "2020-11-26T00:00:00",
          "2020-11-27T00:00:00",
          "2020-11-28T00:00:00",
          "2020-11-29T00:00:00",
          "2020-11-30T00:00:00",
          "2020-12-01T00:00:00",
          "2020-12-02T00:00:00",
          "2020-12-03T00:00:00",
          "2020-12-04T00:00:00",
          "2020-12-05T00:00:00",
          "2020-12-06T00:00:00",
          "2020-12-07T00:00:00",
          "2020-12-08T00:00:00",
          "2020-12-09T00:00:00",
          "2020-12-10T00:00:00",
          "2020-12-11T00:00:00",
          "2020-12-12T00:00:00",
          "2020-12-13T00:00:00",
          "2020-12-14T00:00:00",
          "2020-12-15T00:00:00",
          "2020-12-16T00:00:00",
          "2020-12-17T00:00:00",
          "2020-12-18T00:00:00",
          "2020-12-19T00:00:00",
          "2020-12-20T00:00:00",
          "2020-12-21T00:00:00",
          "2020-12-22T00:00:00",
          "2020-12-23T00:00:00",
          "2020-12-24T00:00:00",
          "2020-12-25T00:00:00",
          "2020-12-26T00:00:00",
          "2020-12-27T00:00:00",
          "2020-12-28T00:00:00",
          "2020-12-29T00:00:00",
          "2020-12-30T00:00:00",
          "2020-12-31T00:00:00",
          "2021-01-01T00:00:00",
          "2021-01-02T00:00:00",
          "2021-01-03T00:00:00",
          "2021-01-04T00:00:00",
          "2021-01-05T00:00:00",
          "2021-01-06T00:00:00",
          "2021-01-07T00:00:00",
          "2021-01-08T00:00:00",
          "2021-01-09T00:00:00",
          "2021-01-10T00:00:00",
          "2021-01-11T00:00:00",
          "2021-01-12T00:00:00",
          "2021-01-13T00:00:00",
          "2021-01-14T00:00:00",
          "2021-01-15T00:00:00",
          "2021-01-16T00:00:00",
          "2021-01-17T00:00:00",
          "2021-01-18T00:00:00"
         ],
         "xaxis": "x",
         "y": [
          1,
          1,
          1,
          2,
          1,
          2,
          1,
          2,
          2,
          8,
          8,
          15,
          9,
          12,
          22,
          20,
          27,
          33,
          33,
          30,
          53,
          56,
          49,
          55,
          68,
          71,
          73,
          84,
          96,
          97,
          89,
          115,
          118,
          146,
          173,
          172,
          172,
          181,
          216,
          234,
          255,
          223,
          231,
          304,
          284,
          324,
          279,
          283,
          349,
          336,
          323,
          311,
          346,
          336,
          344,
          365,
          388,
          399,
          445,
          456,
          421,
          488,
          486,
          487,
          484,
          484,
          470,
          459,
          502,
          529,
          522,
          497,
          518,
          480,
          524,
          548,
          602,
          545,
          593,
          576,
          543,
          591,
          623,
          667,
          623,
          639,
          593,
          651,
          617,
          643,
          649,
          715,
          693,
          622,
          600,
          535,
          625,
          616,
          597,
          588,
          572,
          635,
          637,
          625,
          686,
          664,
          629,
          640,
          640,
          667,
          695,
          767,
          750,
          682,
          706,
          678,
          684,
          695,
          769,
          735,
          741,
          751,
          708,
          675,
          739,
          733,
          772,
          669,
          727,
          674,
          721,
          733,
          725,
          708,
          628,
          700,
          620,
          672,
          626,
          687,
          716,
          657,
          638,
          592,
          629,
          608,
          624,
          627,
          563,
          565,
          534,
          528,
          535,
          573,
          506,
          551,
          508,
          512,
          513,
          481,
          492,
          499,
          486,
          465,
          492,
          472,
          490,
          507,
          463,
          456,
          455,
          438,
          413,
          423,
          446,
          402,
          438,
          388,
          400,
          424,
          365,
          420,
          399,
          381,
          368,
          329,
          372,
          391,
          377,
          393,
          365,
          367,
          334,
          350,
          333,
          337,
          334,
          321,
          331,
          317,
          331,
          313,
          339,
          320,
          321,
          311,
          290,
          345,
          331,
          386,
          343,
          336,
          353,
          332,
          348,
          363,
          432,
          375,
          426,
          412,
          395,
          386,
          443,
          433,
          413,
          420,
          419,
          421,
          385,
          394,
          441,
          423,
          424,
          451,
          457,
          407,
          409,
          441,
          410,
          431,
          465,
          413,
          402,
          412,
          426,
          450,
          435,
          408,
          479,
          467,
          520,
          471,
          477,
          462,
          493,
          534,
          483,
          495,
          532,
          566,
          516,
          519,
          503,
          544,
          539,
          571,
          531,
          561,
          551,
          571,
          573,
          595,
          581,
          597,
          588,
          597,
          620,
          629,
          616,
          685,
          642,
          633,
          648,
          620,
          663,
          704,
          723,
          730,
          671,
          629,
          743,
          715,
          746,
          771,
          742,
          797,
          733,
          795,
          765,
          774,
          801,
          758,
          673,
          597,
          366,
          290,
          199,
          1
         ],
         "yaxis": "y"
        }
       ],
       "layout": {
        "height": 600,
        "legend": {
         "tracegroupgap": 0
        },
        "template": {
         "data": {
          "bar": [
           {
            "error_x": {
             "color": "#2a3f5f"
            },
            "error_y": {
             "color": "#2a3f5f"
            },
            "marker": {
             "line": {
              "color": "white",
              "width": 0.5
             }
            },
            "type": "bar"
           }
          ],
          "barpolar": [
           {
            "marker": {
             "line": {
              "color": "white",
              "width": 0.5
             }
            },
            "type": "barpolar"
           }
          ],
          "carpet": [
           {
            "aaxis": {
             "endlinecolor": "#2a3f5f",
             "gridcolor": "#C8D4E3",
             "linecolor": "#C8D4E3",
             "minorgridcolor": "#C8D4E3",
             "startlinecolor": "#2a3f5f"
            },
            "baxis": {
             "endlinecolor": "#2a3f5f",
             "gridcolor": "#C8D4E3",
             "linecolor": "#C8D4E3",
             "minorgridcolor": "#C8D4E3",
             "startlinecolor": "#2a3f5f"
            },
            "type": "carpet"
           }
          ],
          "choropleth": [
           {
            "colorbar": {
             "outlinewidth": 0,
             "ticks": ""
            },
            "type": "choropleth"
           }
          ],
          "contour": [
           {
            "colorbar": {
             "outlinewidth": 0,
             "ticks": ""
            },
            "colorscale": [
             [
              0,
              "#0d0887"
             ],
             [
              0.1111111111111111,
              "#46039f"
             ],
             [
              0.2222222222222222,
              "#7201a8"
             ],
             [
              0.3333333333333333,
              "#9c179e"
             ],
             [
              0.4444444444444444,
              "#bd3786"
             ],
             [
              0.5555555555555556,
              "#d8576b"
             ],
             [
              0.6666666666666666,
              "#ed7953"
             ],
             [
              0.7777777777777778,
              "#fb9f3a"
             ],
             [
              0.8888888888888888,
              "#fdca26"
             ],
             [
              1,
              "#f0f921"
             ]
            ],
            "type": "contour"
           }
          ],
          "contourcarpet": [
           {
            "colorbar": {
             "outlinewidth": 0,
             "ticks": ""
            },
            "type": "contourcarpet"
           }
          ],
          "heatmap": [
           {
            "colorbar": {
             "outlinewidth": 0,
             "ticks": ""
            },
            "colorscale": [
             [
              0,
              "#0d0887"
             ],
             [
              0.1111111111111111,
              "#46039f"
             ],
             [
              0.2222222222222222,
              "#7201a8"
             ],
             [
              0.3333333333333333,
              "#9c179e"
             ],
             [
              0.4444444444444444,
              "#bd3786"
             ],
             [
              0.5555555555555556,
              "#d8576b"
             ],
             [
              0.6666666666666666,
              "#ed7953"
             ],
             [
              0.7777777777777778,
              "#fb9f3a"
             ],
             [
              0.8888888888888888,
              "#fdca26"
             ],
             [
              1,
              "#f0f921"
             ]
            ],
            "type": "heatmap"
           }
          ],
          "heatmapgl": [
           {
            "colorbar": {
             "outlinewidth": 0,
             "ticks": ""
            },
            "colorscale": [
             [
              0,
              "#0d0887"
             ],
             [
              0.1111111111111111,
              "#46039f"
             ],
             [
              0.2222222222222222,
              "#7201a8"
             ],
             [
              0.3333333333333333,
              "#9c179e"
             ],
             [
              0.4444444444444444,
              "#bd3786"
             ],
             [
              0.5555555555555556,
              "#d8576b"
             ],
             [
              0.6666666666666666,
              "#ed7953"
             ],
             [
              0.7777777777777778,
              "#fb9f3a"
             ],
             [
              0.8888888888888888,
              "#fdca26"
             ],
             [
              1,
              "#f0f921"
             ]
            ],
            "type": "heatmapgl"
           }
          ],
          "histogram": [
           {
            "marker": {
             "colorbar": {
              "outlinewidth": 0,
              "ticks": ""
             }
            },
            "type": "histogram"
           }
          ],
          "histogram2d": [
           {
            "colorbar": {
             "outlinewidth": 0,
             "ticks": ""
            },
            "colorscale": [
             [
              0,
              "#0d0887"
             ],
             [
              0.1111111111111111,
              "#46039f"
             ],
             [
              0.2222222222222222,
              "#7201a8"
             ],
             [
              0.3333333333333333,
              "#9c179e"
             ],
             [
              0.4444444444444444,
              "#bd3786"
             ],
             [
              0.5555555555555556,
              "#d8576b"
             ],
             [
              0.6666666666666666,
              "#ed7953"
             ],
             [
              0.7777777777777778,
              "#fb9f3a"
             ],
             [
              0.8888888888888888,
              "#fdca26"
             ],
             [
              1,
              "#f0f921"
             ]
            ],
            "type": "histogram2d"
           }
          ],
          "histogram2dcontour": [
           {
            "colorbar": {
             "outlinewidth": 0,
             "ticks": ""
            },
            "colorscale": [
             [
              0,
              "#0d0887"
             ],
             [
              0.1111111111111111,
              "#46039f"
             ],
             [
              0.2222222222222222,
              "#7201a8"
             ],
             [
              0.3333333333333333,
              "#9c179e"
             ],
             [
              0.4444444444444444,
              "#bd3786"
             ],
             [
              0.5555555555555556,
              "#d8576b"
             ],
             [
              0.6666666666666666,
              "#ed7953"
             ],
             [
              0.7777777777777778,
              "#fb9f3a"
             ],
             [
              0.8888888888888888,
              "#fdca26"
             ],
             [
              1,
              "#f0f921"
             ]
            ],
            "type": "histogram2dcontour"
           }
          ],
          "mesh3d": [
           {
            "colorbar": {
             "outlinewidth": 0,
             "ticks": ""
            },
            "type": "mesh3d"
           }
          ],
          "parcoords": [
           {
            "line": {
             "colorbar": {
              "outlinewidth": 0,
              "ticks": ""
             }
            },
            "type": "parcoords"
           }
          ],
          "pie": [
           {
            "automargin": true,
            "type": "pie"
           }
          ],
          "scatter": [
           {
            "marker": {
             "colorbar": {
              "outlinewidth": 0,
              "ticks": ""
             }
            },
            "type": "scatter"
           }
          ],
          "scatter3d": [
           {
            "line": {
             "colorbar": {
              "outlinewidth": 0,
              "ticks": ""
             }
            },
            "marker": {
             "colorbar": {
              "outlinewidth": 0,
              "ticks": ""
             }
            },
            "type": "scatter3d"
           }
          ],
          "scattercarpet": [
           {
            "marker": {
             "colorbar": {
              "outlinewidth": 0,
              "ticks": ""
             }
            },
            "type": "scattercarpet"
           }
          ],
          "scattergeo": [
           {
            "marker": {
             "colorbar": {
              "outlinewidth": 0,
              "ticks": ""
             }
            },
            "type": "scattergeo"
           }
          ],
          "scattergl": [
           {
            "marker": {
             "colorbar": {
              "outlinewidth": 0,
              "ticks": ""
             }
            },
            "type": "scattergl"
           }
          ],
          "scattermapbox": [
           {
            "marker": {
             "colorbar": {
              "outlinewidth": 0,
              "ticks": ""
             }
            },
            "type": "scattermapbox"
           }
          ],
          "scatterpolar": [
           {
            "marker": {
             "colorbar": {
              "outlinewidth": 0,
              "ticks": ""
             }
            },
            "type": "scatterpolar"
           }
          ],
          "scatterpolargl": [
           {
            "marker": {
             "colorbar": {
              "outlinewidth": 0,
              "ticks": ""
             }
            },
            "type": "scatterpolargl"
           }
          ],
          "scatterternary": [
           {
            "marker": {
             "colorbar": {
              "outlinewidth": 0,
              "ticks": ""
             }
            },
            "type": "scatterternary"
           }
          ],
          "surface": [
           {
            "colorbar": {
             "outlinewidth": 0,
             "ticks": ""
            },
            "colorscale": [
             [
              0,
              "#0d0887"
             ],
             [
              0.1111111111111111,
              "#46039f"
             ],
             [
              0.2222222222222222,
              "#7201a8"
             ],
             [
              0.3333333333333333,
              "#9c179e"
             ],
             [
              0.4444444444444444,
              "#bd3786"
             ],
             [
              0.5555555555555556,
              "#d8576b"
             ],
             [
              0.6666666666666666,
              "#ed7953"
             ],
             [
              0.7777777777777778,
              "#fb9f3a"
             ],
             [
              0.8888888888888888,
              "#fdca26"
             ],
             [
              1,
              "#f0f921"
             ]
            ],
            "type": "surface"
           }
          ],
          "table": [
           {
            "cells": {
             "fill": {
              "color": "#EBF0F8"
             },
             "line": {
              "color": "white"
             }
            },
            "header": {
             "fill": {
              "color": "#C8D4E3"
             },
             "line": {
              "color": "white"
             }
            },
            "type": "table"
           }
          ]
         },
         "layout": {
          "annotationdefaults": {
           "arrowcolor": "#2a3f5f",
           "arrowhead": 0,
           "arrowwidth": 1
          },
          "coloraxis": {
           "colorbar": {
            "outlinewidth": 0,
            "ticks": ""
           }
          },
          "colorscale": {
           "diverging": [
            [
             0,
             "#8e0152"
            ],
            [
             0.1,
             "#c51b7d"
            ],
            [
             0.2,
             "#de77ae"
            ],
            [
             0.3,
             "#f1b6da"
            ],
            [
             0.4,
             "#fde0ef"
            ],
            [
             0.5,
             "#f7f7f7"
            ],
            [
             0.6,
             "#e6f5d0"
            ],
            [
             0.7,
             "#b8e186"
            ],
            [
             0.8,
             "#7fbc41"
            ],
            [
             0.9,
             "#4d9221"
            ],
            [
             1,
             "#276419"
            ]
           ],
           "sequential": [
            [
             0,
             "#0d0887"
            ],
            [
             0.1111111111111111,
             "#46039f"
            ],
            [
             0.2222222222222222,
             "#7201a8"
            ],
            [
             0.3333333333333333,
             "#9c179e"
            ],
            [
             0.4444444444444444,
             "#bd3786"
            ],
            [
             0.5555555555555556,
             "#d8576b"
            ],
            [
             0.6666666666666666,
             "#ed7953"
            ],
            [
             0.7777777777777778,
             "#fb9f3a"
            ],
            [
             0.8888888888888888,
             "#fdca26"
            ],
            [
             1,
             "#f0f921"
            ]
           ],
           "sequentialminus": [
            [
             0,
             "#0d0887"
            ],
            [
             0.1111111111111111,
             "#46039f"
            ],
            [
             0.2222222222222222,
             "#7201a8"
            ],
            [
             0.3333333333333333,
             "#9c179e"
            ],
            [
             0.4444444444444444,
             "#bd3786"
            ],
            [
             0.5555555555555556,
             "#d8576b"
            ],
            [
             0.6666666666666666,
             "#ed7953"
            ],
            [
             0.7777777777777778,
             "#fb9f3a"
            ],
            [
             0.8888888888888888,
             "#fdca26"
            ],
            [
             1,
             "#f0f921"
            ]
           ]
          },
          "colorway": [
           "#636efa",
           "#EF553B",
           "#00cc96",
           "#ab63fa",
           "#FFA15A",
           "#19d3f3",
           "#FF6692",
           "#B6E880",
           "#FF97FF",
           "#FECB52"
          ],
          "font": {
           "color": "#2a3f5f"
          },
          "geo": {
           "bgcolor": "white",
           "lakecolor": "white",
           "landcolor": "white",
           "showlakes": true,
           "showland": true,
           "subunitcolor": "#C8D4E3"
          },
          "hoverlabel": {
           "align": "left"
          },
          "hovermode": "closest",
          "mapbox": {
           "style": "light"
          },
          "paper_bgcolor": "white",
          "plot_bgcolor": "white",
          "polar": {
           "angularaxis": {
            "gridcolor": "#EBF0F8",
            "linecolor": "#EBF0F8",
            "ticks": ""
           },
           "bgcolor": "white",
           "radialaxis": {
            "gridcolor": "#EBF0F8",
            "linecolor": "#EBF0F8",
            "ticks": ""
           }
          },
          "scene": {
           "xaxis": {
            "backgroundcolor": "white",
            "gridcolor": "#DFE8F3",
            "gridwidth": 2,
            "linecolor": "#EBF0F8",
            "showbackground": true,
            "ticks": "",
            "zerolinecolor": "#EBF0F8"
           },
           "yaxis": {
            "backgroundcolor": "white",
            "gridcolor": "#DFE8F3",
            "gridwidth": 2,
            "linecolor": "#EBF0F8",
            "showbackground": true,
            "ticks": "",
            "zerolinecolor": "#EBF0F8"
           },
           "zaxis": {
            "backgroundcolor": "white",
            "gridcolor": "#DFE8F3",
            "gridwidth": 2,
            "linecolor": "#EBF0F8",
            "showbackground": true,
            "ticks": "",
            "zerolinecolor": "#EBF0F8"
           }
          },
          "shapedefaults": {
           "line": {
            "color": "#2a3f5f"
           }
          },
          "ternary": {
           "aaxis": {
            "gridcolor": "#DFE8F3",
            "linecolor": "#A2B1C6",
            "ticks": ""
           },
           "baxis": {
            "gridcolor": "#DFE8F3",
            "linecolor": "#A2B1C6",
            "ticks": ""
           },
           "bgcolor": "white",
           "caxis": {
            "gridcolor": "#DFE8F3",
            "linecolor": "#A2B1C6",
            "ticks": ""
           }
          },
          "title": {
           "x": 0.05
          },
          "xaxis": {
           "automargin": true,
           "gridcolor": "#EBF0F8",
           "linecolor": "#EBF0F8",
           "ticks": "",
           "title": {
            "standoff": 15
           },
           "zerolinecolor": "#EBF0F8",
           "zerolinewidth": 2
          },
          "yaxis": {
           "automargin": true,
           "gridcolor": "#EBF0F8",
           "linecolor": "#EBF0F8",
           "ticks": "",
           "title": {
            "standoff": 15
           },
           "zerolinecolor": "#EBF0F8",
           "zerolinewidth": 2
          }
         }
        },
        "title": {
         "text": "Defunciones por COVID-19 en México"
        },
        "width": 1500,
        "xaxis": {
         "anchor": "y",
         "domain": [
          0,
          1
         ],
         "showgrid": true,
         "title": {
          "text": "Fecha de defunción"
         }
        },
        "yaxis": {
         "anchor": "x",
         "domain": [
          0,
          1
         ],
         "showgrid": true,
         "title": {
          "text": "Defunciones"
         }
        }
       }
      }
     },
     "metadata": {}
    }
   ],
   "source": [
    "# Ploting each line in different figures ...\n",
    "def plotCases(abscisa, ordenada, x_title, y_title, g_title, paint ):\n",
    "    fig_1 = px.line( x = abscisa, y = ordenada, title = g_title, width = 1500, height = 600) # labels parameter can be added with a dict\n",
    "\n",
    "    fig_1.update_traces(marker = dict(color = paint), line = dict(color = paint, width = 2))\n",
    "    fig_1.update_xaxes(showgrid = True, title = x_title)\n",
    "    fig_1.update_yaxes(showgrid = True, title = y_title)\n",
    "    fig_1.show()\n",
    "    \n",
    "plotCases(confirmados_por_fecha[\"fecha_ingreso\"], confirmados_por_fecha[\"confirmados\"], \n",
    "        \"Fecha de registro\", \"Casos confirmados\", \"Casos de COVID-19 en México\",\"#b4004e\")\n",
    "plotCases(defunciones_por_fecha[\"fecha_defuncion\"], defunciones_por_fecha[\"defunciones\"], \n",
    "        \"Fecha de defunción\", \"Defunciones\", \"Defunciones por COVID-19 en México\" , \"black\")\n",
    "# plotCases(sospechosos_por_fecha[\"fecha_sintomas\"],sospechosos_por_fecha[\"sospechosos\"], \n",
    "#         \"Fecha del inicio de sintomas\", \"Casos sospechosos\", \"Casos sospechosos de COVID-19 en México\", \"#c67c00\")\n"
   ]
  },
  {
   "cell_type": "code",
   "execution_count": 32,
   "metadata": {},
   "outputs": [],
   "source": [
    "# Computing the comulative cases ...\n",
    "def commulative_cases(data):\n",
    "    data_vec = np.array(data)\n",
    "    data_acumulados = np.cumsum(data_vec)    \n",
    "    return pd.Series(data_acumulados)                           # Numpy array to pandas Serie\n",
    "\n",
    "# Commulative confirmed cases ....\n",
    "confirmados_por_fecha[\"casos_acumulados\"] = commulative_cases(confirmados_por_fecha[\"confirmados\"])\n",
    "# Commulative Deaths  ....\n",
    "defunciones_por_fecha[\"defunciones_acumuladas\"] = commulative_cases(defunciones_por_fecha[\"defunciones\"])"
   ]
  },
  {
   "cell_type": "code",
   "execution_count": 33,
   "metadata": {},
   "outputs": [],
   "source": [
    "#Computing the average with the actual day plus the 6 previous days\n",
    "def average_of_seven_days(serie , threshold = 25000):\n",
    "    data_vect = np.array(serie)\n",
    "    average = np.zeros(data_vect.size)\n",
    "    counter = 0\n",
    "    init = 0\n",
    "    # ....\n",
    "    index = np.nonzero(data_vect > threshold)\n",
    "    data_vect[index] = 0\n",
    "    #Computing the average\n",
    "    for i in range(data_vect.size):\n",
    "        if i >= 6:\n",
    "            average[counter] = np.mean(data_vect[init:i+1])\n",
    "            init += 1\n",
    "        else:\n",
    "            average[counter] = 1/7 * np.sum(data_vect[0:i+1])\n",
    "\n",
    "        counter += 1\n",
    "\n",
    "    return  pd.Series(np.round(average))   #Return a pandas Serie with rounded values"
   ]
  },
  {
   "cell_type": "code",
   "execution_count": 34,
   "metadata": {},
   "outputs": [],
   "source": [
    "# confirmados_por_fecha[\"casos_promedio\"] =  average_of_seven_days(confirmados_por_fecha[\"confirmados\"])\n",
    "# defunciones_por_fecha[\"defunciones_promedio\"] = average_of_seven_days(defunciones_por_fecha[\"defunciones\"])"
   ]
  },
  {
   "cell_type": "code",
   "execution_count": 35,
   "metadata": {},
   "outputs": [
    {
     "output_type": "display_data",
     "data": {
      "application/vnd.plotly.v1+json": {
       "config": {
        "plotlyServerURL": "https://plot.ly"
       },
       "data": [
        {
         "marker": {
          "color": "#ff1744",
          "opacity": 0.6
         },
         "name": "Nuevos casos",
         "type": "bar",
         "x": [
          "2020-01-13T00:00:00",
          "2020-01-28T00:00:00",
          "2020-01-29T00:00:00",
          "2020-02-10T00:00:00",
          "2020-02-19T00:00:00",
          "2020-02-20T00:00:00",
          "2020-02-24T00:00:00",
          "2020-02-27T00:00:00",
          "2020-02-28T00:00:00",
          "2020-02-29T00:00:00",
          "2020-03-02T00:00:00",
          "2020-03-03T00:00:00",
          "2020-03-04T00:00:00",
          "2020-03-05T00:00:00",
          "2020-03-07T00:00:00",
          "2020-03-08T00:00:00",
          "2020-03-09T00:00:00",
          "2020-03-10T00:00:00",
          "2020-03-11T00:00:00",
          "2020-03-12T00:00:00",
          "2020-03-13T00:00:00",
          "2020-03-14T00:00:00",
          "2020-03-15T00:00:00",
          "2020-03-16T00:00:00",
          "2020-03-17T00:00:00",
          "2020-03-18T00:00:00",
          "2020-03-19T00:00:00",
          "2020-03-20T00:00:00",
          "2020-03-21T00:00:00",
          "2020-03-22T00:00:00",
          "2020-03-23T00:00:00",
          "2020-03-24T00:00:00",
          "2020-03-25T00:00:00",
          "2020-03-26T00:00:00",
          "2020-03-27T00:00:00",
          "2020-03-28T00:00:00",
          "2020-03-29T00:00:00",
          "2020-03-30T00:00:00",
          "2020-03-31T00:00:00",
          "2020-04-01T00:00:00",
          "2020-04-02T00:00:00",
          "2020-04-03T00:00:00",
          "2020-04-04T00:00:00",
          "2020-04-05T00:00:00",
          "2020-04-06T00:00:00",
          "2020-04-07T00:00:00",
          "2020-04-08T00:00:00",
          "2020-04-09T00:00:00",
          "2020-04-10T00:00:00",
          "2020-04-11T00:00:00",
          "2020-04-12T00:00:00",
          "2020-04-13T00:00:00",
          "2020-04-14T00:00:00",
          "2020-04-15T00:00:00",
          "2020-04-16T00:00:00",
          "2020-04-17T00:00:00",
          "2020-04-18T00:00:00",
          "2020-04-19T00:00:00",
          "2020-04-20T00:00:00",
          "2020-04-21T00:00:00",
          "2020-04-22T00:00:00",
          "2020-04-23T00:00:00",
          "2020-04-24T00:00:00",
          "2020-04-25T00:00:00",
          "2020-04-26T00:00:00",
          "2020-04-27T00:00:00",
          "2020-04-28T00:00:00",
          "2020-04-29T00:00:00",
          "2020-04-30T00:00:00",
          "2020-05-01T00:00:00",
          "2020-05-02T00:00:00",
          "2020-05-03T00:00:00",
          "2020-05-04T00:00:00",
          "2020-05-05T00:00:00",
          "2020-05-06T00:00:00",
          "2020-05-07T00:00:00",
          "2020-05-08T00:00:00",
          "2020-05-09T00:00:00",
          "2020-05-10T00:00:00",
          "2020-05-11T00:00:00",
          "2020-05-12T00:00:00",
          "2020-05-13T00:00:00",
          "2020-05-14T00:00:00",
          "2020-05-15T00:00:00",
          "2020-05-16T00:00:00",
          "2020-05-17T00:00:00",
          "2020-05-18T00:00:00",
          "2020-05-19T00:00:00",
          "2020-05-20T00:00:00",
          "2020-05-21T00:00:00",
          "2020-05-22T00:00:00",
          "2020-05-23T00:00:00",
          "2020-05-24T00:00:00",
          "2020-05-25T00:00:00",
          "2020-05-26T00:00:00",
          "2020-05-27T00:00:00",
          "2020-05-28T00:00:00",
          "2020-05-29T00:00:00",
          "2020-05-30T00:00:00",
          "2020-05-31T00:00:00",
          "2020-06-01T00:00:00",
          "2020-06-02T00:00:00",
          "2020-06-03T00:00:00",
          "2020-06-04T00:00:00",
          "2020-06-05T00:00:00",
          "2020-06-06T00:00:00",
          "2020-06-07T00:00:00",
          "2020-06-08T00:00:00",
          "2020-06-09T00:00:00",
          "2020-06-10T00:00:00",
          "2020-06-11T00:00:00",
          "2020-06-12T00:00:00",
          "2020-06-13T00:00:00",
          "2020-06-14T00:00:00",
          "2020-06-15T00:00:00",
          "2020-06-16T00:00:00",
          "2020-06-17T00:00:00",
          "2020-06-18T00:00:00",
          "2020-06-19T00:00:00",
          "2020-06-20T00:00:00",
          "2020-06-21T00:00:00",
          "2020-06-22T00:00:00",
          "2020-06-23T00:00:00",
          "2020-06-24T00:00:00",
          "2020-06-25T00:00:00",
          "2020-06-26T00:00:00",
          "2020-06-27T00:00:00",
          "2020-06-28T00:00:00",
          "2020-06-29T00:00:00",
          "2020-06-30T00:00:00",
          "2020-07-01T00:00:00",
          "2020-07-02T00:00:00",
          "2020-07-03T00:00:00",
          "2020-07-04T00:00:00",
          "2020-07-05T00:00:00",
          "2020-07-06T00:00:00",
          "2020-07-07T00:00:00",
          "2020-07-08T00:00:00",
          "2020-07-09T00:00:00",
          "2020-07-10T00:00:00",
          "2020-07-11T00:00:00",
          "2020-07-12T00:00:00",
          "2020-07-13T00:00:00",
          "2020-07-14T00:00:00",
          "2020-07-15T00:00:00",
          "2020-07-16T00:00:00",
          "2020-07-17T00:00:00",
          "2020-07-18T00:00:00",
          "2020-07-19T00:00:00",
          "2020-07-20T00:00:00",
          "2020-07-21T00:00:00",
          "2020-07-22T00:00:00",
          "2020-07-23T00:00:00",
          "2020-07-24T00:00:00",
          "2020-07-25T00:00:00",
          "2020-07-26T00:00:00",
          "2020-07-27T00:00:00",
          "2020-07-28T00:00:00",
          "2020-07-29T00:00:00",
          "2020-07-30T00:00:00",
          "2020-07-31T00:00:00",
          "2020-08-01T00:00:00",
          "2020-08-02T00:00:00",
          "2020-08-03T00:00:00",
          "2020-08-04T00:00:00",
          "2020-08-05T00:00:00",
          "2020-08-06T00:00:00",
          "2020-08-07T00:00:00",
          "2020-08-08T00:00:00",
          "2020-08-09T00:00:00",
          "2020-08-10T00:00:00",
          "2020-08-11T00:00:00",
          "2020-08-12T00:00:00",
          "2020-08-13T00:00:00",
          "2020-08-14T00:00:00",
          "2020-08-15T00:00:00",
          "2020-08-16T00:00:00",
          "2020-08-17T00:00:00",
          "2020-08-18T00:00:00",
          "2020-08-19T00:00:00",
          "2020-08-20T00:00:00",
          "2020-08-21T00:00:00",
          "2020-08-22T00:00:00",
          "2020-08-23T00:00:00",
          "2020-08-24T00:00:00",
          "2020-08-25T00:00:00",
          "2020-08-26T00:00:00",
          "2020-08-27T00:00:00",
          "2020-08-28T00:00:00",
          "2020-08-29T00:00:00",
          "2020-08-30T00:00:00",
          "2020-08-31T00:00:00",
          "2020-09-01T00:00:00",
          "2020-09-02T00:00:00",
          "2020-09-03T00:00:00",
          "2020-09-04T00:00:00",
          "2020-09-05T00:00:00",
          "2020-09-06T00:00:00",
          "2020-09-07T00:00:00",
          "2020-09-08T00:00:00",
          "2020-09-09T00:00:00",
          "2020-09-10T00:00:00",
          "2020-09-11T00:00:00",
          "2020-09-12T00:00:00",
          "2020-09-13T00:00:00",
          "2020-09-14T00:00:00",
          "2020-09-15T00:00:00",
          "2020-09-16T00:00:00",
          "2020-09-17T00:00:00",
          "2020-09-18T00:00:00",
          "2020-09-19T00:00:00",
          "2020-09-20T00:00:00",
          "2020-09-21T00:00:00",
          "2020-09-22T00:00:00",
          "2020-09-23T00:00:00",
          "2020-09-24T00:00:00",
          "2020-09-25T00:00:00",
          "2020-09-26T00:00:00",
          "2020-09-27T00:00:00",
          "2020-09-28T00:00:00",
          "2020-09-29T00:00:00",
          "2020-09-30T00:00:00",
          "2020-10-01T00:00:00",
          "2020-10-02T00:00:00",
          "2020-10-03T00:00:00",
          "2020-10-04T00:00:00",
          "2020-10-05T00:00:00",
          "2020-10-06T00:00:00",
          "2020-10-07T00:00:00",
          "2020-10-08T00:00:00",
          "2020-10-09T00:00:00",
          "2020-10-10T00:00:00",
          "2020-10-11T00:00:00",
          "2020-10-12T00:00:00",
          "2020-10-13T00:00:00",
          "2020-10-14T00:00:00",
          "2020-10-15T00:00:00",
          "2020-10-16T00:00:00",
          "2020-10-17T00:00:00",
          "2020-10-18T00:00:00",
          "2020-10-19T00:00:00",
          "2020-10-20T00:00:00",
          "2020-10-21T00:00:00",
          "2020-10-22T00:00:00",
          "2020-10-23T00:00:00",
          "2020-10-24T00:00:00",
          "2020-10-25T00:00:00",
          "2020-10-26T00:00:00",
          "2020-10-27T00:00:00",
          "2020-10-28T00:00:00",
          "2020-10-29T00:00:00",
          "2020-10-30T00:00:00",
          "2020-10-31T00:00:00",
          "2020-11-01T00:00:00",
          "2020-11-02T00:00:00",
          "2020-11-03T00:00:00",
          "2020-11-04T00:00:00",
          "2020-11-05T00:00:00",
          "2020-11-06T00:00:00",
          "2020-11-07T00:00:00",
          "2020-11-08T00:00:00",
          "2020-11-09T00:00:00",
          "2020-11-10T00:00:00",
          "2020-11-11T00:00:00",
          "2020-11-12T00:00:00",
          "2020-11-13T00:00:00",
          "2020-11-14T00:00:00",
          "2020-11-15T00:00:00",
          "2020-11-16T00:00:00",
          "2020-11-17T00:00:00",
          "2020-11-18T00:00:00",
          "2020-11-19T00:00:00",
          "2020-11-20T00:00:00",
          "2020-11-21T00:00:00",
          "2020-11-22T00:00:00",
          "2020-11-23T00:00:00",
          "2020-11-24T00:00:00",
          "2020-11-25T00:00:00",
          "2020-11-26T00:00:00",
          "2020-11-27T00:00:00",
          "2020-11-28T00:00:00",
          "2020-11-29T00:00:00",
          "2020-11-30T00:00:00",
          "2020-12-01T00:00:00",
          "2020-12-02T00:00:00",
          "2020-12-03T00:00:00",
          "2020-12-04T00:00:00",
          "2020-12-05T00:00:00",
          "2020-12-06T00:00:00",
          "2020-12-07T00:00:00",
          "2020-12-08T00:00:00",
          "2020-12-09T00:00:00",
          "2020-12-10T00:00:00",
          "2020-12-11T00:00:00",
          "2020-12-12T00:00:00",
          "2020-12-13T00:00:00",
          "2020-12-14T00:00:00",
          "2020-12-15T00:00:00",
          "2020-12-16T00:00:00",
          "2020-12-17T00:00:00",
          "2020-12-18T00:00:00",
          "2020-12-19T00:00:00",
          "2020-12-20T00:00:00",
          "2020-12-21T00:00:00",
          "2020-12-22T00:00:00",
          "2020-12-23T00:00:00",
          "2020-12-24T00:00:00",
          "2020-12-25T00:00:00",
          "2020-12-26T00:00:00",
          "2020-12-27T00:00:00",
          "2020-12-28T00:00:00",
          "2020-12-29T00:00:00",
          "2020-12-30T00:00:00",
          "2020-12-31T00:00:00",
          "2021-01-01T00:00:00",
          "2021-01-02T00:00:00",
          "2021-01-03T00:00:00",
          "2021-01-04T00:00:00",
          "2021-01-05T00:00:00",
          "2021-01-06T00:00:00",
          "2021-01-07T00:00:00",
          "2021-01-08T00:00:00",
          "2021-01-09T00:00:00",
          "2021-01-10T00:00:00",
          "2021-01-11T00:00:00",
          "2021-01-12T00:00:00",
          "2021-01-13T00:00:00",
          "2021-01-14T00:00:00",
          "2021-01-15T00:00:00",
          "2021-01-16T00:00:00",
          "2021-01-17T00:00:00",
          "2021-01-18T00:00:00"
         ],
         "y": [
          1,
          1,
          1,
          1,
          1,
          1,
          1,
          5,
          3,
          1,
          2,
          4,
          5,
          3,
          1,
          4,
          2,
          10,
          30,
          29,
          60,
          50,
          36,
          70,
          96,
          105,
          149,
          129,
          81,
          65,
          156,
          219,
          174,
          209,
          249,
          181,
          153,
          329,
          295,
          354,
          329,
          370,
          233,
          243,
          596,
          493,
          546,
          440,
          528,
          440,
          446,
          900,
          884,
          928,
          948,
          1087,
          763,
          722,
          1438,
          1392,
          1326,
          1419,
          1636,
          1058,
          1013,
          1822,
          1829,
          1789,
          1801,
          1419,
          1366,
          1256,
          2521,
          2110,
          2282,
          2410,
          2425,
          1528,
          1423,
          2967,
          2937,
          3118,
          3078,
          3480,
          2173,
          1639,
          4032,
          3575,
          3907,
          4008,
          3996,
          2282,
          1878,
          4628,
          4338,
          4465,
          4224,
          4373,
          2735,
          2082,
          5292,
          4755,
          4950,
          4908,
          5052,
          3021,
          2346,
          6157,
          5768,
          5735,
          5396,
          5632,
          3075,
          2592,
          6567,
          6418,
          6149,
          6099,
          6115,
          3569,
          2467,
          6895,
          6622,
          6305,
          6297,
          6546,
          3670,
          2950,
          7523,
          7212,
          7616,
          7063,
          7084,
          3657,
          2987,
          7843,
          7895,
          7449,
          7136,
          7197,
          3864,
          3241,
          8841,
          8477,
          8809,
          8238,
          7974,
          4389,
          3431,
          9110,
          8648,
          8316,
          8078,
          8010,
          4162,
          3001,
          8480,
          8177,
          7687,
          7581,
          6705,
          3791,
          2516,
          7486,
          7385,
          7176,
          6691,
          6621,
          3673,
          2392,
          7200,
          6890,
          6443,
          6408,
          6197,
          3229,
          2311,
          6877,
          6680,
          6269,
          5993,
          6293,
          3123,
          2305,
          7013,
          6611,
          7032,
          6437,
          6326,
          3113,
          2177,
          6949,
          7088,
          6911,
          6280,
          6045,
          2851,
          2069,
          6350,
          6595,
          6024,
          5692,
          5474,
          2758,
          1858,
          6211,
          4278,
          2165,
          6324,
          5672,
          2760,
          1772,
          6252,
          6102,
          5698,
          5326,
          5272,
          2621,
          1759,
          6179,
          5976,
          5503,
          5249,
          4974,
          2391,
          1694,
          5772,
          5927,
          5663,
          5474,
          5684,
          2974,
          2130,
          6702,
          7025,
          6440,
          6401,
          6542,
          3228,
          2221,
          8099,
          8291,
          7314,
          7172,
          7164,
          3401,
          2380,
          8207,
          7904,
          7079,
          6767,
          6229,
          2896,
          2048,
          5016,
          7967,
          7416,
          7329,
          6901,
          3387,
          2457,
          8355,
          8339,
          8201,
          8017,
          7441,
          3755,
          2509,
          3044,
          9369,
          8598,
          8145,
          8227,
          4112,
          2647,
          10055,
          10161,
          9370,
          9476,
          9343,
          4706,
          2883,
          10648,
          11184,
          11190,
          10838,
          10569,
          5642,
          3009,
          12530,
          12587,
          11978,
          12036,
          11954,
          6325,
          3160,
          13561,
          13445,
          12552,
          12197,
          11780,
          6255,
          3533,
          13615,
          13099,
          11649,
          9623,
          2401,
          5391,
          4002,
          14501,
          14467,
          13467,
          10984,
          2894,
          5943,
          4494,
          14869,
          16325,
          15200,
          14484,
          13596,
          7472,
          4093,
          14668,
          13367,
          12112,
          13260,
          10362,
          4049,
          1371,
          62
         ]
        },
        {
         "line": {
          "color": "#b71c1c",
          "width": 2.5
         },
         "mode": "lines",
         "name": "Promedio de 7 días",
         "type": "scatter",
         "x": [
          "2020-01-13T00:00:00",
          "2020-01-28T00:00:00",
          "2020-01-29T00:00:00",
          "2020-02-10T00:00:00",
          "2020-02-19T00:00:00",
          "2020-02-20T00:00:00",
          "2020-02-24T00:00:00",
          "2020-02-27T00:00:00",
          "2020-02-28T00:00:00",
          "2020-02-29T00:00:00",
          "2020-03-02T00:00:00",
          "2020-03-03T00:00:00",
          "2020-03-04T00:00:00",
          "2020-03-05T00:00:00",
          "2020-03-07T00:00:00",
          "2020-03-08T00:00:00",
          "2020-03-09T00:00:00",
          "2020-03-10T00:00:00",
          "2020-03-11T00:00:00",
          "2020-03-12T00:00:00",
          "2020-03-13T00:00:00",
          "2020-03-14T00:00:00",
          "2020-03-15T00:00:00",
          "2020-03-16T00:00:00",
          "2020-03-17T00:00:00",
          "2020-03-18T00:00:00",
          "2020-03-19T00:00:00",
          "2020-03-20T00:00:00",
          "2020-03-21T00:00:00",
          "2020-03-22T00:00:00",
          "2020-03-23T00:00:00",
          "2020-03-24T00:00:00",
          "2020-03-25T00:00:00",
          "2020-03-26T00:00:00",
          "2020-03-27T00:00:00",
          "2020-03-28T00:00:00",
          "2020-03-29T00:00:00",
          "2020-03-30T00:00:00",
          "2020-03-31T00:00:00",
          "2020-04-01T00:00:00",
          "2020-04-02T00:00:00",
          "2020-04-03T00:00:00",
          "2020-04-04T00:00:00",
          "2020-04-05T00:00:00",
          "2020-04-06T00:00:00",
          "2020-04-07T00:00:00",
          "2020-04-08T00:00:00",
          "2020-04-09T00:00:00",
          "2020-04-10T00:00:00",
          "2020-04-11T00:00:00",
          "2020-04-12T00:00:00",
          "2020-04-13T00:00:00",
          "2020-04-14T00:00:00",
          "2020-04-15T00:00:00",
          "2020-04-16T00:00:00",
          "2020-04-17T00:00:00",
          "2020-04-18T00:00:00",
          "2020-04-19T00:00:00",
          "2020-04-20T00:00:00",
          "2020-04-21T00:00:00",
          "2020-04-22T00:00:00",
          "2020-04-23T00:00:00",
          "2020-04-24T00:00:00",
          "2020-04-25T00:00:00",
          "2020-04-26T00:00:00",
          "2020-04-27T00:00:00",
          "2020-04-28T00:00:00",
          "2020-04-29T00:00:00",
          "2020-04-30T00:00:00",
          "2020-05-01T00:00:00",
          "2020-05-02T00:00:00",
          "2020-05-03T00:00:00",
          "2020-05-04T00:00:00",
          "2020-05-05T00:00:00",
          "2020-05-06T00:00:00",
          "2020-05-07T00:00:00",
          "2020-05-08T00:00:00",
          "2020-05-09T00:00:00",
          "2020-05-10T00:00:00",
          "2020-05-11T00:00:00",
          "2020-05-12T00:00:00",
          "2020-05-13T00:00:00",
          "2020-05-14T00:00:00",
          "2020-05-15T00:00:00",
          "2020-05-16T00:00:00",
          "2020-05-17T00:00:00",
          "2020-05-18T00:00:00",
          "2020-05-19T00:00:00",
          "2020-05-20T00:00:00",
          "2020-05-21T00:00:00",
          "2020-05-22T00:00:00",
          "2020-05-23T00:00:00",
          "2020-05-24T00:00:00",
          "2020-05-25T00:00:00",
          "2020-05-26T00:00:00",
          "2020-05-27T00:00:00",
          "2020-05-28T00:00:00",
          "2020-05-29T00:00:00",
          "2020-05-30T00:00:00",
          "2020-05-31T00:00:00",
          "2020-06-01T00:00:00",
          "2020-06-02T00:00:00",
          "2020-06-03T00:00:00",
          "2020-06-04T00:00:00",
          "2020-06-05T00:00:00",
          "2020-06-06T00:00:00",
          "2020-06-07T00:00:00",
          "2020-06-08T00:00:00",
          "2020-06-09T00:00:00",
          "2020-06-10T00:00:00",
          "2020-06-11T00:00:00",
          "2020-06-12T00:00:00",
          "2020-06-13T00:00:00",
          "2020-06-14T00:00:00",
          "2020-06-15T00:00:00",
          "2020-06-16T00:00:00",
          "2020-06-17T00:00:00",
          "2020-06-18T00:00:00",
          "2020-06-19T00:00:00",
          "2020-06-20T00:00:00",
          "2020-06-21T00:00:00",
          "2020-06-22T00:00:00",
          "2020-06-23T00:00:00",
          "2020-06-24T00:00:00",
          "2020-06-25T00:00:00",
          "2020-06-26T00:00:00",
          "2020-06-27T00:00:00",
          "2020-06-28T00:00:00",
          "2020-06-29T00:00:00",
          "2020-06-30T00:00:00",
          "2020-07-01T00:00:00",
          "2020-07-02T00:00:00",
          "2020-07-03T00:00:00",
          "2020-07-04T00:00:00",
          "2020-07-05T00:00:00",
          "2020-07-06T00:00:00",
          "2020-07-07T00:00:00",
          "2020-07-08T00:00:00",
          "2020-07-09T00:00:00",
          "2020-07-10T00:00:00",
          "2020-07-11T00:00:00",
          "2020-07-12T00:00:00",
          "2020-07-13T00:00:00",
          "2020-07-14T00:00:00",
          "2020-07-15T00:00:00",
          "2020-07-16T00:00:00",
          "2020-07-17T00:00:00",
          "2020-07-18T00:00:00",
          "2020-07-19T00:00:00",
          "2020-07-20T00:00:00",
          "2020-07-21T00:00:00",
          "2020-07-22T00:00:00",
          "2020-07-23T00:00:00",
          "2020-07-24T00:00:00",
          "2020-07-25T00:00:00",
          "2020-07-26T00:00:00",
          "2020-07-27T00:00:00",
          "2020-07-28T00:00:00",
          "2020-07-29T00:00:00",
          "2020-07-30T00:00:00",
          "2020-07-31T00:00:00",
          "2020-08-01T00:00:00",
          "2020-08-02T00:00:00",
          "2020-08-03T00:00:00",
          "2020-08-04T00:00:00",
          "2020-08-05T00:00:00",
          "2020-08-06T00:00:00",
          "2020-08-07T00:00:00",
          "2020-08-08T00:00:00",
          "2020-08-09T00:00:00",
          "2020-08-10T00:00:00",
          "2020-08-11T00:00:00",
          "2020-08-12T00:00:00",
          "2020-08-13T00:00:00",
          "2020-08-14T00:00:00",
          "2020-08-15T00:00:00",
          "2020-08-16T00:00:00",
          "2020-08-17T00:00:00",
          "2020-08-18T00:00:00",
          "2020-08-19T00:00:00",
          "2020-08-20T00:00:00",
          "2020-08-21T00:00:00",
          "2020-08-22T00:00:00",
          "2020-08-23T00:00:00",
          "2020-08-24T00:00:00",
          "2020-08-25T00:00:00",
          "2020-08-26T00:00:00",
          "2020-08-27T00:00:00",
          "2020-08-28T00:00:00",
          "2020-08-29T00:00:00",
          "2020-08-30T00:00:00",
          "2020-08-31T00:00:00",
          "2020-09-01T00:00:00",
          "2020-09-02T00:00:00",
          "2020-09-03T00:00:00",
          "2020-09-04T00:00:00",
          "2020-09-05T00:00:00",
          "2020-09-06T00:00:00",
          "2020-09-07T00:00:00",
          "2020-09-08T00:00:00",
          "2020-09-09T00:00:00",
          "2020-09-10T00:00:00",
          "2020-09-11T00:00:00",
          "2020-09-12T00:00:00",
          "2020-09-13T00:00:00",
          "2020-09-14T00:00:00",
          "2020-09-15T00:00:00",
          "2020-09-16T00:00:00",
          "2020-09-17T00:00:00",
          "2020-09-18T00:00:00",
          "2020-09-19T00:00:00",
          "2020-09-20T00:00:00",
          "2020-09-21T00:00:00",
          "2020-09-22T00:00:00",
          "2020-09-23T00:00:00",
          "2020-09-24T00:00:00",
          "2020-09-25T00:00:00",
          "2020-09-26T00:00:00",
          "2020-09-27T00:00:00",
          "2020-09-28T00:00:00",
          "2020-09-29T00:00:00",
          "2020-09-30T00:00:00",
          "2020-10-01T00:00:00",
          "2020-10-02T00:00:00",
          "2020-10-03T00:00:00",
          "2020-10-04T00:00:00",
          "2020-10-05T00:00:00",
          "2020-10-06T00:00:00",
          "2020-10-07T00:00:00",
          "2020-10-08T00:00:00",
          "2020-10-09T00:00:00",
          "2020-10-10T00:00:00",
          "2020-10-11T00:00:00",
          "2020-10-12T00:00:00",
          "2020-10-13T00:00:00",
          "2020-10-14T00:00:00",
          "2020-10-15T00:00:00",
          "2020-10-16T00:00:00",
          "2020-10-17T00:00:00",
          "2020-10-18T00:00:00",
          "2020-10-19T00:00:00",
          "2020-10-20T00:00:00",
          "2020-10-21T00:00:00",
          "2020-10-22T00:00:00",
          "2020-10-23T00:00:00",
          "2020-10-24T00:00:00",
          "2020-10-25T00:00:00",
          "2020-10-26T00:00:00",
          "2020-10-27T00:00:00",
          "2020-10-28T00:00:00",
          "2020-10-29T00:00:00",
          "2020-10-30T00:00:00",
          "2020-10-31T00:00:00",
          "2020-11-01T00:00:00",
          "2020-11-02T00:00:00",
          "2020-11-03T00:00:00",
          "2020-11-04T00:00:00",
          "2020-11-05T00:00:00",
          "2020-11-06T00:00:00",
          "2020-11-07T00:00:00",
          "2020-11-08T00:00:00",
          "2020-11-09T00:00:00",
          "2020-11-10T00:00:00",
          "2020-11-11T00:00:00",
          "2020-11-12T00:00:00",
          "2020-11-13T00:00:00",
          "2020-11-14T00:00:00",
          "2020-11-15T00:00:00",
          "2020-11-16T00:00:00",
          "2020-11-17T00:00:00",
          "2020-11-18T00:00:00",
          "2020-11-19T00:00:00",
          "2020-11-20T00:00:00",
          "2020-11-21T00:00:00",
          "2020-11-22T00:00:00",
          "2020-11-23T00:00:00",
          "2020-11-24T00:00:00",
          "2020-11-25T00:00:00",
          "2020-11-26T00:00:00",
          "2020-11-27T00:00:00",
          "2020-11-28T00:00:00",
          "2020-11-29T00:00:00",
          "2020-11-30T00:00:00",
          "2020-12-01T00:00:00",
          "2020-12-02T00:00:00",
          "2020-12-03T00:00:00",
          "2020-12-04T00:00:00",
          "2020-12-05T00:00:00",
          "2020-12-06T00:00:00",
          "2020-12-07T00:00:00",
          "2020-12-08T00:00:00",
          "2020-12-09T00:00:00",
          "2020-12-10T00:00:00",
          "2020-12-11T00:00:00",
          "2020-12-12T00:00:00",
          "2020-12-13T00:00:00",
          "2020-12-14T00:00:00",
          "2020-12-15T00:00:00",
          "2020-12-16T00:00:00",
          "2020-12-17T00:00:00",
          "2020-12-18T00:00:00",
          "2020-12-19T00:00:00",
          "2020-12-20T00:00:00",
          "2020-12-21T00:00:00",
          "2020-12-22T00:00:00",
          "2020-12-23T00:00:00",
          "2020-12-24T00:00:00",
          "2020-12-25T00:00:00",
          "2020-12-26T00:00:00",
          "2020-12-27T00:00:00",
          "2020-12-28T00:00:00",
          "2020-12-29T00:00:00",
          "2020-12-30T00:00:00",
          "2020-12-31T00:00:00",
          "2021-01-01T00:00:00",
          "2021-01-02T00:00:00",
          "2021-01-03T00:00:00",
          "2021-01-04T00:00:00",
          "2021-01-05T00:00:00",
          "2021-01-06T00:00:00",
          "2021-01-07T00:00:00",
          "2021-01-08T00:00:00",
          "2021-01-09T00:00:00",
          "2021-01-10T00:00:00",
          "2021-01-11T00:00:00",
          "2021-01-12T00:00:00",
          "2021-01-13T00:00:00",
          "2021-01-14T00:00:00",
          "2021-01-15T00:00:00",
          "2021-01-16T00:00:00",
          "2021-01-17T00:00:00",
          "2021-01-18T00:00:00"
         ],
         "y": [
          0,
          0,
          0,
          1,
          1,
          1,
          1,
          2,
          2,
          2,
          2,
          2,
          3,
          3,
          3,
          3,
          3,
          4,
          8,
          11,
          19,
          26,
          31,
          41,
          53,
          64,
          81,
          91,
          95,
          99,
          112,
          129,
          139,
          148,
          165,
          179,
          192,
          216,
          227,
          253,
          270,
          287,
          295,
          308,
          346,
          374,
          401,
          417,
          440,
          469,
          498,
          542,
          598,
          652,
          725,
          805,
          851,
          890,
          967,
          1040,
          1097,
          1164,
          1242,
          1284,
          1326,
          1381,
          1443,
          1509,
          1564,
          1533,
          1577,
          1612,
          1712,
          1752,
          1822,
          1909,
          2053,
          2076,
          2100,
          2164,
          2282,
          2401,
          2497,
          2647,
          2739,
          2770,
          2922,
          3014,
          3126,
          3259,
          3333,
          3348,
          3383,
          3468,
          3577,
          3656,
          3687,
          3741,
          3806,
          3835,
          3930,
          3989,
          4059,
          4156,
          4253,
          4294,
          4332,
          4456,
          4600,
          4712,
          4782,
          4865,
          4873,
          4908,
          4966,
          5059,
          5118,
          5219,
          5288,
          5358,
          5341,
          5387,
          5417,
          5439,
          5467,
          5529,
          5543,
          5612,
          5702,
          5786,
          5973,
          6083,
          6160,
          6158,
          6163,
          6209,
          6306,
          6283,
          6293,
          6309,
          6339,
          6375,
          6518,
          6601,
          6795,
          6952,
          7063,
          7138,
          7166,
          7204,
          7228,
          7158,
          7135,
          7140,
          7108,
          7046,
          6956,
          6889,
          6799,
          6728,
          6542,
          6489,
          6420,
          6278,
          6164,
          6091,
          5964,
          5952,
          5935,
          5918,
          5877,
          5806,
          5701,
          5661,
          5600,
          5537,
          5525,
          5479,
          5449,
          5424,
          5365,
          5379,
          5364,
          5363,
          5382,
          5372,
          5481,
          5545,
          5550,
          5548,
          5530,
          5521,
          5589,
          5572,
          5549,
          5509,
          5472,
          5456,
          5371,
          5300,
          5173,
          5089,
          5008,
          4995,
          4964,
          4945,
          4614,
          4062,
          4153,
          4181,
          4181,
          4169,
          4175,
          4435,
          4940,
          4797,
          4740,
          4720,
          4719,
          4708,
          4690,
          4662,
          4651,
          4609,
          4576,
          4567,
          4508,
          4501,
          4524,
          4556,
          4658,
          4741,
          4803,
          4936,
          5093,
          5204,
          5337,
          5459,
          5495,
          5508,
          5708,
          5889,
          6014,
          6124,
          6213,
          6237,
          6260,
          6276,
          6220,
          6187,
          6129,
          5995,
          5923,
          5876,
          5420,
          5429,
          5477,
          5557,
          5653,
          5723,
          5782,
          6259,
          6312,
          6424,
          6522,
          6600,
          6652,
          6660,
          5901,
          6048,
          6105,
          6123,
          6235,
          6286,
          6306,
          7308,
          7421,
          7531,
          7721,
          7881,
          7965,
          7999,
          8084,
          8230,
          8490,
          8685,
          8860,
          8993,
          9011,
          9280,
          9481,
          9593,
          9764,
          9962,
          10060,
          10081,
          10229,
          10351,
          10433,
          10456,
          10431,
          10421,
          10475,
          10482,
          10433,
          10304,
          9936,
          8596,
          8473,
          8540,
          8667,
          8862,
          9122,
          9316,
          9387,
          9465,
          9536,
          9588,
          9854,
          10101,
          10601,
          12130,
          12349,
          12291,
          12263,
          11840,
          11399,
          11224,
          10762,
          10273,
          9884,
          7798
         ]
        }
       ],
       "layout": {
        "height": 450,
        "hovermode": "x unified",
        "template": {
         "data": {
          "bar": [
           {
            "error_x": {
             "color": "#2a3f5f"
            },
            "error_y": {
             "color": "#2a3f5f"
            },
            "marker": {
             "line": {
              "color": "white",
              "width": 0.5
             }
            },
            "type": "bar"
           }
          ],
          "barpolar": [
           {
            "marker": {
             "line": {
              "color": "white",
              "width": 0.5
             }
            },
            "type": "barpolar"
           }
          ],
          "carpet": [
           {
            "aaxis": {
             "endlinecolor": "#2a3f5f",
             "gridcolor": "#C8D4E3",
             "linecolor": "#C8D4E3",
             "minorgridcolor": "#C8D4E3",
             "startlinecolor": "#2a3f5f"
            },
            "baxis": {
             "endlinecolor": "#2a3f5f",
             "gridcolor": "#C8D4E3",
             "linecolor": "#C8D4E3",
             "minorgridcolor": "#C8D4E3",
             "startlinecolor": "#2a3f5f"
            },
            "type": "carpet"
           }
          ],
          "choropleth": [
           {
            "colorbar": {
             "outlinewidth": 0,
             "ticks": ""
            },
            "type": "choropleth"
           }
          ],
          "contour": [
           {
            "colorbar": {
             "outlinewidth": 0,
             "ticks": ""
            },
            "colorscale": [
             [
              0,
              "#0d0887"
             ],
             [
              0.1111111111111111,
              "#46039f"
             ],
             [
              0.2222222222222222,
              "#7201a8"
             ],
             [
              0.3333333333333333,
              "#9c179e"
             ],
             [
              0.4444444444444444,
              "#bd3786"
             ],
             [
              0.5555555555555556,
              "#d8576b"
             ],
             [
              0.6666666666666666,
              "#ed7953"
             ],
             [
              0.7777777777777778,
              "#fb9f3a"
             ],
             [
              0.8888888888888888,
              "#fdca26"
             ],
             [
              1,
              "#f0f921"
             ]
            ],
            "type": "contour"
           }
          ],
          "contourcarpet": [
           {
            "colorbar": {
             "outlinewidth": 0,
             "ticks": ""
            },
            "type": "contourcarpet"
           }
          ],
          "heatmap": [
           {
            "colorbar": {
             "outlinewidth": 0,
             "ticks": ""
            },
            "colorscale": [
             [
              0,
              "#0d0887"
             ],
             [
              0.1111111111111111,
              "#46039f"
             ],
             [
              0.2222222222222222,
              "#7201a8"
             ],
             [
              0.3333333333333333,
              "#9c179e"
             ],
             [
              0.4444444444444444,
              "#bd3786"
             ],
             [
              0.5555555555555556,
              "#d8576b"
             ],
             [
              0.6666666666666666,
              "#ed7953"
             ],
             [
              0.7777777777777778,
              "#fb9f3a"
             ],
             [
              0.8888888888888888,
              "#fdca26"
             ],
             [
              1,
              "#f0f921"
             ]
            ],
            "type": "heatmap"
           }
          ],
          "heatmapgl": [
           {
            "colorbar": {
             "outlinewidth": 0,
             "ticks": ""
            },
            "colorscale": [
             [
              0,
              "#0d0887"
             ],
             [
              0.1111111111111111,
              "#46039f"
             ],
             [
              0.2222222222222222,
              "#7201a8"
             ],
             [
              0.3333333333333333,
              "#9c179e"
             ],
             [
              0.4444444444444444,
              "#bd3786"
             ],
             [
              0.5555555555555556,
              "#d8576b"
             ],
             [
              0.6666666666666666,
              "#ed7953"
             ],
             [
              0.7777777777777778,
              "#fb9f3a"
             ],
             [
              0.8888888888888888,
              "#fdca26"
             ],
             [
              1,
              "#f0f921"
             ]
            ],
            "type": "heatmapgl"
           }
          ],
          "histogram": [
           {
            "marker": {
             "colorbar": {
              "outlinewidth": 0,
              "ticks": ""
             }
            },
            "type": "histogram"
           }
          ],
          "histogram2d": [
           {
            "colorbar": {
             "outlinewidth": 0,
             "ticks": ""
            },
            "colorscale": [
             [
              0,
              "#0d0887"
             ],
             [
              0.1111111111111111,
              "#46039f"
             ],
             [
              0.2222222222222222,
              "#7201a8"
             ],
             [
              0.3333333333333333,
              "#9c179e"
             ],
             [
              0.4444444444444444,
              "#bd3786"
             ],
             [
              0.5555555555555556,
              "#d8576b"
             ],
             [
              0.6666666666666666,
              "#ed7953"
             ],
             [
              0.7777777777777778,
              "#fb9f3a"
             ],
             [
              0.8888888888888888,
              "#fdca26"
             ],
             [
              1,
              "#f0f921"
             ]
            ],
            "type": "histogram2d"
           }
          ],
          "histogram2dcontour": [
           {
            "colorbar": {
             "outlinewidth": 0,
             "ticks": ""
            },
            "colorscale": [
             [
              0,
              "#0d0887"
             ],
             [
              0.1111111111111111,
              "#46039f"
             ],
             [
              0.2222222222222222,
              "#7201a8"
             ],
             [
              0.3333333333333333,
              "#9c179e"
             ],
             [
              0.4444444444444444,
              "#bd3786"
             ],
             [
              0.5555555555555556,
              "#d8576b"
             ],
             [
              0.6666666666666666,
              "#ed7953"
             ],
             [
              0.7777777777777778,
              "#fb9f3a"
             ],
             [
              0.8888888888888888,
              "#fdca26"
             ],
             [
              1,
              "#f0f921"
             ]
            ],
            "type": "histogram2dcontour"
           }
          ],
          "mesh3d": [
           {
            "colorbar": {
             "outlinewidth": 0,
             "ticks": ""
            },
            "type": "mesh3d"
           }
          ],
          "parcoords": [
           {
            "line": {
             "colorbar": {
              "outlinewidth": 0,
              "ticks": ""
             }
            },
            "type": "parcoords"
           }
          ],
          "pie": [
           {
            "automargin": true,
            "type": "pie"
           }
          ],
          "scatter": [
           {
            "marker": {
             "colorbar": {
              "outlinewidth": 0,
              "ticks": ""
             }
            },
            "type": "scatter"
           }
          ],
          "scatter3d": [
           {
            "line": {
             "colorbar": {
              "outlinewidth": 0,
              "ticks": ""
             }
            },
            "marker": {
             "colorbar": {
              "outlinewidth": 0,
              "ticks": ""
             }
            },
            "type": "scatter3d"
           }
          ],
          "scattercarpet": [
           {
            "marker": {
             "colorbar": {
              "outlinewidth": 0,
              "ticks": ""
             }
            },
            "type": "scattercarpet"
           }
          ],
          "scattergeo": [
           {
            "marker": {
             "colorbar": {
              "outlinewidth": 0,
              "ticks": ""
             }
            },
            "type": "scattergeo"
           }
          ],
          "scattergl": [
           {
            "marker": {
             "colorbar": {
              "outlinewidth": 0,
              "ticks": ""
             }
            },
            "type": "scattergl"
           }
          ],
          "scattermapbox": [
           {
            "marker": {
             "colorbar": {
              "outlinewidth": 0,
              "ticks": ""
             }
            },
            "type": "scattermapbox"
           }
          ],
          "scatterpolar": [
           {
            "marker": {
             "colorbar": {
              "outlinewidth": 0,
              "ticks": ""
             }
            },
            "type": "scatterpolar"
           }
          ],
          "scatterpolargl": [
           {
            "marker": {
             "colorbar": {
              "outlinewidth": 0,
              "ticks": ""
             }
            },
            "type": "scatterpolargl"
           }
          ],
          "scatterternary": [
           {
            "marker": {
             "colorbar": {
              "outlinewidth": 0,
              "ticks": ""
             }
            },
            "type": "scatterternary"
           }
          ],
          "surface": [
           {
            "colorbar": {
             "outlinewidth": 0,
             "ticks": ""
            },
            "colorscale": [
             [
              0,
              "#0d0887"
             ],
             [
              0.1111111111111111,
              "#46039f"
             ],
             [
              0.2222222222222222,
              "#7201a8"
             ],
             [
              0.3333333333333333,
              "#9c179e"
             ],
             [
              0.4444444444444444,
              "#bd3786"
             ],
             [
              0.5555555555555556,
              "#d8576b"
             ],
             [
              0.6666666666666666,
              "#ed7953"
             ],
             [
              0.7777777777777778,
              "#fb9f3a"
             ],
             [
              0.8888888888888888,
              "#fdca26"
             ],
             [
              1,
              "#f0f921"
             ]
            ],
            "type": "surface"
           }
          ],
          "table": [
           {
            "cells": {
             "fill": {
              "color": "#EBF0F8"
             },
             "line": {
              "color": "white"
             }
            },
            "header": {
             "fill": {
              "color": "#C8D4E3"
             },
             "line": {
              "color": "white"
             }
            },
            "type": "table"
           }
          ]
         },
         "layout": {
          "annotationdefaults": {
           "arrowcolor": "#2a3f5f",
           "arrowhead": 0,
           "arrowwidth": 1
          },
          "coloraxis": {
           "colorbar": {
            "outlinewidth": 0,
            "ticks": ""
           }
          },
          "colorscale": {
           "diverging": [
            [
             0,
             "#8e0152"
            ],
            [
             0.1,
             "#c51b7d"
            ],
            [
             0.2,
             "#de77ae"
            ],
            [
             0.3,
             "#f1b6da"
            ],
            [
             0.4,
             "#fde0ef"
            ],
            [
             0.5,
             "#f7f7f7"
            ],
            [
             0.6,
             "#e6f5d0"
            ],
            [
             0.7,
             "#b8e186"
            ],
            [
             0.8,
             "#7fbc41"
            ],
            [
             0.9,
             "#4d9221"
            ],
            [
             1,
             "#276419"
            ]
           ],
           "sequential": [
            [
             0,
             "#0d0887"
            ],
            [
             0.1111111111111111,
             "#46039f"
            ],
            [
             0.2222222222222222,
             "#7201a8"
            ],
            [
             0.3333333333333333,
             "#9c179e"
            ],
            [
             0.4444444444444444,
             "#bd3786"
            ],
            [
             0.5555555555555556,
             "#d8576b"
            ],
            [
             0.6666666666666666,
             "#ed7953"
            ],
            [
             0.7777777777777778,
             "#fb9f3a"
            ],
            [
             0.8888888888888888,
             "#fdca26"
            ],
            [
             1,
             "#f0f921"
            ]
           ],
           "sequentialminus": [
            [
             0,
             "#0d0887"
            ],
            [
             0.1111111111111111,
             "#46039f"
            ],
            [
             0.2222222222222222,
             "#7201a8"
            ],
            [
             0.3333333333333333,
             "#9c179e"
            ],
            [
             0.4444444444444444,
             "#bd3786"
            ],
            [
             0.5555555555555556,
             "#d8576b"
            ],
            [
             0.6666666666666666,
             "#ed7953"
            ],
            [
             0.7777777777777778,
             "#fb9f3a"
            ],
            [
             0.8888888888888888,
             "#fdca26"
            ],
            [
             1,
             "#f0f921"
            ]
           ]
          },
          "colorway": [
           "#636efa",
           "#EF553B",
           "#00cc96",
           "#ab63fa",
           "#FFA15A",
           "#19d3f3",
           "#FF6692",
           "#B6E880",
           "#FF97FF",
           "#FECB52"
          ],
          "font": {
           "color": "#2a3f5f"
          },
          "geo": {
           "bgcolor": "white",
           "lakecolor": "white",
           "landcolor": "white",
           "showlakes": true,
           "showland": true,
           "subunitcolor": "#C8D4E3"
          },
          "hoverlabel": {
           "align": "left"
          },
          "hovermode": "closest",
          "mapbox": {
           "style": "light"
          },
          "paper_bgcolor": "white",
          "plot_bgcolor": "white",
          "polar": {
           "angularaxis": {
            "gridcolor": "#EBF0F8",
            "linecolor": "#EBF0F8",
            "ticks": ""
           },
           "bgcolor": "white",
           "radialaxis": {
            "gridcolor": "#EBF0F8",
            "linecolor": "#EBF0F8",
            "ticks": ""
           }
          },
          "scene": {
           "xaxis": {
            "backgroundcolor": "white",
            "gridcolor": "#DFE8F3",
            "gridwidth": 2,
            "linecolor": "#EBF0F8",
            "showbackground": true,
            "ticks": "",
            "zerolinecolor": "#EBF0F8"
           },
           "yaxis": {
            "backgroundcolor": "white",
            "gridcolor": "#DFE8F3",
            "gridwidth": 2,
            "linecolor": "#EBF0F8",
            "showbackground": true,
            "ticks": "",
            "zerolinecolor": "#EBF0F8"
           },
           "zaxis": {
            "backgroundcolor": "white",
            "gridcolor": "#DFE8F3",
            "gridwidth": 2,
            "linecolor": "#EBF0F8",
            "showbackground": true,
            "ticks": "",
            "zerolinecolor": "#EBF0F8"
           }
          },
          "shapedefaults": {
           "line": {
            "color": "#2a3f5f"
           }
          },
          "ternary": {
           "aaxis": {
            "gridcolor": "#DFE8F3",
            "linecolor": "#A2B1C6",
            "ticks": ""
           },
           "baxis": {
            "gridcolor": "#DFE8F3",
            "linecolor": "#A2B1C6",
            "ticks": ""
           },
           "bgcolor": "white",
           "caxis": {
            "gridcolor": "#DFE8F3",
            "linecolor": "#A2B1C6",
            "ticks": ""
           }
          },
          "title": {
           "x": 0.05
          },
          "xaxis": {
           "automargin": true,
           "gridcolor": "#EBF0F8",
           "linecolor": "#EBF0F8",
           "ticks": "",
           "title": {
            "standoff": 15
           },
           "zerolinecolor": "#EBF0F8",
           "zerolinewidth": 2
          },
          "yaxis": {
           "automargin": true,
           "gridcolor": "#EBF0F8",
           "linecolor": "#EBF0F8",
           "ticks": "",
           "title": {
            "standoff": 15
           },
           "zerolinecolor": "#EBF0F8",
           "zerolinewidth": 2
          }
         }
        },
        "title": {
         "text": "Nuevos casos de COVID-19 reportados diariamente en México"
        },
        "width": 900,
        "xaxis": {
         "spikethickness": 0.4,
         "title": {
          "text": "Fecha de registro"
         }
        },
        "yaxis": {
         "title": {
          "text": "Nuevos casos confirmados"
         }
        }
       }
      }
     },
     "metadata": {}
    },
    {
     "output_type": "display_data",
     "data": {
      "application/vnd.plotly.v1+json": {
       "config": {
        "plotlyServerURL": "https://plot.ly"
       },
       "data": [
        {
         "marker": {
          "color": "#546e7a",
          "opacity": 0.75
         },
         "name": "Nuevas defunciones",
         "type": "bar",
         "x": [
          "2020-03-03T00:00:00",
          "2020-03-13T00:00:00",
          "2020-03-17T00:00:00",
          "2020-03-18T00:00:00",
          "2020-03-20T00:00:00",
          "2020-03-22T00:00:00",
          "2020-03-23T00:00:00",
          "2020-03-24T00:00:00",
          "2020-03-25T00:00:00",
          "2020-03-26T00:00:00",
          "2020-03-27T00:00:00",
          "2020-03-28T00:00:00",
          "2020-03-29T00:00:00",
          "2020-03-30T00:00:00",
          "2020-03-31T00:00:00",
          "2020-04-01T00:00:00",
          "2020-04-02T00:00:00",
          "2020-04-03T00:00:00",
          "2020-04-04T00:00:00",
          "2020-04-05T00:00:00",
          "2020-04-06T00:00:00",
          "2020-04-07T00:00:00",
          "2020-04-08T00:00:00",
          "2020-04-09T00:00:00",
          "2020-04-10T00:00:00",
          "2020-04-11T00:00:00",
          "2020-04-12T00:00:00",
          "2020-04-13T00:00:00",
          "2020-04-14T00:00:00",
          "2020-04-15T00:00:00",
          "2020-04-16T00:00:00",
          "2020-04-17T00:00:00",
          "2020-04-18T00:00:00",
          "2020-04-19T00:00:00",
          "2020-04-20T00:00:00",
          "2020-04-21T00:00:00",
          "2020-04-22T00:00:00",
          "2020-04-23T00:00:00",
          "2020-04-24T00:00:00",
          "2020-04-25T00:00:00",
          "2020-04-26T00:00:00",
          "2020-04-27T00:00:00",
          "2020-04-28T00:00:00",
          "2020-04-29T00:00:00",
          "2020-04-30T00:00:00",
          "2020-05-01T00:00:00",
          "2020-05-02T00:00:00",
          "2020-05-03T00:00:00",
          "2020-05-04T00:00:00",
          "2020-05-05T00:00:00",
          "2020-05-06T00:00:00",
          "2020-05-07T00:00:00",
          "2020-05-08T00:00:00",
          "2020-05-09T00:00:00",
          "2020-05-10T00:00:00",
          "2020-05-11T00:00:00",
          "2020-05-12T00:00:00",
          "2020-05-13T00:00:00",
          "2020-05-14T00:00:00",
          "2020-05-15T00:00:00",
          "2020-05-16T00:00:00",
          "2020-05-17T00:00:00",
          "2020-05-18T00:00:00",
          "2020-05-19T00:00:00",
          "2020-05-20T00:00:00",
          "2020-05-21T00:00:00",
          "2020-05-22T00:00:00",
          "2020-05-23T00:00:00",
          "2020-05-24T00:00:00",
          "2020-05-25T00:00:00",
          "2020-05-26T00:00:00",
          "2020-05-27T00:00:00",
          "2020-05-28T00:00:00",
          "2020-05-29T00:00:00",
          "2020-05-30T00:00:00",
          "2020-05-31T00:00:00",
          "2020-06-01T00:00:00",
          "2020-06-02T00:00:00",
          "2020-06-03T00:00:00",
          "2020-06-04T00:00:00",
          "2020-06-05T00:00:00",
          "2020-06-06T00:00:00",
          "2020-06-07T00:00:00",
          "2020-06-08T00:00:00",
          "2020-06-09T00:00:00",
          "2020-06-10T00:00:00",
          "2020-06-11T00:00:00",
          "2020-06-12T00:00:00",
          "2020-06-13T00:00:00",
          "2020-06-14T00:00:00",
          "2020-06-15T00:00:00",
          "2020-06-16T00:00:00",
          "2020-06-17T00:00:00",
          "2020-06-18T00:00:00",
          "2020-06-19T00:00:00",
          "2020-06-20T00:00:00",
          "2020-06-21T00:00:00",
          "2020-06-22T00:00:00",
          "2020-06-23T00:00:00",
          "2020-06-24T00:00:00",
          "2020-06-25T00:00:00",
          "2020-06-26T00:00:00",
          "2020-06-27T00:00:00",
          "2020-06-28T00:00:00",
          "2020-06-29T00:00:00",
          "2020-06-30T00:00:00",
          "2020-07-01T00:00:00",
          "2020-07-02T00:00:00",
          "2020-07-03T00:00:00",
          "2020-07-04T00:00:00",
          "2020-07-05T00:00:00",
          "2020-07-06T00:00:00",
          "2020-07-07T00:00:00",
          "2020-07-08T00:00:00",
          "2020-07-09T00:00:00",
          "2020-07-10T00:00:00",
          "2020-07-11T00:00:00",
          "2020-07-12T00:00:00",
          "2020-07-13T00:00:00",
          "2020-07-14T00:00:00",
          "2020-07-15T00:00:00",
          "2020-07-16T00:00:00",
          "2020-07-17T00:00:00",
          "2020-07-18T00:00:00",
          "2020-07-19T00:00:00",
          "2020-07-20T00:00:00",
          "2020-07-21T00:00:00",
          "2020-07-22T00:00:00",
          "2020-07-23T00:00:00",
          "2020-07-24T00:00:00",
          "2020-07-25T00:00:00",
          "2020-07-26T00:00:00",
          "2020-07-27T00:00:00",
          "2020-07-28T00:00:00",
          "2020-07-29T00:00:00",
          "2020-07-30T00:00:00",
          "2020-07-31T00:00:00",
          "2020-08-01T00:00:00",
          "2020-08-02T00:00:00",
          "2020-08-03T00:00:00",
          "2020-08-04T00:00:00",
          "2020-08-05T00:00:00",
          "2020-08-06T00:00:00",
          "2020-08-07T00:00:00",
          "2020-08-08T00:00:00",
          "2020-08-09T00:00:00",
          "2020-08-10T00:00:00",
          "2020-08-11T00:00:00",
          "2020-08-12T00:00:00",
          "2020-08-13T00:00:00",
          "2020-08-14T00:00:00",
          "2020-08-15T00:00:00",
          "2020-08-16T00:00:00",
          "2020-08-17T00:00:00",
          "2020-08-18T00:00:00",
          "2020-08-19T00:00:00",
          "2020-08-20T00:00:00",
          "2020-08-21T00:00:00",
          "2020-08-22T00:00:00",
          "2020-08-23T00:00:00",
          "2020-08-24T00:00:00",
          "2020-08-25T00:00:00",
          "2020-08-26T00:00:00",
          "2020-08-27T00:00:00",
          "2020-08-28T00:00:00",
          "2020-08-29T00:00:00",
          "2020-08-30T00:00:00",
          "2020-08-31T00:00:00",
          "2020-09-01T00:00:00",
          "2020-09-02T00:00:00",
          "2020-09-03T00:00:00",
          "2020-09-04T00:00:00",
          "2020-09-05T00:00:00",
          "2020-09-06T00:00:00",
          "2020-09-07T00:00:00",
          "2020-09-08T00:00:00",
          "2020-09-09T00:00:00",
          "2020-09-10T00:00:00",
          "2020-09-11T00:00:00",
          "2020-09-12T00:00:00",
          "2020-09-13T00:00:00",
          "2020-09-14T00:00:00",
          "2020-09-15T00:00:00",
          "2020-09-16T00:00:00",
          "2020-09-17T00:00:00",
          "2020-09-18T00:00:00",
          "2020-09-19T00:00:00",
          "2020-09-20T00:00:00",
          "2020-09-21T00:00:00",
          "2020-09-22T00:00:00",
          "2020-09-23T00:00:00",
          "2020-09-24T00:00:00",
          "2020-09-25T00:00:00",
          "2020-09-26T00:00:00",
          "2020-09-27T00:00:00",
          "2020-09-28T00:00:00",
          "2020-09-29T00:00:00",
          "2020-09-30T00:00:00",
          "2020-10-01T00:00:00",
          "2020-10-02T00:00:00",
          "2020-10-03T00:00:00",
          "2020-10-04T00:00:00",
          "2020-10-05T00:00:00",
          "2020-10-06T00:00:00",
          "2020-10-07T00:00:00",
          "2020-10-08T00:00:00",
          "2020-10-09T00:00:00",
          "2020-10-10T00:00:00",
          "2020-10-11T00:00:00",
          "2020-10-12T00:00:00",
          "2020-10-13T00:00:00",
          "2020-10-14T00:00:00",
          "2020-10-15T00:00:00",
          "2020-10-16T00:00:00",
          "2020-10-17T00:00:00",
          "2020-10-18T00:00:00",
          "2020-10-19T00:00:00",
          "2020-10-20T00:00:00",
          "2020-10-21T00:00:00",
          "2020-10-22T00:00:00",
          "2020-10-23T00:00:00",
          "2020-10-24T00:00:00",
          "2020-10-25T00:00:00",
          "2020-10-26T00:00:00",
          "2020-10-27T00:00:00",
          "2020-10-28T00:00:00",
          "2020-10-29T00:00:00",
          "2020-10-30T00:00:00",
          "2020-10-31T00:00:00",
          "2020-11-01T00:00:00",
          "2020-11-02T00:00:00",
          "2020-11-03T00:00:00",
          "2020-11-04T00:00:00",
          "2020-11-05T00:00:00",
          "2020-11-06T00:00:00",
          "2020-11-07T00:00:00",
          "2020-11-08T00:00:00",
          "2020-11-09T00:00:00",
          "2020-11-10T00:00:00",
          "2020-11-11T00:00:00",
          "2020-11-12T00:00:00",
          "2020-11-13T00:00:00",
          "2020-11-14T00:00:00",
          "2020-11-15T00:00:00",
          "2020-11-16T00:00:00",
          "2020-11-17T00:00:00",
          "2020-11-18T00:00:00",
          "2020-11-19T00:00:00",
          "2020-11-20T00:00:00",
          "2020-11-21T00:00:00",
          "2020-11-22T00:00:00",
          "2020-11-23T00:00:00",
          "2020-11-24T00:00:00",
          "2020-11-25T00:00:00",
          "2020-11-26T00:00:00",
          "2020-11-27T00:00:00",
          "2020-11-28T00:00:00",
          "2020-11-29T00:00:00",
          "2020-11-30T00:00:00",
          "2020-12-01T00:00:00",
          "2020-12-02T00:00:00",
          "2020-12-03T00:00:00",
          "2020-12-04T00:00:00",
          "2020-12-05T00:00:00",
          "2020-12-06T00:00:00",
          "2020-12-07T00:00:00",
          "2020-12-08T00:00:00",
          "2020-12-09T00:00:00",
          "2020-12-10T00:00:00",
          "2020-12-11T00:00:00",
          "2020-12-12T00:00:00",
          "2020-12-13T00:00:00",
          "2020-12-14T00:00:00",
          "2020-12-15T00:00:00",
          "2020-12-16T00:00:00",
          "2020-12-17T00:00:00",
          "2020-12-18T00:00:00",
          "2020-12-19T00:00:00",
          "2020-12-20T00:00:00",
          "2020-12-21T00:00:00",
          "2020-12-22T00:00:00",
          "2020-12-23T00:00:00",
          "2020-12-24T00:00:00",
          "2020-12-25T00:00:00",
          "2020-12-26T00:00:00",
          "2020-12-27T00:00:00",
          "2020-12-28T00:00:00",
          "2020-12-29T00:00:00",
          "2020-12-30T00:00:00",
          "2020-12-31T00:00:00",
          "2021-01-01T00:00:00",
          "2021-01-02T00:00:00",
          "2021-01-03T00:00:00",
          "2021-01-04T00:00:00",
          "2021-01-05T00:00:00",
          "2021-01-06T00:00:00",
          "2021-01-07T00:00:00",
          "2021-01-08T00:00:00",
          "2021-01-09T00:00:00",
          "2021-01-10T00:00:00",
          "2021-01-11T00:00:00",
          "2021-01-12T00:00:00",
          "2021-01-13T00:00:00",
          "2021-01-14T00:00:00",
          "2021-01-15T00:00:00",
          "2021-01-16T00:00:00",
          "2021-01-17T00:00:00",
          "2021-01-18T00:00:00"
         ],
         "y": [
          1,
          1,
          1,
          2,
          1,
          2,
          1,
          2,
          2,
          8,
          8,
          15,
          9,
          12,
          22,
          20,
          27,
          33,
          33,
          30,
          53,
          56,
          49,
          55,
          68,
          71,
          73,
          84,
          96,
          97,
          89,
          115,
          118,
          146,
          173,
          172,
          172,
          181,
          216,
          234,
          255,
          223,
          231,
          304,
          284,
          324,
          279,
          283,
          349,
          336,
          323,
          311,
          346,
          336,
          344,
          365,
          388,
          399,
          445,
          456,
          421,
          488,
          486,
          487,
          484,
          484,
          470,
          459,
          502,
          529,
          522,
          497,
          518,
          480,
          524,
          548,
          602,
          545,
          593,
          576,
          543,
          591,
          623,
          667,
          623,
          639,
          593,
          651,
          617,
          643,
          649,
          715,
          693,
          622,
          600,
          535,
          625,
          616,
          597,
          588,
          572,
          635,
          637,
          625,
          686,
          664,
          629,
          640,
          640,
          667,
          695,
          767,
          750,
          682,
          706,
          678,
          684,
          695,
          769,
          735,
          741,
          751,
          708,
          675,
          739,
          733,
          772,
          669,
          727,
          674,
          721,
          733,
          725,
          708,
          628,
          700,
          620,
          672,
          626,
          687,
          716,
          657,
          638,
          592,
          629,
          608,
          624,
          627,
          563,
          565,
          534,
          528,
          535,
          573,
          506,
          551,
          508,
          512,
          513,
          481,
          492,
          499,
          486,
          465,
          492,
          472,
          490,
          507,
          463,
          456,
          455,
          438,
          413,
          423,
          446,
          402,
          438,
          388,
          400,
          424,
          365,
          420,
          399,
          381,
          368,
          329,
          372,
          391,
          377,
          393,
          365,
          367,
          334,
          350,
          333,
          337,
          334,
          321,
          331,
          317,
          331,
          313,
          339,
          320,
          321,
          311,
          290,
          345,
          331,
          386,
          343,
          336,
          353,
          332,
          348,
          363,
          432,
          375,
          426,
          412,
          395,
          386,
          443,
          433,
          413,
          420,
          419,
          421,
          385,
          394,
          441,
          423,
          424,
          451,
          457,
          407,
          409,
          441,
          410,
          431,
          465,
          413,
          402,
          412,
          426,
          450,
          435,
          408,
          479,
          467,
          520,
          471,
          477,
          462,
          493,
          534,
          483,
          495,
          532,
          566,
          516,
          519,
          503,
          544,
          539,
          571,
          531,
          561,
          551,
          571,
          573,
          595,
          581,
          597,
          588,
          597,
          620,
          629,
          616,
          685,
          642,
          633,
          648,
          620,
          663,
          704,
          723,
          730,
          671,
          629,
          743,
          715,
          746,
          771,
          742,
          797,
          733,
          795,
          765,
          774,
          801,
          758,
          673,
          597,
          366,
          290,
          199,
          1
         ]
        },
        {
         "line": {
          "color": "black",
          "width": 2.5
         },
         "mode": "lines",
         "name": "Promedio de 7 días",
         "type": "scatter",
         "x": [
          "2020-03-03T00:00:00",
          "2020-03-13T00:00:00",
          "2020-03-17T00:00:00",
          "2020-03-18T00:00:00",
          "2020-03-20T00:00:00",
          "2020-03-22T00:00:00",
          "2020-03-23T00:00:00",
          "2020-03-24T00:00:00",
          "2020-03-25T00:00:00",
          "2020-03-26T00:00:00",
          "2020-03-27T00:00:00",
          "2020-03-28T00:00:00",
          "2020-03-29T00:00:00",
          "2020-03-30T00:00:00",
          "2020-03-31T00:00:00",
          "2020-04-01T00:00:00",
          "2020-04-02T00:00:00",
          "2020-04-03T00:00:00",
          "2020-04-04T00:00:00",
          "2020-04-05T00:00:00",
          "2020-04-06T00:00:00",
          "2020-04-07T00:00:00",
          "2020-04-08T00:00:00",
          "2020-04-09T00:00:00",
          "2020-04-10T00:00:00",
          "2020-04-11T00:00:00",
          "2020-04-12T00:00:00",
          "2020-04-13T00:00:00",
          "2020-04-14T00:00:00",
          "2020-04-15T00:00:00",
          "2020-04-16T00:00:00",
          "2020-04-17T00:00:00",
          "2020-04-18T00:00:00",
          "2020-04-19T00:00:00",
          "2020-04-20T00:00:00",
          "2020-04-21T00:00:00",
          "2020-04-22T00:00:00",
          "2020-04-23T00:00:00",
          "2020-04-24T00:00:00",
          "2020-04-25T00:00:00",
          "2020-04-26T00:00:00",
          "2020-04-27T00:00:00",
          "2020-04-28T00:00:00",
          "2020-04-29T00:00:00",
          "2020-04-30T00:00:00",
          "2020-05-01T00:00:00",
          "2020-05-02T00:00:00",
          "2020-05-03T00:00:00",
          "2020-05-04T00:00:00",
          "2020-05-05T00:00:00",
          "2020-05-06T00:00:00",
          "2020-05-07T00:00:00",
          "2020-05-08T00:00:00",
          "2020-05-09T00:00:00",
          "2020-05-10T00:00:00",
          "2020-05-11T00:00:00",
          "2020-05-12T00:00:00",
          "2020-05-13T00:00:00",
          "2020-05-14T00:00:00",
          "2020-05-15T00:00:00",
          "2020-05-16T00:00:00",
          "2020-05-17T00:00:00",
          "2020-05-18T00:00:00",
          "2020-05-19T00:00:00",
          "2020-05-20T00:00:00",
          "2020-05-21T00:00:00",
          "2020-05-22T00:00:00",
          "2020-05-23T00:00:00",
          "2020-05-24T00:00:00",
          "2020-05-25T00:00:00",
          "2020-05-26T00:00:00",
          "2020-05-27T00:00:00",
          "2020-05-28T00:00:00",
          "2020-05-29T00:00:00",
          "2020-05-30T00:00:00",
          "2020-05-31T00:00:00",
          "2020-06-01T00:00:00",
          "2020-06-02T00:00:00",
          "2020-06-03T00:00:00",
          "2020-06-04T00:00:00",
          "2020-06-05T00:00:00",
          "2020-06-06T00:00:00",
          "2020-06-07T00:00:00",
          "2020-06-08T00:00:00",
          "2020-06-09T00:00:00",
          "2020-06-10T00:00:00",
          "2020-06-11T00:00:00",
          "2020-06-12T00:00:00",
          "2020-06-13T00:00:00",
          "2020-06-14T00:00:00",
          "2020-06-15T00:00:00",
          "2020-06-16T00:00:00",
          "2020-06-17T00:00:00",
          "2020-06-18T00:00:00",
          "2020-06-19T00:00:00",
          "2020-06-20T00:00:00",
          "2020-06-21T00:00:00",
          "2020-06-22T00:00:00",
          "2020-06-23T00:00:00",
          "2020-06-24T00:00:00",
          "2020-06-25T00:00:00",
          "2020-06-26T00:00:00",
          "2020-06-27T00:00:00",
          "2020-06-28T00:00:00",
          "2020-06-29T00:00:00",
          "2020-06-30T00:00:00",
          "2020-07-01T00:00:00",
          "2020-07-02T00:00:00",
          "2020-07-03T00:00:00",
          "2020-07-04T00:00:00",
          "2020-07-05T00:00:00",
          "2020-07-06T00:00:00",
          "2020-07-07T00:00:00",
          "2020-07-08T00:00:00",
          "2020-07-09T00:00:00",
          "2020-07-10T00:00:00",
          "2020-07-11T00:00:00",
          "2020-07-12T00:00:00",
          "2020-07-13T00:00:00",
          "2020-07-14T00:00:00",
          "2020-07-15T00:00:00",
          "2020-07-16T00:00:00",
          "2020-07-17T00:00:00",
          "2020-07-18T00:00:00",
          "2020-07-19T00:00:00",
          "2020-07-20T00:00:00",
          "2020-07-21T00:00:00",
          "2020-07-22T00:00:00",
          "2020-07-23T00:00:00",
          "2020-07-24T00:00:00",
          "2020-07-25T00:00:00",
          "2020-07-26T00:00:00",
          "2020-07-27T00:00:00",
          "2020-07-28T00:00:00",
          "2020-07-29T00:00:00",
          "2020-07-30T00:00:00",
          "2020-07-31T00:00:00",
          "2020-08-01T00:00:00",
          "2020-08-02T00:00:00",
          "2020-08-03T00:00:00",
          "2020-08-04T00:00:00",
          "2020-08-05T00:00:00",
          "2020-08-06T00:00:00",
          "2020-08-07T00:00:00",
          "2020-08-08T00:00:00",
          "2020-08-09T00:00:00",
          "2020-08-10T00:00:00",
          "2020-08-11T00:00:00",
          "2020-08-12T00:00:00",
          "2020-08-13T00:00:00",
          "2020-08-14T00:00:00",
          "2020-08-15T00:00:00",
          "2020-08-16T00:00:00",
          "2020-08-17T00:00:00",
          "2020-08-18T00:00:00",
          "2020-08-19T00:00:00",
          "2020-08-20T00:00:00",
          "2020-08-21T00:00:00",
          "2020-08-22T00:00:00",
          "2020-08-23T00:00:00",
          "2020-08-24T00:00:00",
          "2020-08-25T00:00:00",
          "2020-08-26T00:00:00",
          "2020-08-27T00:00:00",
          "2020-08-28T00:00:00",
          "2020-08-29T00:00:00",
          "2020-08-30T00:00:00",
          "2020-08-31T00:00:00",
          "2020-09-01T00:00:00",
          "2020-09-02T00:00:00",
          "2020-09-03T00:00:00",
          "2020-09-04T00:00:00",
          "2020-09-05T00:00:00",
          "2020-09-06T00:00:00",
          "2020-09-07T00:00:00",
          "2020-09-08T00:00:00",
          "2020-09-09T00:00:00",
          "2020-09-10T00:00:00",
          "2020-09-11T00:00:00",
          "2020-09-12T00:00:00",
          "2020-09-13T00:00:00",
          "2020-09-14T00:00:00",
          "2020-09-15T00:00:00",
          "2020-09-16T00:00:00",
          "2020-09-17T00:00:00",
          "2020-09-18T00:00:00",
          "2020-09-19T00:00:00",
          "2020-09-20T00:00:00",
          "2020-09-21T00:00:00",
          "2020-09-22T00:00:00",
          "2020-09-23T00:00:00",
          "2020-09-24T00:00:00",
          "2020-09-25T00:00:00",
          "2020-09-26T00:00:00",
          "2020-09-27T00:00:00",
          "2020-09-28T00:00:00",
          "2020-09-29T00:00:00",
          "2020-09-30T00:00:00",
          "2020-10-01T00:00:00",
          "2020-10-02T00:00:00",
          "2020-10-03T00:00:00",
          "2020-10-04T00:00:00",
          "2020-10-05T00:00:00",
          "2020-10-06T00:00:00",
          "2020-10-07T00:00:00",
          "2020-10-08T00:00:00",
          "2020-10-09T00:00:00",
          "2020-10-10T00:00:00",
          "2020-10-11T00:00:00",
          "2020-10-12T00:00:00",
          "2020-10-13T00:00:00",
          "2020-10-14T00:00:00",
          "2020-10-15T00:00:00",
          "2020-10-16T00:00:00",
          "2020-10-17T00:00:00",
          "2020-10-18T00:00:00",
          "2020-10-19T00:00:00",
          "2020-10-20T00:00:00",
          "2020-10-21T00:00:00",
          "2020-10-22T00:00:00",
          "2020-10-23T00:00:00",
          "2020-10-24T00:00:00",
          "2020-10-25T00:00:00",
          "2020-10-26T00:00:00",
          "2020-10-27T00:00:00",
          "2020-10-28T00:00:00",
          "2020-10-29T00:00:00",
          "2020-10-30T00:00:00",
          "2020-10-31T00:00:00",
          "2020-11-01T00:00:00",
          "2020-11-02T00:00:00",
          "2020-11-03T00:00:00",
          "2020-11-04T00:00:00",
          "2020-11-05T00:00:00",
          "2020-11-06T00:00:00",
          "2020-11-07T00:00:00",
          "2020-11-08T00:00:00",
          "2020-11-09T00:00:00",
          "2020-11-10T00:00:00",
          "2020-11-11T00:00:00",
          "2020-11-12T00:00:00",
          "2020-11-13T00:00:00",
          "2020-11-14T00:00:00",
          "2020-11-15T00:00:00",
          "2020-11-16T00:00:00",
          "2020-11-17T00:00:00",
          "2020-11-18T00:00:00",
          "2020-11-19T00:00:00",
          "2020-11-20T00:00:00",
          "2020-11-21T00:00:00",
          "2020-11-22T00:00:00",
          "2020-11-23T00:00:00",
          "2020-11-24T00:00:00",
          "2020-11-25T00:00:00",
          "2020-11-26T00:00:00",
          "2020-11-27T00:00:00",
          "2020-11-28T00:00:00",
          "2020-11-29T00:00:00",
          "2020-11-30T00:00:00",
          "2020-12-01T00:00:00",
          "2020-12-02T00:00:00",
          "2020-12-03T00:00:00",
          "2020-12-04T00:00:00",
          "2020-12-05T00:00:00",
          "2020-12-06T00:00:00",
          "2020-12-07T00:00:00",
          "2020-12-08T00:00:00",
          "2020-12-09T00:00:00",
          "2020-12-10T00:00:00",
          "2020-12-11T00:00:00",
          "2020-12-12T00:00:00",
          "2020-12-13T00:00:00",
          "2020-12-14T00:00:00",
          "2020-12-15T00:00:00",
          "2020-12-16T00:00:00",
          "2020-12-17T00:00:00",
          "2020-12-18T00:00:00",
          "2020-12-19T00:00:00",
          "2020-12-20T00:00:00",
          "2020-12-21T00:00:00",
          "2020-12-22T00:00:00",
          "2020-12-23T00:00:00",
          "2020-12-24T00:00:00",
          "2020-12-25T00:00:00",
          "2020-12-26T00:00:00",
          "2020-12-27T00:00:00",
          "2020-12-28T00:00:00",
          "2020-12-29T00:00:00",
          "2020-12-30T00:00:00",
          "2020-12-31T00:00:00",
          "2021-01-01T00:00:00",
          "2021-01-02T00:00:00",
          "2021-01-03T00:00:00",
          "2021-01-04T00:00:00",
          "2021-01-05T00:00:00",
          "2021-01-06T00:00:00",
          "2021-01-07T00:00:00",
          "2021-01-08T00:00:00",
          "2021-01-09T00:00:00",
          "2021-01-10T00:00:00",
          "2021-01-11T00:00:00",
          "2021-01-12T00:00:00",
          "2021-01-13T00:00:00",
          "2021-01-14T00:00:00",
          "2021-01-15T00:00:00",
          "2021-01-16T00:00:00",
          "2021-01-17T00:00:00",
          "2021-01-18T00:00:00"
         ],
         "y": [
          0,
          0,
          0,
          1,
          1,
          1,
          1,
          1,
          2,
          3,
          3,
          5,
          6,
          8,
          11,
          13,
          16,
          20,
          22,
          25,
          31,
          36,
          40,
          44,
          49,
          55,
          61,
          65,
          71,
          78,
          83,
          89,
          96,
          106,
          119,
          130,
          141,
          154,
          168,
          185,
          200,
          208,
          216,
          235,
          250,
          265,
          271,
          275,
          293,
          308,
          311,
          315,
          318,
          326,
          335,
          337,
          345,
          356,
          375,
          390,
          403,
          423,
          440,
          455,
          467,
          472,
          474,
          480,
          482,
          488,
          493,
          495,
          500,
          501,
          510,
          517,
          527,
          531,
          544,
          553,
          562,
          571,
          582,
          591,
          602,
          609,
          611,
          627,
          630,
          633,
          631,
          644,
          652,
          656,
          648,
          637,
          634,
          629,
          613,
          598,
          590,
          595,
          610,
          610,
          620,
          630,
          635,
          645,
          646,
          650,
          660,
          672,
          684,
          692,
          701,
          706,
          709,
          709,
          709,
          707,
          715,
          722,
          726,
          725,
          731,
          726,
          731,
          721,
          718,
          713,
          719,
          718,
          717,
          708,
          702,
          698,
          691,
          684,
          668,
          663,
          664,
          668,
          659,
          655,
          649,
          647,
          638,
          625,
          612,
          601,
          593,
          578,
          568,
          561,
          543,
          542,
          534,
          530,
          528,
          521,
          509,
          508,
          499,
          493,
          490,
          484,
          485,
          487,
          482,
          478,
          476,
          469,
          460,
          451,
          442,
          433,
          431,
          421,
          416,
          417,
          409,
          405,
          405,
          397,
          394,
          384,
          376,
          380,
          374,
          373,
          371,
          371,
          371,
          368,
          360,
          354,
          346,
          339,
          334,
          332,
          329,
          326,
          327,
          325,
          325,
          322,
          318,
          320,
          322,
          329,
          332,
          335,
          341,
          347,
          347,
          352,
          358,
          363,
          376,
          384,
          393,
          398,
          410,
          410,
          415,
          415,
          416,
          419,
          419,
          412,
          413,
          415,
          415,
          420,
          425,
          428,
          430,
          430,
          428,
          429,
          431,
          425,
          424,
          425,
          423,
          428,
          429,
          421,
          430,
          440,
          455,
          461,
          465,
          469,
          481,
          489,
          491,
          488,
          497,
          509,
          517,
          521,
          516,
          525,
          531,
          537,
          532,
          538,
          543,
          553,
          557,
          565,
          566,
          576,
          579,
          586,
          593,
          601,
          604,
          619,
          625,
          632,
          639,
          639,
          644,
          656,
          662,
          674,
          680,
          677,
          695,
          702,
          708,
          715,
          717,
          735,
          750,
          757,
          764,
          768,
          772,
          775,
          757,
          738,
          676,
          608,
          526,
          412
         ]
        }
       ],
       "layout": {
        "height": 450,
        "hovermode": "x unified",
        "template": {
         "data": {
          "bar": [
           {
            "error_x": {
             "color": "#2a3f5f"
            },
            "error_y": {
             "color": "#2a3f5f"
            },
            "marker": {
             "line": {
              "color": "white",
              "width": 0.5
             }
            },
            "type": "bar"
           }
          ],
          "barpolar": [
           {
            "marker": {
             "line": {
              "color": "white",
              "width": 0.5
             }
            },
            "type": "barpolar"
           }
          ],
          "carpet": [
           {
            "aaxis": {
             "endlinecolor": "#2a3f5f",
             "gridcolor": "#C8D4E3",
             "linecolor": "#C8D4E3",
             "minorgridcolor": "#C8D4E3",
             "startlinecolor": "#2a3f5f"
            },
            "baxis": {
             "endlinecolor": "#2a3f5f",
             "gridcolor": "#C8D4E3",
             "linecolor": "#C8D4E3",
             "minorgridcolor": "#C8D4E3",
             "startlinecolor": "#2a3f5f"
            },
            "type": "carpet"
           }
          ],
          "choropleth": [
           {
            "colorbar": {
             "outlinewidth": 0,
             "ticks": ""
            },
            "type": "choropleth"
           }
          ],
          "contour": [
           {
            "colorbar": {
             "outlinewidth": 0,
             "ticks": ""
            },
            "colorscale": [
             [
              0,
              "#0d0887"
             ],
             [
              0.1111111111111111,
              "#46039f"
             ],
             [
              0.2222222222222222,
              "#7201a8"
             ],
             [
              0.3333333333333333,
              "#9c179e"
             ],
             [
              0.4444444444444444,
              "#bd3786"
             ],
             [
              0.5555555555555556,
              "#d8576b"
             ],
             [
              0.6666666666666666,
              "#ed7953"
             ],
             [
              0.7777777777777778,
              "#fb9f3a"
             ],
             [
              0.8888888888888888,
              "#fdca26"
             ],
             [
              1,
              "#f0f921"
             ]
            ],
            "type": "contour"
           }
          ],
          "contourcarpet": [
           {
            "colorbar": {
             "outlinewidth": 0,
             "ticks": ""
            },
            "type": "contourcarpet"
           }
          ],
          "heatmap": [
           {
            "colorbar": {
             "outlinewidth": 0,
             "ticks": ""
            },
            "colorscale": [
             [
              0,
              "#0d0887"
             ],
             [
              0.1111111111111111,
              "#46039f"
             ],
             [
              0.2222222222222222,
              "#7201a8"
             ],
             [
              0.3333333333333333,
              "#9c179e"
             ],
             [
              0.4444444444444444,
              "#bd3786"
             ],
             [
              0.5555555555555556,
              "#d8576b"
             ],
             [
              0.6666666666666666,
              "#ed7953"
             ],
             [
              0.7777777777777778,
              "#fb9f3a"
             ],
             [
              0.8888888888888888,
              "#fdca26"
             ],
             [
              1,
              "#f0f921"
             ]
            ],
            "type": "heatmap"
           }
          ],
          "heatmapgl": [
           {
            "colorbar": {
             "outlinewidth": 0,
             "ticks": ""
            },
            "colorscale": [
             [
              0,
              "#0d0887"
             ],
             [
              0.1111111111111111,
              "#46039f"
             ],
             [
              0.2222222222222222,
              "#7201a8"
             ],
             [
              0.3333333333333333,
              "#9c179e"
             ],
             [
              0.4444444444444444,
              "#bd3786"
             ],
             [
              0.5555555555555556,
              "#d8576b"
             ],
             [
              0.6666666666666666,
              "#ed7953"
             ],
             [
              0.7777777777777778,
              "#fb9f3a"
             ],
             [
              0.8888888888888888,
              "#fdca26"
             ],
             [
              1,
              "#f0f921"
             ]
            ],
            "type": "heatmapgl"
           }
          ],
          "histogram": [
           {
            "marker": {
             "colorbar": {
              "outlinewidth": 0,
              "ticks": ""
             }
            },
            "type": "histogram"
           }
          ],
          "histogram2d": [
           {
            "colorbar": {
             "outlinewidth": 0,
             "ticks": ""
            },
            "colorscale": [
             [
              0,
              "#0d0887"
             ],
             [
              0.1111111111111111,
              "#46039f"
             ],
             [
              0.2222222222222222,
              "#7201a8"
             ],
             [
              0.3333333333333333,
              "#9c179e"
             ],
             [
              0.4444444444444444,
              "#bd3786"
             ],
             [
              0.5555555555555556,
              "#d8576b"
             ],
             [
              0.6666666666666666,
              "#ed7953"
             ],
             [
              0.7777777777777778,
              "#fb9f3a"
             ],
             [
              0.8888888888888888,
              "#fdca26"
             ],
             [
              1,
              "#f0f921"
             ]
            ],
            "type": "histogram2d"
           }
          ],
          "histogram2dcontour": [
           {
            "colorbar": {
             "outlinewidth": 0,
             "ticks": ""
            },
            "colorscale": [
             [
              0,
              "#0d0887"
             ],
             [
              0.1111111111111111,
              "#46039f"
             ],
             [
              0.2222222222222222,
              "#7201a8"
             ],
             [
              0.3333333333333333,
              "#9c179e"
             ],
             [
              0.4444444444444444,
              "#bd3786"
             ],
             [
              0.5555555555555556,
              "#d8576b"
             ],
             [
              0.6666666666666666,
              "#ed7953"
             ],
             [
              0.7777777777777778,
              "#fb9f3a"
             ],
             [
              0.8888888888888888,
              "#fdca26"
             ],
             [
              1,
              "#f0f921"
             ]
            ],
            "type": "histogram2dcontour"
           }
          ],
          "mesh3d": [
           {
            "colorbar": {
             "outlinewidth": 0,
             "ticks": ""
            },
            "type": "mesh3d"
           }
          ],
          "parcoords": [
           {
            "line": {
             "colorbar": {
              "outlinewidth": 0,
              "ticks": ""
             }
            },
            "type": "parcoords"
           }
          ],
          "pie": [
           {
            "automargin": true,
            "type": "pie"
           }
          ],
          "scatter": [
           {
            "marker": {
             "colorbar": {
              "outlinewidth": 0,
              "ticks": ""
             }
            },
            "type": "scatter"
           }
          ],
          "scatter3d": [
           {
            "line": {
             "colorbar": {
              "outlinewidth": 0,
              "ticks": ""
             }
            },
            "marker": {
             "colorbar": {
              "outlinewidth": 0,
              "ticks": ""
             }
            },
            "type": "scatter3d"
           }
          ],
          "scattercarpet": [
           {
            "marker": {
             "colorbar": {
              "outlinewidth": 0,
              "ticks": ""
             }
            },
            "type": "scattercarpet"
           }
          ],
          "scattergeo": [
           {
            "marker": {
             "colorbar": {
              "outlinewidth": 0,
              "ticks": ""
             }
            },
            "type": "scattergeo"
           }
          ],
          "scattergl": [
           {
            "marker": {
             "colorbar": {
              "outlinewidth": 0,
              "ticks": ""
             }
            },
            "type": "scattergl"
           }
          ],
          "scattermapbox": [
           {
            "marker": {
             "colorbar": {
              "outlinewidth": 0,
              "ticks": ""
             }
            },
            "type": "scattermapbox"
           }
          ],
          "scatterpolar": [
           {
            "marker": {
             "colorbar": {
              "outlinewidth": 0,
              "ticks": ""
             }
            },
            "type": "scatterpolar"
           }
          ],
          "scatterpolargl": [
           {
            "marker": {
             "colorbar": {
              "outlinewidth": 0,
              "ticks": ""
             }
            },
            "type": "scatterpolargl"
           }
          ],
          "scatterternary": [
           {
            "marker": {
             "colorbar": {
              "outlinewidth": 0,
              "ticks": ""
             }
            },
            "type": "scatterternary"
           }
          ],
          "surface": [
           {
            "colorbar": {
             "outlinewidth": 0,
             "ticks": ""
            },
            "colorscale": [
             [
              0,
              "#0d0887"
             ],
             [
              0.1111111111111111,
              "#46039f"
             ],
             [
              0.2222222222222222,
              "#7201a8"
             ],
             [
              0.3333333333333333,
              "#9c179e"
             ],
             [
              0.4444444444444444,
              "#bd3786"
             ],
             [
              0.5555555555555556,
              "#d8576b"
             ],
             [
              0.6666666666666666,
              "#ed7953"
             ],
             [
              0.7777777777777778,
              "#fb9f3a"
             ],
             [
              0.8888888888888888,
              "#fdca26"
             ],
             [
              1,
              "#f0f921"
             ]
            ],
            "type": "surface"
           }
          ],
          "table": [
           {
            "cells": {
             "fill": {
              "color": "#EBF0F8"
             },
             "line": {
              "color": "white"
             }
            },
            "header": {
             "fill": {
              "color": "#C8D4E3"
             },
             "line": {
              "color": "white"
             }
            },
            "type": "table"
           }
          ]
         },
         "layout": {
          "annotationdefaults": {
           "arrowcolor": "#2a3f5f",
           "arrowhead": 0,
           "arrowwidth": 1
          },
          "coloraxis": {
           "colorbar": {
            "outlinewidth": 0,
            "ticks": ""
           }
          },
          "colorscale": {
           "diverging": [
            [
             0,
             "#8e0152"
            ],
            [
             0.1,
             "#c51b7d"
            ],
            [
             0.2,
             "#de77ae"
            ],
            [
             0.3,
             "#f1b6da"
            ],
            [
             0.4,
             "#fde0ef"
            ],
            [
             0.5,
             "#f7f7f7"
            ],
            [
             0.6,
             "#e6f5d0"
            ],
            [
             0.7,
             "#b8e186"
            ],
            [
             0.8,
             "#7fbc41"
            ],
            [
             0.9,
             "#4d9221"
            ],
            [
             1,
             "#276419"
            ]
           ],
           "sequential": [
            [
             0,
             "#0d0887"
            ],
            [
             0.1111111111111111,
             "#46039f"
            ],
            [
             0.2222222222222222,
             "#7201a8"
            ],
            [
             0.3333333333333333,
             "#9c179e"
            ],
            [
             0.4444444444444444,
             "#bd3786"
            ],
            [
             0.5555555555555556,
             "#d8576b"
            ],
            [
             0.6666666666666666,
             "#ed7953"
            ],
            [
             0.7777777777777778,
             "#fb9f3a"
            ],
            [
             0.8888888888888888,
             "#fdca26"
            ],
            [
             1,
             "#f0f921"
            ]
           ],
           "sequentialminus": [
            [
             0,
             "#0d0887"
            ],
            [
             0.1111111111111111,
             "#46039f"
            ],
            [
             0.2222222222222222,
             "#7201a8"
            ],
            [
             0.3333333333333333,
             "#9c179e"
            ],
            [
             0.4444444444444444,
             "#bd3786"
            ],
            [
             0.5555555555555556,
             "#d8576b"
            ],
            [
             0.6666666666666666,
             "#ed7953"
            ],
            [
             0.7777777777777778,
             "#fb9f3a"
            ],
            [
             0.8888888888888888,
             "#fdca26"
            ],
            [
             1,
             "#f0f921"
            ]
           ]
          },
          "colorway": [
           "#636efa",
           "#EF553B",
           "#00cc96",
           "#ab63fa",
           "#FFA15A",
           "#19d3f3",
           "#FF6692",
           "#B6E880",
           "#FF97FF",
           "#FECB52"
          ],
          "font": {
           "color": "#2a3f5f"
          },
          "geo": {
           "bgcolor": "white",
           "lakecolor": "white",
           "landcolor": "white",
           "showlakes": true,
           "showland": true,
           "subunitcolor": "#C8D4E3"
          },
          "hoverlabel": {
           "align": "left"
          },
          "hovermode": "closest",
          "mapbox": {
           "style": "light"
          },
          "paper_bgcolor": "white",
          "plot_bgcolor": "white",
          "polar": {
           "angularaxis": {
            "gridcolor": "#EBF0F8",
            "linecolor": "#EBF0F8",
            "ticks": ""
           },
           "bgcolor": "white",
           "radialaxis": {
            "gridcolor": "#EBF0F8",
            "linecolor": "#EBF0F8",
            "ticks": ""
           }
          },
          "scene": {
           "xaxis": {
            "backgroundcolor": "white",
            "gridcolor": "#DFE8F3",
            "gridwidth": 2,
            "linecolor": "#EBF0F8",
            "showbackground": true,
            "ticks": "",
            "zerolinecolor": "#EBF0F8"
           },
           "yaxis": {
            "backgroundcolor": "white",
            "gridcolor": "#DFE8F3",
            "gridwidth": 2,
            "linecolor": "#EBF0F8",
            "showbackground": true,
            "ticks": "",
            "zerolinecolor": "#EBF0F8"
           },
           "zaxis": {
            "backgroundcolor": "white",
            "gridcolor": "#DFE8F3",
            "gridwidth": 2,
            "linecolor": "#EBF0F8",
            "showbackground": true,
            "ticks": "",
            "zerolinecolor": "#EBF0F8"
           }
          },
          "shapedefaults": {
           "line": {
            "color": "#2a3f5f"
           }
          },
          "ternary": {
           "aaxis": {
            "gridcolor": "#DFE8F3",
            "linecolor": "#A2B1C6",
            "ticks": ""
           },
           "baxis": {
            "gridcolor": "#DFE8F3",
            "linecolor": "#A2B1C6",
            "ticks": ""
           },
           "bgcolor": "white",
           "caxis": {
            "gridcolor": "#DFE8F3",
            "linecolor": "#A2B1C6",
            "ticks": ""
           }
          },
          "title": {
           "x": 0.05
          },
          "xaxis": {
           "automargin": true,
           "gridcolor": "#EBF0F8",
           "linecolor": "#EBF0F8",
           "ticks": "",
           "title": {
            "standoff": 15
           },
           "zerolinecolor": "#EBF0F8",
           "zerolinewidth": 2
          },
          "yaxis": {
           "automargin": true,
           "gridcolor": "#EBF0F8",
           "linecolor": "#EBF0F8",
           "ticks": "",
           "title": {
            "standoff": 15
           },
           "zerolinecolor": "#EBF0F8",
           "zerolinewidth": 2
          }
         }
        },
        "title": {
         "text": "Nuevas defunciones de COVID-19 reportadas diariamente en México"
        },
        "width": 900,
        "xaxis": {
         "spikethickness": 0.4,
         "title": {
          "text": "Fecha de registro"
         }
        },
        "yaxis": {
         "title": {
          "text": "Nuevas defunciones confirmadas"
         }
        }
       }
      }
     },
     "metadata": {}
    }
   ],
   "source": [
    "\n",
    "# fig_bar1_conf = px.bar(x =confirmados_por_fecha[\"fecha_ingreso\"], y = confirmados_por_fecha[\"confirmados\"], \n",
    "    \n",
    "#                     labels= dict(x = \"Fecha de registro\", y = \"Nuevos casos confirmados\"), title=\"Nuevos casos de COVID-19 reportados diariamente\", width = 900)\n",
    "#fig_bar1_conf.update_traces( marker = dict(color = \"#ff1744\", opacity = 0.6))\n",
    "# fig_bar2_def = px.bar(x = defunciones_por_fecha[\"fecha_defuncion\"], y = defunciones_por_fecha[\"defunciones\"],\n",
    "#                         labels = dict(x = \"Fecha de defunción\", y = \"Defunciones\"), title = \"Nuevas defunciones por COVID-19 reportadas diariamente\", width = 900)\n",
    "\n",
    "# fig_bar2_def.update_traces(marker = dict(color = \"black\"))\n",
    "\n",
    "# Bar plots for confirmed and death cases ...\n",
    "def show_confirmed_cases(x_vect,y_vect, region, anomalia):\n",
    "\n",
    "    if anomalia == True:\n",
    "        h = 600\n",
    "        w = 1000\n",
    "    else:\n",
    "        h = 450\n",
    "        w = 900\n",
    "\n",
    "    fig_bar1 = go.Figure()\n",
    "    fig_bar1.add_trace(go.Bar(x = x_vect, y = y_vect, \n",
    "                                marker = dict(color = \"#ff1744\", opacity = 0.6 ), name = \"Nuevos casos\"))\n",
    "    #Average of seven days curve ...                             \n",
    "    fig_bar1.add_trace(go.Scatter(x = x_vect, y =  average_of_seven_days(y_vect),\n",
    "                                        mode = \"lines\", line = dict(color = \"#b71c1c\", width = 2.5), name = \"Promedio de 7 días\"))\n",
    "    #custom layout\n",
    "    fig_bar1.update_xaxes(title = \"Fecha de registro\",spikethickness= .4)\n",
    "    fig_bar1.update_yaxes(title = \"Nuevos casos confirmados\")\n",
    "    fig_bar1.update_layout(width = w, height = h, hovermode = \"x unified\", title = \"Nuevos casos de COVID-19 reportados diariamente en \" + region)\n",
    "    #Showing figure ... \n",
    "    fig_bar1.show()\n",
    "\n",
    "def show_deaths(x_vect,y_vect,region, anomalia):\n",
    "    \n",
    "    if anomalia == True:\n",
    "        h = 600\n",
    "        w = 1000\n",
    "    else:\n",
    "        h = 450\n",
    "        w = 900\n",
    "    # Death cases ...\n",
    "    fig_bar2 = go.Figure()\n",
    "    fig_bar2.add_trace(go.Bar(x = x_vect, y = y_vect,\n",
    "                                marker = dict(color = \"#546e7a\", opacity = 0.75), name = \"Nuevas defunciones\"))\n",
    "    #Average of seven days curve ...                         \n",
    "    fig_bar2.add_trace(go.Scatter(x = x_vect, y =average_of_seven_days(y_vect, threshold = 2500),\n",
    "                                        mode = \"lines\", line = dict(color = \"black\", width = 2.5), name = \"Promedio de 7 días\"))\n",
    "    #custom layout\n",
    "    fig_bar2.update_xaxes(title = \"Fecha de registro\",spikethickness= .4)\n",
    "    fig_bar2.update_yaxes(title = \"Nuevas defunciones confirmadas\")\n",
    "    fig_bar2.update_layout(width = w, height = h, hovermode = \"x unified\", title = \"Nuevas defunciones de COVID-19 reportadas diariamente en \" + region)\n",
    "    #Showing figure ...\n",
    "    fig_bar2.show()\n",
    "\n",
    "show_confirmed_cases(confirmados_por_fecha[\"fecha_ingreso\"],confirmados_por_fecha[\"confirmados\"], \"México\", False)\n",
    "show_deaths(defunciones_por_fecha[\"fecha_defuncion\"],defunciones_por_fecha[\"defunciones\"],\"México\", False)"
   ]
  },
  {
   "cell_type": "code",
   "execution_count": 36,
   "metadata": {},
   "outputs": [
    {
     "output_type": "display_data",
     "data": {
      "application/vnd.plotly.v1+json": {
       "config": {
        "plotlyServerURL": "https://plot.ly"
       },
       "data": [
        {
         "line": {
          "color": "#ff1744",
          "width": 2.5
         },
         "mode": "lines",
         "name": "Casos confirmados",
         "type": "scatter",
         "x": [
          "2020-01-13T00:00:00",
          "2020-01-28T00:00:00",
          "2020-01-29T00:00:00",
          "2020-02-10T00:00:00",
          "2020-02-19T00:00:00",
          "2020-02-20T00:00:00",
          "2020-02-24T00:00:00",
          "2020-02-27T00:00:00",
          "2020-02-28T00:00:00",
          "2020-02-29T00:00:00",
          "2020-03-02T00:00:00",
          "2020-03-03T00:00:00",
          "2020-03-04T00:00:00",
          "2020-03-05T00:00:00",
          "2020-03-07T00:00:00",
          "2020-03-08T00:00:00",
          "2020-03-09T00:00:00",
          "2020-03-10T00:00:00",
          "2020-03-11T00:00:00",
          "2020-03-12T00:00:00",
          "2020-03-13T00:00:00",
          "2020-03-14T00:00:00",
          "2020-03-15T00:00:00",
          "2020-03-16T00:00:00",
          "2020-03-17T00:00:00",
          "2020-03-18T00:00:00",
          "2020-03-19T00:00:00",
          "2020-03-20T00:00:00",
          "2020-03-21T00:00:00",
          "2020-03-22T00:00:00",
          "2020-03-23T00:00:00",
          "2020-03-24T00:00:00",
          "2020-03-25T00:00:00",
          "2020-03-26T00:00:00",
          "2020-03-27T00:00:00",
          "2020-03-28T00:00:00",
          "2020-03-29T00:00:00",
          "2020-03-30T00:00:00",
          "2020-03-31T00:00:00",
          "2020-04-01T00:00:00",
          "2020-04-02T00:00:00",
          "2020-04-03T00:00:00",
          "2020-04-04T00:00:00",
          "2020-04-05T00:00:00",
          "2020-04-06T00:00:00",
          "2020-04-07T00:00:00",
          "2020-04-08T00:00:00",
          "2020-04-09T00:00:00",
          "2020-04-10T00:00:00",
          "2020-04-11T00:00:00",
          "2020-04-12T00:00:00",
          "2020-04-13T00:00:00",
          "2020-04-14T00:00:00",
          "2020-04-15T00:00:00",
          "2020-04-16T00:00:00",
          "2020-04-17T00:00:00",
          "2020-04-18T00:00:00",
          "2020-04-19T00:00:00",
          "2020-04-20T00:00:00",
          "2020-04-21T00:00:00",
          "2020-04-22T00:00:00",
          "2020-04-23T00:00:00",
          "2020-04-24T00:00:00",
          "2020-04-25T00:00:00",
          "2020-04-26T00:00:00",
          "2020-04-27T00:00:00",
          "2020-04-28T00:00:00",
          "2020-04-29T00:00:00",
          "2020-04-30T00:00:00",
          "2020-05-01T00:00:00",
          "2020-05-02T00:00:00",
          "2020-05-03T00:00:00",
          "2020-05-04T00:00:00",
          "2020-05-05T00:00:00",
          "2020-05-06T00:00:00",
          "2020-05-07T00:00:00",
          "2020-05-08T00:00:00",
          "2020-05-09T00:00:00",
          "2020-05-10T00:00:00",
          "2020-05-11T00:00:00",
          "2020-05-12T00:00:00",
          "2020-05-13T00:00:00",
          "2020-05-14T00:00:00",
          "2020-05-15T00:00:00",
          "2020-05-16T00:00:00",
          "2020-05-17T00:00:00",
          "2020-05-18T00:00:00",
          "2020-05-19T00:00:00",
          "2020-05-20T00:00:00",
          "2020-05-21T00:00:00",
          "2020-05-22T00:00:00",
          "2020-05-23T00:00:00",
          "2020-05-24T00:00:00",
          "2020-05-25T00:00:00",
          "2020-05-26T00:00:00",
          "2020-05-27T00:00:00",
          "2020-05-28T00:00:00",
          "2020-05-29T00:00:00",
          "2020-05-30T00:00:00",
          "2020-05-31T00:00:00",
          "2020-06-01T00:00:00",
          "2020-06-02T00:00:00",
          "2020-06-03T00:00:00",
          "2020-06-04T00:00:00",
          "2020-06-05T00:00:00",
          "2020-06-06T00:00:00",
          "2020-06-07T00:00:00",
          "2020-06-08T00:00:00",
          "2020-06-09T00:00:00",
          "2020-06-10T00:00:00",
          "2020-06-11T00:00:00",
          "2020-06-12T00:00:00",
          "2020-06-13T00:00:00",
          "2020-06-14T00:00:00",
          "2020-06-15T00:00:00",
          "2020-06-16T00:00:00",
          "2020-06-17T00:00:00",
          "2020-06-18T00:00:00",
          "2020-06-19T00:00:00",
          "2020-06-20T00:00:00",
          "2020-06-21T00:00:00",
          "2020-06-22T00:00:00",
          "2020-06-23T00:00:00",
          "2020-06-24T00:00:00",
          "2020-06-25T00:00:00",
          "2020-06-26T00:00:00",
          "2020-06-27T00:00:00",
          "2020-06-28T00:00:00",
          "2020-06-29T00:00:00",
          "2020-06-30T00:00:00",
          "2020-07-01T00:00:00",
          "2020-07-02T00:00:00",
          "2020-07-03T00:00:00",
          "2020-07-04T00:00:00",
          "2020-07-05T00:00:00",
          "2020-07-06T00:00:00",
          "2020-07-07T00:00:00",
          "2020-07-08T00:00:00",
          "2020-07-09T00:00:00",
          "2020-07-10T00:00:00",
          "2020-07-11T00:00:00",
          "2020-07-12T00:00:00",
          "2020-07-13T00:00:00",
          "2020-07-14T00:00:00",
          "2020-07-15T00:00:00",
          "2020-07-16T00:00:00",
          "2020-07-17T00:00:00",
          "2020-07-18T00:00:00",
          "2020-07-19T00:00:00",
          "2020-07-20T00:00:00",
          "2020-07-21T00:00:00",
          "2020-07-22T00:00:00",
          "2020-07-23T00:00:00",
          "2020-07-24T00:00:00",
          "2020-07-25T00:00:00",
          "2020-07-26T00:00:00",
          "2020-07-27T00:00:00",
          "2020-07-28T00:00:00",
          "2020-07-29T00:00:00",
          "2020-07-30T00:00:00",
          "2020-07-31T00:00:00",
          "2020-08-01T00:00:00",
          "2020-08-02T00:00:00",
          "2020-08-03T00:00:00",
          "2020-08-04T00:00:00",
          "2020-08-05T00:00:00",
          "2020-08-06T00:00:00",
          "2020-08-07T00:00:00",
          "2020-08-08T00:00:00",
          "2020-08-09T00:00:00",
          "2020-08-10T00:00:00",
          "2020-08-11T00:00:00",
          "2020-08-12T00:00:00",
          "2020-08-13T00:00:00",
          "2020-08-14T00:00:00",
          "2020-08-15T00:00:00",
          "2020-08-16T00:00:00",
          "2020-08-17T00:00:00",
          "2020-08-18T00:00:00",
          "2020-08-19T00:00:00",
          "2020-08-20T00:00:00",
          "2020-08-21T00:00:00",
          "2020-08-22T00:00:00",
          "2020-08-23T00:00:00",
          "2020-08-24T00:00:00",
          "2020-08-25T00:00:00",
          "2020-08-26T00:00:00",
          "2020-08-27T00:00:00",
          "2020-08-28T00:00:00",
          "2020-08-29T00:00:00",
          "2020-08-30T00:00:00",
          "2020-08-31T00:00:00",
          "2020-09-01T00:00:00",
          "2020-09-02T00:00:00",
          "2020-09-03T00:00:00",
          "2020-09-04T00:00:00",
          "2020-09-05T00:00:00",
          "2020-09-06T00:00:00",
          "2020-09-07T00:00:00",
          "2020-09-08T00:00:00",
          "2020-09-09T00:00:00",
          "2020-09-10T00:00:00",
          "2020-09-11T00:00:00",
          "2020-09-12T00:00:00",
          "2020-09-13T00:00:00",
          "2020-09-14T00:00:00",
          "2020-09-15T00:00:00",
          "2020-09-16T00:00:00",
          "2020-09-17T00:00:00",
          "2020-09-18T00:00:00",
          "2020-09-19T00:00:00",
          "2020-09-20T00:00:00",
          "2020-09-21T00:00:00",
          "2020-09-22T00:00:00",
          "2020-09-23T00:00:00",
          "2020-09-24T00:00:00",
          "2020-09-25T00:00:00",
          "2020-09-26T00:00:00",
          "2020-09-27T00:00:00",
          "2020-09-28T00:00:00",
          "2020-09-29T00:00:00",
          "2020-09-30T00:00:00",
          "2020-10-01T00:00:00",
          "2020-10-02T00:00:00",
          "2020-10-03T00:00:00",
          "2020-10-04T00:00:00",
          "2020-10-05T00:00:00",
          "2020-10-06T00:00:00",
          "2020-10-07T00:00:00",
          "2020-10-08T00:00:00",
          "2020-10-09T00:00:00",
          "2020-10-10T00:00:00",
          "2020-10-11T00:00:00",
          "2020-10-12T00:00:00",
          "2020-10-13T00:00:00",
          "2020-10-14T00:00:00",
          "2020-10-15T00:00:00",
          "2020-10-16T00:00:00",
          "2020-10-17T00:00:00",
          "2020-10-18T00:00:00",
          "2020-10-19T00:00:00",
          "2020-10-20T00:00:00",
          "2020-10-21T00:00:00",
          "2020-10-22T00:00:00",
          "2020-10-23T00:00:00",
          "2020-10-24T00:00:00",
          "2020-10-25T00:00:00",
          "2020-10-26T00:00:00",
          "2020-10-27T00:00:00",
          "2020-10-28T00:00:00",
          "2020-10-29T00:00:00",
          "2020-10-30T00:00:00",
          "2020-10-31T00:00:00",
          "2020-11-01T00:00:00",
          "2020-11-02T00:00:00",
          "2020-11-03T00:00:00",
          "2020-11-04T00:00:00",
          "2020-11-05T00:00:00",
          "2020-11-06T00:00:00",
          "2020-11-07T00:00:00",
          "2020-11-08T00:00:00",
          "2020-11-09T00:00:00",
          "2020-11-10T00:00:00",
          "2020-11-11T00:00:00",
          "2020-11-12T00:00:00",
          "2020-11-13T00:00:00",
          "2020-11-14T00:00:00",
          "2020-11-15T00:00:00",
          "2020-11-16T00:00:00",
          "2020-11-17T00:00:00",
          "2020-11-18T00:00:00",
          "2020-11-19T00:00:00",
          "2020-11-20T00:00:00",
          "2020-11-21T00:00:00",
          "2020-11-22T00:00:00",
          "2020-11-23T00:00:00",
          "2020-11-24T00:00:00",
          "2020-11-25T00:00:00",
          "2020-11-26T00:00:00",
          "2020-11-27T00:00:00",
          "2020-11-28T00:00:00",
          "2020-11-29T00:00:00",
          "2020-11-30T00:00:00",
          "2020-12-01T00:00:00",
          "2020-12-02T00:00:00",
          "2020-12-03T00:00:00",
          "2020-12-04T00:00:00",
          "2020-12-05T00:00:00",
          "2020-12-06T00:00:00",
          "2020-12-07T00:00:00",
          "2020-12-08T00:00:00",
          "2020-12-09T00:00:00",
          "2020-12-10T00:00:00",
          "2020-12-11T00:00:00",
          "2020-12-12T00:00:00",
          "2020-12-13T00:00:00",
          "2020-12-14T00:00:00",
          "2020-12-15T00:00:00",
          "2020-12-16T00:00:00",
          "2020-12-17T00:00:00",
          "2020-12-18T00:00:00",
          "2020-12-19T00:00:00",
          "2020-12-20T00:00:00",
          "2020-12-21T00:00:00",
          "2020-12-22T00:00:00",
          "2020-12-23T00:00:00",
          "2020-12-24T00:00:00",
          "2020-12-25T00:00:00",
          "2020-12-26T00:00:00",
          "2020-12-27T00:00:00",
          "2020-12-28T00:00:00",
          "2020-12-29T00:00:00",
          "2020-12-30T00:00:00",
          "2020-12-31T00:00:00",
          "2021-01-01T00:00:00",
          "2021-01-02T00:00:00",
          "2021-01-03T00:00:00",
          "2021-01-04T00:00:00",
          "2021-01-05T00:00:00",
          "2021-01-06T00:00:00",
          "2021-01-07T00:00:00",
          "2021-01-08T00:00:00",
          "2021-01-09T00:00:00",
          "2021-01-10T00:00:00",
          "2021-01-11T00:00:00",
          "2021-01-12T00:00:00",
          "2021-01-13T00:00:00",
          "2021-01-14T00:00:00",
          "2021-01-15T00:00:00",
          "2021-01-16T00:00:00",
          "2021-01-17T00:00:00",
          "2021-01-18T00:00:00"
         ],
         "y": [
          1,
          2,
          3,
          4,
          5,
          6,
          7,
          12,
          15,
          16,
          18,
          22,
          27,
          30,
          31,
          35,
          37,
          47,
          77,
          106,
          166,
          216,
          252,
          322,
          418,
          523,
          672,
          801,
          882,
          947,
          1103,
          1322,
          1496,
          1705,
          1954,
          2135,
          2288,
          2617,
          2912,
          3266,
          3595,
          3965,
          4198,
          4441,
          5037,
          5530,
          6076,
          6516,
          7044,
          7484,
          7930,
          8830,
          9714,
          10642,
          11590,
          12677,
          13440,
          14162,
          15600,
          16992,
          18318,
          19737,
          21373,
          22431,
          23444,
          25266,
          27095,
          28884,
          30685,
          32104,
          33470,
          34726,
          37247,
          39357,
          41639,
          44049,
          46474,
          48002,
          49425,
          52392,
          55329,
          58447,
          61525,
          65005,
          67178,
          68817,
          72849,
          76424,
          80331,
          84339,
          88335,
          90617,
          92495,
          97123,
          101461,
          105926,
          110150,
          114523,
          117258,
          119340,
          124632,
          129387,
          134337,
          139245,
          144297,
          147318,
          149664,
          155821,
          161589,
          167324,
          172720,
          178352,
          181427,
          184019,
          190586,
          197004,
          203153,
          209252,
          215367,
          218936,
          221403,
          228298,
          234920,
          241225,
          247522,
          254068,
          257738,
          260688,
          268211,
          275423,
          283039,
          290102,
          297186,
          300843,
          303830,
          311673,
          319568,
          327017,
          334153,
          341350,
          345214,
          348455,
          357296,
          365773,
          374582,
          382820,
          390794,
          395183,
          398614,
          407724,
          416372,
          424688,
          432766,
          440776,
          444938,
          447939,
          456419,
          464596,
          472283,
          479864,
          486569,
          490360,
          492876,
          500362,
          507747,
          514923,
          521614,
          528235,
          531908,
          534300,
          541500,
          548390,
          554833,
          561241,
          567438,
          570667,
          572978,
          579855,
          586535,
          592804,
          598797,
          605090,
          608213,
          610518,
          617531,
          624142,
          631174,
          637611,
          643937,
          647050,
          649227,
          656176,
          663264,
          670175,
          676455,
          682500,
          685351,
          687420,
          693770,
          700365,
          706389,
          712081,
          717555,
          720313,
          722171,
          728382,
          732660,
          734825,
          741149,
          746821,
          749581,
          751353,
          757605,
          763707,
          769405,
          774731,
          780003,
          782624,
          784383,
          790562,
          796538,
          802041,
          807290,
          812264,
          814655,
          816349,
          822121,
          828048,
          833711,
          839185,
          844869,
          847843,
          849973,
          856675,
          863700,
          870140,
          876541,
          883083,
          886311,
          888532,
          896631,
          904922,
          912236,
          919408,
          926572,
          929973,
          932353,
          940560,
          948464,
          955543,
          962310,
          968539,
          971435,
          973483,
          978499,
          986466,
          993882,
          1001211,
          1008112,
          1011499,
          1013956,
          1022311,
          1030650,
          1038851,
          1046868,
          1054309,
          1058064,
          1060573,
          1063617,
          1072986,
          1081584,
          1089729,
          1097956,
          1102068,
          1104715,
          1114770,
          1124931,
          1134301,
          1143777,
          1153120,
          1157826,
          1160709,
          1171357,
          1182541,
          1193731,
          1204569,
          1215138,
          1220780,
          1223789,
          1236319,
          1248906,
          1260884,
          1272920,
          1284874,
          1291199,
          1294359,
          1307920,
          1321365,
          1333917,
          1346114,
          1357894,
          1364149,
          1367682,
          1381297,
          1394396,
          1406045,
          1415668,
          1418069,
          1423460,
          1427462,
          1441963,
          1456430,
          1469897,
          1480881,
          1483775,
          1489718,
          1494212,
          1509081,
          1525406,
          1540606,
          1555090,
          1568686,
          1576158,
          1580251,
          1594919,
          1608286,
          1620398,
          1633658,
          1644020,
          1648069,
          1649440,
          1649502
         ]
        },
        {
         "line": {
          "color": "black",
          "width": 2.5
         },
         "mode": "lines",
         "name": "Defunciones ",
         "type": "scatter",
         "x": [
          "2020-03-03T00:00:00",
          "2020-03-13T00:00:00",
          "2020-03-17T00:00:00",
          "2020-03-18T00:00:00",
          "2020-03-20T00:00:00",
          "2020-03-22T00:00:00",
          "2020-03-23T00:00:00",
          "2020-03-24T00:00:00",
          "2020-03-25T00:00:00",
          "2020-03-26T00:00:00",
          "2020-03-27T00:00:00",
          "2020-03-28T00:00:00",
          "2020-03-29T00:00:00",
          "2020-03-30T00:00:00",
          "2020-03-31T00:00:00",
          "2020-04-01T00:00:00",
          "2020-04-02T00:00:00",
          "2020-04-03T00:00:00",
          "2020-04-04T00:00:00",
          "2020-04-05T00:00:00",
          "2020-04-06T00:00:00",
          "2020-04-07T00:00:00",
          "2020-04-08T00:00:00",
          "2020-04-09T00:00:00",
          "2020-04-10T00:00:00",
          "2020-04-11T00:00:00",
          "2020-04-12T00:00:00",
          "2020-04-13T00:00:00",
          "2020-04-14T00:00:00",
          "2020-04-15T00:00:00",
          "2020-04-16T00:00:00",
          "2020-04-17T00:00:00",
          "2020-04-18T00:00:00",
          "2020-04-19T00:00:00",
          "2020-04-20T00:00:00",
          "2020-04-21T00:00:00",
          "2020-04-22T00:00:00",
          "2020-04-23T00:00:00",
          "2020-04-24T00:00:00",
          "2020-04-25T00:00:00",
          "2020-04-26T00:00:00",
          "2020-04-27T00:00:00",
          "2020-04-28T00:00:00",
          "2020-04-29T00:00:00",
          "2020-04-30T00:00:00",
          "2020-05-01T00:00:00",
          "2020-05-02T00:00:00",
          "2020-05-03T00:00:00",
          "2020-05-04T00:00:00",
          "2020-05-05T00:00:00",
          "2020-05-06T00:00:00",
          "2020-05-07T00:00:00",
          "2020-05-08T00:00:00",
          "2020-05-09T00:00:00",
          "2020-05-10T00:00:00",
          "2020-05-11T00:00:00",
          "2020-05-12T00:00:00",
          "2020-05-13T00:00:00",
          "2020-05-14T00:00:00",
          "2020-05-15T00:00:00",
          "2020-05-16T00:00:00",
          "2020-05-17T00:00:00",
          "2020-05-18T00:00:00",
          "2020-05-19T00:00:00",
          "2020-05-20T00:00:00",
          "2020-05-21T00:00:00",
          "2020-05-22T00:00:00",
          "2020-05-23T00:00:00",
          "2020-05-24T00:00:00",
          "2020-05-25T00:00:00",
          "2020-05-26T00:00:00",
          "2020-05-27T00:00:00",
          "2020-05-28T00:00:00",
          "2020-05-29T00:00:00",
          "2020-05-30T00:00:00",
          "2020-05-31T00:00:00",
          "2020-06-01T00:00:00",
          "2020-06-02T00:00:00",
          "2020-06-03T00:00:00",
          "2020-06-04T00:00:00",
          "2020-06-05T00:00:00",
          "2020-06-06T00:00:00",
          "2020-06-07T00:00:00",
          "2020-06-08T00:00:00",
          "2020-06-09T00:00:00",
          "2020-06-10T00:00:00",
          "2020-06-11T00:00:00",
          "2020-06-12T00:00:00",
          "2020-06-13T00:00:00",
          "2020-06-14T00:00:00",
          "2020-06-15T00:00:00",
          "2020-06-16T00:00:00",
          "2020-06-17T00:00:00",
          "2020-06-18T00:00:00",
          "2020-06-19T00:00:00",
          "2020-06-20T00:00:00",
          "2020-06-21T00:00:00",
          "2020-06-22T00:00:00",
          "2020-06-23T00:00:00",
          "2020-06-24T00:00:00",
          "2020-06-25T00:00:00",
          "2020-06-26T00:00:00",
          "2020-06-27T00:00:00",
          "2020-06-28T00:00:00",
          "2020-06-29T00:00:00",
          "2020-06-30T00:00:00",
          "2020-07-01T00:00:00",
          "2020-07-02T00:00:00",
          "2020-07-03T00:00:00",
          "2020-07-04T00:00:00",
          "2020-07-05T00:00:00",
          "2020-07-06T00:00:00",
          "2020-07-07T00:00:00",
          "2020-07-08T00:00:00",
          "2020-07-09T00:00:00",
          "2020-07-10T00:00:00",
          "2020-07-11T00:00:00",
          "2020-07-12T00:00:00",
          "2020-07-13T00:00:00",
          "2020-07-14T00:00:00",
          "2020-07-15T00:00:00",
          "2020-07-16T00:00:00",
          "2020-07-17T00:00:00",
          "2020-07-18T00:00:00",
          "2020-07-19T00:00:00",
          "2020-07-20T00:00:00",
          "2020-07-21T00:00:00",
          "2020-07-22T00:00:00",
          "2020-07-23T00:00:00",
          "2020-07-24T00:00:00",
          "2020-07-25T00:00:00",
          "2020-07-26T00:00:00",
          "2020-07-27T00:00:00",
          "2020-07-28T00:00:00",
          "2020-07-29T00:00:00",
          "2020-07-30T00:00:00",
          "2020-07-31T00:00:00",
          "2020-08-01T00:00:00",
          "2020-08-02T00:00:00",
          "2020-08-03T00:00:00",
          "2020-08-04T00:00:00",
          "2020-08-05T00:00:00",
          "2020-08-06T00:00:00",
          "2020-08-07T00:00:00",
          "2020-08-08T00:00:00",
          "2020-08-09T00:00:00",
          "2020-08-10T00:00:00",
          "2020-08-11T00:00:00",
          "2020-08-12T00:00:00",
          "2020-08-13T00:00:00",
          "2020-08-14T00:00:00",
          "2020-08-15T00:00:00",
          "2020-08-16T00:00:00",
          "2020-08-17T00:00:00",
          "2020-08-18T00:00:00",
          "2020-08-19T00:00:00",
          "2020-08-20T00:00:00",
          "2020-08-21T00:00:00",
          "2020-08-22T00:00:00",
          "2020-08-23T00:00:00",
          "2020-08-24T00:00:00",
          "2020-08-25T00:00:00",
          "2020-08-26T00:00:00",
          "2020-08-27T00:00:00",
          "2020-08-28T00:00:00",
          "2020-08-29T00:00:00",
          "2020-08-30T00:00:00",
          "2020-08-31T00:00:00",
          "2020-09-01T00:00:00",
          "2020-09-02T00:00:00",
          "2020-09-03T00:00:00",
          "2020-09-04T00:00:00",
          "2020-09-05T00:00:00",
          "2020-09-06T00:00:00",
          "2020-09-07T00:00:00",
          "2020-09-08T00:00:00",
          "2020-09-09T00:00:00",
          "2020-09-10T00:00:00",
          "2020-09-11T00:00:00",
          "2020-09-12T00:00:00",
          "2020-09-13T00:00:00",
          "2020-09-14T00:00:00",
          "2020-09-15T00:00:00",
          "2020-09-16T00:00:00",
          "2020-09-17T00:00:00",
          "2020-09-18T00:00:00",
          "2020-09-19T00:00:00",
          "2020-09-20T00:00:00",
          "2020-09-21T00:00:00",
          "2020-09-22T00:00:00",
          "2020-09-23T00:00:00",
          "2020-09-24T00:00:00",
          "2020-09-25T00:00:00",
          "2020-09-26T00:00:00",
          "2020-09-27T00:00:00",
          "2020-09-28T00:00:00",
          "2020-09-29T00:00:00",
          "2020-09-30T00:00:00",
          "2020-10-01T00:00:00",
          "2020-10-02T00:00:00",
          "2020-10-03T00:00:00",
          "2020-10-04T00:00:00",
          "2020-10-05T00:00:00",
          "2020-10-06T00:00:00",
          "2020-10-07T00:00:00",
          "2020-10-08T00:00:00",
          "2020-10-09T00:00:00",
          "2020-10-10T00:00:00",
          "2020-10-11T00:00:00",
          "2020-10-12T00:00:00",
          "2020-10-13T00:00:00",
          "2020-10-14T00:00:00",
          "2020-10-15T00:00:00",
          "2020-10-16T00:00:00",
          "2020-10-17T00:00:00",
          "2020-10-18T00:00:00",
          "2020-10-19T00:00:00",
          "2020-10-20T00:00:00",
          "2020-10-21T00:00:00",
          "2020-10-22T00:00:00",
          "2020-10-23T00:00:00",
          "2020-10-24T00:00:00",
          "2020-10-25T00:00:00",
          "2020-10-26T00:00:00",
          "2020-10-27T00:00:00",
          "2020-10-28T00:00:00",
          "2020-10-29T00:00:00",
          "2020-10-30T00:00:00",
          "2020-10-31T00:00:00",
          "2020-11-01T00:00:00",
          "2020-11-02T00:00:00",
          "2020-11-03T00:00:00",
          "2020-11-04T00:00:00",
          "2020-11-05T00:00:00",
          "2020-11-06T00:00:00",
          "2020-11-07T00:00:00",
          "2020-11-08T00:00:00",
          "2020-11-09T00:00:00",
          "2020-11-10T00:00:00",
          "2020-11-11T00:00:00",
          "2020-11-12T00:00:00",
          "2020-11-13T00:00:00",
          "2020-11-14T00:00:00",
          "2020-11-15T00:00:00",
          "2020-11-16T00:00:00",
          "2020-11-17T00:00:00",
          "2020-11-18T00:00:00",
          "2020-11-19T00:00:00",
          "2020-11-20T00:00:00",
          "2020-11-21T00:00:00",
          "2020-11-22T00:00:00",
          "2020-11-23T00:00:00",
          "2020-11-24T00:00:00",
          "2020-11-25T00:00:00",
          "2020-11-26T00:00:00",
          "2020-11-27T00:00:00",
          "2020-11-28T00:00:00",
          "2020-11-29T00:00:00",
          "2020-11-30T00:00:00",
          "2020-12-01T00:00:00",
          "2020-12-02T00:00:00",
          "2020-12-03T00:00:00",
          "2020-12-04T00:00:00",
          "2020-12-05T00:00:00",
          "2020-12-06T00:00:00",
          "2020-12-07T00:00:00",
          "2020-12-08T00:00:00",
          "2020-12-09T00:00:00",
          "2020-12-10T00:00:00",
          "2020-12-11T00:00:00",
          "2020-12-12T00:00:00",
          "2020-12-13T00:00:00",
          "2020-12-14T00:00:00",
          "2020-12-15T00:00:00",
          "2020-12-16T00:00:00",
          "2020-12-17T00:00:00",
          "2020-12-18T00:00:00",
          "2020-12-19T00:00:00",
          "2020-12-20T00:00:00",
          "2020-12-21T00:00:00",
          "2020-12-22T00:00:00",
          "2020-12-23T00:00:00",
          "2020-12-24T00:00:00",
          "2020-12-25T00:00:00",
          "2020-12-26T00:00:00",
          "2020-12-27T00:00:00",
          "2020-12-28T00:00:00",
          "2020-12-29T00:00:00",
          "2020-12-30T00:00:00",
          "2020-12-31T00:00:00",
          "2021-01-01T00:00:00",
          "2021-01-02T00:00:00",
          "2021-01-03T00:00:00",
          "2021-01-04T00:00:00",
          "2021-01-05T00:00:00",
          "2021-01-06T00:00:00",
          "2021-01-07T00:00:00",
          "2021-01-08T00:00:00",
          "2021-01-09T00:00:00",
          "2021-01-10T00:00:00",
          "2021-01-11T00:00:00",
          "2021-01-12T00:00:00",
          "2021-01-13T00:00:00",
          "2021-01-14T00:00:00",
          "2021-01-15T00:00:00",
          "2021-01-16T00:00:00",
          "2021-01-17T00:00:00",
          "2021-01-18T00:00:00"
         ],
         "y": [
          1,
          2,
          3,
          5,
          6,
          8,
          9,
          11,
          13,
          21,
          29,
          44,
          53,
          65,
          87,
          107,
          134,
          167,
          200,
          230,
          283,
          339,
          388,
          443,
          511,
          582,
          655,
          739,
          835,
          932,
          1021,
          1136,
          1254,
          1400,
          1573,
          1745,
          1917,
          2098,
          2314,
          2548,
          2803,
          3026,
          3257,
          3561,
          3845,
          4169,
          4448,
          4731,
          5080,
          5416,
          5739,
          6050,
          6396,
          6732,
          7076,
          7441,
          7829,
          8228,
          8673,
          9129,
          9550,
          10038,
          10524,
          11011,
          11495,
          11979,
          12449,
          12908,
          13410,
          13939,
          14461,
          14958,
          15476,
          15956,
          16480,
          17028,
          17630,
          18175,
          18768,
          19344,
          19887,
          20478,
          21101,
          21768,
          22391,
          23030,
          23623,
          24274,
          24891,
          25534,
          26183,
          26898,
          27591,
          28213,
          28813,
          29348,
          29973,
          30589,
          31186,
          31774,
          32346,
          32981,
          33618,
          34243,
          34929,
          35593,
          36222,
          36862,
          37502,
          38169,
          38864,
          39631,
          40381,
          41063,
          41769,
          42447,
          43131,
          43826,
          44595,
          45330,
          46071,
          46822,
          47530,
          48205,
          48944,
          49677,
          50449,
          51118,
          51845,
          52519,
          53240,
          53973,
          54698,
          55406,
          56034,
          56734,
          57354,
          58026,
          58652,
          59339,
          60055,
          60712,
          61350,
          61942,
          62571,
          63179,
          63803,
          64430,
          64993,
          65558,
          66092,
          66620,
          67155,
          67728,
          68234,
          68785,
          69293,
          69805,
          70318,
          70799,
          71291,
          71790,
          72276,
          72741,
          73233,
          73705,
          74195,
          74702,
          75165,
          75621,
          76076,
          76514,
          76927,
          77350,
          77796,
          78198,
          78636,
          79024,
          79424,
          79848,
          80213,
          80633,
          81032,
          81413,
          81781,
          82110,
          82482,
          82873,
          83250,
          83643,
          84008,
          84375,
          84709,
          85059,
          85392,
          85729,
          86063,
          86384,
          86715,
          87032,
          87363,
          87676,
          88015,
          88335,
          88656,
          88967,
          89257,
          89602,
          89933,
          90319,
          90662,
          90998,
          91351,
          91683,
          92031,
          92394,
          92826,
          93201,
          93627,
          94039,
          94434,
          94820,
          95263,
          95696,
          96109,
          96529,
          96948,
          97369,
          97754,
          98148,
          98589,
          99012,
          99436,
          99887,
          100344,
          100751,
          101160,
          101601,
          102011,
          102442,
          102907,
          103320,
          103722,
          104134,
          104560,
          105010,
          105445,
          105853,
          106332,
          106799,
          107319,
          107790,
          108267,
          108729,
          109222,
          109756,
          110239,
          110734,
          111266,
          111832,
          112348,
          112867,
          113370,
          113914,
          114453,
          115024,
          115555,
          116116,
          116667,
          117238,
          117811,
          118406,
          118987,
          119584,
          120172,
          120769,
          121389,
          122018,
          122634,
          123319,
          123961,
          124594,
          125242,
          125862,
          126525,
          127229,
          127952,
          128682,
          129353,
          129982,
          130725,
          131440,
          132186,
          132957,
          133699,
          134496,
          135229,
          136024,
          136789,
          137563,
          138364,
          139122,
          139795,
          140392,
          140758,
          141048,
          141247,
          141248
         ]
        }
       ],
       "layout": {
        "template": {
         "data": {
          "bar": [
           {
            "error_x": {
             "color": "#2a3f5f"
            },
            "error_y": {
             "color": "#2a3f5f"
            },
            "marker": {
             "line": {
              "color": "white",
              "width": 0.5
             }
            },
            "type": "bar"
           }
          ],
          "barpolar": [
           {
            "marker": {
             "line": {
              "color": "white",
              "width": 0.5
             }
            },
            "type": "barpolar"
           }
          ],
          "carpet": [
           {
            "aaxis": {
             "endlinecolor": "#2a3f5f",
             "gridcolor": "#C8D4E3",
             "linecolor": "#C8D4E3",
             "minorgridcolor": "#C8D4E3",
             "startlinecolor": "#2a3f5f"
            },
            "baxis": {
             "endlinecolor": "#2a3f5f",
             "gridcolor": "#C8D4E3",
             "linecolor": "#C8D4E3",
             "minorgridcolor": "#C8D4E3",
             "startlinecolor": "#2a3f5f"
            },
            "type": "carpet"
           }
          ],
          "choropleth": [
           {
            "colorbar": {
             "outlinewidth": 0,
             "ticks": ""
            },
            "type": "choropleth"
           }
          ],
          "contour": [
           {
            "colorbar": {
             "outlinewidth": 0,
             "ticks": ""
            },
            "colorscale": [
             [
              0,
              "#0d0887"
             ],
             [
              0.1111111111111111,
              "#46039f"
             ],
             [
              0.2222222222222222,
              "#7201a8"
             ],
             [
              0.3333333333333333,
              "#9c179e"
             ],
             [
              0.4444444444444444,
              "#bd3786"
             ],
             [
              0.5555555555555556,
              "#d8576b"
             ],
             [
              0.6666666666666666,
              "#ed7953"
             ],
             [
              0.7777777777777778,
              "#fb9f3a"
             ],
             [
              0.8888888888888888,
              "#fdca26"
             ],
             [
              1,
              "#f0f921"
             ]
            ],
            "type": "contour"
           }
          ],
          "contourcarpet": [
           {
            "colorbar": {
             "outlinewidth": 0,
             "ticks": ""
            },
            "type": "contourcarpet"
           }
          ],
          "heatmap": [
           {
            "colorbar": {
             "outlinewidth": 0,
             "ticks": ""
            },
            "colorscale": [
             [
              0,
              "#0d0887"
             ],
             [
              0.1111111111111111,
              "#46039f"
             ],
             [
              0.2222222222222222,
              "#7201a8"
             ],
             [
              0.3333333333333333,
              "#9c179e"
             ],
             [
              0.4444444444444444,
              "#bd3786"
             ],
             [
              0.5555555555555556,
              "#d8576b"
             ],
             [
              0.6666666666666666,
              "#ed7953"
             ],
             [
              0.7777777777777778,
              "#fb9f3a"
             ],
             [
              0.8888888888888888,
              "#fdca26"
             ],
             [
              1,
              "#f0f921"
             ]
            ],
            "type": "heatmap"
           }
          ],
          "heatmapgl": [
           {
            "colorbar": {
             "outlinewidth": 0,
             "ticks": ""
            },
            "colorscale": [
             [
              0,
              "#0d0887"
             ],
             [
              0.1111111111111111,
              "#46039f"
             ],
             [
              0.2222222222222222,
              "#7201a8"
             ],
             [
              0.3333333333333333,
              "#9c179e"
             ],
             [
              0.4444444444444444,
              "#bd3786"
             ],
             [
              0.5555555555555556,
              "#d8576b"
             ],
             [
              0.6666666666666666,
              "#ed7953"
             ],
             [
              0.7777777777777778,
              "#fb9f3a"
             ],
             [
              0.8888888888888888,
              "#fdca26"
             ],
             [
              1,
              "#f0f921"
             ]
            ],
            "type": "heatmapgl"
           }
          ],
          "histogram": [
           {
            "marker": {
             "colorbar": {
              "outlinewidth": 0,
              "ticks": ""
             }
            },
            "type": "histogram"
           }
          ],
          "histogram2d": [
           {
            "colorbar": {
             "outlinewidth": 0,
             "ticks": ""
            },
            "colorscale": [
             [
              0,
              "#0d0887"
             ],
             [
              0.1111111111111111,
              "#46039f"
             ],
             [
              0.2222222222222222,
              "#7201a8"
             ],
             [
              0.3333333333333333,
              "#9c179e"
             ],
             [
              0.4444444444444444,
              "#bd3786"
             ],
             [
              0.5555555555555556,
              "#d8576b"
             ],
             [
              0.6666666666666666,
              "#ed7953"
             ],
             [
              0.7777777777777778,
              "#fb9f3a"
             ],
             [
              0.8888888888888888,
              "#fdca26"
             ],
             [
              1,
              "#f0f921"
             ]
            ],
            "type": "histogram2d"
           }
          ],
          "histogram2dcontour": [
           {
            "colorbar": {
             "outlinewidth": 0,
             "ticks": ""
            },
            "colorscale": [
             [
              0,
              "#0d0887"
             ],
             [
              0.1111111111111111,
              "#46039f"
             ],
             [
              0.2222222222222222,
              "#7201a8"
             ],
             [
              0.3333333333333333,
              "#9c179e"
             ],
             [
              0.4444444444444444,
              "#bd3786"
             ],
             [
              0.5555555555555556,
              "#d8576b"
             ],
             [
              0.6666666666666666,
              "#ed7953"
             ],
             [
              0.7777777777777778,
              "#fb9f3a"
             ],
             [
              0.8888888888888888,
              "#fdca26"
             ],
             [
              1,
              "#f0f921"
             ]
            ],
            "type": "histogram2dcontour"
           }
          ],
          "mesh3d": [
           {
            "colorbar": {
             "outlinewidth": 0,
             "ticks": ""
            },
            "type": "mesh3d"
           }
          ],
          "parcoords": [
           {
            "line": {
             "colorbar": {
              "outlinewidth": 0,
              "ticks": ""
             }
            },
            "type": "parcoords"
           }
          ],
          "pie": [
           {
            "automargin": true,
            "type": "pie"
           }
          ],
          "scatter": [
           {
            "marker": {
             "colorbar": {
              "outlinewidth": 0,
              "ticks": ""
             }
            },
            "type": "scatter"
           }
          ],
          "scatter3d": [
           {
            "line": {
             "colorbar": {
              "outlinewidth": 0,
              "ticks": ""
             }
            },
            "marker": {
             "colorbar": {
              "outlinewidth": 0,
              "ticks": ""
             }
            },
            "type": "scatter3d"
           }
          ],
          "scattercarpet": [
           {
            "marker": {
             "colorbar": {
              "outlinewidth": 0,
              "ticks": ""
             }
            },
            "type": "scattercarpet"
           }
          ],
          "scattergeo": [
           {
            "marker": {
             "colorbar": {
              "outlinewidth": 0,
              "ticks": ""
             }
            },
            "type": "scattergeo"
           }
          ],
          "scattergl": [
           {
            "marker": {
             "colorbar": {
              "outlinewidth": 0,
              "ticks": ""
             }
            },
            "type": "scattergl"
           }
          ],
          "scattermapbox": [
           {
            "marker": {
             "colorbar": {
              "outlinewidth": 0,
              "ticks": ""
             }
            },
            "type": "scattermapbox"
           }
          ],
          "scatterpolar": [
           {
            "marker": {
             "colorbar": {
              "outlinewidth": 0,
              "ticks": ""
             }
            },
            "type": "scatterpolar"
           }
          ],
          "scatterpolargl": [
           {
            "marker": {
             "colorbar": {
              "outlinewidth": 0,
              "ticks": ""
             }
            },
            "type": "scatterpolargl"
           }
          ],
          "scatterternary": [
           {
            "marker": {
             "colorbar": {
              "outlinewidth": 0,
              "ticks": ""
             }
            },
            "type": "scatterternary"
           }
          ],
          "surface": [
           {
            "colorbar": {
             "outlinewidth": 0,
             "ticks": ""
            },
            "colorscale": [
             [
              0,
              "#0d0887"
             ],
             [
              0.1111111111111111,
              "#46039f"
             ],
             [
              0.2222222222222222,
              "#7201a8"
             ],
             [
              0.3333333333333333,
              "#9c179e"
             ],
             [
              0.4444444444444444,
              "#bd3786"
             ],
             [
              0.5555555555555556,
              "#d8576b"
             ],
             [
              0.6666666666666666,
              "#ed7953"
             ],
             [
              0.7777777777777778,
              "#fb9f3a"
             ],
             [
              0.8888888888888888,
              "#fdca26"
             ],
             [
              1,
              "#f0f921"
             ]
            ],
            "type": "surface"
           }
          ],
          "table": [
           {
            "cells": {
             "fill": {
              "color": "#EBF0F8"
             },
             "line": {
              "color": "white"
             }
            },
            "header": {
             "fill": {
              "color": "#C8D4E3"
             },
             "line": {
              "color": "white"
             }
            },
            "type": "table"
           }
          ]
         },
         "layout": {
          "annotationdefaults": {
           "arrowcolor": "#2a3f5f",
           "arrowhead": 0,
           "arrowwidth": 1
          },
          "coloraxis": {
           "colorbar": {
            "outlinewidth": 0,
            "ticks": ""
           }
          },
          "colorscale": {
           "diverging": [
            [
             0,
             "#8e0152"
            ],
            [
             0.1,
             "#c51b7d"
            ],
            [
             0.2,
             "#de77ae"
            ],
            [
             0.3,
             "#f1b6da"
            ],
            [
             0.4,
             "#fde0ef"
            ],
            [
             0.5,
             "#f7f7f7"
            ],
            [
             0.6,
             "#e6f5d0"
            ],
            [
             0.7,
             "#b8e186"
            ],
            [
             0.8,
             "#7fbc41"
            ],
            [
             0.9,
             "#4d9221"
            ],
            [
             1,
             "#276419"
            ]
           ],
           "sequential": [
            [
             0,
             "#0d0887"
            ],
            [
             0.1111111111111111,
             "#46039f"
            ],
            [
             0.2222222222222222,
             "#7201a8"
            ],
            [
             0.3333333333333333,
             "#9c179e"
            ],
            [
             0.4444444444444444,
             "#bd3786"
            ],
            [
             0.5555555555555556,
             "#d8576b"
            ],
            [
             0.6666666666666666,
             "#ed7953"
            ],
            [
             0.7777777777777778,
             "#fb9f3a"
            ],
            [
             0.8888888888888888,
             "#fdca26"
            ],
            [
             1,
             "#f0f921"
            ]
           ],
           "sequentialminus": [
            [
             0,
             "#0d0887"
            ],
            [
             0.1111111111111111,
             "#46039f"
            ],
            [
             0.2222222222222222,
             "#7201a8"
            ],
            [
             0.3333333333333333,
             "#9c179e"
            ],
            [
             0.4444444444444444,
             "#bd3786"
            ],
            [
             0.5555555555555556,
             "#d8576b"
            ],
            [
             0.6666666666666666,
             "#ed7953"
            ],
            [
             0.7777777777777778,
             "#fb9f3a"
            ],
            [
             0.8888888888888888,
             "#fdca26"
            ],
            [
             1,
             "#f0f921"
            ]
           ]
          },
          "colorway": [
           "#636efa",
           "#EF553B",
           "#00cc96",
           "#ab63fa",
           "#FFA15A",
           "#19d3f3",
           "#FF6692",
           "#B6E880",
           "#FF97FF",
           "#FECB52"
          ],
          "font": {
           "color": "#2a3f5f"
          },
          "geo": {
           "bgcolor": "white",
           "lakecolor": "white",
           "landcolor": "white",
           "showlakes": true,
           "showland": true,
           "subunitcolor": "#C8D4E3"
          },
          "hoverlabel": {
           "align": "left"
          },
          "hovermode": "closest",
          "mapbox": {
           "style": "light"
          },
          "paper_bgcolor": "white",
          "plot_bgcolor": "white",
          "polar": {
           "angularaxis": {
            "gridcolor": "#EBF0F8",
            "linecolor": "#EBF0F8",
            "ticks": ""
           },
           "bgcolor": "white",
           "radialaxis": {
            "gridcolor": "#EBF0F8",
            "linecolor": "#EBF0F8",
            "ticks": ""
           }
          },
          "scene": {
           "xaxis": {
            "backgroundcolor": "white",
            "gridcolor": "#DFE8F3",
            "gridwidth": 2,
            "linecolor": "#EBF0F8",
            "showbackground": true,
            "ticks": "",
            "zerolinecolor": "#EBF0F8"
           },
           "yaxis": {
            "backgroundcolor": "white",
            "gridcolor": "#DFE8F3",
            "gridwidth": 2,
            "linecolor": "#EBF0F8",
            "showbackground": true,
            "ticks": "",
            "zerolinecolor": "#EBF0F8"
           },
           "zaxis": {
            "backgroundcolor": "white",
            "gridcolor": "#DFE8F3",
            "gridwidth": 2,
            "linecolor": "#EBF0F8",
            "showbackground": true,
            "ticks": "",
            "zerolinecolor": "#EBF0F8"
           }
          },
          "shapedefaults": {
           "line": {
            "color": "#2a3f5f"
           }
          },
          "ternary": {
           "aaxis": {
            "gridcolor": "#DFE8F3",
            "linecolor": "#A2B1C6",
            "ticks": ""
           },
           "baxis": {
            "gridcolor": "#DFE8F3",
            "linecolor": "#A2B1C6",
            "ticks": ""
           },
           "bgcolor": "white",
           "caxis": {
            "gridcolor": "#DFE8F3",
            "linecolor": "#A2B1C6",
            "ticks": ""
           }
          },
          "title": {
           "x": 0.05
          },
          "xaxis": {
           "automargin": true,
           "gridcolor": "#EBF0F8",
           "linecolor": "#EBF0F8",
           "ticks": "",
           "title": {
            "standoff": 15
           },
           "zerolinecolor": "#EBF0F8",
           "zerolinewidth": 2
          },
          "yaxis": {
           "automargin": true,
           "gridcolor": "#EBF0F8",
           "linecolor": "#EBF0F8",
           "ticks": "",
           "title": {
            "standoff": 15
           },
           "zerolinecolor": "#EBF0F8",
           "zerolinewidth": 2
          }
         }
        },
        "title": {
         "text": "Casos acumulados en México"
        },
        "xaxis": {
         "title": {
          "text": "Fecha de registro"
         }
        },
        "yaxis": {
         "title": {
          "text": "Número de casos acumulados"
         }
        }
       }
      }
     },
     "metadata": {}
    }
   ],
   "source": [
    "# Ploting the commulative confirmed and deaths cases ...\n",
    "\n",
    "def acum_plot(x_conf_data, y_conf_data, x_def_data, y_def_data, region ):\n",
    "    fig_acum = go.Figure()\n",
    "\n",
    "    fig_acum.add_trace(go.Scatter(x = x_conf_data, y = y_conf_data,\n",
    "                    mode = \"lines\" , line = dict(color = \"#ff1744\", width = 2.5), name = \"Casos confirmados\" ))\n",
    "\n",
    "    fig_acum.add_trace(go.Scatter(x = x_def_data, y = y_def_data,\n",
    "                    mode = \"lines\", line = dict(color = \"black\", width = 2.5), name = \"Defunciones \"))\n",
    "\n",
    "    fig_acum.update_xaxes(title = \"Fecha de registro\")\n",
    "    fig_acum.update_yaxes(title = \"Número de casos acumulados\")\n",
    "    fig_acum.update_layout(title = \"Casos acumulados en \" + region )\n",
    "    fig_acum.show()\n",
    "\n",
    "\n",
    "# fig_acum = go.Figure()\n",
    "\n",
    "# fig_acum.add_trace(go.Scatter(x = confirmados_por_fecha[\"fecha_ingreso\"], y = confirmados_por_fecha[\"casos_acumulados\"],\n",
    "#                     mode = \"lines\" , line = dict(color = \"#ff1744\", width = 2.5), name = \"Casos confirmados\" ))\n",
    "\n",
    "# fig_acum.add_trace(go.Scatter(x = defunciones_por_fecha[\"fecha_defuncion\"], y = defunciones_por_fecha[\"defunciones_acumuladas\"],\n",
    "#                     mode = \"lines\", line = dict(color = \"black\", width = 2.5), name = \"Defunciones \"))\n",
    "\n",
    "\n",
    "\n",
    "# fig_acum.update_xaxes(title = \"Fecha de registro\")\n",
    "# fig_acum.update_yaxes(title = \"Número de casos acumulados\")\n",
    "# fig_acum.update_layout(title = \"Casos acumulados en México\")\n",
    "# fig_acum.show()\n",
    "\n",
    "acum_plot(confirmados_por_fecha[\"fecha_ingreso\"],confirmados_por_fecha[\"casos_acumulados\"],\n",
    "            defunciones_por_fecha[\"fecha_defuncion\"], defunciones_por_fecha[\"defunciones_acumuladas\"], region = \"México\" )\n"
   ]
  },
  {
   "cell_type": "code",
   "execution_count": 37,
   "metadata": {},
   "outputs": [
    {
     "output_type": "display_data",
     "data": {
      "application/vnd.plotly.v1+json": {
       "config": {
        "plotlyServerURL": "https://plot.ly"
       },
       "data": [
        {
         "line": {
          "color": "#b4004e"
         },
         "mode": "lines",
         "name": "Casos confirmados",
         "type": "scatter",
         "x": [
          "2020-01-13T00:00:00",
          "2020-01-28T00:00:00",
          "2020-01-29T00:00:00",
          "2020-02-10T00:00:00",
          "2020-02-19T00:00:00",
          "2020-02-20T00:00:00",
          "2020-02-24T00:00:00",
          "2020-02-27T00:00:00",
          "2020-02-28T00:00:00",
          "2020-02-29T00:00:00",
          "2020-03-02T00:00:00",
          "2020-03-03T00:00:00",
          "2020-03-04T00:00:00",
          "2020-03-05T00:00:00",
          "2020-03-07T00:00:00",
          "2020-03-08T00:00:00",
          "2020-03-09T00:00:00",
          "2020-03-10T00:00:00",
          "2020-03-11T00:00:00",
          "2020-03-12T00:00:00",
          "2020-03-13T00:00:00",
          "2020-03-14T00:00:00",
          "2020-03-15T00:00:00",
          "2020-03-16T00:00:00",
          "2020-03-17T00:00:00",
          "2020-03-18T00:00:00",
          "2020-03-19T00:00:00",
          "2020-03-20T00:00:00",
          "2020-03-21T00:00:00",
          "2020-03-22T00:00:00",
          "2020-03-23T00:00:00",
          "2020-03-24T00:00:00",
          "2020-03-25T00:00:00",
          "2020-03-26T00:00:00",
          "2020-03-27T00:00:00",
          "2020-03-28T00:00:00",
          "2020-03-29T00:00:00",
          "2020-03-30T00:00:00",
          "2020-03-31T00:00:00",
          "2020-04-01T00:00:00",
          "2020-04-02T00:00:00",
          "2020-04-03T00:00:00",
          "2020-04-04T00:00:00",
          "2020-04-05T00:00:00",
          "2020-04-06T00:00:00",
          "2020-04-07T00:00:00",
          "2020-04-08T00:00:00",
          "2020-04-09T00:00:00",
          "2020-04-10T00:00:00",
          "2020-04-11T00:00:00",
          "2020-04-12T00:00:00",
          "2020-04-13T00:00:00",
          "2020-04-14T00:00:00",
          "2020-04-15T00:00:00",
          "2020-04-16T00:00:00",
          "2020-04-17T00:00:00",
          "2020-04-18T00:00:00",
          "2020-04-19T00:00:00",
          "2020-04-20T00:00:00",
          "2020-04-21T00:00:00",
          "2020-04-22T00:00:00",
          "2020-04-23T00:00:00",
          "2020-04-24T00:00:00",
          "2020-04-25T00:00:00",
          "2020-04-26T00:00:00",
          "2020-04-27T00:00:00",
          "2020-04-28T00:00:00",
          "2020-04-29T00:00:00",
          "2020-04-30T00:00:00",
          "2020-05-01T00:00:00",
          "2020-05-02T00:00:00",
          "2020-05-03T00:00:00",
          "2020-05-04T00:00:00",
          "2020-05-05T00:00:00",
          "2020-05-06T00:00:00",
          "2020-05-07T00:00:00",
          "2020-05-08T00:00:00",
          "2020-05-09T00:00:00",
          "2020-05-10T00:00:00",
          "2020-05-11T00:00:00",
          "2020-05-12T00:00:00",
          "2020-05-13T00:00:00",
          "2020-05-14T00:00:00",
          "2020-05-15T00:00:00",
          "2020-05-16T00:00:00",
          "2020-05-17T00:00:00",
          "2020-05-18T00:00:00",
          "2020-05-19T00:00:00",
          "2020-05-20T00:00:00",
          "2020-05-21T00:00:00",
          "2020-05-22T00:00:00",
          "2020-05-23T00:00:00",
          "2020-05-24T00:00:00",
          "2020-05-25T00:00:00",
          "2020-05-26T00:00:00",
          "2020-05-27T00:00:00",
          "2020-05-28T00:00:00",
          "2020-05-29T00:00:00",
          "2020-05-30T00:00:00",
          "2020-05-31T00:00:00",
          "2020-06-01T00:00:00",
          "2020-06-02T00:00:00",
          "2020-06-03T00:00:00",
          "2020-06-04T00:00:00",
          "2020-06-05T00:00:00",
          "2020-06-06T00:00:00",
          "2020-06-07T00:00:00",
          "2020-06-08T00:00:00",
          "2020-06-09T00:00:00",
          "2020-06-10T00:00:00",
          "2020-06-11T00:00:00",
          "2020-06-12T00:00:00",
          "2020-06-13T00:00:00",
          "2020-06-14T00:00:00",
          "2020-06-15T00:00:00",
          "2020-06-16T00:00:00",
          "2020-06-17T00:00:00",
          "2020-06-18T00:00:00",
          "2020-06-19T00:00:00",
          "2020-06-20T00:00:00",
          "2020-06-21T00:00:00",
          "2020-06-22T00:00:00",
          "2020-06-23T00:00:00",
          "2020-06-24T00:00:00",
          "2020-06-25T00:00:00",
          "2020-06-26T00:00:00",
          "2020-06-27T00:00:00",
          "2020-06-28T00:00:00",
          "2020-06-29T00:00:00",
          "2020-06-30T00:00:00",
          "2020-07-01T00:00:00",
          "2020-07-02T00:00:00",
          "2020-07-03T00:00:00",
          "2020-07-04T00:00:00",
          "2020-07-05T00:00:00",
          "2020-07-06T00:00:00",
          "2020-07-07T00:00:00",
          "2020-07-08T00:00:00",
          "2020-07-09T00:00:00",
          "2020-07-10T00:00:00",
          "2020-07-11T00:00:00",
          "2020-07-12T00:00:00",
          "2020-07-13T00:00:00",
          "2020-07-14T00:00:00",
          "2020-07-15T00:00:00",
          "2020-07-16T00:00:00",
          "2020-07-17T00:00:00",
          "2020-07-18T00:00:00",
          "2020-07-19T00:00:00",
          "2020-07-20T00:00:00",
          "2020-07-21T00:00:00",
          "2020-07-22T00:00:00",
          "2020-07-23T00:00:00",
          "2020-07-24T00:00:00",
          "2020-07-25T00:00:00",
          "2020-07-26T00:00:00",
          "2020-07-27T00:00:00",
          "2020-07-28T00:00:00",
          "2020-07-29T00:00:00",
          "2020-07-30T00:00:00",
          "2020-07-31T00:00:00",
          "2020-08-01T00:00:00",
          "2020-08-02T00:00:00",
          "2020-08-03T00:00:00",
          "2020-08-04T00:00:00",
          "2020-08-05T00:00:00",
          "2020-08-06T00:00:00",
          "2020-08-07T00:00:00",
          "2020-08-08T00:00:00",
          "2020-08-09T00:00:00",
          "2020-08-10T00:00:00",
          "2020-08-11T00:00:00",
          "2020-08-12T00:00:00",
          "2020-08-13T00:00:00",
          "2020-08-14T00:00:00",
          "2020-08-15T00:00:00",
          "2020-08-16T00:00:00",
          "2020-08-17T00:00:00",
          "2020-08-18T00:00:00",
          "2020-08-19T00:00:00",
          "2020-08-20T00:00:00",
          "2020-08-21T00:00:00",
          "2020-08-22T00:00:00",
          "2020-08-23T00:00:00",
          "2020-08-24T00:00:00",
          "2020-08-25T00:00:00",
          "2020-08-26T00:00:00",
          "2020-08-27T00:00:00",
          "2020-08-28T00:00:00",
          "2020-08-29T00:00:00",
          "2020-08-30T00:00:00",
          "2020-08-31T00:00:00",
          "2020-09-01T00:00:00",
          "2020-09-02T00:00:00",
          "2020-09-03T00:00:00",
          "2020-09-04T00:00:00",
          "2020-09-05T00:00:00",
          "2020-09-06T00:00:00",
          "2020-09-07T00:00:00",
          "2020-09-08T00:00:00",
          "2020-09-09T00:00:00",
          "2020-09-10T00:00:00",
          "2020-09-11T00:00:00",
          "2020-09-12T00:00:00",
          "2020-09-13T00:00:00",
          "2020-09-14T00:00:00",
          "2020-09-15T00:00:00",
          "2020-09-16T00:00:00",
          "2020-09-17T00:00:00",
          "2020-09-18T00:00:00",
          "2020-09-19T00:00:00",
          "2020-09-20T00:00:00",
          "2020-09-21T00:00:00",
          "2020-09-22T00:00:00",
          "2020-09-23T00:00:00",
          "2020-09-24T00:00:00",
          "2020-09-25T00:00:00",
          "2020-09-26T00:00:00",
          "2020-09-27T00:00:00",
          "2020-09-28T00:00:00",
          "2020-09-29T00:00:00",
          "2020-09-30T00:00:00",
          "2020-10-01T00:00:00",
          "2020-10-02T00:00:00",
          "2020-10-03T00:00:00",
          "2020-10-04T00:00:00",
          "2020-10-05T00:00:00",
          "2020-10-06T00:00:00",
          "2020-10-07T00:00:00",
          "2020-10-08T00:00:00",
          "2020-10-09T00:00:00",
          "2020-10-10T00:00:00",
          "2020-10-11T00:00:00",
          "2020-10-12T00:00:00",
          "2020-10-13T00:00:00",
          "2020-10-14T00:00:00",
          "2020-10-15T00:00:00",
          "2020-10-16T00:00:00",
          "2020-10-17T00:00:00",
          "2020-10-18T00:00:00",
          "2020-10-19T00:00:00",
          "2020-10-20T00:00:00",
          "2020-10-21T00:00:00",
          "2020-10-22T00:00:00",
          "2020-10-23T00:00:00",
          "2020-10-24T00:00:00",
          "2020-10-25T00:00:00",
          "2020-10-26T00:00:00",
          "2020-10-27T00:00:00",
          "2020-10-28T00:00:00",
          "2020-10-29T00:00:00",
          "2020-10-30T00:00:00",
          "2020-10-31T00:00:00",
          "2020-11-01T00:00:00",
          "2020-11-02T00:00:00",
          "2020-11-03T00:00:00",
          "2020-11-04T00:00:00",
          "2020-11-05T00:00:00",
          "2020-11-06T00:00:00",
          "2020-11-07T00:00:00",
          "2020-11-08T00:00:00",
          "2020-11-09T00:00:00",
          "2020-11-10T00:00:00",
          "2020-11-11T00:00:00",
          "2020-11-12T00:00:00",
          "2020-11-13T00:00:00",
          "2020-11-14T00:00:00",
          "2020-11-15T00:00:00",
          "2020-11-16T00:00:00",
          "2020-11-17T00:00:00",
          "2020-11-18T00:00:00",
          "2020-11-19T00:00:00",
          "2020-11-20T00:00:00",
          "2020-11-21T00:00:00",
          "2020-11-22T00:00:00",
          "2020-11-23T00:00:00",
          "2020-11-24T00:00:00",
          "2020-11-25T00:00:00",
          "2020-11-26T00:00:00",
          "2020-11-27T00:00:00",
          "2020-11-28T00:00:00",
          "2020-11-29T00:00:00",
          "2020-11-30T00:00:00",
          "2020-12-01T00:00:00",
          "2020-12-02T00:00:00",
          "2020-12-03T00:00:00",
          "2020-12-04T00:00:00",
          "2020-12-05T00:00:00",
          "2020-12-06T00:00:00",
          "2020-12-07T00:00:00",
          "2020-12-08T00:00:00",
          "2020-12-09T00:00:00",
          "2020-12-10T00:00:00",
          "2020-12-11T00:00:00",
          "2020-12-12T00:00:00",
          "2020-12-13T00:00:00",
          "2020-12-14T00:00:00",
          "2020-12-15T00:00:00",
          "2020-12-16T00:00:00",
          "2020-12-17T00:00:00",
          "2020-12-18T00:00:00",
          "2020-12-19T00:00:00",
          "2020-12-20T00:00:00",
          "2020-12-21T00:00:00",
          "2020-12-22T00:00:00",
          "2020-12-23T00:00:00",
          "2020-12-24T00:00:00",
          "2020-12-25T00:00:00",
          "2020-12-26T00:00:00",
          "2020-12-27T00:00:00",
          "2020-12-28T00:00:00",
          "2020-12-29T00:00:00",
          "2020-12-30T00:00:00",
          "2020-12-31T00:00:00",
          "2021-01-01T00:00:00",
          "2021-01-02T00:00:00",
          "2021-01-03T00:00:00",
          "2021-01-04T00:00:00",
          "2021-01-05T00:00:00",
          "2021-01-06T00:00:00",
          "2021-01-07T00:00:00",
          "2021-01-08T00:00:00",
          "2021-01-09T00:00:00",
          "2021-01-10T00:00:00",
          "2021-01-11T00:00:00",
          "2021-01-12T00:00:00",
          "2021-01-13T00:00:00",
          "2021-01-14T00:00:00",
          "2021-01-15T00:00:00",
          "2021-01-16T00:00:00",
          "2021-01-17T00:00:00",
          "2021-01-18T00:00:00"
         ],
         "y": [
          1,
          1,
          1,
          1,
          1,
          1,
          1,
          5,
          3,
          1,
          2,
          4,
          5,
          3,
          1,
          4,
          2,
          10,
          30,
          29,
          60,
          50,
          36,
          70,
          96,
          105,
          149,
          129,
          81,
          65,
          156,
          219,
          174,
          209,
          249,
          181,
          153,
          329,
          295,
          354,
          329,
          370,
          233,
          243,
          596,
          493,
          546,
          440,
          528,
          440,
          446,
          900,
          884,
          928,
          948,
          1087,
          763,
          722,
          1438,
          1392,
          1326,
          1419,
          1636,
          1058,
          1013,
          1822,
          1829,
          1789,
          1801,
          1419,
          1366,
          1256,
          2521,
          2110,
          2282,
          2410,
          2425,
          1528,
          1423,
          2967,
          2937,
          3118,
          3078,
          3480,
          2173,
          1639,
          4032,
          3575,
          3907,
          4008,
          3996,
          2282,
          1878,
          4628,
          4338,
          4465,
          4224,
          4373,
          2735,
          2082,
          5292,
          4755,
          4950,
          4908,
          5052,
          3021,
          2346,
          6157,
          5768,
          5735,
          5396,
          5632,
          3075,
          2592,
          6567,
          6418,
          6149,
          6099,
          6115,
          3569,
          2467,
          6895,
          6622,
          6305,
          6297,
          6546,
          3670,
          2950,
          7523,
          7212,
          7616,
          7063,
          7084,
          3657,
          2987,
          7843,
          7895,
          7449,
          7136,
          7197,
          3864,
          3241,
          8841,
          8477,
          8809,
          8238,
          7974,
          4389,
          3431,
          9110,
          8648,
          8316,
          8078,
          8010,
          4162,
          3001,
          8480,
          8177,
          7687,
          7581,
          6705,
          3791,
          2516,
          7486,
          7385,
          7176,
          6691,
          6621,
          3673,
          2392,
          7200,
          6890,
          6443,
          6408,
          6197,
          3229,
          2311,
          6877,
          6680,
          6269,
          5993,
          6293,
          3123,
          2305,
          7013,
          6611,
          7032,
          6437,
          6326,
          3113,
          2177,
          6949,
          7088,
          6911,
          6280,
          6045,
          2851,
          2069,
          6350,
          6595,
          6024,
          5692,
          5474,
          2758,
          1858,
          6211,
          4278,
          2165,
          6324,
          5672,
          2760,
          1772,
          6252,
          6102,
          5698,
          5326,
          5272,
          2621,
          1759,
          6179,
          5976,
          5503,
          5249,
          4974,
          2391,
          1694,
          5772,
          5927,
          5663,
          5474,
          5684,
          2974,
          2130,
          6702,
          7025,
          6440,
          6401,
          6542,
          3228,
          2221,
          8099,
          8291,
          7314,
          7172,
          7164,
          3401,
          2380,
          8207,
          7904,
          7079,
          6767,
          6229,
          2896,
          2048,
          5016,
          7967,
          7416,
          7329,
          6901,
          3387,
          2457,
          8355,
          8339,
          8201,
          8017,
          7441,
          3755,
          2509,
          3044,
          9369,
          8598,
          8145,
          8227,
          4112,
          2647,
          10055,
          10161,
          9370,
          9476,
          9343,
          4706,
          2883,
          10648,
          11184,
          11190,
          10838,
          10569,
          5642,
          3009,
          12530,
          12587,
          11978,
          12036,
          11954,
          6325,
          3160,
          13561,
          13445,
          12552,
          12197,
          11780,
          6255,
          3533,
          13615,
          13099,
          11649,
          9623,
          2401,
          5391,
          4002,
          14501,
          14467,
          13467,
          10984,
          2894,
          5943,
          4494,
          14869,
          16325,
          15200,
          14484,
          13596,
          7472,
          4093,
          14668,
          13367,
          12112,
          13260,
          10362,
          4049,
          1371,
          62
         ]
        },
        {
         "line": {
          "color": "black"
         },
         "mode": "lines",
         "name": "Defunciones",
         "type": "scatter",
         "x": [
          "2020-03-03T00:00:00",
          "2020-03-13T00:00:00",
          "2020-03-17T00:00:00",
          "2020-03-18T00:00:00",
          "2020-03-20T00:00:00",
          "2020-03-22T00:00:00",
          "2020-03-23T00:00:00",
          "2020-03-24T00:00:00",
          "2020-03-25T00:00:00",
          "2020-03-26T00:00:00",
          "2020-03-27T00:00:00",
          "2020-03-28T00:00:00",
          "2020-03-29T00:00:00",
          "2020-03-30T00:00:00",
          "2020-03-31T00:00:00",
          "2020-04-01T00:00:00",
          "2020-04-02T00:00:00",
          "2020-04-03T00:00:00",
          "2020-04-04T00:00:00",
          "2020-04-05T00:00:00",
          "2020-04-06T00:00:00",
          "2020-04-07T00:00:00",
          "2020-04-08T00:00:00",
          "2020-04-09T00:00:00",
          "2020-04-10T00:00:00",
          "2020-04-11T00:00:00",
          "2020-04-12T00:00:00",
          "2020-04-13T00:00:00",
          "2020-04-14T00:00:00",
          "2020-04-15T00:00:00",
          "2020-04-16T00:00:00",
          "2020-04-17T00:00:00",
          "2020-04-18T00:00:00",
          "2020-04-19T00:00:00",
          "2020-04-20T00:00:00",
          "2020-04-21T00:00:00",
          "2020-04-22T00:00:00",
          "2020-04-23T00:00:00",
          "2020-04-24T00:00:00",
          "2020-04-25T00:00:00",
          "2020-04-26T00:00:00",
          "2020-04-27T00:00:00",
          "2020-04-28T00:00:00",
          "2020-04-29T00:00:00",
          "2020-04-30T00:00:00",
          "2020-05-01T00:00:00",
          "2020-05-02T00:00:00",
          "2020-05-03T00:00:00",
          "2020-05-04T00:00:00",
          "2020-05-05T00:00:00",
          "2020-05-06T00:00:00",
          "2020-05-07T00:00:00",
          "2020-05-08T00:00:00",
          "2020-05-09T00:00:00",
          "2020-05-10T00:00:00",
          "2020-05-11T00:00:00",
          "2020-05-12T00:00:00",
          "2020-05-13T00:00:00",
          "2020-05-14T00:00:00",
          "2020-05-15T00:00:00",
          "2020-05-16T00:00:00",
          "2020-05-17T00:00:00",
          "2020-05-18T00:00:00",
          "2020-05-19T00:00:00",
          "2020-05-20T00:00:00",
          "2020-05-21T00:00:00",
          "2020-05-22T00:00:00",
          "2020-05-23T00:00:00",
          "2020-05-24T00:00:00",
          "2020-05-25T00:00:00",
          "2020-05-26T00:00:00",
          "2020-05-27T00:00:00",
          "2020-05-28T00:00:00",
          "2020-05-29T00:00:00",
          "2020-05-30T00:00:00",
          "2020-05-31T00:00:00",
          "2020-06-01T00:00:00",
          "2020-06-02T00:00:00",
          "2020-06-03T00:00:00",
          "2020-06-04T00:00:00",
          "2020-06-05T00:00:00",
          "2020-06-06T00:00:00",
          "2020-06-07T00:00:00",
          "2020-06-08T00:00:00",
          "2020-06-09T00:00:00",
          "2020-06-10T00:00:00",
          "2020-06-11T00:00:00",
          "2020-06-12T00:00:00",
          "2020-06-13T00:00:00",
          "2020-06-14T00:00:00",
          "2020-06-15T00:00:00",
          "2020-06-16T00:00:00",
          "2020-06-17T00:00:00",
          "2020-06-18T00:00:00",
          "2020-06-19T00:00:00",
          "2020-06-20T00:00:00",
          "2020-06-21T00:00:00",
          "2020-06-22T00:00:00",
          "2020-06-23T00:00:00",
          "2020-06-24T00:00:00",
          "2020-06-25T00:00:00",
          "2020-06-26T00:00:00",
          "2020-06-27T00:00:00",
          "2020-06-28T00:00:00",
          "2020-06-29T00:00:00",
          "2020-06-30T00:00:00",
          "2020-07-01T00:00:00",
          "2020-07-02T00:00:00",
          "2020-07-03T00:00:00",
          "2020-07-04T00:00:00",
          "2020-07-05T00:00:00",
          "2020-07-06T00:00:00",
          "2020-07-07T00:00:00",
          "2020-07-08T00:00:00",
          "2020-07-09T00:00:00",
          "2020-07-10T00:00:00",
          "2020-07-11T00:00:00",
          "2020-07-12T00:00:00",
          "2020-07-13T00:00:00",
          "2020-07-14T00:00:00",
          "2020-07-15T00:00:00",
          "2020-07-16T00:00:00",
          "2020-07-17T00:00:00",
          "2020-07-18T00:00:00",
          "2020-07-19T00:00:00",
          "2020-07-20T00:00:00",
          "2020-07-21T00:00:00",
          "2020-07-22T00:00:00",
          "2020-07-23T00:00:00",
          "2020-07-24T00:00:00",
          "2020-07-25T00:00:00",
          "2020-07-26T00:00:00",
          "2020-07-27T00:00:00",
          "2020-07-28T00:00:00",
          "2020-07-29T00:00:00",
          "2020-07-30T00:00:00",
          "2020-07-31T00:00:00",
          "2020-08-01T00:00:00",
          "2020-08-02T00:00:00",
          "2020-08-03T00:00:00",
          "2020-08-04T00:00:00",
          "2020-08-05T00:00:00",
          "2020-08-06T00:00:00",
          "2020-08-07T00:00:00",
          "2020-08-08T00:00:00",
          "2020-08-09T00:00:00",
          "2020-08-10T00:00:00",
          "2020-08-11T00:00:00",
          "2020-08-12T00:00:00",
          "2020-08-13T00:00:00",
          "2020-08-14T00:00:00",
          "2020-08-15T00:00:00",
          "2020-08-16T00:00:00",
          "2020-08-17T00:00:00",
          "2020-08-18T00:00:00",
          "2020-08-19T00:00:00",
          "2020-08-20T00:00:00",
          "2020-08-21T00:00:00",
          "2020-08-22T00:00:00",
          "2020-08-23T00:00:00",
          "2020-08-24T00:00:00",
          "2020-08-25T00:00:00",
          "2020-08-26T00:00:00",
          "2020-08-27T00:00:00",
          "2020-08-28T00:00:00",
          "2020-08-29T00:00:00",
          "2020-08-30T00:00:00",
          "2020-08-31T00:00:00",
          "2020-09-01T00:00:00",
          "2020-09-02T00:00:00",
          "2020-09-03T00:00:00",
          "2020-09-04T00:00:00",
          "2020-09-05T00:00:00",
          "2020-09-06T00:00:00",
          "2020-09-07T00:00:00",
          "2020-09-08T00:00:00",
          "2020-09-09T00:00:00",
          "2020-09-10T00:00:00",
          "2020-09-11T00:00:00",
          "2020-09-12T00:00:00",
          "2020-09-13T00:00:00",
          "2020-09-14T00:00:00",
          "2020-09-15T00:00:00",
          "2020-09-16T00:00:00",
          "2020-09-17T00:00:00",
          "2020-09-18T00:00:00",
          "2020-09-19T00:00:00",
          "2020-09-20T00:00:00",
          "2020-09-21T00:00:00",
          "2020-09-22T00:00:00",
          "2020-09-23T00:00:00",
          "2020-09-24T00:00:00",
          "2020-09-25T00:00:00",
          "2020-09-26T00:00:00",
          "2020-09-27T00:00:00",
          "2020-09-28T00:00:00",
          "2020-09-29T00:00:00",
          "2020-09-30T00:00:00",
          "2020-10-01T00:00:00",
          "2020-10-02T00:00:00",
          "2020-10-03T00:00:00",
          "2020-10-04T00:00:00",
          "2020-10-05T00:00:00",
          "2020-10-06T00:00:00",
          "2020-10-07T00:00:00",
          "2020-10-08T00:00:00",
          "2020-10-09T00:00:00",
          "2020-10-10T00:00:00",
          "2020-10-11T00:00:00",
          "2020-10-12T00:00:00",
          "2020-10-13T00:00:00",
          "2020-10-14T00:00:00",
          "2020-10-15T00:00:00",
          "2020-10-16T00:00:00",
          "2020-10-17T00:00:00",
          "2020-10-18T00:00:00",
          "2020-10-19T00:00:00",
          "2020-10-20T00:00:00",
          "2020-10-21T00:00:00",
          "2020-10-22T00:00:00",
          "2020-10-23T00:00:00",
          "2020-10-24T00:00:00",
          "2020-10-25T00:00:00",
          "2020-10-26T00:00:00",
          "2020-10-27T00:00:00",
          "2020-10-28T00:00:00",
          "2020-10-29T00:00:00",
          "2020-10-30T00:00:00",
          "2020-10-31T00:00:00",
          "2020-11-01T00:00:00",
          "2020-11-02T00:00:00",
          "2020-11-03T00:00:00",
          "2020-11-04T00:00:00",
          "2020-11-05T00:00:00",
          "2020-11-06T00:00:00",
          "2020-11-07T00:00:00",
          "2020-11-08T00:00:00",
          "2020-11-09T00:00:00",
          "2020-11-10T00:00:00",
          "2020-11-11T00:00:00",
          "2020-11-12T00:00:00",
          "2020-11-13T00:00:00",
          "2020-11-14T00:00:00",
          "2020-11-15T00:00:00",
          "2020-11-16T00:00:00",
          "2020-11-17T00:00:00",
          "2020-11-18T00:00:00",
          "2020-11-19T00:00:00",
          "2020-11-20T00:00:00",
          "2020-11-21T00:00:00",
          "2020-11-22T00:00:00",
          "2020-11-23T00:00:00",
          "2020-11-24T00:00:00",
          "2020-11-25T00:00:00",
          "2020-11-26T00:00:00",
          "2020-11-27T00:00:00",
          "2020-11-28T00:00:00",
          "2020-11-29T00:00:00",
          "2020-11-30T00:00:00",
          "2020-12-01T00:00:00",
          "2020-12-02T00:00:00",
          "2020-12-03T00:00:00",
          "2020-12-04T00:00:00",
          "2020-12-05T00:00:00",
          "2020-12-06T00:00:00",
          "2020-12-07T00:00:00",
          "2020-12-08T00:00:00",
          "2020-12-09T00:00:00",
          "2020-12-10T00:00:00",
          "2020-12-11T00:00:00",
          "2020-12-12T00:00:00",
          "2020-12-13T00:00:00",
          "2020-12-14T00:00:00",
          "2020-12-15T00:00:00",
          "2020-12-16T00:00:00",
          "2020-12-17T00:00:00",
          "2020-12-18T00:00:00",
          "2020-12-19T00:00:00",
          "2020-12-20T00:00:00",
          "2020-12-21T00:00:00",
          "2020-12-22T00:00:00",
          "2020-12-23T00:00:00",
          "2020-12-24T00:00:00",
          "2020-12-25T00:00:00",
          "2020-12-26T00:00:00",
          "2020-12-27T00:00:00",
          "2020-12-28T00:00:00",
          "2020-12-29T00:00:00",
          "2020-12-30T00:00:00",
          "2020-12-31T00:00:00",
          "2021-01-01T00:00:00",
          "2021-01-02T00:00:00",
          "2021-01-03T00:00:00",
          "2021-01-04T00:00:00",
          "2021-01-05T00:00:00",
          "2021-01-06T00:00:00",
          "2021-01-07T00:00:00",
          "2021-01-08T00:00:00",
          "2021-01-09T00:00:00",
          "2021-01-10T00:00:00",
          "2021-01-11T00:00:00",
          "2021-01-12T00:00:00",
          "2021-01-13T00:00:00",
          "2021-01-14T00:00:00",
          "2021-01-15T00:00:00",
          "2021-01-16T00:00:00",
          "2021-01-17T00:00:00",
          "2021-01-18T00:00:00"
         ],
         "y": [
          1,
          1,
          1,
          2,
          1,
          2,
          1,
          2,
          2,
          8,
          8,
          15,
          9,
          12,
          22,
          20,
          27,
          33,
          33,
          30,
          53,
          56,
          49,
          55,
          68,
          71,
          73,
          84,
          96,
          97,
          89,
          115,
          118,
          146,
          173,
          172,
          172,
          181,
          216,
          234,
          255,
          223,
          231,
          304,
          284,
          324,
          279,
          283,
          349,
          336,
          323,
          311,
          346,
          336,
          344,
          365,
          388,
          399,
          445,
          456,
          421,
          488,
          486,
          487,
          484,
          484,
          470,
          459,
          502,
          529,
          522,
          497,
          518,
          480,
          524,
          548,
          602,
          545,
          593,
          576,
          543,
          591,
          623,
          667,
          623,
          639,
          593,
          651,
          617,
          643,
          649,
          715,
          693,
          622,
          600,
          535,
          625,
          616,
          597,
          588,
          572,
          635,
          637,
          625,
          686,
          664,
          629,
          640,
          640,
          667,
          695,
          767,
          750,
          682,
          706,
          678,
          684,
          695,
          769,
          735,
          741,
          751,
          708,
          675,
          739,
          733,
          772,
          669,
          727,
          674,
          721,
          733,
          725,
          708,
          628,
          700,
          620,
          672,
          626,
          687,
          716,
          657,
          638,
          592,
          629,
          608,
          624,
          627,
          563,
          565,
          534,
          528,
          535,
          573,
          506,
          551,
          508,
          512,
          513,
          481,
          492,
          499,
          486,
          465,
          492,
          472,
          490,
          507,
          463,
          456,
          455,
          438,
          413,
          423,
          446,
          402,
          438,
          388,
          400,
          424,
          365,
          420,
          399,
          381,
          368,
          329,
          372,
          391,
          377,
          393,
          365,
          367,
          334,
          350,
          333,
          337,
          334,
          321,
          331,
          317,
          331,
          313,
          339,
          320,
          321,
          311,
          290,
          345,
          331,
          386,
          343,
          336,
          353,
          332,
          348,
          363,
          432,
          375,
          426,
          412,
          395,
          386,
          443,
          433,
          413,
          420,
          419,
          421,
          385,
          394,
          441,
          423,
          424,
          451,
          457,
          407,
          409,
          441,
          410,
          431,
          465,
          413,
          402,
          412,
          426,
          450,
          435,
          408,
          479,
          467,
          520,
          471,
          477,
          462,
          493,
          534,
          483,
          495,
          532,
          566,
          516,
          519,
          503,
          544,
          539,
          571,
          531,
          561,
          551,
          571,
          573,
          595,
          581,
          597,
          588,
          597,
          620,
          629,
          616,
          685,
          642,
          633,
          648,
          620,
          663,
          704,
          723,
          730,
          671,
          629,
          743,
          715,
          746,
          771,
          742,
          797,
          733,
          795,
          765,
          774,
          801,
          758,
          673,
          597,
          366,
          290,
          199,
          1
         ]
        },
        {
         "line": {
          "color": "#c67c00"
         },
         "mode": "lines",
         "name": "Casos sospechosos",
         "type": "scatter",
         "x": [
          "2020-01-01T00:00:00",
          "2020-01-02T00:00:00",
          "2020-01-03T00:00:00",
          "2020-01-04T00:00:00",
          "2020-01-05T00:00:00",
          "2020-01-06T00:00:00",
          "2020-01-07T00:00:00",
          "2020-01-08T00:00:00",
          "2020-01-09T00:00:00",
          "2020-01-10T00:00:00",
          "2020-01-11T00:00:00",
          "2020-01-12T00:00:00",
          "2020-01-13T00:00:00",
          "2020-01-14T00:00:00",
          "2020-01-15T00:00:00",
          "2020-01-16T00:00:00",
          "2020-01-17T00:00:00",
          "2020-01-18T00:00:00",
          "2020-01-19T00:00:00",
          "2020-01-20T00:00:00",
          "2020-01-21T00:00:00",
          "2020-01-22T00:00:00",
          "2020-01-23T00:00:00",
          "2020-01-24T00:00:00",
          "2020-01-25T00:00:00",
          "2020-01-26T00:00:00",
          "2020-01-27T00:00:00",
          "2020-01-28T00:00:00",
          "2020-01-29T00:00:00",
          "2020-01-30T00:00:00",
          "2020-01-31T00:00:00",
          "2020-02-01T00:00:00",
          "2020-02-02T00:00:00",
          "2020-02-03T00:00:00",
          "2020-02-04T00:00:00",
          "2020-02-05T00:00:00",
          "2020-02-06T00:00:00",
          "2020-02-07T00:00:00",
          "2020-02-08T00:00:00",
          "2020-02-09T00:00:00",
          "2020-02-10T00:00:00",
          "2020-02-11T00:00:00",
          "2020-02-12T00:00:00",
          "2020-02-13T00:00:00",
          "2020-02-14T00:00:00",
          "2020-02-15T00:00:00",
          "2020-02-16T00:00:00",
          "2020-02-17T00:00:00",
          "2020-02-18T00:00:00",
          "2020-02-19T00:00:00",
          "2020-02-20T00:00:00",
          "2020-02-21T00:00:00",
          "2020-02-22T00:00:00",
          "2020-02-23T00:00:00",
          "2020-02-24T00:00:00",
          "2020-02-25T00:00:00",
          "2020-02-26T00:00:00",
          "2020-02-27T00:00:00",
          "2020-02-28T00:00:00",
          "2020-02-29T00:00:00",
          "2020-03-01T00:00:00",
          "2020-03-02T00:00:00",
          "2020-03-03T00:00:00",
          "2020-03-04T00:00:00",
          "2020-03-05T00:00:00",
          "2020-03-06T00:00:00",
          "2020-03-07T00:00:00",
          "2020-03-08T00:00:00",
          "2020-03-09T00:00:00",
          "2020-03-10T00:00:00",
          "2020-03-11T00:00:00",
          "2020-03-12T00:00:00",
          "2020-03-13T00:00:00",
          "2020-03-14T00:00:00",
          "2020-03-15T00:00:00",
          "2020-03-16T00:00:00",
          "2020-03-17T00:00:00",
          "2020-03-18T00:00:00",
          "2020-03-19T00:00:00",
          "2020-03-20T00:00:00",
          "2020-03-21T00:00:00",
          "2020-03-22T00:00:00",
          "2020-03-23T00:00:00",
          "2020-03-24T00:00:00",
          "2020-03-25T00:00:00",
          "2020-03-26T00:00:00",
          "2020-03-27T00:00:00",
          "2020-03-28T00:00:00",
          "2020-03-29T00:00:00",
          "2020-03-30T00:00:00",
          "2020-03-31T00:00:00",
          "2020-04-01T00:00:00",
          "2020-04-02T00:00:00",
          "2020-04-03T00:00:00",
          "2020-04-04T00:00:00",
          "2020-04-05T00:00:00",
          "2020-04-06T00:00:00",
          "2020-04-07T00:00:00",
          "2020-04-08T00:00:00",
          "2020-04-09T00:00:00",
          "2020-04-10T00:00:00",
          "2020-04-11T00:00:00",
          "2020-04-12T00:00:00",
          "2020-04-13T00:00:00",
          "2020-04-14T00:00:00",
          "2020-04-15T00:00:00",
          "2020-04-16T00:00:00",
          "2020-04-17T00:00:00",
          "2020-04-18T00:00:00",
          "2020-04-19T00:00:00",
          "2020-04-20T00:00:00",
          "2020-04-21T00:00:00",
          "2020-04-22T00:00:00",
          "2020-04-23T00:00:00",
          "2020-04-24T00:00:00",
          "2020-04-25T00:00:00",
          "2020-04-26T00:00:00",
          "2020-04-27T00:00:00",
          "2020-04-28T00:00:00",
          "2020-04-29T00:00:00",
          "2020-04-30T00:00:00",
          "2020-05-01T00:00:00",
          "2020-05-02T00:00:00",
          "2020-05-03T00:00:00",
          "2020-05-04T00:00:00",
          "2020-05-05T00:00:00",
          "2020-05-06T00:00:00",
          "2020-05-07T00:00:00",
          "2020-05-08T00:00:00",
          "2020-05-09T00:00:00",
          "2020-05-10T00:00:00",
          "2020-05-11T00:00:00",
          "2020-05-12T00:00:00",
          "2020-05-13T00:00:00",
          "2020-05-14T00:00:00",
          "2020-05-15T00:00:00",
          "2020-05-16T00:00:00",
          "2020-05-17T00:00:00",
          "2020-05-18T00:00:00",
          "2020-05-19T00:00:00",
          "2020-05-20T00:00:00",
          "2020-05-21T00:00:00",
          "2020-05-22T00:00:00",
          "2020-05-23T00:00:00",
          "2020-05-24T00:00:00",
          "2020-05-25T00:00:00",
          "2020-05-26T00:00:00",
          "2020-05-27T00:00:00",
          "2020-05-28T00:00:00",
          "2020-05-29T00:00:00",
          "2020-05-30T00:00:00",
          "2020-05-31T00:00:00",
          "2020-06-01T00:00:00",
          "2020-06-02T00:00:00",
          "2020-06-03T00:00:00",
          "2020-06-04T00:00:00",
          "2020-06-05T00:00:00",
          "2020-06-06T00:00:00",
          "2020-06-07T00:00:00",
          "2020-06-08T00:00:00",
          "2020-06-09T00:00:00",
          "2020-06-10T00:00:00",
          "2020-06-11T00:00:00",
          "2020-06-12T00:00:00",
          "2020-06-13T00:00:00",
          "2020-06-14T00:00:00",
          "2020-06-15T00:00:00",
          "2020-06-16T00:00:00",
          "2020-06-17T00:00:00",
          "2020-06-18T00:00:00",
          "2020-06-19T00:00:00",
          "2020-06-20T00:00:00",
          "2020-06-21T00:00:00",
          "2020-06-22T00:00:00",
          "2020-06-23T00:00:00",
          "2020-06-24T00:00:00",
          "2020-06-25T00:00:00",
          "2020-06-26T00:00:00",
          "2020-06-27T00:00:00",
          "2020-06-28T00:00:00",
          "2020-06-29T00:00:00",
          "2020-06-30T00:00:00",
          "2020-07-01T00:00:00",
          "2020-07-02T00:00:00",
          "2020-07-03T00:00:00",
          "2020-07-04T00:00:00",
          "2020-07-05T00:00:00",
          "2020-07-06T00:00:00",
          "2020-07-07T00:00:00",
          "2020-07-08T00:00:00",
          "2020-07-09T00:00:00",
          "2020-07-10T00:00:00",
          "2020-07-11T00:00:00",
          "2020-07-12T00:00:00",
          "2020-07-13T00:00:00",
          "2020-07-14T00:00:00",
          "2020-07-15T00:00:00",
          "2020-07-16T00:00:00",
          "2020-07-17T00:00:00",
          "2020-07-18T00:00:00",
          "2020-07-19T00:00:00",
          "2020-07-20T00:00:00",
          "2020-07-21T00:00:00",
          "2020-07-22T00:00:00",
          "2020-07-23T00:00:00",
          "2020-07-24T00:00:00",
          "2020-07-25T00:00:00",
          "2020-07-26T00:00:00",
          "2020-07-27T00:00:00",
          "2020-07-28T00:00:00",
          "2020-07-29T00:00:00",
          "2020-07-30T00:00:00",
          "2020-07-31T00:00:00",
          "2020-08-01T00:00:00",
          "2020-08-02T00:00:00",
          "2020-08-03T00:00:00",
          "2020-08-04T00:00:00",
          "2020-08-05T00:00:00",
          "2020-08-06T00:00:00",
          "2020-08-07T00:00:00",
          "2020-08-08T00:00:00",
          "2020-08-09T00:00:00",
          "2020-08-10T00:00:00",
          "2020-08-11T00:00:00",
          "2020-08-12T00:00:00",
          "2020-08-13T00:00:00",
          "2020-08-14T00:00:00",
          "2020-08-15T00:00:00",
          "2020-08-16T00:00:00",
          "2020-08-17T00:00:00",
          "2020-08-18T00:00:00",
          "2020-08-19T00:00:00",
          "2020-08-20T00:00:00",
          "2020-08-21T00:00:00",
          "2020-08-22T00:00:00",
          "2020-08-23T00:00:00",
          "2020-08-24T00:00:00",
          "2020-08-25T00:00:00",
          "2020-08-26T00:00:00",
          "2020-08-27T00:00:00",
          "2020-08-28T00:00:00",
          "2020-08-29T00:00:00",
          "2020-08-30T00:00:00",
          "2020-08-31T00:00:00",
          "2020-09-01T00:00:00",
          "2020-09-02T00:00:00",
          "2020-09-03T00:00:00",
          "2020-09-04T00:00:00",
          "2020-09-05T00:00:00",
          "2020-09-06T00:00:00",
          "2020-09-07T00:00:00",
          "2020-09-08T00:00:00",
          "2020-09-09T00:00:00",
          "2020-09-10T00:00:00",
          "2020-09-11T00:00:00",
          "2020-09-12T00:00:00",
          "2020-09-13T00:00:00",
          "2020-09-14T00:00:00",
          "2020-09-15T00:00:00",
          "2020-09-16T00:00:00",
          "2020-09-17T00:00:00",
          "2020-09-18T00:00:00",
          "2020-09-19T00:00:00",
          "2020-09-20T00:00:00",
          "2020-09-21T00:00:00",
          "2020-09-22T00:00:00",
          "2020-09-23T00:00:00",
          "2020-09-24T00:00:00",
          "2020-09-25T00:00:00",
          "2020-09-26T00:00:00",
          "2020-09-27T00:00:00",
          "2020-09-28T00:00:00",
          "2020-09-29T00:00:00",
          "2020-09-30T00:00:00",
          "2020-10-01T00:00:00",
          "2020-10-02T00:00:00",
          "2020-10-03T00:00:00",
          "2020-10-04T00:00:00",
          "2020-10-05T00:00:00",
          "2020-10-06T00:00:00",
          "2020-10-07T00:00:00",
          "2020-10-08T00:00:00",
          "2020-10-09T00:00:00",
          "2020-10-10T00:00:00",
          "2020-10-11T00:00:00",
          "2020-10-12T00:00:00",
          "2020-10-13T00:00:00",
          "2020-10-14T00:00:00",
          "2020-10-15T00:00:00",
          "2020-10-16T00:00:00",
          "2020-10-17T00:00:00",
          "2020-10-18T00:00:00",
          "2020-10-19T00:00:00",
          "2020-10-20T00:00:00",
          "2020-10-21T00:00:00",
          "2020-10-22T00:00:00",
          "2020-10-23T00:00:00",
          "2020-10-24T00:00:00",
          "2020-10-25T00:00:00",
          "2020-10-26T00:00:00",
          "2020-10-27T00:00:00",
          "2020-10-28T00:00:00",
          "2020-10-29T00:00:00",
          "2020-10-30T00:00:00",
          "2020-10-31T00:00:00",
          "2020-11-01T00:00:00",
          "2020-11-02T00:00:00",
          "2020-11-03T00:00:00",
          "2020-11-04T00:00:00",
          "2020-11-05T00:00:00",
          "2020-11-06T00:00:00",
          "2020-11-07T00:00:00",
          "2020-11-08T00:00:00",
          "2020-11-09T00:00:00",
          "2020-11-10T00:00:00",
          "2020-11-11T00:00:00",
          "2020-11-12T00:00:00",
          "2020-11-13T00:00:00",
          "2020-11-14T00:00:00",
          "2020-11-15T00:00:00",
          "2020-11-16T00:00:00",
          "2020-11-17T00:00:00",
          "2020-11-18T00:00:00",
          "2020-11-19T00:00:00",
          "2020-11-20T00:00:00",
          "2020-11-21T00:00:00",
          "2020-11-22T00:00:00",
          "2020-11-23T00:00:00",
          "2020-11-24T00:00:00",
          "2020-11-25T00:00:00",
          "2020-11-26T00:00:00",
          "2020-11-27T00:00:00",
          "2020-11-28T00:00:00",
          "2020-11-29T00:00:00",
          "2020-11-30T00:00:00",
          "2020-12-01T00:00:00",
          "2020-12-02T00:00:00",
          "2020-12-03T00:00:00",
          "2020-12-04T00:00:00",
          "2020-12-05T00:00:00",
          "2020-12-06T00:00:00",
          "2020-12-07T00:00:00",
          "2020-12-08T00:00:00",
          "2020-12-09T00:00:00",
          "2020-12-10T00:00:00",
          "2020-12-11T00:00:00",
          "2020-12-12T00:00:00",
          "2020-12-13T00:00:00",
          "2020-12-14T00:00:00",
          "2020-12-15T00:00:00",
          "2020-12-16T00:00:00",
          "2020-12-17T00:00:00",
          "2020-12-18T00:00:00",
          "2020-12-19T00:00:00",
          "2020-12-20T00:00:00",
          "2020-12-21T00:00:00",
          "2020-12-22T00:00:00",
          "2020-12-23T00:00:00",
          "2020-12-24T00:00:00",
          "2020-12-25T00:00:00",
          "2020-12-26T00:00:00",
          "2020-12-27T00:00:00",
          "2020-12-28T00:00:00",
          "2020-12-29T00:00:00",
          "2020-12-30T00:00:00",
          "2020-12-31T00:00:00",
          "2021-01-01T00:00:00",
          "2021-01-02T00:00:00",
          "2021-01-03T00:00:00",
          "2021-01-04T00:00:00",
          "2021-01-05T00:00:00",
          "2021-01-06T00:00:00",
          "2021-01-07T00:00:00",
          "2021-01-08T00:00:00",
          "2021-01-09T00:00:00",
          "2021-01-10T00:00:00",
          "2021-01-11T00:00:00",
          "2021-01-12T00:00:00",
          "2021-01-13T00:00:00",
          "2021-01-14T00:00:00",
          "2021-01-15T00:00:00",
          "2021-01-16T00:00:00",
          "2021-01-17T00:00:00",
          "2021-01-18T00:00:00"
         ],
         "y": [
          133,
          114,
          113,
          107,
          164,
          181,
          172,
          146,
          151,
          151,
          146,
          216,
          312,
          258,
          251,
          206,
          160,
          179,
          280,
          311,
          241,
          210,
          192,
          210,
          209,
          264,
          322,
          249,
          217,
          152,
          155,
          198,
          224,
          265,
          279,
          216,
          145,
          164,
          203,
          246,
          305,
          204,
          176,
          152,
          164,
          235,
          248,
          261,
          251,
          211,
          173,
          167,
          222,
          237,
          274,
          239,
          197,
          164,
          185,
          270,
          349,
          320,
          256,
          228,
          188,
          136,
          146,
          240,
          274,
          272,
          228,
          152,
          194,
          227,
          370,
          379,
          349,
          347,
          302,
          458,
          401,
          516,
          915,
          881,
          1009,
          910,
          952,
          995,
          1088,
          1333,
          1073,
          1281,
          873,
          923,
          882,
          871,
          1073,
          933,
          970,
          886,
          1119,
          1008,
          997,
          1329,
          1118,
          1167,
          1130,
          1129,
          1101,
          1175,
          1523,
          1018,
          919,
          889,
          860,
          850,
          746,
          838,
          685,
          586,
          630,
          920,
          661,
          666,
          724,
          802,
          679,
          652,
          765,
          679,
          969,
          843,
          743,
          760,
          777,
          1035,
          708,
          802,
          1122,
          810,
          1081,
          712,
          792,
          763,
          819,
          1108,
          792,
          795,
          918,
          772,
          771,
          707,
          1299,
          907,
          930,
          813,
          936,
          896,
          849,
          1103,
          866,
          1156,
          833,
          1054,
          938,
          915,
          1429,
          1123,
          956,
          1262,
          1249,
          1832,
          1376,
          1795,
          1437,
          1602,
          1460,
          1680,
          1328,
          1251,
          1553,
          1455,
          1719,
          1241,
          1102,
          931,
          1151,
          1280,
          1154,
          1015,
          998,
          1333,
          1092,
          916,
          1175,
          1056,
          1175,
          1040,
          1053,
          952,
          973,
          1424,
          977,
          962,
          904,
          968,
          993,
          853,
          1135,
          850,
          821,
          769,
          835,
          1143,
          778,
          988,
          799,
          1025,
          770,
          840,
          815,
          737,
          1329,
          800,
          838,
          779,
          729,
          823,
          749,
          962,
          1008,
          605,
          938,
          835,
          698,
          712,
          934,
          1098,
          948,
          900,
          1196,
          791,
          921,
          1168,
          1226,
          796,
          789,
          764,
          838,
          652,
          880,
          759,
          800,
          802,
          615,
          629,
          559,
          823,
          764,
          624,
          786,
          772,
          832,
          969,
          940,
          731,
          614,
          698,
          822,
          612,
          796,
          1037,
          826,
          957,
          985,
          715,
          680,
          733,
          1054,
          833,
          802,
          857,
          784,
          940,
          724,
          982,
          895,
          844,
          899,
          892,
          803,
          897,
          1042,
          1085,
          824,
          920,
          865,
          758,
          1037,
          1180,
          1003,
          1226,
          867,
          993,
          775,
          1277,
          1266,
          1210,
          1132,
          1234,
          1191,
          1102,
          1036,
          1249,
          1221,
          938,
          903,
          931,
          782,
          900,
          897,
          1096,
          1129,
          1210,
          1404,
          1015,
          851,
          1339,
          1090,
          1327,
          966,
          1132,
          1126,
          1125,
          1551,
          1662,
          1245,
          1330,
          1353,
          1261,
          1194,
          1616,
          1449,
          1375,
          1861,
          1331,
          1366,
          1106,
          1780,
          1732,
          1439,
          1361,
          1376,
          1220,
          1309,
          1711,
          1432,
          1420,
          1296,
          1206,
          1222,
          1191,
          1861,
          1396,
          1396,
          1466,
          2195,
          1867,
          1688,
          2357,
          2221,
          2171,
          2348,
          2657,
          2646,
          3339,
          2971,
          2776,
          2580,
          2015,
          1615,
          772,
          333,
          13
         ]
        }
       ],
       "layout": {
        "height": 400,
        "template": {
         "data": {
          "bar": [
           {
            "error_x": {
             "color": "#2a3f5f"
            },
            "error_y": {
             "color": "#2a3f5f"
            },
            "marker": {
             "line": {
              "color": "white",
              "width": 0.5
             }
            },
            "type": "bar"
           }
          ],
          "barpolar": [
           {
            "marker": {
             "line": {
              "color": "white",
              "width": 0.5
             }
            },
            "type": "barpolar"
           }
          ],
          "carpet": [
           {
            "aaxis": {
             "endlinecolor": "#2a3f5f",
             "gridcolor": "#C8D4E3",
             "linecolor": "#C8D4E3",
             "minorgridcolor": "#C8D4E3",
             "startlinecolor": "#2a3f5f"
            },
            "baxis": {
             "endlinecolor": "#2a3f5f",
             "gridcolor": "#C8D4E3",
             "linecolor": "#C8D4E3",
             "minorgridcolor": "#C8D4E3",
             "startlinecolor": "#2a3f5f"
            },
            "type": "carpet"
           }
          ],
          "choropleth": [
           {
            "colorbar": {
             "outlinewidth": 0,
             "ticks": ""
            },
            "type": "choropleth"
           }
          ],
          "contour": [
           {
            "colorbar": {
             "outlinewidth": 0,
             "ticks": ""
            },
            "colorscale": [
             [
              0,
              "#0d0887"
             ],
             [
              0.1111111111111111,
              "#46039f"
             ],
             [
              0.2222222222222222,
              "#7201a8"
             ],
             [
              0.3333333333333333,
              "#9c179e"
             ],
             [
              0.4444444444444444,
              "#bd3786"
             ],
             [
              0.5555555555555556,
              "#d8576b"
             ],
             [
              0.6666666666666666,
              "#ed7953"
             ],
             [
              0.7777777777777778,
              "#fb9f3a"
             ],
             [
              0.8888888888888888,
              "#fdca26"
             ],
             [
              1,
              "#f0f921"
             ]
            ],
            "type": "contour"
           }
          ],
          "contourcarpet": [
           {
            "colorbar": {
             "outlinewidth": 0,
             "ticks": ""
            },
            "type": "contourcarpet"
           }
          ],
          "heatmap": [
           {
            "colorbar": {
             "outlinewidth": 0,
             "ticks": ""
            },
            "colorscale": [
             [
              0,
              "#0d0887"
             ],
             [
              0.1111111111111111,
              "#46039f"
             ],
             [
              0.2222222222222222,
              "#7201a8"
             ],
             [
              0.3333333333333333,
              "#9c179e"
             ],
             [
              0.4444444444444444,
              "#bd3786"
             ],
             [
              0.5555555555555556,
              "#d8576b"
             ],
             [
              0.6666666666666666,
              "#ed7953"
             ],
             [
              0.7777777777777778,
              "#fb9f3a"
             ],
             [
              0.8888888888888888,
              "#fdca26"
             ],
             [
              1,
              "#f0f921"
             ]
            ],
            "type": "heatmap"
           }
          ],
          "heatmapgl": [
           {
            "colorbar": {
             "outlinewidth": 0,
             "ticks": ""
            },
            "colorscale": [
             [
              0,
              "#0d0887"
             ],
             [
              0.1111111111111111,
              "#46039f"
             ],
             [
              0.2222222222222222,
              "#7201a8"
             ],
             [
              0.3333333333333333,
              "#9c179e"
             ],
             [
              0.4444444444444444,
              "#bd3786"
             ],
             [
              0.5555555555555556,
              "#d8576b"
             ],
             [
              0.6666666666666666,
              "#ed7953"
             ],
             [
              0.7777777777777778,
              "#fb9f3a"
             ],
             [
              0.8888888888888888,
              "#fdca26"
             ],
             [
              1,
              "#f0f921"
             ]
            ],
            "type": "heatmapgl"
           }
          ],
          "histogram": [
           {
            "marker": {
             "colorbar": {
              "outlinewidth": 0,
              "ticks": ""
             }
            },
            "type": "histogram"
           }
          ],
          "histogram2d": [
           {
            "colorbar": {
             "outlinewidth": 0,
             "ticks": ""
            },
            "colorscale": [
             [
              0,
              "#0d0887"
             ],
             [
              0.1111111111111111,
              "#46039f"
             ],
             [
              0.2222222222222222,
              "#7201a8"
             ],
             [
              0.3333333333333333,
              "#9c179e"
             ],
             [
              0.4444444444444444,
              "#bd3786"
             ],
             [
              0.5555555555555556,
              "#d8576b"
             ],
             [
              0.6666666666666666,
              "#ed7953"
             ],
             [
              0.7777777777777778,
              "#fb9f3a"
             ],
             [
              0.8888888888888888,
              "#fdca26"
             ],
             [
              1,
              "#f0f921"
             ]
            ],
            "type": "histogram2d"
           }
          ],
          "histogram2dcontour": [
           {
            "colorbar": {
             "outlinewidth": 0,
             "ticks": ""
            },
            "colorscale": [
             [
              0,
              "#0d0887"
             ],
             [
              0.1111111111111111,
              "#46039f"
             ],
             [
              0.2222222222222222,
              "#7201a8"
             ],
             [
              0.3333333333333333,
              "#9c179e"
             ],
             [
              0.4444444444444444,
              "#bd3786"
             ],
             [
              0.5555555555555556,
              "#d8576b"
             ],
             [
              0.6666666666666666,
              "#ed7953"
             ],
             [
              0.7777777777777778,
              "#fb9f3a"
             ],
             [
              0.8888888888888888,
              "#fdca26"
             ],
             [
              1,
              "#f0f921"
             ]
            ],
            "type": "histogram2dcontour"
           }
          ],
          "mesh3d": [
           {
            "colorbar": {
             "outlinewidth": 0,
             "ticks": ""
            },
            "type": "mesh3d"
           }
          ],
          "parcoords": [
           {
            "line": {
             "colorbar": {
              "outlinewidth": 0,
              "ticks": ""
             }
            },
            "type": "parcoords"
           }
          ],
          "pie": [
           {
            "automargin": true,
            "type": "pie"
           }
          ],
          "scatter": [
           {
            "marker": {
             "colorbar": {
              "outlinewidth": 0,
              "ticks": ""
             }
            },
            "type": "scatter"
           }
          ],
          "scatter3d": [
           {
            "line": {
             "colorbar": {
              "outlinewidth": 0,
              "ticks": ""
             }
            },
            "marker": {
             "colorbar": {
              "outlinewidth": 0,
              "ticks": ""
             }
            },
            "type": "scatter3d"
           }
          ],
          "scattercarpet": [
           {
            "marker": {
             "colorbar": {
              "outlinewidth": 0,
              "ticks": ""
             }
            },
            "type": "scattercarpet"
           }
          ],
          "scattergeo": [
           {
            "marker": {
             "colorbar": {
              "outlinewidth": 0,
              "ticks": ""
             }
            },
            "type": "scattergeo"
           }
          ],
          "scattergl": [
           {
            "marker": {
             "colorbar": {
              "outlinewidth": 0,
              "ticks": ""
             }
            },
            "type": "scattergl"
           }
          ],
          "scattermapbox": [
           {
            "marker": {
             "colorbar": {
              "outlinewidth": 0,
              "ticks": ""
             }
            },
            "type": "scattermapbox"
           }
          ],
          "scatterpolar": [
           {
            "marker": {
             "colorbar": {
              "outlinewidth": 0,
              "ticks": ""
             }
            },
            "type": "scatterpolar"
           }
          ],
          "scatterpolargl": [
           {
            "marker": {
             "colorbar": {
              "outlinewidth": 0,
              "ticks": ""
             }
            },
            "type": "scatterpolargl"
           }
          ],
          "scatterternary": [
           {
            "marker": {
             "colorbar": {
              "outlinewidth": 0,
              "ticks": ""
             }
            },
            "type": "scatterternary"
           }
          ],
          "surface": [
           {
            "colorbar": {
             "outlinewidth": 0,
             "ticks": ""
            },
            "colorscale": [
             [
              0,
              "#0d0887"
             ],
             [
              0.1111111111111111,
              "#46039f"
             ],
             [
              0.2222222222222222,
              "#7201a8"
             ],
             [
              0.3333333333333333,
              "#9c179e"
             ],
             [
              0.4444444444444444,
              "#bd3786"
             ],
             [
              0.5555555555555556,
              "#d8576b"
             ],
             [
              0.6666666666666666,
              "#ed7953"
             ],
             [
              0.7777777777777778,
              "#fb9f3a"
             ],
             [
              0.8888888888888888,
              "#fdca26"
             ],
             [
              1,
              "#f0f921"
             ]
            ],
            "type": "surface"
           }
          ],
          "table": [
           {
            "cells": {
             "fill": {
              "color": "#EBF0F8"
             },
             "line": {
              "color": "white"
             }
            },
            "header": {
             "fill": {
              "color": "#C8D4E3"
             },
             "line": {
              "color": "white"
             }
            },
            "type": "table"
           }
          ]
         },
         "layout": {
          "annotationdefaults": {
           "arrowcolor": "#2a3f5f",
           "arrowhead": 0,
           "arrowwidth": 1
          },
          "coloraxis": {
           "colorbar": {
            "outlinewidth": 0,
            "ticks": ""
           }
          },
          "colorscale": {
           "diverging": [
            [
             0,
             "#8e0152"
            ],
            [
             0.1,
             "#c51b7d"
            ],
            [
             0.2,
             "#de77ae"
            ],
            [
             0.3,
             "#f1b6da"
            ],
            [
             0.4,
             "#fde0ef"
            ],
            [
             0.5,
             "#f7f7f7"
            ],
            [
             0.6,
             "#e6f5d0"
            ],
            [
             0.7,
             "#b8e186"
            ],
            [
             0.8,
             "#7fbc41"
            ],
            [
             0.9,
             "#4d9221"
            ],
            [
             1,
             "#276419"
            ]
           ],
           "sequential": [
            [
             0,
             "#0d0887"
            ],
            [
             0.1111111111111111,
             "#46039f"
            ],
            [
             0.2222222222222222,
             "#7201a8"
            ],
            [
             0.3333333333333333,
             "#9c179e"
            ],
            [
             0.4444444444444444,
             "#bd3786"
            ],
            [
             0.5555555555555556,
             "#d8576b"
            ],
            [
             0.6666666666666666,
             "#ed7953"
            ],
            [
             0.7777777777777778,
             "#fb9f3a"
            ],
            [
             0.8888888888888888,
             "#fdca26"
            ],
            [
             1,
             "#f0f921"
            ]
           ],
           "sequentialminus": [
            [
             0,
             "#0d0887"
            ],
            [
             0.1111111111111111,
             "#46039f"
            ],
            [
             0.2222222222222222,
             "#7201a8"
            ],
            [
             0.3333333333333333,
             "#9c179e"
            ],
            [
             0.4444444444444444,
             "#bd3786"
            ],
            [
             0.5555555555555556,
             "#d8576b"
            ],
            [
             0.6666666666666666,
             "#ed7953"
            ],
            [
             0.7777777777777778,
             "#fb9f3a"
            ],
            [
             0.8888888888888888,
             "#fdca26"
            ],
            [
             1,
             "#f0f921"
            ]
           ]
          },
          "colorway": [
           "#636efa",
           "#EF553B",
           "#00cc96",
           "#ab63fa",
           "#FFA15A",
           "#19d3f3",
           "#FF6692",
           "#B6E880",
           "#FF97FF",
           "#FECB52"
          ],
          "font": {
           "color": "#2a3f5f"
          },
          "geo": {
           "bgcolor": "white",
           "lakecolor": "white",
           "landcolor": "white",
           "showlakes": true,
           "showland": true,
           "subunitcolor": "#C8D4E3"
          },
          "hoverlabel": {
           "align": "left"
          },
          "hovermode": "closest",
          "mapbox": {
           "style": "light"
          },
          "paper_bgcolor": "white",
          "plot_bgcolor": "white",
          "polar": {
           "angularaxis": {
            "gridcolor": "#EBF0F8",
            "linecolor": "#EBF0F8",
            "ticks": ""
           },
           "bgcolor": "white",
           "radialaxis": {
            "gridcolor": "#EBF0F8",
            "linecolor": "#EBF0F8",
            "ticks": ""
           }
          },
          "scene": {
           "xaxis": {
            "backgroundcolor": "white",
            "gridcolor": "#DFE8F3",
            "gridwidth": 2,
            "linecolor": "#EBF0F8",
            "showbackground": true,
            "ticks": "",
            "zerolinecolor": "#EBF0F8"
           },
           "yaxis": {
            "backgroundcolor": "white",
            "gridcolor": "#DFE8F3",
            "gridwidth": 2,
            "linecolor": "#EBF0F8",
            "showbackground": true,
            "ticks": "",
            "zerolinecolor": "#EBF0F8"
           },
           "zaxis": {
            "backgroundcolor": "white",
            "gridcolor": "#DFE8F3",
            "gridwidth": 2,
            "linecolor": "#EBF0F8",
            "showbackground": true,
            "ticks": "",
            "zerolinecolor": "#EBF0F8"
           }
          },
          "shapedefaults": {
           "line": {
            "color": "#2a3f5f"
           }
          },
          "ternary": {
           "aaxis": {
            "gridcolor": "#DFE8F3",
            "linecolor": "#A2B1C6",
            "ticks": ""
           },
           "baxis": {
            "gridcolor": "#DFE8F3",
            "linecolor": "#A2B1C6",
            "ticks": ""
           },
           "bgcolor": "white",
           "caxis": {
            "gridcolor": "#DFE8F3",
            "linecolor": "#A2B1C6",
            "ticks": ""
           }
          },
          "title": {
           "x": 0.05
          },
          "xaxis": {
           "automargin": true,
           "gridcolor": "#EBF0F8",
           "linecolor": "#EBF0F8",
           "ticks": "",
           "title": {
            "standoff": 15
           },
           "zerolinecolor": "#EBF0F8",
           "zerolinewidth": 2
          },
          "yaxis": {
           "automargin": true,
           "gridcolor": "#EBF0F8",
           "linecolor": "#EBF0F8",
           "ticks": "",
           "title": {
            "standoff": 15
           },
           "zerolinecolor": "#EBF0F8",
           "zerolinewidth": 2
          }
         }
        },
        "title": {
         "text": "COVID-19 México"
        },
        "width": 1200,
        "xaxis": {
         "showgrid": true,
         "title": {
          "text": "Fecha"
         }
        },
        "yaxis": {
         "showgrid": true,
         "title": {
          "text": "Número de personas"
         }
        }
       }
      }
     },
     "metadata": {}
    }
   ],
   "source": [
    "\n",
    "# Ploting each line in the same figure ...\n",
    "\n",
    "# fig_2 = px.line(confirmados_por_fecha, x = \"fecha_sintomas\", y = \"confirmados\", width = 1000, height= 300,\n",
    "#                  labels= dict(fecha_sintomas = \"Fecha\", confirmados = \"Número de personas\", name = \"Casos confirmados\"))\n",
    "\n",
    "fig_2 = go.Figure()\n",
    "\n",
    "fig_2.add_trace(go.Scatter(x = confirmados_por_fecha[\"fecha_ingreso\"], y = confirmados_por_fecha[\"confirmados\"], \n",
    "                mode = \"lines\",name = \"Casos confirmados\", line = dict(color = \"#b4004e\")) )\n",
    "fig_2.add_trace(go.Scatter(x = defunciones_por_fecha[\"fecha_defuncion\"], y = defunciones_por_fecha[\"defunciones\"], \n",
    "                mode = \"lines\",name = \"Defunciones\", line = dict(color = \"black\") ) )\n",
    "fig_2.add_trace(go.Scatter(x = sospechosos_por_fecha[\"fecha_sintomas\"], y = sospechosos_por_fecha[\"sospechosos\"],\n",
    "                mode = \"lines\", name = \"Casos sospechosos\", line = dict(color = \"#c67c00\")))\n",
    "\n",
    "fig_2.update_xaxes(showgrid = True, title = \"Fecha\")\n",
    "fig_2.update_yaxes(showgrid = True , title = \"Número de personas\")\n",
    "fig_2.update_layout( width = 1200, height= 400 , title = \"COVID-19 México\")\n",
    "fig_2.show()"
   ]
  },
  {
   "cell_type": "code",
   "execution_count": 38,
   "metadata": {},
   "outputs": [
    {
     "output_type": "execute_result",
     "data": {
      "text/plain": [
       "        FECHA_ACTUALIZACION ID_REGISTRO  ORIGEN  SECTOR  ENTIDAD_UM  SEXO  \\\n",
       "0                2021-01-18      1426fb       1       4          10     1   \n",
       "1                2021-01-18      1c4583       2      12           9     2   \n",
       "2                2021-01-18      0d55c9       2      12           9     1   \n",
       "3                2021-01-18      1468a5       1       4           5     1   \n",
       "4                2021-01-18      043f64       2       4           9     2   \n",
       "...                     ...         ...     ...     ...         ...   ...   \n",
       "4139011          2021-01-18      347f37       1       4           9     1   \n",
       "4139012          2021-01-18      21f293       2       4           2     2   \n",
       "4139015          2021-01-18      2e8cb2       2      12           9     1   \n",
       "4139017          2021-01-18      215a65       2      12           9     1   \n",
       "4139018          2021-01-18      32eab3       2      12           9     2   \n",
       "\n",
       "         ENTIDAD_NAC  ENTIDAD_RES  MUNICIPIO_RES  TIPO_PACIENTE  ...  \\\n",
       "0                 28           10              7              1  ...   \n",
       "1                  9            9              4              1  ...   \n",
       "2                  9            9             16              1  ...   \n",
       "3                 15            5             18              1  ...   \n",
       "4                  9            9             10              2  ...   \n",
       "...              ...          ...            ...            ...  ...   \n",
       "4139011           20           15             33              2  ...   \n",
       "4139012           11            2              2              1  ...   \n",
       "4139015           30           15             58              1  ...   \n",
       "4139017            9            9              9              1  ...   \n",
       "4139018            9            9             10              1  ...   \n",
       "\n",
       "        OTRO_CASO TOMA_MUESTRA_LAB RESULTADO_LAB  TOMA_MUESTRA_ANTIGENO  \\\n",
       "0              99                1             1                      2   \n",
       "1               2                1             1                      2   \n",
       "2               2                1             1                      2   \n",
       "3               1                1             1                      2   \n",
       "4              99                1             1                      2   \n",
       "...           ...              ...           ...                    ...   \n",
       "4139011         2                1             3                      1   \n",
       "4139012         2                2            97                      1   \n",
       "4139015         2                2            97                      1   \n",
       "4139017         1                2            97                      1   \n",
       "4139018         1                2            97                      1   \n",
       "\n",
       "         RESULTADO_ANTIGENO  CLASIFICACION_FINAL  MIGRANTE  PAIS_NACIONALIDAD  \\\n",
       "0                        97                    3        99            MÃ©xico   \n",
       "1                        97                    3        99            MÃ©xico   \n",
       "2                        97                    3        99            MÃ©xico   \n",
       "3                        97                    3        99            MÃ©xico   \n",
       "4                        97                    3        99            MÃ©xico   \n",
       "...                     ...                  ...       ...                ...   \n",
       "4139011                   1                    3        99            MÃ©xico   \n",
       "4139012                   1                    3        99            MÃ©xico   \n",
       "4139015                   1                    3        99            MÃ©xico   \n",
       "4139017                   1                    3        99            MÃ©xico   \n",
       "4139018                   1                    3        99            MÃ©xico   \n",
       "\n",
       "         PAIS_ORIGEN  UCI  \n",
       "0                 97   97  \n",
       "1                 97   97  \n",
       "2                 97   97  \n",
       "3                 97   97  \n",
       "4                 97    1  \n",
       "...              ...  ...  \n",
       "4139011           97    2  \n",
       "4139012           97   97  \n",
       "4139015           97   97  \n",
       "4139017           97   97  \n",
       "4139018           97   97  \n",
       "\n",
       "[1649502 rows x 40 columns]"
      ],
      "text/html": "<div>\n<style scoped>\n    .dataframe tbody tr th:only-of-type {\n        vertical-align: middle;\n    }\n\n    .dataframe tbody tr th {\n        vertical-align: top;\n    }\n\n    .dataframe thead th {\n        text-align: right;\n    }\n</style>\n<table border=\"1\" class=\"dataframe\">\n  <thead>\n    <tr style=\"text-align: right;\">\n      <th></th>\n      <th>FECHA_ACTUALIZACION</th>\n      <th>ID_REGISTRO</th>\n      <th>ORIGEN</th>\n      <th>SECTOR</th>\n      <th>ENTIDAD_UM</th>\n      <th>SEXO</th>\n      <th>ENTIDAD_NAC</th>\n      <th>ENTIDAD_RES</th>\n      <th>MUNICIPIO_RES</th>\n      <th>TIPO_PACIENTE</th>\n      <th>...</th>\n      <th>OTRO_CASO</th>\n      <th>TOMA_MUESTRA_LAB</th>\n      <th>RESULTADO_LAB</th>\n      <th>TOMA_MUESTRA_ANTIGENO</th>\n      <th>RESULTADO_ANTIGENO</th>\n      <th>CLASIFICACION_FINAL</th>\n      <th>MIGRANTE</th>\n      <th>PAIS_NACIONALIDAD</th>\n      <th>PAIS_ORIGEN</th>\n      <th>UCI</th>\n    </tr>\n  </thead>\n  <tbody>\n    <tr>\n      <th>0</th>\n      <td>2021-01-18</td>\n      <td>1426fb</td>\n      <td>1</td>\n      <td>4</td>\n      <td>10</td>\n      <td>1</td>\n      <td>28</td>\n      <td>10</td>\n      <td>7</td>\n      <td>1</td>\n      <td>...</td>\n      <td>99</td>\n      <td>1</td>\n      <td>1</td>\n      <td>2</td>\n      <td>97</td>\n      <td>3</td>\n      <td>99</td>\n      <td>MÃ©xico</td>\n      <td>97</td>\n      <td>97</td>\n    </tr>\n    <tr>\n      <th>1</th>\n      <td>2021-01-18</td>\n      <td>1c4583</td>\n      <td>2</td>\n      <td>12</td>\n      <td>9</td>\n      <td>2</td>\n      <td>9</td>\n      <td>9</td>\n      <td>4</td>\n      <td>1</td>\n      <td>...</td>\n      <td>2</td>\n      <td>1</td>\n      <td>1</td>\n      <td>2</td>\n      <td>97</td>\n      <td>3</td>\n      <td>99</td>\n      <td>MÃ©xico</td>\n      <td>97</td>\n      <td>97</td>\n    </tr>\n    <tr>\n      <th>2</th>\n      <td>2021-01-18</td>\n      <td>0d55c9</td>\n      <td>2</td>\n      <td>12</td>\n      <td>9</td>\n      <td>1</td>\n      <td>9</td>\n      <td>9</td>\n      <td>16</td>\n      <td>1</td>\n      <td>...</td>\n      <td>2</td>\n      <td>1</td>\n      <td>1</td>\n      <td>2</td>\n      <td>97</td>\n      <td>3</td>\n      <td>99</td>\n      <td>MÃ©xico</td>\n      <td>97</td>\n      <td>97</td>\n    </tr>\n    <tr>\n      <th>3</th>\n      <td>2021-01-18</td>\n      <td>1468a5</td>\n      <td>1</td>\n      <td>4</td>\n      <td>5</td>\n      <td>1</td>\n      <td>15</td>\n      <td>5</td>\n      <td>18</td>\n      <td>1</td>\n      <td>...</td>\n      <td>1</td>\n      <td>1</td>\n      <td>1</td>\n      <td>2</td>\n      <td>97</td>\n      <td>3</td>\n      <td>99</td>\n      <td>MÃ©xico</td>\n      <td>97</td>\n      <td>97</td>\n    </tr>\n    <tr>\n      <th>4</th>\n      <td>2021-01-18</td>\n      <td>043f64</td>\n      <td>2</td>\n      <td>4</td>\n      <td>9</td>\n      <td>2</td>\n      <td>9</td>\n      <td>9</td>\n      <td>10</td>\n      <td>2</td>\n      <td>...</td>\n      <td>99</td>\n      <td>1</td>\n      <td>1</td>\n      <td>2</td>\n      <td>97</td>\n      <td>3</td>\n      <td>99</td>\n      <td>MÃ©xico</td>\n      <td>97</td>\n      <td>1</td>\n    </tr>\n    <tr>\n      <th>...</th>\n      <td>...</td>\n      <td>...</td>\n      <td>...</td>\n      <td>...</td>\n      <td>...</td>\n      <td>...</td>\n      <td>...</td>\n      <td>...</td>\n      <td>...</td>\n      <td>...</td>\n      <td>...</td>\n      <td>...</td>\n      <td>...</td>\n      <td>...</td>\n      <td>...</td>\n      <td>...</td>\n      <td>...</td>\n      <td>...</td>\n      <td>...</td>\n      <td>...</td>\n      <td>...</td>\n    </tr>\n    <tr>\n      <th>4139011</th>\n      <td>2021-01-18</td>\n      <td>347f37</td>\n      <td>1</td>\n      <td>4</td>\n      <td>9</td>\n      <td>1</td>\n      <td>20</td>\n      <td>15</td>\n      <td>33</td>\n      <td>2</td>\n      <td>...</td>\n      <td>2</td>\n      <td>1</td>\n      <td>3</td>\n      <td>1</td>\n      <td>1</td>\n      <td>3</td>\n      <td>99</td>\n      <td>MÃ©xico</td>\n      <td>97</td>\n      <td>2</td>\n    </tr>\n    <tr>\n      <th>4139012</th>\n      <td>2021-01-18</td>\n      <td>21f293</td>\n      <td>2</td>\n      <td>4</td>\n      <td>2</td>\n      <td>2</td>\n      <td>11</td>\n      <td>2</td>\n      <td>2</td>\n      <td>1</td>\n      <td>...</td>\n      <td>2</td>\n      <td>2</td>\n      <td>97</td>\n      <td>1</td>\n      <td>1</td>\n      <td>3</td>\n      <td>99</td>\n      <td>MÃ©xico</td>\n      <td>97</td>\n      <td>97</td>\n    </tr>\n    <tr>\n      <th>4139015</th>\n      <td>2021-01-18</td>\n      <td>2e8cb2</td>\n      <td>2</td>\n      <td>12</td>\n      <td>9</td>\n      <td>1</td>\n      <td>30</td>\n      <td>15</td>\n      <td>58</td>\n      <td>1</td>\n      <td>...</td>\n      <td>2</td>\n      <td>2</td>\n      <td>97</td>\n      <td>1</td>\n      <td>1</td>\n      <td>3</td>\n      <td>99</td>\n      <td>MÃ©xico</td>\n      <td>97</td>\n      <td>97</td>\n    </tr>\n    <tr>\n      <th>4139017</th>\n      <td>2021-01-18</td>\n      <td>215a65</td>\n      <td>2</td>\n      <td>12</td>\n      <td>9</td>\n      <td>1</td>\n      <td>9</td>\n      <td>9</td>\n      <td>9</td>\n      <td>1</td>\n      <td>...</td>\n      <td>1</td>\n      <td>2</td>\n      <td>97</td>\n      <td>1</td>\n      <td>1</td>\n      <td>3</td>\n      <td>99</td>\n      <td>MÃ©xico</td>\n      <td>97</td>\n      <td>97</td>\n    </tr>\n    <tr>\n      <th>4139018</th>\n      <td>2021-01-18</td>\n      <td>32eab3</td>\n      <td>2</td>\n      <td>12</td>\n      <td>9</td>\n      <td>2</td>\n      <td>9</td>\n      <td>9</td>\n      <td>10</td>\n      <td>1</td>\n      <td>...</td>\n      <td>1</td>\n      <td>2</td>\n      <td>97</td>\n      <td>1</td>\n      <td>1</td>\n      <td>3</td>\n      <td>99</td>\n      <td>MÃ©xico</td>\n      <td>97</td>\n      <td>97</td>\n    </tr>\n  </tbody>\n</table>\n<p>1649502 rows × 40 columns</p>\n</div>"
     },
     "metadata": {},
     "execution_count": 38
    }
   ],
   "source": [
    "# Distribution of cases per state ...................................\n",
    "confirmados"
   ]
  },
  {
   "cell_type": "code",
   "execution_count": 39,
   "metadata": {},
   "outputs": [],
   "source": [
    "def time_usage(func):\n",
    "    def wrapper(*args, **kwargs):\n",
    "        beg_ts = time.time()\n",
    "        retval = func(*args, **kwargs)\n",
    "        end_ts = time.time()\n",
    "        print(\"elapsed time: %f\" % (end_ts - beg_ts))\n",
    "        return retval\n",
    "    return wrapper"
   ]
  },
  {
   "cell_type": "code",
   "execution_count": 40,
   "metadata": {},
   "outputs": [
    {
     "output_type": "execute_result",
     "data": {
      "text/plain": [
       "    ENTIDAD_RES  Casos confirmados\n",
       "0             1              18519\n",
       "1             2              38784\n",
       "2             3              20907\n",
       "3             4               7578\n",
       "4             5              55256\n",
       "5             6               8650\n",
       "6             7               8786\n",
       "7             8              38463\n",
       "8             9             409551\n",
       "9            10              27119\n",
       "10           11              95394\n",
       "11           12              28257\n",
       "12           13              28546\n",
       "13           14              60907\n",
       "14           15             169105\n",
       "15           16              36973\n",
       "16           17              14085\n",
       "17           18               8859\n",
       "18           19              94796\n",
       "19           20              31596\n",
       "20           21              54455\n",
       "21           22              38615\n",
       "22           23              17143\n",
       "23           24              45363\n",
       "24           25              28907\n",
       "25           26              57748\n",
       "26           27              49248\n",
       "27           28              43753\n",
       "28           29              13299\n",
       "29           30              47067\n",
       "30           31              28462\n",
       "31           32              23311"
      ],
      "text/html": "<div>\n<style scoped>\n    .dataframe tbody tr th:only-of-type {\n        vertical-align: middle;\n    }\n\n    .dataframe tbody tr th {\n        vertical-align: top;\n    }\n\n    .dataframe thead th {\n        text-align: right;\n    }\n</style>\n<table border=\"1\" class=\"dataframe\">\n  <thead>\n    <tr style=\"text-align: right;\">\n      <th></th>\n      <th>ENTIDAD_RES</th>\n      <th>Casos confirmados</th>\n    </tr>\n  </thead>\n  <tbody>\n    <tr>\n      <th>0</th>\n      <td>1</td>\n      <td>18519</td>\n    </tr>\n    <tr>\n      <th>1</th>\n      <td>2</td>\n      <td>38784</td>\n    </tr>\n    <tr>\n      <th>2</th>\n      <td>3</td>\n      <td>20907</td>\n    </tr>\n    <tr>\n      <th>3</th>\n      <td>4</td>\n      <td>7578</td>\n    </tr>\n    <tr>\n      <th>4</th>\n      <td>5</td>\n      <td>55256</td>\n    </tr>\n    <tr>\n      <th>5</th>\n      <td>6</td>\n      <td>8650</td>\n    </tr>\n    <tr>\n      <th>6</th>\n      <td>7</td>\n      <td>8786</td>\n    </tr>\n    <tr>\n      <th>7</th>\n      <td>8</td>\n      <td>38463</td>\n    </tr>\n    <tr>\n      <th>8</th>\n      <td>9</td>\n      <td>409551</td>\n    </tr>\n    <tr>\n      <th>9</th>\n      <td>10</td>\n      <td>27119</td>\n    </tr>\n    <tr>\n      <th>10</th>\n      <td>11</td>\n      <td>95394</td>\n    </tr>\n    <tr>\n      <th>11</th>\n      <td>12</td>\n      <td>28257</td>\n    </tr>\n    <tr>\n      <th>12</th>\n      <td>13</td>\n      <td>28546</td>\n    </tr>\n    <tr>\n      <th>13</th>\n      <td>14</td>\n      <td>60907</td>\n    </tr>\n    <tr>\n      <th>14</th>\n      <td>15</td>\n      <td>169105</td>\n    </tr>\n    <tr>\n      <th>15</th>\n      <td>16</td>\n      <td>36973</td>\n    </tr>\n    <tr>\n      <th>16</th>\n      <td>17</td>\n      <td>14085</td>\n    </tr>\n    <tr>\n      <th>17</th>\n      <td>18</td>\n      <td>8859</td>\n    </tr>\n    <tr>\n      <th>18</th>\n      <td>19</td>\n      <td>94796</td>\n    </tr>\n    <tr>\n      <th>19</th>\n      <td>20</td>\n      <td>31596</td>\n    </tr>\n    <tr>\n      <th>20</th>\n      <td>21</td>\n      <td>54455</td>\n    </tr>\n    <tr>\n      <th>21</th>\n      <td>22</td>\n      <td>38615</td>\n    </tr>\n    <tr>\n      <th>22</th>\n      <td>23</td>\n      <td>17143</td>\n    </tr>\n    <tr>\n      <th>23</th>\n      <td>24</td>\n      <td>45363</td>\n    </tr>\n    <tr>\n      <th>24</th>\n      <td>25</td>\n      <td>28907</td>\n    </tr>\n    <tr>\n      <th>25</th>\n      <td>26</td>\n      <td>57748</td>\n    </tr>\n    <tr>\n      <th>26</th>\n      <td>27</td>\n      <td>49248</td>\n    </tr>\n    <tr>\n      <th>27</th>\n      <td>28</td>\n      <td>43753</td>\n    </tr>\n    <tr>\n      <th>28</th>\n      <td>29</td>\n      <td>13299</td>\n    </tr>\n    <tr>\n      <th>29</th>\n      <td>30</td>\n      <td>47067</td>\n    </tr>\n    <tr>\n      <th>30</th>\n      <td>31</td>\n      <td>28462</td>\n    </tr>\n    <tr>\n      <th>31</th>\n      <td>32</td>\n      <td>23311</td>\n    </tr>\n  </tbody>\n</table>\n</div>"
     },
     "metadata": {},
     "execution_count": 40
    }
   ],
   "source": [
    "#Grouping by state ENTIDAD_RES\n",
    "confirmados_por_estado = confirmados.groupby(\"ENTIDAD_RES\").size().to_frame(\"Casos confirmados\").reset_index()\n",
    "confirmados_por_estado"
   ]
  },
  {
   "cell_type": "code",
   "execution_count": 41,
   "metadata": {},
   "outputs": [
    {
     "output_type": "execute_result",
     "data": {
      "text/plain": [
       "dict_keys(['Catálogo ORIGEN', 'Catálogo SECTOR', 'Catálogo SEXO', 'Catálogo TIPO_PACIENTE', 'Catálogo SI_NO', 'Catálogo NACIONALIDAD', 'Catálogo RESULTADO_LAB', 'Catálogo RESULTADO_ANTIGENO', 'Catálogo CLASIFICACION_FINAL', 'Catálogo de ENTIDADES', 'Catálogo MUNICIPIOS'])"
      ]
     },
     "metadata": {},
     "execution_count": 41
    }
   ],
   "source": [
    "# Cargando el diccionario de estados\n",
    "dics = pd.read_excel(\"https://github.com/Riloro/mexico_covid19_dashboard/blob/master/diccionarios/201128%20Catalogos_.xlsx?raw=true\", sheet_name = None)\n",
    "dics.keys()"
   ]
  },
  {
   "cell_type": "code",
   "execution_count": 42,
   "metadata": {},
   "outputs": [
    {
     "output_type": "execute_result",
     "data": {
      "text/plain": [
       "    CLAVE_ENTIDAD               ENTIDAD_FEDERATIVA ABREVIATURA\n",
       "0               1                   AGUASCALIENTES          AS\n",
       "1               2                  BAJA CALIFORNIA          BC\n",
       "2               3              BAJA CALIFORNIA SUR          BS\n",
       "3               4                         CAMPECHE          CC\n",
       "4               5             COAHUILA DE ZARAGOZA          CL\n",
       "5               6                           COLIMA          CM\n",
       "6               7                          CHIAPAS          CS\n",
       "7               8                        CHIHUAHUA          CH\n",
       "8               9                 CIUDAD DE MÉXICO          DF\n",
       "9              10                          DURANGO          DG\n",
       "10             11                       GUANAJUATO          GT\n",
       "11             12                         GUERRERO          GR\n",
       "12             13                          HIDALGO          HG\n",
       "13             14                          JALISCO          JC\n",
       "14             15                           MÉXICO          MC\n",
       "15             16              MICHOACÁN DE OCAMPO          MN\n",
       "16             17                          MORELOS          MS\n",
       "17             18                          NAYARIT          NT\n",
       "18             19                       NUEVO LEÓN          NL\n",
       "19             20                           OAXACA          OC\n",
       "20             21                           PUEBLA          PL\n",
       "21             22                        QUERÉTARO          QT\n",
       "22             23                     QUINTANA ROO          QR\n",
       "23             24                  SAN LUIS POTOSÍ          SP\n",
       "24             25                          SINALOA          SL\n",
       "25             26                           SONORA          SR\n",
       "26             27                          TABASCO          TC\n",
       "27             28                       TAMAULIPAS          TS\n",
       "28             29                         TLAXCALA          TL\n",
       "29             30  VERACRUZ DE IGNACIO DE LA LLAVE          VZ\n",
       "30             31                          YUCATÁN          YN\n",
       "31             32                        ZACATECAS          ZS\n",
       "32             36         ESTADOS UNIDOS MEXICANOS         EUM\n",
       "33             97                        NO APLICA         NaN\n",
       "34             98                        SE IGNORA          SI\n",
       "35             99                  NO ESPECIFICADO          NE"
      ],
      "text/html": "<div>\n<style scoped>\n    .dataframe tbody tr th:only-of-type {\n        vertical-align: middle;\n    }\n\n    .dataframe tbody tr th {\n        vertical-align: top;\n    }\n\n    .dataframe thead th {\n        text-align: right;\n    }\n</style>\n<table border=\"1\" class=\"dataframe\">\n  <thead>\n    <tr style=\"text-align: right;\">\n      <th></th>\n      <th>CLAVE_ENTIDAD</th>\n      <th>ENTIDAD_FEDERATIVA</th>\n      <th>ABREVIATURA</th>\n    </tr>\n  </thead>\n  <tbody>\n    <tr>\n      <th>0</th>\n      <td>1</td>\n      <td>AGUASCALIENTES</td>\n      <td>AS</td>\n    </tr>\n    <tr>\n      <th>1</th>\n      <td>2</td>\n      <td>BAJA CALIFORNIA</td>\n      <td>BC</td>\n    </tr>\n    <tr>\n      <th>2</th>\n      <td>3</td>\n      <td>BAJA CALIFORNIA SUR</td>\n      <td>BS</td>\n    </tr>\n    <tr>\n      <th>3</th>\n      <td>4</td>\n      <td>CAMPECHE</td>\n      <td>CC</td>\n    </tr>\n    <tr>\n      <th>4</th>\n      <td>5</td>\n      <td>COAHUILA DE ZARAGOZA</td>\n      <td>CL</td>\n    </tr>\n    <tr>\n      <th>5</th>\n      <td>6</td>\n      <td>COLIMA</td>\n      <td>CM</td>\n    </tr>\n    <tr>\n      <th>6</th>\n      <td>7</td>\n      <td>CHIAPAS</td>\n      <td>CS</td>\n    </tr>\n    <tr>\n      <th>7</th>\n      <td>8</td>\n      <td>CHIHUAHUA</td>\n      <td>CH</td>\n    </tr>\n    <tr>\n      <th>8</th>\n      <td>9</td>\n      <td>CIUDAD DE MÉXICO</td>\n      <td>DF</td>\n    </tr>\n    <tr>\n      <th>9</th>\n      <td>10</td>\n      <td>DURANGO</td>\n      <td>DG</td>\n    </tr>\n    <tr>\n      <th>10</th>\n      <td>11</td>\n      <td>GUANAJUATO</td>\n      <td>GT</td>\n    </tr>\n    <tr>\n      <th>11</th>\n      <td>12</td>\n      <td>GUERRERO</td>\n      <td>GR</td>\n    </tr>\n    <tr>\n      <th>12</th>\n      <td>13</td>\n      <td>HIDALGO</td>\n      <td>HG</td>\n    </tr>\n    <tr>\n      <th>13</th>\n      <td>14</td>\n      <td>JALISCO</td>\n      <td>JC</td>\n    </tr>\n    <tr>\n      <th>14</th>\n      <td>15</td>\n      <td>MÉXICO</td>\n      <td>MC</td>\n    </tr>\n    <tr>\n      <th>15</th>\n      <td>16</td>\n      <td>MICHOACÁN DE OCAMPO</td>\n      <td>MN</td>\n    </tr>\n    <tr>\n      <th>16</th>\n      <td>17</td>\n      <td>MORELOS</td>\n      <td>MS</td>\n    </tr>\n    <tr>\n      <th>17</th>\n      <td>18</td>\n      <td>NAYARIT</td>\n      <td>NT</td>\n    </tr>\n    <tr>\n      <th>18</th>\n      <td>19</td>\n      <td>NUEVO LEÓN</td>\n      <td>NL</td>\n    </tr>\n    <tr>\n      <th>19</th>\n      <td>20</td>\n      <td>OAXACA</td>\n      <td>OC</td>\n    </tr>\n    <tr>\n      <th>20</th>\n      <td>21</td>\n      <td>PUEBLA</td>\n      <td>PL</td>\n    </tr>\n    <tr>\n      <th>21</th>\n      <td>22</td>\n      <td>QUERÉTARO</td>\n      <td>QT</td>\n    </tr>\n    <tr>\n      <th>22</th>\n      <td>23</td>\n      <td>QUINTANA ROO</td>\n      <td>QR</td>\n    </tr>\n    <tr>\n      <th>23</th>\n      <td>24</td>\n      <td>SAN LUIS POTOSÍ</td>\n      <td>SP</td>\n    </tr>\n    <tr>\n      <th>24</th>\n      <td>25</td>\n      <td>SINALOA</td>\n      <td>SL</td>\n    </tr>\n    <tr>\n      <th>25</th>\n      <td>26</td>\n      <td>SONORA</td>\n      <td>SR</td>\n    </tr>\n    <tr>\n      <th>26</th>\n      <td>27</td>\n      <td>TABASCO</td>\n      <td>TC</td>\n    </tr>\n    <tr>\n      <th>27</th>\n      <td>28</td>\n      <td>TAMAULIPAS</td>\n      <td>TS</td>\n    </tr>\n    <tr>\n      <th>28</th>\n      <td>29</td>\n      <td>TLAXCALA</td>\n      <td>TL</td>\n    </tr>\n    <tr>\n      <th>29</th>\n      <td>30</td>\n      <td>VERACRUZ DE IGNACIO DE LA LLAVE</td>\n      <td>VZ</td>\n    </tr>\n    <tr>\n      <th>30</th>\n      <td>31</td>\n      <td>YUCATÁN</td>\n      <td>YN</td>\n    </tr>\n    <tr>\n      <th>31</th>\n      <td>32</td>\n      <td>ZACATECAS</td>\n      <td>ZS</td>\n    </tr>\n    <tr>\n      <th>32</th>\n      <td>36</td>\n      <td>ESTADOS UNIDOS MEXICANOS</td>\n      <td>EUM</td>\n    </tr>\n    <tr>\n      <th>33</th>\n      <td>97</td>\n      <td>NO APLICA</td>\n      <td>NaN</td>\n    </tr>\n    <tr>\n      <th>34</th>\n      <td>98</td>\n      <td>SE IGNORA</td>\n      <td>SI</td>\n    </tr>\n    <tr>\n      <th>35</th>\n      <td>99</td>\n      <td>NO ESPECIFICADO</td>\n      <td>NE</td>\n    </tr>\n  </tbody>\n</table>\n</div>"
     },
     "metadata": {},
     "execution_count": 42
    }
   ],
   "source": [
    "dic_estados = dics[\"Catálogo de ENTIDADES\"]\n",
    "dic_estados"
   ]
  },
  {
   "cell_type": "code",
   "execution_count": 43,
   "metadata": {},
   "outputs": [
    {
     "output_type": "execute_result",
     "data": {
      "text/plain": [
       "    ENTIDAD_RES  Casos confirmados  CLAVE_ENTIDAD  \\\n",
       "0             1              18519              1   \n",
       "1             2              38784              2   \n",
       "2             3              20907              3   \n",
       "3             4               7578              4   \n",
       "4             5              55256              5   \n",
       "5             6               8650              6   \n",
       "6             7               8786              7   \n",
       "7             8              38463              8   \n",
       "8             9             409551              9   \n",
       "9            10              27119             10   \n",
       "10           11              95394             11   \n",
       "11           12              28257             12   \n",
       "12           13              28546             13   \n",
       "13           14              60907             14   \n",
       "14           15             169105             15   \n",
       "15           16              36973             16   \n",
       "16           17              14085             17   \n",
       "17           18               8859             18   \n",
       "18           19              94796             19   \n",
       "19           20              31596             20   \n",
       "20           21              54455             21   \n",
       "21           22              38615             22   \n",
       "22           23              17143             23   \n",
       "23           24              45363             24   \n",
       "24           25              28907             25   \n",
       "25           26              57748             26   \n",
       "26           27              49248             27   \n",
       "27           28              43753             28   \n",
       "28           29              13299             29   \n",
       "29           30              47067             30   \n",
       "30           31              28462             31   \n",
       "31           32              23311             32   \n",
       "\n",
       "                 ENTIDAD_FEDERATIVA ABREVIATURA  \n",
       "0                    AGUASCALIENTES          AS  \n",
       "1                   BAJA CALIFORNIA          BC  \n",
       "2               BAJA CALIFORNIA SUR          BS  \n",
       "3                          CAMPECHE          CC  \n",
       "4              COAHUILA DE ZARAGOZA          CL  \n",
       "5                            COLIMA          CM  \n",
       "6                           CHIAPAS          CS  \n",
       "7                         CHIHUAHUA          CH  \n",
       "8                  CIUDAD DE MÉXICO          DF  \n",
       "9                           DURANGO          DG  \n",
       "10                       GUANAJUATO          GT  \n",
       "11                         GUERRERO          GR  \n",
       "12                          HIDALGO          HG  \n",
       "13                          JALISCO          JC  \n",
       "14                           MÉXICO          MC  \n",
       "15              MICHOACÁN DE OCAMPO          MN  \n",
       "16                          MORELOS          MS  \n",
       "17                          NAYARIT          NT  \n",
       "18                       NUEVO LEÓN          NL  \n",
       "19                           OAXACA          OC  \n",
       "20                           PUEBLA          PL  \n",
       "21                        QUERÉTARO          QT  \n",
       "22                     QUINTANA ROO          QR  \n",
       "23                  SAN LUIS POTOSÍ          SP  \n",
       "24                          SINALOA          SL  \n",
       "25                           SONORA          SR  \n",
       "26                          TABASCO          TC  \n",
       "27                       TAMAULIPAS          TS  \n",
       "28                         TLAXCALA          TL  \n",
       "29  VERACRUZ DE IGNACIO DE LA LLAVE          VZ  \n",
       "30                          YUCATÁN          YN  \n",
       "31                        ZACATECAS          ZS  "
      ],
      "text/html": "<div>\n<style scoped>\n    .dataframe tbody tr th:only-of-type {\n        vertical-align: middle;\n    }\n\n    .dataframe tbody tr th {\n        vertical-align: top;\n    }\n\n    .dataframe thead th {\n        text-align: right;\n    }\n</style>\n<table border=\"1\" class=\"dataframe\">\n  <thead>\n    <tr style=\"text-align: right;\">\n      <th></th>\n      <th>ENTIDAD_RES</th>\n      <th>Casos confirmados</th>\n      <th>CLAVE_ENTIDAD</th>\n      <th>ENTIDAD_FEDERATIVA</th>\n      <th>ABREVIATURA</th>\n    </tr>\n  </thead>\n  <tbody>\n    <tr>\n      <th>0</th>\n      <td>1</td>\n      <td>18519</td>\n      <td>1</td>\n      <td>AGUASCALIENTES</td>\n      <td>AS</td>\n    </tr>\n    <tr>\n      <th>1</th>\n      <td>2</td>\n      <td>38784</td>\n      <td>2</td>\n      <td>BAJA CALIFORNIA</td>\n      <td>BC</td>\n    </tr>\n    <tr>\n      <th>2</th>\n      <td>3</td>\n      <td>20907</td>\n      <td>3</td>\n      <td>BAJA CALIFORNIA SUR</td>\n      <td>BS</td>\n    </tr>\n    <tr>\n      <th>3</th>\n      <td>4</td>\n      <td>7578</td>\n      <td>4</td>\n      <td>CAMPECHE</td>\n      <td>CC</td>\n    </tr>\n    <tr>\n      <th>4</th>\n      <td>5</td>\n      <td>55256</td>\n      <td>5</td>\n      <td>COAHUILA DE ZARAGOZA</td>\n      <td>CL</td>\n    </tr>\n    <tr>\n      <th>5</th>\n      <td>6</td>\n      <td>8650</td>\n      <td>6</td>\n      <td>COLIMA</td>\n      <td>CM</td>\n    </tr>\n    <tr>\n      <th>6</th>\n      <td>7</td>\n      <td>8786</td>\n      <td>7</td>\n      <td>CHIAPAS</td>\n      <td>CS</td>\n    </tr>\n    <tr>\n      <th>7</th>\n      <td>8</td>\n      <td>38463</td>\n      <td>8</td>\n      <td>CHIHUAHUA</td>\n      <td>CH</td>\n    </tr>\n    <tr>\n      <th>8</th>\n      <td>9</td>\n      <td>409551</td>\n      <td>9</td>\n      <td>CIUDAD DE MÉXICO</td>\n      <td>DF</td>\n    </tr>\n    <tr>\n      <th>9</th>\n      <td>10</td>\n      <td>27119</td>\n      <td>10</td>\n      <td>DURANGO</td>\n      <td>DG</td>\n    </tr>\n    <tr>\n      <th>10</th>\n      <td>11</td>\n      <td>95394</td>\n      <td>11</td>\n      <td>GUANAJUATO</td>\n      <td>GT</td>\n    </tr>\n    <tr>\n      <th>11</th>\n      <td>12</td>\n      <td>28257</td>\n      <td>12</td>\n      <td>GUERRERO</td>\n      <td>GR</td>\n    </tr>\n    <tr>\n      <th>12</th>\n      <td>13</td>\n      <td>28546</td>\n      <td>13</td>\n      <td>HIDALGO</td>\n      <td>HG</td>\n    </tr>\n    <tr>\n      <th>13</th>\n      <td>14</td>\n      <td>60907</td>\n      <td>14</td>\n      <td>JALISCO</td>\n      <td>JC</td>\n    </tr>\n    <tr>\n      <th>14</th>\n      <td>15</td>\n      <td>169105</td>\n      <td>15</td>\n      <td>MÉXICO</td>\n      <td>MC</td>\n    </tr>\n    <tr>\n      <th>15</th>\n      <td>16</td>\n      <td>36973</td>\n      <td>16</td>\n      <td>MICHOACÁN DE OCAMPO</td>\n      <td>MN</td>\n    </tr>\n    <tr>\n      <th>16</th>\n      <td>17</td>\n      <td>14085</td>\n      <td>17</td>\n      <td>MORELOS</td>\n      <td>MS</td>\n    </tr>\n    <tr>\n      <th>17</th>\n      <td>18</td>\n      <td>8859</td>\n      <td>18</td>\n      <td>NAYARIT</td>\n      <td>NT</td>\n    </tr>\n    <tr>\n      <th>18</th>\n      <td>19</td>\n      <td>94796</td>\n      <td>19</td>\n      <td>NUEVO LEÓN</td>\n      <td>NL</td>\n    </tr>\n    <tr>\n      <th>19</th>\n      <td>20</td>\n      <td>31596</td>\n      <td>20</td>\n      <td>OAXACA</td>\n      <td>OC</td>\n    </tr>\n    <tr>\n      <th>20</th>\n      <td>21</td>\n      <td>54455</td>\n      <td>21</td>\n      <td>PUEBLA</td>\n      <td>PL</td>\n    </tr>\n    <tr>\n      <th>21</th>\n      <td>22</td>\n      <td>38615</td>\n      <td>22</td>\n      <td>QUERÉTARO</td>\n      <td>QT</td>\n    </tr>\n    <tr>\n      <th>22</th>\n      <td>23</td>\n      <td>17143</td>\n      <td>23</td>\n      <td>QUINTANA ROO</td>\n      <td>QR</td>\n    </tr>\n    <tr>\n      <th>23</th>\n      <td>24</td>\n      <td>45363</td>\n      <td>24</td>\n      <td>SAN LUIS POTOSÍ</td>\n      <td>SP</td>\n    </tr>\n    <tr>\n      <th>24</th>\n      <td>25</td>\n      <td>28907</td>\n      <td>25</td>\n      <td>SINALOA</td>\n      <td>SL</td>\n    </tr>\n    <tr>\n      <th>25</th>\n      <td>26</td>\n      <td>57748</td>\n      <td>26</td>\n      <td>SONORA</td>\n      <td>SR</td>\n    </tr>\n    <tr>\n      <th>26</th>\n      <td>27</td>\n      <td>49248</td>\n      <td>27</td>\n      <td>TABASCO</td>\n      <td>TC</td>\n    </tr>\n    <tr>\n      <th>27</th>\n      <td>28</td>\n      <td>43753</td>\n      <td>28</td>\n      <td>TAMAULIPAS</td>\n      <td>TS</td>\n    </tr>\n    <tr>\n      <th>28</th>\n      <td>29</td>\n      <td>13299</td>\n      <td>29</td>\n      <td>TLAXCALA</td>\n      <td>TL</td>\n    </tr>\n    <tr>\n      <th>29</th>\n      <td>30</td>\n      <td>47067</td>\n      <td>30</td>\n      <td>VERACRUZ DE IGNACIO DE LA LLAVE</td>\n      <td>VZ</td>\n    </tr>\n    <tr>\n      <th>30</th>\n      <td>31</td>\n      <td>28462</td>\n      <td>31</td>\n      <td>YUCATÁN</td>\n      <td>YN</td>\n    </tr>\n    <tr>\n      <th>31</th>\n      <td>32</td>\n      <td>23311</td>\n      <td>32</td>\n      <td>ZACATECAS</td>\n      <td>ZS</td>\n    </tr>\n  </tbody>\n</table>\n</div>"
     },
     "metadata": {},
     "execution_count": 43
    }
   ],
   "source": [
    "confirmados_por_entidad = pd.merge(confirmados_por_estado, dic_estados, how = \"left\", left_on = \"ENTIDAD_RES\", right_on = \"CLAVE_ENTIDAD\" ) # left outer join\n",
    "confirmados_por_entidad"
   ]
  },
  {
   "cell_type": "code",
   "execution_count": 44,
   "metadata": {},
   "outputs": [
    {
     "output_type": "execute_result",
     "data": {
      "text/plain": [
       "ENTIDAD_RES            int64\n",
       "Casos confirmados      int64\n",
       "CLAVE_ENTIDAD          int64\n",
       "ENTIDAD_FEDERATIVA    object\n",
       "ABREVIATURA           object\n",
       "dtype: object"
      ]
     },
     "metadata": {},
     "execution_count": 44
    }
   ],
   "source": [
    "confirmados_por_entidad.dtypes"
   ]
  },
  {
   "cell_type": "code",
   "execution_count": 45,
   "metadata": {},
   "outputs": [
    {
     "output_type": "display_data",
     "data": {
      "application/vnd.plotly.v1+json": {
       "config": {
        "plotlyServerURL": "https://plot.ly"
       },
       "data": [
        {
         "alignmentgroup": "True",
         "hovertemplate": "Entidad Federativa=%{x}<br>Número de casos confirmados=%{y}<extra></extra>",
         "legendgroup": "",
         "marker": {
          "color": "#b71c1c"
         },
         "name": "",
         "offsetgroup": "",
         "opacity": 0.8,
         "orientation": "v",
         "showlegend": false,
         "textposition": "auto",
         "type": "bar",
         "x": [
          "CIUDAD DE MÉXICO",
          "MÉXICO",
          "GUANAJUATO",
          "NUEVO LEÓN",
          "JALISCO",
          "SONORA",
          "COAHUILA DE ZARAGOZA",
          "PUEBLA",
          "TABASCO",
          "VERACRUZ DE IGNACIO DE LA LLAVE",
          "SAN LUIS POTOSÍ",
          "TAMAULIPAS",
          "BAJA CALIFORNIA",
          "QUERÉTARO",
          "CHIHUAHUA",
          "MICHOACÁN DE OCAMPO",
          "OAXACA",
          "SINALOA",
          "HIDALGO",
          "YUCATÁN",
          "GUERRERO",
          "DURANGO",
          "ZACATECAS",
          "BAJA CALIFORNIA SUR",
          "AGUASCALIENTES",
          "QUINTANA ROO",
          "MORELOS",
          "TLAXCALA",
          "NAYARIT",
          "CHIAPAS",
          "COLIMA",
          "CAMPECHE"
         ],
         "xaxis": "x",
         "y": [
          409551,
          169105,
          95394,
          94796,
          60907,
          57748,
          55256,
          54455,
          49248,
          47067,
          45363,
          43753,
          38784,
          38615,
          38463,
          36973,
          31596,
          28907,
          28546,
          28462,
          28257,
          27119,
          23311,
          20907,
          18519,
          17143,
          14085,
          13299,
          8859,
          8786,
          8650,
          7578
         ],
         "yaxis": "y"
        }
       ],
       "layout": {
        "barmode": "relative",
        "legend": {
         "tracegroupgap": 0
        },
        "template": {
         "data": {
          "bar": [
           {
            "error_x": {
             "color": "#2a3f5f"
            },
            "error_y": {
             "color": "#2a3f5f"
            },
            "marker": {
             "line": {
              "color": "white",
              "width": 0.5
             }
            },
            "type": "bar"
           }
          ],
          "barpolar": [
           {
            "marker": {
             "line": {
              "color": "white",
              "width": 0.5
             }
            },
            "type": "barpolar"
           }
          ],
          "carpet": [
           {
            "aaxis": {
             "endlinecolor": "#2a3f5f",
             "gridcolor": "#C8D4E3",
             "linecolor": "#C8D4E3",
             "minorgridcolor": "#C8D4E3",
             "startlinecolor": "#2a3f5f"
            },
            "baxis": {
             "endlinecolor": "#2a3f5f",
             "gridcolor": "#C8D4E3",
             "linecolor": "#C8D4E3",
             "minorgridcolor": "#C8D4E3",
             "startlinecolor": "#2a3f5f"
            },
            "type": "carpet"
           }
          ],
          "choropleth": [
           {
            "colorbar": {
             "outlinewidth": 0,
             "ticks": ""
            },
            "type": "choropleth"
           }
          ],
          "contour": [
           {
            "colorbar": {
             "outlinewidth": 0,
             "ticks": ""
            },
            "colorscale": [
             [
              0,
              "#0d0887"
             ],
             [
              0.1111111111111111,
              "#46039f"
             ],
             [
              0.2222222222222222,
              "#7201a8"
             ],
             [
              0.3333333333333333,
              "#9c179e"
             ],
             [
              0.4444444444444444,
              "#bd3786"
             ],
             [
              0.5555555555555556,
              "#d8576b"
             ],
             [
              0.6666666666666666,
              "#ed7953"
             ],
             [
              0.7777777777777778,
              "#fb9f3a"
             ],
             [
              0.8888888888888888,
              "#fdca26"
             ],
             [
              1,
              "#f0f921"
             ]
            ],
            "type": "contour"
           }
          ],
          "contourcarpet": [
           {
            "colorbar": {
             "outlinewidth": 0,
             "ticks": ""
            },
            "type": "contourcarpet"
           }
          ],
          "heatmap": [
           {
            "colorbar": {
             "outlinewidth": 0,
             "ticks": ""
            },
            "colorscale": [
             [
              0,
              "#0d0887"
             ],
             [
              0.1111111111111111,
              "#46039f"
             ],
             [
              0.2222222222222222,
              "#7201a8"
             ],
             [
              0.3333333333333333,
              "#9c179e"
             ],
             [
              0.4444444444444444,
              "#bd3786"
             ],
             [
              0.5555555555555556,
              "#d8576b"
             ],
             [
              0.6666666666666666,
              "#ed7953"
             ],
             [
              0.7777777777777778,
              "#fb9f3a"
             ],
             [
              0.8888888888888888,
              "#fdca26"
             ],
             [
              1,
              "#f0f921"
             ]
            ],
            "type": "heatmap"
           }
          ],
          "heatmapgl": [
           {
            "colorbar": {
             "outlinewidth": 0,
             "ticks": ""
            },
            "colorscale": [
             [
              0,
              "#0d0887"
             ],
             [
              0.1111111111111111,
              "#46039f"
             ],
             [
              0.2222222222222222,
              "#7201a8"
             ],
             [
              0.3333333333333333,
              "#9c179e"
             ],
             [
              0.4444444444444444,
              "#bd3786"
             ],
             [
              0.5555555555555556,
              "#d8576b"
             ],
             [
              0.6666666666666666,
              "#ed7953"
             ],
             [
              0.7777777777777778,
              "#fb9f3a"
             ],
             [
              0.8888888888888888,
              "#fdca26"
             ],
             [
              1,
              "#f0f921"
             ]
            ],
            "type": "heatmapgl"
           }
          ],
          "histogram": [
           {
            "marker": {
             "colorbar": {
              "outlinewidth": 0,
              "ticks": ""
             }
            },
            "type": "histogram"
           }
          ],
          "histogram2d": [
           {
            "colorbar": {
             "outlinewidth": 0,
             "ticks": ""
            },
            "colorscale": [
             [
              0,
              "#0d0887"
             ],
             [
              0.1111111111111111,
              "#46039f"
             ],
             [
              0.2222222222222222,
              "#7201a8"
             ],
             [
              0.3333333333333333,
              "#9c179e"
             ],
             [
              0.4444444444444444,
              "#bd3786"
             ],
             [
              0.5555555555555556,
              "#d8576b"
             ],
             [
              0.6666666666666666,
              "#ed7953"
             ],
             [
              0.7777777777777778,
              "#fb9f3a"
             ],
             [
              0.8888888888888888,
              "#fdca26"
             ],
             [
              1,
              "#f0f921"
             ]
            ],
            "type": "histogram2d"
           }
          ],
          "histogram2dcontour": [
           {
            "colorbar": {
             "outlinewidth": 0,
             "ticks": ""
            },
            "colorscale": [
             [
              0,
              "#0d0887"
             ],
             [
              0.1111111111111111,
              "#46039f"
             ],
             [
              0.2222222222222222,
              "#7201a8"
             ],
             [
              0.3333333333333333,
              "#9c179e"
             ],
             [
              0.4444444444444444,
              "#bd3786"
             ],
             [
              0.5555555555555556,
              "#d8576b"
             ],
             [
              0.6666666666666666,
              "#ed7953"
             ],
             [
              0.7777777777777778,
              "#fb9f3a"
             ],
             [
              0.8888888888888888,
              "#fdca26"
             ],
             [
              1,
              "#f0f921"
             ]
            ],
            "type": "histogram2dcontour"
           }
          ],
          "mesh3d": [
           {
            "colorbar": {
             "outlinewidth": 0,
             "ticks": ""
            },
            "type": "mesh3d"
           }
          ],
          "parcoords": [
           {
            "line": {
             "colorbar": {
              "outlinewidth": 0,
              "ticks": ""
             }
            },
            "type": "parcoords"
           }
          ],
          "pie": [
           {
            "automargin": true,
            "type": "pie"
           }
          ],
          "scatter": [
           {
            "marker": {
             "colorbar": {
              "outlinewidth": 0,
              "ticks": ""
             }
            },
            "type": "scatter"
           }
          ],
          "scatter3d": [
           {
            "line": {
             "colorbar": {
              "outlinewidth": 0,
              "ticks": ""
             }
            },
            "marker": {
             "colorbar": {
              "outlinewidth": 0,
              "ticks": ""
             }
            },
            "type": "scatter3d"
           }
          ],
          "scattercarpet": [
           {
            "marker": {
             "colorbar": {
              "outlinewidth": 0,
              "ticks": ""
             }
            },
            "type": "scattercarpet"
           }
          ],
          "scattergeo": [
           {
            "marker": {
             "colorbar": {
              "outlinewidth": 0,
              "ticks": ""
             }
            },
            "type": "scattergeo"
           }
          ],
          "scattergl": [
           {
            "marker": {
             "colorbar": {
              "outlinewidth": 0,
              "ticks": ""
             }
            },
            "type": "scattergl"
           }
          ],
          "scattermapbox": [
           {
            "marker": {
             "colorbar": {
              "outlinewidth": 0,
              "ticks": ""
             }
            },
            "type": "scattermapbox"
           }
          ],
          "scatterpolar": [
           {
            "marker": {
             "colorbar": {
              "outlinewidth": 0,
              "ticks": ""
             }
            },
            "type": "scatterpolar"
           }
          ],
          "scatterpolargl": [
           {
            "marker": {
             "colorbar": {
              "outlinewidth": 0,
              "ticks": ""
             }
            },
            "type": "scatterpolargl"
           }
          ],
          "scatterternary": [
           {
            "marker": {
             "colorbar": {
              "outlinewidth": 0,
              "ticks": ""
             }
            },
            "type": "scatterternary"
           }
          ],
          "surface": [
           {
            "colorbar": {
             "outlinewidth": 0,
             "ticks": ""
            },
            "colorscale": [
             [
              0,
              "#0d0887"
             ],
             [
              0.1111111111111111,
              "#46039f"
             ],
             [
              0.2222222222222222,
              "#7201a8"
             ],
             [
              0.3333333333333333,
              "#9c179e"
             ],
             [
              0.4444444444444444,
              "#bd3786"
             ],
             [
              0.5555555555555556,
              "#d8576b"
             ],
             [
              0.6666666666666666,
              "#ed7953"
             ],
             [
              0.7777777777777778,
              "#fb9f3a"
             ],
             [
              0.8888888888888888,
              "#fdca26"
             ],
             [
              1,
              "#f0f921"
             ]
            ],
            "type": "surface"
           }
          ],
          "table": [
           {
            "cells": {
             "fill": {
              "color": "#EBF0F8"
             },
             "line": {
              "color": "white"
             }
            },
            "header": {
             "fill": {
              "color": "#C8D4E3"
             },
             "line": {
              "color": "white"
             }
            },
            "type": "table"
           }
          ]
         },
         "layout": {
          "annotationdefaults": {
           "arrowcolor": "#2a3f5f",
           "arrowhead": 0,
           "arrowwidth": 1
          },
          "coloraxis": {
           "colorbar": {
            "outlinewidth": 0,
            "ticks": ""
           }
          },
          "colorscale": {
           "diverging": [
            [
             0,
             "#8e0152"
            ],
            [
             0.1,
             "#c51b7d"
            ],
            [
             0.2,
             "#de77ae"
            ],
            [
             0.3,
             "#f1b6da"
            ],
            [
             0.4,
             "#fde0ef"
            ],
            [
             0.5,
             "#f7f7f7"
            ],
            [
             0.6,
             "#e6f5d0"
            ],
            [
             0.7,
             "#b8e186"
            ],
            [
             0.8,
             "#7fbc41"
            ],
            [
             0.9,
             "#4d9221"
            ],
            [
             1,
             "#276419"
            ]
           ],
           "sequential": [
            [
             0,
             "#0d0887"
            ],
            [
             0.1111111111111111,
             "#46039f"
            ],
            [
             0.2222222222222222,
             "#7201a8"
            ],
            [
             0.3333333333333333,
             "#9c179e"
            ],
            [
             0.4444444444444444,
             "#bd3786"
            ],
            [
             0.5555555555555556,
             "#d8576b"
            ],
            [
             0.6666666666666666,
             "#ed7953"
            ],
            [
             0.7777777777777778,
             "#fb9f3a"
            ],
            [
             0.8888888888888888,
             "#fdca26"
            ],
            [
             1,
             "#f0f921"
            ]
           ],
           "sequentialminus": [
            [
             0,
             "#0d0887"
            ],
            [
             0.1111111111111111,
             "#46039f"
            ],
            [
             0.2222222222222222,
             "#7201a8"
            ],
            [
             0.3333333333333333,
             "#9c179e"
            ],
            [
             0.4444444444444444,
             "#bd3786"
            ],
            [
             0.5555555555555556,
             "#d8576b"
            ],
            [
             0.6666666666666666,
             "#ed7953"
            ],
            [
             0.7777777777777778,
             "#fb9f3a"
            ],
            [
             0.8888888888888888,
             "#fdca26"
            ],
            [
             1,
             "#f0f921"
            ]
           ]
          },
          "colorway": [
           "#636efa",
           "#EF553B",
           "#00cc96",
           "#ab63fa",
           "#FFA15A",
           "#19d3f3",
           "#FF6692",
           "#B6E880",
           "#FF97FF",
           "#FECB52"
          ],
          "font": {
           "color": "#2a3f5f"
          },
          "geo": {
           "bgcolor": "white",
           "lakecolor": "white",
           "landcolor": "white",
           "showlakes": true,
           "showland": true,
           "subunitcolor": "#C8D4E3"
          },
          "hoverlabel": {
           "align": "left"
          },
          "hovermode": "closest",
          "mapbox": {
           "style": "light"
          },
          "paper_bgcolor": "white",
          "plot_bgcolor": "white",
          "polar": {
           "angularaxis": {
            "gridcolor": "#EBF0F8",
            "linecolor": "#EBF0F8",
            "ticks": ""
           },
           "bgcolor": "white",
           "radialaxis": {
            "gridcolor": "#EBF0F8",
            "linecolor": "#EBF0F8",
            "ticks": ""
           }
          },
          "scene": {
           "xaxis": {
            "backgroundcolor": "white",
            "gridcolor": "#DFE8F3",
            "gridwidth": 2,
            "linecolor": "#EBF0F8",
            "showbackground": true,
            "ticks": "",
            "zerolinecolor": "#EBF0F8"
           },
           "yaxis": {
            "backgroundcolor": "white",
            "gridcolor": "#DFE8F3",
            "gridwidth": 2,
            "linecolor": "#EBF0F8",
            "showbackground": true,
            "ticks": "",
            "zerolinecolor": "#EBF0F8"
           },
           "zaxis": {
            "backgroundcolor": "white",
            "gridcolor": "#DFE8F3",
            "gridwidth": 2,
            "linecolor": "#EBF0F8",
            "showbackground": true,
            "ticks": "",
            "zerolinecolor": "#EBF0F8"
           }
          },
          "shapedefaults": {
           "line": {
            "color": "#2a3f5f"
           }
          },
          "ternary": {
           "aaxis": {
            "gridcolor": "#DFE8F3",
            "linecolor": "#A2B1C6",
            "ticks": ""
           },
           "baxis": {
            "gridcolor": "#DFE8F3",
            "linecolor": "#A2B1C6",
            "ticks": ""
           },
           "bgcolor": "white",
           "caxis": {
            "gridcolor": "#DFE8F3",
            "linecolor": "#A2B1C6",
            "ticks": ""
           }
          },
          "title": {
           "x": 0.05
          },
          "xaxis": {
           "automargin": true,
           "gridcolor": "#EBF0F8",
           "linecolor": "#EBF0F8",
           "ticks": "",
           "title": {
            "standoff": 15
           },
           "zerolinecolor": "#EBF0F8",
           "zerolinewidth": 2
          },
          "yaxis": {
           "automargin": true,
           "gridcolor": "#EBF0F8",
           "linecolor": "#EBF0F8",
           "ticks": "",
           "title": {
            "standoff": 15
           },
           "zerolinecolor": "#EBF0F8",
           "zerolinewidth": 2
          }
         }
        },
        "title": {
         "text": "Número de casos confirmados por estado"
        },
        "xaxis": {
         "anchor": "y",
         "domain": [
          0,
          1
         ],
         "tickfont": {
          "size": 10
         },
         "title": {
          "text": "Entidad Federativa"
         },
         "type": "category"
        },
        "yaxis": {
         "anchor": "x",
         "domain": [
          0,
          1
         ],
         "title": {
          "text": "Número de casos confirmados"
         }
        }
       }
      }
     },
     "metadata": {}
    }
   ],
   "source": [
    "# Bar plot of the confirmed cases by state\n",
    "confirmados_por_entidad.sort_values(\"Casos confirmados\", ascending = False, inplace = True ) # Ordenando por número de casos de forma descendente \n",
    "fig_bar_edo = px.bar( x = confirmados_por_entidad[\"ENTIDAD_FEDERATIVA\"], y = confirmados_por_entidad[\"Casos confirmados\"],\n",
    "                        labels = dict(x = \"Entidad Federativa\", y = \"Número de casos confirmados\"), title = \"Número de casos confirmados por estado\")\n",
    "\n",
    "\n",
    "fig_bar_edo.update_xaxes(type='category', tickfont=dict(size = 10))\n",
    "fig_bar_edo.update_traces(marker = dict(color = \"#b71c1c\"), opacity = 0.8)\n",
    "fig_bar_edo.show()"
   ]
  },
  {
   "cell_type": "code",
   "execution_count": 46,
   "metadata": {},
   "outputs": [
    {
     "output_type": "stream",
     "name": "stdout",
     "text": [
      "195.7783666999967\n"
     ]
    }
   ],
   "source": [
    "stime = timeit.default_timer()\n",
    "poblaciones = pd.read_csv(\"http://www.conapo.gob.mx/work/models/CONAPO/Datos_Abiertos/Proyecciones2018/pob_mit_proyecciones.csv\", encoding=\"latin1\")\n",
    "e = timeit.default_timer() - stime\n",
    "poblaciones\n",
    "print(e)"
   ]
  },
  {
   "cell_type": "code",
   "execution_count": 47,
   "metadata": {},
   "outputs": [
    {
     "output_type": "stream",
     "name": "stdout",
     "text": [
      "1.3414371000035317\n"
     ]
    }
   ],
   "source": [
    "#poblacion_2020 = poblaciones[poblaciones[\"AÑO\"] == 2020]\n",
    "stime = timeit.default_timer()\n",
    "poblacion_2020 = pd.read_csv(\"https://raw.githubusercontent.com/Riloro/mexico_covid19_dashboard/master/diccionarios/poblacion2020_new.csv\", encoding='latin1')\n",
    "e = timeit.default_timer() - stime\n",
    "print(e)"
   ]
  },
  {
   "cell_type": "code",
   "execution_count": 48,
   "metadata": {},
   "outputs": [
    {
     "output_type": "stream",
     "name": "stdout",
     "text": [
      "1.5007227000023704\n"
     ]
    }
   ],
   "source": [
    "\n",
    "start_time_new = timeit.default_timer()\n",
    "pop2020 = pd.read_csv(\"https://raw.githubusercontent.com/Riloro/mexico_covid19_dashboard/master/diccionarios/poblacion2020_new.csv\", encoding='latin1')\n",
    "elapsed_new = timeit.default_timer() - start_time_new\n",
    "\n",
    "print(elapsed_new)\n"
   ]
  },
  {
   "cell_type": "code",
   "execution_count": 49,
   "metadata": {},
   "outputs": [
    {
     "output_type": "execute_result",
     "data": {
      "text/plain": [
       "      RENGLON   AÑO             ENTIDAD  CVE_GEO  EDAD     SEXO  POBLACION\n",
       "0       15401  2020  República Mexicana        0     0  Hombres    1087447\n",
       "1       15402  2020  República Mexicana        0     0  Mujeres    1048275\n",
       "2       15403  2020  República Mexicana        0     1  Hombres    1093379\n",
       "3       15404  2020  República Mexicana        0     1  Mujeres    1054636\n",
       "4       15405  2020  República Mexicana        0     2  Hombres    1100800\n",
       "...       ...   ...                 ...      ...   ...      ...        ...\n",
       "7255   585856  2020           Zacatecas       32   107  Mujeres          1\n",
       "7256   585857  2020           Zacatecas       32   108  Hombres          0\n",
       "7257   585858  2020           Zacatecas       32   108  Mujeres          0\n",
       "7258   585859  2020           Zacatecas       32   109  Hombres          0\n",
       "7259   585860  2020           Zacatecas       32   109  Mujeres          0\n",
       "\n",
       "[7260 rows x 7 columns]"
      ],
      "text/html": "<div>\n<style scoped>\n    .dataframe tbody tr th:only-of-type {\n        vertical-align: middle;\n    }\n\n    .dataframe tbody tr th {\n        vertical-align: top;\n    }\n\n    .dataframe thead th {\n        text-align: right;\n    }\n</style>\n<table border=\"1\" class=\"dataframe\">\n  <thead>\n    <tr style=\"text-align: right;\">\n      <th></th>\n      <th>RENGLON</th>\n      <th>AÑO</th>\n      <th>ENTIDAD</th>\n      <th>CVE_GEO</th>\n      <th>EDAD</th>\n      <th>SEXO</th>\n      <th>POBLACION</th>\n    </tr>\n  </thead>\n  <tbody>\n    <tr>\n      <th>0</th>\n      <td>15401</td>\n      <td>2020</td>\n      <td>República Mexicana</td>\n      <td>0</td>\n      <td>0</td>\n      <td>Hombres</td>\n      <td>1087447</td>\n    </tr>\n    <tr>\n      <th>1</th>\n      <td>15402</td>\n      <td>2020</td>\n      <td>República Mexicana</td>\n      <td>0</td>\n      <td>0</td>\n      <td>Mujeres</td>\n      <td>1048275</td>\n    </tr>\n    <tr>\n      <th>2</th>\n      <td>15403</td>\n      <td>2020</td>\n      <td>República Mexicana</td>\n      <td>0</td>\n      <td>1</td>\n      <td>Hombres</td>\n      <td>1093379</td>\n    </tr>\n    <tr>\n      <th>3</th>\n      <td>15404</td>\n      <td>2020</td>\n      <td>República Mexicana</td>\n      <td>0</td>\n      <td>1</td>\n      <td>Mujeres</td>\n      <td>1054636</td>\n    </tr>\n    <tr>\n      <th>4</th>\n      <td>15405</td>\n      <td>2020</td>\n      <td>República Mexicana</td>\n      <td>0</td>\n      <td>2</td>\n      <td>Hombres</td>\n      <td>1100800</td>\n    </tr>\n    <tr>\n      <th>...</th>\n      <td>...</td>\n      <td>...</td>\n      <td>...</td>\n      <td>...</td>\n      <td>...</td>\n      <td>...</td>\n      <td>...</td>\n    </tr>\n    <tr>\n      <th>7255</th>\n      <td>585856</td>\n      <td>2020</td>\n      <td>Zacatecas</td>\n      <td>32</td>\n      <td>107</td>\n      <td>Mujeres</td>\n      <td>1</td>\n    </tr>\n    <tr>\n      <th>7256</th>\n      <td>585857</td>\n      <td>2020</td>\n      <td>Zacatecas</td>\n      <td>32</td>\n      <td>108</td>\n      <td>Hombres</td>\n      <td>0</td>\n    </tr>\n    <tr>\n      <th>7257</th>\n      <td>585858</td>\n      <td>2020</td>\n      <td>Zacatecas</td>\n      <td>32</td>\n      <td>108</td>\n      <td>Mujeres</td>\n      <td>0</td>\n    </tr>\n    <tr>\n      <th>7258</th>\n      <td>585859</td>\n      <td>2020</td>\n      <td>Zacatecas</td>\n      <td>32</td>\n      <td>109</td>\n      <td>Hombres</td>\n      <td>0</td>\n    </tr>\n    <tr>\n      <th>7259</th>\n      <td>585860</td>\n      <td>2020</td>\n      <td>Zacatecas</td>\n      <td>32</td>\n      <td>109</td>\n      <td>Mujeres</td>\n      <td>0</td>\n    </tr>\n  </tbody>\n</table>\n<p>7260 rows × 7 columns</p>\n</div>"
     },
     "metadata": {},
     "execution_count": 49
    }
   ],
   "source": [
    "poblacion_2020"
   ]
  },
  {
   "cell_type": "code",
   "execution_count": 50,
   "metadata": {},
   "outputs": [],
   "source": [
    "grupos_pob = poblacion_2020.groupby([\"CVE_GEO\",\"ENTIDAD\"])\n",
    "poblacion_tot_estado = grupos_pob[\"POBLACION\"].sum().to_frame(\"POBLACION\").reset_index()   # Sum operation in the POBLACION column of each group"
   ]
  },
  {
   "cell_type": "code",
   "execution_count": 51,
   "metadata": {},
   "outputs": [
    {
     "output_type": "execute_result",
     "data": {
      "text/plain": [
       "    ENTIDAD_RES  Casos confirmados  CLAVE_ENTIDAD  \\\n",
       "0             9             409551              9   \n",
       "1            15             169105             15   \n",
       "2            11              95394             11   \n",
       "3            19              94796             19   \n",
       "4            14              60907             14   \n",
       "5            26              57748             26   \n",
       "6             5              55256              5   \n",
       "7            21              54455             21   \n",
       "8            27              49248             27   \n",
       "9            30              47067             30   \n",
       "10           24              45363             24   \n",
       "11           28              43753             28   \n",
       "12            2              38784              2   \n",
       "13           22              38615             22   \n",
       "14            8              38463              8   \n",
       "15           16              36973             16   \n",
       "16           20              31596             20   \n",
       "17           25              28907             25   \n",
       "18           13              28546             13   \n",
       "19           31              28462             31   \n",
       "20           12              28257             12   \n",
       "21           10              27119             10   \n",
       "22           32              23311             32   \n",
       "23            3              20907              3   \n",
       "24            1              18519              1   \n",
       "25           23              17143             23   \n",
       "26           17              14085             17   \n",
       "27           29              13299             29   \n",
       "28           18               8859             18   \n",
       "29            7               8786              7   \n",
       "30            6               8650              6   \n",
       "31            4               7578              4   \n",
       "\n",
       "                 ENTIDAD_FEDERATIVA ABREVIATURA  CVE_GEO              ENTIDAD  \\\n",
       "0                  CIUDAD DE MÉXICO          DF        9     Ciudad de México   \n",
       "1                            MÉXICO          MC       15               México   \n",
       "2                        GUANAJUATO          GT       11           Guanajuato   \n",
       "3                        NUEVO LEÓN          NL       19           Nuevo León   \n",
       "4                           JALISCO          JC       14              Jalisco   \n",
       "5                            SONORA          SR       26               Sonora   \n",
       "6              COAHUILA DE ZARAGOZA          CL        5             Coahuila   \n",
       "7                            PUEBLA          PL       21               Puebla   \n",
       "8                           TABASCO          TC       27              Tabasco   \n",
       "9   VERACRUZ DE IGNACIO DE LA LLAVE          VZ       30             Veracruz   \n",
       "10                  SAN LUIS POTOSÍ          SP       24      San Luis Potosí   \n",
       "11                       TAMAULIPAS          TS       28           Tamaulipas   \n",
       "12                  BAJA CALIFORNIA          BC        2      Baja California   \n",
       "13                        QUERÉTARO          QT       22            Querétaro   \n",
       "14                        CHIHUAHUA          CH        8            Chihuahua   \n",
       "15              MICHOACÁN DE OCAMPO          MN       16            Michoacán   \n",
       "16                           OAXACA          OC       20               Oaxaca   \n",
       "17                          SINALOA          SL       25              Sinaloa   \n",
       "18                          HIDALGO          HG       13              Hidalgo   \n",
       "19                          YUCATÁN          YN       31              Yucatán   \n",
       "20                         GUERRERO          GR       12             Guerrero   \n",
       "21                          DURANGO          DG       10              Durango   \n",
       "22                        ZACATECAS          ZS       32            Zacatecas   \n",
       "23              BAJA CALIFORNIA SUR          BS        3  Baja California Sur   \n",
       "24                   AGUASCALIENTES          AS        1       Aguascalientes   \n",
       "25                     QUINTANA ROO          QR       23         Quintana Roo   \n",
       "26                          MORELOS          MS       17              Morelos   \n",
       "27                         TLAXCALA          TL       29             Tlaxcala   \n",
       "28                          NAYARIT          NT       18              Nayarit   \n",
       "29                          CHIAPAS          CS        7              Chiapas   \n",
       "30                           COLIMA          CM        6               Colima   \n",
       "31                         CAMPECHE          CC        4             Campeche   \n",
       "\n",
       "    POBLACION  \n",
       "0     9018645  \n",
       "1    17427790  \n",
       "2     6228175  \n",
       "3     5610153  \n",
       "4     8409693  \n",
       "5     3074745  \n",
       "6     3218720  \n",
       "7     6604451  \n",
       "8     2572287  \n",
       "9     8539862  \n",
       "10    2866142  \n",
       "11    3650602  \n",
       "12    3634868  \n",
       "13    2279637  \n",
       "14    3801487  \n",
       "15    4825401  \n",
       "16    4143593  \n",
       "17    3156674  \n",
       "18    3086414  \n",
       "19    2259098  \n",
       "20    3657048  \n",
       "21    1868996  \n",
       "22    1666426  \n",
       "23     804708  \n",
       "24    1434635  \n",
       "25    1723259  \n",
       "26    2044058  \n",
       "27    1380011  \n",
       "28    1288571  \n",
       "29    5730367  \n",
       "30     785153  \n",
       "31    1000617  "
      ],
      "text/html": "<div>\n<style scoped>\n    .dataframe tbody tr th:only-of-type {\n        vertical-align: middle;\n    }\n\n    .dataframe tbody tr th {\n        vertical-align: top;\n    }\n\n    .dataframe thead th {\n        text-align: right;\n    }\n</style>\n<table border=\"1\" class=\"dataframe\">\n  <thead>\n    <tr style=\"text-align: right;\">\n      <th></th>\n      <th>ENTIDAD_RES</th>\n      <th>Casos confirmados</th>\n      <th>CLAVE_ENTIDAD</th>\n      <th>ENTIDAD_FEDERATIVA</th>\n      <th>ABREVIATURA</th>\n      <th>CVE_GEO</th>\n      <th>ENTIDAD</th>\n      <th>POBLACION</th>\n    </tr>\n  </thead>\n  <tbody>\n    <tr>\n      <th>0</th>\n      <td>9</td>\n      <td>409551</td>\n      <td>9</td>\n      <td>CIUDAD DE MÉXICO</td>\n      <td>DF</td>\n      <td>9</td>\n      <td>Ciudad de México</td>\n      <td>9018645</td>\n    </tr>\n    <tr>\n      <th>1</th>\n      <td>15</td>\n      <td>169105</td>\n      <td>15</td>\n      <td>MÉXICO</td>\n      <td>MC</td>\n      <td>15</td>\n      <td>México</td>\n      <td>17427790</td>\n    </tr>\n    <tr>\n      <th>2</th>\n      <td>11</td>\n      <td>95394</td>\n      <td>11</td>\n      <td>GUANAJUATO</td>\n      <td>GT</td>\n      <td>11</td>\n      <td>Guanajuato</td>\n      <td>6228175</td>\n    </tr>\n    <tr>\n      <th>3</th>\n      <td>19</td>\n      <td>94796</td>\n      <td>19</td>\n      <td>NUEVO LEÓN</td>\n      <td>NL</td>\n      <td>19</td>\n      <td>Nuevo León</td>\n      <td>5610153</td>\n    </tr>\n    <tr>\n      <th>4</th>\n      <td>14</td>\n      <td>60907</td>\n      <td>14</td>\n      <td>JALISCO</td>\n      <td>JC</td>\n      <td>14</td>\n      <td>Jalisco</td>\n      <td>8409693</td>\n    </tr>\n    <tr>\n      <th>5</th>\n      <td>26</td>\n      <td>57748</td>\n      <td>26</td>\n      <td>SONORA</td>\n      <td>SR</td>\n      <td>26</td>\n      <td>Sonora</td>\n      <td>3074745</td>\n    </tr>\n    <tr>\n      <th>6</th>\n      <td>5</td>\n      <td>55256</td>\n      <td>5</td>\n      <td>COAHUILA DE ZARAGOZA</td>\n      <td>CL</td>\n      <td>5</td>\n      <td>Coahuila</td>\n      <td>3218720</td>\n    </tr>\n    <tr>\n      <th>7</th>\n      <td>21</td>\n      <td>54455</td>\n      <td>21</td>\n      <td>PUEBLA</td>\n      <td>PL</td>\n      <td>21</td>\n      <td>Puebla</td>\n      <td>6604451</td>\n    </tr>\n    <tr>\n      <th>8</th>\n      <td>27</td>\n      <td>49248</td>\n      <td>27</td>\n      <td>TABASCO</td>\n      <td>TC</td>\n      <td>27</td>\n      <td>Tabasco</td>\n      <td>2572287</td>\n    </tr>\n    <tr>\n      <th>9</th>\n      <td>30</td>\n      <td>47067</td>\n      <td>30</td>\n      <td>VERACRUZ DE IGNACIO DE LA LLAVE</td>\n      <td>VZ</td>\n      <td>30</td>\n      <td>Veracruz</td>\n      <td>8539862</td>\n    </tr>\n    <tr>\n      <th>10</th>\n      <td>24</td>\n      <td>45363</td>\n      <td>24</td>\n      <td>SAN LUIS POTOSÍ</td>\n      <td>SP</td>\n      <td>24</td>\n      <td>San Luis Potosí</td>\n      <td>2866142</td>\n    </tr>\n    <tr>\n      <th>11</th>\n      <td>28</td>\n      <td>43753</td>\n      <td>28</td>\n      <td>TAMAULIPAS</td>\n      <td>TS</td>\n      <td>28</td>\n      <td>Tamaulipas</td>\n      <td>3650602</td>\n    </tr>\n    <tr>\n      <th>12</th>\n      <td>2</td>\n      <td>38784</td>\n      <td>2</td>\n      <td>BAJA CALIFORNIA</td>\n      <td>BC</td>\n      <td>2</td>\n      <td>Baja California</td>\n      <td>3634868</td>\n    </tr>\n    <tr>\n      <th>13</th>\n      <td>22</td>\n      <td>38615</td>\n      <td>22</td>\n      <td>QUERÉTARO</td>\n      <td>QT</td>\n      <td>22</td>\n      <td>Querétaro</td>\n      <td>2279637</td>\n    </tr>\n    <tr>\n      <th>14</th>\n      <td>8</td>\n      <td>38463</td>\n      <td>8</td>\n      <td>CHIHUAHUA</td>\n      <td>CH</td>\n      <td>8</td>\n      <td>Chihuahua</td>\n      <td>3801487</td>\n    </tr>\n    <tr>\n      <th>15</th>\n      <td>16</td>\n      <td>36973</td>\n      <td>16</td>\n      <td>MICHOACÁN DE OCAMPO</td>\n      <td>MN</td>\n      <td>16</td>\n      <td>Michoacán</td>\n      <td>4825401</td>\n    </tr>\n    <tr>\n      <th>16</th>\n      <td>20</td>\n      <td>31596</td>\n      <td>20</td>\n      <td>OAXACA</td>\n      <td>OC</td>\n      <td>20</td>\n      <td>Oaxaca</td>\n      <td>4143593</td>\n    </tr>\n    <tr>\n      <th>17</th>\n      <td>25</td>\n      <td>28907</td>\n      <td>25</td>\n      <td>SINALOA</td>\n      <td>SL</td>\n      <td>25</td>\n      <td>Sinaloa</td>\n      <td>3156674</td>\n    </tr>\n    <tr>\n      <th>18</th>\n      <td>13</td>\n      <td>28546</td>\n      <td>13</td>\n      <td>HIDALGO</td>\n      <td>HG</td>\n      <td>13</td>\n      <td>Hidalgo</td>\n      <td>3086414</td>\n    </tr>\n    <tr>\n      <th>19</th>\n      <td>31</td>\n      <td>28462</td>\n      <td>31</td>\n      <td>YUCATÁN</td>\n      <td>YN</td>\n      <td>31</td>\n      <td>Yucatán</td>\n      <td>2259098</td>\n    </tr>\n    <tr>\n      <th>20</th>\n      <td>12</td>\n      <td>28257</td>\n      <td>12</td>\n      <td>GUERRERO</td>\n      <td>GR</td>\n      <td>12</td>\n      <td>Guerrero</td>\n      <td>3657048</td>\n    </tr>\n    <tr>\n      <th>21</th>\n      <td>10</td>\n      <td>27119</td>\n      <td>10</td>\n      <td>DURANGO</td>\n      <td>DG</td>\n      <td>10</td>\n      <td>Durango</td>\n      <td>1868996</td>\n    </tr>\n    <tr>\n      <th>22</th>\n      <td>32</td>\n      <td>23311</td>\n      <td>32</td>\n      <td>ZACATECAS</td>\n      <td>ZS</td>\n      <td>32</td>\n      <td>Zacatecas</td>\n      <td>1666426</td>\n    </tr>\n    <tr>\n      <th>23</th>\n      <td>3</td>\n      <td>20907</td>\n      <td>3</td>\n      <td>BAJA CALIFORNIA SUR</td>\n      <td>BS</td>\n      <td>3</td>\n      <td>Baja California Sur</td>\n      <td>804708</td>\n    </tr>\n    <tr>\n      <th>24</th>\n      <td>1</td>\n      <td>18519</td>\n      <td>1</td>\n      <td>AGUASCALIENTES</td>\n      <td>AS</td>\n      <td>1</td>\n      <td>Aguascalientes</td>\n      <td>1434635</td>\n    </tr>\n    <tr>\n      <th>25</th>\n      <td>23</td>\n      <td>17143</td>\n      <td>23</td>\n      <td>QUINTANA ROO</td>\n      <td>QR</td>\n      <td>23</td>\n      <td>Quintana Roo</td>\n      <td>1723259</td>\n    </tr>\n    <tr>\n      <th>26</th>\n      <td>17</td>\n      <td>14085</td>\n      <td>17</td>\n      <td>MORELOS</td>\n      <td>MS</td>\n      <td>17</td>\n      <td>Morelos</td>\n      <td>2044058</td>\n    </tr>\n    <tr>\n      <th>27</th>\n      <td>29</td>\n      <td>13299</td>\n      <td>29</td>\n      <td>TLAXCALA</td>\n      <td>TL</td>\n      <td>29</td>\n      <td>Tlaxcala</td>\n      <td>1380011</td>\n    </tr>\n    <tr>\n      <th>28</th>\n      <td>18</td>\n      <td>8859</td>\n      <td>18</td>\n      <td>NAYARIT</td>\n      <td>NT</td>\n      <td>18</td>\n      <td>Nayarit</td>\n      <td>1288571</td>\n    </tr>\n    <tr>\n      <th>29</th>\n      <td>7</td>\n      <td>8786</td>\n      <td>7</td>\n      <td>CHIAPAS</td>\n      <td>CS</td>\n      <td>7</td>\n      <td>Chiapas</td>\n      <td>5730367</td>\n    </tr>\n    <tr>\n      <th>30</th>\n      <td>6</td>\n      <td>8650</td>\n      <td>6</td>\n      <td>COLIMA</td>\n      <td>CM</td>\n      <td>6</td>\n      <td>Colima</td>\n      <td>785153</td>\n    </tr>\n    <tr>\n      <th>31</th>\n      <td>4</td>\n      <td>7578</td>\n      <td>4</td>\n      <td>CAMPECHE</td>\n      <td>CC</td>\n      <td>4</td>\n      <td>Campeche</td>\n      <td>1000617</td>\n    </tr>\n  </tbody>\n</table>\n</div>"
     },
     "metadata": {},
     "execution_count": 51
    }
   ],
   "source": [
    "datos_por_estado = pd.merge(confirmados_por_entidad, poblacion_tot_estado, how = \"left\", left_on = \"CLAVE_ENTIDAD\", right_on = \"CVE_GEO\" )\n",
    "datos_por_estado"
   ]
  },
  {
   "cell_type": "code",
   "execution_count": 52,
   "metadata": {},
   "outputs": [
    {
     "output_type": "execute_result",
     "data": {
      "text/plain": [
       "    CVE_GEO              ENTIDAD  POBLACION\n",
       "0         0   República Mexicana  127792286\n",
       "1         1       Aguascalientes    1434635\n",
       "2         2      Baja California    3634868\n",
       "3         3  Baja California Sur     804708\n",
       "4         4             Campeche    1000617\n",
       "5         5             Coahuila    3218720\n",
       "6         6               Colima     785153\n",
       "7         7              Chiapas    5730367\n",
       "8         8            Chihuahua    3801487\n",
       "9         9     Ciudad de México    9018645\n",
       "10       10              Durango    1868996\n",
       "11       11           Guanajuato    6228175\n",
       "12       12             Guerrero    3657048\n",
       "13       13              Hidalgo    3086414\n",
       "14       14              Jalisco    8409693\n",
       "15       15               México   17427790\n",
       "16       16            Michoacán    4825401\n",
       "17       17              Morelos    2044058\n",
       "18       18              Nayarit    1288571\n",
       "19       19           Nuevo León    5610153\n",
       "20       20               Oaxaca    4143593\n",
       "21       21               Puebla    6604451\n",
       "22       22            Querétaro    2279637\n",
       "23       23         Quintana Roo    1723259\n",
       "24       24      San Luis Potosí    2866142\n",
       "25       25              Sinaloa    3156674\n",
       "26       26               Sonora    3074745\n",
       "27       27              Tabasco    2572287\n",
       "28       28           Tamaulipas    3650602\n",
       "29       29             Tlaxcala    1380011\n",
       "30       30             Veracruz    8539862\n",
       "31       31              Yucatán    2259098\n",
       "32       32            Zacatecas    1666426"
      ],
      "text/html": "<div>\n<style scoped>\n    .dataframe tbody tr th:only-of-type {\n        vertical-align: middle;\n    }\n\n    .dataframe tbody tr th {\n        vertical-align: top;\n    }\n\n    .dataframe thead th {\n        text-align: right;\n    }\n</style>\n<table border=\"1\" class=\"dataframe\">\n  <thead>\n    <tr style=\"text-align: right;\">\n      <th></th>\n      <th>CVE_GEO</th>\n      <th>ENTIDAD</th>\n      <th>POBLACION</th>\n    </tr>\n  </thead>\n  <tbody>\n    <tr>\n      <th>0</th>\n      <td>0</td>\n      <td>República Mexicana</td>\n      <td>127792286</td>\n    </tr>\n    <tr>\n      <th>1</th>\n      <td>1</td>\n      <td>Aguascalientes</td>\n      <td>1434635</td>\n    </tr>\n    <tr>\n      <th>2</th>\n      <td>2</td>\n      <td>Baja California</td>\n      <td>3634868</td>\n    </tr>\n    <tr>\n      <th>3</th>\n      <td>3</td>\n      <td>Baja California Sur</td>\n      <td>804708</td>\n    </tr>\n    <tr>\n      <th>4</th>\n      <td>4</td>\n      <td>Campeche</td>\n      <td>1000617</td>\n    </tr>\n    <tr>\n      <th>5</th>\n      <td>5</td>\n      <td>Coahuila</td>\n      <td>3218720</td>\n    </tr>\n    <tr>\n      <th>6</th>\n      <td>6</td>\n      <td>Colima</td>\n      <td>785153</td>\n    </tr>\n    <tr>\n      <th>7</th>\n      <td>7</td>\n      <td>Chiapas</td>\n      <td>5730367</td>\n    </tr>\n    <tr>\n      <th>8</th>\n      <td>8</td>\n      <td>Chihuahua</td>\n      <td>3801487</td>\n    </tr>\n    <tr>\n      <th>9</th>\n      <td>9</td>\n      <td>Ciudad de México</td>\n      <td>9018645</td>\n    </tr>\n    <tr>\n      <th>10</th>\n      <td>10</td>\n      <td>Durango</td>\n      <td>1868996</td>\n    </tr>\n    <tr>\n      <th>11</th>\n      <td>11</td>\n      <td>Guanajuato</td>\n      <td>6228175</td>\n    </tr>\n    <tr>\n      <th>12</th>\n      <td>12</td>\n      <td>Guerrero</td>\n      <td>3657048</td>\n    </tr>\n    <tr>\n      <th>13</th>\n      <td>13</td>\n      <td>Hidalgo</td>\n      <td>3086414</td>\n    </tr>\n    <tr>\n      <th>14</th>\n      <td>14</td>\n      <td>Jalisco</td>\n      <td>8409693</td>\n    </tr>\n    <tr>\n      <th>15</th>\n      <td>15</td>\n      <td>México</td>\n      <td>17427790</td>\n    </tr>\n    <tr>\n      <th>16</th>\n      <td>16</td>\n      <td>Michoacán</td>\n      <td>4825401</td>\n    </tr>\n    <tr>\n      <th>17</th>\n      <td>17</td>\n      <td>Morelos</td>\n      <td>2044058</td>\n    </tr>\n    <tr>\n      <th>18</th>\n      <td>18</td>\n      <td>Nayarit</td>\n      <td>1288571</td>\n    </tr>\n    <tr>\n      <th>19</th>\n      <td>19</td>\n      <td>Nuevo León</td>\n      <td>5610153</td>\n    </tr>\n    <tr>\n      <th>20</th>\n      <td>20</td>\n      <td>Oaxaca</td>\n      <td>4143593</td>\n    </tr>\n    <tr>\n      <th>21</th>\n      <td>21</td>\n      <td>Puebla</td>\n      <td>6604451</td>\n    </tr>\n    <tr>\n      <th>22</th>\n      <td>22</td>\n      <td>Querétaro</td>\n      <td>2279637</td>\n    </tr>\n    <tr>\n      <th>23</th>\n      <td>23</td>\n      <td>Quintana Roo</td>\n      <td>1723259</td>\n    </tr>\n    <tr>\n      <th>24</th>\n      <td>24</td>\n      <td>San Luis Potosí</td>\n      <td>2866142</td>\n    </tr>\n    <tr>\n      <th>25</th>\n      <td>25</td>\n      <td>Sinaloa</td>\n      <td>3156674</td>\n    </tr>\n    <tr>\n      <th>26</th>\n      <td>26</td>\n      <td>Sonora</td>\n      <td>3074745</td>\n    </tr>\n    <tr>\n      <th>27</th>\n      <td>27</td>\n      <td>Tabasco</td>\n      <td>2572287</td>\n    </tr>\n    <tr>\n      <th>28</th>\n      <td>28</td>\n      <td>Tamaulipas</td>\n      <td>3650602</td>\n    </tr>\n    <tr>\n      <th>29</th>\n      <td>29</td>\n      <td>Tlaxcala</td>\n      <td>1380011</td>\n    </tr>\n    <tr>\n      <th>30</th>\n      <td>30</td>\n      <td>Veracruz</td>\n      <td>8539862</td>\n    </tr>\n    <tr>\n      <th>31</th>\n      <td>31</td>\n      <td>Yucatán</td>\n      <td>2259098</td>\n    </tr>\n    <tr>\n      <th>32</th>\n      <td>32</td>\n      <td>Zacatecas</td>\n      <td>1666426</td>\n    </tr>\n  </tbody>\n</table>\n</div>"
     },
     "metadata": {},
     "execution_count": 52
    }
   ],
   "source": [
    "poblacion_tot_estado"
   ]
  },
  {
   "cell_type": "code",
   "execution_count": 53,
   "metadata": {},
   "outputs": [
    {
     "output_type": "stream",
     "name": "stdout",
     "text": [
      "['Ciudad de México', 'México', 'Guanajuato', 'Nuevo León', 'Jalisco', 'Sonora', 'Coahuila', 'Puebla', 'Tabasco', 'Veracruz', 'San Luis Potosí', 'Tamaulipas', 'Baja California', 'Querétaro', 'Chihuahua', 'Michoacán', 'Oaxaca', 'Sinaloa', 'Hidalgo', 'Yucatán', 'Guerrero', 'Durango', 'Zacatecas', 'Baja California Sur', 'Aguascalientes', 'Quintana Roo', 'Morelos', 'Tlaxcala', 'Nayarit', 'Chiapas', 'Colima', 'Campeche']\n"
     ]
    }
   ],
   "source": [
    "lista_estados = list(datos_por_estado[\"ENTIDAD\"])\n",
    "print(lista_estados)"
   ]
  },
  {
   "cell_type": "code",
   "execution_count": 54,
   "metadata": {},
   "outputs": [
    {
     "output_type": "execute_result",
     "data": {
      "text/plain": [
       "    ENTIDAD_RES  Casos confirmados  CLAVE_ENTIDAD  \\\n",
       "0             9             409551              9   \n",
       "1             3              20907              3   \n",
       "2            27              49248             27   \n",
       "3            26              57748             26   \n",
       "4             5              55256              5   \n",
       "5            22              38615             22   \n",
       "6            19              94796             19   \n",
       "7            24              45363             24   \n",
       "8            11              95394             11   \n",
       "9            10              27119             10   \n",
       "10           32              23311             32   \n",
       "11            1              18519              1   \n",
       "12           31              28462             31   \n",
       "13           28              43753             28   \n",
       "14            6               8650              6   \n",
       "15            2              38784              2   \n",
       "16            8              38463              8   \n",
       "17           23              17143             23   \n",
       "18           15             169105             15   \n",
       "19           29              13299             29   \n",
       "20           13              28546             13   \n",
       "21           25              28907             25   \n",
       "22           21              54455             21   \n",
       "23           12              28257             12   \n",
       "24           16              36973             16   \n",
       "25           20              31596             20   \n",
       "26            4               7578              4   \n",
       "27           14              60907             14   \n",
       "28           17              14085             17   \n",
       "29           18               8859             18   \n",
       "30           30              47067             30   \n",
       "31            7               8786              7   \n",
       "\n",
       "                 ENTIDAD_FEDERATIVA ABREVIATURA  CVE_GEO              ENTIDAD  \\\n",
       "0                  CIUDAD DE MÉXICO          DF        9     Ciudad de México   \n",
       "1               BAJA CALIFORNIA SUR          BS        3  Baja California Sur   \n",
       "2                           TABASCO          TC       27              Tabasco   \n",
       "3                            SONORA          SR       26               Sonora   \n",
       "4              COAHUILA DE ZARAGOZA          CL        5             Coahuila   \n",
       "5                         QUERÉTARO          QT       22            Querétaro   \n",
       "6                        NUEVO LEÓN          NL       19           Nuevo León   \n",
       "7                   SAN LUIS POTOSÍ          SP       24      San Luis Potosí   \n",
       "8                        GUANAJUATO          GT       11           Guanajuato   \n",
       "9                           DURANGO          DG       10              Durango   \n",
       "10                        ZACATECAS          ZS       32            Zacatecas   \n",
       "11                   AGUASCALIENTES          AS        1       Aguascalientes   \n",
       "12                          YUCATÁN          YN       31              Yucatán   \n",
       "13                       TAMAULIPAS          TS       28           Tamaulipas   \n",
       "14                           COLIMA          CM        6               Colima   \n",
       "15                  BAJA CALIFORNIA          BC        2      Baja California   \n",
       "16                        CHIHUAHUA          CH        8            Chihuahua   \n",
       "17                     QUINTANA ROO          QR       23         Quintana Roo   \n",
       "18                           MÉXICO          MC       15               México   \n",
       "19                         TLAXCALA          TL       29             Tlaxcala   \n",
       "20                          HIDALGO          HG       13              Hidalgo   \n",
       "21                          SINALOA          SL       25              Sinaloa   \n",
       "22                           PUEBLA          PL       21               Puebla   \n",
       "23                         GUERRERO          GR       12             Guerrero   \n",
       "24              MICHOACÁN DE OCAMPO          MN       16            Michoacán   \n",
       "25                           OAXACA          OC       20               Oaxaca   \n",
       "26                         CAMPECHE          CC        4             Campeche   \n",
       "27                          JALISCO          JC       14              Jalisco   \n",
       "28                          MORELOS          MS       17              Morelos   \n",
       "29                          NAYARIT          NT       18              Nayarit   \n",
       "30  VERACRUZ DE IGNACIO DE LA LLAVE          VZ       30             Veracruz   \n",
       "31                          CHIAPAS          CS        7              Chiapas   \n",
       "\n",
       "    POBLACION  TASA DE CASOS POR 100K  \n",
       "0     9018645             4541.158899  \n",
       "1      804708             2598.085268  \n",
       "2     2572287             1914.560856  \n",
       "3     3074745             1878.139488  \n",
       "4     3218720             1716.707263  \n",
       "5     2279637             1693.910039  \n",
       "6     5610153             1689.722188  \n",
       "7     2866142             1582.719907  \n",
       "8     6228175             1531.652531  \n",
       "9     1868996             1450.992940  \n",
       "10    1666426             1398.861996  \n",
       "11    1434635             1290.850983  \n",
       "12    2259098             1259.883369  \n",
       "13    3650602             1198.514656  \n",
       "14     785153             1101.696103  \n",
       "15    3634868             1066.998857  \n",
       "16    3801487             1011.788282  \n",
       "17    1723259              994.801130  \n",
       "18   17427790              970.318095  \n",
       "19    1380011              963.687971  \n",
       "20    3086414              924.892124  \n",
       "21    3156674              915.742329  \n",
       "22    6604451              824.519706  \n",
       "23    3657048              772.672385  \n",
       "24    4825401              766.216113  \n",
       "25    4143593              762.526628  \n",
       "26    1000617              757.332726  \n",
       "27    8409693              724.247603  \n",
       "28    2044058              689.070467  \n",
       "29    1288571              687.505772  \n",
       "30    8539862              551.144737  \n",
       "31    5730367              153.323513  "
      ],
      "text/html": "<div>\n<style scoped>\n    .dataframe tbody tr th:only-of-type {\n        vertical-align: middle;\n    }\n\n    .dataframe tbody tr th {\n        vertical-align: top;\n    }\n\n    .dataframe thead th {\n        text-align: right;\n    }\n</style>\n<table border=\"1\" class=\"dataframe\">\n  <thead>\n    <tr style=\"text-align: right;\">\n      <th></th>\n      <th>ENTIDAD_RES</th>\n      <th>Casos confirmados</th>\n      <th>CLAVE_ENTIDAD</th>\n      <th>ENTIDAD_FEDERATIVA</th>\n      <th>ABREVIATURA</th>\n      <th>CVE_GEO</th>\n      <th>ENTIDAD</th>\n      <th>POBLACION</th>\n      <th>TASA DE CASOS POR 100K</th>\n    </tr>\n  </thead>\n  <tbody>\n    <tr>\n      <th>0</th>\n      <td>9</td>\n      <td>409551</td>\n      <td>9</td>\n      <td>CIUDAD DE MÉXICO</td>\n      <td>DF</td>\n      <td>9</td>\n      <td>Ciudad de México</td>\n      <td>9018645</td>\n      <td>4541.158899</td>\n    </tr>\n    <tr>\n      <th>1</th>\n      <td>3</td>\n      <td>20907</td>\n      <td>3</td>\n      <td>BAJA CALIFORNIA SUR</td>\n      <td>BS</td>\n      <td>3</td>\n      <td>Baja California Sur</td>\n      <td>804708</td>\n      <td>2598.085268</td>\n    </tr>\n    <tr>\n      <th>2</th>\n      <td>27</td>\n      <td>49248</td>\n      <td>27</td>\n      <td>TABASCO</td>\n      <td>TC</td>\n      <td>27</td>\n      <td>Tabasco</td>\n      <td>2572287</td>\n      <td>1914.560856</td>\n    </tr>\n    <tr>\n      <th>3</th>\n      <td>26</td>\n      <td>57748</td>\n      <td>26</td>\n      <td>SONORA</td>\n      <td>SR</td>\n      <td>26</td>\n      <td>Sonora</td>\n      <td>3074745</td>\n      <td>1878.139488</td>\n    </tr>\n    <tr>\n      <th>4</th>\n      <td>5</td>\n      <td>55256</td>\n      <td>5</td>\n      <td>COAHUILA DE ZARAGOZA</td>\n      <td>CL</td>\n      <td>5</td>\n      <td>Coahuila</td>\n      <td>3218720</td>\n      <td>1716.707263</td>\n    </tr>\n    <tr>\n      <th>5</th>\n      <td>22</td>\n      <td>38615</td>\n      <td>22</td>\n      <td>QUERÉTARO</td>\n      <td>QT</td>\n      <td>22</td>\n      <td>Querétaro</td>\n      <td>2279637</td>\n      <td>1693.910039</td>\n    </tr>\n    <tr>\n      <th>6</th>\n      <td>19</td>\n      <td>94796</td>\n      <td>19</td>\n      <td>NUEVO LEÓN</td>\n      <td>NL</td>\n      <td>19</td>\n      <td>Nuevo León</td>\n      <td>5610153</td>\n      <td>1689.722188</td>\n    </tr>\n    <tr>\n      <th>7</th>\n      <td>24</td>\n      <td>45363</td>\n      <td>24</td>\n      <td>SAN LUIS POTOSÍ</td>\n      <td>SP</td>\n      <td>24</td>\n      <td>San Luis Potosí</td>\n      <td>2866142</td>\n      <td>1582.719907</td>\n    </tr>\n    <tr>\n      <th>8</th>\n      <td>11</td>\n      <td>95394</td>\n      <td>11</td>\n      <td>GUANAJUATO</td>\n      <td>GT</td>\n      <td>11</td>\n      <td>Guanajuato</td>\n      <td>6228175</td>\n      <td>1531.652531</td>\n    </tr>\n    <tr>\n      <th>9</th>\n      <td>10</td>\n      <td>27119</td>\n      <td>10</td>\n      <td>DURANGO</td>\n      <td>DG</td>\n      <td>10</td>\n      <td>Durango</td>\n      <td>1868996</td>\n      <td>1450.992940</td>\n    </tr>\n    <tr>\n      <th>10</th>\n      <td>32</td>\n      <td>23311</td>\n      <td>32</td>\n      <td>ZACATECAS</td>\n      <td>ZS</td>\n      <td>32</td>\n      <td>Zacatecas</td>\n      <td>1666426</td>\n      <td>1398.861996</td>\n    </tr>\n    <tr>\n      <th>11</th>\n      <td>1</td>\n      <td>18519</td>\n      <td>1</td>\n      <td>AGUASCALIENTES</td>\n      <td>AS</td>\n      <td>1</td>\n      <td>Aguascalientes</td>\n      <td>1434635</td>\n      <td>1290.850983</td>\n    </tr>\n    <tr>\n      <th>12</th>\n      <td>31</td>\n      <td>28462</td>\n      <td>31</td>\n      <td>YUCATÁN</td>\n      <td>YN</td>\n      <td>31</td>\n      <td>Yucatán</td>\n      <td>2259098</td>\n      <td>1259.883369</td>\n    </tr>\n    <tr>\n      <th>13</th>\n      <td>28</td>\n      <td>43753</td>\n      <td>28</td>\n      <td>TAMAULIPAS</td>\n      <td>TS</td>\n      <td>28</td>\n      <td>Tamaulipas</td>\n      <td>3650602</td>\n      <td>1198.514656</td>\n    </tr>\n    <tr>\n      <th>14</th>\n      <td>6</td>\n      <td>8650</td>\n      <td>6</td>\n      <td>COLIMA</td>\n      <td>CM</td>\n      <td>6</td>\n      <td>Colima</td>\n      <td>785153</td>\n      <td>1101.696103</td>\n    </tr>\n    <tr>\n      <th>15</th>\n      <td>2</td>\n      <td>38784</td>\n      <td>2</td>\n      <td>BAJA CALIFORNIA</td>\n      <td>BC</td>\n      <td>2</td>\n      <td>Baja California</td>\n      <td>3634868</td>\n      <td>1066.998857</td>\n    </tr>\n    <tr>\n      <th>16</th>\n      <td>8</td>\n      <td>38463</td>\n      <td>8</td>\n      <td>CHIHUAHUA</td>\n      <td>CH</td>\n      <td>8</td>\n      <td>Chihuahua</td>\n      <td>3801487</td>\n      <td>1011.788282</td>\n    </tr>\n    <tr>\n      <th>17</th>\n      <td>23</td>\n      <td>17143</td>\n      <td>23</td>\n      <td>QUINTANA ROO</td>\n      <td>QR</td>\n      <td>23</td>\n      <td>Quintana Roo</td>\n      <td>1723259</td>\n      <td>994.801130</td>\n    </tr>\n    <tr>\n      <th>18</th>\n      <td>15</td>\n      <td>169105</td>\n      <td>15</td>\n      <td>MÉXICO</td>\n      <td>MC</td>\n      <td>15</td>\n      <td>México</td>\n      <td>17427790</td>\n      <td>970.318095</td>\n    </tr>\n    <tr>\n      <th>19</th>\n      <td>29</td>\n      <td>13299</td>\n      <td>29</td>\n      <td>TLAXCALA</td>\n      <td>TL</td>\n      <td>29</td>\n      <td>Tlaxcala</td>\n      <td>1380011</td>\n      <td>963.687971</td>\n    </tr>\n    <tr>\n      <th>20</th>\n      <td>13</td>\n      <td>28546</td>\n      <td>13</td>\n      <td>HIDALGO</td>\n      <td>HG</td>\n      <td>13</td>\n      <td>Hidalgo</td>\n      <td>3086414</td>\n      <td>924.892124</td>\n    </tr>\n    <tr>\n      <th>21</th>\n      <td>25</td>\n      <td>28907</td>\n      <td>25</td>\n      <td>SINALOA</td>\n      <td>SL</td>\n      <td>25</td>\n      <td>Sinaloa</td>\n      <td>3156674</td>\n      <td>915.742329</td>\n    </tr>\n    <tr>\n      <th>22</th>\n      <td>21</td>\n      <td>54455</td>\n      <td>21</td>\n      <td>PUEBLA</td>\n      <td>PL</td>\n      <td>21</td>\n      <td>Puebla</td>\n      <td>6604451</td>\n      <td>824.519706</td>\n    </tr>\n    <tr>\n      <th>23</th>\n      <td>12</td>\n      <td>28257</td>\n      <td>12</td>\n      <td>GUERRERO</td>\n      <td>GR</td>\n      <td>12</td>\n      <td>Guerrero</td>\n      <td>3657048</td>\n      <td>772.672385</td>\n    </tr>\n    <tr>\n      <th>24</th>\n      <td>16</td>\n      <td>36973</td>\n      <td>16</td>\n      <td>MICHOACÁN DE OCAMPO</td>\n      <td>MN</td>\n      <td>16</td>\n      <td>Michoacán</td>\n      <td>4825401</td>\n      <td>766.216113</td>\n    </tr>\n    <tr>\n      <th>25</th>\n      <td>20</td>\n      <td>31596</td>\n      <td>20</td>\n      <td>OAXACA</td>\n      <td>OC</td>\n      <td>20</td>\n      <td>Oaxaca</td>\n      <td>4143593</td>\n      <td>762.526628</td>\n    </tr>\n    <tr>\n      <th>26</th>\n      <td>4</td>\n      <td>7578</td>\n      <td>4</td>\n      <td>CAMPECHE</td>\n      <td>CC</td>\n      <td>4</td>\n      <td>Campeche</td>\n      <td>1000617</td>\n      <td>757.332726</td>\n    </tr>\n    <tr>\n      <th>27</th>\n      <td>14</td>\n      <td>60907</td>\n      <td>14</td>\n      <td>JALISCO</td>\n      <td>JC</td>\n      <td>14</td>\n      <td>Jalisco</td>\n      <td>8409693</td>\n      <td>724.247603</td>\n    </tr>\n    <tr>\n      <th>28</th>\n      <td>17</td>\n      <td>14085</td>\n      <td>17</td>\n      <td>MORELOS</td>\n      <td>MS</td>\n      <td>17</td>\n      <td>Morelos</td>\n      <td>2044058</td>\n      <td>689.070467</td>\n    </tr>\n    <tr>\n      <th>29</th>\n      <td>18</td>\n      <td>8859</td>\n      <td>18</td>\n      <td>NAYARIT</td>\n      <td>NT</td>\n      <td>18</td>\n      <td>Nayarit</td>\n      <td>1288571</td>\n      <td>687.505772</td>\n    </tr>\n    <tr>\n      <th>30</th>\n      <td>30</td>\n      <td>47067</td>\n      <td>30</td>\n      <td>VERACRUZ DE IGNACIO DE LA LLAVE</td>\n      <td>VZ</td>\n      <td>30</td>\n      <td>Veracruz</td>\n      <td>8539862</td>\n      <td>551.144737</td>\n    </tr>\n    <tr>\n      <th>31</th>\n      <td>7</td>\n      <td>8786</td>\n      <td>7</td>\n      <td>CHIAPAS</td>\n      <td>CS</td>\n      <td>7</td>\n      <td>Chiapas</td>\n      <td>5730367</td>\n      <td>153.323513</td>\n    </tr>\n  </tbody>\n</table>\n</div>"
     },
     "metadata": {},
     "execution_count": 54
    }
   ],
   "source": [
    "#Datos por estado a CSV .....\n",
    "datos_por_estado.to_csv(\"C:/Users/user/Documents/Python Scripts/dataAnalysis/covid19_dashboard/processed_data/poblaciones_casos_por_estado.csv\",\n",
    "                                            encoding=\"latin1\", index=False)\n",
    "# Rate of confirmed case by 100,000 people \n",
    "datos_por_estado[\"TASA DE CASOS POR 100K\"] = 100000 * datos_por_estado[\"Casos confirmados\"]/datos_por_estado[\"POBLACION\"]\n",
    "datos_por_estado.sort_values(\"TASA DE CASOS POR 100K\", ascending = False, inplace = True)\n",
    "datos_por_estado.reset_index(drop = True, inplace = True)\n",
    "\n",
    "datos_por_estado"
   ]
  },
  {
   "cell_type": "code",
   "execution_count": 55,
   "metadata": {},
   "outputs": [
    {
     "output_type": "display_data",
     "data": {
      "application/vnd.plotly.v1+json": {
       "config": {
        "plotlyServerURL": "https://plot.ly"
       },
       "data": [
        {
         "alignmentgroup": "True",
         "hovertemplate": "=%{x}<br>Casos confirmados / 100k personas=%{y}<extra></extra>",
         "legendgroup": "",
         "marker": {
          "color": "#ff616f"
         },
         "name": "",
         "offsetgroup": "",
         "orientation": "v",
         "showlegend": false,
         "textposition": "auto",
         "type": "bar",
         "x": [
          "Ciudad de México",
          "Baja California Sur",
          "Tabasco",
          "Sonora",
          "Coahuila",
          "Querétaro",
          "Nuevo León",
          "San Luis Potosí",
          "Guanajuato",
          "Durango",
          "Zacatecas",
          "Aguascalientes",
          "Yucatán",
          "Tamaulipas",
          "Colima",
          "Baja California",
          "Chihuahua",
          "Quintana Roo",
          "México",
          "Tlaxcala",
          "Hidalgo",
          "Sinaloa",
          "Puebla",
          "Guerrero",
          "Michoacán",
          "Oaxaca",
          "Campeche",
          "Jalisco",
          "Morelos",
          "Nayarit",
          "Veracruz",
          "Chiapas"
         ],
         "xaxis": "x",
         "y": [
          4541.158899147266,
          2598.0852681966626,
          1914.5608557676496,
          1878.139487990061,
          1716.7072625142914,
          1693.9100391860634,
          1689.7221876123522,
          1582.7199071085802,
          1531.6525306369842,
          1450.9929395247502,
          1398.861995672175,
          1290.8509830026453,
          1259.8833693801685,
          1198.5146559389384,
          1101.6961025430712,
          1066.9988566297318,
          1011.7882817960445,
          994.8011297199087,
          970.3180954096877,
          963.6879706031328,
          924.8921239989191,
          915.7423287929004,
          824.5197064827947,
          772.6723849399843,
          766.2161134380334,
          762.5266284598897,
          757.3327257082381,
          724.247603331061,
          689.0704666893014,
          687.5057718977068,
          551.1447374676546,
          153.32351313624415
         ],
         "yaxis": "y"
        }
       ],
       "layout": {
        "barmode": "relative",
        "legend": {
         "tracegroupgap": 0
        },
        "template": {
         "data": {
          "bar": [
           {
            "error_x": {
             "color": "#2a3f5f"
            },
            "error_y": {
             "color": "#2a3f5f"
            },
            "marker": {
             "line": {
              "color": "white",
              "width": 0.5
             }
            },
            "type": "bar"
           }
          ],
          "barpolar": [
           {
            "marker": {
             "line": {
              "color": "white",
              "width": 0.5
             }
            },
            "type": "barpolar"
           }
          ],
          "carpet": [
           {
            "aaxis": {
             "endlinecolor": "#2a3f5f",
             "gridcolor": "#C8D4E3",
             "linecolor": "#C8D4E3",
             "minorgridcolor": "#C8D4E3",
             "startlinecolor": "#2a3f5f"
            },
            "baxis": {
             "endlinecolor": "#2a3f5f",
             "gridcolor": "#C8D4E3",
             "linecolor": "#C8D4E3",
             "minorgridcolor": "#C8D4E3",
             "startlinecolor": "#2a3f5f"
            },
            "type": "carpet"
           }
          ],
          "choropleth": [
           {
            "colorbar": {
             "outlinewidth": 0,
             "ticks": ""
            },
            "type": "choropleth"
           }
          ],
          "contour": [
           {
            "colorbar": {
             "outlinewidth": 0,
             "ticks": ""
            },
            "colorscale": [
             [
              0,
              "#0d0887"
             ],
             [
              0.1111111111111111,
              "#46039f"
             ],
             [
              0.2222222222222222,
              "#7201a8"
             ],
             [
              0.3333333333333333,
              "#9c179e"
             ],
             [
              0.4444444444444444,
              "#bd3786"
             ],
             [
              0.5555555555555556,
              "#d8576b"
             ],
             [
              0.6666666666666666,
              "#ed7953"
             ],
             [
              0.7777777777777778,
              "#fb9f3a"
             ],
             [
              0.8888888888888888,
              "#fdca26"
             ],
             [
              1,
              "#f0f921"
             ]
            ],
            "type": "contour"
           }
          ],
          "contourcarpet": [
           {
            "colorbar": {
             "outlinewidth": 0,
             "ticks": ""
            },
            "type": "contourcarpet"
           }
          ],
          "heatmap": [
           {
            "colorbar": {
             "outlinewidth": 0,
             "ticks": ""
            },
            "colorscale": [
             [
              0,
              "#0d0887"
             ],
             [
              0.1111111111111111,
              "#46039f"
             ],
             [
              0.2222222222222222,
              "#7201a8"
             ],
             [
              0.3333333333333333,
              "#9c179e"
             ],
             [
              0.4444444444444444,
              "#bd3786"
             ],
             [
              0.5555555555555556,
              "#d8576b"
             ],
             [
              0.6666666666666666,
              "#ed7953"
             ],
             [
              0.7777777777777778,
              "#fb9f3a"
             ],
             [
              0.8888888888888888,
              "#fdca26"
             ],
             [
              1,
              "#f0f921"
             ]
            ],
            "type": "heatmap"
           }
          ],
          "heatmapgl": [
           {
            "colorbar": {
             "outlinewidth": 0,
             "ticks": ""
            },
            "colorscale": [
             [
              0,
              "#0d0887"
             ],
             [
              0.1111111111111111,
              "#46039f"
             ],
             [
              0.2222222222222222,
              "#7201a8"
             ],
             [
              0.3333333333333333,
              "#9c179e"
             ],
             [
              0.4444444444444444,
              "#bd3786"
             ],
             [
              0.5555555555555556,
              "#d8576b"
             ],
             [
              0.6666666666666666,
              "#ed7953"
             ],
             [
              0.7777777777777778,
              "#fb9f3a"
             ],
             [
              0.8888888888888888,
              "#fdca26"
             ],
             [
              1,
              "#f0f921"
             ]
            ],
            "type": "heatmapgl"
           }
          ],
          "histogram": [
           {
            "marker": {
             "colorbar": {
              "outlinewidth": 0,
              "ticks": ""
             }
            },
            "type": "histogram"
           }
          ],
          "histogram2d": [
           {
            "colorbar": {
             "outlinewidth": 0,
             "ticks": ""
            },
            "colorscale": [
             [
              0,
              "#0d0887"
             ],
             [
              0.1111111111111111,
              "#46039f"
             ],
             [
              0.2222222222222222,
              "#7201a8"
             ],
             [
              0.3333333333333333,
              "#9c179e"
             ],
             [
              0.4444444444444444,
              "#bd3786"
             ],
             [
              0.5555555555555556,
              "#d8576b"
             ],
             [
              0.6666666666666666,
              "#ed7953"
             ],
             [
              0.7777777777777778,
              "#fb9f3a"
             ],
             [
              0.8888888888888888,
              "#fdca26"
             ],
             [
              1,
              "#f0f921"
             ]
            ],
            "type": "histogram2d"
           }
          ],
          "histogram2dcontour": [
           {
            "colorbar": {
             "outlinewidth": 0,
             "ticks": ""
            },
            "colorscale": [
             [
              0,
              "#0d0887"
             ],
             [
              0.1111111111111111,
              "#46039f"
             ],
             [
              0.2222222222222222,
              "#7201a8"
             ],
             [
              0.3333333333333333,
              "#9c179e"
             ],
             [
              0.4444444444444444,
              "#bd3786"
             ],
             [
              0.5555555555555556,
              "#d8576b"
             ],
             [
              0.6666666666666666,
              "#ed7953"
             ],
             [
              0.7777777777777778,
              "#fb9f3a"
             ],
             [
              0.8888888888888888,
              "#fdca26"
             ],
             [
              1,
              "#f0f921"
             ]
            ],
            "type": "histogram2dcontour"
           }
          ],
          "mesh3d": [
           {
            "colorbar": {
             "outlinewidth": 0,
             "ticks": ""
            },
            "type": "mesh3d"
           }
          ],
          "parcoords": [
           {
            "line": {
             "colorbar": {
              "outlinewidth": 0,
              "ticks": ""
             }
            },
            "type": "parcoords"
           }
          ],
          "pie": [
           {
            "automargin": true,
            "type": "pie"
           }
          ],
          "scatter": [
           {
            "marker": {
             "colorbar": {
              "outlinewidth": 0,
              "ticks": ""
             }
            },
            "type": "scatter"
           }
          ],
          "scatter3d": [
           {
            "line": {
             "colorbar": {
              "outlinewidth": 0,
              "ticks": ""
             }
            },
            "marker": {
             "colorbar": {
              "outlinewidth": 0,
              "ticks": ""
             }
            },
            "type": "scatter3d"
           }
          ],
          "scattercarpet": [
           {
            "marker": {
             "colorbar": {
              "outlinewidth": 0,
              "ticks": ""
             }
            },
            "type": "scattercarpet"
           }
          ],
          "scattergeo": [
           {
            "marker": {
             "colorbar": {
              "outlinewidth": 0,
              "ticks": ""
             }
            },
            "type": "scattergeo"
           }
          ],
          "scattergl": [
           {
            "marker": {
             "colorbar": {
              "outlinewidth": 0,
              "ticks": ""
             }
            },
            "type": "scattergl"
           }
          ],
          "scattermapbox": [
           {
            "marker": {
             "colorbar": {
              "outlinewidth": 0,
              "ticks": ""
             }
            },
            "type": "scattermapbox"
           }
          ],
          "scatterpolar": [
           {
            "marker": {
             "colorbar": {
              "outlinewidth": 0,
              "ticks": ""
             }
            },
            "type": "scatterpolar"
           }
          ],
          "scatterpolargl": [
           {
            "marker": {
             "colorbar": {
              "outlinewidth": 0,
              "ticks": ""
             }
            },
            "type": "scatterpolargl"
           }
          ],
          "scatterternary": [
           {
            "marker": {
             "colorbar": {
              "outlinewidth": 0,
              "ticks": ""
             }
            },
            "type": "scatterternary"
           }
          ],
          "surface": [
           {
            "colorbar": {
             "outlinewidth": 0,
             "ticks": ""
            },
            "colorscale": [
             [
              0,
              "#0d0887"
             ],
             [
              0.1111111111111111,
              "#46039f"
             ],
             [
              0.2222222222222222,
              "#7201a8"
             ],
             [
              0.3333333333333333,
              "#9c179e"
             ],
             [
              0.4444444444444444,
              "#bd3786"
             ],
             [
              0.5555555555555556,
              "#d8576b"
             ],
             [
              0.6666666666666666,
              "#ed7953"
             ],
             [
              0.7777777777777778,
              "#fb9f3a"
             ],
             [
              0.8888888888888888,
              "#fdca26"
             ],
             [
              1,
              "#f0f921"
             ]
            ],
            "type": "surface"
           }
          ],
          "table": [
           {
            "cells": {
             "fill": {
              "color": "#EBF0F8"
             },
             "line": {
              "color": "white"
             }
            },
            "header": {
             "fill": {
              "color": "#C8D4E3"
             },
             "line": {
              "color": "white"
             }
            },
            "type": "table"
           }
          ]
         },
         "layout": {
          "annotationdefaults": {
           "arrowcolor": "#2a3f5f",
           "arrowhead": 0,
           "arrowwidth": 1
          },
          "coloraxis": {
           "colorbar": {
            "outlinewidth": 0,
            "ticks": ""
           }
          },
          "colorscale": {
           "diverging": [
            [
             0,
             "#8e0152"
            ],
            [
             0.1,
             "#c51b7d"
            ],
            [
             0.2,
             "#de77ae"
            ],
            [
             0.3,
             "#f1b6da"
            ],
            [
             0.4,
             "#fde0ef"
            ],
            [
             0.5,
             "#f7f7f7"
            ],
            [
             0.6,
             "#e6f5d0"
            ],
            [
             0.7,
             "#b8e186"
            ],
            [
             0.8,
             "#7fbc41"
            ],
            [
             0.9,
             "#4d9221"
            ],
            [
             1,
             "#276419"
            ]
           ],
           "sequential": [
            [
             0,
             "#0d0887"
            ],
            [
             0.1111111111111111,
             "#46039f"
            ],
            [
             0.2222222222222222,
             "#7201a8"
            ],
            [
             0.3333333333333333,
             "#9c179e"
            ],
            [
             0.4444444444444444,
             "#bd3786"
            ],
            [
             0.5555555555555556,
             "#d8576b"
            ],
            [
             0.6666666666666666,
             "#ed7953"
            ],
            [
             0.7777777777777778,
             "#fb9f3a"
            ],
            [
             0.8888888888888888,
             "#fdca26"
            ],
            [
             1,
             "#f0f921"
            ]
           ],
           "sequentialminus": [
            [
             0,
             "#0d0887"
            ],
            [
             0.1111111111111111,
             "#46039f"
            ],
            [
             0.2222222222222222,
             "#7201a8"
            ],
            [
             0.3333333333333333,
             "#9c179e"
            ],
            [
             0.4444444444444444,
             "#bd3786"
            ],
            [
             0.5555555555555556,
             "#d8576b"
            ],
            [
             0.6666666666666666,
             "#ed7953"
            ],
            [
             0.7777777777777778,
             "#fb9f3a"
            ],
            [
             0.8888888888888888,
             "#fdca26"
            ],
            [
             1,
             "#f0f921"
            ]
           ]
          },
          "colorway": [
           "#636efa",
           "#EF553B",
           "#00cc96",
           "#ab63fa",
           "#FFA15A",
           "#19d3f3",
           "#FF6692",
           "#B6E880",
           "#FF97FF",
           "#FECB52"
          ],
          "font": {
           "color": "#2a3f5f"
          },
          "geo": {
           "bgcolor": "white",
           "lakecolor": "white",
           "landcolor": "white",
           "showlakes": true,
           "showland": true,
           "subunitcolor": "#C8D4E3"
          },
          "hoverlabel": {
           "align": "left"
          },
          "hovermode": "closest",
          "mapbox": {
           "style": "light"
          },
          "paper_bgcolor": "white",
          "plot_bgcolor": "white",
          "polar": {
           "angularaxis": {
            "gridcolor": "#EBF0F8",
            "linecolor": "#EBF0F8",
            "ticks": ""
           },
           "bgcolor": "white",
           "radialaxis": {
            "gridcolor": "#EBF0F8",
            "linecolor": "#EBF0F8",
            "ticks": ""
           }
          },
          "scene": {
           "xaxis": {
            "backgroundcolor": "white",
            "gridcolor": "#DFE8F3",
            "gridwidth": 2,
            "linecolor": "#EBF0F8",
            "showbackground": true,
            "ticks": "",
            "zerolinecolor": "#EBF0F8"
           },
           "yaxis": {
            "backgroundcolor": "white",
            "gridcolor": "#DFE8F3",
            "gridwidth": 2,
            "linecolor": "#EBF0F8",
            "showbackground": true,
            "ticks": "",
            "zerolinecolor": "#EBF0F8"
           },
           "zaxis": {
            "backgroundcolor": "white",
            "gridcolor": "#DFE8F3",
            "gridwidth": 2,
            "linecolor": "#EBF0F8",
            "showbackground": true,
            "ticks": "",
            "zerolinecolor": "#EBF0F8"
           }
          },
          "shapedefaults": {
           "line": {
            "color": "#2a3f5f"
           }
          },
          "ternary": {
           "aaxis": {
            "gridcolor": "#DFE8F3",
            "linecolor": "#A2B1C6",
            "ticks": ""
           },
           "baxis": {
            "gridcolor": "#DFE8F3",
            "linecolor": "#A2B1C6",
            "ticks": ""
           },
           "bgcolor": "white",
           "caxis": {
            "gridcolor": "#DFE8F3",
            "linecolor": "#A2B1C6",
            "ticks": ""
           }
          },
          "title": {
           "x": 0.05
          },
          "xaxis": {
           "automargin": true,
           "gridcolor": "#EBF0F8",
           "linecolor": "#EBF0F8",
           "ticks": "",
           "title": {
            "standoff": 15
           },
           "zerolinecolor": "#EBF0F8",
           "zerolinewidth": 2
          },
          "yaxis": {
           "automargin": true,
           "gridcolor": "#EBF0F8",
           "linecolor": "#EBF0F8",
           "ticks": "",
           "title": {
            "standoff": 15
           },
           "zerolinecolor": "#EBF0F8",
           "zerolinewidth": 2
          }
         }
        },
        "title": {
         "text": "Tasa de casos confirmados por cada 100,000 personas"
        },
        "xaxis": {
         "anchor": "y",
         "domain": [
          0,
          1
         ],
         "title": {
          "text": ""
         }
        },
        "yaxis": {
         "anchor": "x",
         "domain": [
          0,
          1
         ],
         "title": {
          "text": "Casos confirmados / 100k personas"
         }
        }
       }
      }
     },
     "metadata": {}
    }
   ],
   "source": [
    "# Bar plot of the rate of confirmed cases per 100k persons \n",
    "fig_bar_cases_rate = px.bar(x = datos_por_estado[\"ENTIDAD\"], y = datos_por_estado[\"TASA DE CASOS POR 100K\"],\n",
    "                            labels = dict(y = \"Casos confirmados / 100k personas\" , x = \"\") ,title = \"Tasa de casos confirmados por cada 100,000 personas\")\n",
    "\n",
    "\n",
    "fig_bar_cases_rate.update_traces(marker = dict(color = \"#ff616f\"))\n",
    "#fig_bar_cases_rate.update_xaxes(tickfont = dict(size = 11))\n",
    "fig_bar_cases_rate.show()"
   ]
  },
  {
   "cell_type": "code",
   "execution_count": 56,
   "metadata": {},
   "outputs": [
    {
     "output_type": "execute_result",
     "data": {
      "text/plain": [
       "      ENTIDAD_RES FECHA_INGRESO  confirmados fecha_ingreso\n",
       "0               1    2020-02-20            1    2020-02-20\n",
       "1               1    2020-03-14            1    2020-03-14\n",
       "2               1    2020-03-17            1    2020-03-17\n",
       "3               1    2020-03-18            3    2020-03-18\n",
       "4               1    2020-03-19            1    2020-03-19\n",
       "...           ...           ...          ...           ...\n",
       "9765           32    2021-01-13          145    2021-01-13\n",
       "9766           32    2021-01-14          148    2021-01-14\n",
       "9767           32    2021-01-15          104    2021-01-15\n",
       "9768           32    2021-01-16           14    2021-01-16\n",
       "9769           32    2021-01-17           22    2021-01-17\n",
       "\n",
       "[9770 rows x 4 columns]"
      ],
      "text/html": "<div>\n<style scoped>\n    .dataframe tbody tr th:only-of-type {\n        vertical-align: middle;\n    }\n\n    .dataframe tbody tr th {\n        vertical-align: top;\n    }\n\n    .dataframe thead th {\n        text-align: right;\n    }\n</style>\n<table border=\"1\" class=\"dataframe\">\n  <thead>\n    <tr style=\"text-align: right;\">\n      <th></th>\n      <th>ENTIDAD_RES</th>\n      <th>FECHA_INGRESO</th>\n      <th>confirmados</th>\n      <th>fecha_ingreso</th>\n    </tr>\n  </thead>\n  <tbody>\n    <tr>\n      <th>0</th>\n      <td>1</td>\n      <td>2020-02-20</td>\n      <td>1</td>\n      <td>2020-02-20</td>\n    </tr>\n    <tr>\n      <th>1</th>\n      <td>1</td>\n      <td>2020-03-14</td>\n      <td>1</td>\n      <td>2020-03-14</td>\n    </tr>\n    <tr>\n      <th>2</th>\n      <td>1</td>\n      <td>2020-03-17</td>\n      <td>1</td>\n      <td>2020-03-17</td>\n    </tr>\n    <tr>\n      <th>3</th>\n      <td>1</td>\n      <td>2020-03-18</td>\n      <td>3</td>\n      <td>2020-03-18</td>\n    </tr>\n    <tr>\n      <th>4</th>\n      <td>1</td>\n      <td>2020-03-19</td>\n      <td>1</td>\n      <td>2020-03-19</td>\n    </tr>\n    <tr>\n      <th>...</th>\n      <td>...</td>\n      <td>...</td>\n      <td>...</td>\n      <td>...</td>\n    </tr>\n    <tr>\n      <th>9765</th>\n      <td>32</td>\n      <td>2021-01-13</td>\n      <td>145</td>\n      <td>2021-01-13</td>\n    </tr>\n    <tr>\n      <th>9766</th>\n      <td>32</td>\n      <td>2021-01-14</td>\n      <td>148</td>\n      <td>2021-01-14</td>\n    </tr>\n    <tr>\n      <th>9767</th>\n      <td>32</td>\n      <td>2021-01-15</td>\n      <td>104</td>\n      <td>2021-01-15</td>\n    </tr>\n    <tr>\n      <th>9768</th>\n      <td>32</td>\n      <td>2021-01-16</td>\n      <td>14</td>\n      <td>2021-01-16</td>\n    </tr>\n    <tr>\n      <th>9769</th>\n      <td>32</td>\n      <td>2021-01-17</td>\n      <td>22</td>\n      <td>2021-01-17</td>\n    </tr>\n  </tbody>\n</table>\n<p>9770 rows × 4 columns</p>\n</div>"
     },
     "metadata": {},
     "execution_count": 56
    }
   ],
   "source": [
    "# Grouping by state ENTIDAD_RES and FECHA_INGRESO\n",
    "confirmados_por_estado_fecha = confirmados.groupby([\"ENTIDAD_RES\",\"FECHA_INGRESO\"]).size().to_frame(\"confirmados\").reset_index()\n",
    "#Confirmados por estado a CSV .....\n",
    "confirmados_por_estado_fecha.to_csv(\"C:/Users/user/Documents/Python Scripts/dataAnalysis/covid19_dashboard/processed_data/confirmados_por_estado.csv\", encoding=\"latin1\",                                                   index=False)\n",
    "confirmados_por_estado_fecha[\"fecha_ingreso\"] = pd.to_datetime(confirmados_por_estado_fecha[\"FECHA_INGRESO\"], format = \"%Y-%m-%d\")\n",
    "\n",
    "\n",
    "confirmados_por_estado_fecha"
   ]
  },
  {
   "cell_type": "code",
   "execution_count": 57,
   "metadata": {},
   "outputs": [
    {
     "output_type": "execute_result",
     "data": {
      "text/plain": [
       "      ENTIDAD_RES   FECHA_DEF  defunciones fecha_defuncion\n",
       "0               1  2020-04-10            1      2020-04-10\n",
       "1               1  2020-04-13            1      2020-04-13\n",
       "2               1  2020-04-17            1      2020-04-17\n",
       "3               1  2020-04-19            1      2020-04-19\n",
       "4               1  2020-04-22            1      2020-04-22\n",
       "...           ...         ...          ...             ...\n",
       "8677           32  2021-01-13           10      2021-01-13\n",
       "8678           32  2021-01-14            7      2021-01-14\n",
       "8679           32  2021-01-15            5      2021-01-15\n",
       "8680           32  2021-01-16            1      2021-01-16\n",
       "8681           32  2021-01-17            2      2021-01-17\n",
       "\n",
       "[8682 rows x 4 columns]"
      ],
      "text/html": "<div>\n<style scoped>\n    .dataframe tbody tr th:only-of-type {\n        vertical-align: middle;\n    }\n\n    .dataframe tbody tr th {\n        vertical-align: top;\n    }\n\n    .dataframe thead th {\n        text-align: right;\n    }\n</style>\n<table border=\"1\" class=\"dataframe\">\n  <thead>\n    <tr style=\"text-align: right;\">\n      <th></th>\n      <th>ENTIDAD_RES</th>\n      <th>FECHA_DEF</th>\n      <th>defunciones</th>\n      <th>fecha_defuncion</th>\n    </tr>\n  </thead>\n  <tbody>\n    <tr>\n      <th>0</th>\n      <td>1</td>\n      <td>2020-04-10</td>\n      <td>1</td>\n      <td>2020-04-10</td>\n    </tr>\n    <tr>\n      <th>1</th>\n      <td>1</td>\n      <td>2020-04-13</td>\n      <td>1</td>\n      <td>2020-04-13</td>\n    </tr>\n    <tr>\n      <th>2</th>\n      <td>1</td>\n      <td>2020-04-17</td>\n      <td>1</td>\n      <td>2020-04-17</td>\n    </tr>\n    <tr>\n      <th>3</th>\n      <td>1</td>\n      <td>2020-04-19</td>\n      <td>1</td>\n      <td>2020-04-19</td>\n    </tr>\n    <tr>\n      <th>4</th>\n      <td>1</td>\n      <td>2020-04-22</td>\n      <td>1</td>\n      <td>2020-04-22</td>\n    </tr>\n    <tr>\n      <th>...</th>\n      <td>...</td>\n      <td>...</td>\n      <td>...</td>\n      <td>...</td>\n    </tr>\n    <tr>\n      <th>8677</th>\n      <td>32</td>\n      <td>2021-01-13</td>\n      <td>10</td>\n      <td>2021-01-13</td>\n    </tr>\n    <tr>\n      <th>8678</th>\n      <td>32</td>\n      <td>2021-01-14</td>\n      <td>7</td>\n      <td>2021-01-14</td>\n    </tr>\n    <tr>\n      <th>8679</th>\n      <td>32</td>\n      <td>2021-01-15</td>\n      <td>5</td>\n      <td>2021-01-15</td>\n    </tr>\n    <tr>\n      <th>8680</th>\n      <td>32</td>\n      <td>2021-01-16</td>\n      <td>1</td>\n      <td>2021-01-16</td>\n    </tr>\n    <tr>\n      <th>8681</th>\n      <td>32</td>\n      <td>2021-01-17</td>\n      <td>2</td>\n      <td>2021-01-17</td>\n    </tr>\n  </tbody>\n</table>\n<p>8682 rows × 4 columns</p>\n</div>"
     },
     "metadata": {},
     "execution_count": 57
    }
   ],
   "source": [
    "defunciones_por_estado_fecha = defunciones.groupby([\"ENTIDAD_RES\", \"FECHA_DEF\"]).size().to_frame(\"defunciones\").reset_index()\n",
    "#Defunciones por estado a CSV ............................\n",
    "defunciones_por_estado_fecha.to_csv(\"C:/Users/user/Documents/Python Scripts/dataAnalysis/covid19_dashboard/processed_data/defunciones_por_estado.csv\",\n",
    "                                            encoding=\"latin1\", index=False)\n",
    "defunciones_por_estado_fecha[\"fecha_defuncion\"] = pd.to_datetime(defunciones_por_estado_fecha[\"FECHA_DEF\"], format = \"%Y-%m-%d\")\n",
    "defunciones_por_estado_fecha"
   ]
  },
  {
   "cell_type": "code",
   "execution_count": 58,
   "metadata": {},
   "outputs": [],
   "source": [
    "entidad_clave = datos_por_estado[\"ENTIDAD\"].to_frame()\n",
    "entidad_clave[\"CLAVE_ENTIDAD\"] = datos_por_estado[\"CLAVE_ENTIDAD\"]\n",
    "# Merge between entidad_cave and confirmados_por_estado_fecha\n",
    "confirmados_por_estado_fecha_clave = pd.merge(confirmados_por_estado_fecha, entidad_clave, how = \"left\", left_on = \"ENTIDAD_RES\", right_on = \"CLAVE_ENTIDAD\")"
   ]
  },
  {
   "cell_type": "code",
   "execution_count": 59,
   "metadata": {},
   "outputs": [],
   "source": [
    "# Merge betweem entidad_clave and defunciones_por_estado_fecha\n",
    "defunciones_por_estado_fecha_clave = pd.merge(defunciones_por_estado_fecha, entidad_clave, how = \"left\", left_on = \"ENTIDAD_RES\", right_on = \"CLAVE_ENTIDAD\")"
   ]
  },
  {
   "cell_type": "code",
   "execution_count": 60,
   "metadata": {},
   "outputs": [
    {
     "output_type": "stream",
     "name": "stdout",
     "text": [
      "Total de casos confirmados =  23311\n"
     ]
    },
    {
     "output_type": "execute_result",
     "data": {
      "text/plain": [
       "     ENTIDAD_RES FECHA_INGRESO  confirmados fecha_ingreso    ENTIDAD  \\\n",
       "0             32    2020-02-19            1    2020-02-19  Zacatecas   \n",
       "1             32    2020-03-03            1    2020-03-03  Zacatecas   \n",
       "2             32    2020-03-04            3    2020-03-04  Zacatecas   \n",
       "3             32    2020-03-11            1    2020-03-11  Zacatecas   \n",
       "4             32    2020-03-16            1    2020-03-16  Zacatecas   \n",
       "..           ...           ...          ...           ...        ...   \n",
       "293           32    2021-01-13          145    2021-01-13  Zacatecas   \n",
       "294           32    2021-01-14          148    2021-01-14  Zacatecas   \n",
       "295           32    2021-01-15          104    2021-01-15  Zacatecas   \n",
       "296           32    2021-01-16           14    2021-01-16  Zacatecas   \n",
       "297           32    2021-01-17           22    2021-01-17  Zacatecas   \n",
       "\n",
       "     CLAVE_ENTIDAD  confirmados_acumulados  \n",
       "0               32                       1  \n",
       "1               32                       2  \n",
       "2               32                       5  \n",
       "3               32                       6  \n",
       "4               32                       7  \n",
       "..             ...                     ...  \n",
       "293             32                   23023  \n",
       "294             32                   23171  \n",
       "295             32                   23275  \n",
       "296             32                   23289  \n",
       "297             32                   23311  \n",
       "\n",
       "[298 rows x 7 columns]"
      ],
      "text/html": "<div>\n<style scoped>\n    .dataframe tbody tr th:only-of-type {\n        vertical-align: middle;\n    }\n\n    .dataframe tbody tr th {\n        vertical-align: top;\n    }\n\n    .dataframe thead th {\n        text-align: right;\n    }\n</style>\n<table border=\"1\" class=\"dataframe\">\n  <thead>\n    <tr style=\"text-align: right;\">\n      <th></th>\n      <th>ENTIDAD_RES</th>\n      <th>FECHA_INGRESO</th>\n      <th>confirmados</th>\n      <th>fecha_ingreso</th>\n      <th>ENTIDAD</th>\n      <th>CLAVE_ENTIDAD</th>\n      <th>confirmados_acumulados</th>\n    </tr>\n  </thead>\n  <tbody>\n    <tr>\n      <th>0</th>\n      <td>32</td>\n      <td>2020-02-19</td>\n      <td>1</td>\n      <td>2020-02-19</td>\n      <td>Zacatecas</td>\n      <td>32</td>\n      <td>1</td>\n    </tr>\n    <tr>\n      <th>1</th>\n      <td>32</td>\n      <td>2020-03-03</td>\n      <td>1</td>\n      <td>2020-03-03</td>\n      <td>Zacatecas</td>\n      <td>32</td>\n      <td>2</td>\n    </tr>\n    <tr>\n      <th>2</th>\n      <td>32</td>\n      <td>2020-03-04</td>\n      <td>3</td>\n      <td>2020-03-04</td>\n      <td>Zacatecas</td>\n      <td>32</td>\n      <td>5</td>\n    </tr>\n    <tr>\n      <th>3</th>\n      <td>32</td>\n      <td>2020-03-11</td>\n      <td>1</td>\n      <td>2020-03-11</td>\n      <td>Zacatecas</td>\n      <td>32</td>\n      <td>6</td>\n    </tr>\n    <tr>\n      <th>4</th>\n      <td>32</td>\n      <td>2020-03-16</td>\n      <td>1</td>\n      <td>2020-03-16</td>\n      <td>Zacatecas</td>\n      <td>32</td>\n      <td>7</td>\n    </tr>\n    <tr>\n      <th>...</th>\n      <td>...</td>\n      <td>...</td>\n      <td>...</td>\n      <td>...</td>\n      <td>...</td>\n      <td>...</td>\n      <td>...</td>\n    </tr>\n    <tr>\n      <th>293</th>\n      <td>32</td>\n      <td>2021-01-13</td>\n      <td>145</td>\n      <td>2021-01-13</td>\n      <td>Zacatecas</td>\n      <td>32</td>\n      <td>23023</td>\n    </tr>\n    <tr>\n      <th>294</th>\n      <td>32</td>\n      <td>2021-01-14</td>\n      <td>148</td>\n      <td>2021-01-14</td>\n      <td>Zacatecas</td>\n      <td>32</td>\n      <td>23171</td>\n    </tr>\n    <tr>\n      <th>295</th>\n      <td>32</td>\n      <td>2021-01-15</td>\n      <td>104</td>\n      <td>2021-01-15</td>\n      <td>Zacatecas</td>\n      <td>32</td>\n      <td>23275</td>\n    </tr>\n    <tr>\n      <th>296</th>\n      <td>32</td>\n      <td>2021-01-16</td>\n      <td>14</td>\n      <td>2021-01-16</td>\n      <td>Zacatecas</td>\n      <td>32</td>\n      <td>23289</td>\n    </tr>\n    <tr>\n      <th>297</th>\n      <td>32</td>\n      <td>2021-01-17</td>\n      <td>22</td>\n      <td>2021-01-17</td>\n      <td>Zacatecas</td>\n      <td>32</td>\n      <td>23311</td>\n    </tr>\n  </tbody>\n</table>\n<p>298 rows × 7 columns</p>\n</div>"
     },
     "metadata": {},
     "execution_count": 60
    }
   ],
   "source": [
    "clave_estado = 32\n",
    "confirmados_mich = confirmados_por_estado_fecha_clave[confirmados_por_estado_fecha_clave[\"ENTIDAD_RES\"] == clave_estado]\n",
    "print(\"Total de casos confirmados = \",confirmados_mich[\"confirmados\"].sum())\n",
    "confirmados_mich.reset_index(drop = True, inplace = True)\n",
    "confirmados_mich[\"confirmados_acumulados\"] = commulative_cases(confirmados_mich[\"confirmados\"]) # Accumulated confirmed cases in Mich.\n",
    "confirmados_mich"
   ]
  },
  {
   "cell_type": "code",
   "execution_count": 61,
   "metadata": {},
   "outputs": [
    {
     "output_type": "stream",
     "name": "stdout",
     "text": [
      "Total de defunciones acumuladas =  1947\n"
     ]
    },
    {
     "output_type": "execute_result",
     "data": {
      "text/plain": [
       "     ENTIDAD_RES   FECHA_DEF  defunciones fecha_defuncion    ENTIDAD  \\\n",
       "0             32  2020-03-31            1      2020-03-31  Zacatecas   \n",
       "1             32  2020-04-04            1      2020-04-04  Zacatecas   \n",
       "2             32  2020-04-19            1      2020-04-19  Zacatecas   \n",
       "3             32  2020-04-23            1      2020-04-23  Zacatecas   \n",
       "4             32  2020-04-26            1      2020-04-26  Zacatecas   \n",
       "..           ...         ...          ...             ...        ...   \n",
       "255           32  2021-01-13           10      2021-01-13  Zacatecas   \n",
       "256           32  2021-01-14            7      2021-01-14  Zacatecas   \n",
       "257           32  2021-01-15            5      2021-01-15  Zacatecas   \n",
       "258           32  2021-01-16            1      2021-01-16  Zacatecas   \n",
       "259           32  2021-01-17            2      2021-01-17  Zacatecas   \n",
       "\n",
       "     CLAVE_ENTIDAD  defunciones_acumuladas  \n",
       "0               32                       1  \n",
       "1               32                       2  \n",
       "2               32                       3  \n",
       "3               32                       4  \n",
       "4               32                       5  \n",
       "..             ...                     ...  \n",
       "255             32                    1932  \n",
       "256             32                    1939  \n",
       "257             32                    1944  \n",
       "258             32                    1945  \n",
       "259             32                    1947  \n",
       "\n",
       "[260 rows x 7 columns]"
      ],
      "text/html": "<div>\n<style scoped>\n    .dataframe tbody tr th:only-of-type {\n        vertical-align: middle;\n    }\n\n    .dataframe tbody tr th {\n        vertical-align: top;\n    }\n\n    .dataframe thead th {\n        text-align: right;\n    }\n</style>\n<table border=\"1\" class=\"dataframe\">\n  <thead>\n    <tr style=\"text-align: right;\">\n      <th></th>\n      <th>ENTIDAD_RES</th>\n      <th>FECHA_DEF</th>\n      <th>defunciones</th>\n      <th>fecha_defuncion</th>\n      <th>ENTIDAD</th>\n      <th>CLAVE_ENTIDAD</th>\n      <th>defunciones_acumuladas</th>\n    </tr>\n  </thead>\n  <tbody>\n    <tr>\n      <th>0</th>\n      <td>32</td>\n      <td>2020-03-31</td>\n      <td>1</td>\n      <td>2020-03-31</td>\n      <td>Zacatecas</td>\n      <td>32</td>\n      <td>1</td>\n    </tr>\n    <tr>\n      <th>1</th>\n      <td>32</td>\n      <td>2020-04-04</td>\n      <td>1</td>\n      <td>2020-04-04</td>\n      <td>Zacatecas</td>\n      <td>32</td>\n      <td>2</td>\n    </tr>\n    <tr>\n      <th>2</th>\n      <td>32</td>\n      <td>2020-04-19</td>\n      <td>1</td>\n      <td>2020-04-19</td>\n      <td>Zacatecas</td>\n      <td>32</td>\n      <td>3</td>\n    </tr>\n    <tr>\n      <th>3</th>\n      <td>32</td>\n      <td>2020-04-23</td>\n      <td>1</td>\n      <td>2020-04-23</td>\n      <td>Zacatecas</td>\n      <td>32</td>\n      <td>4</td>\n    </tr>\n    <tr>\n      <th>4</th>\n      <td>32</td>\n      <td>2020-04-26</td>\n      <td>1</td>\n      <td>2020-04-26</td>\n      <td>Zacatecas</td>\n      <td>32</td>\n      <td>5</td>\n    </tr>\n    <tr>\n      <th>...</th>\n      <td>...</td>\n      <td>...</td>\n      <td>...</td>\n      <td>...</td>\n      <td>...</td>\n      <td>...</td>\n      <td>...</td>\n    </tr>\n    <tr>\n      <th>255</th>\n      <td>32</td>\n      <td>2021-01-13</td>\n      <td>10</td>\n      <td>2021-01-13</td>\n      <td>Zacatecas</td>\n      <td>32</td>\n      <td>1932</td>\n    </tr>\n    <tr>\n      <th>256</th>\n      <td>32</td>\n      <td>2021-01-14</td>\n      <td>7</td>\n      <td>2021-01-14</td>\n      <td>Zacatecas</td>\n      <td>32</td>\n      <td>1939</td>\n    </tr>\n    <tr>\n      <th>257</th>\n      <td>32</td>\n      <td>2021-01-15</td>\n      <td>5</td>\n      <td>2021-01-15</td>\n      <td>Zacatecas</td>\n      <td>32</td>\n      <td>1944</td>\n    </tr>\n    <tr>\n      <th>258</th>\n      <td>32</td>\n      <td>2021-01-16</td>\n      <td>1</td>\n      <td>2021-01-16</td>\n      <td>Zacatecas</td>\n      <td>32</td>\n      <td>1945</td>\n    </tr>\n    <tr>\n      <th>259</th>\n      <td>32</td>\n      <td>2021-01-17</td>\n      <td>2</td>\n      <td>2021-01-17</td>\n      <td>Zacatecas</td>\n      <td>32</td>\n      <td>1947</td>\n    </tr>\n  </tbody>\n</table>\n<p>260 rows × 7 columns</p>\n</div>"
     },
     "metadata": {},
     "execution_count": 61
    }
   ],
   "source": [
    "defunciones_mich = defunciones_por_estado_fecha_clave[defunciones_por_estado_fecha_clave[\"ENTIDAD_RES\"] == clave_estado ]\n",
    "print(\"Total de defunciones acumuladas = \", defunciones_mich[\"defunciones\"].sum())\n",
    "defunciones_mich.reset_index(drop = True, inplace = True)     \n",
    "defunciones_mich[\"defunciones_acumuladas\"] = commulative_cases(defunciones_mich[\"defunciones\"])\n",
    "defunciones_mich"
   ]
  },
  {
   "cell_type": "code",
   "execution_count": 62,
   "metadata": {},
   "outputs": [
    {
     "output_type": "display_data",
     "data": {
      "application/vnd.plotly.v1+json": {
       "config": {
        "plotlyServerURL": "https://plot.ly"
       },
       "data": [
        {
         "line": {
          "color": "#ff1744",
          "width": 2.5
         },
         "mode": "lines",
         "name": "Casos confirmados",
         "type": "scatter",
         "x": [
          "2020-02-19T00:00:00",
          "2020-03-03T00:00:00",
          "2020-03-04T00:00:00",
          "2020-03-11T00:00:00",
          "2020-03-16T00:00:00",
          "2020-03-20T00:00:00",
          "2020-03-21T00:00:00",
          "2020-03-22T00:00:00",
          "2020-03-23T00:00:00",
          "2020-03-24T00:00:00",
          "2020-03-27T00:00:00",
          "2020-03-28T00:00:00",
          "2020-04-02T00:00:00",
          "2020-04-04T00:00:00",
          "2020-04-05T00:00:00",
          "2020-04-06T00:00:00",
          "2020-04-08T00:00:00",
          "2020-04-09T00:00:00",
          "2020-04-11T00:00:00",
          "2020-04-12T00:00:00",
          "2020-04-14T00:00:00",
          "2020-04-15T00:00:00",
          "2020-04-16T00:00:00",
          "2020-04-17T00:00:00",
          "2020-04-18T00:00:00",
          "2020-04-19T00:00:00",
          "2020-04-20T00:00:00",
          "2020-04-21T00:00:00",
          "2020-04-22T00:00:00",
          "2020-04-23T00:00:00",
          "2020-04-24T00:00:00",
          "2020-04-25T00:00:00",
          "2020-04-26T00:00:00",
          "2020-04-27T00:00:00",
          "2020-04-28T00:00:00",
          "2020-04-29T00:00:00",
          "2020-04-30T00:00:00",
          "2020-05-01T00:00:00",
          "2020-05-02T00:00:00",
          "2020-05-03T00:00:00",
          "2020-05-04T00:00:00",
          "2020-05-05T00:00:00",
          "2020-05-06T00:00:00",
          "2020-05-07T00:00:00",
          "2020-05-08T00:00:00",
          "2020-05-09T00:00:00",
          "2020-05-10T00:00:00",
          "2020-05-11T00:00:00",
          "2020-05-12T00:00:00",
          "2020-05-13T00:00:00",
          "2020-05-14T00:00:00",
          "2020-05-15T00:00:00",
          "2020-05-16T00:00:00",
          "2020-05-17T00:00:00",
          "2020-05-18T00:00:00",
          "2020-05-20T00:00:00",
          "2020-05-21T00:00:00",
          "2020-05-22T00:00:00",
          "2020-05-23T00:00:00",
          "2020-05-24T00:00:00",
          "2020-05-25T00:00:00",
          "2020-05-26T00:00:00",
          "2020-05-27T00:00:00",
          "2020-05-28T00:00:00",
          "2020-05-29T00:00:00",
          "2020-05-30T00:00:00",
          "2020-05-31T00:00:00",
          "2020-06-01T00:00:00",
          "2020-06-02T00:00:00",
          "2020-06-03T00:00:00",
          "2020-06-04T00:00:00",
          "2020-06-05T00:00:00",
          "2020-06-06T00:00:00",
          "2020-06-07T00:00:00",
          "2020-06-08T00:00:00",
          "2020-06-09T00:00:00",
          "2020-06-10T00:00:00",
          "2020-06-11T00:00:00",
          "2020-06-12T00:00:00",
          "2020-06-13T00:00:00",
          "2020-06-14T00:00:00",
          "2020-06-15T00:00:00",
          "2020-06-16T00:00:00",
          "2020-06-17T00:00:00",
          "2020-06-18T00:00:00",
          "2020-06-19T00:00:00",
          "2020-06-20T00:00:00",
          "2020-06-21T00:00:00",
          "2020-06-22T00:00:00",
          "2020-06-23T00:00:00",
          "2020-06-24T00:00:00",
          "2020-06-25T00:00:00",
          "2020-06-26T00:00:00",
          "2020-06-27T00:00:00",
          "2020-06-28T00:00:00",
          "2020-06-29T00:00:00",
          "2020-06-30T00:00:00",
          "2020-07-01T00:00:00",
          "2020-07-02T00:00:00",
          "2020-07-03T00:00:00",
          "2020-07-04T00:00:00",
          "2020-07-05T00:00:00",
          "2020-07-06T00:00:00",
          "2020-07-07T00:00:00",
          "2020-07-08T00:00:00",
          "2020-07-09T00:00:00",
          "2020-07-10T00:00:00",
          "2020-07-11T00:00:00",
          "2020-07-12T00:00:00",
          "2020-07-13T00:00:00",
          "2020-07-14T00:00:00",
          "2020-07-15T00:00:00",
          "2020-07-16T00:00:00",
          "2020-07-17T00:00:00",
          "2020-07-18T00:00:00",
          "2020-07-19T00:00:00",
          "2020-07-20T00:00:00",
          "2020-07-21T00:00:00",
          "2020-07-22T00:00:00",
          "2020-07-23T00:00:00",
          "2020-07-24T00:00:00",
          "2020-07-25T00:00:00",
          "2020-07-26T00:00:00",
          "2020-07-27T00:00:00",
          "2020-07-28T00:00:00",
          "2020-07-29T00:00:00",
          "2020-07-30T00:00:00",
          "2020-07-31T00:00:00",
          "2020-08-01T00:00:00",
          "2020-08-02T00:00:00",
          "2020-08-03T00:00:00",
          "2020-08-04T00:00:00",
          "2020-08-05T00:00:00",
          "2020-08-06T00:00:00",
          "2020-08-07T00:00:00",
          "2020-08-08T00:00:00",
          "2020-08-09T00:00:00",
          "2020-08-10T00:00:00",
          "2020-08-11T00:00:00",
          "2020-08-12T00:00:00",
          "2020-08-13T00:00:00",
          "2020-08-14T00:00:00",
          "2020-08-15T00:00:00",
          "2020-08-16T00:00:00",
          "2020-08-17T00:00:00",
          "2020-08-18T00:00:00",
          "2020-08-19T00:00:00",
          "2020-08-20T00:00:00",
          "2020-08-21T00:00:00",
          "2020-08-22T00:00:00",
          "2020-08-23T00:00:00",
          "2020-08-24T00:00:00",
          "2020-08-25T00:00:00",
          "2020-08-26T00:00:00",
          "2020-08-27T00:00:00",
          "2020-08-28T00:00:00",
          "2020-08-29T00:00:00",
          "2020-08-30T00:00:00",
          "2020-08-31T00:00:00",
          "2020-09-01T00:00:00",
          "2020-09-02T00:00:00",
          "2020-09-03T00:00:00",
          "2020-09-04T00:00:00",
          "2020-09-05T00:00:00",
          "2020-09-06T00:00:00",
          "2020-09-07T00:00:00",
          "2020-09-08T00:00:00",
          "2020-09-09T00:00:00",
          "2020-09-10T00:00:00",
          "2020-09-11T00:00:00",
          "2020-09-12T00:00:00",
          "2020-09-13T00:00:00",
          "2020-09-14T00:00:00",
          "2020-09-15T00:00:00",
          "2020-09-16T00:00:00",
          "2020-09-17T00:00:00",
          "2020-09-18T00:00:00",
          "2020-09-19T00:00:00",
          "2020-09-20T00:00:00",
          "2020-09-21T00:00:00",
          "2020-09-22T00:00:00",
          "2020-09-23T00:00:00",
          "2020-09-24T00:00:00",
          "2020-09-25T00:00:00",
          "2020-09-26T00:00:00",
          "2020-09-27T00:00:00",
          "2020-09-28T00:00:00",
          "2020-09-29T00:00:00",
          "2020-09-30T00:00:00",
          "2020-10-01T00:00:00",
          "2020-10-02T00:00:00",
          "2020-10-03T00:00:00",
          "2020-10-04T00:00:00",
          "2020-10-05T00:00:00",
          "2020-10-06T00:00:00",
          "2020-10-07T00:00:00",
          "2020-10-08T00:00:00",
          "2020-10-09T00:00:00",
          "2020-10-10T00:00:00",
          "2020-10-11T00:00:00",
          "2020-10-12T00:00:00",
          "2020-10-13T00:00:00",
          "2020-10-14T00:00:00",
          "2020-10-15T00:00:00",
          "2020-10-16T00:00:00",
          "2020-10-17T00:00:00",
          "2020-10-18T00:00:00",
          "2020-10-19T00:00:00",
          "2020-10-20T00:00:00",
          "2020-10-21T00:00:00",
          "2020-10-22T00:00:00",
          "2020-10-23T00:00:00",
          "2020-10-24T00:00:00",
          "2020-10-25T00:00:00",
          "2020-10-26T00:00:00",
          "2020-10-27T00:00:00",
          "2020-10-28T00:00:00",
          "2020-10-29T00:00:00",
          "2020-10-30T00:00:00",
          "2020-10-31T00:00:00",
          "2020-11-01T00:00:00",
          "2020-11-02T00:00:00",
          "2020-11-03T00:00:00",
          "2020-11-04T00:00:00",
          "2020-11-05T00:00:00",
          "2020-11-06T00:00:00",
          "2020-11-07T00:00:00",
          "2020-11-08T00:00:00",
          "2020-11-09T00:00:00",
          "2020-11-10T00:00:00",
          "2020-11-11T00:00:00",
          "2020-11-12T00:00:00",
          "2020-11-13T00:00:00",
          "2020-11-14T00:00:00",
          "2020-11-15T00:00:00",
          "2020-11-16T00:00:00",
          "2020-11-17T00:00:00",
          "2020-11-18T00:00:00",
          "2020-11-19T00:00:00",
          "2020-11-20T00:00:00",
          "2020-11-21T00:00:00",
          "2020-11-22T00:00:00",
          "2020-11-23T00:00:00",
          "2020-11-24T00:00:00",
          "2020-11-25T00:00:00",
          "2020-11-26T00:00:00",
          "2020-11-27T00:00:00",
          "2020-11-28T00:00:00",
          "2020-11-29T00:00:00",
          "2020-11-30T00:00:00",
          "2020-12-01T00:00:00",
          "2020-12-02T00:00:00",
          "2020-12-03T00:00:00",
          "2020-12-04T00:00:00",
          "2020-12-05T00:00:00",
          "2020-12-06T00:00:00",
          "2020-12-07T00:00:00",
          "2020-12-08T00:00:00",
          "2020-12-09T00:00:00",
          "2020-12-10T00:00:00",
          "2020-12-11T00:00:00",
          "2020-12-12T00:00:00",
          "2020-12-13T00:00:00",
          "2020-12-14T00:00:00",
          "2020-12-15T00:00:00",
          "2020-12-16T00:00:00",
          "2020-12-17T00:00:00",
          "2020-12-18T00:00:00",
          "2020-12-19T00:00:00",
          "2020-12-20T00:00:00",
          "2020-12-21T00:00:00",
          "2020-12-22T00:00:00",
          "2020-12-23T00:00:00",
          "2020-12-24T00:00:00",
          "2020-12-25T00:00:00",
          "2020-12-26T00:00:00",
          "2020-12-27T00:00:00",
          "2020-12-28T00:00:00",
          "2020-12-29T00:00:00",
          "2020-12-30T00:00:00",
          "2020-12-31T00:00:00",
          "2021-01-01T00:00:00",
          "2021-01-02T00:00:00",
          "2021-01-03T00:00:00",
          "2021-01-04T00:00:00",
          "2021-01-05T00:00:00",
          "2021-01-06T00:00:00",
          "2021-01-07T00:00:00",
          "2021-01-08T00:00:00",
          "2021-01-09T00:00:00",
          "2021-01-10T00:00:00",
          "2021-01-11T00:00:00",
          "2021-01-12T00:00:00",
          "2021-01-13T00:00:00",
          "2021-01-14T00:00:00",
          "2021-01-15T00:00:00",
          "2021-01-16T00:00:00",
          "2021-01-17T00:00:00"
         ],
         "y": [
          1,
          2,
          5,
          6,
          7,
          8,
          9,
          10,
          11,
          12,
          16,
          17,
          18,
          19,
          20,
          21,
          23,
          25,
          27,
          28,
          29,
          35,
          39,
          41,
          48,
          49,
          58,
          60,
          62,
          70,
          75,
          79,
          82,
          86,
          96,
          105,
          109,
          116,
          123,
          125,
          132,
          137,
          148,
          157,
          166,
          170,
          172,
          183,
          186,
          198,
          216,
          224,
          227,
          230,
          236,
          252,
          259,
          268,
          279,
          285,
          296,
          308,
          312,
          319,
          334,
          341,
          346,
          362,
          375,
          391,
          409,
          426,
          440,
          452,
          472,
          502,
          540,
          560,
          585,
          604,
          613,
          650,
          684,
          704,
          727,
          753,
          764,
          773,
          808,
          838,
          862,
          894,
          925,
          940,
          964,
          1007,
          1061,
          1106,
          1154,
          1204,
          1226,
          1246,
          1304,
          1349,
          1402,
          1438,
          1485,
          1540,
          1572,
          1618,
          1679,
          1755,
          1853,
          1908,
          1953,
          1978,
          2066,
          2152,
          2246,
          2327,
          2412,
          2473,
          2499,
          2577,
          2706,
          2779,
          2882,
          2960,
          3010,
          3051,
          3146,
          3236,
          3321,
          3420,
          3507,
          3600,
          3659,
          3769,
          3940,
          4075,
          4144,
          4218,
          4282,
          4329,
          4409,
          4509,
          4597,
          4692,
          4785,
          4834,
          4879,
          4974,
          5085,
          5171,
          5269,
          5365,
          5405,
          5437,
          5503,
          5594,
          5718,
          5794,
          5900,
          5952,
          5990,
          6066,
          6142,
          6220,
          6323,
          6410,
          6448,
          6484,
          6555,
          6643,
          6686,
          6795,
          6863,
          6895,
          6913,
          6988,
          7082,
          7151,
          7241,
          7321,
          7354,
          7379,
          7460,
          7574,
          7655,
          7743,
          7836,
          7874,
          7933,
          8017,
          8120,
          8215,
          8317,
          8421,
          8514,
          8609,
          8740,
          8919,
          9060,
          9197,
          9351,
          9450,
          9499,
          9661,
          9839,
          10024,
          10190,
          10356,
          10476,
          10544,
          10727,
          10957,
          11130,
          11318,
          11476,
          11569,
          11629,
          11794,
          12029,
          12239,
          12488,
          12691,
          12813,
          12911,
          13102,
          13367,
          13618,
          13871,
          14145,
          14251,
          14349,
          14474,
          14699,
          14962,
          15259,
          15516,
          15612,
          15696,
          15931,
          16203,
          16478,
          16709,
          16937,
          17040,
          17126,
          17316,
          17631,
          17836,
          18013,
          18203,
          18279,
          18336,
          18524,
          18713,
          18864,
          19054,
          19213,
          19273,
          19340,
          19480,
          19674,
          19808,
          20001,
          20084,
          20170,
          20231,
          20368,
          20566,
          20651,
          20734,
          20747,
          20781,
          20820,
          20967,
          21123,
          21245,
          21346,
          21363,
          21421,
          21451,
          21635,
          21869,
          22051,
          22256,
          22422,
          22492,
          22544,
          22729,
          22878,
          23023,
          23171,
          23275,
          23289,
          23311
         ]
        },
        {
         "line": {
          "color": "black",
          "width": 2.5
         },
         "mode": "lines",
         "name": "Defunciones ",
         "type": "scatter",
         "x": [
          "2020-03-31T00:00:00",
          "2020-04-04T00:00:00",
          "2020-04-19T00:00:00",
          "2020-04-23T00:00:00",
          "2020-04-26T00:00:00",
          "2020-04-27T00:00:00",
          "2020-04-28T00:00:00",
          "2020-04-29T00:00:00",
          "2020-04-30T00:00:00",
          "2020-05-01T00:00:00",
          "2020-05-02T00:00:00",
          "2020-05-03T00:00:00",
          "2020-05-04T00:00:00",
          "2020-05-05T00:00:00",
          "2020-05-09T00:00:00",
          "2020-05-10T00:00:00",
          "2020-05-12T00:00:00",
          "2020-05-13T00:00:00",
          "2020-05-14T00:00:00",
          "2020-05-15T00:00:00",
          "2020-05-17T00:00:00",
          "2020-05-19T00:00:00",
          "2020-05-22T00:00:00",
          "2020-05-23T00:00:00",
          "2020-05-25T00:00:00",
          "2020-05-26T00:00:00",
          "2020-05-27T00:00:00",
          "2020-05-28T00:00:00",
          "2020-05-29T00:00:00",
          "2020-05-30T00:00:00",
          "2020-05-31T00:00:00",
          "2020-06-01T00:00:00",
          "2020-06-02T00:00:00",
          "2020-06-03T00:00:00",
          "2020-06-04T00:00:00",
          "2020-06-05T00:00:00",
          "2020-06-06T00:00:00",
          "2020-06-07T00:00:00",
          "2020-06-08T00:00:00",
          "2020-06-09T00:00:00",
          "2020-06-10T00:00:00",
          "2020-06-11T00:00:00",
          "2020-06-12T00:00:00",
          "2020-06-14T00:00:00",
          "2020-06-15T00:00:00",
          "2020-06-16T00:00:00",
          "2020-06-17T00:00:00",
          "2020-06-18T00:00:00",
          "2020-06-19T00:00:00",
          "2020-06-20T00:00:00",
          "2020-06-21T00:00:00",
          "2020-06-22T00:00:00",
          "2020-06-23T00:00:00",
          "2020-06-24T00:00:00",
          "2020-06-25T00:00:00",
          "2020-06-26T00:00:00",
          "2020-06-28T00:00:00",
          "2020-06-29T00:00:00",
          "2020-06-30T00:00:00",
          "2020-07-01T00:00:00",
          "2020-07-02T00:00:00",
          "2020-07-03T00:00:00",
          "2020-07-04T00:00:00",
          "2020-07-05T00:00:00",
          "2020-07-06T00:00:00",
          "2020-07-07T00:00:00",
          "2020-07-08T00:00:00",
          "2020-07-09T00:00:00",
          "2020-07-10T00:00:00",
          "2020-07-11T00:00:00",
          "2020-07-12T00:00:00",
          "2020-07-13T00:00:00",
          "2020-07-14T00:00:00",
          "2020-07-15T00:00:00",
          "2020-07-16T00:00:00",
          "2020-07-17T00:00:00",
          "2020-07-18T00:00:00",
          "2020-07-19T00:00:00",
          "2020-07-20T00:00:00",
          "2020-07-21T00:00:00",
          "2020-07-22T00:00:00",
          "2020-07-23T00:00:00",
          "2020-07-24T00:00:00",
          "2020-07-25T00:00:00",
          "2020-07-26T00:00:00",
          "2020-07-27T00:00:00",
          "2020-07-28T00:00:00",
          "2020-07-29T00:00:00",
          "2020-07-30T00:00:00",
          "2020-07-31T00:00:00",
          "2020-08-01T00:00:00",
          "2020-08-02T00:00:00",
          "2020-08-03T00:00:00",
          "2020-08-04T00:00:00",
          "2020-08-05T00:00:00",
          "2020-08-06T00:00:00",
          "2020-08-07T00:00:00",
          "2020-08-08T00:00:00",
          "2020-08-09T00:00:00",
          "2020-08-10T00:00:00",
          "2020-08-11T00:00:00",
          "2020-08-12T00:00:00",
          "2020-08-13T00:00:00",
          "2020-08-14T00:00:00",
          "2020-08-15T00:00:00",
          "2020-08-16T00:00:00",
          "2020-08-17T00:00:00",
          "2020-08-18T00:00:00",
          "2020-08-19T00:00:00",
          "2020-08-20T00:00:00",
          "2020-08-21T00:00:00",
          "2020-08-22T00:00:00",
          "2020-08-23T00:00:00",
          "2020-08-24T00:00:00",
          "2020-08-25T00:00:00",
          "2020-08-26T00:00:00",
          "2020-08-27T00:00:00",
          "2020-08-28T00:00:00",
          "2020-08-29T00:00:00",
          "2020-08-30T00:00:00",
          "2020-08-31T00:00:00",
          "2020-09-01T00:00:00",
          "2020-09-02T00:00:00",
          "2020-09-03T00:00:00",
          "2020-09-04T00:00:00",
          "2020-09-05T00:00:00",
          "2020-09-06T00:00:00",
          "2020-09-07T00:00:00",
          "2020-09-08T00:00:00",
          "2020-09-09T00:00:00",
          "2020-09-10T00:00:00",
          "2020-09-11T00:00:00",
          "2020-09-12T00:00:00",
          "2020-09-13T00:00:00",
          "2020-09-14T00:00:00",
          "2020-09-15T00:00:00",
          "2020-09-16T00:00:00",
          "2020-09-17T00:00:00",
          "2020-09-18T00:00:00",
          "2020-09-19T00:00:00",
          "2020-09-20T00:00:00",
          "2020-09-21T00:00:00",
          "2020-09-22T00:00:00",
          "2020-09-23T00:00:00",
          "2020-09-24T00:00:00",
          "2020-09-25T00:00:00",
          "2020-09-26T00:00:00",
          "2020-09-27T00:00:00",
          "2020-09-28T00:00:00",
          "2020-09-29T00:00:00",
          "2020-09-30T00:00:00",
          "2020-10-01T00:00:00",
          "2020-10-02T00:00:00",
          "2020-10-03T00:00:00",
          "2020-10-04T00:00:00",
          "2020-10-05T00:00:00",
          "2020-10-06T00:00:00",
          "2020-10-07T00:00:00",
          "2020-10-08T00:00:00",
          "2020-10-09T00:00:00",
          "2020-10-10T00:00:00",
          "2020-10-11T00:00:00",
          "2020-10-12T00:00:00",
          "2020-10-13T00:00:00",
          "2020-10-14T00:00:00",
          "2020-10-15T00:00:00",
          "2020-10-16T00:00:00",
          "2020-10-17T00:00:00",
          "2020-10-18T00:00:00",
          "2020-10-19T00:00:00",
          "2020-10-20T00:00:00",
          "2020-10-21T00:00:00",
          "2020-10-22T00:00:00",
          "2020-10-23T00:00:00",
          "2020-10-24T00:00:00",
          "2020-10-25T00:00:00",
          "2020-10-26T00:00:00",
          "2020-10-27T00:00:00",
          "2020-10-28T00:00:00",
          "2020-10-29T00:00:00",
          "2020-10-30T00:00:00",
          "2020-10-31T00:00:00",
          "2020-11-01T00:00:00",
          "2020-11-02T00:00:00",
          "2020-11-03T00:00:00",
          "2020-11-04T00:00:00",
          "2020-11-05T00:00:00",
          "2020-11-06T00:00:00",
          "2020-11-07T00:00:00",
          "2020-11-08T00:00:00",
          "2020-11-09T00:00:00",
          "2020-11-10T00:00:00",
          "2020-11-11T00:00:00",
          "2020-11-12T00:00:00",
          "2020-11-13T00:00:00",
          "2020-11-14T00:00:00",
          "2020-11-15T00:00:00",
          "2020-11-16T00:00:00",
          "2020-11-17T00:00:00",
          "2020-11-18T00:00:00",
          "2020-11-19T00:00:00",
          "2020-11-20T00:00:00",
          "2020-11-21T00:00:00",
          "2020-11-22T00:00:00",
          "2020-11-23T00:00:00",
          "2020-11-24T00:00:00",
          "2020-11-25T00:00:00",
          "2020-11-26T00:00:00",
          "2020-11-27T00:00:00",
          "2020-11-28T00:00:00",
          "2020-11-29T00:00:00",
          "2020-11-30T00:00:00",
          "2020-12-01T00:00:00",
          "2020-12-02T00:00:00",
          "2020-12-03T00:00:00",
          "2020-12-04T00:00:00",
          "2020-12-05T00:00:00",
          "2020-12-06T00:00:00",
          "2020-12-07T00:00:00",
          "2020-12-08T00:00:00",
          "2020-12-09T00:00:00",
          "2020-12-10T00:00:00",
          "2020-12-11T00:00:00",
          "2020-12-12T00:00:00",
          "2020-12-13T00:00:00",
          "2020-12-14T00:00:00",
          "2020-12-15T00:00:00",
          "2020-12-16T00:00:00",
          "2020-12-17T00:00:00",
          "2020-12-18T00:00:00",
          "2020-12-19T00:00:00",
          "2020-12-20T00:00:00",
          "2020-12-21T00:00:00",
          "2020-12-22T00:00:00",
          "2020-12-23T00:00:00",
          "2020-12-24T00:00:00",
          "2020-12-25T00:00:00",
          "2020-12-26T00:00:00",
          "2020-12-27T00:00:00",
          "2020-12-28T00:00:00",
          "2020-12-29T00:00:00",
          "2020-12-30T00:00:00",
          "2020-12-31T00:00:00",
          "2021-01-01T00:00:00",
          "2021-01-02T00:00:00",
          "2021-01-03T00:00:00",
          "2021-01-04T00:00:00",
          "2021-01-05T00:00:00",
          "2021-01-06T00:00:00",
          "2021-01-07T00:00:00",
          "2021-01-08T00:00:00",
          "2021-01-09T00:00:00",
          "2021-01-10T00:00:00",
          "2021-01-11T00:00:00",
          "2021-01-12T00:00:00",
          "2021-01-13T00:00:00",
          "2021-01-14T00:00:00",
          "2021-01-15T00:00:00",
          "2021-01-16T00:00:00",
          "2021-01-17T00:00:00"
         ],
         "y": [
          1,
          2,
          3,
          4,
          5,
          6,
          7,
          8,
          9,
          10,
          13,
          16,
          17,
          18,
          19,
          20,
          21,
          22,
          23,
          25,
          26,
          28,
          29,
          30,
          31,
          32,
          33,
          34,
          35,
          36,
          37,
          38,
          41,
          43,
          45,
          47,
          48,
          51,
          56,
          58,
          60,
          62,
          63,
          67,
          70,
          72,
          77,
          83,
          84,
          86,
          88,
          89,
          91,
          92,
          94,
          97,
          101,
          104,
          108,
          111,
          117,
          121,
          123,
          124,
          127,
          134,
          139,
          142,
          148,
          152,
          156,
          157,
          163,
          171,
          176,
          179,
          185,
          191,
          196,
          203,
          205,
          213,
          222,
          230,
          243,
          245,
          252,
          260,
          265,
          272,
          285,
          291,
          301,
          308,
          318,
          333,
          342,
          361,
          372,
          380,
          388,
          396,
          403,
          408,
          417,
          419,
          431,
          437,
          444,
          451,
          457,
          470,
          480,
          489,
          494,
          503,
          513,
          520,
          532,
          538,
          550,
          561,
          569,
          575,
          586,
          591,
          601,
          614,
          622,
          635,
          640,
          645,
          651,
          656,
          660,
          668,
          675,
          679,
          684,
          691,
          697,
          703,
          711,
          718,
          724,
          725,
          732,
          737,
          746,
          755,
          764,
          766,
          770,
          779,
          786,
          793,
          799,
          804,
          805,
          814,
          822,
          827,
          833,
          840,
          849,
          853,
          860,
          867,
          874,
          885,
          889,
          900,
          907,
          912,
          924,
          932,
          944,
          961,
          968,
          984,
          995,
          1011,
          1024,
          1041,
          1060,
          1068,
          1084,
          1099,
          1112,
          1128,
          1139,
          1155,
          1171,
          1189,
          1204,
          1218,
          1232,
          1242,
          1256,
          1266,
          1276,
          1289,
          1304,
          1320,
          1341,
          1360,
          1373,
          1392,
          1402,
          1421,
          1443,
          1460,
          1478,
          1494,
          1517,
          1531,
          1547,
          1553,
          1570,
          1582,
          1595,
          1609,
          1617,
          1627,
          1636,
          1643,
          1651,
          1661,
          1674,
          1685,
          1695,
          1699,
          1713,
          1723,
          1732,
          1741,
          1751,
          1756,
          1764,
          1775,
          1784,
          1793,
          1800,
          1811,
          1820,
          1829,
          1843,
          1852,
          1864,
          1876,
          1886,
          1898,
          1905,
          1915,
          1922,
          1932,
          1939,
          1944,
          1945,
          1947
         ]
        }
       ],
       "layout": {
        "template": {
         "data": {
          "bar": [
           {
            "error_x": {
             "color": "#2a3f5f"
            },
            "error_y": {
             "color": "#2a3f5f"
            },
            "marker": {
             "line": {
              "color": "white",
              "width": 0.5
             }
            },
            "type": "bar"
           }
          ],
          "barpolar": [
           {
            "marker": {
             "line": {
              "color": "white",
              "width": 0.5
             }
            },
            "type": "barpolar"
           }
          ],
          "carpet": [
           {
            "aaxis": {
             "endlinecolor": "#2a3f5f",
             "gridcolor": "#C8D4E3",
             "linecolor": "#C8D4E3",
             "minorgridcolor": "#C8D4E3",
             "startlinecolor": "#2a3f5f"
            },
            "baxis": {
             "endlinecolor": "#2a3f5f",
             "gridcolor": "#C8D4E3",
             "linecolor": "#C8D4E3",
             "minorgridcolor": "#C8D4E3",
             "startlinecolor": "#2a3f5f"
            },
            "type": "carpet"
           }
          ],
          "choropleth": [
           {
            "colorbar": {
             "outlinewidth": 0,
             "ticks": ""
            },
            "type": "choropleth"
           }
          ],
          "contour": [
           {
            "colorbar": {
             "outlinewidth": 0,
             "ticks": ""
            },
            "colorscale": [
             [
              0,
              "#0d0887"
             ],
             [
              0.1111111111111111,
              "#46039f"
             ],
             [
              0.2222222222222222,
              "#7201a8"
             ],
             [
              0.3333333333333333,
              "#9c179e"
             ],
             [
              0.4444444444444444,
              "#bd3786"
             ],
             [
              0.5555555555555556,
              "#d8576b"
             ],
             [
              0.6666666666666666,
              "#ed7953"
             ],
             [
              0.7777777777777778,
              "#fb9f3a"
             ],
             [
              0.8888888888888888,
              "#fdca26"
             ],
             [
              1,
              "#f0f921"
             ]
            ],
            "type": "contour"
           }
          ],
          "contourcarpet": [
           {
            "colorbar": {
             "outlinewidth": 0,
             "ticks": ""
            },
            "type": "contourcarpet"
           }
          ],
          "heatmap": [
           {
            "colorbar": {
             "outlinewidth": 0,
             "ticks": ""
            },
            "colorscale": [
             [
              0,
              "#0d0887"
             ],
             [
              0.1111111111111111,
              "#46039f"
             ],
             [
              0.2222222222222222,
              "#7201a8"
             ],
             [
              0.3333333333333333,
              "#9c179e"
             ],
             [
              0.4444444444444444,
              "#bd3786"
             ],
             [
              0.5555555555555556,
              "#d8576b"
             ],
             [
              0.6666666666666666,
              "#ed7953"
             ],
             [
              0.7777777777777778,
              "#fb9f3a"
             ],
             [
              0.8888888888888888,
              "#fdca26"
             ],
             [
              1,
              "#f0f921"
             ]
            ],
            "type": "heatmap"
           }
          ],
          "heatmapgl": [
           {
            "colorbar": {
             "outlinewidth": 0,
             "ticks": ""
            },
            "colorscale": [
             [
              0,
              "#0d0887"
             ],
             [
              0.1111111111111111,
              "#46039f"
             ],
             [
              0.2222222222222222,
              "#7201a8"
             ],
             [
              0.3333333333333333,
              "#9c179e"
             ],
             [
              0.4444444444444444,
              "#bd3786"
             ],
             [
              0.5555555555555556,
              "#d8576b"
             ],
             [
              0.6666666666666666,
              "#ed7953"
             ],
             [
              0.7777777777777778,
              "#fb9f3a"
             ],
             [
              0.8888888888888888,
              "#fdca26"
             ],
             [
              1,
              "#f0f921"
             ]
            ],
            "type": "heatmapgl"
           }
          ],
          "histogram": [
           {
            "marker": {
             "colorbar": {
              "outlinewidth": 0,
              "ticks": ""
             }
            },
            "type": "histogram"
           }
          ],
          "histogram2d": [
           {
            "colorbar": {
             "outlinewidth": 0,
             "ticks": ""
            },
            "colorscale": [
             [
              0,
              "#0d0887"
             ],
             [
              0.1111111111111111,
              "#46039f"
             ],
             [
              0.2222222222222222,
              "#7201a8"
             ],
             [
              0.3333333333333333,
              "#9c179e"
             ],
             [
              0.4444444444444444,
              "#bd3786"
             ],
             [
              0.5555555555555556,
              "#d8576b"
             ],
             [
              0.6666666666666666,
              "#ed7953"
             ],
             [
              0.7777777777777778,
              "#fb9f3a"
             ],
             [
              0.8888888888888888,
              "#fdca26"
             ],
             [
              1,
              "#f0f921"
             ]
            ],
            "type": "histogram2d"
           }
          ],
          "histogram2dcontour": [
           {
            "colorbar": {
             "outlinewidth": 0,
             "ticks": ""
            },
            "colorscale": [
             [
              0,
              "#0d0887"
             ],
             [
              0.1111111111111111,
              "#46039f"
             ],
             [
              0.2222222222222222,
              "#7201a8"
             ],
             [
              0.3333333333333333,
              "#9c179e"
             ],
             [
              0.4444444444444444,
              "#bd3786"
             ],
             [
              0.5555555555555556,
              "#d8576b"
             ],
             [
              0.6666666666666666,
              "#ed7953"
             ],
             [
              0.7777777777777778,
              "#fb9f3a"
             ],
             [
              0.8888888888888888,
              "#fdca26"
             ],
             [
              1,
              "#f0f921"
             ]
            ],
            "type": "histogram2dcontour"
           }
          ],
          "mesh3d": [
           {
            "colorbar": {
             "outlinewidth": 0,
             "ticks": ""
            },
            "type": "mesh3d"
           }
          ],
          "parcoords": [
           {
            "line": {
             "colorbar": {
              "outlinewidth": 0,
              "ticks": ""
             }
            },
            "type": "parcoords"
           }
          ],
          "pie": [
           {
            "automargin": true,
            "type": "pie"
           }
          ],
          "scatter": [
           {
            "marker": {
             "colorbar": {
              "outlinewidth": 0,
              "ticks": ""
             }
            },
            "type": "scatter"
           }
          ],
          "scatter3d": [
           {
            "line": {
             "colorbar": {
              "outlinewidth": 0,
              "ticks": ""
             }
            },
            "marker": {
             "colorbar": {
              "outlinewidth": 0,
              "ticks": ""
             }
            },
            "type": "scatter3d"
           }
          ],
          "scattercarpet": [
           {
            "marker": {
             "colorbar": {
              "outlinewidth": 0,
              "ticks": ""
             }
            },
            "type": "scattercarpet"
           }
          ],
          "scattergeo": [
           {
            "marker": {
             "colorbar": {
              "outlinewidth": 0,
              "ticks": ""
             }
            },
            "type": "scattergeo"
           }
          ],
          "scattergl": [
           {
            "marker": {
             "colorbar": {
              "outlinewidth": 0,
              "ticks": ""
             }
            },
            "type": "scattergl"
           }
          ],
          "scattermapbox": [
           {
            "marker": {
             "colorbar": {
              "outlinewidth": 0,
              "ticks": ""
             }
            },
            "type": "scattermapbox"
           }
          ],
          "scatterpolar": [
           {
            "marker": {
             "colorbar": {
              "outlinewidth": 0,
              "ticks": ""
             }
            },
            "type": "scatterpolar"
           }
          ],
          "scatterpolargl": [
           {
            "marker": {
             "colorbar": {
              "outlinewidth": 0,
              "ticks": ""
             }
            },
            "type": "scatterpolargl"
           }
          ],
          "scatterternary": [
           {
            "marker": {
             "colorbar": {
              "outlinewidth": 0,
              "ticks": ""
             }
            },
            "type": "scatterternary"
           }
          ],
          "surface": [
           {
            "colorbar": {
             "outlinewidth": 0,
             "ticks": ""
            },
            "colorscale": [
             [
              0,
              "#0d0887"
             ],
             [
              0.1111111111111111,
              "#46039f"
             ],
             [
              0.2222222222222222,
              "#7201a8"
             ],
             [
              0.3333333333333333,
              "#9c179e"
             ],
             [
              0.4444444444444444,
              "#bd3786"
             ],
             [
              0.5555555555555556,
              "#d8576b"
             ],
             [
              0.6666666666666666,
              "#ed7953"
             ],
             [
              0.7777777777777778,
              "#fb9f3a"
             ],
             [
              0.8888888888888888,
              "#fdca26"
             ],
             [
              1,
              "#f0f921"
             ]
            ],
            "type": "surface"
           }
          ],
          "table": [
           {
            "cells": {
             "fill": {
              "color": "#EBF0F8"
             },
             "line": {
              "color": "white"
             }
            },
            "header": {
             "fill": {
              "color": "#C8D4E3"
             },
             "line": {
              "color": "white"
             }
            },
            "type": "table"
           }
          ]
         },
         "layout": {
          "annotationdefaults": {
           "arrowcolor": "#2a3f5f",
           "arrowhead": 0,
           "arrowwidth": 1
          },
          "coloraxis": {
           "colorbar": {
            "outlinewidth": 0,
            "ticks": ""
           }
          },
          "colorscale": {
           "diverging": [
            [
             0,
             "#8e0152"
            ],
            [
             0.1,
             "#c51b7d"
            ],
            [
             0.2,
             "#de77ae"
            ],
            [
             0.3,
             "#f1b6da"
            ],
            [
             0.4,
             "#fde0ef"
            ],
            [
             0.5,
             "#f7f7f7"
            ],
            [
             0.6,
             "#e6f5d0"
            ],
            [
             0.7,
             "#b8e186"
            ],
            [
             0.8,
             "#7fbc41"
            ],
            [
             0.9,
             "#4d9221"
            ],
            [
             1,
             "#276419"
            ]
           ],
           "sequential": [
            [
             0,
             "#0d0887"
            ],
            [
             0.1111111111111111,
             "#46039f"
            ],
            [
             0.2222222222222222,
             "#7201a8"
            ],
            [
             0.3333333333333333,
             "#9c179e"
            ],
            [
             0.4444444444444444,
             "#bd3786"
            ],
            [
             0.5555555555555556,
             "#d8576b"
            ],
            [
             0.6666666666666666,
             "#ed7953"
            ],
            [
             0.7777777777777778,
             "#fb9f3a"
            ],
            [
             0.8888888888888888,
             "#fdca26"
            ],
            [
             1,
             "#f0f921"
            ]
           ],
           "sequentialminus": [
            [
             0,
             "#0d0887"
            ],
            [
             0.1111111111111111,
             "#46039f"
            ],
            [
             0.2222222222222222,
             "#7201a8"
            ],
            [
             0.3333333333333333,
             "#9c179e"
            ],
            [
             0.4444444444444444,
             "#bd3786"
            ],
            [
             0.5555555555555556,
             "#d8576b"
            ],
            [
             0.6666666666666666,
             "#ed7953"
            ],
            [
             0.7777777777777778,
             "#fb9f3a"
            ],
            [
             0.8888888888888888,
             "#fdca26"
            ],
            [
             1,
             "#f0f921"
            ]
           ]
          },
          "colorway": [
           "#636efa",
           "#EF553B",
           "#00cc96",
           "#ab63fa",
           "#FFA15A",
           "#19d3f3",
           "#FF6692",
           "#B6E880",
           "#FF97FF",
           "#FECB52"
          ],
          "font": {
           "color": "#2a3f5f"
          },
          "geo": {
           "bgcolor": "white",
           "lakecolor": "white",
           "landcolor": "white",
           "showlakes": true,
           "showland": true,
           "subunitcolor": "#C8D4E3"
          },
          "hoverlabel": {
           "align": "left"
          },
          "hovermode": "closest",
          "mapbox": {
           "style": "light"
          },
          "paper_bgcolor": "white",
          "plot_bgcolor": "white",
          "polar": {
           "angularaxis": {
            "gridcolor": "#EBF0F8",
            "linecolor": "#EBF0F8",
            "ticks": ""
           },
           "bgcolor": "white",
           "radialaxis": {
            "gridcolor": "#EBF0F8",
            "linecolor": "#EBF0F8",
            "ticks": ""
           }
          },
          "scene": {
           "xaxis": {
            "backgroundcolor": "white",
            "gridcolor": "#DFE8F3",
            "gridwidth": 2,
            "linecolor": "#EBF0F8",
            "showbackground": true,
            "ticks": "",
            "zerolinecolor": "#EBF0F8"
           },
           "yaxis": {
            "backgroundcolor": "white",
            "gridcolor": "#DFE8F3",
            "gridwidth": 2,
            "linecolor": "#EBF0F8",
            "showbackground": true,
            "ticks": "",
            "zerolinecolor": "#EBF0F8"
           },
           "zaxis": {
            "backgroundcolor": "white",
            "gridcolor": "#DFE8F3",
            "gridwidth": 2,
            "linecolor": "#EBF0F8",
            "showbackground": true,
            "ticks": "",
            "zerolinecolor": "#EBF0F8"
           }
          },
          "shapedefaults": {
           "line": {
            "color": "#2a3f5f"
           }
          },
          "ternary": {
           "aaxis": {
            "gridcolor": "#DFE8F3",
            "linecolor": "#A2B1C6",
            "ticks": ""
           },
           "baxis": {
            "gridcolor": "#DFE8F3",
            "linecolor": "#A2B1C6",
            "ticks": ""
           },
           "bgcolor": "white",
           "caxis": {
            "gridcolor": "#DFE8F3",
            "linecolor": "#A2B1C6",
            "ticks": ""
           }
          },
          "title": {
           "x": 0.05
          },
          "xaxis": {
           "automargin": true,
           "gridcolor": "#EBF0F8",
           "linecolor": "#EBF0F8",
           "ticks": "",
           "title": {
            "standoff": 15
           },
           "zerolinecolor": "#EBF0F8",
           "zerolinewidth": 2
          },
          "yaxis": {
           "automargin": true,
           "gridcolor": "#EBF0F8",
           "linecolor": "#EBF0F8",
           "ticks": "",
           "title": {
            "standoff": 15
           },
           "zerolinecolor": "#EBF0F8",
           "zerolinewidth": 2
          }
         }
        },
        "title": {
         "text": "Casos acumulados en Zacatecas"
        },
        "xaxis": {
         "title": {
          "text": "Fecha de registro"
         }
        },
        "yaxis": {
         "title": {
          "text": "Número de casos acumulados"
         }
        }
       }
      }
     },
     "metadata": {}
    },
    {
     "output_type": "stream",
     "name": "stdout",
     "text": [
      "Total de defunciones acumuladas =  1947\nTotal de casos confirmados =  23311\n"
     ]
    }
   ],
   "source": [
    "#\n",
    "acum_plot(confirmados_mich[\"fecha_ingreso\"],confirmados_mich[\"confirmados_acumulados\"],\n",
    "            defunciones_mich[\"fecha_defuncion\"], defunciones_mich[\"defunciones_acumuladas\"], region = confirmados_mich[\"ENTIDAD\"].iloc[0] )\n",
    "print(\"Total de defunciones acumuladas = \", defunciones_mich[\"defunciones\"].sum())\n",
    "print(\"Total de casos confirmados = \",confirmados_mich[\"confirmados\"].sum())"
   ]
  },
  {
   "cell_type": "code",
   "execution_count": 63,
   "metadata": {},
   "outputs": [
    {
     "output_type": "display_data",
     "data": {
      "application/vnd.plotly.v1+json": {
       "config": {
        "plotlyServerURL": "https://plot.ly"
       },
       "data": [
        {
         "marker": {
          "color": "#ff1744",
          "opacity": 0.6
         },
         "name": "Nuevos casos",
         "type": "bar",
         "x": [
          "2020-02-19T00:00:00",
          "2020-03-03T00:00:00",
          "2020-03-04T00:00:00",
          "2020-03-11T00:00:00",
          "2020-03-16T00:00:00",
          "2020-03-20T00:00:00",
          "2020-03-21T00:00:00",
          "2020-03-22T00:00:00",
          "2020-03-23T00:00:00",
          "2020-03-24T00:00:00",
          "2020-03-27T00:00:00",
          "2020-03-28T00:00:00",
          "2020-04-02T00:00:00",
          "2020-04-04T00:00:00",
          "2020-04-05T00:00:00",
          "2020-04-06T00:00:00",
          "2020-04-08T00:00:00",
          "2020-04-09T00:00:00",
          "2020-04-11T00:00:00",
          "2020-04-12T00:00:00",
          "2020-04-14T00:00:00",
          "2020-04-15T00:00:00",
          "2020-04-16T00:00:00",
          "2020-04-17T00:00:00",
          "2020-04-18T00:00:00",
          "2020-04-19T00:00:00",
          "2020-04-20T00:00:00",
          "2020-04-21T00:00:00",
          "2020-04-22T00:00:00",
          "2020-04-23T00:00:00",
          "2020-04-24T00:00:00",
          "2020-04-25T00:00:00",
          "2020-04-26T00:00:00",
          "2020-04-27T00:00:00",
          "2020-04-28T00:00:00",
          "2020-04-29T00:00:00",
          "2020-04-30T00:00:00",
          "2020-05-01T00:00:00",
          "2020-05-02T00:00:00",
          "2020-05-03T00:00:00",
          "2020-05-04T00:00:00",
          "2020-05-05T00:00:00",
          "2020-05-06T00:00:00",
          "2020-05-07T00:00:00",
          "2020-05-08T00:00:00",
          "2020-05-09T00:00:00",
          "2020-05-10T00:00:00",
          "2020-05-11T00:00:00",
          "2020-05-12T00:00:00",
          "2020-05-13T00:00:00",
          "2020-05-14T00:00:00",
          "2020-05-15T00:00:00",
          "2020-05-16T00:00:00",
          "2020-05-17T00:00:00",
          "2020-05-18T00:00:00",
          "2020-05-20T00:00:00",
          "2020-05-21T00:00:00",
          "2020-05-22T00:00:00",
          "2020-05-23T00:00:00",
          "2020-05-24T00:00:00",
          "2020-05-25T00:00:00",
          "2020-05-26T00:00:00",
          "2020-05-27T00:00:00",
          "2020-05-28T00:00:00",
          "2020-05-29T00:00:00",
          "2020-05-30T00:00:00",
          "2020-05-31T00:00:00",
          "2020-06-01T00:00:00",
          "2020-06-02T00:00:00",
          "2020-06-03T00:00:00",
          "2020-06-04T00:00:00",
          "2020-06-05T00:00:00",
          "2020-06-06T00:00:00",
          "2020-06-07T00:00:00",
          "2020-06-08T00:00:00",
          "2020-06-09T00:00:00",
          "2020-06-10T00:00:00",
          "2020-06-11T00:00:00",
          "2020-06-12T00:00:00",
          "2020-06-13T00:00:00",
          "2020-06-14T00:00:00",
          "2020-06-15T00:00:00",
          "2020-06-16T00:00:00",
          "2020-06-17T00:00:00",
          "2020-06-18T00:00:00",
          "2020-06-19T00:00:00",
          "2020-06-20T00:00:00",
          "2020-06-21T00:00:00",
          "2020-06-22T00:00:00",
          "2020-06-23T00:00:00",
          "2020-06-24T00:00:00",
          "2020-06-25T00:00:00",
          "2020-06-26T00:00:00",
          "2020-06-27T00:00:00",
          "2020-06-28T00:00:00",
          "2020-06-29T00:00:00",
          "2020-06-30T00:00:00",
          "2020-07-01T00:00:00",
          "2020-07-02T00:00:00",
          "2020-07-03T00:00:00",
          "2020-07-04T00:00:00",
          "2020-07-05T00:00:00",
          "2020-07-06T00:00:00",
          "2020-07-07T00:00:00",
          "2020-07-08T00:00:00",
          "2020-07-09T00:00:00",
          "2020-07-10T00:00:00",
          "2020-07-11T00:00:00",
          "2020-07-12T00:00:00",
          "2020-07-13T00:00:00",
          "2020-07-14T00:00:00",
          "2020-07-15T00:00:00",
          "2020-07-16T00:00:00",
          "2020-07-17T00:00:00",
          "2020-07-18T00:00:00",
          "2020-07-19T00:00:00",
          "2020-07-20T00:00:00",
          "2020-07-21T00:00:00",
          "2020-07-22T00:00:00",
          "2020-07-23T00:00:00",
          "2020-07-24T00:00:00",
          "2020-07-25T00:00:00",
          "2020-07-26T00:00:00",
          "2020-07-27T00:00:00",
          "2020-07-28T00:00:00",
          "2020-07-29T00:00:00",
          "2020-07-30T00:00:00",
          "2020-07-31T00:00:00",
          "2020-08-01T00:00:00",
          "2020-08-02T00:00:00",
          "2020-08-03T00:00:00",
          "2020-08-04T00:00:00",
          "2020-08-05T00:00:00",
          "2020-08-06T00:00:00",
          "2020-08-07T00:00:00",
          "2020-08-08T00:00:00",
          "2020-08-09T00:00:00",
          "2020-08-10T00:00:00",
          "2020-08-11T00:00:00",
          "2020-08-12T00:00:00",
          "2020-08-13T00:00:00",
          "2020-08-14T00:00:00",
          "2020-08-15T00:00:00",
          "2020-08-16T00:00:00",
          "2020-08-17T00:00:00",
          "2020-08-18T00:00:00",
          "2020-08-19T00:00:00",
          "2020-08-20T00:00:00",
          "2020-08-21T00:00:00",
          "2020-08-22T00:00:00",
          "2020-08-23T00:00:00",
          "2020-08-24T00:00:00",
          "2020-08-25T00:00:00",
          "2020-08-26T00:00:00",
          "2020-08-27T00:00:00",
          "2020-08-28T00:00:00",
          "2020-08-29T00:00:00",
          "2020-08-30T00:00:00",
          "2020-08-31T00:00:00",
          "2020-09-01T00:00:00",
          "2020-09-02T00:00:00",
          "2020-09-03T00:00:00",
          "2020-09-04T00:00:00",
          "2020-09-05T00:00:00",
          "2020-09-06T00:00:00",
          "2020-09-07T00:00:00",
          "2020-09-08T00:00:00",
          "2020-09-09T00:00:00",
          "2020-09-10T00:00:00",
          "2020-09-11T00:00:00",
          "2020-09-12T00:00:00",
          "2020-09-13T00:00:00",
          "2020-09-14T00:00:00",
          "2020-09-15T00:00:00",
          "2020-09-16T00:00:00",
          "2020-09-17T00:00:00",
          "2020-09-18T00:00:00",
          "2020-09-19T00:00:00",
          "2020-09-20T00:00:00",
          "2020-09-21T00:00:00",
          "2020-09-22T00:00:00",
          "2020-09-23T00:00:00",
          "2020-09-24T00:00:00",
          "2020-09-25T00:00:00",
          "2020-09-26T00:00:00",
          "2020-09-27T00:00:00",
          "2020-09-28T00:00:00",
          "2020-09-29T00:00:00",
          "2020-09-30T00:00:00",
          "2020-10-01T00:00:00",
          "2020-10-02T00:00:00",
          "2020-10-03T00:00:00",
          "2020-10-04T00:00:00",
          "2020-10-05T00:00:00",
          "2020-10-06T00:00:00",
          "2020-10-07T00:00:00",
          "2020-10-08T00:00:00",
          "2020-10-09T00:00:00",
          "2020-10-10T00:00:00",
          "2020-10-11T00:00:00",
          "2020-10-12T00:00:00",
          "2020-10-13T00:00:00",
          "2020-10-14T00:00:00",
          "2020-10-15T00:00:00",
          "2020-10-16T00:00:00",
          "2020-10-17T00:00:00",
          "2020-10-18T00:00:00",
          "2020-10-19T00:00:00",
          "2020-10-20T00:00:00",
          "2020-10-21T00:00:00",
          "2020-10-22T00:00:00",
          "2020-10-23T00:00:00",
          "2020-10-24T00:00:00",
          "2020-10-25T00:00:00",
          "2020-10-26T00:00:00",
          "2020-10-27T00:00:00",
          "2020-10-28T00:00:00",
          "2020-10-29T00:00:00",
          "2020-10-30T00:00:00",
          "2020-10-31T00:00:00",
          "2020-11-01T00:00:00",
          "2020-11-02T00:00:00",
          "2020-11-03T00:00:00",
          "2020-11-04T00:00:00",
          "2020-11-05T00:00:00",
          "2020-11-06T00:00:00",
          "2020-11-07T00:00:00",
          "2020-11-08T00:00:00",
          "2020-11-09T00:00:00",
          "2020-11-10T00:00:00",
          "2020-11-11T00:00:00",
          "2020-11-12T00:00:00",
          "2020-11-13T00:00:00",
          "2020-11-14T00:00:00",
          "2020-11-15T00:00:00",
          "2020-11-16T00:00:00",
          "2020-11-17T00:00:00",
          "2020-11-18T00:00:00",
          "2020-11-19T00:00:00",
          "2020-11-20T00:00:00",
          "2020-11-21T00:00:00",
          "2020-11-22T00:00:00",
          "2020-11-23T00:00:00",
          "2020-11-24T00:00:00",
          "2020-11-25T00:00:00",
          "2020-11-26T00:00:00",
          "2020-11-27T00:00:00",
          "2020-11-28T00:00:00",
          "2020-11-29T00:00:00",
          "2020-11-30T00:00:00",
          "2020-12-01T00:00:00",
          "2020-12-02T00:00:00",
          "2020-12-03T00:00:00",
          "2020-12-04T00:00:00",
          "2020-12-05T00:00:00",
          "2020-12-06T00:00:00",
          "2020-12-07T00:00:00",
          "2020-12-08T00:00:00",
          "2020-12-09T00:00:00",
          "2020-12-10T00:00:00",
          "2020-12-11T00:00:00",
          "2020-12-12T00:00:00",
          "2020-12-13T00:00:00",
          "2020-12-14T00:00:00",
          "2020-12-15T00:00:00",
          "2020-12-16T00:00:00",
          "2020-12-17T00:00:00",
          "2020-12-18T00:00:00",
          "2020-12-19T00:00:00",
          "2020-12-20T00:00:00",
          "2020-12-21T00:00:00",
          "2020-12-22T00:00:00",
          "2020-12-23T00:00:00",
          "2020-12-24T00:00:00",
          "2020-12-25T00:00:00",
          "2020-12-26T00:00:00",
          "2020-12-27T00:00:00",
          "2020-12-28T00:00:00",
          "2020-12-29T00:00:00",
          "2020-12-30T00:00:00",
          "2020-12-31T00:00:00",
          "2021-01-01T00:00:00",
          "2021-01-02T00:00:00",
          "2021-01-03T00:00:00",
          "2021-01-04T00:00:00",
          "2021-01-05T00:00:00",
          "2021-01-06T00:00:00",
          "2021-01-07T00:00:00",
          "2021-01-08T00:00:00",
          "2021-01-09T00:00:00",
          "2021-01-10T00:00:00",
          "2021-01-11T00:00:00",
          "2021-01-12T00:00:00",
          "2021-01-13T00:00:00",
          "2021-01-14T00:00:00",
          "2021-01-15T00:00:00",
          "2021-01-16T00:00:00",
          "2021-01-17T00:00:00"
         ],
         "y": [
          1,
          1,
          3,
          1,
          1,
          1,
          1,
          1,
          1,
          1,
          4,
          1,
          1,
          1,
          1,
          1,
          2,
          2,
          2,
          1,
          1,
          6,
          4,
          2,
          7,
          1,
          9,
          2,
          2,
          8,
          5,
          4,
          3,
          4,
          10,
          9,
          4,
          7,
          7,
          2,
          7,
          5,
          11,
          9,
          9,
          4,
          2,
          11,
          3,
          12,
          18,
          8,
          3,
          3,
          6,
          16,
          7,
          9,
          11,
          6,
          11,
          12,
          4,
          7,
          15,
          7,
          5,
          16,
          13,
          16,
          18,
          17,
          14,
          12,
          20,
          30,
          38,
          20,
          25,
          19,
          9,
          37,
          34,
          20,
          23,
          26,
          11,
          9,
          35,
          30,
          24,
          32,
          31,
          15,
          24,
          43,
          54,
          45,
          48,
          50,
          22,
          20,
          58,
          45,
          53,
          36,
          47,
          55,
          32,
          46,
          61,
          76,
          98,
          55,
          45,
          25,
          88,
          86,
          94,
          81,
          85,
          61,
          26,
          78,
          129,
          73,
          103,
          78,
          50,
          41,
          95,
          90,
          85,
          99,
          87,
          93,
          59,
          110,
          171,
          135,
          69,
          74,
          64,
          47,
          80,
          100,
          88,
          95,
          93,
          49,
          45,
          95,
          111,
          86,
          98,
          96,
          40,
          32,
          66,
          91,
          124,
          76,
          106,
          52,
          38,
          76,
          76,
          78,
          103,
          87,
          38,
          36,
          71,
          88,
          43,
          109,
          68,
          32,
          18,
          75,
          94,
          69,
          90,
          80,
          33,
          25,
          81,
          114,
          81,
          88,
          93,
          38,
          59,
          84,
          103,
          95,
          102,
          104,
          93,
          95,
          131,
          179,
          141,
          137,
          154,
          99,
          49,
          162,
          178,
          185,
          166,
          166,
          120,
          68,
          183,
          230,
          173,
          188,
          158,
          93,
          60,
          165,
          235,
          210,
          249,
          203,
          122,
          98,
          191,
          265,
          251,
          253,
          274,
          106,
          98,
          125,
          225,
          263,
          297,
          257,
          96,
          84,
          235,
          272,
          275,
          231,
          228,
          103,
          86,
          190,
          315,
          205,
          177,
          190,
          76,
          57,
          188,
          189,
          151,
          190,
          159,
          60,
          67,
          140,
          194,
          134,
          193,
          83,
          86,
          61,
          137,
          198,
          85,
          83,
          13,
          34,
          39,
          147,
          156,
          122,
          101,
          17,
          58,
          30,
          184,
          234,
          182,
          205,
          166,
          70,
          52,
          185,
          149,
          145,
          148,
          104,
          14,
          22
         ]
        },
        {
         "line": {
          "color": "#b71c1c",
          "width": 2.5
         },
         "mode": "lines",
         "name": "Promedio de 7 días",
         "type": "scatter",
         "x": [
          "2020-02-19T00:00:00",
          "2020-03-03T00:00:00",
          "2020-03-04T00:00:00",
          "2020-03-11T00:00:00",
          "2020-03-16T00:00:00",
          "2020-03-20T00:00:00",
          "2020-03-21T00:00:00",
          "2020-03-22T00:00:00",
          "2020-03-23T00:00:00",
          "2020-03-24T00:00:00",
          "2020-03-27T00:00:00",
          "2020-03-28T00:00:00",
          "2020-04-02T00:00:00",
          "2020-04-04T00:00:00",
          "2020-04-05T00:00:00",
          "2020-04-06T00:00:00",
          "2020-04-08T00:00:00",
          "2020-04-09T00:00:00",
          "2020-04-11T00:00:00",
          "2020-04-12T00:00:00",
          "2020-04-14T00:00:00",
          "2020-04-15T00:00:00",
          "2020-04-16T00:00:00",
          "2020-04-17T00:00:00",
          "2020-04-18T00:00:00",
          "2020-04-19T00:00:00",
          "2020-04-20T00:00:00",
          "2020-04-21T00:00:00",
          "2020-04-22T00:00:00",
          "2020-04-23T00:00:00",
          "2020-04-24T00:00:00",
          "2020-04-25T00:00:00",
          "2020-04-26T00:00:00",
          "2020-04-27T00:00:00",
          "2020-04-28T00:00:00",
          "2020-04-29T00:00:00",
          "2020-04-30T00:00:00",
          "2020-05-01T00:00:00",
          "2020-05-02T00:00:00",
          "2020-05-03T00:00:00",
          "2020-05-04T00:00:00",
          "2020-05-05T00:00:00",
          "2020-05-06T00:00:00",
          "2020-05-07T00:00:00",
          "2020-05-08T00:00:00",
          "2020-05-09T00:00:00",
          "2020-05-10T00:00:00",
          "2020-05-11T00:00:00",
          "2020-05-12T00:00:00",
          "2020-05-13T00:00:00",
          "2020-05-14T00:00:00",
          "2020-05-15T00:00:00",
          "2020-05-16T00:00:00",
          "2020-05-17T00:00:00",
          "2020-05-18T00:00:00",
          "2020-05-20T00:00:00",
          "2020-05-21T00:00:00",
          "2020-05-22T00:00:00",
          "2020-05-23T00:00:00",
          "2020-05-24T00:00:00",
          "2020-05-25T00:00:00",
          "2020-05-26T00:00:00",
          "2020-05-27T00:00:00",
          "2020-05-28T00:00:00",
          "2020-05-29T00:00:00",
          "2020-05-30T00:00:00",
          "2020-05-31T00:00:00",
          "2020-06-01T00:00:00",
          "2020-06-02T00:00:00",
          "2020-06-03T00:00:00",
          "2020-06-04T00:00:00",
          "2020-06-05T00:00:00",
          "2020-06-06T00:00:00",
          "2020-06-07T00:00:00",
          "2020-06-08T00:00:00",
          "2020-06-09T00:00:00",
          "2020-06-10T00:00:00",
          "2020-06-11T00:00:00",
          "2020-06-12T00:00:00",
          "2020-06-13T00:00:00",
          "2020-06-14T00:00:00",
          "2020-06-15T00:00:00",
          "2020-06-16T00:00:00",
          "2020-06-17T00:00:00",
          "2020-06-18T00:00:00",
          "2020-06-19T00:00:00",
          "2020-06-20T00:00:00",
          "2020-06-21T00:00:00",
          "2020-06-22T00:00:00",
          "2020-06-23T00:00:00",
          "2020-06-24T00:00:00",
          "2020-06-25T00:00:00",
          "2020-06-26T00:00:00",
          "2020-06-27T00:00:00",
          "2020-06-28T00:00:00",
          "2020-06-29T00:00:00",
          "2020-06-30T00:00:00",
          "2020-07-01T00:00:00",
          "2020-07-02T00:00:00",
          "2020-07-03T00:00:00",
          "2020-07-04T00:00:00",
          "2020-07-05T00:00:00",
          "2020-07-06T00:00:00",
          "2020-07-07T00:00:00",
          "2020-07-08T00:00:00",
          "2020-07-09T00:00:00",
          "2020-07-10T00:00:00",
          "2020-07-11T00:00:00",
          "2020-07-12T00:00:00",
          "2020-07-13T00:00:00",
          "2020-07-14T00:00:00",
          "2020-07-15T00:00:00",
          "2020-07-16T00:00:00",
          "2020-07-17T00:00:00",
          "2020-07-18T00:00:00",
          "2020-07-19T00:00:00",
          "2020-07-20T00:00:00",
          "2020-07-21T00:00:00",
          "2020-07-22T00:00:00",
          "2020-07-23T00:00:00",
          "2020-07-24T00:00:00",
          "2020-07-25T00:00:00",
          "2020-07-26T00:00:00",
          "2020-07-27T00:00:00",
          "2020-07-28T00:00:00",
          "2020-07-29T00:00:00",
          "2020-07-30T00:00:00",
          "2020-07-31T00:00:00",
          "2020-08-01T00:00:00",
          "2020-08-02T00:00:00",
          "2020-08-03T00:00:00",
          "2020-08-04T00:00:00",
          "2020-08-05T00:00:00",
          "2020-08-06T00:00:00",
          "2020-08-07T00:00:00",
          "2020-08-08T00:00:00",
          "2020-08-09T00:00:00",
          "2020-08-10T00:00:00",
          "2020-08-11T00:00:00",
          "2020-08-12T00:00:00",
          "2020-08-13T00:00:00",
          "2020-08-14T00:00:00",
          "2020-08-15T00:00:00",
          "2020-08-16T00:00:00",
          "2020-08-17T00:00:00",
          "2020-08-18T00:00:00",
          "2020-08-19T00:00:00",
          "2020-08-20T00:00:00",
          "2020-08-21T00:00:00",
          "2020-08-22T00:00:00",
          "2020-08-23T00:00:00",
          "2020-08-24T00:00:00",
          "2020-08-25T00:00:00",
          "2020-08-26T00:00:00",
          "2020-08-27T00:00:00",
          "2020-08-28T00:00:00",
          "2020-08-29T00:00:00",
          "2020-08-30T00:00:00",
          "2020-08-31T00:00:00",
          "2020-09-01T00:00:00",
          "2020-09-02T00:00:00",
          "2020-09-03T00:00:00",
          "2020-09-04T00:00:00",
          "2020-09-05T00:00:00",
          "2020-09-06T00:00:00",
          "2020-09-07T00:00:00",
          "2020-09-08T00:00:00",
          "2020-09-09T00:00:00",
          "2020-09-10T00:00:00",
          "2020-09-11T00:00:00",
          "2020-09-12T00:00:00",
          "2020-09-13T00:00:00",
          "2020-09-14T00:00:00",
          "2020-09-15T00:00:00",
          "2020-09-16T00:00:00",
          "2020-09-17T00:00:00",
          "2020-09-18T00:00:00",
          "2020-09-19T00:00:00",
          "2020-09-20T00:00:00",
          "2020-09-21T00:00:00",
          "2020-09-22T00:00:00",
          "2020-09-23T00:00:00",
          "2020-09-24T00:00:00",
          "2020-09-25T00:00:00",
          "2020-09-26T00:00:00",
          "2020-09-27T00:00:00",
          "2020-09-28T00:00:00",
          "2020-09-29T00:00:00",
          "2020-09-30T00:00:00",
          "2020-10-01T00:00:00",
          "2020-10-02T00:00:00",
          "2020-10-03T00:00:00",
          "2020-10-04T00:00:00",
          "2020-10-05T00:00:00",
          "2020-10-06T00:00:00",
          "2020-10-07T00:00:00",
          "2020-10-08T00:00:00",
          "2020-10-09T00:00:00",
          "2020-10-10T00:00:00",
          "2020-10-11T00:00:00",
          "2020-10-12T00:00:00",
          "2020-10-13T00:00:00",
          "2020-10-14T00:00:00",
          "2020-10-15T00:00:00",
          "2020-10-16T00:00:00",
          "2020-10-17T00:00:00",
          "2020-10-18T00:00:00",
          "2020-10-19T00:00:00",
          "2020-10-20T00:00:00",
          "2020-10-21T00:00:00",
          "2020-10-22T00:00:00",
          "2020-10-23T00:00:00",
          "2020-10-24T00:00:00",
          "2020-10-25T00:00:00",
          "2020-10-26T00:00:00",
          "2020-10-27T00:00:00",
          "2020-10-28T00:00:00",
          "2020-10-29T00:00:00",
          "2020-10-30T00:00:00",
          "2020-10-31T00:00:00",
          "2020-11-01T00:00:00",
          "2020-11-02T00:00:00",
          "2020-11-03T00:00:00",
          "2020-11-04T00:00:00",
          "2020-11-05T00:00:00",
          "2020-11-06T00:00:00",
          "2020-11-07T00:00:00",
          "2020-11-08T00:00:00",
          "2020-11-09T00:00:00",
          "2020-11-10T00:00:00",
          "2020-11-11T00:00:00",
          "2020-11-12T00:00:00",
          "2020-11-13T00:00:00",
          "2020-11-14T00:00:00",
          "2020-11-15T00:00:00",
          "2020-11-16T00:00:00",
          "2020-11-17T00:00:00",
          "2020-11-18T00:00:00",
          "2020-11-19T00:00:00",
          "2020-11-20T00:00:00",
          "2020-11-21T00:00:00",
          "2020-11-22T00:00:00",
          "2020-11-23T00:00:00",
          "2020-11-24T00:00:00",
          "2020-11-25T00:00:00",
          "2020-11-26T00:00:00",
          "2020-11-27T00:00:00",
          "2020-11-28T00:00:00",
          "2020-11-29T00:00:00",
          "2020-11-30T00:00:00",
          "2020-12-01T00:00:00",
          "2020-12-02T00:00:00",
          "2020-12-03T00:00:00",
          "2020-12-04T00:00:00",
          "2020-12-05T00:00:00",
          "2020-12-06T00:00:00",
          "2020-12-07T00:00:00",
          "2020-12-08T00:00:00",
          "2020-12-09T00:00:00",
          "2020-12-10T00:00:00",
          "2020-12-11T00:00:00",
          "2020-12-12T00:00:00",
          "2020-12-13T00:00:00",
          "2020-12-14T00:00:00",
          "2020-12-15T00:00:00",
          "2020-12-16T00:00:00",
          "2020-12-17T00:00:00",
          "2020-12-18T00:00:00",
          "2020-12-19T00:00:00",
          "2020-12-20T00:00:00",
          "2020-12-21T00:00:00",
          "2020-12-22T00:00:00",
          "2020-12-23T00:00:00",
          "2020-12-24T00:00:00",
          "2020-12-25T00:00:00",
          "2020-12-26T00:00:00",
          "2020-12-27T00:00:00",
          "2020-12-28T00:00:00",
          "2020-12-29T00:00:00",
          "2020-12-30T00:00:00",
          "2020-12-31T00:00:00",
          "2021-01-01T00:00:00",
          "2021-01-02T00:00:00",
          "2021-01-03T00:00:00",
          "2021-01-04T00:00:00",
          "2021-01-05T00:00:00",
          "2021-01-06T00:00:00",
          "2021-01-07T00:00:00",
          "2021-01-08T00:00:00",
          "2021-01-09T00:00:00",
          "2021-01-10T00:00:00",
          "2021-01-11T00:00:00",
          "2021-01-12T00:00:00",
          "2021-01-13T00:00:00",
          "2021-01-14T00:00:00",
          "2021-01-15T00:00:00",
          "2021-01-16T00:00:00",
          "2021-01-17T00:00:00"
         ],
         "y": [
          0,
          0,
          1,
          1,
          1,
          1,
          1,
          1,
          1,
          1,
          1,
          1,
          1,
          1,
          1,
          1,
          2,
          1,
          1,
          1,
          1,
          2,
          3,
          3,
          3,
          3,
          4,
          4,
          4,
          4,
          5,
          4,
          5,
          4,
          5,
          6,
          6,
          6,
          6,
          6,
          7,
          6,
          6,
          7,
          7,
          7,
          7,
          7,
          7,
          7,
          8,
          8,
          8,
          8,
          8,
          9,
          9,
          7,
          8,
          8,
          9,
          10,
          9,
          9,
          9,
          9,
          9,
          9,
          10,
          11,
          13,
          13,
          14,
          15,
          16,
          18,
          21,
          22,
          23,
          23,
          23,
          25,
          26,
          23,
          24,
          24,
          23,
          23,
          23,
          22,
          23,
          24,
          25,
          25,
          27,
          28,
          32,
          35,
          37,
          40,
          41,
          40,
          42,
          41,
          42,
          41,
          40,
          45,
          47,
          45,
          47,
          50,
          59,
          60,
          59,
          58,
          64,
          68,
          70,
          68,
          72,
          74,
          74,
          73,
          79,
          76,
          79,
          78,
          77,
          79,
          81,
          76,
          77,
          77,
          78,
          84,
          87,
          89,
          101,
          108,
          103,
          102,
          97,
          96,
          91,
          81,
          75,
          78,
          81,
          79,
          79,
          81,
          82,
          82,
          82,
          83,
          82,
          80,
          76,
          73,
          78,
          75,
          76,
          78,
          79,
          80,
          78,
          72,
          76,
          73,
          71,
          71,
          70,
          72,
          67,
          67,
          65,
          64,
          61,
          62,
          63,
          66,
          64,
          65,
          66,
          67,
          67,
          70,
          72,
          72,
          74,
          74,
          79,
          80,
          78,
          80,
          82,
          84,
          91,
          97,
          103,
          114,
          121,
          126,
          133,
          134,
          127,
          132,
          131,
          138,
          142,
          144,
          147,
          149,
          152,
          160,
          158,
          161,
          160,
          156,
          155,
          152,
          153,
          158,
          167,
          174,
          178,
          183,
          187,
          191,
          197,
          198,
          208,
          205,
          205,
          196,
          190,
          192,
          198,
          196,
          194,
          192,
          208,
          215,
          217,
          207,
          203,
          204,
          204,
          198,
          204,
          194,
          186,
          181,
          177,
          173,
          173,
          155,
          147,
          149,
          144,
          142,
          143,
          137,
          137,
          135,
          135,
          124,
          128,
          127,
          127,
          127,
          120,
          105,
          95,
          87,
          84,
          86,
          80,
          85,
          87,
          88,
          91,
          90,
          95,
          107,
          115,
          130,
          151,
          153,
          156,
          156,
          144,
          139,
          131,
          122,
          114,
          110
         ]
        }
       ],
       "layout": {
        "height": 450,
        "hovermode": "x unified",
        "template": {
         "data": {
          "bar": [
           {
            "error_x": {
             "color": "#2a3f5f"
            },
            "error_y": {
             "color": "#2a3f5f"
            },
            "marker": {
             "line": {
              "color": "white",
              "width": 0.5
             }
            },
            "type": "bar"
           }
          ],
          "barpolar": [
           {
            "marker": {
             "line": {
              "color": "white",
              "width": 0.5
             }
            },
            "type": "barpolar"
           }
          ],
          "carpet": [
           {
            "aaxis": {
             "endlinecolor": "#2a3f5f",
             "gridcolor": "#C8D4E3",
             "linecolor": "#C8D4E3",
             "minorgridcolor": "#C8D4E3",
             "startlinecolor": "#2a3f5f"
            },
            "baxis": {
             "endlinecolor": "#2a3f5f",
             "gridcolor": "#C8D4E3",
             "linecolor": "#C8D4E3",
             "minorgridcolor": "#C8D4E3",
             "startlinecolor": "#2a3f5f"
            },
            "type": "carpet"
           }
          ],
          "choropleth": [
           {
            "colorbar": {
             "outlinewidth": 0,
             "ticks": ""
            },
            "type": "choropleth"
           }
          ],
          "contour": [
           {
            "colorbar": {
             "outlinewidth": 0,
             "ticks": ""
            },
            "colorscale": [
             [
              0,
              "#0d0887"
             ],
             [
              0.1111111111111111,
              "#46039f"
             ],
             [
              0.2222222222222222,
              "#7201a8"
             ],
             [
              0.3333333333333333,
              "#9c179e"
             ],
             [
              0.4444444444444444,
              "#bd3786"
             ],
             [
              0.5555555555555556,
              "#d8576b"
             ],
             [
              0.6666666666666666,
              "#ed7953"
             ],
             [
              0.7777777777777778,
              "#fb9f3a"
             ],
             [
              0.8888888888888888,
              "#fdca26"
             ],
             [
              1,
              "#f0f921"
             ]
            ],
            "type": "contour"
           }
          ],
          "contourcarpet": [
           {
            "colorbar": {
             "outlinewidth": 0,
             "ticks": ""
            },
            "type": "contourcarpet"
           }
          ],
          "heatmap": [
           {
            "colorbar": {
             "outlinewidth": 0,
             "ticks": ""
            },
            "colorscale": [
             [
              0,
              "#0d0887"
             ],
             [
              0.1111111111111111,
              "#46039f"
             ],
             [
              0.2222222222222222,
              "#7201a8"
             ],
             [
              0.3333333333333333,
              "#9c179e"
             ],
             [
              0.4444444444444444,
              "#bd3786"
             ],
             [
              0.5555555555555556,
              "#d8576b"
             ],
             [
              0.6666666666666666,
              "#ed7953"
             ],
             [
              0.7777777777777778,
              "#fb9f3a"
             ],
             [
              0.8888888888888888,
              "#fdca26"
             ],
             [
              1,
              "#f0f921"
             ]
            ],
            "type": "heatmap"
           }
          ],
          "heatmapgl": [
           {
            "colorbar": {
             "outlinewidth": 0,
             "ticks": ""
            },
            "colorscale": [
             [
              0,
              "#0d0887"
             ],
             [
              0.1111111111111111,
              "#46039f"
             ],
             [
              0.2222222222222222,
              "#7201a8"
             ],
             [
              0.3333333333333333,
              "#9c179e"
             ],
             [
              0.4444444444444444,
              "#bd3786"
             ],
             [
              0.5555555555555556,
              "#d8576b"
             ],
             [
              0.6666666666666666,
              "#ed7953"
             ],
             [
              0.7777777777777778,
              "#fb9f3a"
             ],
             [
              0.8888888888888888,
              "#fdca26"
             ],
             [
              1,
              "#f0f921"
             ]
            ],
            "type": "heatmapgl"
           }
          ],
          "histogram": [
           {
            "marker": {
             "colorbar": {
              "outlinewidth": 0,
              "ticks": ""
             }
            },
            "type": "histogram"
           }
          ],
          "histogram2d": [
           {
            "colorbar": {
             "outlinewidth": 0,
             "ticks": ""
            },
            "colorscale": [
             [
              0,
              "#0d0887"
             ],
             [
              0.1111111111111111,
              "#46039f"
             ],
             [
              0.2222222222222222,
              "#7201a8"
             ],
             [
              0.3333333333333333,
              "#9c179e"
             ],
             [
              0.4444444444444444,
              "#bd3786"
             ],
             [
              0.5555555555555556,
              "#d8576b"
             ],
             [
              0.6666666666666666,
              "#ed7953"
             ],
             [
              0.7777777777777778,
              "#fb9f3a"
             ],
             [
              0.8888888888888888,
              "#fdca26"
             ],
             [
              1,
              "#f0f921"
             ]
            ],
            "type": "histogram2d"
           }
          ],
          "histogram2dcontour": [
           {
            "colorbar": {
             "outlinewidth": 0,
             "ticks": ""
            },
            "colorscale": [
             [
              0,
              "#0d0887"
             ],
             [
              0.1111111111111111,
              "#46039f"
             ],
             [
              0.2222222222222222,
              "#7201a8"
             ],
             [
              0.3333333333333333,
              "#9c179e"
             ],
             [
              0.4444444444444444,
              "#bd3786"
             ],
             [
              0.5555555555555556,
              "#d8576b"
             ],
             [
              0.6666666666666666,
              "#ed7953"
             ],
             [
              0.7777777777777778,
              "#fb9f3a"
             ],
             [
              0.8888888888888888,
              "#fdca26"
             ],
             [
              1,
              "#f0f921"
             ]
            ],
            "type": "histogram2dcontour"
           }
          ],
          "mesh3d": [
           {
            "colorbar": {
             "outlinewidth": 0,
             "ticks": ""
            },
            "type": "mesh3d"
           }
          ],
          "parcoords": [
           {
            "line": {
             "colorbar": {
              "outlinewidth": 0,
              "ticks": ""
             }
            },
            "type": "parcoords"
           }
          ],
          "pie": [
           {
            "automargin": true,
            "type": "pie"
           }
          ],
          "scatter": [
           {
            "marker": {
             "colorbar": {
              "outlinewidth": 0,
              "ticks": ""
             }
            },
            "type": "scatter"
           }
          ],
          "scatter3d": [
           {
            "line": {
             "colorbar": {
              "outlinewidth": 0,
              "ticks": ""
             }
            },
            "marker": {
             "colorbar": {
              "outlinewidth": 0,
              "ticks": ""
             }
            },
            "type": "scatter3d"
           }
          ],
          "scattercarpet": [
           {
            "marker": {
             "colorbar": {
              "outlinewidth": 0,
              "ticks": ""
             }
            },
            "type": "scattercarpet"
           }
          ],
          "scattergeo": [
           {
            "marker": {
             "colorbar": {
              "outlinewidth": 0,
              "ticks": ""
             }
            },
            "type": "scattergeo"
           }
          ],
          "scattergl": [
           {
            "marker": {
             "colorbar": {
              "outlinewidth": 0,
              "ticks": ""
             }
            },
            "type": "scattergl"
           }
          ],
          "scattermapbox": [
           {
            "marker": {
             "colorbar": {
              "outlinewidth": 0,
              "ticks": ""
             }
            },
            "type": "scattermapbox"
           }
          ],
          "scatterpolar": [
           {
            "marker": {
             "colorbar": {
              "outlinewidth": 0,
              "ticks": ""
             }
            },
            "type": "scatterpolar"
           }
          ],
          "scatterpolargl": [
           {
            "marker": {
             "colorbar": {
              "outlinewidth": 0,
              "ticks": ""
             }
            },
            "type": "scatterpolargl"
           }
          ],
          "scatterternary": [
           {
            "marker": {
             "colorbar": {
              "outlinewidth": 0,
              "ticks": ""
             }
            },
            "type": "scatterternary"
           }
          ],
          "surface": [
           {
            "colorbar": {
             "outlinewidth": 0,
             "ticks": ""
            },
            "colorscale": [
             [
              0,
              "#0d0887"
             ],
             [
              0.1111111111111111,
              "#46039f"
             ],
             [
              0.2222222222222222,
              "#7201a8"
             ],
             [
              0.3333333333333333,
              "#9c179e"
             ],
             [
              0.4444444444444444,
              "#bd3786"
             ],
             [
              0.5555555555555556,
              "#d8576b"
             ],
             [
              0.6666666666666666,
              "#ed7953"
             ],
             [
              0.7777777777777778,
              "#fb9f3a"
             ],
             [
              0.8888888888888888,
              "#fdca26"
             ],
             [
              1,
              "#f0f921"
             ]
            ],
            "type": "surface"
           }
          ],
          "table": [
           {
            "cells": {
             "fill": {
              "color": "#EBF0F8"
             },
             "line": {
              "color": "white"
             }
            },
            "header": {
             "fill": {
              "color": "#C8D4E3"
             },
             "line": {
              "color": "white"
             }
            },
            "type": "table"
           }
          ]
         },
         "layout": {
          "annotationdefaults": {
           "arrowcolor": "#2a3f5f",
           "arrowhead": 0,
           "arrowwidth": 1
          },
          "coloraxis": {
           "colorbar": {
            "outlinewidth": 0,
            "ticks": ""
           }
          },
          "colorscale": {
           "diverging": [
            [
             0,
             "#8e0152"
            ],
            [
             0.1,
             "#c51b7d"
            ],
            [
             0.2,
             "#de77ae"
            ],
            [
             0.3,
             "#f1b6da"
            ],
            [
             0.4,
             "#fde0ef"
            ],
            [
             0.5,
             "#f7f7f7"
            ],
            [
             0.6,
             "#e6f5d0"
            ],
            [
             0.7,
             "#b8e186"
            ],
            [
             0.8,
             "#7fbc41"
            ],
            [
             0.9,
             "#4d9221"
            ],
            [
             1,
             "#276419"
            ]
           ],
           "sequential": [
            [
             0,
             "#0d0887"
            ],
            [
             0.1111111111111111,
             "#46039f"
            ],
            [
             0.2222222222222222,
             "#7201a8"
            ],
            [
             0.3333333333333333,
             "#9c179e"
            ],
            [
             0.4444444444444444,
             "#bd3786"
            ],
            [
             0.5555555555555556,
             "#d8576b"
            ],
            [
             0.6666666666666666,
             "#ed7953"
            ],
            [
             0.7777777777777778,
             "#fb9f3a"
            ],
            [
             0.8888888888888888,
             "#fdca26"
            ],
            [
             1,
             "#f0f921"
            ]
           ],
           "sequentialminus": [
            [
             0,
             "#0d0887"
            ],
            [
             0.1111111111111111,
             "#46039f"
            ],
            [
             0.2222222222222222,
             "#7201a8"
            ],
            [
             0.3333333333333333,
             "#9c179e"
            ],
            [
             0.4444444444444444,
             "#bd3786"
            ],
            [
             0.5555555555555556,
             "#d8576b"
            ],
            [
             0.6666666666666666,
             "#ed7953"
            ],
            [
             0.7777777777777778,
             "#fb9f3a"
            ],
            [
             0.8888888888888888,
             "#fdca26"
            ],
            [
             1,
             "#f0f921"
            ]
           ]
          },
          "colorway": [
           "#636efa",
           "#EF553B",
           "#00cc96",
           "#ab63fa",
           "#FFA15A",
           "#19d3f3",
           "#FF6692",
           "#B6E880",
           "#FF97FF",
           "#FECB52"
          ],
          "font": {
           "color": "#2a3f5f"
          },
          "geo": {
           "bgcolor": "white",
           "lakecolor": "white",
           "landcolor": "white",
           "showlakes": true,
           "showland": true,
           "subunitcolor": "#C8D4E3"
          },
          "hoverlabel": {
           "align": "left"
          },
          "hovermode": "closest",
          "mapbox": {
           "style": "light"
          },
          "paper_bgcolor": "white",
          "plot_bgcolor": "white",
          "polar": {
           "angularaxis": {
            "gridcolor": "#EBF0F8",
            "linecolor": "#EBF0F8",
            "ticks": ""
           },
           "bgcolor": "white",
           "radialaxis": {
            "gridcolor": "#EBF0F8",
            "linecolor": "#EBF0F8",
            "ticks": ""
           }
          },
          "scene": {
           "xaxis": {
            "backgroundcolor": "white",
            "gridcolor": "#DFE8F3",
            "gridwidth": 2,
            "linecolor": "#EBF0F8",
            "showbackground": true,
            "ticks": "",
            "zerolinecolor": "#EBF0F8"
           },
           "yaxis": {
            "backgroundcolor": "white",
            "gridcolor": "#DFE8F3",
            "gridwidth": 2,
            "linecolor": "#EBF0F8",
            "showbackground": true,
            "ticks": "",
            "zerolinecolor": "#EBF0F8"
           },
           "zaxis": {
            "backgroundcolor": "white",
            "gridcolor": "#DFE8F3",
            "gridwidth": 2,
            "linecolor": "#EBF0F8",
            "showbackground": true,
            "ticks": "",
            "zerolinecolor": "#EBF0F8"
           }
          },
          "shapedefaults": {
           "line": {
            "color": "#2a3f5f"
           }
          },
          "ternary": {
           "aaxis": {
            "gridcolor": "#DFE8F3",
            "linecolor": "#A2B1C6",
            "ticks": ""
           },
           "baxis": {
            "gridcolor": "#DFE8F3",
            "linecolor": "#A2B1C6",
            "ticks": ""
           },
           "bgcolor": "white",
           "caxis": {
            "gridcolor": "#DFE8F3",
            "linecolor": "#A2B1C6",
            "ticks": ""
           }
          },
          "title": {
           "x": 0.05
          },
          "xaxis": {
           "automargin": true,
           "gridcolor": "#EBF0F8",
           "linecolor": "#EBF0F8",
           "ticks": "",
           "title": {
            "standoff": 15
           },
           "zerolinecolor": "#EBF0F8",
           "zerolinewidth": 2
          },
          "yaxis": {
           "automargin": true,
           "gridcolor": "#EBF0F8",
           "linecolor": "#EBF0F8",
           "ticks": "",
           "title": {
            "standoff": 15
           },
           "zerolinecolor": "#EBF0F8",
           "zerolinewidth": 2
          }
         }
        },
        "title": {
         "text": "Nuevos casos de COVID-19 reportados diariamente en Zacatecas"
        },
        "width": 900,
        "xaxis": {
         "spikethickness": 0.4,
         "title": {
          "text": "Fecha de registro"
         }
        },
        "yaxis": {
         "title": {
          "text": "Nuevos casos confirmados"
         }
        }
       }
      }
     },
     "metadata": {}
    },
    {
     "output_type": "display_data",
     "data": {
      "application/vnd.plotly.v1+json": {
       "config": {
        "plotlyServerURL": "https://plot.ly"
       },
       "data": [
        {
         "marker": {
          "color": "#546e7a",
          "opacity": 0.75
         },
         "name": "Nuevas defunciones",
         "type": "bar",
         "x": [
          "2020-03-31T00:00:00",
          "2020-04-04T00:00:00",
          "2020-04-19T00:00:00",
          "2020-04-23T00:00:00",
          "2020-04-26T00:00:00",
          "2020-04-27T00:00:00",
          "2020-04-28T00:00:00",
          "2020-04-29T00:00:00",
          "2020-04-30T00:00:00",
          "2020-05-01T00:00:00",
          "2020-05-02T00:00:00",
          "2020-05-03T00:00:00",
          "2020-05-04T00:00:00",
          "2020-05-05T00:00:00",
          "2020-05-09T00:00:00",
          "2020-05-10T00:00:00",
          "2020-05-12T00:00:00",
          "2020-05-13T00:00:00",
          "2020-05-14T00:00:00",
          "2020-05-15T00:00:00",
          "2020-05-17T00:00:00",
          "2020-05-19T00:00:00",
          "2020-05-22T00:00:00",
          "2020-05-23T00:00:00",
          "2020-05-25T00:00:00",
          "2020-05-26T00:00:00",
          "2020-05-27T00:00:00",
          "2020-05-28T00:00:00",
          "2020-05-29T00:00:00",
          "2020-05-30T00:00:00",
          "2020-05-31T00:00:00",
          "2020-06-01T00:00:00",
          "2020-06-02T00:00:00",
          "2020-06-03T00:00:00",
          "2020-06-04T00:00:00",
          "2020-06-05T00:00:00",
          "2020-06-06T00:00:00",
          "2020-06-07T00:00:00",
          "2020-06-08T00:00:00",
          "2020-06-09T00:00:00",
          "2020-06-10T00:00:00",
          "2020-06-11T00:00:00",
          "2020-06-12T00:00:00",
          "2020-06-14T00:00:00",
          "2020-06-15T00:00:00",
          "2020-06-16T00:00:00",
          "2020-06-17T00:00:00",
          "2020-06-18T00:00:00",
          "2020-06-19T00:00:00",
          "2020-06-20T00:00:00",
          "2020-06-21T00:00:00",
          "2020-06-22T00:00:00",
          "2020-06-23T00:00:00",
          "2020-06-24T00:00:00",
          "2020-06-25T00:00:00",
          "2020-06-26T00:00:00",
          "2020-06-28T00:00:00",
          "2020-06-29T00:00:00",
          "2020-06-30T00:00:00",
          "2020-07-01T00:00:00",
          "2020-07-02T00:00:00",
          "2020-07-03T00:00:00",
          "2020-07-04T00:00:00",
          "2020-07-05T00:00:00",
          "2020-07-06T00:00:00",
          "2020-07-07T00:00:00",
          "2020-07-08T00:00:00",
          "2020-07-09T00:00:00",
          "2020-07-10T00:00:00",
          "2020-07-11T00:00:00",
          "2020-07-12T00:00:00",
          "2020-07-13T00:00:00",
          "2020-07-14T00:00:00",
          "2020-07-15T00:00:00",
          "2020-07-16T00:00:00",
          "2020-07-17T00:00:00",
          "2020-07-18T00:00:00",
          "2020-07-19T00:00:00",
          "2020-07-20T00:00:00",
          "2020-07-21T00:00:00",
          "2020-07-22T00:00:00",
          "2020-07-23T00:00:00",
          "2020-07-24T00:00:00",
          "2020-07-25T00:00:00",
          "2020-07-26T00:00:00",
          "2020-07-27T00:00:00",
          "2020-07-28T00:00:00",
          "2020-07-29T00:00:00",
          "2020-07-30T00:00:00",
          "2020-07-31T00:00:00",
          "2020-08-01T00:00:00",
          "2020-08-02T00:00:00",
          "2020-08-03T00:00:00",
          "2020-08-04T00:00:00",
          "2020-08-05T00:00:00",
          "2020-08-06T00:00:00",
          "2020-08-07T00:00:00",
          "2020-08-08T00:00:00",
          "2020-08-09T00:00:00",
          "2020-08-10T00:00:00",
          "2020-08-11T00:00:00",
          "2020-08-12T00:00:00",
          "2020-08-13T00:00:00",
          "2020-08-14T00:00:00",
          "2020-08-15T00:00:00",
          "2020-08-16T00:00:00",
          "2020-08-17T00:00:00",
          "2020-08-18T00:00:00",
          "2020-08-19T00:00:00",
          "2020-08-20T00:00:00",
          "2020-08-21T00:00:00",
          "2020-08-22T00:00:00",
          "2020-08-23T00:00:00",
          "2020-08-24T00:00:00",
          "2020-08-25T00:00:00",
          "2020-08-26T00:00:00",
          "2020-08-27T00:00:00",
          "2020-08-28T00:00:00",
          "2020-08-29T00:00:00",
          "2020-08-30T00:00:00",
          "2020-08-31T00:00:00",
          "2020-09-01T00:00:00",
          "2020-09-02T00:00:00",
          "2020-09-03T00:00:00",
          "2020-09-04T00:00:00",
          "2020-09-05T00:00:00",
          "2020-09-06T00:00:00",
          "2020-09-07T00:00:00",
          "2020-09-08T00:00:00",
          "2020-09-09T00:00:00",
          "2020-09-10T00:00:00",
          "2020-09-11T00:00:00",
          "2020-09-12T00:00:00",
          "2020-09-13T00:00:00",
          "2020-09-14T00:00:00",
          "2020-09-15T00:00:00",
          "2020-09-16T00:00:00",
          "2020-09-17T00:00:00",
          "2020-09-18T00:00:00",
          "2020-09-19T00:00:00",
          "2020-09-20T00:00:00",
          "2020-09-21T00:00:00",
          "2020-09-22T00:00:00",
          "2020-09-23T00:00:00",
          "2020-09-24T00:00:00",
          "2020-09-25T00:00:00",
          "2020-09-26T00:00:00",
          "2020-09-27T00:00:00",
          "2020-09-28T00:00:00",
          "2020-09-29T00:00:00",
          "2020-09-30T00:00:00",
          "2020-10-01T00:00:00",
          "2020-10-02T00:00:00",
          "2020-10-03T00:00:00",
          "2020-10-04T00:00:00",
          "2020-10-05T00:00:00",
          "2020-10-06T00:00:00",
          "2020-10-07T00:00:00",
          "2020-10-08T00:00:00",
          "2020-10-09T00:00:00",
          "2020-10-10T00:00:00",
          "2020-10-11T00:00:00",
          "2020-10-12T00:00:00",
          "2020-10-13T00:00:00",
          "2020-10-14T00:00:00",
          "2020-10-15T00:00:00",
          "2020-10-16T00:00:00",
          "2020-10-17T00:00:00",
          "2020-10-18T00:00:00",
          "2020-10-19T00:00:00",
          "2020-10-20T00:00:00",
          "2020-10-21T00:00:00",
          "2020-10-22T00:00:00",
          "2020-10-23T00:00:00",
          "2020-10-24T00:00:00",
          "2020-10-25T00:00:00",
          "2020-10-26T00:00:00",
          "2020-10-27T00:00:00",
          "2020-10-28T00:00:00",
          "2020-10-29T00:00:00",
          "2020-10-30T00:00:00",
          "2020-10-31T00:00:00",
          "2020-11-01T00:00:00",
          "2020-11-02T00:00:00",
          "2020-11-03T00:00:00",
          "2020-11-04T00:00:00",
          "2020-11-05T00:00:00",
          "2020-11-06T00:00:00",
          "2020-11-07T00:00:00",
          "2020-11-08T00:00:00",
          "2020-11-09T00:00:00",
          "2020-11-10T00:00:00",
          "2020-11-11T00:00:00",
          "2020-11-12T00:00:00",
          "2020-11-13T00:00:00",
          "2020-11-14T00:00:00",
          "2020-11-15T00:00:00",
          "2020-11-16T00:00:00",
          "2020-11-17T00:00:00",
          "2020-11-18T00:00:00",
          "2020-11-19T00:00:00",
          "2020-11-20T00:00:00",
          "2020-11-21T00:00:00",
          "2020-11-22T00:00:00",
          "2020-11-23T00:00:00",
          "2020-11-24T00:00:00",
          "2020-11-25T00:00:00",
          "2020-11-26T00:00:00",
          "2020-11-27T00:00:00",
          "2020-11-28T00:00:00",
          "2020-11-29T00:00:00",
          "2020-11-30T00:00:00",
          "2020-12-01T00:00:00",
          "2020-12-02T00:00:00",
          "2020-12-03T00:00:00",
          "2020-12-04T00:00:00",
          "2020-12-05T00:00:00",
          "2020-12-06T00:00:00",
          "2020-12-07T00:00:00",
          "2020-12-08T00:00:00",
          "2020-12-09T00:00:00",
          "2020-12-10T00:00:00",
          "2020-12-11T00:00:00",
          "2020-12-12T00:00:00",
          "2020-12-13T00:00:00",
          "2020-12-14T00:00:00",
          "2020-12-15T00:00:00",
          "2020-12-16T00:00:00",
          "2020-12-17T00:00:00",
          "2020-12-18T00:00:00",
          "2020-12-19T00:00:00",
          "2020-12-20T00:00:00",
          "2020-12-21T00:00:00",
          "2020-12-22T00:00:00",
          "2020-12-23T00:00:00",
          "2020-12-24T00:00:00",
          "2020-12-25T00:00:00",
          "2020-12-26T00:00:00",
          "2020-12-27T00:00:00",
          "2020-12-28T00:00:00",
          "2020-12-29T00:00:00",
          "2020-12-30T00:00:00",
          "2020-12-31T00:00:00",
          "2021-01-01T00:00:00",
          "2021-01-02T00:00:00",
          "2021-01-03T00:00:00",
          "2021-01-04T00:00:00",
          "2021-01-05T00:00:00",
          "2021-01-06T00:00:00",
          "2021-01-07T00:00:00",
          "2021-01-08T00:00:00",
          "2021-01-09T00:00:00",
          "2021-01-10T00:00:00",
          "2021-01-11T00:00:00",
          "2021-01-12T00:00:00",
          "2021-01-13T00:00:00",
          "2021-01-14T00:00:00",
          "2021-01-15T00:00:00",
          "2021-01-16T00:00:00",
          "2021-01-17T00:00:00"
         ],
         "y": [
          1,
          1,
          1,
          1,
          1,
          1,
          1,
          1,
          1,
          1,
          3,
          3,
          1,
          1,
          1,
          1,
          1,
          1,
          1,
          2,
          1,
          2,
          1,
          1,
          1,
          1,
          1,
          1,
          1,
          1,
          1,
          1,
          3,
          2,
          2,
          2,
          1,
          3,
          5,
          2,
          2,
          2,
          1,
          4,
          3,
          2,
          5,
          6,
          1,
          2,
          2,
          1,
          2,
          1,
          2,
          3,
          4,
          3,
          4,
          3,
          6,
          4,
          2,
          1,
          3,
          7,
          5,
          3,
          6,
          4,
          4,
          1,
          6,
          8,
          5,
          3,
          6,
          6,
          5,
          7,
          2,
          8,
          9,
          8,
          13,
          2,
          7,
          8,
          5,
          7,
          13,
          6,
          10,
          7,
          10,
          15,
          9,
          19,
          11,
          8,
          8,
          8,
          7,
          5,
          9,
          2,
          12,
          6,
          7,
          7,
          6,
          13,
          10,
          9,
          5,
          9,
          10,
          7,
          12,
          6,
          12,
          11,
          8,
          6,
          11,
          5,
          10,
          13,
          8,
          13,
          5,
          5,
          6,
          5,
          4,
          8,
          7,
          4,
          5,
          7,
          6,
          6,
          8,
          7,
          6,
          1,
          7,
          5,
          9,
          9,
          9,
          2,
          4,
          9,
          7,
          7,
          6,
          5,
          1,
          9,
          8,
          5,
          6,
          7,
          9,
          4,
          7,
          7,
          7,
          11,
          4,
          11,
          7,
          5,
          12,
          8,
          12,
          17,
          7,
          16,
          11,
          16,
          13,
          17,
          19,
          8,
          16,
          15,
          13,
          16,
          11,
          16,
          16,
          18,
          15,
          14,
          14,
          10,
          14,
          10,
          10,
          13,
          15,
          16,
          21,
          19,
          13,
          19,
          10,
          19,
          22,
          17,
          18,
          16,
          23,
          14,
          16,
          6,
          17,
          12,
          13,
          14,
          8,
          10,
          9,
          7,
          8,
          10,
          13,
          11,
          10,
          4,
          14,
          10,
          9,
          9,
          10,
          5,
          8,
          11,
          9,
          9,
          7,
          11,
          9,
          9,
          14,
          9,
          12,
          12,
          10,
          12,
          7,
          10,
          7,
          10,
          7,
          5,
          1,
          2
         ]
        },
        {
         "line": {
          "color": "black",
          "width": 2.5
         },
         "mode": "lines",
         "name": "Promedio de 7 días",
         "type": "scatter",
         "x": [
          "2020-03-31T00:00:00",
          "2020-04-04T00:00:00",
          "2020-04-19T00:00:00",
          "2020-04-23T00:00:00",
          "2020-04-26T00:00:00",
          "2020-04-27T00:00:00",
          "2020-04-28T00:00:00",
          "2020-04-29T00:00:00",
          "2020-04-30T00:00:00",
          "2020-05-01T00:00:00",
          "2020-05-02T00:00:00",
          "2020-05-03T00:00:00",
          "2020-05-04T00:00:00",
          "2020-05-05T00:00:00",
          "2020-05-09T00:00:00",
          "2020-05-10T00:00:00",
          "2020-05-12T00:00:00",
          "2020-05-13T00:00:00",
          "2020-05-14T00:00:00",
          "2020-05-15T00:00:00",
          "2020-05-17T00:00:00",
          "2020-05-19T00:00:00",
          "2020-05-22T00:00:00",
          "2020-05-23T00:00:00",
          "2020-05-25T00:00:00",
          "2020-05-26T00:00:00",
          "2020-05-27T00:00:00",
          "2020-05-28T00:00:00",
          "2020-05-29T00:00:00",
          "2020-05-30T00:00:00",
          "2020-05-31T00:00:00",
          "2020-06-01T00:00:00",
          "2020-06-02T00:00:00",
          "2020-06-03T00:00:00",
          "2020-06-04T00:00:00",
          "2020-06-05T00:00:00",
          "2020-06-06T00:00:00",
          "2020-06-07T00:00:00",
          "2020-06-08T00:00:00",
          "2020-06-09T00:00:00",
          "2020-06-10T00:00:00",
          "2020-06-11T00:00:00",
          "2020-06-12T00:00:00",
          "2020-06-14T00:00:00",
          "2020-06-15T00:00:00",
          "2020-06-16T00:00:00",
          "2020-06-17T00:00:00",
          "2020-06-18T00:00:00",
          "2020-06-19T00:00:00",
          "2020-06-20T00:00:00",
          "2020-06-21T00:00:00",
          "2020-06-22T00:00:00",
          "2020-06-23T00:00:00",
          "2020-06-24T00:00:00",
          "2020-06-25T00:00:00",
          "2020-06-26T00:00:00",
          "2020-06-28T00:00:00",
          "2020-06-29T00:00:00",
          "2020-06-30T00:00:00",
          "2020-07-01T00:00:00",
          "2020-07-02T00:00:00",
          "2020-07-03T00:00:00",
          "2020-07-04T00:00:00",
          "2020-07-05T00:00:00",
          "2020-07-06T00:00:00",
          "2020-07-07T00:00:00",
          "2020-07-08T00:00:00",
          "2020-07-09T00:00:00",
          "2020-07-10T00:00:00",
          "2020-07-11T00:00:00",
          "2020-07-12T00:00:00",
          "2020-07-13T00:00:00",
          "2020-07-14T00:00:00",
          "2020-07-15T00:00:00",
          "2020-07-16T00:00:00",
          "2020-07-17T00:00:00",
          "2020-07-18T00:00:00",
          "2020-07-19T00:00:00",
          "2020-07-20T00:00:00",
          "2020-07-21T00:00:00",
          "2020-07-22T00:00:00",
          "2020-07-23T00:00:00",
          "2020-07-24T00:00:00",
          "2020-07-25T00:00:00",
          "2020-07-26T00:00:00",
          "2020-07-27T00:00:00",
          "2020-07-28T00:00:00",
          "2020-07-29T00:00:00",
          "2020-07-30T00:00:00",
          "2020-07-31T00:00:00",
          "2020-08-01T00:00:00",
          "2020-08-02T00:00:00",
          "2020-08-03T00:00:00",
          "2020-08-04T00:00:00",
          "2020-08-05T00:00:00",
          "2020-08-06T00:00:00",
          "2020-08-07T00:00:00",
          "2020-08-08T00:00:00",
          "2020-08-09T00:00:00",
          "2020-08-10T00:00:00",
          "2020-08-11T00:00:00",
          "2020-08-12T00:00:00",
          "2020-08-13T00:00:00",
          "2020-08-14T00:00:00",
          "2020-08-15T00:00:00",
          "2020-08-16T00:00:00",
          "2020-08-17T00:00:00",
          "2020-08-18T00:00:00",
          "2020-08-19T00:00:00",
          "2020-08-20T00:00:00",
          "2020-08-21T00:00:00",
          "2020-08-22T00:00:00",
          "2020-08-23T00:00:00",
          "2020-08-24T00:00:00",
          "2020-08-25T00:00:00",
          "2020-08-26T00:00:00",
          "2020-08-27T00:00:00",
          "2020-08-28T00:00:00",
          "2020-08-29T00:00:00",
          "2020-08-30T00:00:00",
          "2020-08-31T00:00:00",
          "2020-09-01T00:00:00",
          "2020-09-02T00:00:00",
          "2020-09-03T00:00:00",
          "2020-09-04T00:00:00",
          "2020-09-05T00:00:00",
          "2020-09-06T00:00:00",
          "2020-09-07T00:00:00",
          "2020-09-08T00:00:00",
          "2020-09-09T00:00:00",
          "2020-09-10T00:00:00",
          "2020-09-11T00:00:00",
          "2020-09-12T00:00:00",
          "2020-09-13T00:00:00",
          "2020-09-14T00:00:00",
          "2020-09-15T00:00:00",
          "2020-09-16T00:00:00",
          "2020-09-17T00:00:00",
          "2020-09-18T00:00:00",
          "2020-09-19T00:00:00",
          "2020-09-20T00:00:00",
          "2020-09-21T00:00:00",
          "2020-09-22T00:00:00",
          "2020-09-23T00:00:00",
          "2020-09-24T00:00:00",
          "2020-09-25T00:00:00",
          "2020-09-26T00:00:00",
          "2020-09-27T00:00:00",
          "2020-09-28T00:00:00",
          "2020-09-29T00:00:00",
          "2020-09-30T00:00:00",
          "2020-10-01T00:00:00",
          "2020-10-02T00:00:00",
          "2020-10-03T00:00:00",
          "2020-10-04T00:00:00",
          "2020-10-05T00:00:00",
          "2020-10-06T00:00:00",
          "2020-10-07T00:00:00",
          "2020-10-08T00:00:00",
          "2020-10-09T00:00:00",
          "2020-10-10T00:00:00",
          "2020-10-11T00:00:00",
          "2020-10-12T00:00:00",
          "2020-10-13T00:00:00",
          "2020-10-14T00:00:00",
          "2020-10-15T00:00:00",
          "2020-10-16T00:00:00",
          "2020-10-17T00:00:00",
          "2020-10-18T00:00:00",
          "2020-10-19T00:00:00",
          "2020-10-20T00:00:00",
          "2020-10-21T00:00:00",
          "2020-10-22T00:00:00",
          "2020-10-23T00:00:00",
          "2020-10-24T00:00:00",
          "2020-10-25T00:00:00",
          "2020-10-26T00:00:00",
          "2020-10-27T00:00:00",
          "2020-10-28T00:00:00",
          "2020-10-29T00:00:00",
          "2020-10-30T00:00:00",
          "2020-10-31T00:00:00",
          "2020-11-01T00:00:00",
          "2020-11-02T00:00:00",
          "2020-11-03T00:00:00",
          "2020-11-04T00:00:00",
          "2020-11-05T00:00:00",
          "2020-11-06T00:00:00",
          "2020-11-07T00:00:00",
          "2020-11-08T00:00:00",
          "2020-11-09T00:00:00",
          "2020-11-10T00:00:00",
          "2020-11-11T00:00:00",
          "2020-11-12T00:00:00",
          "2020-11-13T00:00:00",
          "2020-11-14T00:00:00",
          "2020-11-15T00:00:00",
          "2020-11-16T00:00:00",
          "2020-11-17T00:00:00",
          "2020-11-18T00:00:00",
          "2020-11-19T00:00:00",
          "2020-11-20T00:00:00",
          "2020-11-21T00:00:00",
          "2020-11-22T00:00:00",
          "2020-11-23T00:00:00",
          "2020-11-24T00:00:00",
          "2020-11-25T00:00:00",
          "2020-11-26T00:00:00",
          "2020-11-27T00:00:00",
          "2020-11-28T00:00:00",
          "2020-11-29T00:00:00",
          "2020-11-30T00:00:00",
          "2020-12-01T00:00:00",
          "2020-12-02T00:00:00",
          "2020-12-03T00:00:00",
          "2020-12-04T00:00:00",
          "2020-12-05T00:00:00",
          "2020-12-06T00:00:00",
          "2020-12-07T00:00:00",
          "2020-12-08T00:00:00",
          "2020-12-09T00:00:00",
          "2020-12-10T00:00:00",
          "2020-12-11T00:00:00",
          "2020-12-12T00:00:00",
          "2020-12-13T00:00:00",
          "2020-12-14T00:00:00",
          "2020-12-15T00:00:00",
          "2020-12-16T00:00:00",
          "2020-12-17T00:00:00",
          "2020-12-18T00:00:00",
          "2020-12-19T00:00:00",
          "2020-12-20T00:00:00",
          "2020-12-21T00:00:00",
          "2020-12-22T00:00:00",
          "2020-12-23T00:00:00",
          "2020-12-24T00:00:00",
          "2020-12-25T00:00:00",
          "2020-12-26T00:00:00",
          "2020-12-27T00:00:00",
          "2020-12-28T00:00:00",
          "2020-12-29T00:00:00",
          "2020-12-30T00:00:00",
          "2020-12-31T00:00:00",
          "2021-01-01T00:00:00",
          "2021-01-02T00:00:00",
          "2021-01-03T00:00:00",
          "2021-01-04T00:00:00",
          "2021-01-05T00:00:00",
          "2021-01-06T00:00:00",
          "2021-01-07T00:00:00",
          "2021-01-08T00:00:00",
          "2021-01-09T00:00:00",
          "2021-01-10T00:00:00",
          "2021-01-11T00:00:00",
          "2021-01-12T00:00:00",
          "2021-01-13T00:00:00",
          "2021-01-14T00:00:00",
          "2021-01-15T00:00:00",
          "2021-01-16T00:00:00",
          "2021-01-17T00:00:00"
         ],
         "y": [
          0,
          0,
          0,
          1,
          1,
          1,
          1,
          1,
          1,
          1,
          1,
          2,
          2,
          2,
          2,
          2,
          2,
          1,
          1,
          1,
          1,
          1,
          1,
          1,
          1,
          1,
          1,
          1,
          1,
          1,
          1,
          1,
          1,
          1,
          2,
          2,
          2,
          2,
          3,
          2,
          2,
          2,
          2,
          3,
          3,
          2,
          3,
          3,
          3,
          3,
          3,
          3,
          3,
          2,
          2,
          2,
          2,
          2,
          3,
          3,
          4,
          4,
          4,
          3,
          3,
          4,
          4,
          4,
          4,
          4,
          5,
          4,
          4,
          5,
          5,
          4,
          5,
          5,
          6,
          6,
          5,
          5,
          6,
          6,
          7,
          7,
          7,
          8,
          7,
          7,
          8,
          7,
          8,
          8,
          8,
          10,
          10,
          11,
          12,
          11,
          11,
          11,
          10,
          9,
          8,
          7,
          7,
          7,
          7,
          7,
          7,
          8,
          9,
          8,
          8,
          8,
          9,
          9,
          9,
          8,
          9,
          10,
          9,
          9,
          9,
          8,
          9,
          9,
          9,
          9,
          9,
          8,
          9,
          8,
          7,
          7,
          6,
          6,
          6,
          6,
          6,
          6,
          6,
          6,
          6,
          6,
          6,
          6,
          6,
          6,
          7,
          6,
          6,
          7,
          7,
          7,
          6,
          6,
          6,
          6,
          6,
          6,
          6,
          6,
          6,
          7,
          7,
          6,
          7,
          7,
          7,
          7,
          8,
          7,
          8,
          8,
          8,
          10,
          10,
          11,
          12,
          12,
          13,
          14,
          14,
          14,
          14,
          15,
          14,
          15,
          14,
          14,
          15,
          15,
          15,
          15,
          15,
          15,
          14,
          14,
          12,
          12,
          12,
          13,
          14,
          15,
          15,
          17,
          16,
          17,
          18,
          17,
          17,
          17,
          18,
          18,
          18,
          16,
          16,
          15,
          14,
          13,
          12,
          11,
          12,
          10,
          10,
          9,
          9,
          10,
          10,
          9,
          10,
          10,
          10,
          10,
          9,
          9,
          9,
          9,
          9,
          9,
          8,
          9,
          9,
          9,
          10,
          10,
          10,
          11,
          11,
          11,
          11,
          10,
          10,
          10,
          9,
          8,
          7,
          6
         ]
        }
       ],
       "layout": {
        "height": 450,
        "hovermode": "x unified",
        "template": {
         "data": {
          "bar": [
           {
            "error_x": {
             "color": "#2a3f5f"
            },
            "error_y": {
             "color": "#2a3f5f"
            },
            "marker": {
             "line": {
              "color": "white",
              "width": 0.5
             }
            },
            "type": "bar"
           }
          ],
          "barpolar": [
           {
            "marker": {
             "line": {
              "color": "white",
              "width": 0.5
             }
            },
            "type": "barpolar"
           }
          ],
          "carpet": [
           {
            "aaxis": {
             "endlinecolor": "#2a3f5f",
             "gridcolor": "#C8D4E3",
             "linecolor": "#C8D4E3",
             "minorgridcolor": "#C8D4E3",
             "startlinecolor": "#2a3f5f"
            },
            "baxis": {
             "endlinecolor": "#2a3f5f",
             "gridcolor": "#C8D4E3",
             "linecolor": "#C8D4E3",
             "minorgridcolor": "#C8D4E3",
             "startlinecolor": "#2a3f5f"
            },
            "type": "carpet"
           }
          ],
          "choropleth": [
           {
            "colorbar": {
             "outlinewidth": 0,
             "ticks": ""
            },
            "type": "choropleth"
           }
          ],
          "contour": [
           {
            "colorbar": {
             "outlinewidth": 0,
             "ticks": ""
            },
            "colorscale": [
             [
              0,
              "#0d0887"
             ],
             [
              0.1111111111111111,
              "#46039f"
             ],
             [
              0.2222222222222222,
              "#7201a8"
             ],
             [
              0.3333333333333333,
              "#9c179e"
             ],
             [
              0.4444444444444444,
              "#bd3786"
             ],
             [
              0.5555555555555556,
              "#d8576b"
             ],
             [
              0.6666666666666666,
              "#ed7953"
             ],
             [
              0.7777777777777778,
              "#fb9f3a"
             ],
             [
              0.8888888888888888,
              "#fdca26"
             ],
             [
              1,
              "#f0f921"
             ]
            ],
            "type": "contour"
           }
          ],
          "contourcarpet": [
           {
            "colorbar": {
             "outlinewidth": 0,
             "ticks": ""
            },
            "type": "contourcarpet"
           }
          ],
          "heatmap": [
           {
            "colorbar": {
             "outlinewidth": 0,
             "ticks": ""
            },
            "colorscale": [
             [
              0,
              "#0d0887"
             ],
             [
              0.1111111111111111,
              "#46039f"
             ],
             [
              0.2222222222222222,
              "#7201a8"
             ],
             [
              0.3333333333333333,
              "#9c179e"
             ],
             [
              0.4444444444444444,
              "#bd3786"
             ],
             [
              0.5555555555555556,
              "#d8576b"
             ],
             [
              0.6666666666666666,
              "#ed7953"
             ],
             [
              0.7777777777777778,
              "#fb9f3a"
             ],
             [
              0.8888888888888888,
              "#fdca26"
             ],
             [
              1,
              "#f0f921"
             ]
            ],
            "type": "heatmap"
           }
          ],
          "heatmapgl": [
           {
            "colorbar": {
             "outlinewidth": 0,
             "ticks": ""
            },
            "colorscale": [
             [
              0,
              "#0d0887"
             ],
             [
              0.1111111111111111,
              "#46039f"
             ],
             [
              0.2222222222222222,
              "#7201a8"
             ],
             [
              0.3333333333333333,
              "#9c179e"
             ],
             [
              0.4444444444444444,
              "#bd3786"
             ],
             [
              0.5555555555555556,
              "#d8576b"
             ],
             [
              0.6666666666666666,
              "#ed7953"
             ],
             [
              0.7777777777777778,
              "#fb9f3a"
             ],
             [
              0.8888888888888888,
              "#fdca26"
             ],
             [
              1,
              "#f0f921"
             ]
            ],
            "type": "heatmapgl"
           }
          ],
          "histogram": [
           {
            "marker": {
             "colorbar": {
              "outlinewidth": 0,
              "ticks": ""
             }
            },
            "type": "histogram"
           }
          ],
          "histogram2d": [
           {
            "colorbar": {
             "outlinewidth": 0,
             "ticks": ""
            },
            "colorscale": [
             [
              0,
              "#0d0887"
             ],
             [
              0.1111111111111111,
              "#46039f"
             ],
             [
              0.2222222222222222,
              "#7201a8"
             ],
             [
              0.3333333333333333,
              "#9c179e"
             ],
             [
              0.4444444444444444,
              "#bd3786"
             ],
             [
              0.5555555555555556,
              "#d8576b"
             ],
             [
              0.6666666666666666,
              "#ed7953"
             ],
             [
              0.7777777777777778,
              "#fb9f3a"
             ],
             [
              0.8888888888888888,
              "#fdca26"
             ],
             [
              1,
              "#f0f921"
             ]
            ],
            "type": "histogram2d"
           }
          ],
          "histogram2dcontour": [
           {
            "colorbar": {
             "outlinewidth": 0,
             "ticks": ""
            },
            "colorscale": [
             [
              0,
              "#0d0887"
             ],
             [
              0.1111111111111111,
              "#46039f"
             ],
             [
              0.2222222222222222,
              "#7201a8"
             ],
             [
              0.3333333333333333,
              "#9c179e"
             ],
             [
              0.4444444444444444,
              "#bd3786"
             ],
             [
              0.5555555555555556,
              "#d8576b"
             ],
             [
              0.6666666666666666,
              "#ed7953"
             ],
             [
              0.7777777777777778,
              "#fb9f3a"
             ],
             [
              0.8888888888888888,
              "#fdca26"
             ],
             [
              1,
              "#f0f921"
             ]
            ],
            "type": "histogram2dcontour"
           }
          ],
          "mesh3d": [
           {
            "colorbar": {
             "outlinewidth": 0,
             "ticks": ""
            },
            "type": "mesh3d"
           }
          ],
          "parcoords": [
           {
            "line": {
             "colorbar": {
              "outlinewidth": 0,
              "ticks": ""
             }
            },
            "type": "parcoords"
           }
          ],
          "pie": [
           {
            "automargin": true,
            "type": "pie"
           }
          ],
          "scatter": [
           {
            "marker": {
             "colorbar": {
              "outlinewidth": 0,
              "ticks": ""
             }
            },
            "type": "scatter"
           }
          ],
          "scatter3d": [
           {
            "line": {
             "colorbar": {
              "outlinewidth": 0,
              "ticks": ""
             }
            },
            "marker": {
             "colorbar": {
              "outlinewidth": 0,
              "ticks": ""
             }
            },
            "type": "scatter3d"
           }
          ],
          "scattercarpet": [
           {
            "marker": {
             "colorbar": {
              "outlinewidth": 0,
              "ticks": ""
             }
            },
            "type": "scattercarpet"
           }
          ],
          "scattergeo": [
           {
            "marker": {
             "colorbar": {
              "outlinewidth": 0,
              "ticks": ""
             }
            },
            "type": "scattergeo"
           }
          ],
          "scattergl": [
           {
            "marker": {
             "colorbar": {
              "outlinewidth": 0,
              "ticks": ""
             }
            },
            "type": "scattergl"
           }
          ],
          "scattermapbox": [
           {
            "marker": {
             "colorbar": {
              "outlinewidth": 0,
              "ticks": ""
             }
            },
            "type": "scattermapbox"
           }
          ],
          "scatterpolar": [
           {
            "marker": {
             "colorbar": {
              "outlinewidth": 0,
              "ticks": ""
             }
            },
            "type": "scatterpolar"
           }
          ],
          "scatterpolargl": [
           {
            "marker": {
             "colorbar": {
              "outlinewidth": 0,
              "ticks": ""
             }
            },
            "type": "scatterpolargl"
           }
          ],
          "scatterternary": [
           {
            "marker": {
             "colorbar": {
              "outlinewidth": 0,
              "ticks": ""
             }
            },
            "type": "scatterternary"
           }
          ],
          "surface": [
           {
            "colorbar": {
             "outlinewidth": 0,
             "ticks": ""
            },
            "colorscale": [
             [
              0,
              "#0d0887"
             ],
             [
              0.1111111111111111,
              "#46039f"
             ],
             [
              0.2222222222222222,
              "#7201a8"
             ],
             [
              0.3333333333333333,
              "#9c179e"
             ],
             [
              0.4444444444444444,
              "#bd3786"
             ],
             [
              0.5555555555555556,
              "#d8576b"
             ],
             [
              0.6666666666666666,
              "#ed7953"
             ],
             [
              0.7777777777777778,
              "#fb9f3a"
             ],
             [
              0.8888888888888888,
              "#fdca26"
             ],
             [
              1,
              "#f0f921"
             ]
            ],
            "type": "surface"
           }
          ],
          "table": [
           {
            "cells": {
             "fill": {
              "color": "#EBF0F8"
             },
             "line": {
              "color": "white"
             }
            },
            "header": {
             "fill": {
              "color": "#C8D4E3"
             },
             "line": {
              "color": "white"
             }
            },
            "type": "table"
           }
          ]
         },
         "layout": {
          "annotationdefaults": {
           "arrowcolor": "#2a3f5f",
           "arrowhead": 0,
           "arrowwidth": 1
          },
          "coloraxis": {
           "colorbar": {
            "outlinewidth": 0,
            "ticks": ""
           }
          },
          "colorscale": {
           "diverging": [
            [
             0,
             "#8e0152"
            ],
            [
             0.1,
             "#c51b7d"
            ],
            [
             0.2,
             "#de77ae"
            ],
            [
             0.3,
             "#f1b6da"
            ],
            [
             0.4,
             "#fde0ef"
            ],
            [
             0.5,
             "#f7f7f7"
            ],
            [
             0.6,
             "#e6f5d0"
            ],
            [
             0.7,
             "#b8e186"
            ],
            [
             0.8,
             "#7fbc41"
            ],
            [
             0.9,
             "#4d9221"
            ],
            [
             1,
             "#276419"
            ]
           ],
           "sequential": [
            [
             0,
             "#0d0887"
            ],
            [
             0.1111111111111111,
             "#46039f"
            ],
            [
             0.2222222222222222,
             "#7201a8"
            ],
            [
             0.3333333333333333,
             "#9c179e"
            ],
            [
             0.4444444444444444,
             "#bd3786"
            ],
            [
             0.5555555555555556,
             "#d8576b"
            ],
            [
             0.6666666666666666,
             "#ed7953"
            ],
            [
             0.7777777777777778,
             "#fb9f3a"
            ],
            [
             0.8888888888888888,
             "#fdca26"
            ],
            [
             1,
             "#f0f921"
            ]
           ],
           "sequentialminus": [
            [
             0,
             "#0d0887"
            ],
            [
             0.1111111111111111,
             "#46039f"
            ],
            [
             0.2222222222222222,
             "#7201a8"
            ],
            [
             0.3333333333333333,
             "#9c179e"
            ],
            [
             0.4444444444444444,
             "#bd3786"
            ],
            [
             0.5555555555555556,
             "#d8576b"
            ],
            [
             0.6666666666666666,
             "#ed7953"
            ],
            [
             0.7777777777777778,
             "#fb9f3a"
            ],
            [
             0.8888888888888888,
             "#fdca26"
            ],
            [
             1,
             "#f0f921"
            ]
           ]
          },
          "colorway": [
           "#636efa",
           "#EF553B",
           "#00cc96",
           "#ab63fa",
           "#FFA15A",
           "#19d3f3",
           "#FF6692",
           "#B6E880",
           "#FF97FF",
           "#FECB52"
          ],
          "font": {
           "color": "#2a3f5f"
          },
          "geo": {
           "bgcolor": "white",
           "lakecolor": "white",
           "landcolor": "white",
           "showlakes": true,
           "showland": true,
           "subunitcolor": "#C8D4E3"
          },
          "hoverlabel": {
           "align": "left"
          },
          "hovermode": "closest",
          "mapbox": {
           "style": "light"
          },
          "paper_bgcolor": "white",
          "plot_bgcolor": "white",
          "polar": {
           "angularaxis": {
            "gridcolor": "#EBF0F8",
            "linecolor": "#EBF0F8",
            "ticks": ""
           },
           "bgcolor": "white",
           "radialaxis": {
            "gridcolor": "#EBF0F8",
            "linecolor": "#EBF0F8",
            "ticks": ""
           }
          },
          "scene": {
           "xaxis": {
            "backgroundcolor": "white",
            "gridcolor": "#DFE8F3",
            "gridwidth": 2,
            "linecolor": "#EBF0F8",
            "showbackground": true,
            "ticks": "",
            "zerolinecolor": "#EBF0F8"
           },
           "yaxis": {
            "backgroundcolor": "white",
            "gridcolor": "#DFE8F3",
            "gridwidth": 2,
            "linecolor": "#EBF0F8",
            "showbackground": true,
            "ticks": "",
            "zerolinecolor": "#EBF0F8"
           },
           "zaxis": {
            "backgroundcolor": "white",
            "gridcolor": "#DFE8F3",
            "gridwidth": 2,
            "linecolor": "#EBF0F8",
            "showbackground": true,
            "ticks": "",
            "zerolinecolor": "#EBF0F8"
           }
          },
          "shapedefaults": {
           "line": {
            "color": "#2a3f5f"
           }
          },
          "ternary": {
           "aaxis": {
            "gridcolor": "#DFE8F3",
            "linecolor": "#A2B1C6",
            "ticks": ""
           },
           "baxis": {
            "gridcolor": "#DFE8F3",
            "linecolor": "#A2B1C6",
            "ticks": ""
           },
           "bgcolor": "white",
           "caxis": {
            "gridcolor": "#DFE8F3",
            "linecolor": "#A2B1C6",
            "ticks": ""
           }
          },
          "title": {
           "x": 0.05
          },
          "xaxis": {
           "automargin": true,
           "gridcolor": "#EBF0F8",
           "linecolor": "#EBF0F8",
           "ticks": "",
           "title": {
            "standoff": 15
           },
           "zerolinecolor": "#EBF0F8",
           "zerolinewidth": 2
          },
          "yaxis": {
           "automargin": true,
           "gridcolor": "#EBF0F8",
           "linecolor": "#EBF0F8",
           "ticks": "",
           "title": {
            "standoff": 15
           },
           "zerolinecolor": "#EBF0F8",
           "zerolinewidth": 2
          }
         }
        },
        "title": {
         "text": "Nuevas defunciones de COVID-19 reportadas diariamente en Zacatecas"
        },
        "width": 900,
        "xaxis": {
         "spikethickness": 0.4,
         "title": {
          "text": "Fecha de registro"
         }
        },
        "yaxis": {
         "title": {
          "text": "Nuevas defunciones confirmadas"
         }
        }
       }
      }
     },
     "metadata": {}
    }
   ],
   "source": [
    "show_confirmed_cases(confirmados_mich[\"fecha_ingreso\"],confirmados_mich[\"confirmados\"], region = confirmados_mich[\"ENTIDAD\"].iloc[0], anomalia = False)\n",
    "show_deaths(defunciones_mich[\"fecha_defuncion\"],defunciones_mich[\"defunciones\"], region = confirmados_mich[\"ENTIDAD\"].iloc[0], anomalia = False)"
   ]
  },
  {
   "cell_type": "code",
   "execution_count": 64,
   "metadata": {},
   "outputs": [
    {
     "output_type": "execute_result",
     "data": {
      "text/plain": [
       "     FIPS Admin2       Province_State Country_Region          Last_Update  \\\n",
       "387   NaN    NaN       Aguascalientes         Mexico  2021-01-18 05:22:34   \n",
       "388   NaN    NaN      Baja California         Mexico  2021-01-18 05:22:34   \n",
       "389   NaN    NaN  Baja California Sur         Mexico  2021-01-18 05:22:34   \n",
       "390   NaN    NaN             Campeche         Mexico  2021-01-18 05:22:34   \n",
       "391   NaN    NaN              Chiapas         Mexico  2021-01-18 05:22:34   \n",
       "392   NaN    NaN            Chihuahua         Mexico  2021-01-18 05:22:34   \n",
       "393   NaN    NaN     Ciudad de Mexico         Mexico  2021-01-18 05:22:34   \n",
       "394   NaN    NaN             Coahuila         Mexico  2021-01-18 05:22:34   \n",
       "395   NaN    NaN               Colima         Mexico  2021-01-18 05:22:34   \n",
       "396   NaN    NaN              Durango         Mexico  2021-01-18 05:22:34   \n",
       "397   NaN    NaN           Guanajuato         Mexico  2021-01-18 05:22:34   \n",
       "398   NaN    NaN             Guerrero         Mexico  2021-01-18 05:22:34   \n",
       "399   NaN    NaN              Hidalgo         Mexico  2021-01-18 05:22:34   \n",
       "400   NaN    NaN              Jalisco         Mexico  2021-01-18 05:22:34   \n",
       "401   NaN    NaN               Mexico         Mexico  2021-01-18 05:22:34   \n",
       "402   NaN    NaN            Michoacan         Mexico  2021-01-18 05:22:34   \n",
       "403   NaN    NaN              Morelos         Mexico  2021-01-18 05:22:34   \n",
       "404   NaN    NaN              Nayarit         Mexico  2021-01-18 05:22:34   \n",
       "405   NaN    NaN           Nuevo Leon         Mexico  2021-01-18 05:22:34   \n",
       "406   NaN    NaN               Oaxaca         Mexico  2021-01-18 05:22:34   \n",
       "407   NaN    NaN               Puebla         Mexico  2021-01-18 05:22:34   \n",
       "408   NaN    NaN            Queretaro         Mexico  2021-01-18 05:22:34   \n",
       "409   NaN    NaN         Quintana Roo         Mexico  2021-01-18 05:22:34   \n",
       "410   NaN    NaN      San Luis Potosi         Mexico  2021-01-18 05:22:34   \n",
       "411   NaN    NaN              Sinaloa         Mexico  2021-01-18 05:22:34   \n",
       "412   NaN    NaN               Sonora         Mexico  2021-01-18 05:22:34   \n",
       "413   NaN    NaN              Tabasco         Mexico  2021-01-18 05:22:34   \n",
       "414   NaN    NaN           Tamaulipas         Mexico  2021-01-18 05:22:34   \n",
       "415   NaN    NaN             Tlaxcala         Mexico  2021-01-18 05:22:34   \n",
       "416   NaN    NaN              Unknown         Mexico  2021-01-18 05:22:34   \n",
       "417   NaN    NaN             Veracruz         Mexico  2021-01-18 05:22:34   \n",
       "418   NaN    NaN              Yucatan         Mexico  2021-01-18 05:22:34   \n",
       "419   NaN    NaN            Zacatecas         Mexico  2021-01-18 05:22:34   \n",
       "\n",
       "         Lat     Long_  Confirmed  Deaths  Recovered     Active  \\\n",
       "387  21.8853 -102.2916      18501    1498          0    17003.0   \n",
       "388  30.8406 -115.2838      38697    6289          0    32408.0   \n",
       "389  26.0444 -111.6661      20741     835          0    19906.0   \n",
       "390  19.8301  -90.5349       7552     989          0     6563.0   \n",
       "391  16.7569  -93.1292       8766    1259          0     7507.0   \n",
       "392  28.6330 -106.0691      38326    4653          0    33673.0   \n",
       "393  19.4326  -99.1332     407254   19417          0   387837.0   \n",
       "394  27.0587 -101.7068      55081    4696          0    50385.0   \n",
       "395  19.1223 -104.0072       8591     839          0     7752.0   \n",
       "396  24.5593 -104.6588      27087    1724          0    25363.0   \n",
       "397  21.0190 -101.2574      94939    6181          0    88758.0   \n",
       "398  17.4392  -99.5451      28125    2864          0    25261.0   \n",
       "399  20.0911  -98.7624      28336    3985          0    24351.0   \n",
       "400  20.6595 -103.3494      60269    7128          0    53141.0   \n",
       "401  19.4969  -99.7233     168194   21537          0   146657.0   \n",
       "402  19.5665 -101.7068      36847    3096          0    33751.0   \n",
       "403  18.6813  -99.1013      14038    1618          0    12420.0   \n",
       "404  21.7514 -104.8455       8810    1136          0     7674.0   \n",
       "405  25.5922  -99.9962      94365    5744          0    88621.0   \n",
       "406  17.0732  -96.7266      31506    2291          0    29215.0   \n",
       "407  19.0414  -98.2063      54133    6284          0    47849.0   \n",
       "408  20.5888 -100.3899      38273    2363          0    35910.0   \n",
       "409  19.1817  -88.4791      17037    2135          0    14902.0   \n",
       "410  22.1565 -100.9855      45147    3386          0    41761.0   \n",
       "411  25.1721 -107.4795      28798    4412          0    24386.0   \n",
       "412  29.2972 -110.3309      57524    4671          0    52853.0   \n",
       "413  17.8409  -92.6189      49033    3342          0    45691.0   \n",
       "414  24.2669  -98.8363      43716    3528          0    40188.0   \n",
       "415  19.3139  -98.2404      13281    1609          0    11672.0   \n",
       "416      NaN       NaN          0       0    1223108 -1223108.0   \n",
       "417  19.1738  -96.1342      46814    6702          0    40112.0   \n",
       "418  20.7099  -89.0943      28374    2551          0    25823.0   \n",
       "419  22.7709 -102.5832      23273    1942          0    21331.0   \n",
       "\n",
       "                    Combined_Key  Incident_Rate  Case_Fatality_Ratio  \n",
       "387       Aguascalientes, Mexico    1289.596308             8.096860  \n",
       "388      Baja California, Mexico    1064.605372            16.251906  \n",
       "389  Baja California Sur, Mexico    2577.456668             4.025843  \n",
       "390             Campeche, Mexico     754.734329            13.095869  \n",
       "391              Chiapas, Mexico     152.974495            14.362309  \n",
       "392            Chihuahua, Mexico    1008.184429            12.140583  \n",
       "393     Ciudad de Mexico, Mexico    4515.689441             4.767786  \n",
       "394             Coahuila, Mexico    1711.270319             8.525626  \n",
       "395               Colima, Mexico    1094.181644             9.766034  \n",
       "396              Durango, Mexico    1449.280790             6.364677  \n",
       "397           Guanajuato, Mexico    1524.347020             6.510496  \n",
       "398             Guerrero, Mexico     769.062916            10.183111  \n",
       "399              Hidalgo, Mexico     918.088111            14.063382  \n",
       "400              Jalisco, Mexico     716.661119            11.826976  \n",
       "401               Mexico, Mexico     965.090812            12.804856  \n",
       "402            Michoacan, Mexico     763.604931             8.402312  \n",
       "403              Morelos, Mexico     686.771119            11.525858  \n",
       "404              Nayarit, Mexico     683.703110            12.894438  \n",
       "405           Nuevo Leon, Mexico    1682.039688             6.087003  \n",
       "406               Oaxaca, Mexico     760.354600             7.271631  \n",
       "407               Puebla, Mexico     819.644207            11.608446  \n",
       "408            Queretaro, Mexico    1678.907651             6.174065  \n",
       "409         Quintana Roo, Mexico     988.649994            12.531549  \n",
       "410      San Luis Potosi, Mexico    1575.183644             7.499945  \n",
       "411              Sinaloa, Mexico     912.289327            15.320508  \n",
       "412               Sonora, Mexico    1870.854331             8.120089  \n",
       "413              Tabasco, Mexico    1906.202535             6.815818  \n",
       "414           Tamaulipas, Mexico    1197.501124             8.070272  \n",
       "415             Tlaxcala, Mexico     962.383633            12.115052  \n",
       "416              Unknown, Mexico            NaN                  NaN  \n",
       "417             Veracruz, Mexico     548.182160            14.316230  \n",
       "418              Yucatan, Mexico    1255.988009             8.990625  \n",
       "419            Zacatecas, Mexico    1396.581666             8.344433  "
      ],
      "text/html": "<div>\n<style scoped>\n    .dataframe tbody tr th:only-of-type {\n        vertical-align: middle;\n    }\n\n    .dataframe tbody tr th {\n        vertical-align: top;\n    }\n\n    .dataframe thead th {\n        text-align: right;\n    }\n</style>\n<table border=\"1\" class=\"dataframe\">\n  <thead>\n    <tr style=\"text-align: right;\">\n      <th></th>\n      <th>FIPS</th>\n      <th>Admin2</th>\n      <th>Province_State</th>\n      <th>Country_Region</th>\n      <th>Last_Update</th>\n      <th>Lat</th>\n      <th>Long_</th>\n      <th>Confirmed</th>\n      <th>Deaths</th>\n      <th>Recovered</th>\n      <th>Active</th>\n      <th>Combined_Key</th>\n      <th>Incident_Rate</th>\n      <th>Case_Fatality_Ratio</th>\n    </tr>\n  </thead>\n  <tbody>\n    <tr>\n      <th>387</th>\n      <td>NaN</td>\n      <td>NaN</td>\n      <td>Aguascalientes</td>\n      <td>Mexico</td>\n      <td>2021-01-18 05:22:34</td>\n      <td>21.8853</td>\n      <td>-102.2916</td>\n      <td>18501</td>\n      <td>1498</td>\n      <td>0</td>\n      <td>17003.0</td>\n      <td>Aguascalientes, Mexico</td>\n      <td>1289.596308</td>\n      <td>8.096860</td>\n    </tr>\n    <tr>\n      <th>388</th>\n      <td>NaN</td>\n      <td>NaN</td>\n      <td>Baja California</td>\n      <td>Mexico</td>\n      <td>2021-01-18 05:22:34</td>\n      <td>30.8406</td>\n      <td>-115.2838</td>\n      <td>38697</td>\n      <td>6289</td>\n      <td>0</td>\n      <td>32408.0</td>\n      <td>Baja California, Mexico</td>\n      <td>1064.605372</td>\n      <td>16.251906</td>\n    </tr>\n    <tr>\n      <th>389</th>\n      <td>NaN</td>\n      <td>NaN</td>\n      <td>Baja California Sur</td>\n      <td>Mexico</td>\n      <td>2021-01-18 05:22:34</td>\n      <td>26.0444</td>\n      <td>-111.6661</td>\n      <td>20741</td>\n      <td>835</td>\n      <td>0</td>\n      <td>19906.0</td>\n      <td>Baja California Sur, Mexico</td>\n      <td>2577.456668</td>\n      <td>4.025843</td>\n    </tr>\n    <tr>\n      <th>390</th>\n      <td>NaN</td>\n      <td>NaN</td>\n      <td>Campeche</td>\n      <td>Mexico</td>\n      <td>2021-01-18 05:22:34</td>\n      <td>19.8301</td>\n      <td>-90.5349</td>\n      <td>7552</td>\n      <td>989</td>\n      <td>0</td>\n      <td>6563.0</td>\n      <td>Campeche, Mexico</td>\n      <td>754.734329</td>\n      <td>13.095869</td>\n    </tr>\n    <tr>\n      <th>391</th>\n      <td>NaN</td>\n      <td>NaN</td>\n      <td>Chiapas</td>\n      <td>Mexico</td>\n      <td>2021-01-18 05:22:34</td>\n      <td>16.7569</td>\n      <td>-93.1292</td>\n      <td>8766</td>\n      <td>1259</td>\n      <td>0</td>\n      <td>7507.0</td>\n      <td>Chiapas, Mexico</td>\n      <td>152.974495</td>\n      <td>14.362309</td>\n    </tr>\n    <tr>\n      <th>392</th>\n      <td>NaN</td>\n      <td>NaN</td>\n      <td>Chihuahua</td>\n      <td>Mexico</td>\n      <td>2021-01-18 05:22:34</td>\n      <td>28.6330</td>\n      <td>-106.0691</td>\n      <td>38326</td>\n      <td>4653</td>\n      <td>0</td>\n      <td>33673.0</td>\n      <td>Chihuahua, Mexico</td>\n      <td>1008.184429</td>\n      <td>12.140583</td>\n    </tr>\n    <tr>\n      <th>393</th>\n      <td>NaN</td>\n      <td>NaN</td>\n      <td>Ciudad de Mexico</td>\n      <td>Mexico</td>\n      <td>2021-01-18 05:22:34</td>\n      <td>19.4326</td>\n      <td>-99.1332</td>\n      <td>407254</td>\n      <td>19417</td>\n      <td>0</td>\n      <td>387837.0</td>\n      <td>Ciudad de Mexico, Mexico</td>\n      <td>4515.689441</td>\n      <td>4.767786</td>\n    </tr>\n    <tr>\n      <th>394</th>\n      <td>NaN</td>\n      <td>NaN</td>\n      <td>Coahuila</td>\n      <td>Mexico</td>\n      <td>2021-01-18 05:22:34</td>\n      <td>27.0587</td>\n      <td>-101.7068</td>\n      <td>55081</td>\n      <td>4696</td>\n      <td>0</td>\n      <td>50385.0</td>\n      <td>Coahuila, Mexico</td>\n      <td>1711.270319</td>\n      <td>8.525626</td>\n    </tr>\n    <tr>\n      <th>395</th>\n      <td>NaN</td>\n      <td>NaN</td>\n      <td>Colima</td>\n      <td>Mexico</td>\n      <td>2021-01-18 05:22:34</td>\n      <td>19.1223</td>\n      <td>-104.0072</td>\n      <td>8591</td>\n      <td>839</td>\n      <td>0</td>\n      <td>7752.0</td>\n      <td>Colima, Mexico</td>\n      <td>1094.181644</td>\n      <td>9.766034</td>\n    </tr>\n    <tr>\n      <th>396</th>\n      <td>NaN</td>\n      <td>NaN</td>\n      <td>Durango</td>\n      <td>Mexico</td>\n      <td>2021-01-18 05:22:34</td>\n      <td>24.5593</td>\n      <td>-104.6588</td>\n      <td>27087</td>\n      <td>1724</td>\n      <td>0</td>\n      <td>25363.0</td>\n      <td>Durango, Mexico</td>\n      <td>1449.280790</td>\n      <td>6.364677</td>\n    </tr>\n    <tr>\n      <th>397</th>\n      <td>NaN</td>\n      <td>NaN</td>\n      <td>Guanajuato</td>\n      <td>Mexico</td>\n      <td>2021-01-18 05:22:34</td>\n      <td>21.0190</td>\n      <td>-101.2574</td>\n      <td>94939</td>\n      <td>6181</td>\n      <td>0</td>\n      <td>88758.0</td>\n      <td>Guanajuato, Mexico</td>\n      <td>1524.347020</td>\n      <td>6.510496</td>\n    </tr>\n    <tr>\n      <th>398</th>\n      <td>NaN</td>\n      <td>NaN</td>\n      <td>Guerrero</td>\n      <td>Mexico</td>\n      <td>2021-01-18 05:22:34</td>\n      <td>17.4392</td>\n      <td>-99.5451</td>\n      <td>28125</td>\n      <td>2864</td>\n      <td>0</td>\n      <td>25261.0</td>\n      <td>Guerrero, Mexico</td>\n      <td>769.062916</td>\n      <td>10.183111</td>\n    </tr>\n    <tr>\n      <th>399</th>\n      <td>NaN</td>\n      <td>NaN</td>\n      <td>Hidalgo</td>\n      <td>Mexico</td>\n      <td>2021-01-18 05:22:34</td>\n      <td>20.0911</td>\n      <td>-98.7624</td>\n      <td>28336</td>\n      <td>3985</td>\n      <td>0</td>\n      <td>24351.0</td>\n      <td>Hidalgo, Mexico</td>\n      <td>918.088111</td>\n      <td>14.063382</td>\n    </tr>\n    <tr>\n      <th>400</th>\n      <td>NaN</td>\n      <td>NaN</td>\n      <td>Jalisco</td>\n      <td>Mexico</td>\n      <td>2021-01-18 05:22:34</td>\n      <td>20.6595</td>\n      <td>-103.3494</td>\n      <td>60269</td>\n      <td>7128</td>\n      <td>0</td>\n      <td>53141.0</td>\n      <td>Jalisco, Mexico</td>\n      <td>716.661119</td>\n      <td>11.826976</td>\n    </tr>\n    <tr>\n      <th>401</th>\n      <td>NaN</td>\n      <td>NaN</td>\n      <td>Mexico</td>\n      <td>Mexico</td>\n      <td>2021-01-18 05:22:34</td>\n      <td>19.4969</td>\n      <td>-99.7233</td>\n      <td>168194</td>\n      <td>21537</td>\n      <td>0</td>\n      <td>146657.0</td>\n      <td>Mexico, Mexico</td>\n      <td>965.090812</td>\n      <td>12.804856</td>\n    </tr>\n    <tr>\n      <th>402</th>\n      <td>NaN</td>\n      <td>NaN</td>\n      <td>Michoacan</td>\n      <td>Mexico</td>\n      <td>2021-01-18 05:22:34</td>\n      <td>19.5665</td>\n      <td>-101.7068</td>\n      <td>36847</td>\n      <td>3096</td>\n      <td>0</td>\n      <td>33751.0</td>\n      <td>Michoacan, Mexico</td>\n      <td>763.604931</td>\n      <td>8.402312</td>\n    </tr>\n    <tr>\n      <th>403</th>\n      <td>NaN</td>\n      <td>NaN</td>\n      <td>Morelos</td>\n      <td>Mexico</td>\n      <td>2021-01-18 05:22:34</td>\n      <td>18.6813</td>\n      <td>-99.1013</td>\n      <td>14038</td>\n      <td>1618</td>\n      <td>0</td>\n      <td>12420.0</td>\n      <td>Morelos, Mexico</td>\n      <td>686.771119</td>\n      <td>11.525858</td>\n    </tr>\n    <tr>\n      <th>404</th>\n      <td>NaN</td>\n      <td>NaN</td>\n      <td>Nayarit</td>\n      <td>Mexico</td>\n      <td>2021-01-18 05:22:34</td>\n      <td>21.7514</td>\n      <td>-104.8455</td>\n      <td>8810</td>\n      <td>1136</td>\n      <td>0</td>\n      <td>7674.0</td>\n      <td>Nayarit, Mexico</td>\n      <td>683.703110</td>\n      <td>12.894438</td>\n    </tr>\n    <tr>\n      <th>405</th>\n      <td>NaN</td>\n      <td>NaN</td>\n      <td>Nuevo Leon</td>\n      <td>Mexico</td>\n      <td>2021-01-18 05:22:34</td>\n      <td>25.5922</td>\n      <td>-99.9962</td>\n      <td>94365</td>\n      <td>5744</td>\n      <td>0</td>\n      <td>88621.0</td>\n      <td>Nuevo Leon, Mexico</td>\n      <td>1682.039688</td>\n      <td>6.087003</td>\n    </tr>\n    <tr>\n      <th>406</th>\n      <td>NaN</td>\n      <td>NaN</td>\n      <td>Oaxaca</td>\n      <td>Mexico</td>\n      <td>2021-01-18 05:22:34</td>\n      <td>17.0732</td>\n      <td>-96.7266</td>\n      <td>31506</td>\n      <td>2291</td>\n      <td>0</td>\n      <td>29215.0</td>\n      <td>Oaxaca, Mexico</td>\n      <td>760.354600</td>\n      <td>7.271631</td>\n    </tr>\n    <tr>\n      <th>407</th>\n      <td>NaN</td>\n      <td>NaN</td>\n      <td>Puebla</td>\n      <td>Mexico</td>\n      <td>2021-01-18 05:22:34</td>\n      <td>19.0414</td>\n      <td>-98.2063</td>\n      <td>54133</td>\n      <td>6284</td>\n      <td>0</td>\n      <td>47849.0</td>\n      <td>Puebla, Mexico</td>\n      <td>819.644207</td>\n      <td>11.608446</td>\n    </tr>\n    <tr>\n      <th>408</th>\n      <td>NaN</td>\n      <td>NaN</td>\n      <td>Queretaro</td>\n      <td>Mexico</td>\n      <td>2021-01-18 05:22:34</td>\n      <td>20.5888</td>\n      <td>-100.3899</td>\n      <td>38273</td>\n      <td>2363</td>\n      <td>0</td>\n      <td>35910.0</td>\n      <td>Queretaro, Mexico</td>\n      <td>1678.907651</td>\n      <td>6.174065</td>\n    </tr>\n    <tr>\n      <th>409</th>\n      <td>NaN</td>\n      <td>NaN</td>\n      <td>Quintana Roo</td>\n      <td>Mexico</td>\n      <td>2021-01-18 05:22:34</td>\n      <td>19.1817</td>\n      <td>-88.4791</td>\n      <td>17037</td>\n      <td>2135</td>\n      <td>0</td>\n      <td>14902.0</td>\n      <td>Quintana Roo, Mexico</td>\n      <td>988.649994</td>\n      <td>12.531549</td>\n    </tr>\n    <tr>\n      <th>410</th>\n      <td>NaN</td>\n      <td>NaN</td>\n      <td>San Luis Potosi</td>\n      <td>Mexico</td>\n      <td>2021-01-18 05:22:34</td>\n      <td>22.1565</td>\n      <td>-100.9855</td>\n      <td>45147</td>\n      <td>3386</td>\n      <td>0</td>\n      <td>41761.0</td>\n      <td>San Luis Potosi, Mexico</td>\n      <td>1575.183644</td>\n      <td>7.499945</td>\n    </tr>\n    <tr>\n      <th>411</th>\n      <td>NaN</td>\n      <td>NaN</td>\n      <td>Sinaloa</td>\n      <td>Mexico</td>\n      <td>2021-01-18 05:22:34</td>\n      <td>25.1721</td>\n      <td>-107.4795</td>\n      <td>28798</td>\n      <td>4412</td>\n      <td>0</td>\n      <td>24386.0</td>\n      <td>Sinaloa, Mexico</td>\n      <td>912.289327</td>\n      <td>15.320508</td>\n    </tr>\n    <tr>\n      <th>412</th>\n      <td>NaN</td>\n      <td>NaN</td>\n      <td>Sonora</td>\n      <td>Mexico</td>\n      <td>2021-01-18 05:22:34</td>\n      <td>29.2972</td>\n      <td>-110.3309</td>\n      <td>57524</td>\n      <td>4671</td>\n      <td>0</td>\n      <td>52853.0</td>\n      <td>Sonora, Mexico</td>\n      <td>1870.854331</td>\n      <td>8.120089</td>\n    </tr>\n    <tr>\n      <th>413</th>\n      <td>NaN</td>\n      <td>NaN</td>\n      <td>Tabasco</td>\n      <td>Mexico</td>\n      <td>2021-01-18 05:22:34</td>\n      <td>17.8409</td>\n      <td>-92.6189</td>\n      <td>49033</td>\n      <td>3342</td>\n      <td>0</td>\n      <td>45691.0</td>\n      <td>Tabasco, Mexico</td>\n      <td>1906.202535</td>\n      <td>6.815818</td>\n    </tr>\n    <tr>\n      <th>414</th>\n      <td>NaN</td>\n      <td>NaN</td>\n      <td>Tamaulipas</td>\n      <td>Mexico</td>\n      <td>2021-01-18 05:22:34</td>\n      <td>24.2669</td>\n      <td>-98.8363</td>\n      <td>43716</td>\n      <td>3528</td>\n      <td>0</td>\n      <td>40188.0</td>\n      <td>Tamaulipas, Mexico</td>\n      <td>1197.501124</td>\n      <td>8.070272</td>\n    </tr>\n    <tr>\n      <th>415</th>\n      <td>NaN</td>\n      <td>NaN</td>\n      <td>Tlaxcala</td>\n      <td>Mexico</td>\n      <td>2021-01-18 05:22:34</td>\n      <td>19.3139</td>\n      <td>-98.2404</td>\n      <td>13281</td>\n      <td>1609</td>\n      <td>0</td>\n      <td>11672.0</td>\n      <td>Tlaxcala, Mexico</td>\n      <td>962.383633</td>\n      <td>12.115052</td>\n    </tr>\n    <tr>\n      <th>416</th>\n      <td>NaN</td>\n      <td>NaN</td>\n      <td>Unknown</td>\n      <td>Mexico</td>\n      <td>2021-01-18 05:22:34</td>\n      <td>NaN</td>\n      <td>NaN</td>\n      <td>0</td>\n      <td>0</td>\n      <td>1223108</td>\n      <td>-1223108.0</td>\n      <td>Unknown, Mexico</td>\n      <td>NaN</td>\n      <td>NaN</td>\n    </tr>\n    <tr>\n      <th>417</th>\n      <td>NaN</td>\n      <td>NaN</td>\n      <td>Veracruz</td>\n      <td>Mexico</td>\n      <td>2021-01-18 05:22:34</td>\n      <td>19.1738</td>\n      <td>-96.1342</td>\n      <td>46814</td>\n      <td>6702</td>\n      <td>0</td>\n      <td>40112.0</td>\n      <td>Veracruz, Mexico</td>\n      <td>548.182160</td>\n      <td>14.316230</td>\n    </tr>\n    <tr>\n      <th>418</th>\n      <td>NaN</td>\n      <td>NaN</td>\n      <td>Yucatan</td>\n      <td>Mexico</td>\n      <td>2021-01-18 05:22:34</td>\n      <td>20.7099</td>\n      <td>-89.0943</td>\n      <td>28374</td>\n      <td>2551</td>\n      <td>0</td>\n      <td>25823.0</td>\n      <td>Yucatan, Mexico</td>\n      <td>1255.988009</td>\n      <td>8.990625</td>\n    </tr>\n    <tr>\n      <th>419</th>\n      <td>NaN</td>\n      <td>NaN</td>\n      <td>Zacatecas</td>\n      <td>Mexico</td>\n      <td>2021-01-18 05:22:34</td>\n      <td>22.7709</td>\n      <td>-102.5832</td>\n      <td>23273</td>\n      <td>1942</td>\n      <td>0</td>\n      <td>21331.0</td>\n      <td>Zacatecas, Mexico</td>\n      <td>1396.581666</td>\n      <td>8.344433</td>\n    </tr>\n  </tbody>\n</table>\n</div>"
     },
     "metadata": {},
     "execution_count": 64
    }
   ],
   "source": [
    "jhu_daily_reports = pd.read_csv(\"https://raw.githubusercontent.com/CSSEGISandData/COVID-19/master/csse_covid_19_data/csse_covid_19_daily_reports/01-17-2021.csv\", encoding=\"utf-8\")\n",
    "mexico_daily_report = jhu_daily_reports[jhu_daily_reports[\"Country_Region\"] == \"Mexico\"]\n",
    "mexico_daily_report"
   ]
  },
  {
   "cell_type": "code",
   "execution_count": 65,
   "metadata": {},
   "outputs": [
    {
     "output_type": "stream",
     "name": "stdout",
     "text": [
      "2.523255000000063\n"
     ]
    }
   ],
   "source": [
    "\n",
    "start_time = timeit.default_timer()\n",
    "#Casos confirmados reportados por JHU ....\n",
    "jhu_confirmed_time_serie = pd.read_csv(\"https://raw.githubusercontent.com/CSSEGISandData/COVID-19/master/csse_covid_19_data/csse_covid_19_time_series/time_series_covid19_confirmed_global.csv\", encoding = \"utf-8\")\n",
    "jhu_confirmed_mexico = jhu_confirmed_time_serie[jhu_confirmed_time_serie[\"Country/Region\"] == \"Mexico\"]\n",
    "#Muertes reportadas por JHU ...\n",
    "jhu_deaths_time_serie = pd.read_csv(\"https://raw.githubusercontent.com/CSSEGISandData/COVID-19/master/csse_covid_19_data/csse_covid_19_time_series/time_series_covid19_deaths_global.csv\",encoding=\"utf-8\")\n",
    "jhu_deaths_mexico = jhu_deaths_time_serie[jhu_deaths_time_serie[\"Country/Region\"] == \"Mexico\"]\n",
    "#Recuperados reportados por JHU ...\n",
    "jhu_recovered_time_serie = pd.read_csv(\"https://raw.githubusercontent.com/CSSEGISandData/COVID-19/master/csse_covid_19_data/csse_covid_19_time_series/time_series_covid19_recovered_global.csv\",encoding=\"utf-8\")\n",
    "jhu_recovered_mexico = jhu_recovered_time_serie[jhu_recovered_time_serie[\"Country/Region\"] == \"Mexico\"]\n",
    "elapsed = timeit.default_timer() - start_time\n",
    "print(elapsed)"
   ]
  },
  {
   "cell_type": "code",
   "execution_count": 66,
   "metadata": {},
   "outputs": [
    {
     "output_type": "execute_result",
     "data": {
      "text/plain": [
       "              index         0\n",
       "0    Province/State       NaN\n",
       "1    Country/Region    Mexico\n",
       "2               Lat   23.6345\n",
       "3              Long -102.5528\n",
       "4           1/22/20         0\n",
       "..              ...       ...\n",
       "362         1/14/21   1185621\n",
       "363         1/15/21   1199810\n",
       "364         1/16/21   1212403\n",
       "365         1/17/21   1223108\n",
       "366         1/18/21   1237321\n",
       "\n",
       "[367 rows x 2 columns]"
      ],
      "text/html": "<div>\n<style scoped>\n    .dataframe tbody tr th:only-of-type {\n        vertical-align: middle;\n    }\n\n    .dataframe tbody tr th {\n        vertical-align: top;\n    }\n\n    .dataframe thead th {\n        text-align: right;\n    }\n</style>\n<table border=\"1\" class=\"dataframe\">\n  <thead>\n    <tr style=\"text-align: right;\">\n      <th></th>\n      <th>index</th>\n      <th>0</th>\n    </tr>\n  </thead>\n  <tbody>\n    <tr>\n      <th>0</th>\n      <td>Province/State</td>\n      <td>NaN</td>\n    </tr>\n    <tr>\n      <th>1</th>\n      <td>Country/Region</td>\n      <td>Mexico</td>\n    </tr>\n    <tr>\n      <th>2</th>\n      <td>Lat</td>\n      <td>23.6345</td>\n    </tr>\n    <tr>\n      <th>3</th>\n      <td>Long</td>\n      <td>-102.5528</td>\n    </tr>\n    <tr>\n      <th>4</th>\n      <td>1/22/20</td>\n      <td>0</td>\n    </tr>\n    <tr>\n      <th>...</th>\n      <td>...</td>\n      <td>...</td>\n    </tr>\n    <tr>\n      <th>362</th>\n      <td>1/14/21</td>\n      <td>1185621</td>\n    </tr>\n    <tr>\n      <th>363</th>\n      <td>1/15/21</td>\n      <td>1199810</td>\n    </tr>\n    <tr>\n      <th>364</th>\n      <td>1/16/21</td>\n      <td>1212403</td>\n    </tr>\n    <tr>\n      <th>365</th>\n      <td>1/17/21</td>\n      <td>1223108</td>\n    </tr>\n    <tr>\n      <th>366</th>\n      <td>1/18/21</td>\n      <td>1237321</td>\n    </tr>\n  </tbody>\n</table>\n<p>367 rows × 2 columns</p>\n</div>"
     },
     "metadata": {},
     "execution_count": 66
    }
   ],
   "source": [
    "raw_confirmed_data = jhu_confirmed_mexico.reset_index(drop=True).transpose().reset_index()\n",
    "raw_deats_data = jhu_deaths_mexico.reset_index(drop = True).transpose().reset_index()\n",
    "raw_recovered_data = jhu_recovered_mexico.reset_index(drop = True).transpose().reset_index()\n",
    "raw_recovered_data"
   ]
  },
  {
   "cell_type": "code",
   "execution_count": 67,
   "metadata": {},
   "outputs": [],
   "source": [
    "#Insert a character in the ith position\n",
    "def insert_str(init_str, insert_str, i):\n",
    "    return init_str[:i] + insert_str + init_str[i:]"
   ]
  },
  {
   "cell_type": "code",
   "execution_count": 68,
   "metadata": {},
   "outputs": [],
   "source": [
    "def insert_commas(string):\n",
    "    step = 3\n",
    "    size = len(string)\n",
    "    quotient = size//step\n",
    "    mod = size % step\n",
    "    \n",
    "    if mod == 0:\n",
    "        commas_number = quotient - 1\n",
    "        init_index = step\n",
    "    else:\n",
    "        commas_number = quotient\n",
    "        init_index = mod \n",
    "\n",
    "    for i in range(commas_number):\n",
    "        string = insert_str(string, \",\", init_index )\n",
    "        init_index = init_index + step + 1\n",
    "    return string"
   ]
  },
  {
   "cell_type": "code",
   "execution_count": 69,
   "metadata": {},
   "outputs": [],
   "source": [
    "#Filtrando el numero de casos y fechas de cada dataFrame ...\n",
    "jhu_conf_mex_df = raw_confirmed_data[\"index\"].iloc[4:].to_frame(\"fecha_confirmados\").reset_index(drop = True)\n",
    "jhu_conf_mex_df[\"confirmados\"] = raw_confirmed_data[0].iloc[4:].reset_index(drop = True)\n",
    "jhu_conf_mex_df[\"fecha_confirmados_dateTime\"] = pd.to_datetime(jhu_conf_mex_df[\"fecha_confirmados\"], format = \"%m/%d/%y\")\n",
    "\n",
    "jhu_deaths_mex_df = raw_deats_data[\"index\"].iloc[4:].to_frame(\"fecha_muerte\").reset_index(drop = True)\n",
    "jhu_deaths_mex_df[\"muertes\"] = raw_deats_data[0].iloc[4:].reset_index(drop = True)\n",
    "jhu_deaths_mex_df[\"fecha_muerte_dateTime\"] = pd.to_datetime(jhu_deaths_mex_df[\"fecha_muerte\"], format = \"%m/%d/%y\")\n",
    "\n",
    "jhu_recovered_mex_df = raw_recovered_data[\"index\"].iloc[4:].to_frame(\"fecha_recuperado\").reset_index(drop = True)\n",
    "jhu_recovered_mex_df[\"recuperados\"] = raw_recovered_data[0].iloc[4:].reset_index(drop = True)\n",
    "jhu_recovered_mex_df[\"feha_recuperados_dateTime\"] = pd.to_datetime(jhu_recovered_mex_df[\"fecha_recuperado\"], format = \"%m/%d/%y\")"
   ]
  },
  {
   "cell_type": "code",
   "execution_count": 70,
   "metadata": {},
   "outputs": [
    {
     "output_type": "stream",
     "name": "stdout",
     "text": [
      "1,649,502\n1,237,321\n141,248\n"
     ]
    }
   ],
   "source": [
    "# Inserting commas ...\n",
    "str_conf_mex = str(jhu_conf_mex_df[\"confirmados\"].iloc[-1])\n",
    "str_deaths_mex = str(jhu_deaths_mex_df[\"muertes\"].iloc[-1])\n",
    "str_recovered_mex = str(jhu_recovered_mex_df[\"recuperados\"].iloc[-1])\n",
    "#Calling inset_commas function ...\n",
    "str_conf_mex_commas = insert_commas(str_conf_mex)\n",
    "str_recovered_mex_commas = insert_commas(str_recovered_mex)\n",
    "str_deaths_mex_commas = insert_commas(str_deaths_mex)\n",
    "print(str_conf_mex_commas)\n",
    "print(str_recovered_mex_commas)\n",
    "print(str_deaths_mex_commas)"
   ]
  },
  {
   "cell_type": "code",
   "execution_count": 71,
   "metadata": {},
   "outputs": [
    {
     "output_type": "execute_result",
     "data": {
      "text/plain": [
       "    fecha_muerte muertes fecha_muerte_dateTime\n",
       "0        1/22/20       0            2020-01-22\n",
       "1        1/23/20       0            2020-01-23\n",
       "2        1/24/20       0            2020-01-24\n",
       "3        1/25/20       0            2020-01-25\n",
       "4        1/26/20       0            2020-01-26\n",
       "..           ...     ...                   ...\n",
       "358      1/14/21  137916            2021-01-14\n",
       "359      1/15/21  139022            2021-01-15\n",
       "360      1/16/21  140241            2021-01-16\n",
       "361      1/17/21  140704            2021-01-17\n",
       "362      1/18/21  141248            2021-01-18\n",
       "\n",
       "[363 rows x 3 columns]"
      ],
      "text/html": "<div>\n<style scoped>\n    .dataframe tbody tr th:only-of-type {\n        vertical-align: middle;\n    }\n\n    .dataframe tbody tr th {\n        vertical-align: top;\n    }\n\n    .dataframe thead th {\n        text-align: right;\n    }\n</style>\n<table border=\"1\" class=\"dataframe\">\n  <thead>\n    <tr style=\"text-align: right;\">\n      <th></th>\n      <th>fecha_muerte</th>\n      <th>muertes</th>\n      <th>fecha_muerte_dateTime</th>\n    </tr>\n  </thead>\n  <tbody>\n    <tr>\n      <th>0</th>\n      <td>1/22/20</td>\n      <td>0</td>\n      <td>2020-01-22</td>\n    </tr>\n    <tr>\n      <th>1</th>\n      <td>1/23/20</td>\n      <td>0</td>\n      <td>2020-01-23</td>\n    </tr>\n    <tr>\n      <th>2</th>\n      <td>1/24/20</td>\n      <td>0</td>\n      <td>2020-01-24</td>\n    </tr>\n    <tr>\n      <th>3</th>\n      <td>1/25/20</td>\n      <td>0</td>\n      <td>2020-01-25</td>\n    </tr>\n    <tr>\n      <th>4</th>\n      <td>1/26/20</td>\n      <td>0</td>\n      <td>2020-01-26</td>\n    </tr>\n    <tr>\n      <th>...</th>\n      <td>...</td>\n      <td>...</td>\n      <td>...</td>\n    </tr>\n    <tr>\n      <th>358</th>\n      <td>1/14/21</td>\n      <td>137916</td>\n      <td>2021-01-14</td>\n    </tr>\n    <tr>\n      <th>359</th>\n      <td>1/15/21</td>\n      <td>139022</td>\n      <td>2021-01-15</td>\n    </tr>\n    <tr>\n      <th>360</th>\n      <td>1/16/21</td>\n      <td>140241</td>\n      <td>2021-01-16</td>\n    </tr>\n    <tr>\n      <th>361</th>\n      <td>1/17/21</td>\n      <td>140704</td>\n      <td>2021-01-17</td>\n    </tr>\n    <tr>\n      <th>362</th>\n      <td>1/18/21</td>\n      <td>141248</td>\n      <td>2021-01-18</td>\n    </tr>\n  </tbody>\n</table>\n<p>363 rows × 3 columns</p>\n</div>"
     },
     "metadata": {},
     "execution_count": 71
    }
   ],
   "source": [
    "jhu_deaths_mex_df"
   ]
  },
  {
   "cell_type": "code",
   "execution_count": 72,
   "metadata": {},
   "outputs": [
    {
     "output_type": "display_data",
     "data": {
      "application/vnd.plotly.v1+json": {
       "config": {
        "plotlyServerURL": "https://plot.ly"
       },
       "data": [
        {
         "line": {
          "color": "#ff1744",
          "width": 2.5
         },
         "mode": "lines",
         "name": "Casos confirmados",
         "type": "scatter",
         "x": [
          "2020-01-22T00:00:00",
          "2020-01-23T00:00:00",
          "2020-01-24T00:00:00",
          "2020-01-25T00:00:00",
          "2020-01-26T00:00:00",
          "2020-01-27T00:00:00",
          "2020-01-28T00:00:00",
          "2020-01-29T00:00:00",
          "2020-01-30T00:00:00",
          "2020-01-31T00:00:00",
          "2020-02-01T00:00:00",
          "2020-02-02T00:00:00",
          "2020-02-03T00:00:00",
          "2020-02-04T00:00:00",
          "2020-02-05T00:00:00",
          "2020-02-06T00:00:00",
          "2020-02-07T00:00:00",
          "2020-02-08T00:00:00",
          "2020-02-09T00:00:00",
          "2020-02-10T00:00:00",
          "2020-02-11T00:00:00",
          "2020-02-12T00:00:00",
          "2020-02-13T00:00:00",
          "2020-02-14T00:00:00",
          "2020-02-15T00:00:00",
          "2020-02-16T00:00:00",
          "2020-02-17T00:00:00",
          "2020-02-18T00:00:00",
          "2020-02-19T00:00:00",
          "2020-02-20T00:00:00",
          "2020-02-21T00:00:00",
          "2020-02-22T00:00:00",
          "2020-02-23T00:00:00",
          "2020-02-24T00:00:00",
          "2020-02-25T00:00:00",
          "2020-02-26T00:00:00",
          "2020-02-27T00:00:00",
          "2020-02-28T00:00:00",
          "2020-02-29T00:00:00",
          "2020-03-01T00:00:00",
          "2020-03-02T00:00:00",
          "2020-03-03T00:00:00",
          "2020-03-04T00:00:00",
          "2020-03-05T00:00:00",
          "2020-03-06T00:00:00",
          "2020-03-07T00:00:00",
          "2020-03-08T00:00:00",
          "2020-03-09T00:00:00",
          "2020-03-10T00:00:00",
          "2020-03-11T00:00:00",
          "2020-03-12T00:00:00",
          "2020-03-13T00:00:00",
          "2020-03-14T00:00:00",
          "2020-03-15T00:00:00",
          "2020-03-16T00:00:00",
          "2020-03-17T00:00:00",
          "2020-03-18T00:00:00",
          "2020-03-19T00:00:00",
          "2020-03-20T00:00:00",
          "2020-03-21T00:00:00",
          "2020-03-22T00:00:00",
          "2020-03-23T00:00:00",
          "2020-03-24T00:00:00",
          "2020-03-25T00:00:00",
          "2020-03-26T00:00:00",
          "2020-03-27T00:00:00",
          "2020-03-28T00:00:00",
          "2020-03-29T00:00:00",
          "2020-03-30T00:00:00",
          "2020-03-31T00:00:00",
          "2020-04-01T00:00:00",
          "2020-04-02T00:00:00",
          "2020-04-03T00:00:00",
          "2020-04-04T00:00:00",
          "2020-04-05T00:00:00",
          "2020-04-06T00:00:00",
          "2020-04-07T00:00:00",
          "2020-04-08T00:00:00",
          "2020-04-09T00:00:00",
          "2020-04-10T00:00:00",
          "2020-04-11T00:00:00",
          "2020-04-12T00:00:00",
          "2020-04-13T00:00:00",
          "2020-04-14T00:00:00",
          "2020-04-15T00:00:00",
          "2020-04-16T00:00:00",
          "2020-04-17T00:00:00",
          "2020-04-18T00:00:00",
          "2020-04-19T00:00:00",
          "2020-04-20T00:00:00",
          "2020-04-21T00:00:00",
          "2020-04-22T00:00:00",
          "2020-04-23T00:00:00",
          "2020-04-24T00:00:00",
          "2020-04-25T00:00:00",
          "2020-04-26T00:00:00",
          "2020-04-27T00:00:00",
          "2020-04-28T00:00:00",
          "2020-04-29T00:00:00",
          "2020-04-30T00:00:00",
          "2020-05-01T00:00:00",
          "2020-05-02T00:00:00",
          "2020-05-03T00:00:00",
          "2020-05-04T00:00:00",
          "2020-05-05T00:00:00",
          "2020-05-06T00:00:00",
          "2020-05-07T00:00:00",
          "2020-05-08T00:00:00",
          "2020-05-09T00:00:00",
          "2020-05-10T00:00:00",
          "2020-05-11T00:00:00",
          "2020-05-12T00:00:00",
          "2020-05-13T00:00:00",
          "2020-05-14T00:00:00",
          "2020-05-15T00:00:00",
          "2020-05-16T00:00:00",
          "2020-05-17T00:00:00",
          "2020-05-18T00:00:00",
          "2020-05-19T00:00:00",
          "2020-05-20T00:00:00",
          "2020-05-21T00:00:00",
          "2020-05-22T00:00:00",
          "2020-05-23T00:00:00",
          "2020-05-24T00:00:00",
          "2020-05-25T00:00:00",
          "2020-05-26T00:00:00",
          "2020-05-27T00:00:00",
          "2020-05-28T00:00:00",
          "2020-05-29T00:00:00",
          "2020-05-30T00:00:00",
          "2020-05-31T00:00:00",
          "2020-06-01T00:00:00",
          "2020-06-02T00:00:00",
          "2020-06-03T00:00:00",
          "2020-06-04T00:00:00",
          "2020-06-05T00:00:00",
          "2020-06-06T00:00:00",
          "2020-06-07T00:00:00",
          "2020-06-08T00:00:00",
          "2020-06-09T00:00:00",
          "2020-06-10T00:00:00",
          "2020-06-11T00:00:00",
          "2020-06-12T00:00:00",
          "2020-06-13T00:00:00",
          "2020-06-14T00:00:00",
          "2020-06-15T00:00:00",
          "2020-06-16T00:00:00",
          "2020-06-17T00:00:00",
          "2020-06-18T00:00:00",
          "2020-06-19T00:00:00",
          "2020-06-20T00:00:00",
          "2020-06-21T00:00:00",
          "2020-06-22T00:00:00",
          "2020-06-23T00:00:00",
          "2020-06-24T00:00:00",
          "2020-06-25T00:00:00",
          "2020-06-26T00:00:00",
          "2020-06-27T00:00:00",
          "2020-06-28T00:00:00",
          "2020-06-29T00:00:00",
          "2020-06-30T00:00:00",
          "2020-07-01T00:00:00",
          "2020-07-02T00:00:00",
          "2020-07-03T00:00:00",
          "2020-07-04T00:00:00",
          "2020-07-05T00:00:00",
          "2020-07-06T00:00:00",
          "2020-07-07T00:00:00",
          "2020-07-08T00:00:00",
          "2020-07-09T00:00:00",
          "2020-07-10T00:00:00",
          "2020-07-11T00:00:00",
          "2020-07-12T00:00:00",
          "2020-07-13T00:00:00",
          "2020-07-14T00:00:00",
          "2020-07-15T00:00:00",
          "2020-07-16T00:00:00",
          "2020-07-17T00:00:00",
          "2020-07-18T00:00:00",
          "2020-07-19T00:00:00",
          "2020-07-20T00:00:00",
          "2020-07-21T00:00:00",
          "2020-07-22T00:00:00",
          "2020-07-23T00:00:00",
          "2020-07-24T00:00:00",
          "2020-07-25T00:00:00",
          "2020-07-26T00:00:00",
          "2020-07-27T00:00:00",
          "2020-07-28T00:00:00",
          "2020-07-29T00:00:00",
          "2020-07-30T00:00:00",
          "2020-07-31T00:00:00",
          "2020-08-01T00:00:00",
          "2020-08-02T00:00:00",
          "2020-08-03T00:00:00",
          "2020-08-04T00:00:00",
          "2020-08-05T00:00:00",
          "2020-08-06T00:00:00",
          "2020-08-07T00:00:00",
          "2020-08-08T00:00:00",
          "2020-08-09T00:00:00",
          "2020-08-10T00:00:00",
          "2020-08-11T00:00:00",
          "2020-08-12T00:00:00",
          "2020-08-13T00:00:00",
          "2020-08-14T00:00:00",
          "2020-08-15T00:00:00",
          "2020-08-16T00:00:00",
          "2020-08-17T00:00:00",
          "2020-08-18T00:00:00",
          "2020-08-19T00:00:00",
          "2020-08-20T00:00:00",
          "2020-08-21T00:00:00",
          "2020-08-22T00:00:00",
          "2020-08-23T00:00:00",
          "2020-08-24T00:00:00",
          "2020-08-25T00:00:00",
          "2020-08-26T00:00:00",
          "2020-08-27T00:00:00",
          "2020-08-28T00:00:00",
          "2020-08-29T00:00:00",
          "2020-08-30T00:00:00",
          "2020-08-31T00:00:00",
          "2020-09-01T00:00:00",
          "2020-09-02T00:00:00",
          "2020-09-03T00:00:00",
          "2020-09-04T00:00:00",
          "2020-09-05T00:00:00",
          "2020-09-06T00:00:00",
          "2020-09-07T00:00:00",
          "2020-09-08T00:00:00",
          "2020-09-09T00:00:00",
          "2020-09-10T00:00:00",
          "2020-09-11T00:00:00",
          "2020-09-12T00:00:00",
          "2020-09-13T00:00:00",
          "2020-09-14T00:00:00",
          "2020-09-15T00:00:00",
          "2020-09-16T00:00:00",
          "2020-09-17T00:00:00",
          "2020-09-18T00:00:00",
          "2020-09-19T00:00:00",
          "2020-09-20T00:00:00",
          "2020-09-21T00:00:00",
          "2020-09-22T00:00:00",
          "2020-09-23T00:00:00",
          "2020-09-24T00:00:00",
          "2020-09-25T00:00:00",
          "2020-09-26T00:00:00",
          "2020-09-27T00:00:00",
          "2020-09-28T00:00:00",
          "2020-09-29T00:00:00",
          "2020-09-30T00:00:00",
          "2020-10-01T00:00:00",
          "2020-10-02T00:00:00",
          "2020-10-03T00:00:00",
          "2020-10-04T00:00:00",
          "2020-10-05T00:00:00",
          "2020-10-06T00:00:00",
          "2020-10-07T00:00:00",
          "2020-10-08T00:00:00",
          "2020-10-09T00:00:00",
          "2020-10-10T00:00:00",
          "2020-10-11T00:00:00",
          "2020-10-12T00:00:00",
          "2020-10-13T00:00:00",
          "2020-10-14T00:00:00",
          "2020-10-15T00:00:00",
          "2020-10-16T00:00:00",
          "2020-10-17T00:00:00",
          "2020-10-18T00:00:00",
          "2020-10-19T00:00:00",
          "2020-10-20T00:00:00",
          "2020-10-21T00:00:00",
          "2020-10-22T00:00:00",
          "2020-10-23T00:00:00",
          "2020-10-24T00:00:00",
          "2020-10-25T00:00:00",
          "2020-10-26T00:00:00",
          "2020-10-27T00:00:00",
          "2020-10-28T00:00:00",
          "2020-10-29T00:00:00",
          "2020-10-30T00:00:00",
          "2020-10-31T00:00:00",
          "2020-11-01T00:00:00",
          "2020-11-02T00:00:00",
          "2020-11-03T00:00:00",
          "2020-11-04T00:00:00",
          "2020-11-05T00:00:00",
          "2020-11-06T00:00:00",
          "2020-11-07T00:00:00",
          "2020-11-08T00:00:00",
          "2020-11-09T00:00:00",
          "2020-11-10T00:00:00",
          "2020-11-11T00:00:00",
          "2020-11-12T00:00:00",
          "2020-11-13T00:00:00",
          "2020-11-14T00:00:00",
          "2020-11-15T00:00:00",
          "2020-11-16T00:00:00",
          "2020-11-17T00:00:00",
          "2020-11-18T00:00:00",
          "2020-11-19T00:00:00",
          "2020-11-20T00:00:00",
          "2020-11-21T00:00:00",
          "2020-11-22T00:00:00",
          "2020-11-23T00:00:00",
          "2020-11-24T00:00:00",
          "2020-11-25T00:00:00",
          "2020-11-26T00:00:00",
          "2020-11-27T00:00:00",
          "2020-11-28T00:00:00",
          "2020-11-29T00:00:00",
          "2020-11-30T00:00:00",
          "2020-12-01T00:00:00",
          "2020-12-02T00:00:00",
          "2020-12-03T00:00:00",
          "2020-12-04T00:00:00",
          "2020-12-05T00:00:00",
          "2020-12-06T00:00:00",
          "2020-12-07T00:00:00",
          "2020-12-08T00:00:00",
          "2020-12-09T00:00:00",
          "2020-12-10T00:00:00",
          "2020-12-11T00:00:00",
          "2020-12-12T00:00:00",
          "2020-12-13T00:00:00",
          "2020-12-14T00:00:00",
          "2020-12-15T00:00:00",
          "2020-12-16T00:00:00",
          "2020-12-17T00:00:00",
          "2020-12-18T00:00:00",
          "2020-12-19T00:00:00",
          "2020-12-20T00:00:00",
          "2020-12-21T00:00:00",
          "2020-12-22T00:00:00",
          "2020-12-23T00:00:00",
          "2020-12-24T00:00:00",
          "2020-12-25T00:00:00",
          "2020-12-26T00:00:00",
          "2020-12-27T00:00:00",
          "2020-12-28T00:00:00",
          "2020-12-29T00:00:00",
          "2020-12-30T00:00:00",
          "2020-12-31T00:00:00",
          "2021-01-01T00:00:00",
          "2021-01-02T00:00:00",
          "2021-01-03T00:00:00",
          "2021-01-04T00:00:00",
          "2021-01-05T00:00:00",
          "2021-01-06T00:00:00",
          "2021-01-07T00:00:00",
          "2021-01-08T00:00:00",
          "2021-01-09T00:00:00",
          "2021-01-10T00:00:00",
          "2021-01-11T00:00:00",
          "2021-01-12T00:00:00",
          "2021-01-13T00:00:00",
          "2021-01-14T00:00:00",
          "2021-01-15T00:00:00",
          "2021-01-16T00:00:00",
          "2021-01-17T00:00:00",
          "2021-01-18T00:00:00"
         ],
         "y": [
          0,
          0,
          0,
          0,
          0,
          0,
          0,
          0,
          0,
          0,
          0,
          0,
          0,
          0,
          0,
          0,
          0,
          0,
          0,
          0,
          0,
          0,
          0,
          0,
          0,
          0,
          0,
          0,
          0,
          0,
          0,
          0,
          0,
          0,
          0,
          0,
          0,
          1,
          4,
          5,
          5,
          5,
          5,
          5,
          6,
          6,
          7,
          7,
          7,
          8,
          12,
          26,
          41,
          53,
          82,
          93,
          118,
          164,
          203,
          251,
          316,
          367,
          405,
          475,
          585,
          717,
          848,
          993,
          1094,
          1215,
          1378,
          1510,
          1688,
          1890,
          2143,
          2439,
          2785,
          3181,
          3441,
          3844,
          4219,
          4661,
          5014,
          5399,
          5847,
          6297,
          6875,
          7497,
          8261,
          8772,
          9501,
          10544,
          11633,
          12872,
          13842,
          14677,
          15529,
          16752,
          17799,
          19224,
          20739,
          22088,
          23471,
          24905,
          26025,
          27634,
          29616,
          31522,
          33460,
          35022,
          36327,
          38324,
          40186,
          42595,
          45032,
          47144,
          49219,
          51633,
          54346,
          56594,
          59567,
          62527,
          65856,
          68620,
          71105,
          74560,
          78023,
          81400,
          84627,
          87512,
          90664,
          93435,
          97326,
          101238,
          105680,
          110026,
          113619,
          117103,
          120102,
          124301,
          129184,
          133974,
          139196,
          142690,
          146837,
          150264,
          154863,
          159793,
          165455,
          170485,
          175202,
          180545,
          185122,
          191410,
          196847,
          202951,
          208392,
          212802,
          216852,
          220657,
          226089,
          231770,
          238511,
          245251,
          252165,
          256848,
          261750,
          268008,
          275003,
          282283,
          289174,
          295268,
          299750,
          304435,
          311486,
          317635,
          324041,
          331298,
          338913,
          344224,
          349396,
          356255,
          362274,
          370712,
          378285,
          385036,
          390516,
          395489,
          402697,
          408449,
          416179,
          424637,
          434193,
          439046,
          443813,
          449961,
          456100,
          462690,
          469407,
          475902,
          480278,
          485836,
          492522,
          498380,
          505751,
          511369,
          517714,
          522162,
          525733,
          531239,
          537031,
          543806,
          549734,
          556216,
          560164,
          563705,
          568621,
          573888,
          579914,
          585738,
          591712,
          595841,
          599560,
          606036,
          610957,
          616894,
          623090,
          629409,
          634023,
          637509,
          642860,
          647321,
          652364,
          658299,
          663973,
          668381,
          671716,
          676487,
          680931,
          684113,
          688954,
          694121,
          697663,
          700580,
          705263,
          710049,
          715457,
          720858,
          726431,
          730317,
          733717,
          738163,
          743216,
          748315,
          753090,
          757953,
          761665,
          789780,
          794608,
          799188,
          804488,
          810020,
          814328,
          817503,
          821045,
          825340,
          829396,
          834910,
          841661,
          847108,
          851227,
          854926,
          860714,
          867559,
          874171,
          880775,
          886800,
          891160,
          895326,
          901268,
          906863,
          912811,
          918811,
          924962,
          929392,
          933155,
          938405,
          943630,
          949197,
          955128,
          961938,
          967825,
          972785,
          978531,
          986177,
          991835,
          997393,
          1003253,
          1006522,
          1009396,
          1011153,
          1015071,
          1019543,
          1025969,
          1032688,
          1041875,
          1049358,
          1060152,
          1070487,
          1078594,
          1090675,
          1101403,
          1107071,
          1113543,
          1122362,
          1133613,
          1144643,
          1156770,
          1168395,
          1175850,
          1182249,
          1193255,
          1205229,
          1217126,
          1229379,
          1241436,
          1250044,
          1255974,
          1267202,
          1277499,
          1289298,
          1301546,
          1313675,
          1320545,
          1325915,
          1338426,
          1350079,
          1362564,
          1372243,
          1377217,
          1383434,
          1389430,
          1401529,
          1413935,
          1426094,
          1437185,
          1443544,
          1448755,
          1455219,
          1466490,
          1479835,
          1493569,
          1507931,
          1524036,
          1534039,
          1541633,
          1556028,
          1571901,
          1588369,
          1609735,
          1630258,
          1641428,
          1649502
         ]
        },
        {
         "line": {
          "color": "black",
          "width": 2.5
         },
         "mode": "lines",
         "name": "Defunciones ",
         "type": "scatter",
         "x": [
          "2020-01-22T00:00:00",
          "2020-01-23T00:00:00",
          "2020-01-24T00:00:00",
          "2020-01-25T00:00:00",
          "2020-01-26T00:00:00",
          "2020-01-27T00:00:00",
          "2020-01-28T00:00:00",
          "2020-01-29T00:00:00",
          "2020-01-30T00:00:00",
          "2020-01-31T00:00:00",
          "2020-02-01T00:00:00",
          "2020-02-02T00:00:00",
          "2020-02-03T00:00:00",
          "2020-02-04T00:00:00",
          "2020-02-05T00:00:00",
          "2020-02-06T00:00:00",
          "2020-02-07T00:00:00",
          "2020-02-08T00:00:00",
          "2020-02-09T00:00:00",
          "2020-02-10T00:00:00",
          "2020-02-11T00:00:00",
          "2020-02-12T00:00:00",
          "2020-02-13T00:00:00",
          "2020-02-14T00:00:00",
          "2020-02-15T00:00:00",
          "2020-02-16T00:00:00",
          "2020-02-17T00:00:00",
          "2020-02-18T00:00:00",
          "2020-02-19T00:00:00",
          "2020-02-20T00:00:00",
          "2020-02-21T00:00:00",
          "2020-02-22T00:00:00",
          "2020-02-23T00:00:00",
          "2020-02-24T00:00:00",
          "2020-02-25T00:00:00",
          "2020-02-26T00:00:00",
          "2020-02-27T00:00:00",
          "2020-02-28T00:00:00",
          "2020-02-29T00:00:00",
          "2020-03-01T00:00:00",
          "2020-03-02T00:00:00",
          "2020-03-03T00:00:00",
          "2020-03-04T00:00:00",
          "2020-03-05T00:00:00",
          "2020-03-06T00:00:00",
          "2020-03-07T00:00:00",
          "2020-03-08T00:00:00",
          "2020-03-09T00:00:00",
          "2020-03-10T00:00:00",
          "2020-03-11T00:00:00",
          "2020-03-12T00:00:00",
          "2020-03-13T00:00:00",
          "2020-03-14T00:00:00",
          "2020-03-15T00:00:00",
          "2020-03-16T00:00:00",
          "2020-03-17T00:00:00",
          "2020-03-18T00:00:00",
          "2020-03-19T00:00:00",
          "2020-03-20T00:00:00",
          "2020-03-21T00:00:00",
          "2020-03-22T00:00:00",
          "2020-03-23T00:00:00",
          "2020-03-24T00:00:00",
          "2020-03-25T00:00:00",
          "2020-03-26T00:00:00",
          "2020-03-27T00:00:00",
          "2020-03-28T00:00:00",
          "2020-03-29T00:00:00",
          "2020-03-30T00:00:00",
          "2020-03-31T00:00:00",
          "2020-04-01T00:00:00",
          "2020-04-02T00:00:00",
          "2020-04-03T00:00:00",
          "2020-04-04T00:00:00",
          "2020-04-05T00:00:00",
          "2020-04-06T00:00:00",
          "2020-04-07T00:00:00",
          "2020-04-08T00:00:00",
          "2020-04-09T00:00:00",
          "2020-04-10T00:00:00",
          "2020-04-11T00:00:00",
          "2020-04-12T00:00:00",
          "2020-04-13T00:00:00",
          "2020-04-14T00:00:00",
          "2020-04-15T00:00:00",
          "2020-04-16T00:00:00",
          "2020-04-17T00:00:00",
          "2020-04-18T00:00:00",
          "2020-04-19T00:00:00",
          "2020-04-20T00:00:00",
          "2020-04-21T00:00:00",
          "2020-04-22T00:00:00",
          "2020-04-23T00:00:00",
          "2020-04-24T00:00:00",
          "2020-04-25T00:00:00",
          "2020-04-26T00:00:00",
          "2020-04-27T00:00:00",
          "2020-04-28T00:00:00",
          "2020-04-29T00:00:00",
          "2020-04-30T00:00:00",
          "2020-05-01T00:00:00",
          "2020-05-02T00:00:00",
          "2020-05-03T00:00:00",
          "2020-05-04T00:00:00",
          "2020-05-05T00:00:00",
          "2020-05-06T00:00:00",
          "2020-05-07T00:00:00",
          "2020-05-08T00:00:00",
          "2020-05-09T00:00:00",
          "2020-05-10T00:00:00",
          "2020-05-11T00:00:00",
          "2020-05-12T00:00:00",
          "2020-05-13T00:00:00",
          "2020-05-14T00:00:00",
          "2020-05-15T00:00:00",
          "2020-05-16T00:00:00",
          "2020-05-17T00:00:00",
          "2020-05-18T00:00:00",
          "2020-05-19T00:00:00",
          "2020-05-20T00:00:00",
          "2020-05-21T00:00:00",
          "2020-05-22T00:00:00",
          "2020-05-23T00:00:00",
          "2020-05-24T00:00:00",
          "2020-05-25T00:00:00",
          "2020-05-26T00:00:00",
          "2020-05-27T00:00:00",
          "2020-05-28T00:00:00",
          "2020-05-29T00:00:00",
          "2020-05-30T00:00:00",
          "2020-05-31T00:00:00",
          "2020-06-01T00:00:00",
          "2020-06-02T00:00:00",
          "2020-06-03T00:00:00",
          "2020-06-04T00:00:00",
          "2020-06-05T00:00:00",
          "2020-06-06T00:00:00",
          "2020-06-07T00:00:00",
          "2020-06-08T00:00:00",
          "2020-06-09T00:00:00",
          "2020-06-10T00:00:00",
          "2020-06-11T00:00:00",
          "2020-06-12T00:00:00",
          "2020-06-13T00:00:00",
          "2020-06-14T00:00:00",
          "2020-06-15T00:00:00",
          "2020-06-16T00:00:00",
          "2020-06-17T00:00:00",
          "2020-06-18T00:00:00",
          "2020-06-19T00:00:00",
          "2020-06-20T00:00:00",
          "2020-06-21T00:00:00",
          "2020-06-22T00:00:00",
          "2020-06-23T00:00:00",
          "2020-06-24T00:00:00",
          "2020-06-25T00:00:00",
          "2020-06-26T00:00:00",
          "2020-06-27T00:00:00",
          "2020-06-28T00:00:00",
          "2020-06-29T00:00:00",
          "2020-06-30T00:00:00",
          "2020-07-01T00:00:00",
          "2020-07-02T00:00:00",
          "2020-07-03T00:00:00",
          "2020-07-04T00:00:00",
          "2020-07-05T00:00:00",
          "2020-07-06T00:00:00",
          "2020-07-07T00:00:00",
          "2020-07-08T00:00:00",
          "2020-07-09T00:00:00",
          "2020-07-10T00:00:00",
          "2020-07-11T00:00:00",
          "2020-07-12T00:00:00",
          "2020-07-13T00:00:00",
          "2020-07-14T00:00:00",
          "2020-07-15T00:00:00",
          "2020-07-16T00:00:00",
          "2020-07-17T00:00:00",
          "2020-07-18T00:00:00",
          "2020-07-19T00:00:00",
          "2020-07-20T00:00:00",
          "2020-07-21T00:00:00",
          "2020-07-22T00:00:00",
          "2020-07-23T00:00:00",
          "2020-07-24T00:00:00",
          "2020-07-25T00:00:00",
          "2020-07-26T00:00:00",
          "2020-07-27T00:00:00",
          "2020-07-28T00:00:00",
          "2020-07-29T00:00:00",
          "2020-07-30T00:00:00",
          "2020-07-31T00:00:00",
          "2020-08-01T00:00:00",
          "2020-08-02T00:00:00",
          "2020-08-03T00:00:00",
          "2020-08-04T00:00:00",
          "2020-08-05T00:00:00",
          "2020-08-06T00:00:00",
          "2020-08-07T00:00:00",
          "2020-08-08T00:00:00",
          "2020-08-09T00:00:00",
          "2020-08-10T00:00:00",
          "2020-08-11T00:00:00",
          "2020-08-12T00:00:00",
          "2020-08-13T00:00:00",
          "2020-08-14T00:00:00",
          "2020-08-15T00:00:00",
          "2020-08-16T00:00:00",
          "2020-08-17T00:00:00",
          "2020-08-18T00:00:00",
          "2020-08-19T00:00:00",
          "2020-08-20T00:00:00",
          "2020-08-21T00:00:00",
          "2020-08-22T00:00:00",
          "2020-08-23T00:00:00",
          "2020-08-24T00:00:00",
          "2020-08-25T00:00:00",
          "2020-08-26T00:00:00",
          "2020-08-27T00:00:00",
          "2020-08-28T00:00:00",
          "2020-08-29T00:00:00",
          "2020-08-30T00:00:00",
          "2020-08-31T00:00:00",
          "2020-09-01T00:00:00",
          "2020-09-02T00:00:00",
          "2020-09-03T00:00:00",
          "2020-09-04T00:00:00",
          "2020-09-05T00:00:00",
          "2020-09-06T00:00:00",
          "2020-09-07T00:00:00",
          "2020-09-08T00:00:00",
          "2020-09-09T00:00:00",
          "2020-09-10T00:00:00",
          "2020-09-11T00:00:00",
          "2020-09-12T00:00:00",
          "2020-09-13T00:00:00",
          "2020-09-14T00:00:00",
          "2020-09-15T00:00:00",
          "2020-09-16T00:00:00",
          "2020-09-17T00:00:00",
          "2020-09-18T00:00:00",
          "2020-09-19T00:00:00",
          "2020-09-20T00:00:00",
          "2020-09-21T00:00:00",
          "2020-09-22T00:00:00",
          "2020-09-23T00:00:00",
          "2020-09-24T00:00:00",
          "2020-09-25T00:00:00",
          "2020-09-26T00:00:00",
          "2020-09-27T00:00:00",
          "2020-09-28T00:00:00",
          "2020-09-29T00:00:00",
          "2020-09-30T00:00:00",
          "2020-10-01T00:00:00",
          "2020-10-02T00:00:00",
          "2020-10-03T00:00:00",
          "2020-10-04T00:00:00",
          "2020-10-05T00:00:00",
          "2020-10-06T00:00:00",
          "2020-10-07T00:00:00",
          "2020-10-08T00:00:00",
          "2020-10-09T00:00:00",
          "2020-10-10T00:00:00",
          "2020-10-11T00:00:00",
          "2020-10-12T00:00:00",
          "2020-10-13T00:00:00",
          "2020-10-14T00:00:00",
          "2020-10-15T00:00:00",
          "2020-10-16T00:00:00",
          "2020-10-17T00:00:00",
          "2020-10-18T00:00:00",
          "2020-10-19T00:00:00",
          "2020-10-20T00:00:00",
          "2020-10-21T00:00:00",
          "2020-10-22T00:00:00",
          "2020-10-23T00:00:00",
          "2020-10-24T00:00:00",
          "2020-10-25T00:00:00",
          "2020-10-26T00:00:00",
          "2020-10-27T00:00:00",
          "2020-10-28T00:00:00",
          "2020-10-29T00:00:00",
          "2020-10-30T00:00:00",
          "2020-10-31T00:00:00",
          "2020-11-01T00:00:00",
          "2020-11-02T00:00:00",
          "2020-11-03T00:00:00",
          "2020-11-04T00:00:00",
          "2020-11-05T00:00:00",
          "2020-11-06T00:00:00",
          "2020-11-07T00:00:00",
          "2020-11-08T00:00:00",
          "2020-11-09T00:00:00",
          "2020-11-10T00:00:00",
          "2020-11-11T00:00:00",
          "2020-11-12T00:00:00",
          "2020-11-13T00:00:00",
          "2020-11-14T00:00:00",
          "2020-11-15T00:00:00",
          "2020-11-16T00:00:00",
          "2020-11-17T00:00:00",
          "2020-11-18T00:00:00",
          "2020-11-19T00:00:00",
          "2020-11-20T00:00:00",
          "2020-11-21T00:00:00",
          "2020-11-22T00:00:00",
          "2020-11-23T00:00:00",
          "2020-11-24T00:00:00",
          "2020-11-25T00:00:00",
          "2020-11-26T00:00:00",
          "2020-11-27T00:00:00",
          "2020-11-28T00:00:00",
          "2020-11-29T00:00:00",
          "2020-11-30T00:00:00",
          "2020-12-01T00:00:00",
          "2020-12-02T00:00:00",
          "2020-12-03T00:00:00",
          "2020-12-04T00:00:00",
          "2020-12-05T00:00:00",
          "2020-12-06T00:00:00",
          "2020-12-07T00:00:00",
          "2020-12-08T00:00:00",
          "2020-12-09T00:00:00",
          "2020-12-10T00:00:00",
          "2020-12-11T00:00:00",
          "2020-12-12T00:00:00",
          "2020-12-13T00:00:00",
          "2020-12-14T00:00:00",
          "2020-12-15T00:00:00",
          "2020-12-16T00:00:00",
          "2020-12-17T00:00:00",
          "2020-12-18T00:00:00",
          "2020-12-19T00:00:00",
          "2020-12-20T00:00:00",
          "2020-12-21T00:00:00",
          "2020-12-22T00:00:00",
          "2020-12-23T00:00:00",
          "2020-12-24T00:00:00",
          "2020-12-25T00:00:00",
          "2020-12-26T00:00:00",
          "2020-12-27T00:00:00",
          "2020-12-28T00:00:00",
          "2020-12-29T00:00:00",
          "2020-12-30T00:00:00",
          "2020-12-31T00:00:00",
          "2021-01-01T00:00:00",
          "2021-01-02T00:00:00",
          "2021-01-03T00:00:00",
          "2021-01-04T00:00:00",
          "2021-01-05T00:00:00",
          "2021-01-06T00:00:00",
          "2021-01-07T00:00:00",
          "2021-01-08T00:00:00",
          "2021-01-09T00:00:00",
          "2021-01-10T00:00:00",
          "2021-01-11T00:00:00",
          "2021-01-12T00:00:00",
          "2021-01-13T00:00:00",
          "2021-01-14T00:00:00",
          "2021-01-15T00:00:00",
          "2021-01-16T00:00:00",
          "2021-01-17T00:00:00",
          "2021-01-18T00:00:00"
         ],
         "y": [
          0,
          0,
          0,
          0,
          0,
          0,
          0,
          0,
          0,
          0,
          0,
          0,
          0,
          0,
          0,
          0,
          0,
          0,
          0,
          0,
          0,
          0,
          0,
          0,
          0,
          0,
          0,
          0,
          0,
          0,
          0,
          0,
          0,
          0,
          0,
          0,
          0,
          0,
          0,
          0,
          0,
          0,
          0,
          0,
          0,
          0,
          0,
          0,
          0,
          0,
          0,
          0,
          0,
          0,
          0,
          0,
          0,
          1,
          2,
          2,
          3,
          4,
          5,
          6,
          8,
          12,
          16,
          20,
          28,
          29,
          37,
          50,
          60,
          79,
          94,
          125,
          141,
          174,
          194,
          233,
          273,
          296,
          332,
          406,
          449,
          486,
          546,
          650,
          686,
          712,
          857,
          970,
          1069,
          1221,
          1305,
          1351,
          1434,
          1569,
          1732,
          1859,
          1972,
          2061,
          2154,
          2271,
          2507,
          2704,
          2961,
          3160,
          3353,
          3465,
          3573,
          3926,
          4220,
          4477,
          4767,
          5045,
          5177,
          5332,
          5666,
          6090,
          6510,
          6989,
          7179,
          7394,
          7633,
          8134,
          8597,
          9044,
          9415,
          9779,
          9930,
          10167,
          10637,
          11729,
          12545,
          13170,
          13511,
          13699,
          14053,
          14649,
          15357,
          15944,
          16448,
          16872,
          17141,
          17580,
          18310,
          19080,
          19747,
          20394,
          20781,
          21825,
          22584,
          23377,
          24324,
          25060,
          25779,
          26381,
          26648,
          27121,
          27769,
          28510,
          29189,
          29843,
          30366,
          30639,
          31119,
          32014,
          32796,
          33526,
          34191,
          34730,
          35006,
          35491,
          36327,
          36906,
          37574,
          38310,
          38888,
          39184,
          39485,
          40400,
          41190,
          41908,
          42645,
          43374,
          43680,
          44022,
          44876,
          45361,
          46000,
          46688,
          47472,
          47746,
          48012,
          48869,
          49698,
          50517,
          51311,
          52006,
          52298,
          53003,
          53929,
          54666,
          55293,
          55908,
          56543,
          56757,
          57023,
          57774,
          58481,
          59106,
          59610,
          60254,
          60480,
          60800,
          61450,
          62076,
          62594,
          63146,
          63819,
          64158,
          64414,
          65241,
          65816,
          66329,
          66851,
          67326,
          67558,
          67781,
          68484,
          69049,
          69649,
          70183,
          70604,
          70821,
          71049,
          71678,
          71978,
          72179,
          72803,
          73258,
          73493,
          73697,
          74348,
          74949,
          75439,
          75844,
          76243,
          76430,
          76603,
          77163,
          77646,
          78078,
          78492,
          78880,
          79088,
          81877,
          82348,
          82726,
          83096,
          83497,
          83642,
          83781,
          83945,
          84420,
          84898,
          85285,
          85704,
          86059,
          86167,
          86338,
          86893,
          87415,
          87415,
          88312,
          88743,
          88924,
          89171,
          89814,
          90309,
          90773,
          91289,
          91753,
          91895,
          92100,
          92593,
          93228,
          93772,
          94323,
          94808,
          95027,
          95225,
          95842,
          96430,
          97056,
          97624,
          98259,
          98542,
          98861,
          99026,
          99528,
          100104,
          100823,
          101373,
          101676,
          101926,
          102739,
          103597,
          104242,
          104873,
          105459,
          105655,
          105940,
          106765,
          107565,
          108173,
          108863,
          109456,
          109717,
          110074,
          110874,
          111655,
          112326,
          113019,
          113704,
          113953,
          114298,
          115099,
          115769,
          116487,
          117249,
          117876,
          118202,
          118598,
          119495,
          120311,
          121172,
          121837,
          122026,
          122426,
          122855,
          123845,
          124897,
          125807,
          126507,
          126851,
          127213,
          127757,
          128822,
          129987,
          131031,
          132069,
          133204,
          133706,
          134368,
          135682,
          136917,
          137916,
          139022,
          140241,
          140704,
          141248
         ]
        }
       ],
       "layout": {
        "template": {
         "data": {
          "bar": [
           {
            "error_x": {
             "color": "#2a3f5f"
            },
            "error_y": {
             "color": "#2a3f5f"
            },
            "marker": {
             "line": {
              "color": "white",
              "width": 0.5
             }
            },
            "type": "bar"
           }
          ],
          "barpolar": [
           {
            "marker": {
             "line": {
              "color": "white",
              "width": 0.5
             }
            },
            "type": "barpolar"
           }
          ],
          "carpet": [
           {
            "aaxis": {
             "endlinecolor": "#2a3f5f",
             "gridcolor": "#C8D4E3",
             "linecolor": "#C8D4E3",
             "minorgridcolor": "#C8D4E3",
             "startlinecolor": "#2a3f5f"
            },
            "baxis": {
             "endlinecolor": "#2a3f5f",
             "gridcolor": "#C8D4E3",
             "linecolor": "#C8D4E3",
             "minorgridcolor": "#C8D4E3",
             "startlinecolor": "#2a3f5f"
            },
            "type": "carpet"
           }
          ],
          "choropleth": [
           {
            "colorbar": {
             "outlinewidth": 0,
             "ticks": ""
            },
            "type": "choropleth"
           }
          ],
          "contour": [
           {
            "colorbar": {
             "outlinewidth": 0,
             "ticks": ""
            },
            "colorscale": [
             [
              0,
              "#0d0887"
             ],
             [
              0.1111111111111111,
              "#46039f"
             ],
             [
              0.2222222222222222,
              "#7201a8"
             ],
             [
              0.3333333333333333,
              "#9c179e"
             ],
             [
              0.4444444444444444,
              "#bd3786"
             ],
             [
              0.5555555555555556,
              "#d8576b"
             ],
             [
              0.6666666666666666,
              "#ed7953"
             ],
             [
              0.7777777777777778,
              "#fb9f3a"
             ],
             [
              0.8888888888888888,
              "#fdca26"
             ],
             [
              1,
              "#f0f921"
             ]
            ],
            "type": "contour"
           }
          ],
          "contourcarpet": [
           {
            "colorbar": {
             "outlinewidth": 0,
             "ticks": ""
            },
            "type": "contourcarpet"
           }
          ],
          "heatmap": [
           {
            "colorbar": {
             "outlinewidth": 0,
             "ticks": ""
            },
            "colorscale": [
             [
              0,
              "#0d0887"
             ],
             [
              0.1111111111111111,
              "#46039f"
             ],
             [
              0.2222222222222222,
              "#7201a8"
             ],
             [
              0.3333333333333333,
              "#9c179e"
             ],
             [
              0.4444444444444444,
              "#bd3786"
             ],
             [
              0.5555555555555556,
              "#d8576b"
             ],
             [
              0.6666666666666666,
              "#ed7953"
             ],
             [
              0.7777777777777778,
              "#fb9f3a"
             ],
             [
              0.8888888888888888,
              "#fdca26"
             ],
             [
              1,
              "#f0f921"
             ]
            ],
            "type": "heatmap"
           }
          ],
          "heatmapgl": [
           {
            "colorbar": {
             "outlinewidth": 0,
             "ticks": ""
            },
            "colorscale": [
             [
              0,
              "#0d0887"
             ],
             [
              0.1111111111111111,
              "#46039f"
             ],
             [
              0.2222222222222222,
              "#7201a8"
             ],
             [
              0.3333333333333333,
              "#9c179e"
             ],
             [
              0.4444444444444444,
              "#bd3786"
             ],
             [
              0.5555555555555556,
              "#d8576b"
             ],
             [
              0.6666666666666666,
              "#ed7953"
             ],
             [
              0.7777777777777778,
              "#fb9f3a"
             ],
             [
              0.8888888888888888,
              "#fdca26"
             ],
             [
              1,
              "#f0f921"
             ]
            ],
            "type": "heatmapgl"
           }
          ],
          "histogram": [
           {
            "marker": {
             "colorbar": {
              "outlinewidth": 0,
              "ticks": ""
             }
            },
            "type": "histogram"
           }
          ],
          "histogram2d": [
           {
            "colorbar": {
             "outlinewidth": 0,
             "ticks": ""
            },
            "colorscale": [
             [
              0,
              "#0d0887"
             ],
             [
              0.1111111111111111,
              "#46039f"
             ],
             [
              0.2222222222222222,
              "#7201a8"
             ],
             [
              0.3333333333333333,
              "#9c179e"
             ],
             [
              0.4444444444444444,
              "#bd3786"
             ],
             [
              0.5555555555555556,
              "#d8576b"
             ],
             [
              0.6666666666666666,
              "#ed7953"
             ],
             [
              0.7777777777777778,
              "#fb9f3a"
             ],
             [
              0.8888888888888888,
              "#fdca26"
             ],
             [
              1,
              "#f0f921"
             ]
            ],
            "type": "histogram2d"
           }
          ],
          "histogram2dcontour": [
           {
            "colorbar": {
             "outlinewidth": 0,
             "ticks": ""
            },
            "colorscale": [
             [
              0,
              "#0d0887"
             ],
             [
              0.1111111111111111,
              "#46039f"
             ],
             [
              0.2222222222222222,
              "#7201a8"
             ],
             [
              0.3333333333333333,
              "#9c179e"
             ],
             [
              0.4444444444444444,
              "#bd3786"
             ],
             [
              0.5555555555555556,
              "#d8576b"
             ],
             [
              0.6666666666666666,
              "#ed7953"
             ],
             [
              0.7777777777777778,
              "#fb9f3a"
             ],
             [
              0.8888888888888888,
              "#fdca26"
             ],
             [
              1,
              "#f0f921"
             ]
            ],
            "type": "histogram2dcontour"
           }
          ],
          "mesh3d": [
           {
            "colorbar": {
             "outlinewidth": 0,
             "ticks": ""
            },
            "type": "mesh3d"
           }
          ],
          "parcoords": [
           {
            "line": {
             "colorbar": {
              "outlinewidth": 0,
              "ticks": ""
             }
            },
            "type": "parcoords"
           }
          ],
          "pie": [
           {
            "automargin": true,
            "type": "pie"
           }
          ],
          "scatter": [
           {
            "marker": {
             "colorbar": {
              "outlinewidth": 0,
              "ticks": ""
             }
            },
            "type": "scatter"
           }
          ],
          "scatter3d": [
           {
            "line": {
             "colorbar": {
              "outlinewidth": 0,
              "ticks": ""
             }
            },
            "marker": {
             "colorbar": {
              "outlinewidth": 0,
              "ticks": ""
             }
            },
            "type": "scatter3d"
           }
          ],
          "scattercarpet": [
           {
            "marker": {
             "colorbar": {
              "outlinewidth": 0,
              "ticks": ""
             }
            },
            "type": "scattercarpet"
           }
          ],
          "scattergeo": [
           {
            "marker": {
             "colorbar": {
              "outlinewidth": 0,
              "ticks": ""
             }
            },
            "type": "scattergeo"
           }
          ],
          "scattergl": [
           {
            "marker": {
             "colorbar": {
              "outlinewidth": 0,
              "ticks": ""
             }
            },
            "type": "scattergl"
           }
          ],
          "scattermapbox": [
           {
            "marker": {
             "colorbar": {
              "outlinewidth": 0,
              "ticks": ""
             }
            },
            "type": "scattermapbox"
           }
          ],
          "scatterpolar": [
           {
            "marker": {
             "colorbar": {
              "outlinewidth": 0,
              "ticks": ""
             }
            },
            "type": "scatterpolar"
           }
          ],
          "scatterpolargl": [
           {
            "marker": {
             "colorbar": {
              "outlinewidth": 0,
              "ticks": ""
             }
            },
            "type": "scatterpolargl"
           }
          ],
          "scatterternary": [
           {
            "marker": {
             "colorbar": {
              "outlinewidth": 0,
              "ticks": ""
             }
            },
            "type": "scatterternary"
           }
          ],
          "surface": [
           {
            "colorbar": {
             "outlinewidth": 0,
             "ticks": ""
            },
            "colorscale": [
             [
              0,
              "#0d0887"
             ],
             [
              0.1111111111111111,
              "#46039f"
             ],
             [
              0.2222222222222222,
              "#7201a8"
             ],
             [
              0.3333333333333333,
              "#9c179e"
             ],
             [
              0.4444444444444444,
              "#bd3786"
             ],
             [
              0.5555555555555556,
              "#d8576b"
             ],
             [
              0.6666666666666666,
              "#ed7953"
             ],
             [
              0.7777777777777778,
              "#fb9f3a"
             ],
             [
              0.8888888888888888,
              "#fdca26"
             ],
             [
              1,
              "#f0f921"
             ]
            ],
            "type": "surface"
           }
          ],
          "table": [
           {
            "cells": {
             "fill": {
              "color": "#EBF0F8"
             },
             "line": {
              "color": "white"
             }
            },
            "header": {
             "fill": {
              "color": "#C8D4E3"
             },
             "line": {
              "color": "white"
             }
            },
            "type": "table"
           }
          ]
         },
         "layout": {
          "annotationdefaults": {
           "arrowcolor": "#2a3f5f",
           "arrowhead": 0,
           "arrowwidth": 1
          },
          "coloraxis": {
           "colorbar": {
            "outlinewidth": 0,
            "ticks": ""
           }
          },
          "colorscale": {
           "diverging": [
            [
             0,
             "#8e0152"
            ],
            [
             0.1,
             "#c51b7d"
            ],
            [
             0.2,
             "#de77ae"
            ],
            [
             0.3,
             "#f1b6da"
            ],
            [
             0.4,
             "#fde0ef"
            ],
            [
             0.5,
             "#f7f7f7"
            ],
            [
             0.6,
             "#e6f5d0"
            ],
            [
             0.7,
             "#b8e186"
            ],
            [
             0.8,
             "#7fbc41"
            ],
            [
             0.9,
             "#4d9221"
            ],
            [
             1,
             "#276419"
            ]
           ],
           "sequential": [
            [
             0,
             "#0d0887"
            ],
            [
             0.1111111111111111,
             "#46039f"
            ],
            [
             0.2222222222222222,
             "#7201a8"
            ],
            [
             0.3333333333333333,
             "#9c179e"
            ],
            [
             0.4444444444444444,
             "#bd3786"
            ],
            [
             0.5555555555555556,
             "#d8576b"
            ],
            [
             0.6666666666666666,
             "#ed7953"
            ],
            [
             0.7777777777777778,
             "#fb9f3a"
            ],
            [
             0.8888888888888888,
             "#fdca26"
            ],
            [
             1,
             "#f0f921"
            ]
           ],
           "sequentialminus": [
            [
             0,
             "#0d0887"
            ],
            [
             0.1111111111111111,
             "#46039f"
            ],
            [
             0.2222222222222222,
             "#7201a8"
            ],
            [
             0.3333333333333333,
             "#9c179e"
            ],
            [
             0.4444444444444444,
             "#bd3786"
            ],
            [
             0.5555555555555556,
             "#d8576b"
            ],
            [
             0.6666666666666666,
             "#ed7953"
            ],
            [
             0.7777777777777778,
             "#fb9f3a"
            ],
            [
             0.8888888888888888,
             "#fdca26"
            ],
            [
             1,
             "#f0f921"
            ]
           ]
          },
          "colorway": [
           "#636efa",
           "#EF553B",
           "#00cc96",
           "#ab63fa",
           "#FFA15A",
           "#19d3f3",
           "#FF6692",
           "#B6E880",
           "#FF97FF",
           "#FECB52"
          ],
          "font": {
           "color": "#2a3f5f"
          },
          "geo": {
           "bgcolor": "white",
           "lakecolor": "white",
           "landcolor": "white",
           "showlakes": true,
           "showland": true,
           "subunitcolor": "#C8D4E3"
          },
          "hoverlabel": {
           "align": "left"
          },
          "hovermode": "closest",
          "mapbox": {
           "style": "light"
          },
          "paper_bgcolor": "white",
          "plot_bgcolor": "white",
          "polar": {
           "angularaxis": {
            "gridcolor": "#EBF0F8",
            "linecolor": "#EBF0F8",
            "ticks": ""
           },
           "bgcolor": "white",
           "radialaxis": {
            "gridcolor": "#EBF0F8",
            "linecolor": "#EBF0F8",
            "ticks": ""
           }
          },
          "scene": {
           "xaxis": {
            "backgroundcolor": "white",
            "gridcolor": "#DFE8F3",
            "gridwidth": 2,
            "linecolor": "#EBF0F8",
            "showbackground": true,
            "ticks": "",
            "zerolinecolor": "#EBF0F8"
           },
           "yaxis": {
            "backgroundcolor": "white",
            "gridcolor": "#DFE8F3",
            "gridwidth": 2,
            "linecolor": "#EBF0F8",
            "showbackground": true,
            "ticks": "",
            "zerolinecolor": "#EBF0F8"
           },
           "zaxis": {
            "backgroundcolor": "white",
            "gridcolor": "#DFE8F3",
            "gridwidth": 2,
            "linecolor": "#EBF0F8",
            "showbackground": true,
            "ticks": "",
            "zerolinecolor": "#EBF0F8"
           }
          },
          "shapedefaults": {
           "line": {
            "color": "#2a3f5f"
           }
          },
          "ternary": {
           "aaxis": {
            "gridcolor": "#DFE8F3",
            "linecolor": "#A2B1C6",
            "ticks": ""
           },
           "baxis": {
            "gridcolor": "#DFE8F3",
            "linecolor": "#A2B1C6",
            "ticks": ""
           },
           "bgcolor": "white",
           "caxis": {
            "gridcolor": "#DFE8F3",
            "linecolor": "#A2B1C6",
            "ticks": ""
           }
          },
          "title": {
           "x": 0.05
          },
          "xaxis": {
           "automargin": true,
           "gridcolor": "#EBF0F8",
           "linecolor": "#EBF0F8",
           "ticks": "",
           "title": {
            "standoff": 15
           },
           "zerolinecolor": "#EBF0F8",
           "zerolinewidth": 2
          },
          "yaxis": {
           "automargin": true,
           "gridcolor": "#EBF0F8",
           "linecolor": "#EBF0F8",
           "ticks": "",
           "title": {
            "standoff": 15
           },
           "zerolinecolor": "#EBF0F8",
           "zerolinewidth": 2
          }
         }
        },
        "title": {
         "text": "Casos acumulados en México"
        },
        "xaxis": {
         "title": {
          "text": "Fecha de registro"
         }
        },
        "yaxis": {
         "title": {
          "text": "Número de casos acumulados"
         }
        }
       }
      }
     },
     "metadata": {}
    }
   ],
   "source": [
    "#Graficando los casos confirmados de muertes y confirmados ....\n",
    "acum_plot(jhu_conf_mex_df[\"fecha_confirmados_dateTime\"], jhu_conf_mex_df[\"confirmados\"],\n",
    "            jhu_deaths_mex_df[\"fecha_muerte_dateTime\"], jhu_deaths_mex_df[\"muertes\"], region=\"México\")"
   ]
  },
  {
   "cell_type": "code",
   "execution_count": 73,
   "metadata": {},
   "outputs": [],
   "source": [
    "# difference JHU data in order to get daily cases ....\n",
    "def diff(data):\n",
    "    v_1 = np.array(data)\n",
    "    v_2 = np.diff(v_1)\n",
    "    res = np.insert(v_2,0,v_1[0])\n",
    "\n",
    "    return pd.Series(res)"
   ]
  },
  {
   "cell_type": "code",
   "execution_count": 74,
   "metadata": {},
   "outputs": [
    {
     "output_type": "execute_result",
     "data": {
      "text/plain": [
       "    fecha_muerte muertes fecha_muerte_dateTime muertes diarias\n",
       "0        1/22/20       0            2020-01-22               0\n",
       "1        1/23/20       0            2020-01-23               0\n",
       "2        1/24/20       0            2020-01-24               0\n",
       "3        1/25/20       0            2020-01-25               0\n",
       "4        1/26/20       0            2020-01-26               0\n",
       "..           ...     ...                   ...             ...\n",
       "358      1/14/21  137916            2021-01-14             999\n",
       "359      1/15/21  139022            2021-01-15            1106\n",
       "360      1/16/21  140241            2021-01-16            1219\n",
       "361      1/17/21  140704            2021-01-17             463\n",
       "362      1/18/21  141248            2021-01-18             544\n",
       "\n",
       "[363 rows x 4 columns]"
      ],
      "text/html": "<div>\n<style scoped>\n    .dataframe tbody tr th:only-of-type {\n        vertical-align: middle;\n    }\n\n    .dataframe tbody tr th {\n        vertical-align: top;\n    }\n\n    .dataframe thead th {\n        text-align: right;\n    }\n</style>\n<table border=\"1\" class=\"dataframe\">\n  <thead>\n    <tr style=\"text-align: right;\">\n      <th></th>\n      <th>fecha_muerte</th>\n      <th>muertes</th>\n      <th>fecha_muerte_dateTime</th>\n      <th>muertes diarias</th>\n    </tr>\n  </thead>\n  <tbody>\n    <tr>\n      <th>0</th>\n      <td>1/22/20</td>\n      <td>0</td>\n      <td>2020-01-22</td>\n      <td>0</td>\n    </tr>\n    <tr>\n      <th>1</th>\n      <td>1/23/20</td>\n      <td>0</td>\n      <td>2020-01-23</td>\n      <td>0</td>\n    </tr>\n    <tr>\n      <th>2</th>\n      <td>1/24/20</td>\n      <td>0</td>\n      <td>2020-01-24</td>\n      <td>0</td>\n    </tr>\n    <tr>\n      <th>3</th>\n      <td>1/25/20</td>\n      <td>0</td>\n      <td>2020-01-25</td>\n      <td>0</td>\n    </tr>\n    <tr>\n      <th>4</th>\n      <td>1/26/20</td>\n      <td>0</td>\n      <td>2020-01-26</td>\n      <td>0</td>\n    </tr>\n    <tr>\n      <th>...</th>\n      <td>...</td>\n      <td>...</td>\n      <td>...</td>\n      <td>...</td>\n    </tr>\n    <tr>\n      <th>358</th>\n      <td>1/14/21</td>\n      <td>137916</td>\n      <td>2021-01-14</td>\n      <td>999</td>\n    </tr>\n    <tr>\n      <th>359</th>\n      <td>1/15/21</td>\n      <td>139022</td>\n      <td>2021-01-15</td>\n      <td>1106</td>\n    </tr>\n    <tr>\n      <th>360</th>\n      <td>1/16/21</td>\n      <td>140241</td>\n      <td>2021-01-16</td>\n      <td>1219</td>\n    </tr>\n    <tr>\n      <th>361</th>\n      <td>1/17/21</td>\n      <td>140704</td>\n      <td>2021-01-17</td>\n      <td>463</td>\n    </tr>\n    <tr>\n      <th>362</th>\n      <td>1/18/21</td>\n      <td>141248</td>\n      <td>2021-01-18</td>\n      <td>544</td>\n    </tr>\n  </tbody>\n</table>\n<p>363 rows × 4 columns</p>\n</div>"
     },
     "metadata": {},
     "execution_count": 74
    }
   ],
   "source": [
    "#Getting daily cases ...\n",
    "jhu_conf_daily = diff(jhu_conf_mex_df[\"confirmados\"])   \n",
    "jhu_conf_mex_df[\"casos diarios\"] = jhu_conf_daily\n",
    "\n",
    "#Getting daily deaths...\n",
    "jhu_daily_deaths = diff(jhu_deaths_mex_df[\"muertes\"]) \n",
    "jhu_deaths_mex_df[\"muertes diarias\"] = jhu_daily_deaths\n",
    "\n",
    "jhu_deaths_mex_df"
   ]
  },
  {
   "cell_type": "code",
   "execution_count": 75,
   "metadata": {},
   "outputs": [
    {
     "output_type": "execute_result",
     "data": {
      "text/plain": [
       "    fecha_confirmados confirmados fecha_confirmados_dateTime casos diarios\n",
       "0             1/22/20           0                 2020-01-22             0\n",
       "1             1/23/20           0                 2020-01-23             0\n",
       "2             1/24/20           0                 2020-01-24             0\n",
       "3             1/25/20           0                 2020-01-25             0\n",
       "4             1/26/20           0                 2020-01-26             0\n",
       "..                ...         ...                        ...           ...\n",
       "358           1/14/21     1588369                 2021-01-14         16468\n",
       "359           1/15/21     1609735                 2021-01-15         21366\n",
       "360           1/16/21     1630258                 2021-01-16         20523\n",
       "361           1/17/21     1641428                 2021-01-17         11170\n",
       "362           1/18/21     1649502                 2021-01-18          8074\n",
       "\n",
       "[363 rows x 4 columns]"
      ],
      "text/html": "<div>\n<style scoped>\n    .dataframe tbody tr th:only-of-type {\n        vertical-align: middle;\n    }\n\n    .dataframe tbody tr th {\n        vertical-align: top;\n    }\n\n    .dataframe thead th {\n        text-align: right;\n    }\n</style>\n<table border=\"1\" class=\"dataframe\">\n  <thead>\n    <tr style=\"text-align: right;\">\n      <th></th>\n      <th>fecha_confirmados</th>\n      <th>confirmados</th>\n      <th>fecha_confirmados_dateTime</th>\n      <th>casos diarios</th>\n    </tr>\n  </thead>\n  <tbody>\n    <tr>\n      <th>0</th>\n      <td>1/22/20</td>\n      <td>0</td>\n      <td>2020-01-22</td>\n      <td>0</td>\n    </tr>\n    <tr>\n      <th>1</th>\n      <td>1/23/20</td>\n      <td>0</td>\n      <td>2020-01-23</td>\n      <td>0</td>\n    </tr>\n    <tr>\n      <th>2</th>\n      <td>1/24/20</td>\n      <td>0</td>\n      <td>2020-01-24</td>\n      <td>0</td>\n    </tr>\n    <tr>\n      <th>3</th>\n      <td>1/25/20</td>\n      <td>0</td>\n      <td>2020-01-25</td>\n      <td>0</td>\n    </tr>\n    <tr>\n      <th>4</th>\n      <td>1/26/20</td>\n      <td>0</td>\n      <td>2020-01-26</td>\n      <td>0</td>\n    </tr>\n    <tr>\n      <th>...</th>\n      <td>...</td>\n      <td>...</td>\n      <td>...</td>\n      <td>...</td>\n    </tr>\n    <tr>\n      <th>358</th>\n      <td>1/14/21</td>\n      <td>1588369</td>\n      <td>2021-01-14</td>\n      <td>16468</td>\n    </tr>\n    <tr>\n      <th>359</th>\n      <td>1/15/21</td>\n      <td>1609735</td>\n      <td>2021-01-15</td>\n      <td>21366</td>\n    </tr>\n    <tr>\n      <th>360</th>\n      <td>1/16/21</td>\n      <td>1630258</td>\n      <td>2021-01-16</td>\n      <td>20523</td>\n    </tr>\n    <tr>\n      <th>361</th>\n      <td>1/17/21</td>\n      <td>1641428</td>\n      <td>2021-01-17</td>\n      <td>11170</td>\n    </tr>\n    <tr>\n      <th>362</th>\n      <td>1/18/21</td>\n      <td>1649502</td>\n      <td>2021-01-18</td>\n      <td>8074</td>\n    </tr>\n  </tbody>\n</table>\n<p>363 rows × 4 columns</p>\n</div>"
     },
     "metadata": {},
     "execution_count": 75
    }
   ],
   "source": [
    "jhu_conf_mex_df"
   ]
  },
  {
   "cell_type": "code",
   "execution_count": 76,
   "metadata": {},
   "outputs": [
    {
     "output_type": "display_data",
     "data": {
      "application/vnd.plotly.v1+json": {
       "config": {
        "plotlyServerURL": "https://plot.ly"
       },
       "data": [
        {
         "marker": {
          "color": "#ff1744",
          "opacity": 0.6
         },
         "name": "Nuevos casos",
         "type": "bar",
         "x": [
          "2020-01-22T00:00:00",
          "2020-01-23T00:00:00",
          "2020-01-24T00:00:00",
          "2020-01-25T00:00:00",
          "2020-01-26T00:00:00",
          "2020-01-27T00:00:00",
          "2020-01-28T00:00:00",
          "2020-01-29T00:00:00",
          "2020-01-30T00:00:00",
          "2020-01-31T00:00:00",
          "2020-02-01T00:00:00",
          "2020-02-02T00:00:00",
          "2020-02-03T00:00:00",
          "2020-02-04T00:00:00",
          "2020-02-05T00:00:00",
          "2020-02-06T00:00:00",
          "2020-02-07T00:00:00",
          "2020-02-08T00:00:00",
          "2020-02-09T00:00:00",
          "2020-02-10T00:00:00",
          "2020-02-11T00:00:00",
          "2020-02-12T00:00:00",
          "2020-02-13T00:00:00",
          "2020-02-14T00:00:00",
          "2020-02-15T00:00:00",
          "2020-02-16T00:00:00",
          "2020-02-17T00:00:00",
          "2020-02-18T00:00:00",
          "2020-02-19T00:00:00",
          "2020-02-20T00:00:00",
          "2020-02-21T00:00:00",
          "2020-02-22T00:00:00",
          "2020-02-23T00:00:00",
          "2020-02-24T00:00:00",
          "2020-02-25T00:00:00",
          "2020-02-26T00:00:00",
          "2020-02-27T00:00:00",
          "2020-02-28T00:00:00",
          "2020-02-29T00:00:00",
          "2020-03-01T00:00:00",
          "2020-03-02T00:00:00",
          "2020-03-03T00:00:00",
          "2020-03-04T00:00:00",
          "2020-03-05T00:00:00",
          "2020-03-06T00:00:00",
          "2020-03-07T00:00:00",
          "2020-03-08T00:00:00",
          "2020-03-09T00:00:00",
          "2020-03-10T00:00:00",
          "2020-03-11T00:00:00",
          "2020-03-12T00:00:00",
          "2020-03-13T00:00:00",
          "2020-03-14T00:00:00",
          "2020-03-15T00:00:00",
          "2020-03-16T00:00:00",
          "2020-03-17T00:00:00",
          "2020-03-18T00:00:00",
          "2020-03-19T00:00:00",
          "2020-03-20T00:00:00",
          "2020-03-21T00:00:00",
          "2020-03-22T00:00:00",
          "2020-03-23T00:00:00",
          "2020-03-24T00:00:00",
          "2020-03-25T00:00:00",
          "2020-03-26T00:00:00",
          "2020-03-27T00:00:00",
          "2020-03-28T00:00:00",
          "2020-03-29T00:00:00",
          "2020-03-30T00:00:00",
          "2020-03-31T00:00:00",
          "2020-04-01T00:00:00",
          "2020-04-02T00:00:00",
          "2020-04-03T00:00:00",
          "2020-04-04T00:00:00",
          "2020-04-05T00:00:00",
          "2020-04-06T00:00:00",
          "2020-04-07T00:00:00",
          "2020-04-08T00:00:00",
          "2020-04-09T00:00:00",
          "2020-04-10T00:00:00",
          "2020-04-11T00:00:00",
          "2020-04-12T00:00:00",
          "2020-04-13T00:00:00",
          "2020-04-14T00:00:00",
          "2020-04-15T00:00:00",
          "2020-04-16T00:00:00",
          "2020-04-17T00:00:00",
          "2020-04-18T00:00:00",
          "2020-04-19T00:00:00",
          "2020-04-20T00:00:00",
          "2020-04-21T00:00:00",
          "2020-04-22T00:00:00",
          "2020-04-23T00:00:00",
          "2020-04-24T00:00:00",
          "2020-04-25T00:00:00",
          "2020-04-26T00:00:00",
          "2020-04-27T00:00:00",
          "2020-04-28T00:00:00",
          "2020-04-29T00:00:00",
          "2020-04-30T00:00:00",
          "2020-05-01T00:00:00",
          "2020-05-02T00:00:00",
          "2020-05-03T00:00:00",
          "2020-05-04T00:00:00",
          "2020-05-05T00:00:00",
          "2020-05-06T00:00:00",
          "2020-05-07T00:00:00",
          "2020-05-08T00:00:00",
          "2020-05-09T00:00:00",
          "2020-05-10T00:00:00",
          "2020-05-11T00:00:00",
          "2020-05-12T00:00:00",
          "2020-05-13T00:00:00",
          "2020-05-14T00:00:00",
          "2020-05-15T00:00:00",
          "2020-05-16T00:00:00",
          "2020-05-17T00:00:00",
          "2020-05-18T00:00:00",
          "2020-05-19T00:00:00",
          "2020-05-20T00:00:00",
          "2020-05-21T00:00:00",
          "2020-05-22T00:00:00",
          "2020-05-23T00:00:00",
          "2020-05-24T00:00:00",
          "2020-05-25T00:00:00",
          "2020-05-26T00:00:00",
          "2020-05-27T00:00:00",
          "2020-05-28T00:00:00",
          "2020-05-29T00:00:00",
          "2020-05-30T00:00:00",
          "2020-05-31T00:00:00",
          "2020-06-01T00:00:00",
          "2020-06-02T00:00:00",
          "2020-06-03T00:00:00",
          "2020-06-04T00:00:00",
          "2020-06-05T00:00:00",
          "2020-06-06T00:00:00",
          "2020-06-07T00:00:00",
          "2020-06-08T00:00:00",
          "2020-06-09T00:00:00",
          "2020-06-10T00:00:00",
          "2020-06-11T00:00:00",
          "2020-06-12T00:00:00",
          "2020-06-13T00:00:00",
          "2020-06-14T00:00:00",
          "2020-06-15T00:00:00",
          "2020-06-16T00:00:00",
          "2020-06-17T00:00:00",
          "2020-06-18T00:00:00",
          "2020-06-19T00:00:00",
          "2020-06-20T00:00:00",
          "2020-06-21T00:00:00",
          "2020-06-22T00:00:00",
          "2020-06-23T00:00:00",
          "2020-06-24T00:00:00",
          "2020-06-25T00:00:00",
          "2020-06-26T00:00:00",
          "2020-06-27T00:00:00",
          "2020-06-28T00:00:00",
          "2020-06-29T00:00:00",
          "2020-06-30T00:00:00",
          "2020-07-01T00:00:00",
          "2020-07-02T00:00:00",
          "2020-07-03T00:00:00",
          "2020-07-04T00:00:00",
          "2020-07-05T00:00:00",
          "2020-07-06T00:00:00",
          "2020-07-07T00:00:00",
          "2020-07-08T00:00:00",
          "2020-07-09T00:00:00",
          "2020-07-10T00:00:00",
          "2020-07-11T00:00:00",
          "2020-07-12T00:00:00",
          "2020-07-13T00:00:00",
          "2020-07-14T00:00:00",
          "2020-07-15T00:00:00",
          "2020-07-16T00:00:00",
          "2020-07-17T00:00:00",
          "2020-07-18T00:00:00",
          "2020-07-19T00:00:00",
          "2020-07-20T00:00:00",
          "2020-07-21T00:00:00",
          "2020-07-22T00:00:00",
          "2020-07-23T00:00:00",
          "2020-07-24T00:00:00",
          "2020-07-25T00:00:00",
          "2020-07-26T00:00:00",
          "2020-07-27T00:00:00",
          "2020-07-28T00:00:00",
          "2020-07-29T00:00:00",
          "2020-07-30T00:00:00",
          "2020-07-31T00:00:00",
          "2020-08-01T00:00:00",
          "2020-08-02T00:00:00",
          "2020-08-03T00:00:00",
          "2020-08-04T00:00:00",
          "2020-08-05T00:00:00",
          "2020-08-06T00:00:00",
          "2020-08-07T00:00:00",
          "2020-08-08T00:00:00",
          "2020-08-09T00:00:00",
          "2020-08-10T00:00:00",
          "2020-08-11T00:00:00",
          "2020-08-12T00:00:00",
          "2020-08-13T00:00:00",
          "2020-08-14T00:00:00",
          "2020-08-15T00:00:00",
          "2020-08-16T00:00:00",
          "2020-08-17T00:00:00",
          "2020-08-18T00:00:00",
          "2020-08-19T00:00:00",
          "2020-08-20T00:00:00",
          "2020-08-21T00:00:00",
          "2020-08-22T00:00:00",
          "2020-08-23T00:00:00",
          "2020-08-24T00:00:00",
          "2020-08-25T00:00:00",
          "2020-08-26T00:00:00",
          "2020-08-27T00:00:00",
          "2020-08-28T00:00:00",
          "2020-08-29T00:00:00",
          "2020-08-30T00:00:00",
          "2020-08-31T00:00:00",
          "2020-09-01T00:00:00",
          "2020-09-02T00:00:00",
          "2020-09-03T00:00:00",
          "2020-09-04T00:00:00",
          "2020-09-05T00:00:00",
          "2020-09-06T00:00:00",
          "2020-09-07T00:00:00",
          "2020-09-08T00:00:00",
          "2020-09-09T00:00:00",
          "2020-09-10T00:00:00",
          "2020-09-11T00:00:00",
          "2020-09-12T00:00:00",
          "2020-09-13T00:00:00",
          "2020-09-14T00:00:00",
          "2020-09-15T00:00:00",
          "2020-09-16T00:00:00",
          "2020-09-17T00:00:00",
          "2020-09-18T00:00:00",
          "2020-09-19T00:00:00",
          "2020-09-20T00:00:00",
          "2020-09-21T00:00:00",
          "2020-09-22T00:00:00",
          "2020-09-23T00:00:00",
          "2020-09-24T00:00:00",
          "2020-09-25T00:00:00",
          "2020-09-26T00:00:00",
          "2020-09-27T00:00:00",
          "2020-09-28T00:00:00",
          "2020-09-29T00:00:00",
          "2020-09-30T00:00:00",
          "2020-10-01T00:00:00",
          "2020-10-02T00:00:00",
          "2020-10-03T00:00:00",
          "2020-10-04T00:00:00",
          "2020-10-05T00:00:00",
          "2020-10-06T00:00:00",
          "2020-10-07T00:00:00",
          "2020-10-08T00:00:00",
          "2020-10-09T00:00:00",
          "2020-10-10T00:00:00",
          "2020-10-11T00:00:00",
          "2020-10-12T00:00:00",
          "2020-10-13T00:00:00",
          "2020-10-14T00:00:00",
          "2020-10-15T00:00:00",
          "2020-10-16T00:00:00",
          "2020-10-17T00:00:00",
          "2020-10-18T00:00:00",
          "2020-10-19T00:00:00",
          "2020-10-20T00:00:00",
          "2020-10-21T00:00:00",
          "2020-10-22T00:00:00",
          "2020-10-23T00:00:00",
          "2020-10-24T00:00:00",
          "2020-10-25T00:00:00",
          "2020-10-26T00:00:00",
          "2020-10-27T00:00:00",
          "2020-10-28T00:00:00",
          "2020-10-29T00:00:00",
          "2020-10-30T00:00:00",
          "2020-10-31T00:00:00",
          "2020-11-01T00:00:00",
          "2020-11-02T00:00:00",
          "2020-11-03T00:00:00",
          "2020-11-04T00:00:00",
          "2020-11-05T00:00:00",
          "2020-11-06T00:00:00",
          "2020-11-07T00:00:00",
          "2020-11-08T00:00:00",
          "2020-11-09T00:00:00",
          "2020-11-10T00:00:00",
          "2020-11-11T00:00:00",
          "2020-11-12T00:00:00",
          "2020-11-13T00:00:00",
          "2020-11-14T00:00:00",
          "2020-11-15T00:00:00",
          "2020-11-16T00:00:00",
          "2020-11-17T00:00:00",
          "2020-11-18T00:00:00",
          "2020-11-19T00:00:00",
          "2020-11-20T00:00:00",
          "2020-11-21T00:00:00",
          "2020-11-22T00:00:00",
          "2020-11-23T00:00:00",
          "2020-11-24T00:00:00",
          "2020-11-25T00:00:00",
          "2020-11-26T00:00:00",
          "2020-11-27T00:00:00",
          "2020-11-28T00:00:00",
          "2020-11-29T00:00:00",
          "2020-11-30T00:00:00",
          "2020-12-01T00:00:00",
          "2020-12-02T00:00:00",
          "2020-12-03T00:00:00",
          "2020-12-04T00:00:00",
          "2020-12-05T00:00:00",
          "2020-12-06T00:00:00",
          "2020-12-07T00:00:00",
          "2020-12-08T00:00:00",
          "2020-12-09T00:00:00",
          "2020-12-10T00:00:00",
          "2020-12-11T00:00:00",
          "2020-12-12T00:00:00",
          "2020-12-13T00:00:00",
          "2020-12-14T00:00:00",
          "2020-12-15T00:00:00",
          "2020-12-16T00:00:00",
          "2020-12-17T00:00:00",
          "2020-12-18T00:00:00",
          "2020-12-19T00:00:00",
          "2020-12-20T00:00:00",
          "2020-12-21T00:00:00",
          "2020-12-22T00:00:00",
          "2020-12-23T00:00:00",
          "2020-12-24T00:00:00",
          "2020-12-25T00:00:00",
          "2020-12-26T00:00:00",
          "2020-12-27T00:00:00",
          "2020-12-28T00:00:00",
          "2020-12-29T00:00:00",
          "2020-12-30T00:00:00",
          "2020-12-31T00:00:00",
          "2021-01-01T00:00:00",
          "2021-01-02T00:00:00",
          "2021-01-03T00:00:00",
          "2021-01-04T00:00:00",
          "2021-01-05T00:00:00",
          "2021-01-06T00:00:00",
          "2021-01-07T00:00:00",
          "2021-01-08T00:00:00",
          "2021-01-09T00:00:00",
          "2021-01-10T00:00:00",
          "2021-01-11T00:00:00",
          "2021-01-12T00:00:00",
          "2021-01-13T00:00:00",
          "2021-01-14T00:00:00",
          "2021-01-15T00:00:00",
          "2021-01-16T00:00:00",
          "2021-01-17T00:00:00",
          "2021-01-18T00:00:00"
         ],
         "y": [
          0,
          0,
          0,
          0,
          0,
          0,
          0,
          0,
          0,
          0,
          0,
          0,
          0,
          0,
          0,
          0,
          0,
          0,
          0,
          0,
          0,
          0,
          0,
          0,
          0,
          0,
          0,
          0,
          0,
          0,
          0,
          0,
          0,
          0,
          0,
          0,
          0,
          1,
          3,
          1,
          0,
          0,
          0,
          0,
          1,
          0,
          1,
          0,
          0,
          1,
          4,
          14,
          15,
          12,
          29,
          11,
          25,
          46,
          39,
          48,
          65,
          51,
          38,
          70,
          110,
          132,
          131,
          145,
          101,
          121,
          163,
          132,
          178,
          202,
          253,
          296,
          346,
          396,
          260,
          403,
          375,
          442,
          353,
          385,
          448,
          450,
          578,
          622,
          764,
          511,
          729,
          1043,
          1089,
          1239,
          970,
          835,
          852,
          1223,
          1047,
          1425,
          1515,
          1349,
          1383,
          1434,
          1120,
          1609,
          1982,
          1906,
          1938,
          1562,
          1305,
          1997,
          1862,
          2409,
          2437,
          2112,
          2075,
          2414,
          2713,
          2248,
          2973,
          2960,
          3329,
          2764,
          2485,
          3455,
          3463,
          3377,
          3227,
          2885,
          3152,
          2771,
          3891,
          3912,
          4442,
          4346,
          3593,
          3484,
          2999,
          4199,
          4883,
          4790,
          5222,
          3494,
          4147,
          3427,
          4599,
          4930,
          5662,
          5030,
          4717,
          5343,
          4577,
          6288,
          5437,
          6104,
          5441,
          4410,
          4050,
          3805,
          5432,
          5681,
          6741,
          6740,
          6914,
          4683,
          4902,
          6258,
          6995,
          7280,
          6891,
          6094,
          4482,
          4685,
          7051,
          6149,
          6406,
          7257,
          7615,
          5311,
          5172,
          6859,
          6019,
          8438,
          7573,
          6751,
          5480,
          4973,
          7208,
          5752,
          7730,
          8458,
          9556,
          4853,
          4767,
          6148,
          6139,
          6590,
          6717,
          6495,
          4376,
          5558,
          6686,
          5858,
          7371,
          5618,
          6345,
          4448,
          3571,
          5506,
          5792,
          6775,
          5928,
          6482,
          3948,
          3541,
          4916,
          5267,
          6026,
          5824,
          5974,
          4129,
          3719,
          6476,
          4921,
          5937,
          6196,
          6319,
          4614,
          3486,
          5351,
          4461,
          5043,
          5935,
          5674,
          4408,
          3335,
          4771,
          4444,
          3182,
          4841,
          5167,
          3542,
          2917,
          4683,
          4786,
          5408,
          5401,
          5573,
          3886,
          3400,
          4446,
          5053,
          5099,
          4775,
          4863,
          3712,
          28115,
          4828,
          4580,
          5300,
          5532,
          4308,
          3175,
          3542,
          4295,
          4056,
          5514,
          6751,
          5447,
          4119,
          3699,
          5788,
          6845,
          6612,
          6604,
          6025,
          4360,
          4166,
          5942,
          5595,
          5948,
          6000,
          6151,
          4430,
          3763,
          5250,
          5225,
          5567,
          5931,
          6810,
          5887,
          4960,
          5746,
          7646,
          5658,
          5558,
          5860,
          3269,
          2874,
          1757,
          3918,
          4472,
          6426,
          6719,
          9187,
          7483,
          10794,
          10335,
          8107,
          12081,
          10728,
          5668,
          6472,
          8819,
          11251,
          11030,
          12127,
          11625,
          7455,
          6399,
          11006,
          11974,
          11897,
          12253,
          12057,
          8608,
          5930,
          11228,
          10297,
          11799,
          12248,
          12129,
          6870,
          5370,
          12511,
          11653,
          12485,
          9679,
          4974,
          6217,
          5996,
          12099,
          12406,
          12159,
          11091,
          6359,
          5211,
          6464,
          11271,
          13345,
          13734,
          14362,
          16105,
          10003,
          7594,
          14395,
          15873,
          16468,
          21366,
          20523,
          11170,
          8074
         ]
        },
        {
         "line": {
          "color": "#b71c1c",
          "width": 2.5
         },
         "mode": "lines",
         "name": "Promedio de 7 días",
         "type": "scatter",
         "x": [
          "2020-01-22T00:00:00",
          "2020-01-23T00:00:00",
          "2020-01-24T00:00:00",
          "2020-01-25T00:00:00",
          "2020-01-26T00:00:00",
          "2020-01-27T00:00:00",
          "2020-01-28T00:00:00",
          "2020-01-29T00:00:00",
          "2020-01-30T00:00:00",
          "2020-01-31T00:00:00",
          "2020-02-01T00:00:00",
          "2020-02-02T00:00:00",
          "2020-02-03T00:00:00",
          "2020-02-04T00:00:00",
          "2020-02-05T00:00:00",
          "2020-02-06T00:00:00",
          "2020-02-07T00:00:00",
          "2020-02-08T00:00:00",
          "2020-02-09T00:00:00",
          "2020-02-10T00:00:00",
          "2020-02-11T00:00:00",
          "2020-02-12T00:00:00",
          "2020-02-13T00:00:00",
          "2020-02-14T00:00:00",
          "2020-02-15T00:00:00",
          "2020-02-16T00:00:00",
          "2020-02-17T00:00:00",
          "2020-02-18T00:00:00",
          "2020-02-19T00:00:00",
          "2020-02-20T00:00:00",
          "2020-02-21T00:00:00",
          "2020-02-22T00:00:00",
          "2020-02-23T00:00:00",
          "2020-02-24T00:00:00",
          "2020-02-25T00:00:00",
          "2020-02-26T00:00:00",
          "2020-02-27T00:00:00",
          "2020-02-28T00:00:00",
          "2020-02-29T00:00:00",
          "2020-03-01T00:00:00",
          "2020-03-02T00:00:00",
          "2020-03-03T00:00:00",
          "2020-03-04T00:00:00",
          "2020-03-05T00:00:00",
          "2020-03-06T00:00:00",
          "2020-03-07T00:00:00",
          "2020-03-08T00:00:00",
          "2020-03-09T00:00:00",
          "2020-03-10T00:00:00",
          "2020-03-11T00:00:00",
          "2020-03-12T00:00:00",
          "2020-03-13T00:00:00",
          "2020-03-14T00:00:00",
          "2020-03-15T00:00:00",
          "2020-03-16T00:00:00",
          "2020-03-17T00:00:00",
          "2020-03-18T00:00:00",
          "2020-03-19T00:00:00",
          "2020-03-20T00:00:00",
          "2020-03-21T00:00:00",
          "2020-03-22T00:00:00",
          "2020-03-23T00:00:00",
          "2020-03-24T00:00:00",
          "2020-03-25T00:00:00",
          "2020-03-26T00:00:00",
          "2020-03-27T00:00:00",
          "2020-03-28T00:00:00",
          "2020-03-29T00:00:00",
          "2020-03-30T00:00:00",
          "2020-03-31T00:00:00",
          "2020-04-01T00:00:00",
          "2020-04-02T00:00:00",
          "2020-04-03T00:00:00",
          "2020-04-04T00:00:00",
          "2020-04-05T00:00:00",
          "2020-04-06T00:00:00",
          "2020-04-07T00:00:00",
          "2020-04-08T00:00:00",
          "2020-04-09T00:00:00",
          "2020-04-10T00:00:00",
          "2020-04-11T00:00:00",
          "2020-04-12T00:00:00",
          "2020-04-13T00:00:00",
          "2020-04-14T00:00:00",
          "2020-04-15T00:00:00",
          "2020-04-16T00:00:00",
          "2020-04-17T00:00:00",
          "2020-04-18T00:00:00",
          "2020-04-19T00:00:00",
          "2020-04-20T00:00:00",
          "2020-04-21T00:00:00",
          "2020-04-22T00:00:00",
          "2020-04-23T00:00:00",
          "2020-04-24T00:00:00",
          "2020-04-25T00:00:00",
          "2020-04-26T00:00:00",
          "2020-04-27T00:00:00",
          "2020-04-28T00:00:00",
          "2020-04-29T00:00:00",
          "2020-04-30T00:00:00",
          "2020-05-01T00:00:00",
          "2020-05-02T00:00:00",
          "2020-05-03T00:00:00",
          "2020-05-04T00:00:00",
          "2020-05-05T00:00:00",
          "2020-05-06T00:00:00",
          "2020-05-07T00:00:00",
          "2020-05-08T00:00:00",
          "2020-05-09T00:00:00",
          "2020-05-10T00:00:00",
          "2020-05-11T00:00:00",
          "2020-05-12T00:00:00",
          "2020-05-13T00:00:00",
          "2020-05-14T00:00:00",
          "2020-05-15T00:00:00",
          "2020-05-16T00:00:00",
          "2020-05-17T00:00:00",
          "2020-05-18T00:00:00",
          "2020-05-19T00:00:00",
          "2020-05-20T00:00:00",
          "2020-05-21T00:00:00",
          "2020-05-22T00:00:00",
          "2020-05-23T00:00:00",
          "2020-05-24T00:00:00",
          "2020-05-25T00:00:00",
          "2020-05-26T00:00:00",
          "2020-05-27T00:00:00",
          "2020-05-28T00:00:00",
          "2020-05-29T00:00:00",
          "2020-05-30T00:00:00",
          "2020-05-31T00:00:00",
          "2020-06-01T00:00:00",
          "2020-06-02T00:00:00",
          "2020-06-03T00:00:00",
          "2020-06-04T00:00:00",
          "2020-06-05T00:00:00",
          "2020-06-06T00:00:00",
          "2020-06-07T00:00:00",
          "2020-06-08T00:00:00",
          "2020-06-09T00:00:00",
          "2020-06-10T00:00:00",
          "2020-06-11T00:00:00",
          "2020-06-12T00:00:00",
          "2020-06-13T00:00:00",
          "2020-06-14T00:00:00",
          "2020-06-15T00:00:00",
          "2020-06-16T00:00:00",
          "2020-06-17T00:00:00",
          "2020-06-18T00:00:00",
          "2020-06-19T00:00:00",
          "2020-06-20T00:00:00",
          "2020-06-21T00:00:00",
          "2020-06-22T00:00:00",
          "2020-06-23T00:00:00",
          "2020-06-24T00:00:00",
          "2020-06-25T00:00:00",
          "2020-06-26T00:00:00",
          "2020-06-27T00:00:00",
          "2020-06-28T00:00:00",
          "2020-06-29T00:00:00",
          "2020-06-30T00:00:00",
          "2020-07-01T00:00:00",
          "2020-07-02T00:00:00",
          "2020-07-03T00:00:00",
          "2020-07-04T00:00:00",
          "2020-07-05T00:00:00",
          "2020-07-06T00:00:00",
          "2020-07-07T00:00:00",
          "2020-07-08T00:00:00",
          "2020-07-09T00:00:00",
          "2020-07-10T00:00:00",
          "2020-07-11T00:00:00",
          "2020-07-12T00:00:00",
          "2020-07-13T00:00:00",
          "2020-07-14T00:00:00",
          "2020-07-15T00:00:00",
          "2020-07-16T00:00:00",
          "2020-07-17T00:00:00",
          "2020-07-18T00:00:00",
          "2020-07-19T00:00:00",
          "2020-07-20T00:00:00",
          "2020-07-21T00:00:00",
          "2020-07-22T00:00:00",
          "2020-07-23T00:00:00",
          "2020-07-24T00:00:00",
          "2020-07-25T00:00:00",
          "2020-07-26T00:00:00",
          "2020-07-27T00:00:00",
          "2020-07-28T00:00:00",
          "2020-07-29T00:00:00",
          "2020-07-30T00:00:00",
          "2020-07-31T00:00:00",
          "2020-08-01T00:00:00",
          "2020-08-02T00:00:00",
          "2020-08-03T00:00:00",
          "2020-08-04T00:00:00",
          "2020-08-05T00:00:00",
          "2020-08-06T00:00:00",
          "2020-08-07T00:00:00",
          "2020-08-08T00:00:00",
          "2020-08-09T00:00:00",
          "2020-08-10T00:00:00",
          "2020-08-11T00:00:00",
          "2020-08-12T00:00:00",
          "2020-08-13T00:00:00",
          "2020-08-14T00:00:00",
          "2020-08-15T00:00:00",
          "2020-08-16T00:00:00",
          "2020-08-17T00:00:00",
          "2020-08-18T00:00:00",
          "2020-08-19T00:00:00",
          "2020-08-20T00:00:00",
          "2020-08-21T00:00:00",
          "2020-08-22T00:00:00",
          "2020-08-23T00:00:00",
          "2020-08-24T00:00:00",
          "2020-08-25T00:00:00",
          "2020-08-26T00:00:00",
          "2020-08-27T00:00:00",
          "2020-08-28T00:00:00",
          "2020-08-29T00:00:00",
          "2020-08-30T00:00:00",
          "2020-08-31T00:00:00",
          "2020-09-01T00:00:00",
          "2020-09-02T00:00:00",
          "2020-09-03T00:00:00",
          "2020-09-04T00:00:00",
          "2020-09-05T00:00:00",
          "2020-09-06T00:00:00",
          "2020-09-07T00:00:00",
          "2020-09-08T00:00:00",
          "2020-09-09T00:00:00",
          "2020-09-10T00:00:00",
          "2020-09-11T00:00:00",
          "2020-09-12T00:00:00",
          "2020-09-13T00:00:00",
          "2020-09-14T00:00:00",
          "2020-09-15T00:00:00",
          "2020-09-16T00:00:00",
          "2020-09-17T00:00:00",
          "2020-09-18T00:00:00",
          "2020-09-19T00:00:00",
          "2020-09-20T00:00:00",
          "2020-09-21T00:00:00",
          "2020-09-22T00:00:00",
          "2020-09-23T00:00:00",
          "2020-09-24T00:00:00",
          "2020-09-25T00:00:00",
          "2020-09-26T00:00:00",
          "2020-09-27T00:00:00",
          "2020-09-28T00:00:00",
          "2020-09-29T00:00:00",
          "2020-09-30T00:00:00",
          "2020-10-01T00:00:00",
          "2020-10-02T00:00:00",
          "2020-10-03T00:00:00",
          "2020-10-04T00:00:00",
          "2020-10-05T00:00:00",
          "2020-10-06T00:00:00",
          "2020-10-07T00:00:00",
          "2020-10-08T00:00:00",
          "2020-10-09T00:00:00",
          "2020-10-10T00:00:00",
          "2020-10-11T00:00:00",
          "2020-10-12T00:00:00",
          "2020-10-13T00:00:00",
          "2020-10-14T00:00:00",
          "2020-10-15T00:00:00",
          "2020-10-16T00:00:00",
          "2020-10-17T00:00:00",
          "2020-10-18T00:00:00",
          "2020-10-19T00:00:00",
          "2020-10-20T00:00:00",
          "2020-10-21T00:00:00",
          "2020-10-22T00:00:00",
          "2020-10-23T00:00:00",
          "2020-10-24T00:00:00",
          "2020-10-25T00:00:00",
          "2020-10-26T00:00:00",
          "2020-10-27T00:00:00",
          "2020-10-28T00:00:00",
          "2020-10-29T00:00:00",
          "2020-10-30T00:00:00",
          "2020-10-31T00:00:00",
          "2020-11-01T00:00:00",
          "2020-11-02T00:00:00",
          "2020-11-03T00:00:00",
          "2020-11-04T00:00:00",
          "2020-11-05T00:00:00",
          "2020-11-06T00:00:00",
          "2020-11-07T00:00:00",
          "2020-11-08T00:00:00",
          "2020-11-09T00:00:00",
          "2020-11-10T00:00:00",
          "2020-11-11T00:00:00",
          "2020-11-12T00:00:00",
          "2020-11-13T00:00:00",
          "2020-11-14T00:00:00",
          "2020-11-15T00:00:00",
          "2020-11-16T00:00:00",
          "2020-11-17T00:00:00",
          "2020-11-18T00:00:00",
          "2020-11-19T00:00:00",
          "2020-11-20T00:00:00",
          "2020-11-21T00:00:00",
          "2020-11-22T00:00:00",
          "2020-11-23T00:00:00",
          "2020-11-24T00:00:00",
          "2020-11-25T00:00:00",
          "2020-11-26T00:00:00",
          "2020-11-27T00:00:00",
          "2020-11-28T00:00:00",
          "2020-11-29T00:00:00",
          "2020-11-30T00:00:00",
          "2020-12-01T00:00:00",
          "2020-12-02T00:00:00",
          "2020-12-03T00:00:00",
          "2020-12-04T00:00:00",
          "2020-12-05T00:00:00",
          "2020-12-06T00:00:00",
          "2020-12-07T00:00:00",
          "2020-12-08T00:00:00",
          "2020-12-09T00:00:00",
          "2020-12-10T00:00:00",
          "2020-12-11T00:00:00",
          "2020-12-12T00:00:00",
          "2020-12-13T00:00:00",
          "2020-12-14T00:00:00",
          "2020-12-15T00:00:00",
          "2020-12-16T00:00:00",
          "2020-12-17T00:00:00",
          "2020-12-18T00:00:00",
          "2020-12-19T00:00:00",
          "2020-12-20T00:00:00",
          "2020-12-21T00:00:00",
          "2020-12-22T00:00:00",
          "2020-12-23T00:00:00",
          "2020-12-24T00:00:00",
          "2020-12-25T00:00:00",
          "2020-12-26T00:00:00",
          "2020-12-27T00:00:00",
          "2020-12-28T00:00:00",
          "2020-12-29T00:00:00",
          "2020-12-30T00:00:00",
          "2020-12-31T00:00:00",
          "2021-01-01T00:00:00",
          "2021-01-02T00:00:00",
          "2021-01-03T00:00:00",
          "2021-01-04T00:00:00",
          "2021-01-05T00:00:00",
          "2021-01-06T00:00:00",
          "2021-01-07T00:00:00",
          "2021-01-08T00:00:00",
          "2021-01-09T00:00:00",
          "2021-01-10T00:00:00",
          "2021-01-11T00:00:00",
          "2021-01-12T00:00:00",
          "2021-01-13T00:00:00",
          "2021-01-14T00:00:00",
          "2021-01-15T00:00:00",
          "2021-01-16T00:00:00",
          "2021-01-17T00:00:00",
          "2021-01-18T00:00:00"
         ],
         "y": [
          0,
          0,
          0,
          0,
          0,
          0,
          0,
          0,
          0,
          0,
          0,
          0,
          0,
          0,
          0,
          0,
          0,
          0,
          0,
          0,
          0,
          0,
          0,
          0,
          0,
          0,
          0,
          0,
          0,
          0,
          0,
          0,
          0,
          0,
          0,
          0,
          0,
          0,
          1,
          1,
          1,
          1,
          1,
          1,
          1,
          0,
          0,
          0,
          0,
          0,
          1,
          3,
          5,
          7,
          11,
          12,
          16,
          22,
          25,
          30,
          38,
          41,
          45,
          51,
          60,
          73,
          85,
          97,
          104,
          116,
          129,
          132,
          139,
          149,
          164,
          192,
          224,
          258,
          276,
          308,
          333,
          360,
          368,
          373,
          381,
          408,
          433,
          468,
          514,
          537,
          586,
          671,
          762,
          857,
          906,
          917,
          965,
          1036,
          1036,
          1084,
          1124,
          1178,
          1256,
          1339,
          1325,
          1405,
          1485,
          1540,
          1625,
          1650,
          1632,
          1757,
          1793,
          1854,
          1930,
          1955,
          2028,
          2187,
          2289,
          2344,
          2425,
          2499,
          2673,
          2772,
          2782,
          2888,
          3061,
          3119,
          3157,
          3094,
          3149,
          3190,
          3252,
          3316,
          3469,
          3628,
          3730,
          3777,
          3810,
          3854,
          3992,
          4042,
          4167,
          4153,
          4248,
          4309,
          4366,
          4373,
          4497,
          4470,
          4645,
          4815,
          4980,
          5221,
          5293,
          5357,
          5415,
          5371,
          5187,
          5076,
          4954,
          4989,
          5080,
          5266,
          5623,
          5714,
          5870,
          5988,
          6176,
          6253,
          6275,
          6158,
          6129,
          6098,
          6211,
          6090,
          5965,
          6018,
          6235,
          6353,
          6423,
          6396,
          6377,
          6667,
          6712,
          6589,
          6613,
          6585,
          6635,
          6596,
          6495,
          6622,
          7022,
          6933,
          6903,
          6752,
          6807,
          6644,
          6396,
          5958,
          5890,
          6003,
          6080,
          6040,
          6152,
          5995,
          5973,
          5983,
          5700,
          5531,
          5522,
          5436,
          5481,
          5500,
          5429,
          5425,
          5340,
          5265,
          5158,
          5143,
          5071,
          5097,
          5122,
          5345,
          5296,
          5283,
          5336,
          5385,
          5455,
          5421,
          5261,
          5195,
          5067,
          5030,
          4938,
          4908,
          4887,
          4804,
          4801,
          4536,
          4379,
          4307,
          4183,
          4123,
          4111,
          4160,
          4478,
          4558,
          4616,
          4665,
          4734,
          4700,
          4738,
          4694,
          4605,
          4503,
          4478,
          3993,
          4047,
          3980,
          4008,
          4116,
          4037,
          3960,
          4466,
          4390,
          4315,
          4346,
          4520,
          4683,
          4818,
          4840,
          5053,
          5452,
          5609,
          5588,
          5670,
          5705,
          5771,
          5793,
          5615,
          5520,
          5434,
          5452,
          5462,
          5404,
          5305,
          5252,
          5198,
          5188,
          5282,
          5490,
          5661,
          5732,
          6078,
          6091,
          6038,
          5902,
          5528,
          5230,
          4660,
          4128,
          3958,
          4082,
          4205,
          5050,
          5709,
          7000,
          7917,
          8436,
          9244,
          9816,
          9314,
          9169,
          8887,
          9018,
          9436,
          9442,
          9570,
          9826,
          9815,
          10128,
          10231,
          10355,
          10373,
          10434,
          10599,
          10532,
          10564,
          10324,
          10310,
          10310,
          10320,
          10072,
          9992,
          10175,
          10369,
          10467,
          10100,
          9077,
          8984,
          9074,
          9015,
          9122,
          9076,
          9277,
          9475,
          9332,
          9398,
          9280,
          9414,
          9639,
          10107,
          11499,
          12183,
          12345,
          12791,
          13152,
          13543,
          14543,
          15175,
          15341,
          15410
         ]
        }
       ],
       "layout": {
        "height": 600,
        "hovermode": "x unified",
        "template": {
         "data": {
          "bar": [
           {
            "error_x": {
             "color": "#2a3f5f"
            },
            "error_y": {
             "color": "#2a3f5f"
            },
            "marker": {
             "line": {
              "color": "white",
              "width": 0.5
             }
            },
            "type": "bar"
           }
          ],
          "barpolar": [
           {
            "marker": {
             "line": {
              "color": "white",
              "width": 0.5
             }
            },
            "type": "barpolar"
           }
          ],
          "carpet": [
           {
            "aaxis": {
             "endlinecolor": "#2a3f5f",
             "gridcolor": "#C8D4E3",
             "linecolor": "#C8D4E3",
             "minorgridcolor": "#C8D4E3",
             "startlinecolor": "#2a3f5f"
            },
            "baxis": {
             "endlinecolor": "#2a3f5f",
             "gridcolor": "#C8D4E3",
             "linecolor": "#C8D4E3",
             "minorgridcolor": "#C8D4E3",
             "startlinecolor": "#2a3f5f"
            },
            "type": "carpet"
           }
          ],
          "choropleth": [
           {
            "colorbar": {
             "outlinewidth": 0,
             "ticks": ""
            },
            "type": "choropleth"
           }
          ],
          "contour": [
           {
            "colorbar": {
             "outlinewidth": 0,
             "ticks": ""
            },
            "colorscale": [
             [
              0,
              "#0d0887"
             ],
             [
              0.1111111111111111,
              "#46039f"
             ],
             [
              0.2222222222222222,
              "#7201a8"
             ],
             [
              0.3333333333333333,
              "#9c179e"
             ],
             [
              0.4444444444444444,
              "#bd3786"
             ],
             [
              0.5555555555555556,
              "#d8576b"
             ],
             [
              0.6666666666666666,
              "#ed7953"
             ],
             [
              0.7777777777777778,
              "#fb9f3a"
             ],
             [
              0.8888888888888888,
              "#fdca26"
             ],
             [
              1,
              "#f0f921"
             ]
            ],
            "type": "contour"
           }
          ],
          "contourcarpet": [
           {
            "colorbar": {
             "outlinewidth": 0,
             "ticks": ""
            },
            "type": "contourcarpet"
           }
          ],
          "heatmap": [
           {
            "colorbar": {
             "outlinewidth": 0,
             "ticks": ""
            },
            "colorscale": [
             [
              0,
              "#0d0887"
             ],
             [
              0.1111111111111111,
              "#46039f"
             ],
             [
              0.2222222222222222,
              "#7201a8"
             ],
             [
              0.3333333333333333,
              "#9c179e"
             ],
             [
              0.4444444444444444,
              "#bd3786"
             ],
             [
              0.5555555555555556,
              "#d8576b"
             ],
             [
              0.6666666666666666,
              "#ed7953"
             ],
             [
              0.7777777777777778,
              "#fb9f3a"
             ],
             [
              0.8888888888888888,
              "#fdca26"
             ],
             [
              1,
              "#f0f921"
             ]
            ],
            "type": "heatmap"
           }
          ],
          "heatmapgl": [
           {
            "colorbar": {
             "outlinewidth": 0,
             "ticks": ""
            },
            "colorscale": [
             [
              0,
              "#0d0887"
             ],
             [
              0.1111111111111111,
              "#46039f"
             ],
             [
              0.2222222222222222,
              "#7201a8"
             ],
             [
              0.3333333333333333,
              "#9c179e"
             ],
             [
              0.4444444444444444,
              "#bd3786"
             ],
             [
              0.5555555555555556,
              "#d8576b"
             ],
             [
              0.6666666666666666,
              "#ed7953"
             ],
             [
              0.7777777777777778,
              "#fb9f3a"
             ],
             [
              0.8888888888888888,
              "#fdca26"
             ],
             [
              1,
              "#f0f921"
             ]
            ],
            "type": "heatmapgl"
           }
          ],
          "histogram": [
           {
            "marker": {
             "colorbar": {
              "outlinewidth": 0,
              "ticks": ""
             }
            },
            "type": "histogram"
           }
          ],
          "histogram2d": [
           {
            "colorbar": {
             "outlinewidth": 0,
             "ticks": ""
            },
            "colorscale": [
             [
              0,
              "#0d0887"
             ],
             [
              0.1111111111111111,
              "#46039f"
             ],
             [
              0.2222222222222222,
              "#7201a8"
             ],
             [
              0.3333333333333333,
              "#9c179e"
             ],
             [
              0.4444444444444444,
              "#bd3786"
             ],
             [
              0.5555555555555556,
              "#d8576b"
             ],
             [
              0.6666666666666666,
              "#ed7953"
             ],
             [
              0.7777777777777778,
              "#fb9f3a"
             ],
             [
              0.8888888888888888,
              "#fdca26"
             ],
             [
              1,
              "#f0f921"
             ]
            ],
            "type": "histogram2d"
           }
          ],
          "histogram2dcontour": [
           {
            "colorbar": {
             "outlinewidth": 0,
             "ticks": ""
            },
            "colorscale": [
             [
              0,
              "#0d0887"
             ],
             [
              0.1111111111111111,
              "#46039f"
             ],
             [
              0.2222222222222222,
              "#7201a8"
             ],
             [
              0.3333333333333333,
              "#9c179e"
             ],
             [
              0.4444444444444444,
              "#bd3786"
             ],
             [
              0.5555555555555556,
              "#d8576b"
             ],
             [
              0.6666666666666666,
              "#ed7953"
             ],
             [
              0.7777777777777778,
              "#fb9f3a"
             ],
             [
              0.8888888888888888,
              "#fdca26"
             ],
             [
              1,
              "#f0f921"
             ]
            ],
            "type": "histogram2dcontour"
           }
          ],
          "mesh3d": [
           {
            "colorbar": {
             "outlinewidth": 0,
             "ticks": ""
            },
            "type": "mesh3d"
           }
          ],
          "parcoords": [
           {
            "line": {
             "colorbar": {
              "outlinewidth": 0,
              "ticks": ""
             }
            },
            "type": "parcoords"
           }
          ],
          "pie": [
           {
            "automargin": true,
            "type": "pie"
           }
          ],
          "scatter": [
           {
            "marker": {
             "colorbar": {
              "outlinewidth": 0,
              "ticks": ""
             }
            },
            "type": "scatter"
           }
          ],
          "scatter3d": [
           {
            "line": {
             "colorbar": {
              "outlinewidth": 0,
              "ticks": ""
             }
            },
            "marker": {
             "colorbar": {
              "outlinewidth": 0,
              "ticks": ""
             }
            },
            "type": "scatter3d"
           }
          ],
          "scattercarpet": [
           {
            "marker": {
             "colorbar": {
              "outlinewidth": 0,
              "ticks": ""
             }
            },
            "type": "scattercarpet"
           }
          ],
          "scattergeo": [
           {
            "marker": {
             "colorbar": {
              "outlinewidth": 0,
              "ticks": ""
             }
            },
            "type": "scattergeo"
           }
          ],
          "scattergl": [
           {
            "marker": {
             "colorbar": {
              "outlinewidth": 0,
              "ticks": ""
             }
            },
            "type": "scattergl"
           }
          ],
          "scattermapbox": [
           {
            "marker": {
             "colorbar": {
              "outlinewidth": 0,
              "ticks": ""
             }
            },
            "type": "scattermapbox"
           }
          ],
          "scatterpolar": [
           {
            "marker": {
             "colorbar": {
              "outlinewidth": 0,
              "ticks": ""
             }
            },
            "type": "scatterpolar"
           }
          ],
          "scatterpolargl": [
           {
            "marker": {
             "colorbar": {
              "outlinewidth": 0,
              "ticks": ""
             }
            },
            "type": "scatterpolargl"
           }
          ],
          "scatterternary": [
           {
            "marker": {
             "colorbar": {
              "outlinewidth": 0,
              "ticks": ""
             }
            },
            "type": "scatterternary"
           }
          ],
          "surface": [
           {
            "colorbar": {
             "outlinewidth": 0,
             "ticks": ""
            },
            "colorscale": [
             [
              0,
              "#0d0887"
             ],
             [
              0.1111111111111111,
              "#46039f"
             ],
             [
              0.2222222222222222,
              "#7201a8"
             ],
             [
              0.3333333333333333,
              "#9c179e"
             ],
             [
              0.4444444444444444,
              "#bd3786"
             ],
             [
              0.5555555555555556,
              "#d8576b"
             ],
             [
              0.6666666666666666,
              "#ed7953"
             ],
             [
              0.7777777777777778,
              "#fb9f3a"
             ],
             [
              0.8888888888888888,
              "#fdca26"
             ],
             [
              1,
              "#f0f921"
             ]
            ],
            "type": "surface"
           }
          ],
          "table": [
           {
            "cells": {
             "fill": {
              "color": "#EBF0F8"
             },
             "line": {
              "color": "white"
             }
            },
            "header": {
             "fill": {
              "color": "#C8D4E3"
             },
             "line": {
              "color": "white"
             }
            },
            "type": "table"
           }
          ]
         },
         "layout": {
          "annotationdefaults": {
           "arrowcolor": "#2a3f5f",
           "arrowhead": 0,
           "arrowwidth": 1
          },
          "coloraxis": {
           "colorbar": {
            "outlinewidth": 0,
            "ticks": ""
           }
          },
          "colorscale": {
           "diverging": [
            [
             0,
             "#8e0152"
            ],
            [
             0.1,
             "#c51b7d"
            ],
            [
             0.2,
             "#de77ae"
            ],
            [
             0.3,
             "#f1b6da"
            ],
            [
             0.4,
             "#fde0ef"
            ],
            [
             0.5,
             "#f7f7f7"
            ],
            [
             0.6,
             "#e6f5d0"
            ],
            [
             0.7,
             "#b8e186"
            ],
            [
             0.8,
             "#7fbc41"
            ],
            [
             0.9,
             "#4d9221"
            ],
            [
             1,
             "#276419"
            ]
           ],
           "sequential": [
            [
             0,
             "#0d0887"
            ],
            [
             0.1111111111111111,
             "#46039f"
            ],
            [
             0.2222222222222222,
             "#7201a8"
            ],
            [
             0.3333333333333333,
             "#9c179e"
            ],
            [
             0.4444444444444444,
             "#bd3786"
            ],
            [
             0.5555555555555556,
             "#d8576b"
            ],
            [
             0.6666666666666666,
             "#ed7953"
            ],
            [
             0.7777777777777778,
             "#fb9f3a"
            ],
            [
             0.8888888888888888,
             "#fdca26"
            ],
            [
             1,
             "#f0f921"
            ]
           ],
           "sequentialminus": [
            [
             0,
             "#0d0887"
            ],
            [
             0.1111111111111111,
             "#46039f"
            ],
            [
             0.2222222222222222,
             "#7201a8"
            ],
            [
             0.3333333333333333,
             "#9c179e"
            ],
            [
             0.4444444444444444,
             "#bd3786"
            ],
            [
             0.5555555555555556,
             "#d8576b"
            ],
            [
             0.6666666666666666,
             "#ed7953"
            ],
            [
             0.7777777777777778,
             "#fb9f3a"
            ],
            [
             0.8888888888888888,
             "#fdca26"
            ],
            [
             1,
             "#f0f921"
            ]
           ]
          },
          "colorway": [
           "#636efa",
           "#EF553B",
           "#00cc96",
           "#ab63fa",
           "#FFA15A",
           "#19d3f3",
           "#FF6692",
           "#B6E880",
           "#FF97FF",
           "#FECB52"
          ],
          "font": {
           "color": "#2a3f5f"
          },
          "geo": {
           "bgcolor": "white",
           "lakecolor": "white",
           "landcolor": "white",
           "showlakes": true,
           "showland": true,
           "subunitcolor": "#C8D4E3"
          },
          "hoverlabel": {
           "align": "left"
          },
          "hovermode": "closest",
          "mapbox": {
           "style": "light"
          },
          "paper_bgcolor": "white",
          "plot_bgcolor": "white",
          "polar": {
           "angularaxis": {
            "gridcolor": "#EBF0F8",
            "linecolor": "#EBF0F8",
            "ticks": ""
           },
           "bgcolor": "white",
           "radialaxis": {
            "gridcolor": "#EBF0F8",
            "linecolor": "#EBF0F8",
            "ticks": ""
           }
          },
          "scene": {
           "xaxis": {
            "backgroundcolor": "white",
            "gridcolor": "#DFE8F3",
            "gridwidth": 2,
            "linecolor": "#EBF0F8",
            "showbackground": true,
            "ticks": "",
            "zerolinecolor": "#EBF0F8"
           },
           "yaxis": {
            "backgroundcolor": "white",
            "gridcolor": "#DFE8F3",
            "gridwidth": 2,
            "linecolor": "#EBF0F8",
            "showbackground": true,
            "ticks": "",
            "zerolinecolor": "#EBF0F8"
           },
           "zaxis": {
            "backgroundcolor": "white",
            "gridcolor": "#DFE8F3",
            "gridwidth": 2,
            "linecolor": "#EBF0F8",
            "showbackground": true,
            "ticks": "",
            "zerolinecolor": "#EBF0F8"
           }
          },
          "shapedefaults": {
           "line": {
            "color": "#2a3f5f"
           }
          },
          "ternary": {
           "aaxis": {
            "gridcolor": "#DFE8F3",
            "linecolor": "#A2B1C6",
            "ticks": ""
           },
           "baxis": {
            "gridcolor": "#DFE8F3",
            "linecolor": "#A2B1C6",
            "ticks": ""
           },
           "bgcolor": "white",
           "caxis": {
            "gridcolor": "#DFE8F3",
            "linecolor": "#A2B1C6",
            "ticks": ""
           }
          },
          "title": {
           "x": 0.05
          },
          "xaxis": {
           "automargin": true,
           "gridcolor": "#EBF0F8",
           "linecolor": "#EBF0F8",
           "ticks": "",
           "title": {
            "standoff": 15
           },
           "zerolinecolor": "#EBF0F8",
           "zerolinewidth": 2
          },
          "yaxis": {
           "automargin": true,
           "gridcolor": "#EBF0F8",
           "linecolor": "#EBF0F8",
           "ticks": "",
           "title": {
            "standoff": 15
           },
           "zerolinecolor": "#EBF0F8",
           "zerolinewidth": 2
          }
         }
        },
        "title": {
         "text": "Nuevos casos de COVID-19 reportados diariamente en México"
        },
        "width": 1000,
        "xaxis": {
         "spikethickness": 0.4,
         "title": {
          "text": "Fecha de registro"
         }
        },
        "yaxis": {
         "title": {
          "text": "Nuevos casos confirmados"
         }
        }
       }
      }
     },
     "metadata": {}
    },
    {
     "output_type": "display_data",
     "data": {
      "application/vnd.plotly.v1+json": {
       "config": {
        "plotlyServerURL": "https://plot.ly"
       },
       "data": [
        {
         "marker": {
          "color": "#546e7a",
          "opacity": 0.75
         },
         "name": "Nuevas defunciones",
         "type": "bar",
         "x": [
          "2020-01-22T00:00:00",
          "2020-01-23T00:00:00",
          "2020-01-24T00:00:00",
          "2020-01-25T00:00:00",
          "2020-01-26T00:00:00",
          "2020-01-27T00:00:00",
          "2020-01-28T00:00:00",
          "2020-01-29T00:00:00",
          "2020-01-30T00:00:00",
          "2020-01-31T00:00:00",
          "2020-02-01T00:00:00",
          "2020-02-02T00:00:00",
          "2020-02-03T00:00:00",
          "2020-02-04T00:00:00",
          "2020-02-05T00:00:00",
          "2020-02-06T00:00:00",
          "2020-02-07T00:00:00",
          "2020-02-08T00:00:00",
          "2020-02-09T00:00:00",
          "2020-02-10T00:00:00",
          "2020-02-11T00:00:00",
          "2020-02-12T00:00:00",
          "2020-02-13T00:00:00",
          "2020-02-14T00:00:00",
          "2020-02-15T00:00:00",
          "2020-02-16T00:00:00",
          "2020-02-17T00:00:00",
          "2020-02-18T00:00:00",
          "2020-02-19T00:00:00",
          "2020-02-20T00:00:00",
          "2020-02-21T00:00:00",
          "2020-02-22T00:00:00",
          "2020-02-23T00:00:00",
          "2020-02-24T00:00:00",
          "2020-02-25T00:00:00",
          "2020-02-26T00:00:00",
          "2020-02-27T00:00:00",
          "2020-02-28T00:00:00",
          "2020-02-29T00:00:00",
          "2020-03-01T00:00:00",
          "2020-03-02T00:00:00",
          "2020-03-03T00:00:00",
          "2020-03-04T00:00:00",
          "2020-03-05T00:00:00",
          "2020-03-06T00:00:00",
          "2020-03-07T00:00:00",
          "2020-03-08T00:00:00",
          "2020-03-09T00:00:00",
          "2020-03-10T00:00:00",
          "2020-03-11T00:00:00",
          "2020-03-12T00:00:00",
          "2020-03-13T00:00:00",
          "2020-03-14T00:00:00",
          "2020-03-15T00:00:00",
          "2020-03-16T00:00:00",
          "2020-03-17T00:00:00",
          "2020-03-18T00:00:00",
          "2020-03-19T00:00:00",
          "2020-03-20T00:00:00",
          "2020-03-21T00:00:00",
          "2020-03-22T00:00:00",
          "2020-03-23T00:00:00",
          "2020-03-24T00:00:00",
          "2020-03-25T00:00:00",
          "2020-03-26T00:00:00",
          "2020-03-27T00:00:00",
          "2020-03-28T00:00:00",
          "2020-03-29T00:00:00",
          "2020-03-30T00:00:00",
          "2020-03-31T00:00:00",
          "2020-04-01T00:00:00",
          "2020-04-02T00:00:00",
          "2020-04-03T00:00:00",
          "2020-04-04T00:00:00",
          "2020-04-05T00:00:00",
          "2020-04-06T00:00:00",
          "2020-04-07T00:00:00",
          "2020-04-08T00:00:00",
          "2020-04-09T00:00:00",
          "2020-04-10T00:00:00",
          "2020-04-11T00:00:00",
          "2020-04-12T00:00:00",
          "2020-04-13T00:00:00",
          "2020-04-14T00:00:00",
          "2020-04-15T00:00:00",
          "2020-04-16T00:00:00",
          "2020-04-17T00:00:00",
          "2020-04-18T00:00:00",
          "2020-04-19T00:00:00",
          "2020-04-20T00:00:00",
          "2020-04-21T00:00:00",
          "2020-04-22T00:00:00",
          "2020-04-23T00:00:00",
          "2020-04-24T00:00:00",
          "2020-04-25T00:00:00",
          "2020-04-26T00:00:00",
          "2020-04-27T00:00:00",
          "2020-04-28T00:00:00",
          "2020-04-29T00:00:00",
          "2020-04-30T00:00:00",
          "2020-05-01T00:00:00",
          "2020-05-02T00:00:00",
          "2020-05-03T00:00:00",
          "2020-05-04T00:00:00",
          "2020-05-05T00:00:00",
          "2020-05-06T00:00:00",
          "2020-05-07T00:00:00",
          "2020-05-08T00:00:00",
          "2020-05-09T00:00:00",
          "2020-05-10T00:00:00",
          "2020-05-11T00:00:00",
          "2020-05-12T00:00:00",
          "2020-05-13T00:00:00",
          "2020-05-14T00:00:00",
          "2020-05-15T00:00:00",
          "2020-05-16T00:00:00",
          "2020-05-17T00:00:00",
          "2020-05-18T00:00:00",
          "2020-05-19T00:00:00",
          "2020-05-20T00:00:00",
          "2020-05-21T00:00:00",
          "2020-05-22T00:00:00",
          "2020-05-23T00:00:00",
          "2020-05-24T00:00:00",
          "2020-05-25T00:00:00",
          "2020-05-26T00:00:00",
          "2020-05-27T00:00:00",
          "2020-05-28T00:00:00",
          "2020-05-29T00:00:00",
          "2020-05-30T00:00:00",
          "2020-05-31T00:00:00",
          "2020-06-01T00:00:00",
          "2020-06-02T00:00:00",
          "2020-06-03T00:00:00",
          "2020-06-04T00:00:00",
          "2020-06-05T00:00:00",
          "2020-06-06T00:00:00",
          "2020-06-07T00:00:00",
          "2020-06-08T00:00:00",
          "2020-06-09T00:00:00",
          "2020-06-10T00:00:00",
          "2020-06-11T00:00:00",
          "2020-06-12T00:00:00",
          "2020-06-13T00:00:00",
          "2020-06-14T00:00:00",
          "2020-06-15T00:00:00",
          "2020-06-16T00:00:00",
          "2020-06-17T00:00:00",
          "2020-06-18T00:00:00",
          "2020-06-19T00:00:00",
          "2020-06-20T00:00:00",
          "2020-06-21T00:00:00",
          "2020-06-22T00:00:00",
          "2020-06-23T00:00:00",
          "2020-06-24T00:00:00",
          "2020-06-25T00:00:00",
          "2020-06-26T00:00:00",
          "2020-06-27T00:00:00",
          "2020-06-28T00:00:00",
          "2020-06-29T00:00:00",
          "2020-06-30T00:00:00",
          "2020-07-01T00:00:00",
          "2020-07-02T00:00:00",
          "2020-07-03T00:00:00",
          "2020-07-04T00:00:00",
          "2020-07-05T00:00:00",
          "2020-07-06T00:00:00",
          "2020-07-07T00:00:00",
          "2020-07-08T00:00:00",
          "2020-07-09T00:00:00",
          "2020-07-10T00:00:00",
          "2020-07-11T00:00:00",
          "2020-07-12T00:00:00",
          "2020-07-13T00:00:00",
          "2020-07-14T00:00:00",
          "2020-07-15T00:00:00",
          "2020-07-16T00:00:00",
          "2020-07-17T00:00:00",
          "2020-07-18T00:00:00",
          "2020-07-19T00:00:00",
          "2020-07-20T00:00:00",
          "2020-07-21T00:00:00",
          "2020-07-22T00:00:00",
          "2020-07-23T00:00:00",
          "2020-07-24T00:00:00",
          "2020-07-25T00:00:00",
          "2020-07-26T00:00:00",
          "2020-07-27T00:00:00",
          "2020-07-28T00:00:00",
          "2020-07-29T00:00:00",
          "2020-07-30T00:00:00",
          "2020-07-31T00:00:00",
          "2020-08-01T00:00:00",
          "2020-08-02T00:00:00",
          "2020-08-03T00:00:00",
          "2020-08-04T00:00:00",
          "2020-08-05T00:00:00",
          "2020-08-06T00:00:00",
          "2020-08-07T00:00:00",
          "2020-08-08T00:00:00",
          "2020-08-09T00:00:00",
          "2020-08-10T00:00:00",
          "2020-08-11T00:00:00",
          "2020-08-12T00:00:00",
          "2020-08-13T00:00:00",
          "2020-08-14T00:00:00",
          "2020-08-15T00:00:00",
          "2020-08-16T00:00:00",
          "2020-08-17T00:00:00",
          "2020-08-18T00:00:00",
          "2020-08-19T00:00:00",
          "2020-08-20T00:00:00",
          "2020-08-21T00:00:00",
          "2020-08-22T00:00:00",
          "2020-08-23T00:00:00",
          "2020-08-24T00:00:00",
          "2020-08-25T00:00:00",
          "2020-08-26T00:00:00",
          "2020-08-27T00:00:00",
          "2020-08-28T00:00:00",
          "2020-08-29T00:00:00",
          "2020-08-30T00:00:00",
          "2020-08-31T00:00:00",
          "2020-09-01T00:00:00",
          "2020-09-02T00:00:00",
          "2020-09-03T00:00:00",
          "2020-09-04T00:00:00",
          "2020-09-05T00:00:00",
          "2020-09-06T00:00:00",
          "2020-09-07T00:00:00",
          "2020-09-08T00:00:00",
          "2020-09-09T00:00:00",
          "2020-09-10T00:00:00",
          "2020-09-11T00:00:00",
          "2020-09-12T00:00:00",
          "2020-09-13T00:00:00",
          "2020-09-14T00:00:00",
          "2020-09-15T00:00:00",
          "2020-09-16T00:00:00",
          "2020-09-17T00:00:00",
          "2020-09-18T00:00:00",
          "2020-09-19T00:00:00",
          "2020-09-20T00:00:00",
          "2020-09-21T00:00:00",
          "2020-09-22T00:00:00",
          "2020-09-23T00:00:00",
          "2020-09-24T00:00:00",
          "2020-09-25T00:00:00",
          "2020-09-26T00:00:00",
          "2020-09-27T00:00:00",
          "2020-09-28T00:00:00",
          "2020-09-29T00:00:00",
          "2020-09-30T00:00:00",
          "2020-10-01T00:00:00",
          "2020-10-02T00:00:00",
          "2020-10-03T00:00:00",
          "2020-10-04T00:00:00",
          "2020-10-05T00:00:00",
          "2020-10-06T00:00:00",
          "2020-10-07T00:00:00",
          "2020-10-08T00:00:00",
          "2020-10-09T00:00:00",
          "2020-10-10T00:00:00",
          "2020-10-11T00:00:00",
          "2020-10-12T00:00:00",
          "2020-10-13T00:00:00",
          "2020-10-14T00:00:00",
          "2020-10-15T00:00:00",
          "2020-10-16T00:00:00",
          "2020-10-17T00:00:00",
          "2020-10-18T00:00:00",
          "2020-10-19T00:00:00",
          "2020-10-20T00:00:00",
          "2020-10-21T00:00:00",
          "2020-10-22T00:00:00",
          "2020-10-23T00:00:00",
          "2020-10-24T00:00:00",
          "2020-10-25T00:00:00",
          "2020-10-26T00:00:00",
          "2020-10-27T00:00:00",
          "2020-10-28T00:00:00",
          "2020-10-29T00:00:00",
          "2020-10-30T00:00:00",
          "2020-10-31T00:00:00",
          "2020-11-01T00:00:00",
          "2020-11-02T00:00:00",
          "2020-11-03T00:00:00",
          "2020-11-04T00:00:00",
          "2020-11-05T00:00:00",
          "2020-11-06T00:00:00",
          "2020-11-07T00:00:00",
          "2020-11-08T00:00:00",
          "2020-11-09T00:00:00",
          "2020-11-10T00:00:00",
          "2020-11-11T00:00:00",
          "2020-11-12T00:00:00",
          "2020-11-13T00:00:00",
          "2020-11-14T00:00:00",
          "2020-11-15T00:00:00",
          "2020-11-16T00:00:00",
          "2020-11-17T00:00:00",
          "2020-11-18T00:00:00",
          "2020-11-19T00:00:00",
          "2020-11-20T00:00:00",
          "2020-11-21T00:00:00",
          "2020-11-22T00:00:00",
          "2020-11-23T00:00:00",
          "2020-11-24T00:00:00",
          "2020-11-25T00:00:00",
          "2020-11-26T00:00:00",
          "2020-11-27T00:00:00",
          "2020-11-28T00:00:00",
          "2020-11-29T00:00:00",
          "2020-11-30T00:00:00",
          "2020-12-01T00:00:00",
          "2020-12-02T00:00:00",
          "2020-12-03T00:00:00",
          "2020-12-04T00:00:00",
          "2020-12-05T00:00:00",
          "2020-12-06T00:00:00",
          "2020-12-07T00:00:00",
          "2020-12-08T00:00:00",
          "2020-12-09T00:00:00",
          "2020-12-10T00:00:00",
          "2020-12-11T00:00:00",
          "2020-12-12T00:00:00",
          "2020-12-13T00:00:00",
          "2020-12-14T00:00:00",
          "2020-12-15T00:00:00",
          "2020-12-16T00:00:00",
          "2020-12-17T00:00:00",
          "2020-12-18T00:00:00",
          "2020-12-19T00:00:00",
          "2020-12-20T00:00:00",
          "2020-12-21T00:00:00",
          "2020-12-22T00:00:00",
          "2020-12-23T00:00:00",
          "2020-12-24T00:00:00",
          "2020-12-25T00:00:00",
          "2020-12-26T00:00:00",
          "2020-12-27T00:00:00",
          "2020-12-28T00:00:00",
          "2020-12-29T00:00:00",
          "2020-12-30T00:00:00",
          "2020-12-31T00:00:00",
          "2021-01-01T00:00:00",
          "2021-01-02T00:00:00",
          "2021-01-03T00:00:00",
          "2021-01-04T00:00:00",
          "2021-01-05T00:00:00",
          "2021-01-06T00:00:00",
          "2021-01-07T00:00:00",
          "2021-01-08T00:00:00",
          "2021-01-09T00:00:00",
          "2021-01-10T00:00:00",
          "2021-01-11T00:00:00",
          "2021-01-12T00:00:00",
          "2021-01-13T00:00:00",
          "2021-01-14T00:00:00",
          "2021-01-15T00:00:00",
          "2021-01-16T00:00:00",
          "2021-01-17T00:00:00",
          "2021-01-18T00:00:00"
         ],
         "y": [
          0,
          0,
          0,
          0,
          0,
          0,
          0,
          0,
          0,
          0,
          0,
          0,
          0,
          0,
          0,
          0,
          0,
          0,
          0,
          0,
          0,
          0,
          0,
          0,
          0,
          0,
          0,
          0,
          0,
          0,
          0,
          0,
          0,
          0,
          0,
          0,
          0,
          0,
          0,
          0,
          0,
          0,
          0,
          0,
          0,
          0,
          0,
          0,
          0,
          0,
          0,
          0,
          0,
          0,
          0,
          0,
          0,
          1,
          1,
          0,
          1,
          1,
          1,
          1,
          2,
          4,
          4,
          4,
          8,
          1,
          8,
          13,
          10,
          19,
          15,
          31,
          16,
          33,
          20,
          39,
          40,
          23,
          36,
          74,
          43,
          37,
          60,
          104,
          36,
          26,
          145,
          113,
          99,
          152,
          84,
          46,
          83,
          135,
          163,
          127,
          113,
          89,
          93,
          117,
          236,
          197,
          257,
          199,
          193,
          112,
          108,
          353,
          294,
          257,
          290,
          278,
          132,
          155,
          334,
          424,
          420,
          479,
          190,
          215,
          239,
          501,
          463,
          447,
          371,
          364,
          151,
          237,
          470,
          1092,
          816,
          625,
          341,
          188,
          354,
          596,
          708,
          587,
          504,
          424,
          269,
          439,
          730,
          770,
          667,
          647,
          387,
          1044,
          759,
          793,
          947,
          736,
          719,
          602,
          267,
          473,
          648,
          741,
          679,
          654,
          523,
          273,
          480,
          895,
          782,
          730,
          665,
          539,
          276,
          485,
          836,
          579,
          668,
          736,
          578,
          296,
          301,
          915,
          790,
          718,
          737,
          729,
          306,
          342,
          854,
          485,
          639,
          688,
          784,
          274,
          266,
          857,
          829,
          819,
          794,
          695,
          292,
          705,
          926,
          737,
          627,
          615,
          635,
          214,
          266,
          751,
          707,
          625,
          504,
          644,
          226,
          320,
          650,
          626,
          518,
          552,
          673,
          339,
          256,
          827,
          575,
          513,
          522,
          475,
          232,
          223,
          703,
          565,
          600,
          534,
          421,
          217,
          228,
          629,
          300,
          201,
          624,
          455,
          235,
          204,
          651,
          601,
          490,
          405,
          399,
          187,
          173,
          560,
          483,
          432,
          414,
          388,
          208,
          2789,
          471,
          378,
          370,
          401,
          145,
          139,
          164,
          475,
          478,
          387,
          419,
          355,
          108,
          171,
          555,
          522,
          0,
          897,
          431,
          181,
          247,
          643,
          495,
          464,
          516,
          464,
          142,
          205,
          493,
          635,
          544,
          551,
          485,
          219,
          198,
          617,
          588,
          626,
          568,
          635,
          283,
          319,
          165,
          502,
          576,
          719,
          550,
          303,
          250,
          813,
          858,
          645,
          631,
          586,
          196,
          285,
          825,
          800,
          608,
          690,
          593,
          261,
          357,
          800,
          781,
          671,
          693,
          685,
          249,
          345,
          801,
          670,
          718,
          762,
          627,
          326,
          396,
          897,
          816,
          861,
          665,
          189,
          400,
          429,
          990,
          1052,
          910,
          700,
          344,
          362,
          544,
          1065,
          1165,
          1044,
          1038,
          1135,
          502,
          662,
          1314,
          1235,
          999,
          1106,
          1219,
          463,
          544
         ]
        },
        {
         "line": {
          "color": "black",
          "width": 2.5
         },
         "mode": "lines",
         "name": "Promedio de 7 días",
         "type": "scatter",
         "x": [
          "2020-01-22T00:00:00",
          "2020-01-23T00:00:00",
          "2020-01-24T00:00:00",
          "2020-01-25T00:00:00",
          "2020-01-26T00:00:00",
          "2020-01-27T00:00:00",
          "2020-01-28T00:00:00",
          "2020-01-29T00:00:00",
          "2020-01-30T00:00:00",
          "2020-01-31T00:00:00",
          "2020-02-01T00:00:00",
          "2020-02-02T00:00:00",
          "2020-02-03T00:00:00",
          "2020-02-04T00:00:00",
          "2020-02-05T00:00:00",
          "2020-02-06T00:00:00",
          "2020-02-07T00:00:00",
          "2020-02-08T00:00:00",
          "2020-02-09T00:00:00",
          "2020-02-10T00:00:00",
          "2020-02-11T00:00:00",
          "2020-02-12T00:00:00",
          "2020-02-13T00:00:00",
          "2020-02-14T00:00:00",
          "2020-02-15T00:00:00",
          "2020-02-16T00:00:00",
          "2020-02-17T00:00:00",
          "2020-02-18T00:00:00",
          "2020-02-19T00:00:00",
          "2020-02-20T00:00:00",
          "2020-02-21T00:00:00",
          "2020-02-22T00:00:00",
          "2020-02-23T00:00:00",
          "2020-02-24T00:00:00",
          "2020-02-25T00:00:00",
          "2020-02-26T00:00:00",
          "2020-02-27T00:00:00",
          "2020-02-28T00:00:00",
          "2020-02-29T00:00:00",
          "2020-03-01T00:00:00",
          "2020-03-02T00:00:00",
          "2020-03-03T00:00:00",
          "2020-03-04T00:00:00",
          "2020-03-05T00:00:00",
          "2020-03-06T00:00:00",
          "2020-03-07T00:00:00",
          "2020-03-08T00:00:00",
          "2020-03-09T00:00:00",
          "2020-03-10T00:00:00",
          "2020-03-11T00:00:00",
          "2020-03-12T00:00:00",
          "2020-03-13T00:00:00",
          "2020-03-14T00:00:00",
          "2020-03-15T00:00:00",
          "2020-03-16T00:00:00",
          "2020-03-17T00:00:00",
          "2020-03-18T00:00:00",
          "2020-03-19T00:00:00",
          "2020-03-20T00:00:00",
          "2020-03-21T00:00:00",
          "2020-03-22T00:00:00",
          "2020-03-23T00:00:00",
          "2020-03-24T00:00:00",
          "2020-03-25T00:00:00",
          "2020-03-26T00:00:00",
          "2020-03-27T00:00:00",
          "2020-03-28T00:00:00",
          "2020-03-29T00:00:00",
          "2020-03-30T00:00:00",
          "2020-03-31T00:00:00",
          "2020-04-01T00:00:00",
          "2020-04-02T00:00:00",
          "2020-04-03T00:00:00",
          "2020-04-04T00:00:00",
          "2020-04-05T00:00:00",
          "2020-04-06T00:00:00",
          "2020-04-07T00:00:00",
          "2020-04-08T00:00:00",
          "2020-04-09T00:00:00",
          "2020-04-10T00:00:00",
          "2020-04-11T00:00:00",
          "2020-04-12T00:00:00",
          "2020-04-13T00:00:00",
          "2020-04-14T00:00:00",
          "2020-04-15T00:00:00",
          "2020-04-16T00:00:00",
          "2020-04-17T00:00:00",
          "2020-04-18T00:00:00",
          "2020-04-19T00:00:00",
          "2020-04-20T00:00:00",
          "2020-04-21T00:00:00",
          "2020-04-22T00:00:00",
          "2020-04-23T00:00:00",
          "2020-04-24T00:00:00",
          "2020-04-25T00:00:00",
          "2020-04-26T00:00:00",
          "2020-04-27T00:00:00",
          "2020-04-28T00:00:00",
          "2020-04-29T00:00:00",
          "2020-04-30T00:00:00",
          "2020-05-01T00:00:00",
          "2020-05-02T00:00:00",
          "2020-05-03T00:00:00",
          "2020-05-04T00:00:00",
          "2020-05-05T00:00:00",
          "2020-05-06T00:00:00",
          "2020-05-07T00:00:00",
          "2020-05-08T00:00:00",
          "2020-05-09T00:00:00",
          "2020-05-10T00:00:00",
          "2020-05-11T00:00:00",
          "2020-05-12T00:00:00",
          "2020-05-13T00:00:00",
          "2020-05-14T00:00:00",
          "2020-05-15T00:00:00",
          "2020-05-16T00:00:00",
          "2020-05-17T00:00:00",
          "2020-05-18T00:00:00",
          "2020-05-19T00:00:00",
          "2020-05-20T00:00:00",
          "2020-05-21T00:00:00",
          "2020-05-22T00:00:00",
          "2020-05-23T00:00:00",
          "2020-05-24T00:00:00",
          "2020-05-25T00:00:00",
          "2020-05-26T00:00:00",
          "2020-05-27T00:00:00",
          "2020-05-28T00:00:00",
          "2020-05-29T00:00:00",
          "2020-05-30T00:00:00",
          "2020-05-31T00:00:00",
          "2020-06-01T00:00:00",
          "2020-06-02T00:00:00",
          "2020-06-03T00:00:00",
          "2020-06-04T00:00:00",
          "2020-06-05T00:00:00",
          "2020-06-06T00:00:00",
          "2020-06-07T00:00:00",
          "2020-06-08T00:00:00",
          "2020-06-09T00:00:00",
          "2020-06-10T00:00:00",
          "2020-06-11T00:00:00",
          "2020-06-12T00:00:00",
          "2020-06-13T00:00:00",
          "2020-06-14T00:00:00",
          "2020-06-15T00:00:00",
          "2020-06-16T00:00:00",
          "2020-06-17T00:00:00",
          "2020-06-18T00:00:00",
          "2020-06-19T00:00:00",
          "2020-06-20T00:00:00",
          "2020-06-21T00:00:00",
          "2020-06-22T00:00:00",
          "2020-06-23T00:00:00",
          "2020-06-24T00:00:00",
          "2020-06-25T00:00:00",
          "2020-06-26T00:00:00",
          "2020-06-27T00:00:00",
          "2020-06-28T00:00:00",
          "2020-06-29T00:00:00",
          "2020-06-30T00:00:00",
          "2020-07-01T00:00:00",
          "2020-07-02T00:00:00",
          "2020-07-03T00:00:00",
          "2020-07-04T00:00:00",
          "2020-07-05T00:00:00",
          "2020-07-06T00:00:00",
          "2020-07-07T00:00:00",
          "2020-07-08T00:00:00",
          "2020-07-09T00:00:00",
          "2020-07-10T00:00:00",
          "2020-07-11T00:00:00",
          "2020-07-12T00:00:00",
          "2020-07-13T00:00:00",
          "2020-07-14T00:00:00",
          "2020-07-15T00:00:00",
          "2020-07-16T00:00:00",
          "2020-07-17T00:00:00",
          "2020-07-18T00:00:00",
          "2020-07-19T00:00:00",
          "2020-07-20T00:00:00",
          "2020-07-21T00:00:00",
          "2020-07-22T00:00:00",
          "2020-07-23T00:00:00",
          "2020-07-24T00:00:00",
          "2020-07-25T00:00:00",
          "2020-07-26T00:00:00",
          "2020-07-27T00:00:00",
          "2020-07-28T00:00:00",
          "2020-07-29T00:00:00",
          "2020-07-30T00:00:00",
          "2020-07-31T00:00:00",
          "2020-08-01T00:00:00",
          "2020-08-02T00:00:00",
          "2020-08-03T00:00:00",
          "2020-08-04T00:00:00",
          "2020-08-05T00:00:00",
          "2020-08-06T00:00:00",
          "2020-08-07T00:00:00",
          "2020-08-08T00:00:00",
          "2020-08-09T00:00:00",
          "2020-08-10T00:00:00",
          "2020-08-11T00:00:00",
          "2020-08-12T00:00:00",
          "2020-08-13T00:00:00",
          "2020-08-14T00:00:00",
          "2020-08-15T00:00:00",
          "2020-08-16T00:00:00",
          "2020-08-17T00:00:00",
          "2020-08-18T00:00:00",
          "2020-08-19T00:00:00",
          "2020-08-20T00:00:00",
          "2020-08-21T00:00:00",
          "2020-08-22T00:00:00",
          "2020-08-23T00:00:00",
          "2020-08-24T00:00:00",
          "2020-08-25T00:00:00",
          "2020-08-26T00:00:00",
          "2020-08-27T00:00:00",
          "2020-08-28T00:00:00",
          "2020-08-29T00:00:00",
          "2020-08-30T00:00:00",
          "2020-08-31T00:00:00",
          "2020-09-01T00:00:00",
          "2020-09-02T00:00:00",
          "2020-09-03T00:00:00",
          "2020-09-04T00:00:00",
          "2020-09-05T00:00:00",
          "2020-09-06T00:00:00",
          "2020-09-07T00:00:00",
          "2020-09-08T00:00:00",
          "2020-09-09T00:00:00",
          "2020-09-10T00:00:00",
          "2020-09-11T00:00:00",
          "2020-09-12T00:00:00",
          "2020-09-13T00:00:00",
          "2020-09-14T00:00:00",
          "2020-09-15T00:00:00",
          "2020-09-16T00:00:00",
          "2020-09-17T00:00:00",
          "2020-09-18T00:00:00",
          "2020-09-19T00:00:00",
          "2020-09-20T00:00:00",
          "2020-09-21T00:00:00",
          "2020-09-22T00:00:00",
          "2020-09-23T00:00:00",
          "2020-09-24T00:00:00",
          "2020-09-25T00:00:00",
          "2020-09-26T00:00:00",
          "2020-09-27T00:00:00",
          "2020-09-28T00:00:00",
          "2020-09-29T00:00:00",
          "2020-09-30T00:00:00",
          "2020-10-01T00:00:00",
          "2020-10-02T00:00:00",
          "2020-10-03T00:00:00",
          "2020-10-04T00:00:00",
          "2020-10-05T00:00:00",
          "2020-10-06T00:00:00",
          "2020-10-07T00:00:00",
          "2020-10-08T00:00:00",
          "2020-10-09T00:00:00",
          "2020-10-10T00:00:00",
          "2020-10-11T00:00:00",
          "2020-10-12T00:00:00",
          "2020-10-13T00:00:00",
          "2020-10-14T00:00:00",
          "2020-10-15T00:00:00",
          "2020-10-16T00:00:00",
          "2020-10-17T00:00:00",
          "2020-10-18T00:00:00",
          "2020-10-19T00:00:00",
          "2020-10-20T00:00:00",
          "2020-10-21T00:00:00",
          "2020-10-22T00:00:00",
          "2020-10-23T00:00:00",
          "2020-10-24T00:00:00",
          "2020-10-25T00:00:00",
          "2020-10-26T00:00:00",
          "2020-10-27T00:00:00",
          "2020-10-28T00:00:00",
          "2020-10-29T00:00:00",
          "2020-10-30T00:00:00",
          "2020-10-31T00:00:00",
          "2020-11-01T00:00:00",
          "2020-11-02T00:00:00",
          "2020-11-03T00:00:00",
          "2020-11-04T00:00:00",
          "2020-11-05T00:00:00",
          "2020-11-06T00:00:00",
          "2020-11-07T00:00:00",
          "2020-11-08T00:00:00",
          "2020-11-09T00:00:00",
          "2020-11-10T00:00:00",
          "2020-11-11T00:00:00",
          "2020-11-12T00:00:00",
          "2020-11-13T00:00:00",
          "2020-11-14T00:00:00",
          "2020-11-15T00:00:00",
          "2020-11-16T00:00:00",
          "2020-11-17T00:00:00",
          "2020-11-18T00:00:00",
          "2020-11-19T00:00:00",
          "2020-11-20T00:00:00",
          "2020-11-21T00:00:00",
          "2020-11-22T00:00:00",
          "2020-11-23T00:00:00",
          "2020-11-24T00:00:00",
          "2020-11-25T00:00:00",
          "2020-11-26T00:00:00",
          "2020-11-27T00:00:00",
          "2020-11-28T00:00:00",
          "2020-11-29T00:00:00",
          "2020-11-30T00:00:00",
          "2020-12-01T00:00:00",
          "2020-12-02T00:00:00",
          "2020-12-03T00:00:00",
          "2020-12-04T00:00:00",
          "2020-12-05T00:00:00",
          "2020-12-06T00:00:00",
          "2020-12-07T00:00:00",
          "2020-12-08T00:00:00",
          "2020-12-09T00:00:00",
          "2020-12-10T00:00:00",
          "2020-12-11T00:00:00",
          "2020-12-12T00:00:00",
          "2020-12-13T00:00:00",
          "2020-12-14T00:00:00",
          "2020-12-15T00:00:00",
          "2020-12-16T00:00:00",
          "2020-12-17T00:00:00",
          "2020-12-18T00:00:00",
          "2020-12-19T00:00:00",
          "2020-12-20T00:00:00",
          "2020-12-21T00:00:00",
          "2020-12-22T00:00:00",
          "2020-12-23T00:00:00",
          "2020-12-24T00:00:00",
          "2020-12-25T00:00:00",
          "2020-12-26T00:00:00",
          "2020-12-27T00:00:00",
          "2020-12-28T00:00:00",
          "2020-12-29T00:00:00",
          "2020-12-30T00:00:00",
          "2020-12-31T00:00:00",
          "2021-01-01T00:00:00",
          "2021-01-02T00:00:00",
          "2021-01-03T00:00:00",
          "2021-01-04T00:00:00",
          "2021-01-05T00:00:00",
          "2021-01-06T00:00:00",
          "2021-01-07T00:00:00",
          "2021-01-08T00:00:00",
          "2021-01-09T00:00:00",
          "2021-01-10T00:00:00",
          "2021-01-11T00:00:00",
          "2021-01-12T00:00:00",
          "2021-01-13T00:00:00",
          "2021-01-14T00:00:00",
          "2021-01-15T00:00:00",
          "2021-01-16T00:00:00",
          "2021-01-17T00:00:00",
          "2021-01-18T00:00:00"
         ],
         "y": [
          0,
          0,
          0,
          0,
          0,
          0,
          0,
          0,
          0,
          0,
          0,
          0,
          0,
          0,
          0,
          0,
          0,
          0,
          0,
          0,
          0,
          0,
          0,
          0,
          0,
          0,
          0,
          0,
          0,
          0,
          0,
          0,
          0,
          0,
          0,
          0,
          0,
          0,
          0,
          0,
          0,
          0,
          0,
          0,
          0,
          0,
          0,
          0,
          0,
          0,
          0,
          0,
          0,
          0,
          0,
          0,
          0,
          0,
          0,
          0,
          0,
          1,
          1,
          1,
          1,
          1,
          2,
          2,
          3,
          3,
          4,
          6,
          7,
          9,
          11,
          14,
          16,
          20,
          21,
          25,
          28,
          29,
          30,
          38,
          39,
          42,
          45,
          54,
          56,
          54,
          64,
          74,
          83,
          96,
          94,
          95,
          103,
          102,
          109,
          113,
          107,
          108,
          115,
          120,
          134,
          139,
          157,
          170,
          185,
          187,
          186,
          203,
          217,
          217,
          230,
          242,
          245,
          251,
          249,
          267,
          290,
          317,
          305,
          317,
          329,
          353,
          358,
          362,
          347,
          371,
          362,
          362,
          358,
          447,
          500,
          536,
          533,
          538,
          555,
          573,
          518,
          486,
          468,
          480,
          492,
          504,
          523,
          532,
          543,
          564,
          558,
          669,
          715,
          724,
          749,
          759,
          769,
          800,
          689,
          648,
          627,
          598,
          590,
          581,
          569,
          570,
          571,
          606,
          612,
          620,
          621,
          623,
          624,
          625,
          616,
          587,
          578,
          588,
          594,
          597,
          571,
          582,
          612,
          619,
          619,
          641,
          642,
          648,
          639,
          596,
          585,
          578,
          585,
          581,
          570,
          570,
          620,
          645,
          660,
          648,
          650,
          713,
          723,
          710,
          682,
          657,
          648,
          637,
          574,
          549,
          545,
          545,
          529,
          530,
          532,
          540,
          525,
          514,
          498,
          505,
          509,
          525,
          516,
          542,
          534,
          534,
          529,
          501,
          486,
          481,
          463,
          462,
          474,
          476,
          468,
          466,
          467,
          456,
          418,
          361,
          374,
          379,
          382,
          378,
          381,
          424,
          466,
          434,
          426,
          420,
          415,
          402,
          385,
          377,
          378,
          377,
          380,
          355,
          342,
          327,
          318,
          317,
          282,
          272,
          295,
          296,
          310,
          313,
          315,
          345,
          341,
          342,
          353,
          360,
          304,
          373,
          383,
          394,
          405,
          417,
          413,
          480,
          425,
          430,
          424,
          418,
          397,
          417,
          428,
          433,
          436,
          447,
          446,
          464,
          457,
          469,
          472,
          493,
          502,
          519,
          455,
          443,
          435,
          457,
          445,
          448,
          438,
          530,
          581,
          591,
          579,
          584,
          568,
          573,
          575,
          567,
          562,
          570,
          571,
          580,
          591,
          587,
          584,
          593,
          594,
          607,
          605,
          603,
          604,
          588,
          594,
          604,
          596,
          607,
          614,
          628,
          649,
          669,
          655,
          593,
          603,
          608,
          621,
          655,
          662,
          667,
          689,
          684,
          700,
          711,
          727,
          746,
          795,
          908,
          928,
          944,
          980,
          990,
          984,
          993,
          1005,
          1000,
          983
         ]
        }
       ],
       "layout": {
        "height": 600,
        "hovermode": "x unified",
        "template": {
         "data": {
          "bar": [
           {
            "error_x": {
             "color": "#2a3f5f"
            },
            "error_y": {
             "color": "#2a3f5f"
            },
            "marker": {
             "line": {
              "color": "white",
              "width": 0.5
             }
            },
            "type": "bar"
           }
          ],
          "barpolar": [
           {
            "marker": {
             "line": {
              "color": "white",
              "width": 0.5
             }
            },
            "type": "barpolar"
           }
          ],
          "carpet": [
           {
            "aaxis": {
             "endlinecolor": "#2a3f5f",
             "gridcolor": "#C8D4E3",
             "linecolor": "#C8D4E3",
             "minorgridcolor": "#C8D4E3",
             "startlinecolor": "#2a3f5f"
            },
            "baxis": {
             "endlinecolor": "#2a3f5f",
             "gridcolor": "#C8D4E3",
             "linecolor": "#C8D4E3",
             "minorgridcolor": "#C8D4E3",
             "startlinecolor": "#2a3f5f"
            },
            "type": "carpet"
           }
          ],
          "choropleth": [
           {
            "colorbar": {
             "outlinewidth": 0,
             "ticks": ""
            },
            "type": "choropleth"
           }
          ],
          "contour": [
           {
            "colorbar": {
             "outlinewidth": 0,
             "ticks": ""
            },
            "colorscale": [
             [
              0,
              "#0d0887"
             ],
             [
              0.1111111111111111,
              "#46039f"
             ],
             [
              0.2222222222222222,
              "#7201a8"
             ],
             [
              0.3333333333333333,
              "#9c179e"
             ],
             [
              0.4444444444444444,
              "#bd3786"
             ],
             [
              0.5555555555555556,
              "#d8576b"
             ],
             [
              0.6666666666666666,
              "#ed7953"
             ],
             [
              0.7777777777777778,
              "#fb9f3a"
             ],
             [
              0.8888888888888888,
              "#fdca26"
             ],
             [
              1,
              "#f0f921"
             ]
            ],
            "type": "contour"
           }
          ],
          "contourcarpet": [
           {
            "colorbar": {
             "outlinewidth": 0,
             "ticks": ""
            },
            "type": "contourcarpet"
           }
          ],
          "heatmap": [
           {
            "colorbar": {
             "outlinewidth": 0,
             "ticks": ""
            },
            "colorscale": [
             [
              0,
              "#0d0887"
             ],
             [
              0.1111111111111111,
              "#46039f"
             ],
             [
              0.2222222222222222,
              "#7201a8"
             ],
             [
              0.3333333333333333,
              "#9c179e"
             ],
             [
              0.4444444444444444,
              "#bd3786"
             ],
             [
              0.5555555555555556,
              "#d8576b"
             ],
             [
              0.6666666666666666,
              "#ed7953"
             ],
             [
              0.7777777777777778,
              "#fb9f3a"
             ],
             [
              0.8888888888888888,
              "#fdca26"
             ],
             [
              1,
              "#f0f921"
             ]
            ],
            "type": "heatmap"
           }
          ],
          "heatmapgl": [
           {
            "colorbar": {
             "outlinewidth": 0,
             "ticks": ""
            },
            "colorscale": [
             [
              0,
              "#0d0887"
             ],
             [
              0.1111111111111111,
              "#46039f"
             ],
             [
              0.2222222222222222,
              "#7201a8"
             ],
             [
              0.3333333333333333,
              "#9c179e"
             ],
             [
              0.4444444444444444,
              "#bd3786"
             ],
             [
              0.5555555555555556,
              "#d8576b"
             ],
             [
              0.6666666666666666,
              "#ed7953"
             ],
             [
              0.7777777777777778,
              "#fb9f3a"
             ],
             [
              0.8888888888888888,
              "#fdca26"
             ],
             [
              1,
              "#f0f921"
             ]
            ],
            "type": "heatmapgl"
           }
          ],
          "histogram": [
           {
            "marker": {
             "colorbar": {
              "outlinewidth": 0,
              "ticks": ""
             }
            },
            "type": "histogram"
           }
          ],
          "histogram2d": [
           {
            "colorbar": {
             "outlinewidth": 0,
             "ticks": ""
            },
            "colorscale": [
             [
              0,
              "#0d0887"
             ],
             [
              0.1111111111111111,
              "#46039f"
             ],
             [
              0.2222222222222222,
              "#7201a8"
             ],
             [
              0.3333333333333333,
              "#9c179e"
             ],
             [
              0.4444444444444444,
              "#bd3786"
             ],
             [
              0.5555555555555556,
              "#d8576b"
             ],
             [
              0.6666666666666666,
              "#ed7953"
             ],
             [
              0.7777777777777778,
              "#fb9f3a"
             ],
             [
              0.8888888888888888,
              "#fdca26"
             ],
             [
              1,
              "#f0f921"
             ]
            ],
            "type": "histogram2d"
           }
          ],
          "histogram2dcontour": [
           {
            "colorbar": {
             "outlinewidth": 0,
             "ticks": ""
            },
            "colorscale": [
             [
              0,
              "#0d0887"
             ],
             [
              0.1111111111111111,
              "#46039f"
             ],
             [
              0.2222222222222222,
              "#7201a8"
             ],
             [
              0.3333333333333333,
              "#9c179e"
             ],
             [
              0.4444444444444444,
              "#bd3786"
             ],
             [
              0.5555555555555556,
              "#d8576b"
             ],
             [
              0.6666666666666666,
              "#ed7953"
             ],
             [
              0.7777777777777778,
              "#fb9f3a"
             ],
             [
              0.8888888888888888,
              "#fdca26"
             ],
             [
              1,
              "#f0f921"
             ]
            ],
            "type": "histogram2dcontour"
           }
          ],
          "mesh3d": [
           {
            "colorbar": {
             "outlinewidth": 0,
             "ticks": ""
            },
            "type": "mesh3d"
           }
          ],
          "parcoords": [
           {
            "line": {
             "colorbar": {
              "outlinewidth": 0,
              "ticks": ""
             }
            },
            "type": "parcoords"
           }
          ],
          "pie": [
           {
            "automargin": true,
            "type": "pie"
           }
          ],
          "scatter": [
           {
            "marker": {
             "colorbar": {
              "outlinewidth": 0,
              "ticks": ""
             }
            },
            "type": "scatter"
           }
          ],
          "scatter3d": [
           {
            "line": {
             "colorbar": {
              "outlinewidth": 0,
              "ticks": ""
             }
            },
            "marker": {
             "colorbar": {
              "outlinewidth": 0,
              "ticks": ""
             }
            },
            "type": "scatter3d"
           }
          ],
          "scattercarpet": [
           {
            "marker": {
             "colorbar": {
              "outlinewidth": 0,
              "ticks": ""
             }
            },
            "type": "scattercarpet"
           }
          ],
          "scattergeo": [
           {
            "marker": {
             "colorbar": {
              "outlinewidth": 0,
              "ticks": ""
             }
            },
            "type": "scattergeo"
           }
          ],
          "scattergl": [
           {
            "marker": {
             "colorbar": {
              "outlinewidth": 0,
              "ticks": ""
             }
            },
            "type": "scattergl"
           }
          ],
          "scattermapbox": [
           {
            "marker": {
             "colorbar": {
              "outlinewidth": 0,
              "ticks": ""
             }
            },
            "type": "scattermapbox"
           }
          ],
          "scatterpolar": [
           {
            "marker": {
             "colorbar": {
              "outlinewidth": 0,
              "ticks": ""
             }
            },
            "type": "scatterpolar"
           }
          ],
          "scatterpolargl": [
           {
            "marker": {
             "colorbar": {
              "outlinewidth": 0,
              "ticks": ""
             }
            },
            "type": "scatterpolargl"
           }
          ],
          "scatterternary": [
           {
            "marker": {
             "colorbar": {
              "outlinewidth": 0,
              "ticks": ""
             }
            },
            "type": "scatterternary"
           }
          ],
          "surface": [
           {
            "colorbar": {
             "outlinewidth": 0,
             "ticks": ""
            },
            "colorscale": [
             [
              0,
              "#0d0887"
             ],
             [
              0.1111111111111111,
              "#46039f"
             ],
             [
              0.2222222222222222,
              "#7201a8"
             ],
             [
              0.3333333333333333,
              "#9c179e"
             ],
             [
              0.4444444444444444,
              "#bd3786"
             ],
             [
              0.5555555555555556,
              "#d8576b"
             ],
             [
              0.6666666666666666,
              "#ed7953"
             ],
             [
              0.7777777777777778,
              "#fb9f3a"
             ],
             [
              0.8888888888888888,
              "#fdca26"
             ],
             [
              1,
              "#f0f921"
             ]
            ],
            "type": "surface"
           }
          ],
          "table": [
           {
            "cells": {
             "fill": {
              "color": "#EBF0F8"
             },
             "line": {
              "color": "white"
             }
            },
            "header": {
             "fill": {
              "color": "#C8D4E3"
             },
             "line": {
              "color": "white"
             }
            },
            "type": "table"
           }
          ]
         },
         "layout": {
          "annotationdefaults": {
           "arrowcolor": "#2a3f5f",
           "arrowhead": 0,
           "arrowwidth": 1
          },
          "coloraxis": {
           "colorbar": {
            "outlinewidth": 0,
            "ticks": ""
           }
          },
          "colorscale": {
           "diverging": [
            [
             0,
             "#8e0152"
            ],
            [
             0.1,
             "#c51b7d"
            ],
            [
             0.2,
             "#de77ae"
            ],
            [
             0.3,
             "#f1b6da"
            ],
            [
             0.4,
             "#fde0ef"
            ],
            [
             0.5,
             "#f7f7f7"
            ],
            [
             0.6,
             "#e6f5d0"
            ],
            [
             0.7,
             "#b8e186"
            ],
            [
             0.8,
             "#7fbc41"
            ],
            [
             0.9,
             "#4d9221"
            ],
            [
             1,
             "#276419"
            ]
           ],
           "sequential": [
            [
             0,
             "#0d0887"
            ],
            [
             0.1111111111111111,
             "#46039f"
            ],
            [
             0.2222222222222222,
             "#7201a8"
            ],
            [
             0.3333333333333333,
             "#9c179e"
            ],
            [
             0.4444444444444444,
             "#bd3786"
            ],
            [
             0.5555555555555556,
             "#d8576b"
            ],
            [
             0.6666666666666666,
             "#ed7953"
            ],
            [
             0.7777777777777778,
             "#fb9f3a"
            ],
            [
             0.8888888888888888,
             "#fdca26"
            ],
            [
             1,
             "#f0f921"
            ]
           ],
           "sequentialminus": [
            [
             0,
             "#0d0887"
            ],
            [
             0.1111111111111111,
             "#46039f"
            ],
            [
             0.2222222222222222,
             "#7201a8"
            ],
            [
             0.3333333333333333,
             "#9c179e"
            ],
            [
             0.4444444444444444,
             "#bd3786"
            ],
            [
             0.5555555555555556,
             "#d8576b"
            ],
            [
             0.6666666666666666,
             "#ed7953"
            ],
            [
             0.7777777777777778,
             "#fb9f3a"
            ],
            [
             0.8888888888888888,
             "#fdca26"
            ],
            [
             1,
             "#f0f921"
            ]
           ]
          },
          "colorway": [
           "#636efa",
           "#EF553B",
           "#00cc96",
           "#ab63fa",
           "#FFA15A",
           "#19d3f3",
           "#FF6692",
           "#B6E880",
           "#FF97FF",
           "#FECB52"
          ],
          "font": {
           "color": "#2a3f5f"
          },
          "geo": {
           "bgcolor": "white",
           "lakecolor": "white",
           "landcolor": "white",
           "showlakes": true,
           "showland": true,
           "subunitcolor": "#C8D4E3"
          },
          "hoverlabel": {
           "align": "left"
          },
          "hovermode": "closest",
          "mapbox": {
           "style": "light"
          },
          "paper_bgcolor": "white",
          "plot_bgcolor": "white",
          "polar": {
           "angularaxis": {
            "gridcolor": "#EBF0F8",
            "linecolor": "#EBF0F8",
            "ticks": ""
           },
           "bgcolor": "white",
           "radialaxis": {
            "gridcolor": "#EBF0F8",
            "linecolor": "#EBF0F8",
            "ticks": ""
           }
          },
          "scene": {
           "xaxis": {
            "backgroundcolor": "white",
            "gridcolor": "#DFE8F3",
            "gridwidth": 2,
            "linecolor": "#EBF0F8",
            "showbackground": true,
            "ticks": "",
            "zerolinecolor": "#EBF0F8"
           },
           "yaxis": {
            "backgroundcolor": "white",
            "gridcolor": "#DFE8F3",
            "gridwidth": 2,
            "linecolor": "#EBF0F8",
            "showbackground": true,
            "ticks": "",
            "zerolinecolor": "#EBF0F8"
           },
           "zaxis": {
            "backgroundcolor": "white",
            "gridcolor": "#DFE8F3",
            "gridwidth": 2,
            "linecolor": "#EBF0F8",
            "showbackground": true,
            "ticks": "",
            "zerolinecolor": "#EBF0F8"
           }
          },
          "shapedefaults": {
           "line": {
            "color": "#2a3f5f"
           }
          },
          "ternary": {
           "aaxis": {
            "gridcolor": "#DFE8F3",
            "linecolor": "#A2B1C6",
            "ticks": ""
           },
           "baxis": {
            "gridcolor": "#DFE8F3",
            "linecolor": "#A2B1C6",
            "ticks": ""
           },
           "bgcolor": "white",
           "caxis": {
            "gridcolor": "#DFE8F3",
            "linecolor": "#A2B1C6",
            "ticks": ""
           }
          },
          "title": {
           "x": 0.05
          },
          "xaxis": {
           "automargin": true,
           "gridcolor": "#EBF0F8",
           "linecolor": "#EBF0F8",
           "ticks": "",
           "title": {
            "standoff": 15
           },
           "zerolinecolor": "#EBF0F8",
           "zerolinewidth": 2
          },
          "yaxis": {
           "automargin": true,
           "gridcolor": "#EBF0F8",
           "linecolor": "#EBF0F8",
           "ticks": "",
           "title": {
            "standoff": 15
           },
           "zerolinecolor": "#EBF0F8",
           "zerolinewidth": 2
          }
         }
        },
        "title": {
         "text": "Nuevas defunciones de COVID-19 reportadas diariamente en México"
        },
        "width": 1000,
        "xaxis": {
         "spikethickness": 0.4,
         "title": {
          "text": "Fecha de registro"
         }
        },
        "yaxis": {
         "title": {
          "text": "Nuevas defunciones confirmadas"
         }
        }
       }
      }
     },
     "metadata": {}
    }
   ],
   "source": [
    " \n",
    " show_confirmed_cases(jhu_conf_mex_df[\"fecha_confirmados_dateTime\"],jhu_conf_mex_df[\"casos diarios\"], region = \"México\", anomalia = True)\n",
    " show_deaths(jhu_deaths_mex_df[\"fecha_muerte_dateTime\"], jhu_deaths_mex_df[\"muertes diarias\"],  region = \"México\", anomalia = True)"
   ]
  }
 ],
 "metadata": {
  "kernelspec": {
   "display_name": "Python 3",
   "language": "python",
   "name": "python3"
  },
  "language_info": {
   "codemirror_mode": {
    "name": "ipython",
    "version": 3
   },
   "file_extension": ".py",
   "mimetype": "text/x-python",
   "name": "python",
   "nbconvert_exporter": "python",
   "pygments_lexer": "ipython3",
   "version": "3.7.1-final"
  }
 },
 "nbformat": 4,
 "nbformat_minor": 2
}