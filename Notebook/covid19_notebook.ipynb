{
 "cells": [
  {
   "cell_type": "code",
   "execution_count": 130,
   "metadata": {},
   "outputs": [],
   "source": [
    "import pandas as pd\n",
    "import bokeh.plotting as bpl\n",
    "import bokeh.models as bmd\n",
    "import bokeh.layouts as bly\n",
    "import bokeh.transform as btr\n",
    "import plotly.express as px\n",
    "import plotly.io as pio\n",
    "import plotly.graph_objects as go\n",
    "import numpy as np\n",
    "from datetime import datetime "
   ]
  },
  {
   "cell_type": "code",
   "execution_count": 126,
   "metadata": {},
   "outputs": [],
   "source": [
    "data = pd.read_csv(\"http://datosabiertos.salud.gob.mx/gobmx/salud/datos_abiertos/datos_abiertos_covid19.zip\", compression = \"zip\", encoding = \"latin1\")"
   ]
  },
  {
   "cell_type": "code",
   "execution_count": 127,
   "metadata": {},
   "outputs": [
    {
     "output_type": "stream",
     "name": "stdout",
     "text": [
      "1.19.3\n"
     ]
    }
   ],
   "source": [
    "pio.templates.default = \"plotly_white\"\n",
    "pio.templates\n",
    "print(np.__version__)\n"
   ]
  },
  {
   "cell_type": "code",
   "execution_count": 128,
   "metadata": {},
   "outputs": [
    {
     "output_type": "execute_result",
     "data": {
      "text/plain": [
       "        FECHA_ACTUALIZACION ID_REGISTRO  ORIGEN  SECTOR  ENTIDAD_UM  SEXO  \\\n",
       "0                2021-01-02      1468a5       1       4           5     1   \n",
       "1                2021-01-02      043f64       2       4           9     2   \n",
       "2                2021-01-02      0e07d8       1       4          15     2   \n",
       "3                2021-01-02      13757c       1      12          15     1   \n",
       "4                2021-01-02      002371       1       4           3     2   \n",
       "...                     ...         ...     ...     ...         ...   ...   \n",
       "3662234          2021-01-02      363a18       2      12           9     2   \n",
       "3662235          2021-01-02      38063a       2      12           1     1   \n",
       "3662236          2021-01-02      2d35a2       2      12           9     2   \n",
       "3662237          2021-01-02      25136a       2      12           9     1   \n",
       "3662238          2021-01-02      3167c9       2      12           9     1   \n",
       "\n",
       "         ENTIDAD_NAC  ENTIDAD_RES  MUNICIPIO_RES  TIPO_PACIENTE  ...  \\\n",
       "0                 15            5             18              1  ...   \n",
       "1                  9            9             10              2  ...   \n",
       "2                 15           15            104              2  ...   \n",
       "3                 15           15            106              1  ...   \n",
       "4                  3            3              8              1  ...   \n",
       "...              ...          ...            ...            ...  ...   \n",
       "3662234            9            9              8              1  ...   \n",
       "3662235            1            1              1              1  ...   \n",
       "3662236           15            9              7              1  ...   \n",
       "3662237            9            9              7              1  ...   \n",
       "3662238            9            9             16              1  ...   \n",
       "\n",
       "        OTRO_CASO TOMA_MUESTRA_LAB RESULTADO_LAB  TOMA_MUESTRA_ANTIGENO  \\\n",
       "0               1                1             1                      2   \n",
       "1              99                1             1                      2   \n",
       "2              99                1             1                      2   \n",
       "3               1                1             1                      2   \n",
       "4              99                1             1                      2   \n",
       "...           ...              ...           ...                    ...   \n",
       "3662234         1                1             3                      1   \n",
       "3662235         1                1             3                      2   \n",
       "3662236         2                1             3                      2   \n",
       "3662237         1                2            97                      1   \n",
       "3662238         2                2            97                      1   \n",
       "\n",
       "         RESULTADO_ANTIGENO  CLASIFICACION_FINAL  MIGRANTE  PAIS_NACIONALIDAD  \\\n",
       "0                        97                    3        99            MÃ©xico   \n",
       "1                        97                    3        99            MÃ©xico   \n",
       "2                        97                    3        99            MÃ©xico   \n",
       "3                        97                    3        99            MÃ©xico   \n",
       "4                        97                    3        99            MÃ©xico   \n",
       "...                     ...                  ...       ...                ...   \n",
       "3662234                   2                    6        99            MÃ©xico   \n",
       "3662235                  97                    6        99            MÃ©xico   \n",
       "3662236                  97                    6        99            MÃ©xico   \n",
       "3662237                   2                    7        99            MÃ©xico   \n",
       "3662238                   1                    3        99            MÃ©xico   \n",
       "\n",
       "         PAIS_ORIGEN  UCI  \n",
       "0                 97   97  \n",
       "1                 97    1  \n",
       "2                 97    2  \n",
       "3                 97   97  \n",
       "4                 97   97  \n",
       "...              ...  ...  \n",
       "3662234           97   97  \n",
       "3662235           97   97  \n",
       "3662236           97   97  \n",
       "3662237           97   97  \n",
       "3662238           97   97  \n",
       "\n",
       "[3662239 rows x 40 columns]"
      ],
      "text/html": "<div>\n<style scoped>\n    .dataframe tbody tr th:only-of-type {\n        vertical-align: middle;\n    }\n\n    .dataframe tbody tr th {\n        vertical-align: top;\n    }\n\n    .dataframe thead th {\n        text-align: right;\n    }\n</style>\n<table border=\"1\" class=\"dataframe\">\n  <thead>\n    <tr style=\"text-align: right;\">\n      <th></th>\n      <th>FECHA_ACTUALIZACION</th>\n      <th>ID_REGISTRO</th>\n      <th>ORIGEN</th>\n      <th>SECTOR</th>\n      <th>ENTIDAD_UM</th>\n      <th>SEXO</th>\n      <th>ENTIDAD_NAC</th>\n      <th>ENTIDAD_RES</th>\n      <th>MUNICIPIO_RES</th>\n      <th>TIPO_PACIENTE</th>\n      <th>...</th>\n      <th>OTRO_CASO</th>\n      <th>TOMA_MUESTRA_LAB</th>\n      <th>RESULTADO_LAB</th>\n      <th>TOMA_MUESTRA_ANTIGENO</th>\n      <th>RESULTADO_ANTIGENO</th>\n      <th>CLASIFICACION_FINAL</th>\n      <th>MIGRANTE</th>\n      <th>PAIS_NACIONALIDAD</th>\n      <th>PAIS_ORIGEN</th>\n      <th>UCI</th>\n    </tr>\n  </thead>\n  <tbody>\n    <tr>\n      <th>0</th>\n      <td>2021-01-02</td>\n      <td>1468a5</td>\n      <td>1</td>\n      <td>4</td>\n      <td>5</td>\n      <td>1</td>\n      <td>15</td>\n      <td>5</td>\n      <td>18</td>\n      <td>1</td>\n      <td>...</td>\n      <td>1</td>\n      <td>1</td>\n      <td>1</td>\n      <td>2</td>\n      <td>97</td>\n      <td>3</td>\n      <td>99</td>\n      <td>MÃ©xico</td>\n      <td>97</td>\n      <td>97</td>\n    </tr>\n    <tr>\n      <th>1</th>\n      <td>2021-01-02</td>\n      <td>043f64</td>\n      <td>2</td>\n      <td>4</td>\n      <td>9</td>\n      <td>2</td>\n      <td>9</td>\n      <td>9</td>\n      <td>10</td>\n      <td>2</td>\n      <td>...</td>\n      <td>99</td>\n      <td>1</td>\n      <td>1</td>\n      <td>2</td>\n      <td>97</td>\n      <td>3</td>\n      <td>99</td>\n      <td>MÃ©xico</td>\n      <td>97</td>\n      <td>1</td>\n    </tr>\n    <tr>\n      <th>2</th>\n      <td>2021-01-02</td>\n      <td>0e07d8</td>\n      <td>1</td>\n      <td>4</td>\n      <td>15</td>\n      <td>2</td>\n      <td>15</td>\n      <td>15</td>\n      <td>104</td>\n      <td>2</td>\n      <td>...</td>\n      <td>99</td>\n      <td>1</td>\n      <td>1</td>\n      <td>2</td>\n      <td>97</td>\n      <td>3</td>\n      <td>99</td>\n      <td>MÃ©xico</td>\n      <td>97</td>\n      <td>2</td>\n    </tr>\n    <tr>\n      <th>3</th>\n      <td>2021-01-02</td>\n      <td>13757c</td>\n      <td>1</td>\n      <td>12</td>\n      <td>15</td>\n      <td>1</td>\n      <td>15</td>\n      <td>15</td>\n      <td>106</td>\n      <td>1</td>\n      <td>...</td>\n      <td>1</td>\n      <td>1</td>\n      <td>1</td>\n      <td>2</td>\n      <td>97</td>\n      <td>3</td>\n      <td>99</td>\n      <td>MÃ©xico</td>\n      <td>97</td>\n      <td>97</td>\n    </tr>\n    <tr>\n      <th>4</th>\n      <td>2021-01-02</td>\n      <td>002371</td>\n      <td>1</td>\n      <td>4</td>\n      <td>3</td>\n      <td>2</td>\n      <td>3</td>\n      <td>3</td>\n      <td>8</td>\n      <td>1</td>\n      <td>...</td>\n      <td>99</td>\n      <td>1</td>\n      <td>1</td>\n      <td>2</td>\n      <td>97</td>\n      <td>3</td>\n      <td>99</td>\n      <td>MÃ©xico</td>\n      <td>97</td>\n      <td>97</td>\n    </tr>\n    <tr>\n      <th>...</th>\n      <td>...</td>\n      <td>...</td>\n      <td>...</td>\n      <td>...</td>\n      <td>...</td>\n      <td>...</td>\n      <td>...</td>\n      <td>...</td>\n      <td>...</td>\n      <td>...</td>\n      <td>...</td>\n      <td>...</td>\n      <td>...</td>\n      <td>...</td>\n      <td>...</td>\n      <td>...</td>\n      <td>...</td>\n      <td>...</td>\n      <td>...</td>\n      <td>...</td>\n      <td>...</td>\n    </tr>\n    <tr>\n      <th>3662234</th>\n      <td>2021-01-02</td>\n      <td>363a18</td>\n      <td>2</td>\n      <td>12</td>\n      <td>9</td>\n      <td>2</td>\n      <td>9</td>\n      <td>9</td>\n      <td>8</td>\n      <td>1</td>\n      <td>...</td>\n      <td>1</td>\n      <td>1</td>\n      <td>3</td>\n      <td>1</td>\n      <td>2</td>\n      <td>6</td>\n      <td>99</td>\n      <td>MÃ©xico</td>\n      <td>97</td>\n      <td>97</td>\n    </tr>\n    <tr>\n      <th>3662235</th>\n      <td>2021-01-02</td>\n      <td>38063a</td>\n      <td>2</td>\n      <td>12</td>\n      <td>1</td>\n      <td>1</td>\n      <td>1</td>\n      <td>1</td>\n      <td>1</td>\n      <td>1</td>\n      <td>...</td>\n      <td>1</td>\n      <td>1</td>\n      <td>3</td>\n      <td>2</td>\n      <td>97</td>\n      <td>6</td>\n      <td>99</td>\n      <td>MÃ©xico</td>\n      <td>97</td>\n      <td>97</td>\n    </tr>\n    <tr>\n      <th>3662236</th>\n      <td>2021-01-02</td>\n      <td>2d35a2</td>\n      <td>2</td>\n      <td>12</td>\n      <td>9</td>\n      <td>2</td>\n      <td>15</td>\n      <td>9</td>\n      <td>7</td>\n      <td>1</td>\n      <td>...</td>\n      <td>2</td>\n      <td>1</td>\n      <td>3</td>\n      <td>2</td>\n      <td>97</td>\n      <td>6</td>\n      <td>99</td>\n      <td>MÃ©xico</td>\n      <td>97</td>\n      <td>97</td>\n    </tr>\n    <tr>\n      <th>3662237</th>\n      <td>2021-01-02</td>\n      <td>25136a</td>\n      <td>2</td>\n      <td>12</td>\n      <td>9</td>\n      <td>1</td>\n      <td>9</td>\n      <td>9</td>\n      <td>7</td>\n      <td>1</td>\n      <td>...</td>\n      <td>1</td>\n      <td>2</td>\n      <td>97</td>\n      <td>1</td>\n      <td>2</td>\n      <td>7</td>\n      <td>99</td>\n      <td>MÃ©xico</td>\n      <td>97</td>\n      <td>97</td>\n    </tr>\n    <tr>\n      <th>3662238</th>\n      <td>2021-01-02</td>\n      <td>3167c9</td>\n      <td>2</td>\n      <td>12</td>\n      <td>9</td>\n      <td>1</td>\n      <td>9</td>\n      <td>9</td>\n      <td>16</td>\n      <td>1</td>\n      <td>...</td>\n      <td>2</td>\n      <td>2</td>\n      <td>97</td>\n      <td>1</td>\n      <td>1</td>\n      <td>3</td>\n      <td>99</td>\n      <td>MÃ©xico</td>\n      <td>97</td>\n      <td>97</td>\n    </tr>\n  </tbody>\n</table>\n<p>3662239 rows × 40 columns</p>\n</div>"
     },
     "metadata": {},
     "execution_count": 128
    }
   ],
   "source": [
    "data "
   ]
  },
  {
   "cell_type": "code",
   "execution_count": 144,
   "metadata": {},
   "outputs": [
    {
     "output_type": "execute_result",
     "data": {
      "text/plain": [
       "'02/01/2021'"
      ]
     },
     "metadata": {},
     "execution_count": 144
    }
   ],
   "source": [
    "last_update = data[\"FECHA_ACTUALIZACION\"].iloc[0]\n",
    "date_last_update = datetime.strptime(last_update, '%Y-%m-%d')\n",
    "\n",
    "if date_last_update.day < 10:\n",
    "    day = \"0\" + str(date_last_update.day) \n",
    "else:\n",
    "    day = str(date_last_update.day) \n",
    "\n",
    "if date_last_update.month < 10:\n",
    "    month = \"0\" + str(date_last_update.month)\n",
    "else:\n",
    "    month = str(date_last_update.month)\n",
    "\n",
    "str_last_update = day + \"/\" + month + \"/\" + str(date_last_update.year) \n",
    "str_last_update"
   ]
  },
  {
   "cell_type": "code",
   "execution_count": 64,
   "metadata": {},
   "outputs": [
    {
     "output_type": "execute_result",
     "data": {
      "text/plain": [
       "        FECHA_ACTUALIZACION FECHA_SINTOMAS FECHA_INGRESO   FECHA_DEF\n",
       "0                2021-01-01     2020-03-12    2020-03-18  9999-99-99\n",
       "1                2021-01-01     2020-03-27    2020-04-02  9999-99-99\n",
       "2                2021-01-01     2020-03-26    2020-03-26  2020-03-30\n",
       "3                2021-01-01     2020-03-28    2020-03-28  2020-04-02\n",
       "4                2021-01-01     2020-03-27    2020-03-31  9999-99-99\n",
       "...                     ...            ...           ...         ...\n",
       "3653592          2021-01-01     2020-12-29    2020-12-29  9999-99-99\n",
       "3653593          2021-01-01     2020-12-29    2020-12-29  9999-99-99\n",
       "3653594          2021-01-01     2020-12-30    2020-12-30  9999-99-99\n",
       "3653595          2021-01-01     2020-12-30    2020-12-30  9999-99-99\n",
       "3653596          2021-01-01     2020-12-30    2020-12-30  9999-99-99\n",
       "\n",
       "[3653597 rows x 4 columns]"
      ],
      "text/html": "<div>\n<style scoped>\n    .dataframe tbody tr th:only-of-type {\n        vertical-align: middle;\n    }\n\n    .dataframe tbody tr th {\n        vertical-align: top;\n    }\n\n    .dataframe thead th {\n        text-align: right;\n    }\n</style>\n<table border=\"1\" class=\"dataframe\">\n  <thead>\n    <tr style=\"text-align: right;\">\n      <th></th>\n      <th>FECHA_ACTUALIZACION</th>\n      <th>FECHA_SINTOMAS</th>\n      <th>FECHA_INGRESO</th>\n      <th>FECHA_DEF</th>\n    </tr>\n  </thead>\n  <tbody>\n    <tr>\n      <th>0</th>\n      <td>2021-01-01</td>\n      <td>2020-03-12</td>\n      <td>2020-03-18</td>\n      <td>9999-99-99</td>\n    </tr>\n    <tr>\n      <th>1</th>\n      <td>2021-01-01</td>\n      <td>2020-03-27</td>\n      <td>2020-04-02</td>\n      <td>9999-99-99</td>\n    </tr>\n    <tr>\n      <th>2</th>\n      <td>2021-01-01</td>\n      <td>2020-03-26</td>\n      <td>2020-03-26</td>\n      <td>2020-03-30</td>\n    </tr>\n    <tr>\n      <th>3</th>\n      <td>2021-01-01</td>\n      <td>2020-03-28</td>\n      <td>2020-03-28</td>\n      <td>2020-04-02</td>\n    </tr>\n    <tr>\n      <th>4</th>\n      <td>2021-01-01</td>\n      <td>2020-03-27</td>\n      <td>2020-03-31</td>\n      <td>9999-99-99</td>\n    </tr>\n    <tr>\n      <th>...</th>\n      <td>...</td>\n      <td>...</td>\n      <td>...</td>\n      <td>...</td>\n    </tr>\n    <tr>\n      <th>3653592</th>\n      <td>2021-01-01</td>\n      <td>2020-12-29</td>\n      <td>2020-12-29</td>\n      <td>9999-99-99</td>\n    </tr>\n    <tr>\n      <th>3653593</th>\n      <td>2021-01-01</td>\n      <td>2020-12-29</td>\n      <td>2020-12-29</td>\n      <td>9999-99-99</td>\n    </tr>\n    <tr>\n      <th>3653594</th>\n      <td>2021-01-01</td>\n      <td>2020-12-30</td>\n      <td>2020-12-30</td>\n      <td>9999-99-99</td>\n    </tr>\n    <tr>\n      <th>3653595</th>\n      <td>2021-01-01</td>\n      <td>2020-12-30</td>\n      <td>2020-12-30</td>\n      <td>9999-99-99</td>\n    </tr>\n    <tr>\n      <th>3653596</th>\n      <td>2021-01-01</td>\n      <td>2020-12-30</td>\n      <td>2020-12-30</td>\n      <td>9999-99-99</td>\n    </tr>\n  </tbody>\n</table>\n<p>3653597 rows × 4 columns</p>\n</div>"
     },
     "metadata": {},
     "execution_count": 64
    }
   ],
   "source": [
    "data[[\"FECHA_ACTUALIZACION\", \"FECHA_SINTOMAS\",\"FECHA_INGRESO\",\"FECHA_DEF\"]] #COLUMNA QUE ME INTERESA DataFrame de una columna -----> Serie"
   ]
  },
  {
   "cell_type": "code",
   "execution_count": 65,
   "metadata": {},
   "outputs": [
    {
     "output_type": "execute_result",
     "data": {
      "text/plain": [
       "        FECHA_ACTUALIZACION ID_REGISTRO  ORIGEN\n",
       "0                2021-01-01      071735       2\n",
       "1                2021-01-01      1468a5       1\n",
       "2                2021-01-01      043f64       2\n",
       "3                2021-01-01      0e07d8       1\n",
       "4                2021-01-01      13757c       1\n",
       "...                     ...         ...     ...\n",
       "3653592          2021-01-01      3a8390       2\n",
       "3653593          2021-01-01      3acc33       2\n",
       "3653594          2021-01-01      3f77c9       2\n",
       "3653595          2021-01-01      32724b       2\n",
       "3653596          2021-01-01      304890       2\n",
       "\n",
       "[3653597 rows x 3 columns]"
      ],
      "text/html": "<div>\n<style scoped>\n    .dataframe tbody tr th:only-of-type {\n        vertical-align: middle;\n    }\n\n    .dataframe tbody tr th {\n        vertical-align: top;\n    }\n\n    .dataframe thead th {\n        text-align: right;\n    }\n</style>\n<table border=\"1\" class=\"dataframe\">\n  <thead>\n    <tr style=\"text-align: right;\">\n      <th></th>\n      <th>FECHA_ACTUALIZACION</th>\n      <th>ID_REGISTRO</th>\n      <th>ORIGEN</th>\n    </tr>\n  </thead>\n  <tbody>\n    <tr>\n      <th>0</th>\n      <td>2021-01-01</td>\n      <td>071735</td>\n      <td>2</td>\n    </tr>\n    <tr>\n      <th>1</th>\n      <td>2021-01-01</td>\n      <td>1468a5</td>\n      <td>1</td>\n    </tr>\n    <tr>\n      <th>2</th>\n      <td>2021-01-01</td>\n      <td>043f64</td>\n      <td>2</td>\n    </tr>\n    <tr>\n      <th>3</th>\n      <td>2021-01-01</td>\n      <td>0e07d8</td>\n      <td>1</td>\n    </tr>\n    <tr>\n      <th>4</th>\n      <td>2021-01-01</td>\n      <td>13757c</td>\n      <td>1</td>\n    </tr>\n    <tr>\n      <th>...</th>\n      <td>...</td>\n      <td>...</td>\n      <td>...</td>\n    </tr>\n    <tr>\n      <th>3653592</th>\n      <td>2021-01-01</td>\n      <td>3a8390</td>\n      <td>2</td>\n    </tr>\n    <tr>\n      <th>3653593</th>\n      <td>2021-01-01</td>\n      <td>3acc33</td>\n      <td>2</td>\n    </tr>\n    <tr>\n      <th>3653594</th>\n      <td>2021-01-01</td>\n      <td>3f77c9</td>\n      <td>2</td>\n    </tr>\n    <tr>\n      <th>3653595</th>\n      <td>2021-01-01</td>\n      <td>32724b</td>\n      <td>2</td>\n    </tr>\n    <tr>\n      <th>3653596</th>\n      <td>2021-01-01</td>\n      <td>304890</td>\n      <td>2</td>\n    </tr>\n  </tbody>\n</table>\n<p>3653597 rows × 3 columns</p>\n</div>"
     },
     "metadata": {},
     "execution_count": 65
    }
   ],
   "source": [
    "data[['FECHA_ACTUALIZACION', 'ID_REGISTRO', 'ORIGEN']]"
   ]
  },
  {
   "cell_type": "code",
   "execution_count": 66,
   "metadata": {},
   "outputs": [
    {
     "output_type": "execute_result",
     "data": {
      "text/plain": [
       "FECHA_ACTUALIZACION      2021-01-01\n",
       "ID_REGISTRO                  12d93f\n",
       "ORIGEN                            1\n",
       "SECTOR                            4\n",
       "ENTIDAD_UM                       23\n",
       "SEXO                              2\n",
       "ENTIDAD_NAC                      23\n",
       "ENTIDAD_RES                      23\n",
       "MUNICIPIO_RES                     5\n",
       "TIPO_PACIENTE                     1\n",
       "FECHA_INGRESO            2020-03-24\n",
       "FECHA_SINTOMAS           2020-03-20\n",
       "FECHA_DEF                9999-99-99\n",
       "INTUBADO                         97\n",
       "NEUMONIA                          1\n",
       "EDAD                             46\n",
       "NACIONALIDAD                      1\n",
       "EMBARAZO                         97\n",
       "HABLA_LENGUA_INDIG                2\n",
       "INDIGENA                          2\n",
       "DIABETES                          1\n",
       "EPOC                              2\n",
       "ASMA                              2\n",
       "INMUSUPR                          2\n",
       "HIPERTENSION                      2\n",
       "OTRA_COM                          2\n",
       "CARDIOVASCULAR                    2\n",
       "OBESIDAD                          2\n",
       "RENAL_CRONICA                     2\n",
       "TABAQUISMO                        2\n",
       "OTRO_CASO                         2\n",
       "TOMA_MUESTRA_LAB                  1\n",
       "RESULTADO_LAB                     1\n",
       "TOMA_MUESTRA_ANTIGENO             2\n",
       "RESULTADO_ANTIGENO               97\n",
       "CLASIFICACION_FINAL               3\n",
       "MIGRANTE                         99\n",
       "PAIS_NACIONALIDAD           MÃ©xico\n",
       "PAIS_ORIGEN                      97\n",
       "UCI                              97\n",
       "Name: 10, dtype: object"
      ]
     },
     "metadata": {},
     "execution_count": 66
    }
   ],
   "source": [
    "data.loc[10] #INFORMACION DE LA FILA 10"
   ]
  },
  {
   "cell_type": "code",
   "execution_count": 67,
   "metadata": {},
   "outputs": [
    {
     "output_type": "execute_result",
     "data": {
      "text/plain": [
       "  FECHA_ACTUALIZACION ID_REGISTRO  ORIGEN  SECTOR  ENTIDAD_UM  SEXO  \\\n",
       "1          2021-01-01      1468a5       1       4           5     1   \n",
       "3          2021-01-01      0e07d8       1       4          15     2   \n",
       "6          2021-01-01      11fb00       1      12           9     2   \n",
       "\n",
       "   ENTIDAD_NAC  ENTIDAD_RES  MUNICIPIO_RES  TIPO_PACIENTE  ... OTRO_CASO  \\\n",
       "1           15            5             18              1  ...         1   \n",
       "3           15           15            104              2  ...        99   \n",
       "6            9            9             15              1  ...         1   \n",
       "\n",
       "  TOMA_MUESTRA_LAB RESULTADO_LAB  TOMA_MUESTRA_ANTIGENO  RESULTADO_ANTIGENO  \\\n",
       "1                1             1                      2                  97   \n",
       "3                1             1                      2                  97   \n",
       "6                1             1                      2                  97   \n",
       "\n",
       "   CLASIFICACION_FINAL  MIGRANTE  PAIS_NACIONALIDAD  PAIS_ORIGEN  UCI  \n",
       "1                    3        99            MÃ©xico           97   97  \n",
       "3                    3        99            MÃ©xico           97    2  \n",
       "6                    3        99            MÃ©xico           97   97  \n",
       "\n",
       "[3 rows x 40 columns]"
      ],
      "text/html": "<div>\n<style scoped>\n    .dataframe tbody tr th:only-of-type {\n        vertical-align: middle;\n    }\n\n    .dataframe tbody tr th {\n        vertical-align: top;\n    }\n\n    .dataframe thead th {\n        text-align: right;\n    }\n</style>\n<table border=\"1\" class=\"dataframe\">\n  <thead>\n    <tr style=\"text-align: right;\">\n      <th></th>\n      <th>FECHA_ACTUALIZACION</th>\n      <th>ID_REGISTRO</th>\n      <th>ORIGEN</th>\n      <th>SECTOR</th>\n      <th>ENTIDAD_UM</th>\n      <th>SEXO</th>\n      <th>ENTIDAD_NAC</th>\n      <th>ENTIDAD_RES</th>\n      <th>MUNICIPIO_RES</th>\n      <th>TIPO_PACIENTE</th>\n      <th>...</th>\n      <th>OTRO_CASO</th>\n      <th>TOMA_MUESTRA_LAB</th>\n      <th>RESULTADO_LAB</th>\n      <th>TOMA_MUESTRA_ANTIGENO</th>\n      <th>RESULTADO_ANTIGENO</th>\n      <th>CLASIFICACION_FINAL</th>\n      <th>MIGRANTE</th>\n      <th>PAIS_NACIONALIDAD</th>\n      <th>PAIS_ORIGEN</th>\n      <th>UCI</th>\n    </tr>\n  </thead>\n  <tbody>\n    <tr>\n      <th>1</th>\n      <td>2021-01-01</td>\n      <td>1468a5</td>\n      <td>1</td>\n      <td>4</td>\n      <td>5</td>\n      <td>1</td>\n      <td>15</td>\n      <td>5</td>\n      <td>18</td>\n      <td>1</td>\n      <td>...</td>\n      <td>1</td>\n      <td>1</td>\n      <td>1</td>\n      <td>2</td>\n      <td>97</td>\n      <td>3</td>\n      <td>99</td>\n      <td>MÃ©xico</td>\n      <td>97</td>\n      <td>97</td>\n    </tr>\n    <tr>\n      <th>3</th>\n      <td>2021-01-01</td>\n      <td>0e07d8</td>\n      <td>1</td>\n      <td>4</td>\n      <td>15</td>\n      <td>2</td>\n      <td>15</td>\n      <td>15</td>\n      <td>104</td>\n      <td>2</td>\n      <td>...</td>\n      <td>99</td>\n      <td>1</td>\n      <td>1</td>\n      <td>2</td>\n      <td>97</td>\n      <td>3</td>\n      <td>99</td>\n      <td>MÃ©xico</td>\n      <td>97</td>\n      <td>2</td>\n    </tr>\n    <tr>\n      <th>6</th>\n      <td>2021-01-01</td>\n      <td>11fb00</td>\n      <td>1</td>\n      <td>12</td>\n      <td>9</td>\n      <td>2</td>\n      <td>9</td>\n      <td>9</td>\n      <td>15</td>\n      <td>1</td>\n      <td>...</td>\n      <td>1</td>\n      <td>1</td>\n      <td>1</td>\n      <td>2</td>\n      <td>97</td>\n      <td>3</td>\n      <td>99</td>\n      <td>MÃ©xico</td>\n      <td>97</td>\n      <td>97</td>\n    </tr>\n  </tbody>\n</table>\n<p>3 rows × 40 columns</p>\n</div>"
     },
     "metadata": {},
     "execution_count": 67
    }
   ],
   "source": [
    "data.loc[[1,3,6]]"
   ]
  },
  {
   "cell_type": "code",
   "execution_count": 68,
   "metadata": {},
   "outputs": [
    {
     "output_type": "execute_result",
     "data": {
      "text/plain": [
       "7    1808703\n",
       "3    1379537\n",
       "6     343048\n",
       "1      55447\n",
       "5      54828\n",
       "4       9833\n",
       "2       2201\n",
       "Name: CLASIFICACION_FINAL, dtype: int64"
      ]
     },
     "metadata": {},
     "execution_count": 68
    }
   ],
   "source": [
    "#Casos negativos, sospechosos y activos\n",
    "data[\"CLASIFICACION_FINAL\"].value_counts()"
   ]
  },
  {
   "cell_type": "code",
   "execution_count": 69,
   "metadata": {},
   "outputs": [],
   "source": [
    "#Casos negativos ---> 7\n",
    "condicion_negativos = data[\"CLASIFICACION_FINAL\"] == 7"
   ]
  },
  {
   "cell_type": "code",
   "execution_count": 70,
   "metadata": {},
   "outputs": [
    {
     "output_type": "execute_result",
     "data": {
      "text/plain": [
       "False    1844894\n",
       "True     1808703\n",
       "Name: CLASIFICACION_FINAL, dtype: int64"
      ]
     },
     "metadata": {},
     "execution_count": 70
    }
   ],
   "source": [
    "condicion_negativos.value_counts()"
   ]
  },
  {
   "cell_type": "code",
   "execution_count": 71,
   "metadata": {},
   "outputs": [
    {
     "output_type": "stream",
     "name": "stdout",
     "text": [
      "Casos Negativos = 1808703\n"
     ]
    }
   ],
   "source": [
    " negativos = data[condicion_negativos] #Filtrando el data FRAME para casos negativos\n",
    " print(\"Casos Negativos =\",len(negativos))"
   ]
  },
  {
   "cell_type": "code",
   "execution_count": 72,
   "metadata": {},
   "outputs": [
    {
     "output_type": "stream",
     "name": "stdout",
     "text": [
      "Casos confirmados = 1437185\n"
     ]
    }
   ],
   "source": [
    "# 1,2,3 CASOS CONFIRMADOS\n",
    "confirmados = data[data[\"CLASIFICACION_FINAL\"].isin([1,2,3])]\n",
    "print(\"Casos confirmados =\",len(confirmados))"
   ]
  },
  {
   "cell_type": "code",
   "execution_count": 73,
   "metadata": {},
   "outputs": [
    {
     "output_type": "execute_result",
     "data": {
      "text/plain": [
       "3    1379537\n",
       "1      55447\n",
       "2       2201\n",
       "Name: CLASIFICACION_FINAL, dtype: int64"
      ]
     },
     "metadata": {},
     "execution_count": 73
    }
   ],
   "source": [
    "confirmados[\"CLASIFICACION_FINAL\"].value_counts()"
   ]
  },
  {
   "cell_type": "code",
   "execution_count": 74,
   "metadata": {},
   "outputs": [
    {
     "output_type": "stream",
     "name": "stdout",
     "text": [
      "Sospechosos Totales =  343048\n"
     ]
    }
   ],
   "source": [
    "#CASOS SORPECHOSOS 6 --> sospechosos sin muestra\", \"sospechosos con posibilidad de resultado\" y \"sospechosos sin posibilidad de resultado\".\n",
    "sospechosos = data[data[\"CLASIFICACION_FINAL\"] == 6]\n",
    "print(\"Sospechosos Totales = \", len(sospechosos))"
   ]
  },
  {
   "cell_type": "code",
   "execution_count": 75,
   "metadata": {},
   "outputs": [
    {
     "output_type": "stream",
     "name": "stdout",
     "text": [
      "Sospechosos sin muestra = 224010\n"
     ]
    }
   ],
   "source": [
    "sospechosos_sin_muestra=data[(data[\"CLASIFICACION_FINAL\"]==6)&(data[\"RESULTADO_LAB\"]==97)]\n",
    "#sospechosos_sin_muestra\n",
    "print(\"Sospechosos sin muestra =\",len(sospechosos_sin_muestra))"
   ]
  },
  {
   "cell_type": "code",
   "execution_count": 76,
   "metadata": {},
   "outputs": [
    {
     "output_type": "stream",
     "name": "stdout",
     "text": [
      "Sospechosos con posibilidad = 42227\n"
     ]
    }
   ],
   "source": [
    "sospechosos_con_posibilidad =data[(data[\"CLASIFICACION_FINAL\"]==6)&(data[\"RESULTADO_LAB\"]==3)]\n",
    "#sospechosos_sin_muestra\n",
    "print(\"Sospechosos con posibilidad =\",len(sospechosos_con_posibilidad))"
   ]
  },
  {
   "cell_type": "code",
   "execution_count": 77,
   "metadata": {},
   "outputs": [
    {
     "output_type": "stream",
     "name": "stdout",
     "text": [
      "Sospechosos sin posibilidad = 141472\n"
     ]
    }
   ],
   "source": [
    "sospechosos_sin_posibilidad=data[(data[\"CLASIFICACION_FINAL\"].isin([6,5,4]))&(data[\"RESULTADO_LAB\"].isin([4]))]\n",
    "print(\"Sospechosos sin posibilidad =\", len(sospechosos_sin_posibilidad))"
   ]
  },
  {
   "cell_type": "code",
   "execution_count": 78,
   "metadata": {},
   "outputs": [
    {
     "output_type": "execute_result",
     "data": {
      "text/plain": [
       "Index(['FECHA_ACTUALIZACION', 'ID_REGISTRO', 'ORIGEN', 'SECTOR', 'ENTIDAD_UM',\n",
       "       'SEXO', 'ENTIDAD_NAC', 'ENTIDAD_RES', 'MUNICIPIO_RES', 'TIPO_PACIENTE',\n",
       "       'FECHA_INGRESO', 'FECHA_SINTOMAS', 'FECHA_DEF', 'INTUBADO', 'NEUMONIA',\n",
       "       'EDAD', 'NACIONALIDAD', 'EMBARAZO', 'HABLA_LENGUA_INDIG', 'INDIGENA',\n",
       "       'DIABETES', 'EPOC', 'ASMA', 'INMUSUPR', 'HIPERTENSION', 'OTRA_COM',\n",
       "       'CARDIOVASCULAR', 'OBESIDAD', 'RENAL_CRONICA', 'TABAQUISMO',\n",
       "       'OTRO_CASO', 'TOMA_MUESTRA_LAB', 'RESULTADO_LAB',\n",
       "       'TOMA_MUESTRA_ANTIGENO', 'RESULTADO_ANTIGENO', 'CLASIFICACION_FINAL',\n",
       "       'MIGRANTE', 'PAIS_NACIONALIDAD', 'PAIS_ORIGEN', 'UCI'],\n",
       "      dtype='object')"
      ]
     },
     "metadata": {},
     "execution_count": 78
    }
   ],
   "source": [
    "#Buscando defunciones \n",
    "data.columns"
   ]
  },
  {
   "cell_type": "code",
   "execution_count": 79,
   "metadata": {},
   "outputs": [],
   "source": [
    "#data[\"FECHA_DEF\"].value_counts()"
   ]
  },
  {
   "cell_type": "code",
   "execution_count": 80,
   "metadata": {},
   "outputs": [
    {
     "output_type": "stream",
     "name": "stdout",
     "text": [
      "Defunciones = 126507\n"
     ]
    }
   ],
   "source": [
    "defunciones = confirmados[confirmados[\"FECHA_DEF\"] != \"9999-99-99\"]\n",
    "print(\"Defunciones =\", len(defunciones))\n"
   ]
  },
  {
   "cell_type": "code",
   "execution_count": 81,
   "metadata": {},
   "outputs": [
    {
     "output_type": "execute_result",
     "data": {
      "text/plain": [
       "    FECHA_INGRESO  confirmados\n",
       "0      2020-01-13            1\n",
       "1      2020-01-28            1\n",
       "2      2020-01-29            1\n",
       "3      2020-02-10            1\n",
       "4      2020-02-20            1\n",
       "..            ...          ...\n",
       "309    2020-12-28        10332\n",
       "310    2020-12-29         8691\n",
       "311    2020-12-30         5927\n",
       "312    2020-12-31         3340\n",
       "313    2021-01-01            1\n",
       "\n",
       "[314 rows x 2 columns]"
      ],
      "text/html": "<div>\n<style scoped>\n    .dataframe tbody tr th:only-of-type {\n        vertical-align: middle;\n    }\n\n    .dataframe tbody tr th {\n        vertical-align: top;\n    }\n\n    .dataframe thead th {\n        text-align: right;\n    }\n</style>\n<table border=\"1\" class=\"dataframe\">\n  <thead>\n    <tr style=\"text-align: right;\">\n      <th></th>\n      <th>FECHA_INGRESO</th>\n      <th>confirmados</th>\n    </tr>\n  </thead>\n  <tbody>\n    <tr>\n      <th>0</th>\n      <td>2020-01-13</td>\n      <td>1</td>\n    </tr>\n    <tr>\n      <th>1</th>\n      <td>2020-01-28</td>\n      <td>1</td>\n    </tr>\n    <tr>\n      <th>2</th>\n      <td>2020-01-29</td>\n      <td>1</td>\n    </tr>\n    <tr>\n      <th>3</th>\n      <td>2020-02-10</td>\n      <td>1</td>\n    </tr>\n    <tr>\n      <th>4</th>\n      <td>2020-02-20</td>\n      <td>1</td>\n    </tr>\n    <tr>\n      <th>...</th>\n      <td>...</td>\n      <td>...</td>\n    </tr>\n    <tr>\n      <th>309</th>\n      <td>2020-12-28</td>\n      <td>10332</td>\n    </tr>\n    <tr>\n      <th>310</th>\n      <td>2020-12-29</td>\n      <td>8691</td>\n    </tr>\n    <tr>\n      <th>311</th>\n      <td>2020-12-30</td>\n      <td>5927</td>\n    </tr>\n    <tr>\n      <th>312</th>\n      <td>2020-12-31</td>\n      <td>3340</td>\n    </tr>\n    <tr>\n      <th>313</th>\n      <td>2021-01-01</td>\n      <td>1</td>\n    </tr>\n  </tbody>\n</table>\n<p>314 rows × 2 columns</p>\n</div>"
     },
     "metadata": {},
     "execution_count": 81
    }
   ],
   "source": [
    "grupos = confirmados.groupby(\"FECHA_INGRESO\")  #agrupando por fecha\n",
    "confirmados_por_fecha = grupos.size().to_frame(\"confirmados\").reset_index()   #INICIALMENTE grupos.size() es una serie con la fecha como ind\n",
    "confirmados_por_fecha"
   ]
  },
  {
   "cell_type": "code",
   "execution_count": 82,
   "metadata": {},
   "outputs": [
    {
     "output_type": "execute_result",
     "data": {
      "text/plain": [
       "FECHA_INGRESO    object\n",
       "confirmados       int64\n",
       "dtype: object"
      ]
     },
     "metadata": {},
     "execution_count": 82
    }
   ],
   "source": [
    "confirmados_por_fecha.dtypes"
   ]
  },
  {
   "cell_type": "code",
   "execution_count": 83,
   "metadata": {},
   "outputs": [
    {
     "output_type": "execute_result",
     "data": {
      "text/plain": [
       "0    2020-01-13\n",
       "1    2020-01-28\n",
       "2    2020-01-29\n",
       "Name: FECHA_INGRESO, dtype: object"
      ]
     },
     "metadata": {},
     "execution_count": 83
    }
   ],
   "source": [
    "confirmados_por_fecha[\"FECHA_INGRESO\"][:3]"
   ]
  },
  {
   "cell_type": "code",
   "execution_count": 84,
   "metadata": {},
   "outputs": [
    {
     "output_type": "execute_result",
     "data": {
      "text/plain": [
       "    FECHA_INGRESO  confirmados fecha_ingreso\n",
       "0      2020-01-13            1    2020-01-13\n",
       "1      2020-01-28            1    2020-01-28\n",
       "2      2020-01-29            1    2020-01-29\n",
       "3      2020-02-10            1    2020-02-10\n",
       "4      2020-02-20            1    2020-02-20\n",
       "..            ...          ...           ...\n",
       "309    2020-12-28        10332    2020-12-28\n",
       "310    2020-12-29         8691    2020-12-29\n",
       "311    2020-12-30         5927    2020-12-30\n",
       "312    2020-12-31         3340    2020-12-31\n",
       "313    2021-01-01            1    2021-01-01\n",
       "\n",
       "[314 rows x 3 columns]"
      ],
      "text/html": "<div>\n<style scoped>\n    .dataframe tbody tr th:only-of-type {\n        vertical-align: middle;\n    }\n\n    .dataframe tbody tr th {\n        vertical-align: top;\n    }\n\n    .dataframe thead th {\n        text-align: right;\n    }\n</style>\n<table border=\"1\" class=\"dataframe\">\n  <thead>\n    <tr style=\"text-align: right;\">\n      <th></th>\n      <th>FECHA_INGRESO</th>\n      <th>confirmados</th>\n      <th>fecha_ingreso</th>\n    </tr>\n  </thead>\n  <tbody>\n    <tr>\n      <th>0</th>\n      <td>2020-01-13</td>\n      <td>1</td>\n      <td>2020-01-13</td>\n    </tr>\n    <tr>\n      <th>1</th>\n      <td>2020-01-28</td>\n      <td>1</td>\n      <td>2020-01-28</td>\n    </tr>\n    <tr>\n      <th>2</th>\n      <td>2020-01-29</td>\n      <td>1</td>\n      <td>2020-01-29</td>\n    </tr>\n    <tr>\n      <th>3</th>\n      <td>2020-02-10</td>\n      <td>1</td>\n      <td>2020-02-10</td>\n    </tr>\n    <tr>\n      <th>4</th>\n      <td>2020-02-20</td>\n      <td>1</td>\n      <td>2020-02-20</td>\n    </tr>\n    <tr>\n      <th>...</th>\n      <td>...</td>\n      <td>...</td>\n      <td>...</td>\n    </tr>\n    <tr>\n      <th>309</th>\n      <td>2020-12-28</td>\n      <td>10332</td>\n      <td>2020-12-28</td>\n    </tr>\n    <tr>\n      <th>310</th>\n      <td>2020-12-29</td>\n      <td>8691</td>\n      <td>2020-12-29</td>\n    </tr>\n    <tr>\n      <th>311</th>\n      <td>2020-12-30</td>\n      <td>5927</td>\n      <td>2020-12-30</td>\n    </tr>\n    <tr>\n      <th>312</th>\n      <td>2020-12-31</td>\n      <td>3340</td>\n      <td>2020-12-31</td>\n    </tr>\n    <tr>\n      <th>313</th>\n      <td>2021-01-01</td>\n      <td>1</td>\n      <td>2021-01-01</td>\n    </tr>\n  </tbody>\n</table>\n<p>314 rows × 3 columns</p>\n</div>"
     },
     "metadata": {},
     "execution_count": 84
    }
   ],
   "source": [
    "confirmados_por_fecha[\"fecha_ingreso\"] = pd.to_datetime(confirmados_por_fecha[\"FECHA_INGRESO\"], format = \"%Y-%m-%d\")\n",
    "confirmados_por_fecha"
   ]
  },
  {
   "cell_type": "code",
   "execution_count": 85,
   "metadata": {},
   "outputs": [
    {
     "output_type": "execute_result",
     "data": {
      "text/plain": [
       "FECHA_INGRESO            object\n",
       "confirmados               int64\n",
       "fecha_ingreso    datetime64[ns]\n",
       "dtype: object"
      ]
     },
     "metadata": {},
     "execution_count": 85
    }
   ],
   "source": [
    "confirmados_por_fecha.dtypes"
   ]
  },
  {
   "cell_type": "code",
   "execution_count": 86,
   "metadata": {},
   "outputs": [
    {
     "output_type": "execute_result",
     "data": {
      "text/plain": [
       "      FECHA_DEF  defunciones fecha_defuncion\n",
       "0    2020-03-03            1      2020-03-03\n",
       "1    2020-03-13            1      2020-03-13\n",
       "2    2020-03-17            1      2020-03-17\n",
       "3    2020-03-18            2      2020-03-18\n",
       "4    2020-03-20            1      2020-03-20\n",
       "..          ...          ...             ...\n",
       "286  2020-12-28          530      2020-12-28\n",
       "287  2020-12-29          480      2020-12-29\n",
       "288  2020-12-30          315      2020-12-30\n",
       "289  2020-12-31           71      2020-12-31\n",
       "290  2021-01-01            1      2021-01-01\n",
       "\n",
       "[291 rows x 3 columns]"
      ],
      "text/html": "<div>\n<style scoped>\n    .dataframe tbody tr th:only-of-type {\n        vertical-align: middle;\n    }\n\n    .dataframe tbody tr th {\n        vertical-align: top;\n    }\n\n    .dataframe thead th {\n        text-align: right;\n    }\n</style>\n<table border=\"1\" class=\"dataframe\">\n  <thead>\n    <tr style=\"text-align: right;\">\n      <th></th>\n      <th>FECHA_DEF</th>\n      <th>defunciones</th>\n      <th>fecha_defuncion</th>\n    </tr>\n  </thead>\n  <tbody>\n    <tr>\n      <th>0</th>\n      <td>2020-03-03</td>\n      <td>1</td>\n      <td>2020-03-03</td>\n    </tr>\n    <tr>\n      <th>1</th>\n      <td>2020-03-13</td>\n      <td>1</td>\n      <td>2020-03-13</td>\n    </tr>\n    <tr>\n      <th>2</th>\n      <td>2020-03-17</td>\n      <td>1</td>\n      <td>2020-03-17</td>\n    </tr>\n    <tr>\n      <th>3</th>\n      <td>2020-03-18</td>\n      <td>2</td>\n      <td>2020-03-18</td>\n    </tr>\n    <tr>\n      <th>4</th>\n      <td>2020-03-20</td>\n      <td>1</td>\n      <td>2020-03-20</td>\n    </tr>\n    <tr>\n      <th>...</th>\n      <td>...</td>\n      <td>...</td>\n      <td>...</td>\n    </tr>\n    <tr>\n      <th>286</th>\n      <td>2020-12-28</td>\n      <td>530</td>\n      <td>2020-12-28</td>\n    </tr>\n    <tr>\n      <th>287</th>\n      <td>2020-12-29</td>\n      <td>480</td>\n      <td>2020-12-29</td>\n    </tr>\n    <tr>\n      <th>288</th>\n      <td>2020-12-30</td>\n      <td>315</td>\n      <td>2020-12-30</td>\n    </tr>\n    <tr>\n      <th>289</th>\n      <td>2020-12-31</td>\n      <td>71</td>\n      <td>2020-12-31</td>\n    </tr>\n    <tr>\n      <th>290</th>\n      <td>2021-01-01</td>\n      <td>1</td>\n      <td>2021-01-01</td>\n    </tr>\n  </tbody>\n</table>\n<p>291 rows × 3 columns</p>\n</div>"
     },
     "metadata": {},
     "execution_count": 86
    }
   ],
   "source": [
    "defunciones_por_fecha = defunciones.groupby(\"FECHA_DEF\").size().to_frame(\"defunciones\").reset_index()\n",
    "defunciones_por_fecha[\"fecha_defuncion\"] = pd.to_datetime(defunciones_por_fecha[\"FECHA_DEF\"], format = \"%Y-%m-%d\")\n",
    "defunciones_por_fecha\n"
   ]
  },
  {
   "cell_type": "code",
   "execution_count": 87,
   "metadata": {},
   "outputs": [],
   "source": [
    "sospechosos_por_fecha = sospechosos.groupby(\"FECHA_SINTOMAS\").size().to_frame(\"sospechosos\").reset_index()\n",
    "sospechosos_por_fecha[\"fecha_sintomas\"] = pd.to_datetime(sospechosos_por_fecha[\"FECHA_SINTOMAS\"], format = \"%Y-%m-%d\")\n"
   ]
  },
  {
   "cell_type": "code",
   "execution_count": 88,
   "metadata": {},
   "outputs": [
    {
     "output_type": "display_data",
     "data": {
      "text/html": "\n    <div class=\"bk-root\">\n        <a href=\"https://bokeh.org\" target=\"_blank\" class=\"bk-logo bk-logo-small bk-logo-notebook\"></a>\n        <span id=\"1002\">Loading BokehJS ...</span>\n    </div>"
     },
     "metadata": {}
    },
    {
     "output_type": "display_data",
     "data": {
      "application/javascript": "\n(function(root) {\n  function now() {\n    return new Date();\n  }\n\n  var force = true;\n\n  if (typeof root._bokeh_onload_callbacks === \"undefined\" || force === true) {\n    root._bokeh_onload_callbacks = [];\n    root._bokeh_is_loading = undefined;\n  }\n\n  var JS_MIME_TYPE = 'application/javascript';\n  var HTML_MIME_TYPE = 'text/html';\n  var EXEC_MIME_TYPE = 'application/vnd.bokehjs_exec.v0+json';\n  var CLASS_NAME = 'output_bokeh rendered_html';\n\n  /**\n   * Render data to the DOM node\n   */\n  function render(props, node) {\n    var script = document.createElement(\"script\");\n    node.appendChild(script);\n  }\n\n  /**\n   * Handle when an output is cleared or removed\n   */\n  function handleClearOutput(event, handle) {\n    var cell = handle.cell;\n\n    var id = cell.output_area._bokeh_element_id;\n    var server_id = cell.output_area._bokeh_server_id;\n    // Clean up Bokeh references\n    if (id != null && id in Bokeh.index) {\n      Bokeh.index[id].model.document.clear();\n      delete Bokeh.index[id];\n    }\n\n    if (server_id !== undefined) {\n      // Clean up Bokeh references\n      var cmd = \"from bokeh.io.state import curstate; print(curstate().uuid_to_server['\" + server_id + \"'].get_sessions()[0].document.roots[0]._id)\";\n      cell.notebook.kernel.execute(cmd, {\n        iopub: {\n          output: function(msg) {\n            var id = msg.content.text.trim();\n            if (id in Bokeh.index) {\n              Bokeh.index[id].model.document.clear();\n              delete Bokeh.index[id];\n            }\n          }\n        }\n      });\n      // Destroy server and session\n      var cmd = \"import bokeh.io.notebook as ion; ion.destroy_server('\" + server_id + \"')\";\n      cell.notebook.kernel.execute(cmd);\n    }\n  }\n\n  /**\n   * Handle when a new output is added\n   */\n  function handleAddOutput(event, handle) {\n    var output_area = handle.output_area;\n    var output = handle.output;\n\n    // limit handleAddOutput to display_data with EXEC_MIME_TYPE content only\n    if ((output.output_type != \"display_data\") || (!output.data.hasOwnProperty(EXEC_MIME_TYPE))) {\n      return\n    }\n\n    var toinsert = output_area.element.find(\".\" + CLASS_NAME.split(' ')[0]);\n\n    if (output.metadata[EXEC_MIME_TYPE][\"id\"] !== undefined) {\n      toinsert[toinsert.length - 1].firstChild.textContent = output.data[JS_MIME_TYPE];\n      // store reference to embed id on output_area\n      output_area._bokeh_element_id = output.metadata[EXEC_MIME_TYPE][\"id\"];\n    }\n    if (output.metadata[EXEC_MIME_TYPE][\"server_id\"] !== undefined) {\n      var bk_div = document.createElement(\"div\");\n      bk_div.innerHTML = output.data[HTML_MIME_TYPE];\n      var script_attrs = bk_div.children[0].attributes;\n      for (var i = 0; i < script_attrs.length; i++) {\n        toinsert[toinsert.length - 1].firstChild.setAttribute(script_attrs[i].name, script_attrs[i].value);\n        toinsert[toinsert.length - 1].firstChild.textContent = bk_div.children[0].textContent\n      }\n      // store reference to server id on output_area\n      output_area._bokeh_server_id = output.metadata[EXEC_MIME_TYPE][\"server_id\"];\n    }\n  }\n\n  function register_renderer(events, OutputArea) {\n\n    function append_mime(data, metadata, element) {\n      // create a DOM node to render to\n      var toinsert = this.create_output_subarea(\n        metadata,\n        CLASS_NAME,\n        EXEC_MIME_TYPE\n      );\n      this.keyboard_manager.register_events(toinsert);\n      // Render to node\n      var props = {data: data, metadata: metadata[EXEC_MIME_TYPE]};\n      render(props, toinsert[toinsert.length - 1]);\n      element.append(toinsert);\n      return toinsert\n    }\n\n    /* Handle when an output is cleared or removed */\n    events.on('clear_output.CodeCell', handleClearOutput);\n    events.on('delete.Cell', handleClearOutput);\n\n    /* Handle when a new output is added */\n    events.on('output_added.OutputArea', handleAddOutput);\n\n    /**\n     * Register the mime type and append_mime function with output_area\n     */\n    OutputArea.prototype.register_mime_type(EXEC_MIME_TYPE, append_mime, {\n      /* Is output safe? */\n      safe: true,\n      /* Index of renderer in `output_area.display_order` */\n      index: 0\n    });\n  }\n\n  // register the mime type if in Jupyter Notebook environment and previously unregistered\n  if (root.Jupyter !== undefined) {\n    var events = require('base/js/events');\n    var OutputArea = require('notebook/js/outputarea').OutputArea;\n\n    if (OutputArea.prototype.mime_types().indexOf(EXEC_MIME_TYPE) == -1) {\n      register_renderer(events, OutputArea);\n    }\n  }\n\n  \n  if (typeof (root._bokeh_timeout) === \"undefined\" || force === true) {\n    root._bokeh_timeout = Date.now() + 5000;\n    root._bokeh_failed_load = false;\n  }\n\n  var NB_LOAD_WARNING = {'data': {'text/html':\n     \"<div style='background-color: #fdd'>\\n\"+\n     \"<p>\\n\"+\n     \"BokehJS does not appear to have successfully loaded. If loading BokehJS from CDN, this \\n\"+\n     \"may be due to a slow or bad network connection. Possible fixes:\\n\"+\n     \"</p>\\n\"+\n     \"<ul>\\n\"+\n     \"<li>re-rerun `output_notebook()` to attempt to load from CDN again, or</li>\\n\"+\n     \"<li>use INLINE resources instead, as so:</li>\\n\"+\n     \"</ul>\\n\"+\n     \"<code>\\n\"+\n     \"from bokeh.resources import INLINE\\n\"+\n     \"output_notebook(resources=INLINE)\\n\"+\n     \"</code>\\n\"+\n     \"</div>\"}};\n\n  function display_loaded() {\n    var el = document.getElementById(\"1002\");\n    if (el != null) {\n      el.textContent = \"BokehJS is loading...\";\n    }\n    if (root.Bokeh !== undefined) {\n      if (el != null) {\n        el.textContent = \"BokehJS \" + root.Bokeh.version + \" successfully loaded.\";\n      }\n    } else if (Date.now() < root._bokeh_timeout) {\n      setTimeout(display_loaded, 100)\n    }\n  }\n\n\n  function run_callbacks() {\n    try {\n      root._bokeh_onload_callbacks.forEach(function(callback) {\n        if (callback != null)\n          callback();\n      });\n    } finally {\n      delete root._bokeh_onload_callbacks\n    }\n    console.debug(\"Bokeh: all callbacks have finished\");\n  }\n\n  function load_libs(css_urls, js_urls, callback) {\n    if (css_urls == null) css_urls = [];\n    if (js_urls == null) js_urls = [];\n\n    root._bokeh_onload_callbacks.push(callback);\n    if (root._bokeh_is_loading > 0) {\n      console.debug(\"Bokeh: BokehJS is being loaded, scheduling callback at\", now());\n      return null;\n    }\n    if (js_urls == null || js_urls.length === 0) {\n      run_callbacks();\n      return null;\n    }\n    console.debug(\"Bokeh: BokehJS not loaded, scheduling load and callback at\", now());\n    root._bokeh_is_loading = css_urls.length + js_urls.length;\n\n    function on_load() {\n      root._bokeh_is_loading--;\n      if (root._bokeh_is_loading === 0) {\n        console.debug(\"Bokeh: all BokehJS libraries/stylesheets loaded\");\n        run_callbacks()\n      }\n    }\n\n    function on_error() {\n      console.error(\"failed to load \" + url);\n    }\n\n    for (var i = 0; i < css_urls.length; i++) {\n      var url = css_urls[i];\n      const element = document.createElement(\"link\");\n      element.onload = on_load;\n      element.onerror = on_error;\n      element.rel = \"stylesheet\";\n      element.type = \"text/css\";\n      element.href = url;\n      console.debug(\"Bokeh: injecting link tag for BokehJS stylesheet: \", url);\n      document.body.appendChild(element);\n    }\n\n    const hashes = {\"https://cdn.bokeh.org/bokeh/release/bokeh-2.2.3.min.js\": \"T2yuo9Oe71Cz/I4X9Ac5+gpEa5a8PpJCDlqKYO0CfAuEszu1JrXLl8YugMqYe3sM\", \"https://cdn.bokeh.org/bokeh/release/bokeh-widgets-2.2.3.min.js\": \"98GDGJ0kOMCUMUePhksaQ/GYgB3+NH9h996V88sh3aOiUNX3N+fLXAtry6xctSZ6\", \"https://cdn.bokeh.org/bokeh/release/bokeh-tables-2.2.3.min.js\": \"89bArO+nlbP3sgakeHjCo1JYxYR5wufVgA3IbUvDY+K7w4zyxJqssu7wVnfeKCq8\"};\n\n    for (var i = 0; i < js_urls.length; i++) {\n      var url = js_urls[i];\n      var element = document.createElement('script');\n      element.onload = on_load;\n      element.onerror = on_error;\n      element.async = false;\n      element.src = url;\n      if (url in hashes) {\n        element.crossOrigin = \"anonymous\";\n        element.integrity = \"sha384-\" + hashes[url];\n      }\n      console.debug(\"Bokeh: injecting script tag for BokehJS library: \", url);\n      document.head.appendChild(element);\n    }\n  };\n\n  function inject_raw_css(css) {\n    const element = document.createElement(\"style\");\n    element.appendChild(document.createTextNode(css));\n    document.body.appendChild(element);\n  }\n\n  \n  var js_urls = [\"https://cdn.bokeh.org/bokeh/release/bokeh-2.2.3.min.js\", \"https://cdn.bokeh.org/bokeh/release/bokeh-widgets-2.2.3.min.js\", \"https://cdn.bokeh.org/bokeh/release/bokeh-tables-2.2.3.min.js\"];\n  var css_urls = [];\n  \n\n  var inline_js = [\n    function(Bokeh) {\n      Bokeh.set_log_level(\"info\");\n    },\n    function(Bokeh) {\n    \n    \n    }\n  ];\n\n  function run_inline_js() {\n    \n    if (root.Bokeh !== undefined || force === true) {\n      \n    for (var i = 0; i < inline_js.length; i++) {\n      inline_js[i].call(root, root.Bokeh);\n    }\n    if (force === true) {\n        display_loaded();\n      }} else if (Date.now() < root._bokeh_timeout) {\n      setTimeout(run_inline_js, 100);\n    } else if (!root._bokeh_failed_load) {\n      console.log(\"Bokeh: BokehJS failed to load within specified timeout.\");\n      root._bokeh_failed_load = true;\n    } else if (force !== true) {\n      var cell = $(document.getElementById(\"1002\")).parents('.cell').data().cell;\n      cell.output_area.append_execute_result(NB_LOAD_WARNING)\n    }\n\n  }\n\n  if (root._bokeh_is_loading === 0) {\n    console.debug(\"Bokeh: BokehJS loaded, going straight to plotting\");\n    run_inline_js();\n  } else {\n    load_libs(css_urls, js_urls, function() {\n      console.debug(\"Bokeh: BokehJS plotting callback run at\", now());\n      run_inline_js();\n    });\n  }\n}(window));",
      "application/vnd.bokehjs_load.v0+json": "\n(function(root) {\n  function now() {\n    return new Date();\n  }\n\n  var force = true;\n\n  if (typeof root._bokeh_onload_callbacks === \"undefined\" || force === true) {\n    root._bokeh_onload_callbacks = [];\n    root._bokeh_is_loading = undefined;\n  }\n\n  \n\n  \n  if (typeof (root._bokeh_timeout) === \"undefined\" || force === true) {\n    root._bokeh_timeout = Date.now() + 5000;\n    root._bokeh_failed_load = false;\n  }\n\n  var NB_LOAD_WARNING = {'data': {'text/html':\n     \"<div style='background-color: #fdd'>\\n\"+\n     \"<p>\\n\"+\n     \"BokehJS does not appear to have successfully loaded. If loading BokehJS from CDN, this \\n\"+\n     \"may be due to a slow or bad network connection. Possible fixes:\\n\"+\n     \"</p>\\n\"+\n     \"<ul>\\n\"+\n     \"<li>re-rerun `output_notebook()` to attempt to load from CDN again, or</li>\\n\"+\n     \"<li>use INLINE resources instead, as so:</li>\\n\"+\n     \"</ul>\\n\"+\n     \"<code>\\n\"+\n     \"from bokeh.resources import INLINE\\n\"+\n     \"output_notebook(resources=INLINE)\\n\"+\n     \"</code>\\n\"+\n     \"</div>\"}};\n\n  function display_loaded() {\n    var el = document.getElementById(\"1002\");\n    if (el != null) {\n      el.textContent = \"BokehJS is loading...\";\n    }\n    if (root.Bokeh !== undefined) {\n      if (el != null) {\n        el.textContent = \"BokehJS \" + root.Bokeh.version + \" successfully loaded.\";\n      }\n    } else if (Date.now() < root._bokeh_timeout) {\n      setTimeout(display_loaded, 100)\n    }\n  }\n\n\n  function run_callbacks() {\n    try {\n      root._bokeh_onload_callbacks.forEach(function(callback) {\n        if (callback != null)\n          callback();\n      });\n    } finally {\n      delete root._bokeh_onload_callbacks\n    }\n    console.debug(\"Bokeh: all callbacks have finished\");\n  }\n\n  function load_libs(css_urls, js_urls, callback) {\n    if (css_urls == null) css_urls = [];\n    if (js_urls == null) js_urls = [];\n\n    root._bokeh_onload_callbacks.push(callback);\n    if (root._bokeh_is_loading > 0) {\n      console.debug(\"Bokeh: BokehJS is being loaded, scheduling callback at\", now());\n      return null;\n    }\n    if (js_urls == null || js_urls.length === 0) {\n      run_callbacks();\n      return null;\n    }\n    console.debug(\"Bokeh: BokehJS not loaded, scheduling load and callback at\", now());\n    root._bokeh_is_loading = css_urls.length + js_urls.length;\n\n    function on_load() {\n      root._bokeh_is_loading--;\n      if (root._bokeh_is_loading === 0) {\n        console.debug(\"Bokeh: all BokehJS libraries/stylesheets loaded\");\n        run_callbacks()\n      }\n    }\n\n    function on_error() {\n      console.error(\"failed to load \" + url);\n    }\n\n    for (var i = 0; i < css_urls.length; i++) {\n      var url = css_urls[i];\n      const element = document.createElement(\"link\");\n      element.onload = on_load;\n      element.onerror = on_error;\n      element.rel = \"stylesheet\";\n      element.type = \"text/css\";\n      element.href = url;\n      console.debug(\"Bokeh: injecting link tag for BokehJS stylesheet: \", url);\n      document.body.appendChild(element);\n    }\n\n    const hashes = {\"https://cdn.bokeh.org/bokeh/release/bokeh-2.2.3.min.js\": \"T2yuo9Oe71Cz/I4X9Ac5+gpEa5a8PpJCDlqKYO0CfAuEszu1JrXLl8YugMqYe3sM\", \"https://cdn.bokeh.org/bokeh/release/bokeh-widgets-2.2.3.min.js\": \"98GDGJ0kOMCUMUePhksaQ/GYgB3+NH9h996V88sh3aOiUNX3N+fLXAtry6xctSZ6\", \"https://cdn.bokeh.org/bokeh/release/bokeh-tables-2.2.3.min.js\": \"89bArO+nlbP3sgakeHjCo1JYxYR5wufVgA3IbUvDY+K7w4zyxJqssu7wVnfeKCq8\"};\n\n    for (var i = 0; i < js_urls.length; i++) {\n      var url = js_urls[i];\n      var element = document.createElement('script');\n      element.onload = on_load;\n      element.onerror = on_error;\n      element.async = false;\n      element.src = url;\n      if (url in hashes) {\n        element.crossOrigin = \"anonymous\";\n        element.integrity = \"sha384-\" + hashes[url];\n      }\n      console.debug(\"Bokeh: injecting script tag for BokehJS library: \", url);\n      document.head.appendChild(element);\n    }\n  };\n\n  function inject_raw_css(css) {\n    const element = document.createElement(\"style\");\n    element.appendChild(document.createTextNode(css));\n    document.body.appendChild(element);\n  }\n\n  \n  var js_urls = [\"https://cdn.bokeh.org/bokeh/release/bokeh-2.2.3.min.js\", \"https://cdn.bokeh.org/bokeh/release/bokeh-widgets-2.2.3.min.js\", \"https://cdn.bokeh.org/bokeh/release/bokeh-tables-2.2.3.min.js\"];\n  var css_urls = [];\n  \n\n  var inline_js = [\n    function(Bokeh) {\n      Bokeh.set_log_level(\"info\");\n    },\n    function(Bokeh) {\n    \n    \n    }\n  ];\n\n  function run_inline_js() {\n    \n    if (root.Bokeh !== undefined || force === true) {\n      \n    for (var i = 0; i < inline_js.length; i++) {\n      inline_js[i].call(root, root.Bokeh);\n    }\n    if (force === true) {\n        display_loaded();\n      }} else if (Date.now() < root._bokeh_timeout) {\n      setTimeout(run_inline_js, 100);\n    } else if (!root._bokeh_failed_load) {\n      console.log(\"Bokeh: BokehJS failed to load within specified timeout.\");\n      root._bokeh_failed_load = true;\n    } else if (force !== true) {\n      var cell = $(document.getElementById(\"1002\")).parents('.cell').data().cell;\n      cell.output_area.append_execute_result(NB_LOAD_WARNING)\n    }\n\n  }\n\n  if (root._bokeh_is_loading === 0) {\n    console.debug(\"Bokeh: BokehJS loaded, going straight to plotting\");\n    run_inline_js();\n  } else {\n    load_libs(css_urls, js_urls, function() {\n      console.debug(\"Bokeh: BokehJS plotting callback run at\", now());\n      run_inline_js();\n    });\n  }\n}(window));"
     },
     "metadata": {}
    }
   ],
   "source": [
    "bpl.output_notebook()"
   ]
  },
  {
   "cell_type": "code",
   "execution_count": 119,
   "metadata": {},
   "outputs": [
    {
     "output_type": "display_data",
     "data": {
      "application/vnd.plotly.v1+json": {
       "config": {
        "plotlyServerURL": "https://plot.ly"
       },
       "data": [
        {
         "hovertemplate": "x=%{x}<br>y=%{y}<extra></extra>",
         "legendgroup": "",
         "line": {
          "color": "#b4004e",
          "dash": "solid",
          "width": 2
         },
         "marker": {
          "color": "#b4004e"
         },
         "mode": "lines",
         "name": "",
         "orientation": "v",
         "showlegend": false,
         "type": "scatter",
         "x": [
          "2020-01-13T00:00:00",
          "2020-01-28T00:00:00",
          "2020-01-29T00:00:00",
          "2020-02-10T00:00:00",
          "2020-02-20T00:00:00",
          "2020-02-24T00:00:00",
          "2020-02-27T00:00:00",
          "2020-02-28T00:00:00",
          "2020-02-29T00:00:00",
          "2020-03-02T00:00:00",
          "2020-03-03T00:00:00",
          "2020-03-04T00:00:00",
          "2020-03-05T00:00:00",
          "2020-03-07T00:00:00",
          "2020-03-08T00:00:00",
          "2020-03-09T00:00:00",
          "2020-03-10T00:00:00",
          "2020-03-11T00:00:00",
          "2020-03-12T00:00:00",
          "2020-03-13T00:00:00",
          "2020-03-14T00:00:00",
          "2020-03-15T00:00:00",
          "2020-03-16T00:00:00",
          "2020-03-17T00:00:00",
          "2020-03-18T00:00:00",
          "2020-03-19T00:00:00",
          "2020-03-20T00:00:00",
          "2020-03-21T00:00:00",
          "2020-03-22T00:00:00",
          "2020-03-23T00:00:00",
          "2020-03-24T00:00:00",
          "2020-03-25T00:00:00",
          "2020-03-26T00:00:00",
          "2020-03-27T00:00:00",
          "2020-03-28T00:00:00",
          "2020-03-29T00:00:00",
          "2020-03-30T00:00:00",
          "2020-03-31T00:00:00",
          "2020-04-01T00:00:00",
          "2020-04-02T00:00:00",
          "2020-04-03T00:00:00",
          "2020-04-04T00:00:00",
          "2020-04-05T00:00:00",
          "2020-04-06T00:00:00",
          "2020-04-07T00:00:00",
          "2020-04-08T00:00:00",
          "2020-04-09T00:00:00",
          "2020-04-10T00:00:00",
          "2020-04-11T00:00:00",
          "2020-04-12T00:00:00",
          "2020-04-13T00:00:00",
          "2020-04-14T00:00:00",
          "2020-04-15T00:00:00",
          "2020-04-16T00:00:00",
          "2020-04-17T00:00:00",
          "2020-04-18T00:00:00",
          "2020-04-19T00:00:00",
          "2020-04-20T00:00:00",
          "2020-04-21T00:00:00",
          "2020-04-22T00:00:00",
          "2020-04-23T00:00:00",
          "2020-04-24T00:00:00",
          "2020-04-25T00:00:00",
          "2020-04-26T00:00:00",
          "2020-04-27T00:00:00",
          "2020-04-28T00:00:00",
          "2020-04-29T00:00:00",
          "2020-04-30T00:00:00",
          "2020-05-01T00:00:00",
          "2020-05-02T00:00:00",
          "2020-05-03T00:00:00",
          "2020-05-04T00:00:00",
          "2020-05-05T00:00:00",
          "2020-05-06T00:00:00",
          "2020-05-07T00:00:00",
          "2020-05-08T00:00:00",
          "2020-05-09T00:00:00",
          "2020-05-10T00:00:00",
          "2020-05-11T00:00:00",
          "2020-05-12T00:00:00",
          "2020-05-13T00:00:00",
          "2020-05-14T00:00:00",
          "2020-05-15T00:00:00",
          "2020-05-16T00:00:00",
          "2020-05-17T00:00:00",
          "2020-05-18T00:00:00",
          "2020-05-19T00:00:00",
          "2020-05-20T00:00:00",
          "2020-05-21T00:00:00",
          "2020-05-22T00:00:00",
          "2020-05-23T00:00:00",
          "2020-05-24T00:00:00",
          "2020-05-25T00:00:00",
          "2020-05-26T00:00:00",
          "2020-05-27T00:00:00",
          "2020-05-28T00:00:00",
          "2020-05-29T00:00:00",
          "2020-05-30T00:00:00",
          "2020-05-31T00:00:00",
          "2020-06-01T00:00:00",
          "2020-06-02T00:00:00",
          "2020-06-03T00:00:00",
          "2020-06-04T00:00:00",
          "2020-06-05T00:00:00",
          "2020-06-06T00:00:00",
          "2020-06-07T00:00:00",
          "2020-06-08T00:00:00",
          "2020-06-09T00:00:00",
          "2020-06-10T00:00:00",
          "2020-06-11T00:00:00",
          "2020-06-12T00:00:00",
          "2020-06-13T00:00:00",
          "2020-06-14T00:00:00",
          "2020-06-15T00:00:00",
          "2020-06-16T00:00:00",
          "2020-06-17T00:00:00",
          "2020-06-18T00:00:00",
          "2020-06-19T00:00:00",
          "2020-06-20T00:00:00",
          "2020-06-21T00:00:00",
          "2020-06-22T00:00:00",
          "2020-06-23T00:00:00",
          "2020-06-24T00:00:00",
          "2020-06-25T00:00:00",
          "2020-06-26T00:00:00",
          "2020-06-27T00:00:00",
          "2020-06-28T00:00:00",
          "2020-06-29T00:00:00",
          "2020-06-30T00:00:00",
          "2020-07-01T00:00:00",
          "2020-07-02T00:00:00",
          "2020-07-03T00:00:00",
          "2020-07-04T00:00:00",
          "2020-07-05T00:00:00",
          "2020-07-06T00:00:00",
          "2020-07-07T00:00:00",
          "2020-07-08T00:00:00",
          "2020-07-09T00:00:00",
          "2020-07-10T00:00:00",
          "2020-07-11T00:00:00",
          "2020-07-12T00:00:00",
          "2020-07-13T00:00:00",
          "2020-07-14T00:00:00",
          "2020-07-15T00:00:00",
          "2020-07-16T00:00:00",
          "2020-07-17T00:00:00",
          "2020-07-18T00:00:00",
          "2020-07-19T00:00:00",
          "2020-07-20T00:00:00",
          "2020-07-21T00:00:00",
          "2020-07-22T00:00:00",
          "2020-07-23T00:00:00",
          "2020-07-24T00:00:00",
          "2020-07-25T00:00:00",
          "2020-07-26T00:00:00",
          "2020-07-27T00:00:00",
          "2020-07-28T00:00:00",
          "2020-07-29T00:00:00",
          "2020-07-30T00:00:00",
          "2020-07-31T00:00:00",
          "2020-08-01T00:00:00",
          "2020-08-02T00:00:00",
          "2020-08-03T00:00:00",
          "2020-08-04T00:00:00",
          "2020-08-05T00:00:00",
          "2020-08-06T00:00:00",
          "2020-08-07T00:00:00",
          "2020-08-08T00:00:00",
          "2020-08-09T00:00:00",
          "2020-08-10T00:00:00",
          "2020-08-11T00:00:00",
          "2020-08-12T00:00:00",
          "2020-08-13T00:00:00",
          "2020-08-14T00:00:00",
          "2020-08-15T00:00:00",
          "2020-08-16T00:00:00",
          "2020-08-17T00:00:00",
          "2020-08-18T00:00:00",
          "2020-08-19T00:00:00",
          "2020-08-20T00:00:00",
          "2020-08-21T00:00:00",
          "2020-08-22T00:00:00",
          "2020-08-23T00:00:00",
          "2020-08-24T00:00:00",
          "2020-08-25T00:00:00",
          "2020-08-26T00:00:00",
          "2020-08-27T00:00:00",
          "2020-08-28T00:00:00",
          "2020-08-29T00:00:00",
          "2020-08-30T00:00:00",
          "2020-08-31T00:00:00",
          "2020-09-01T00:00:00",
          "2020-09-02T00:00:00",
          "2020-09-03T00:00:00",
          "2020-09-04T00:00:00",
          "2020-09-05T00:00:00",
          "2020-09-06T00:00:00",
          "2020-09-07T00:00:00",
          "2020-09-08T00:00:00",
          "2020-09-09T00:00:00",
          "2020-09-10T00:00:00",
          "2020-09-11T00:00:00",
          "2020-09-12T00:00:00",
          "2020-09-13T00:00:00",
          "2020-09-14T00:00:00",
          "2020-09-15T00:00:00",
          "2020-09-16T00:00:00",
          "2020-09-17T00:00:00",
          "2020-09-18T00:00:00",
          "2020-09-19T00:00:00",
          "2020-09-20T00:00:00",
          "2020-09-21T00:00:00",
          "2020-09-22T00:00:00",
          "2020-09-23T00:00:00",
          "2020-09-24T00:00:00",
          "2020-09-25T00:00:00",
          "2020-09-26T00:00:00",
          "2020-09-27T00:00:00",
          "2020-09-28T00:00:00",
          "2020-09-29T00:00:00",
          "2020-09-30T00:00:00",
          "2020-10-01T00:00:00",
          "2020-10-02T00:00:00",
          "2020-10-03T00:00:00",
          "2020-10-04T00:00:00",
          "2020-10-05T00:00:00",
          "2020-10-06T00:00:00",
          "2020-10-07T00:00:00",
          "2020-10-08T00:00:00",
          "2020-10-09T00:00:00",
          "2020-10-10T00:00:00",
          "2020-10-11T00:00:00",
          "2020-10-12T00:00:00",
          "2020-10-13T00:00:00",
          "2020-10-14T00:00:00",
          "2020-10-15T00:00:00",
          "2020-10-16T00:00:00",
          "2020-10-17T00:00:00",
          "2020-10-18T00:00:00",
          "2020-10-19T00:00:00",
          "2020-10-20T00:00:00",
          "2020-10-21T00:00:00",
          "2020-10-22T00:00:00",
          "2020-10-23T00:00:00",
          "2020-10-24T00:00:00",
          "2020-10-25T00:00:00",
          "2020-10-26T00:00:00",
          "2020-10-27T00:00:00",
          "2020-10-28T00:00:00",
          "2020-10-29T00:00:00",
          "2020-10-30T00:00:00",
          "2020-10-31T00:00:00",
          "2020-11-01T00:00:00",
          "2020-11-02T00:00:00",
          "2020-11-03T00:00:00",
          "2020-11-04T00:00:00",
          "2020-11-05T00:00:00",
          "2020-11-06T00:00:00",
          "2020-11-07T00:00:00",
          "2020-11-08T00:00:00",
          "2020-11-09T00:00:00",
          "2020-11-10T00:00:00",
          "2020-11-11T00:00:00",
          "2020-11-12T00:00:00",
          "2020-11-13T00:00:00",
          "2020-11-14T00:00:00",
          "2020-11-15T00:00:00",
          "2020-11-16T00:00:00",
          "2020-11-17T00:00:00",
          "2020-11-18T00:00:00",
          "2020-11-19T00:00:00",
          "2020-11-20T00:00:00",
          "2020-11-21T00:00:00",
          "2020-11-22T00:00:00",
          "2020-11-23T00:00:00",
          "2020-11-24T00:00:00",
          "2020-11-25T00:00:00",
          "2020-11-26T00:00:00",
          "2020-11-27T00:00:00",
          "2020-11-28T00:00:00",
          "2020-11-29T00:00:00",
          "2020-11-30T00:00:00",
          "2020-12-01T00:00:00",
          "2020-12-02T00:00:00",
          "2020-12-03T00:00:00",
          "2020-12-04T00:00:00",
          "2020-12-05T00:00:00",
          "2020-12-06T00:00:00",
          "2020-12-07T00:00:00",
          "2020-12-08T00:00:00",
          "2020-12-09T00:00:00",
          "2020-12-10T00:00:00",
          "2020-12-11T00:00:00",
          "2020-12-12T00:00:00",
          "2020-12-13T00:00:00",
          "2020-12-14T00:00:00",
          "2020-12-15T00:00:00",
          "2020-12-16T00:00:00",
          "2020-12-17T00:00:00",
          "2020-12-18T00:00:00",
          "2020-12-19T00:00:00",
          "2020-12-20T00:00:00",
          "2020-12-21T00:00:00",
          "2020-12-22T00:00:00",
          "2020-12-23T00:00:00",
          "2020-12-24T00:00:00",
          "2020-12-25T00:00:00",
          "2020-12-26T00:00:00",
          "2020-12-27T00:00:00",
          "2020-12-28T00:00:00",
          "2020-12-29T00:00:00",
          "2020-12-30T00:00:00",
          "2020-12-31T00:00:00",
          "2021-01-01T00:00:00"
         ],
         "xaxis": "x",
         "y": [
          1,
          1,
          1,
          1,
          1,
          2,
          5,
          3,
          1,
          2,
          3,
          2,
          3,
          1,
          4,
          2,
          11,
          29,
          29,
          60,
          50,
          36,
          70,
          97,
          105,
          149,
          129,
          81,
          65,
          155,
          220,
          174,
          209,
          248,
          181,
          153,
          329,
          295,
          355,
          328,
          369,
          233,
          243,
          595,
          493,
          546,
          440,
          528,
          440,
          446,
          900,
          884,
          928,
          948,
          1087,
          763,
          722,
          1438,
          1391,
          1325,
          1419,
          1636,
          1058,
          1013,
          1821,
          1830,
          1789,
          1801,
          1419,
          1366,
          1255,
          2522,
          2107,
          2282,
          2406,
          2421,
          1527,
          1423,
          2964,
          2937,
          3116,
          3076,
          3478,
          2169,
          1638,
          4031,
          3575,
          3902,
          4005,
          3992,
          2279,
          1875,
          4623,
          4334,
          4464,
          4221,
          4369,
          2729,
          2078,
          5286,
          4755,
          4948,
          4908,
          5043,
          3015,
          2340,
          6153,
          5765,
          5731,
          5391,
          5625,
          3069,
          2588,
          6553,
          6406,
          6124,
          6080,
          6111,
          3564,
          2464,
          6875,
          6614,
          6297,
          6278,
          6529,
          3665,
          2944,
          7505,
          7194,
          7597,
          7048,
          7069,
          3648,
          2983,
          7823,
          7875,
          7435,
          7130,
          7186,
          3850,
          3230,
          8824,
          8460,
          8791,
          8233,
          7951,
          4384,
          3416,
          9088,
          8634,
          8297,
          8055,
          8001,
          4142,
          2995,
          8451,
          8162,
          7659,
          7567,
          6693,
          3782,
          2503,
          7468,
          7365,
          7161,
          6679,
          6594,
          3664,
          2387,
          7175,
          6866,
          6420,
          6389,
          6179,
          3213,
          2307,
          6865,
          6664,
          6259,
          5977,
          6281,
          3113,
          2304,
          7002,
          6597,
          7009,
          6422,
          6307,
          3109,
          2170,
          6937,
          7061,
          6893,
          6241,
          6003,
          2828,
          2050,
          6327,
          6551,
          5992,
          5650,
          5440,
          2740,
          1843,
          6182,
          4268,
          2153,
          6307,
          5658,
          2751,
          1759,
          6235,
          6098,
          5681,
          5321,
          5271,
          2619,
          1758,
          6161,
          5976,
          5496,
          5229,
          4970,
          2383,
          1693,
          5756,
          5897,
          5648,
          5466,
          5664,
          2962,
          2124,
          6662,
          6991,
          6411,
          6369,
          6520,
          3212,
          2206,
          8063,
          8243,
          7237,
          7112,
          7105,
          3380,
          2361,
          8159,
          7836,
          6984,
          6648,
          6180,
          2864,
          2016,
          4960,
          7898,
          7342,
          7264,
          6833,
          3342,
          2430,
          8261,
          8235,
          8142,
          7969,
          7402,
          3717,
          2504,
          3027,
          9303,
          8536,
          8096,
          8147,
          4045,
          2620,
          9956,
          10024,
          9291,
          9425,
          9286,
          4683,
          2870,
          10612,
          11014,
          11043,
          10669,
          10334,
          5456,
          2937,
          12239,
          12375,
          11675,
          11758,
          11660,
          6096,
          3095,
          13147,
          12943,
          12014,
          11476,
          11021,
          5664,
          3324,
          12663,
          11941,
          10004,
          7987,
          2041,
          4307,
          3202,
          10332,
          8691,
          5927,
          3340,
          1
         ],
         "yaxis": "y"
        }
       ],
       "layout": {
        "height": 600,
        "legend": {
         "tracegroupgap": 0
        },
        "template": {
         "data": {
          "bar": [
           {
            "error_x": {
             "color": "#2a3f5f"
            },
            "error_y": {
             "color": "#2a3f5f"
            },
            "marker": {
             "line": {
              "color": "white",
              "width": 0.5
             }
            },
            "type": "bar"
           }
          ],
          "barpolar": [
           {
            "marker": {
             "line": {
              "color": "white",
              "width": 0.5
             }
            },
            "type": "barpolar"
           }
          ],
          "carpet": [
           {
            "aaxis": {
             "endlinecolor": "#2a3f5f",
             "gridcolor": "#C8D4E3",
             "linecolor": "#C8D4E3",
             "minorgridcolor": "#C8D4E3",
             "startlinecolor": "#2a3f5f"
            },
            "baxis": {
             "endlinecolor": "#2a3f5f",
             "gridcolor": "#C8D4E3",
             "linecolor": "#C8D4E3",
             "minorgridcolor": "#C8D4E3",
             "startlinecolor": "#2a3f5f"
            },
            "type": "carpet"
           }
          ],
          "choropleth": [
           {
            "colorbar": {
             "outlinewidth": 0,
             "ticks": ""
            },
            "type": "choropleth"
           }
          ],
          "contour": [
           {
            "colorbar": {
             "outlinewidth": 0,
             "ticks": ""
            },
            "colorscale": [
             [
              0,
              "#0d0887"
             ],
             [
              0.1111111111111111,
              "#46039f"
             ],
             [
              0.2222222222222222,
              "#7201a8"
             ],
             [
              0.3333333333333333,
              "#9c179e"
             ],
             [
              0.4444444444444444,
              "#bd3786"
             ],
             [
              0.5555555555555556,
              "#d8576b"
             ],
             [
              0.6666666666666666,
              "#ed7953"
             ],
             [
              0.7777777777777778,
              "#fb9f3a"
             ],
             [
              0.8888888888888888,
              "#fdca26"
             ],
             [
              1,
              "#f0f921"
             ]
            ],
            "type": "contour"
           }
          ],
          "contourcarpet": [
           {
            "colorbar": {
             "outlinewidth": 0,
             "ticks": ""
            },
            "type": "contourcarpet"
           }
          ],
          "heatmap": [
           {
            "colorbar": {
             "outlinewidth": 0,
             "ticks": ""
            },
            "colorscale": [
             [
              0,
              "#0d0887"
             ],
             [
              0.1111111111111111,
              "#46039f"
             ],
             [
              0.2222222222222222,
              "#7201a8"
             ],
             [
              0.3333333333333333,
              "#9c179e"
             ],
             [
              0.4444444444444444,
              "#bd3786"
             ],
             [
              0.5555555555555556,
              "#d8576b"
             ],
             [
              0.6666666666666666,
              "#ed7953"
             ],
             [
              0.7777777777777778,
              "#fb9f3a"
             ],
             [
              0.8888888888888888,
              "#fdca26"
             ],
             [
              1,
              "#f0f921"
             ]
            ],
            "type": "heatmap"
           }
          ],
          "heatmapgl": [
           {
            "colorbar": {
             "outlinewidth": 0,
             "ticks": ""
            },
            "colorscale": [
             [
              0,
              "#0d0887"
             ],
             [
              0.1111111111111111,
              "#46039f"
             ],
             [
              0.2222222222222222,
              "#7201a8"
             ],
             [
              0.3333333333333333,
              "#9c179e"
             ],
             [
              0.4444444444444444,
              "#bd3786"
             ],
             [
              0.5555555555555556,
              "#d8576b"
             ],
             [
              0.6666666666666666,
              "#ed7953"
             ],
             [
              0.7777777777777778,
              "#fb9f3a"
             ],
             [
              0.8888888888888888,
              "#fdca26"
             ],
             [
              1,
              "#f0f921"
             ]
            ],
            "type": "heatmapgl"
           }
          ],
          "histogram": [
           {
            "marker": {
             "colorbar": {
              "outlinewidth": 0,
              "ticks": ""
             }
            },
            "type": "histogram"
           }
          ],
          "histogram2d": [
           {
            "colorbar": {
             "outlinewidth": 0,
             "ticks": ""
            },
            "colorscale": [
             [
              0,
              "#0d0887"
             ],
             [
              0.1111111111111111,
              "#46039f"
             ],
             [
              0.2222222222222222,
              "#7201a8"
             ],
             [
              0.3333333333333333,
              "#9c179e"
             ],
             [
              0.4444444444444444,
              "#bd3786"
             ],
             [
              0.5555555555555556,
              "#d8576b"
             ],
             [
              0.6666666666666666,
              "#ed7953"
             ],
             [
              0.7777777777777778,
              "#fb9f3a"
             ],
             [
              0.8888888888888888,
              "#fdca26"
             ],
             [
              1,
              "#f0f921"
             ]
            ],
            "type": "histogram2d"
           }
          ],
          "histogram2dcontour": [
           {
            "colorbar": {
             "outlinewidth": 0,
             "ticks": ""
            },
            "colorscale": [
             [
              0,
              "#0d0887"
             ],
             [
              0.1111111111111111,
              "#46039f"
             ],
             [
              0.2222222222222222,
              "#7201a8"
             ],
             [
              0.3333333333333333,
              "#9c179e"
             ],
             [
              0.4444444444444444,
              "#bd3786"
             ],
             [
              0.5555555555555556,
              "#d8576b"
             ],
             [
              0.6666666666666666,
              "#ed7953"
             ],
             [
              0.7777777777777778,
              "#fb9f3a"
             ],
             [
              0.8888888888888888,
              "#fdca26"
             ],
             [
              1,
              "#f0f921"
             ]
            ],
            "type": "histogram2dcontour"
           }
          ],
          "mesh3d": [
           {
            "colorbar": {
             "outlinewidth": 0,
             "ticks": ""
            },
            "type": "mesh3d"
           }
          ],
          "parcoords": [
           {
            "line": {
             "colorbar": {
              "outlinewidth": 0,
              "ticks": ""
             }
            },
            "type": "parcoords"
           }
          ],
          "pie": [
           {
            "automargin": true,
            "type": "pie"
           }
          ],
          "scatter": [
           {
            "marker": {
             "colorbar": {
              "outlinewidth": 0,
              "ticks": ""
             }
            },
            "type": "scatter"
           }
          ],
          "scatter3d": [
           {
            "line": {
             "colorbar": {
              "outlinewidth": 0,
              "ticks": ""
             }
            },
            "marker": {
             "colorbar": {
              "outlinewidth": 0,
              "ticks": ""
             }
            },
            "type": "scatter3d"
           }
          ],
          "scattercarpet": [
           {
            "marker": {
             "colorbar": {
              "outlinewidth": 0,
              "ticks": ""
             }
            },
            "type": "scattercarpet"
           }
          ],
          "scattergeo": [
           {
            "marker": {
             "colorbar": {
              "outlinewidth": 0,
              "ticks": ""
             }
            },
            "type": "scattergeo"
           }
          ],
          "scattergl": [
           {
            "marker": {
             "colorbar": {
              "outlinewidth": 0,
              "ticks": ""
             }
            },
            "type": "scattergl"
           }
          ],
          "scattermapbox": [
           {
            "marker": {
             "colorbar": {
              "outlinewidth": 0,
              "ticks": ""
             }
            },
            "type": "scattermapbox"
           }
          ],
          "scatterpolar": [
           {
            "marker": {
             "colorbar": {
              "outlinewidth": 0,
              "ticks": ""
             }
            },
            "type": "scatterpolar"
           }
          ],
          "scatterpolargl": [
           {
            "marker": {
             "colorbar": {
              "outlinewidth": 0,
              "ticks": ""
             }
            },
            "type": "scatterpolargl"
           }
          ],
          "scatterternary": [
           {
            "marker": {
             "colorbar": {
              "outlinewidth": 0,
              "ticks": ""
             }
            },
            "type": "scatterternary"
           }
          ],
          "surface": [
           {
            "colorbar": {
             "outlinewidth": 0,
             "ticks": ""
            },
            "colorscale": [
             [
              0,
              "#0d0887"
             ],
             [
              0.1111111111111111,
              "#46039f"
             ],
             [
              0.2222222222222222,
              "#7201a8"
             ],
             [
              0.3333333333333333,
              "#9c179e"
             ],
             [
              0.4444444444444444,
              "#bd3786"
             ],
             [
              0.5555555555555556,
              "#d8576b"
             ],
             [
              0.6666666666666666,
              "#ed7953"
             ],
             [
              0.7777777777777778,
              "#fb9f3a"
             ],
             [
              0.8888888888888888,
              "#fdca26"
             ],
             [
              1,
              "#f0f921"
             ]
            ],
            "type": "surface"
           }
          ],
          "table": [
           {
            "cells": {
             "fill": {
              "color": "#EBF0F8"
             },
             "line": {
              "color": "white"
             }
            },
            "header": {
             "fill": {
              "color": "#C8D4E3"
             },
             "line": {
              "color": "white"
             }
            },
            "type": "table"
           }
          ]
         },
         "layout": {
          "annotationdefaults": {
           "arrowcolor": "#2a3f5f",
           "arrowhead": 0,
           "arrowwidth": 1
          },
          "coloraxis": {
           "colorbar": {
            "outlinewidth": 0,
            "ticks": ""
           }
          },
          "colorscale": {
           "diverging": [
            [
             0,
             "#8e0152"
            ],
            [
             0.1,
             "#c51b7d"
            ],
            [
             0.2,
             "#de77ae"
            ],
            [
             0.3,
             "#f1b6da"
            ],
            [
             0.4,
             "#fde0ef"
            ],
            [
             0.5,
             "#f7f7f7"
            ],
            [
             0.6,
             "#e6f5d0"
            ],
            [
             0.7,
             "#b8e186"
            ],
            [
             0.8,
             "#7fbc41"
            ],
            [
             0.9,
             "#4d9221"
            ],
            [
             1,
             "#276419"
            ]
           ],
           "sequential": [
            [
             0,
             "#0d0887"
            ],
            [
             0.1111111111111111,
             "#46039f"
            ],
            [
             0.2222222222222222,
             "#7201a8"
            ],
            [
             0.3333333333333333,
             "#9c179e"
            ],
            [
             0.4444444444444444,
             "#bd3786"
            ],
            [
             0.5555555555555556,
             "#d8576b"
            ],
            [
             0.6666666666666666,
             "#ed7953"
            ],
            [
             0.7777777777777778,
             "#fb9f3a"
            ],
            [
             0.8888888888888888,
             "#fdca26"
            ],
            [
             1,
             "#f0f921"
            ]
           ],
           "sequentialminus": [
            [
             0,
             "#0d0887"
            ],
            [
             0.1111111111111111,
             "#46039f"
            ],
            [
             0.2222222222222222,
             "#7201a8"
            ],
            [
             0.3333333333333333,
             "#9c179e"
            ],
            [
             0.4444444444444444,
             "#bd3786"
            ],
            [
             0.5555555555555556,
             "#d8576b"
            ],
            [
             0.6666666666666666,
             "#ed7953"
            ],
            [
             0.7777777777777778,
             "#fb9f3a"
            ],
            [
             0.8888888888888888,
             "#fdca26"
            ],
            [
             1,
             "#f0f921"
            ]
           ]
          },
          "colorway": [
           "#636efa",
           "#EF553B",
           "#00cc96",
           "#ab63fa",
           "#FFA15A",
           "#19d3f3",
           "#FF6692",
           "#B6E880",
           "#FF97FF",
           "#FECB52"
          ],
          "font": {
           "color": "#2a3f5f"
          },
          "geo": {
           "bgcolor": "white",
           "lakecolor": "white",
           "landcolor": "white",
           "showlakes": true,
           "showland": true,
           "subunitcolor": "#C8D4E3"
          },
          "hoverlabel": {
           "align": "left"
          },
          "hovermode": "closest",
          "mapbox": {
           "style": "light"
          },
          "paper_bgcolor": "white",
          "plot_bgcolor": "white",
          "polar": {
           "angularaxis": {
            "gridcolor": "#EBF0F8",
            "linecolor": "#EBF0F8",
            "ticks": ""
           },
           "bgcolor": "white",
           "radialaxis": {
            "gridcolor": "#EBF0F8",
            "linecolor": "#EBF0F8",
            "ticks": ""
           }
          },
          "scene": {
           "xaxis": {
            "backgroundcolor": "white",
            "gridcolor": "#DFE8F3",
            "gridwidth": 2,
            "linecolor": "#EBF0F8",
            "showbackground": true,
            "ticks": "",
            "zerolinecolor": "#EBF0F8"
           },
           "yaxis": {
            "backgroundcolor": "white",
            "gridcolor": "#DFE8F3",
            "gridwidth": 2,
            "linecolor": "#EBF0F8",
            "showbackground": true,
            "ticks": "",
            "zerolinecolor": "#EBF0F8"
           },
           "zaxis": {
            "backgroundcolor": "white",
            "gridcolor": "#DFE8F3",
            "gridwidth": 2,
            "linecolor": "#EBF0F8",
            "showbackground": true,
            "ticks": "",
            "zerolinecolor": "#EBF0F8"
           }
          },
          "shapedefaults": {
           "line": {
            "color": "#2a3f5f"
           }
          },
          "ternary": {
           "aaxis": {
            "gridcolor": "#DFE8F3",
            "linecolor": "#A2B1C6",
            "ticks": ""
           },
           "baxis": {
            "gridcolor": "#DFE8F3",
            "linecolor": "#A2B1C6",
            "ticks": ""
           },
           "bgcolor": "white",
           "caxis": {
            "gridcolor": "#DFE8F3",
            "linecolor": "#A2B1C6",
            "ticks": ""
           }
          },
          "title": {
           "x": 0.05
          },
          "xaxis": {
           "automargin": true,
           "gridcolor": "#EBF0F8",
           "linecolor": "#EBF0F8",
           "ticks": "",
           "title": {
            "standoff": 15
           },
           "zerolinecolor": "#EBF0F8",
           "zerolinewidth": 2
          },
          "yaxis": {
           "automargin": true,
           "gridcolor": "#EBF0F8",
           "linecolor": "#EBF0F8",
           "ticks": "",
           "title": {
            "standoff": 15
           },
           "zerolinecolor": "#EBF0F8",
           "zerolinewidth": 2
          }
         }
        },
        "title": {
         "text": "Casos de COVID-19 en México"
        },
        "width": 1500,
        "xaxis": {
         "anchor": "y",
         "domain": [
          0,
          1
         ],
         "showgrid": true,
         "title": {
          "text": "Fecha de registro"
         }
        },
        "yaxis": {
         "anchor": "x",
         "domain": [
          0,
          1
         ],
         "showgrid": true,
         "title": {
          "text": "Casos confirmados"
         }
        }
       }
      }
     },
     "metadata": {}
    },
    {
     "output_type": "display_data",
     "data": {
      "application/vnd.plotly.v1+json": {
       "config": {
        "plotlyServerURL": "https://plot.ly"
       },
       "data": [
        {
         "hovertemplate": "x=%{x}<br>y=%{y}<extra></extra>",
         "legendgroup": "",
         "line": {
          "color": "black",
          "dash": "solid",
          "width": 2
         },
         "marker": {
          "color": "black"
         },
         "mode": "lines",
         "name": "",
         "orientation": "v",
         "showlegend": false,
         "type": "scatter",
         "x": [
          "2020-03-03T00:00:00",
          "2020-03-13T00:00:00",
          "2020-03-17T00:00:00",
          "2020-03-18T00:00:00",
          "2020-03-20T00:00:00",
          "2020-03-22T00:00:00",
          "2020-03-23T00:00:00",
          "2020-03-24T00:00:00",
          "2020-03-25T00:00:00",
          "2020-03-26T00:00:00",
          "2020-03-27T00:00:00",
          "2020-03-28T00:00:00",
          "2020-03-29T00:00:00",
          "2020-03-30T00:00:00",
          "2020-03-31T00:00:00",
          "2020-04-01T00:00:00",
          "2020-04-02T00:00:00",
          "2020-04-03T00:00:00",
          "2020-04-04T00:00:00",
          "2020-04-05T00:00:00",
          "2020-04-06T00:00:00",
          "2020-04-07T00:00:00",
          "2020-04-08T00:00:00",
          "2020-04-09T00:00:00",
          "2020-04-10T00:00:00",
          "2020-04-11T00:00:00",
          "2020-04-12T00:00:00",
          "2020-04-13T00:00:00",
          "2020-04-14T00:00:00",
          "2020-04-15T00:00:00",
          "2020-04-16T00:00:00",
          "2020-04-17T00:00:00",
          "2020-04-18T00:00:00",
          "2020-04-19T00:00:00",
          "2020-04-20T00:00:00",
          "2020-04-21T00:00:00",
          "2020-04-22T00:00:00",
          "2020-04-23T00:00:00",
          "2020-04-24T00:00:00",
          "2020-04-25T00:00:00",
          "2020-04-26T00:00:00",
          "2020-04-27T00:00:00",
          "2020-04-28T00:00:00",
          "2020-04-29T00:00:00",
          "2020-04-30T00:00:00",
          "2020-05-01T00:00:00",
          "2020-05-02T00:00:00",
          "2020-05-03T00:00:00",
          "2020-05-04T00:00:00",
          "2020-05-05T00:00:00",
          "2020-05-06T00:00:00",
          "2020-05-07T00:00:00",
          "2020-05-08T00:00:00",
          "2020-05-09T00:00:00",
          "2020-05-10T00:00:00",
          "2020-05-11T00:00:00",
          "2020-05-12T00:00:00",
          "2020-05-13T00:00:00",
          "2020-05-14T00:00:00",
          "2020-05-15T00:00:00",
          "2020-05-16T00:00:00",
          "2020-05-17T00:00:00",
          "2020-05-18T00:00:00",
          "2020-05-19T00:00:00",
          "2020-05-20T00:00:00",
          "2020-05-21T00:00:00",
          "2020-05-22T00:00:00",
          "2020-05-23T00:00:00",
          "2020-05-24T00:00:00",
          "2020-05-25T00:00:00",
          "2020-05-26T00:00:00",
          "2020-05-27T00:00:00",
          "2020-05-28T00:00:00",
          "2020-05-29T00:00:00",
          "2020-05-30T00:00:00",
          "2020-05-31T00:00:00",
          "2020-06-01T00:00:00",
          "2020-06-02T00:00:00",
          "2020-06-03T00:00:00",
          "2020-06-04T00:00:00",
          "2020-06-05T00:00:00",
          "2020-06-06T00:00:00",
          "2020-06-07T00:00:00",
          "2020-06-08T00:00:00",
          "2020-06-09T00:00:00",
          "2020-06-10T00:00:00",
          "2020-06-11T00:00:00",
          "2020-06-12T00:00:00",
          "2020-06-13T00:00:00",
          "2020-06-14T00:00:00",
          "2020-06-15T00:00:00",
          "2020-06-16T00:00:00",
          "2020-06-17T00:00:00",
          "2020-06-18T00:00:00",
          "2020-06-19T00:00:00",
          "2020-06-20T00:00:00",
          "2020-06-21T00:00:00",
          "2020-06-22T00:00:00",
          "2020-06-23T00:00:00",
          "2020-06-24T00:00:00",
          "2020-06-25T00:00:00",
          "2020-06-26T00:00:00",
          "2020-06-27T00:00:00",
          "2020-06-28T00:00:00",
          "2020-06-29T00:00:00",
          "2020-06-30T00:00:00",
          "2020-07-01T00:00:00",
          "2020-07-02T00:00:00",
          "2020-07-03T00:00:00",
          "2020-07-04T00:00:00",
          "2020-07-05T00:00:00",
          "2020-07-06T00:00:00",
          "2020-07-07T00:00:00",
          "2020-07-08T00:00:00",
          "2020-07-09T00:00:00",
          "2020-07-10T00:00:00",
          "2020-07-11T00:00:00",
          "2020-07-12T00:00:00",
          "2020-07-13T00:00:00",
          "2020-07-14T00:00:00",
          "2020-07-15T00:00:00",
          "2020-07-16T00:00:00",
          "2020-07-17T00:00:00",
          "2020-07-18T00:00:00",
          "2020-07-19T00:00:00",
          "2020-07-20T00:00:00",
          "2020-07-21T00:00:00",
          "2020-07-22T00:00:00",
          "2020-07-23T00:00:00",
          "2020-07-24T00:00:00",
          "2020-07-25T00:00:00",
          "2020-07-26T00:00:00",
          "2020-07-27T00:00:00",
          "2020-07-28T00:00:00",
          "2020-07-29T00:00:00",
          "2020-07-30T00:00:00",
          "2020-07-31T00:00:00",
          "2020-08-01T00:00:00",
          "2020-08-02T00:00:00",
          "2020-08-03T00:00:00",
          "2020-08-04T00:00:00",
          "2020-08-05T00:00:00",
          "2020-08-06T00:00:00",
          "2020-08-07T00:00:00",
          "2020-08-08T00:00:00",
          "2020-08-09T00:00:00",
          "2020-08-10T00:00:00",
          "2020-08-11T00:00:00",
          "2020-08-12T00:00:00",
          "2020-08-13T00:00:00",
          "2020-08-14T00:00:00",
          "2020-08-15T00:00:00",
          "2020-08-16T00:00:00",
          "2020-08-17T00:00:00",
          "2020-08-18T00:00:00",
          "2020-08-19T00:00:00",
          "2020-08-20T00:00:00",
          "2020-08-21T00:00:00",
          "2020-08-22T00:00:00",
          "2020-08-23T00:00:00",
          "2020-08-24T00:00:00",
          "2020-08-25T00:00:00",
          "2020-08-26T00:00:00",
          "2020-08-27T00:00:00",
          "2020-08-28T00:00:00",
          "2020-08-29T00:00:00",
          "2020-08-30T00:00:00",
          "2020-08-31T00:00:00",
          "2020-09-01T00:00:00",
          "2020-09-02T00:00:00",
          "2020-09-03T00:00:00",
          "2020-09-04T00:00:00",
          "2020-09-05T00:00:00",
          "2020-09-06T00:00:00",
          "2020-09-07T00:00:00",
          "2020-09-08T00:00:00",
          "2020-09-09T00:00:00",
          "2020-09-10T00:00:00",
          "2020-09-11T00:00:00",
          "2020-09-12T00:00:00",
          "2020-09-13T00:00:00",
          "2020-09-14T00:00:00",
          "2020-09-15T00:00:00",
          "2020-09-16T00:00:00",
          "2020-09-17T00:00:00",
          "2020-09-18T00:00:00",
          "2020-09-19T00:00:00",
          "2020-09-20T00:00:00",
          "2020-09-21T00:00:00",
          "2020-09-22T00:00:00",
          "2020-09-23T00:00:00",
          "2020-09-24T00:00:00",
          "2020-09-25T00:00:00",
          "2020-09-26T00:00:00",
          "2020-09-27T00:00:00",
          "2020-09-28T00:00:00",
          "2020-09-29T00:00:00",
          "2020-09-30T00:00:00",
          "2020-10-01T00:00:00",
          "2020-10-02T00:00:00",
          "2020-10-03T00:00:00",
          "2020-10-04T00:00:00",
          "2020-10-05T00:00:00",
          "2020-10-06T00:00:00",
          "2020-10-07T00:00:00",
          "2020-10-08T00:00:00",
          "2020-10-09T00:00:00",
          "2020-10-10T00:00:00",
          "2020-10-11T00:00:00",
          "2020-10-12T00:00:00",
          "2020-10-13T00:00:00",
          "2020-10-14T00:00:00",
          "2020-10-15T00:00:00",
          "2020-10-16T00:00:00",
          "2020-10-17T00:00:00",
          "2020-10-18T00:00:00",
          "2020-10-19T00:00:00",
          "2020-10-20T00:00:00",
          "2020-10-21T00:00:00",
          "2020-10-22T00:00:00",
          "2020-10-23T00:00:00",
          "2020-10-24T00:00:00",
          "2020-10-25T00:00:00",
          "2020-10-26T00:00:00",
          "2020-10-27T00:00:00",
          "2020-10-28T00:00:00",
          "2020-10-29T00:00:00",
          "2020-10-30T00:00:00",
          "2020-10-31T00:00:00",
          "2020-11-01T00:00:00",
          "2020-11-02T00:00:00",
          "2020-11-03T00:00:00",
          "2020-11-04T00:00:00",
          "2020-11-05T00:00:00",
          "2020-11-06T00:00:00",
          "2020-11-07T00:00:00",
          "2020-11-08T00:00:00",
          "2020-11-09T00:00:00",
          "2020-11-10T00:00:00",
          "2020-11-11T00:00:00",
          "2020-11-12T00:00:00",
          "2020-11-13T00:00:00",
          "2020-11-14T00:00:00",
          "2020-11-15T00:00:00",
          "2020-11-16T00:00:00",
          "2020-11-17T00:00:00",
          "2020-11-18T00:00:00",
          "2020-11-19T00:00:00",
          "2020-11-20T00:00:00",
          "2020-11-21T00:00:00",
          "2020-11-22T00:00:00",
          "2020-11-23T00:00:00",
          "2020-11-24T00:00:00",
          "2020-11-25T00:00:00",
          "2020-11-26T00:00:00",
          "2020-11-27T00:00:00",
          "2020-11-28T00:00:00",
          "2020-11-29T00:00:00",
          "2020-11-30T00:00:00",
          "2020-12-01T00:00:00",
          "2020-12-02T00:00:00",
          "2020-12-03T00:00:00",
          "2020-12-04T00:00:00",
          "2020-12-05T00:00:00",
          "2020-12-06T00:00:00",
          "2020-12-07T00:00:00",
          "2020-12-08T00:00:00",
          "2020-12-09T00:00:00",
          "2020-12-10T00:00:00",
          "2020-12-11T00:00:00",
          "2020-12-12T00:00:00",
          "2020-12-13T00:00:00",
          "2020-12-14T00:00:00",
          "2020-12-15T00:00:00",
          "2020-12-16T00:00:00",
          "2020-12-17T00:00:00",
          "2020-12-18T00:00:00",
          "2020-12-19T00:00:00",
          "2020-12-20T00:00:00",
          "2020-12-21T00:00:00",
          "2020-12-22T00:00:00",
          "2020-12-23T00:00:00",
          "2020-12-24T00:00:00",
          "2020-12-25T00:00:00",
          "2020-12-26T00:00:00",
          "2020-12-27T00:00:00",
          "2020-12-28T00:00:00",
          "2020-12-29T00:00:00",
          "2020-12-30T00:00:00",
          "2020-12-31T00:00:00",
          "2021-01-01T00:00:00"
         ],
         "xaxis": "x",
         "y": [
          1,
          1,
          1,
          2,
          1,
          2,
          1,
          2,
          2,
          8,
          8,
          15,
          9,
          12,
          22,
          20,
          27,
          33,
          33,
          30,
          53,
          56,
          49,
          55,
          68,
          71,
          73,
          84,
          96,
          97,
          89,
          115,
          118,
          147,
          173,
          172,
          172,
          181,
          216,
          234,
          255,
          223,
          229,
          304,
          283,
          323,
          279,
          283,
          349,
          335,
          323,
          311,
          346,
          336,
          344,
          365,
          388,
          399,
          445,
          456,
          421,
          488,
          486,
          486,
          484,
          484,
          468,
          457,
          502,
          529,
          521,
          497,
          518,
          480,
          523,
          548,
          602,
          545,
          593,
          575,
          542,
          590,
          623,
          665,
          622,
          639,
          593,
          651,
          617,
          643,
          647,
          715,
          693,
          621,
          601,
          533,
          625,
          616,
          596,
          587,
          571,
          634,
          637,
          625,
          684,
          663,
          629,
          639,
          637,
          666,
          693,
          764,
          749,
          682,
          705,
          676,
          682,
          694,
          765,
          730,
          739,
          744,
          701,
          673,
          734,
          727,
          769,
          662,
          723,
          671,
          719,
          727,
          719,
          703,
          626,
          696,
          621,
          667,
          625,
          682,
          707,
          651,
          631,
          589,
          623,
          601,
          617,
          615,
          558,
          562,
          527,
          523,
          528,
          568,
          499,
          547,
          505,
          510,
          507,
          476,
          487,
          494,
          484,
          458,
          486,
          469,
          485,
          504,
          461,
          455,
          451,
          434,
          412,
          421,
          443,
          401,
          436,
          386,
          394,
          419,
          362,
          416,
          393,
          379,
          365,
          326,
          366,
          386,
          376,
          392,
          361,
          364,
          331,
          346,
          331,
          332,
          332,
          318,
          326,
          312,
          331,
          311,
          333,
          318,
          316,
          303,
          283,
          338,
          328,
          382,
          342,
          332,
          350,
          331,
          345,
          360,
          428,
          373,
          421,
          410,
          393,
          383,
          438,
          427,
          408,
          418,
          416,
          416,
          379,
          389,
          436,
          417,
          414,
          446,
          444,
          401,
          399,
          432,
          402,
          424,
          456,
          409,
          394,
          407,
          417,
          445,
          425,
          401,
          468,
          463,
          511,
          468,
          470,
          451,
          484,
          523,
          475,
          488,
          514,
          538,
          501,
          510,
          484,
          529,
          519,
          542,
          502,
          530,
          522,
          534,
          525,
          553,
          539,
          560,
          550,
          540,
          561,
          581,
          559,
          617,
          577,
          561,
          540,
          498,
          549,
          561,
          530,
          480,
          315,
          71,
          1
         ],
         "yaxis": "y"
        }
       ],
       "layout": {
        "height": 600,
        "legend": {
         "tracegroupgap": 0
        },
        "template": {
         "data": {
          "bar": [
           {
            "error_x": {
             "color": "#2a3f5f"
            },
            "error_y": {
             "color": "#2a3f5f"
            },
            "marker": {
             "line": {
              "color": "white",
              "width": 0.5
             }
            },
            "type": "bar"
           }
          ],
          "barpolar": [
           {
            "marker": {
             "line": {
              "color": "white",
              "width": 0.5
             }
            },
            "type": "barpolar"
           }
          ],
          "carpet": [
           {
            "aaxis": {
             "endlinecolor": "#2a3f5f",
             "gridcolor": "#C8D4E3",
             "linecolor": "#C8D4E3",
             "minorgridcolor": "#C8D4E3",
             "startlinecolor": "#2a3f5f"
            },
            "baxis": {
             "endlinecolor": "#2a3f5f",
             "gridcolor": "#C8D4E3",
             "linecolor": "#C8D4E3",
             "minorgridcolor": "#C8D4E3",
             "startlinecolor": "#2a3f5f"
            },
            "type": "carpet"
           }
          ],
          "choropleth": [
           {
            "colorbar": {
             "outlinewidth": 0,
             "ticks": ""
            },
            "type": "choropleth"
           }
          ],
          "contour": [
           {
            "colorbar": {
             "outlinewidth": 0,
             "ticks": ""
            },
            "colorscale": [
             [
              0,
              "#0d0887"
             ],
             [
              0.1111111111111111,
              "#46039f"
             ],
             [
              0.2222222222222222,
              "#7201a8"
             ],
             [
              0.3333333333333333,
              "#9c179e"
             ],
             [
              0.4444444444444444,
              "#bd3786"
             ],
             [
              0.5555555555555556,
              "#d8576b"
             ],
             [
              0.6666666666666666,
              "#ed7953"
             ],
             [
              0.7777777777777778,
              "#fb9f3a"
             ],
             [
              0.8888888888888888,
              "#fdca26"
             ],
             [
              1,
              "#f0f921"
             ]
            ],
            "type": "contour"
           }
          ],
          "contourcarpet": [
           {
            "colorbar": {
             "outlinewidth": 0,
             "ticks": ""
            },
            "type": "contourcarpet"
           }
          ],
          "heatmap": [
           {
            "colorbar": {
             "outlinewidth": 0,
             "ticks": ""
            },
            "colorscale": [
             [
              0,
              "#0d0887"
             ],
             [
              0.1111111111111111,
              "#46039f"
             ],
             [
              0.2222222222222222,
              "#7201a8"
             ],
             [
              0.3333333333333333,
              "#9c179e"
             ],
             [
              0.4444444444444444,
              "#bd3786"
             ],
             [
              0.5555555555555556,
              "#d8576b"
             ],
             [
              0.6666666666666666,
              "#ed7953"
             ],
             [
              0.7777777777777778,
              "#fb9f3a"
             ],
             [
              0.8888888888888888,
              "#fdca26"
             ],
             [
              1,
              "#f0f921"
             ]
            ],
            "type": "heatmap"
           }
          ],
          "heatmapgl": [
           {
            "colorbar": {
             "outlinewidth": 0,
             "ticks": ""
            },
            "colorscale": [
             [
              0,
              "#0d0887"
             ],
             [
              0.1111111111111111,
              "#46039f"
             ],
             [
              0.2222222222222222,
              "#7201a8"
             ],
             [
              0.3333333333333333,
              "#9c179e"
             ],
             [
              0.4444444444444444,
              "#bd3786"
             ],
             [
              0.5555555555555556,
              "#d8576b"
             ],
             [
              0.6666666666666666,
              "#ed7953"
             ],
             [
              0.7777777777777778,
              "#fb9f3a"
             ],
             [
              0.8888888888888888,
              "#fdca26"
             ],
             [
              1,
              "#f0f921"
             ]
            ],
            "type": "heatmapgl"
           }
          ],
          "histogram": [
           {
            "marker": {
             "colorbar": {
              "outlinewidth": 0,
              "ticks": ""
             }
            },
            "type": "histogram"
           }
          ],
          "histogram2d": [
           {
            "colorbar": {
             "outlinewidth": 0,
             "ticks": ""
            },
            "colorscale": [
             [
              0,
              "#0d0887"
             ],
             [
              0.1111111111111111,
              "#46039f"
             ],
             [
              0.2222222222222222,
              "#7201a8"
             ],
             [
              0.3333333333333333,
              "#9c179e"
             ],
             [
              0.4444444444444444,
              "#bd3786"
             ],
             [
              0.5555555555555556,
              "#d8576b"
             ],
             [
              0.6666666666666666,
              "#ed7953"
             ],
             [
              0.7777777777777778,
              "#fb9f3a"
             ],
             [
              0.8888888888888888,
              "#fdca26"
             ],
             [
              1,
              "#f0f921"
             ]
            ],
            "type": "histogram2d"
           }
          ],
          "histogram2dcontour": [
           {
            "colorbar": {
             "outlinewidth": 0,
             "ticks": ""
            },
            "colorscale": [
             [
              0,
              "#0d0887"
             ],
             [
              0.1111111111111111,
              "#46039f"
             ],
             [
              0.2222222222222222,
              "#7201a8"
             ],
             [
              0.3333333333333333,
              "#9c179e"
             ],
             [
              0.4444444444444444,
              "#bd3786"
             ],
             [
              0.5555555555555556,
              "#d8576b"
             ],
             [
              0.6666666666666666,
              "#ed7953"
             ],
             [
              0.7777777777777778,
              "#fb9f3a"
             ],
             [
              0.8888888888888888,
              "#fdca26"
             ],
             [
              1,
              "#f0f921"
             ]
            ],
            "type": "histogram2dcontour"
           }
          ],
          "mesh3d": [
           {
            "colorbar": {
             "outlinewidth": 0,
             "ticks": ""
            },
            "type": "mesh3d"
           }
          ],
          "parcoords": [
           {
            "line": {
             "colorbar": {
              "outlinewidth": 0,
              "ticks": ""
             }
            },
            "type": "parcoords"
           }
          ],
          "pie": [
           {
            "automargin": true,
            "type": "pie"
           }
          ],
          "scatter": [
           {
            "marker": {
             "colorbar": {
              "outlinewidth": 0,
              "ticks": ""
             }
            },
            "type": "scatter"
           }
          ],
          "scatter3d": [
           {
            "line": {
             "colorbar": {
              "outlinewidth": 0,
              "ticks": ""
             }
            },
            "marker": {
             "colorbar": {
              "outlinewidth": 0,
              "ticks": ""
             }
            },
            "type": "scatter3d"
           }
          ],
          "scattercarpet": [
           {
            "marker": {
             "colorbar": {
              "outlinewidth": 0,
              "ticks": ""
             }
            },
            "type": "scattercarpet"
           }
          ],
          "scattergeo": [
           {
            "marker": {
             "colorbar": {
              "outlinewidth": 0,
              "ticks": ""
             }
            },
            "type": "scattergeo"
           }
          ],
          "scattergl": [
           {
            "marker": {
             "colorbar": {
              "outlinewidth": 0,
              "ticks": ""
             }
            },
            "type": "scattergl"
           }
          ],
          "scattermapbox": [
           {
            "marker": {
             "colorbar": {
              "outlinewidth": 0,
              "ticks": ""
             }
            },
            "type": "scattermapbox"
           }
          ],
          "scatterpolar": [
           {
            "marker": {
             "colorbar": {
              "outlinewidth": 0,
              "ticks": ""
             }
            },
            "type": "scatterpolar"
           }
          ],
          "scatterpolargl": [
           {
            "marker": {
             "colorbar": {
              "outlinewidth": 0,
              "ticks": ""
             }
            },
            "type": "scatterpolargl"
           }
          ],
          "scatterternary": [
           {
            "marker": {
             "colorbar": {
              "outlinewidth": 0,
              "ticks": ""
             }
            },
            "type": "scatterternary"
           }
          ],
          "surface": [
           {
            "colorbar": {
             "outlinewidth": 0,
             "ticks": ""
            },
            "colorscale": [
             [
              0,
              "#0d0887"
             ],
             [
              0.1111111111111111,
              "#46039f"
             ],
             [
              0.2222222222222222,
              "#7201a8"
             ],
             [
              0.3333333333333333,
              "#9c179e"
             ],
             [
              0.4444444444444444,
              "#bd3786"
             ],
             [
              0.5555555555555556,
              "#d8576b"
             ],
             [
              0.6666666666666666,
              "#ed7953"
             ],
             [
              0.7777777777777778,
              "#fb9f3a"
             ],
             [
              0.8888888888888888,
              "#fdca26"
             ],
             [
              1,
              "#f0f921"
             ]
            ],
            "type": "surface"
           }
          ],
          "table": [
           {
            "cells": {
             "fill": {
              "color": "#EBF0F8"
             },
             "line": {
              "color": "white"
             }
            },
            "header": {
             "fill": {
              "color": "#C8D4E3"
             },
             "line": {
              "color": "white"
             }
            },
            "type": "table"
           }
          ]
         },
         "layout": {
          "annotationdefaults": {
           "arrowcolor": "#2a3f5f",
           "arrowhead": 0,
           "arrowwidth": 1
          },
          "coloraxis": {
           "colorbar": {
            "outlinewidth": 0,
            "ticks": ""
           }
          },
          "colorscale": {
           "diverging": [
            [
             0,
             "#8e0152"
            ],
            [
             0.1,
             "#c51b7d"
            ],
            [
             0.2,
             "#de77ae"
            ],
            [
             0.3,
             "#f1b6da"
            ],
            [
             0.4,
             "#fde0ef"
            ],
            [
             0.5,
             "#f7f7f7"
            ],
            [
             0.6,
             "#e6f5d0"
            ],
            [
             0.7,
             "#b8e186"
            ],
            [
             0.8,
             "#7fbc41"
            ],
            [
             0.9,
             "#4d9221"
            ],
            [
             1,
             "#276419"
            ]
           ],
           "sequential": [
            [
             0,
             "#0d0887"
            ],
            [
             0.1111111111111111,
             "#46039f"
            ],
            [
             0.2222222222222222,
             "#7201a8"
            ],
            [
             0.3333333333333333,
             "#9c179e"
            ],
            [
             0.4444444444444444,
             "#bd3786"
            ],
            [
             0.5555555555555556,
             "#d8576b"
            ],
            [
             0.6666666666666666,
             "#ed7953"
            ],
            [
             0.7777777777777778,
             "#fb9f3a"
            ],
            [
             0.8888888888888888,
             "#fdca26"
            ],
            [
             1,
             "#f0f921"
            ]
           ],
           "sequentialminus": [
            [
             0,
             "#0d0887"
            ],
            [
             0.1111111111111111,
             "#46039f"
            ],
            [
             0.2222222222222222,
             "#7201a8"
            ],
            [
             0.3333333333333333,
             "#9c179e"
            ],
            [
             0.4444444444444444,
             "#bd3786"
            ],
            [
             0.5555555555555556,
             "#d8576b"
            ],
            [
             0.6666666666666666,
             "#ed7953"
            ],
            [
             0.7777777777777778,
             "#fb9f3a"
            ],
            [
             0.8888888888888888,
             "#fdca26"
            ],
            [
             1,
             "#f0f921"
            ]
           ]
          },
          "colorway": [
           "#636efa",
           "#EF553B",
           "#00cc96",
           "#ab63fa",
           "#FFA15A",
           "#19d3f3",
           "#FF6692",
           "#B6E880",
           "#FF97FF",
           "#FECB52"
          ],
          "font": {
           "color": "#2a3f5f"
          },
          "geo": {
           "bgcolor": "white",
           "lakecolor": "white",
           "landcolor": "white",
           "showlakes": true,
           "showland": true,
           "subunitcolor": "#C8D4E3"
          },
          "hoverlabel": {
           "align": "left"
          },
          "hovermode": "closest",
          "mapbox": {
           "style": "light"
          },
          "paper_bgcolor": "white",
          "plot_bgcolor": "white",
          "polar": {
           "angularaxis": {
            "gridcolor": "#EBF0F8",
            "linecolor": "#EBF0F8",
            "ticks": ""
           },
           "bgcolor": "white",
           "radialaxis": {
            "gridcolor": "#EBF0F8",
            "linecolor": "#EBF0F8",
            "ticks": ""
           }
          },
          "scene": {
           "xaxis": {
            "backgroundcolor": "white",
            "gridcolor": "#DFE8F3",
            "gridwidth": 2,
            "linecolor": "#EBF0F8",
            "showbackground": true,
            "ticks": "",
            "zerolinecolor": "#EBF0F8"
           },
           "yaxis": {
            "backgroundcolor": "white",
            "gridcolor": "#DFE8F3",
            "gridwidth": 2,
            "linecolor": "#EBF0F8",
            "showbackground": true,
            "ticks": "",
            "zerolinecolor": "#EBF0F8"
           },
           "zaxis": {
            "backgroundcolor": "white",
            "gridcolor": "#DFE8F3",
            "gridwidth": 2,
            "linecolor": "#EBF0F8",
            "showbackground": true,
            "ticks": "",
            "zerolinecolor": "#EBF0F8"
           }
          },
          "shapedefaults": {
           "line": {
            "color": "#2a3f5f"
           }
          },
          "ternary": {
           "aaxis": {
            "gridcolor": "#DFE8F3",
            "linecolor": "#A2B1C6",
            "ticks": ""
           },
           "baxis": {
            "gridcolor": "#DFE8F3",
            "linecolor": "#A2B1C6",
            "ticks": ""
           },
           "bgcolor": "white",
           "caxis": {
            "gridcolor": "#DFE8F3",
            "linecolor": "#A2B1C6",
            "ticks": ""
           }
          },
          "title": {
           "x": 0.05
          },
          "xaxis": {
           "automargin": true,
           "gridcolor": "#EBF0F8",
           "linecolor": "#EBF0F8",
           "ticks": "",
           "title": {
            "standoff": 15
           },
           "zerolinecolor": "#EBF0F8",
           "zerolinewidth": 2
          },
          "yaxis": {
           "automargin": true,
           "gridcolor": "#EBF0F8",
           "linecolor": "#EBF0F8",
           "ticks": "",
           "title": {
            "standoff": 15
           },
           "zerolinecolor": "#EBF0F8",
           "zerolinewidth": 2
          }
         }
        },
        "title": {
         "text": "Defunciones por COVID-19 en México"
        },
        "width": 1500,
        "xaxis": {
         "anchor": "y",
         "domain": [
          0,
          1
         ],
         "showgrid": true,
         "title": {
          "text": "Fecha de defunción"
         }
        },
        "yaxis": {
         "anchor": "x",
         "domain": [
          0,
          1
         ],
         "showgrid": true,
         "title": {
          "text": "Defunciones"
         }
        }
       }
      }
     },
     "metadata": {}
    }
   ],
   "source": [
    "# Ploting each line in different figures ...\n",
    "def plotCases(abscisa, ordenada, x_title, y_title, g_title, paint ):\n",
    "    fig_1 = px.line( x = abscisa, y = ordenada, title = g_title, width = 1500, height = 600) # labels parameter can be added with a dict\n",
    "\n",
    "    fig_1.update_traces(marker = dict(color = paint), line = dict(color = paint, width = 2))\n",
    "    fig_1.update_xaxes(showgrid = True, title = x_title)\n",
    "    fig_1.update_yaxes(showgrid = True, title = y_title)\n",
    "    fig_1.show()\n",
    "    \n",
    "plotCases(confirmados_por_fecha[\"fecha_ingreso\"], confirmados_por_fecha[\"confirmados\"], \n",
    "        \"Fecha de registro\", \"Casos confirmados\", \"Casos de COVID-19 en México\",\"#b4004e\")\n",
    "plotCases(defunciones_por_fecha[\"fecha_defuncion\"], defunciones_por_fecha[\"defunciones\"], \n",
    "        \"Fecha de defunción\", \"Defunciones\", \"Defunciones por COVID-19 en México\" , \"black\")\n",
    "# plotCases(sospechosos_por_fecha[\"fecha_sintomas\"],sospechosos_por_fecha[\"sospechosos\"], \n",
    "#         \"Fecha del inicio de sintomas\", \"Casos sospechosos\", \"Casos sospechosos de COVID-19 en México\", \"#c67c00\")\n"
   ]
  },
  {
   "cell_type": "code",
   "execution_count": 120,
   "metadata": {},
   "outputs": [],
   "source": [
    "# Computing the comulative cases ...\n",
    "def commulative_cases(data):\n",
    "    data_vec = np.array(data)\n",
    "    data_acumulados = np.cumsum(data_vec)    \n",
    "    return pd.Series(data_acumulados)                           # Numpy array to pandas Serie\n",
    "\n",
    "# Commulative confirmed cases ....\n",
    "confirmados_por_fecha[\"casos_acumulados\"] = commulative_cases(confirmados_por_fecha[\"confirmados\"])\n",
    "# Commulative Deaths  ....\n",
    "defunciones_por_fecha[\"defunciones_acumuladas\"] = commulative_cases(defunciones_por_fecha[\"defunciones\"])"
   ]
  },
  {
   "cell_type": "code",
   "execution_count": 91,
   "metadata": {},
   "outputs": [],
   "source": [
    "#Computing the average with the actual day plus the 6 previous days\n",
    "def average_of_seven_days(serie):\n",
    "    data_vect = np.array(serie)\n",
    "    average = np.zeros(data_vect.size)\n",
    "    counter = 0\n",
    "    init = 0\n",
    "\n",
    "    for i in range(data_vect.size):\n",
    "        if i >= 6:\n",
    "            average[counter] = np.mean(data_vect[init:i+1])\n",
    "            init += 1\n",
    "        else:\n",
    "            average[counter] = 1/7 * np.sum(data_vect[0:i+1])\n",
    "\n",
    "        counter += 1\n",
    "\n",
    "    return  pd.Series(np.round(average))   #Return a pandas Serie with rounded values"
   ]
  },
  {
   "cell_type": "code",
   "execution_count": 92,
   "metadata": {},
   "outputs": [],
   "source": [
    "# confirmados_por_fecha[\"casos_promedio\"] =  average_of_seven_days(confirmados_por_fecha[\"confirmados\"])\n",
    "# defunciones_por_fecha[\"defunciones_promedio\"] = average_of_seven_days(defunciones_por_fecha[\"defunciones\"])"
   ]
  },
  {
   "cell_type": "code",
   "execution_count": 93,
   "metadata": {},
   "outputs": [
    {
     "output_type": "display_data",
     "data": {
      "application/vnd.plotly.v1+json": {
       "config": {
        "plotlyServerURL": "https://plot.ly"
       },
       "data": [
        {
         "marker": {
          "color": "#ff1744",
          "opacity": 0.6
         },
         "name": "Nuevos casos",
         "type": "bar",
         "x": [
          "2020-01-13T00:00:00",
          "2020-01-28T00:00:00",
          "2020-01-29T00:00:00",
          "2020-02-10T00:00:00",
          "2020-02-20T00:00:00",
          "2020-02-24T00:00:00",
          "2020-02-27T00:00:00",
          "2020-02-28T00:00:00",
          "2020-02-29T00:00:00",
          "2020-03-02T00:00:00",
          "2020-03-03T00:00:00",
          "2020-03-04T00:00:00",
          "2020-03-05T00:00:00",
          "2020-03-07T00:00:00",
          "2020-03-08T00:00:00",
          "2020-03-09T00:00:00",
          "2020-03-10T00:00:00",
          "2020-03-11T00:00:00",
          "2020-03-12T00:00:00",
          "2020-03-13T00:00:00",
          "2020-03-14T00:00:00",
          "2020-03-15T00:00:00",
          "2020-03-16T00:00:00",
          "2020-03-17T00:00:00",
          "2020-03-18T00:00:00",
          "2020-03-19T00:00:00",
          "2020-03-20T00:00:00",
          "2020-03-21T00:00:00",
          "2020-03-22T00:00:00",
          "2020-03-23T00:00:00",
          "2020-03-24T00:00:00",
          "2020-03-25T00:00:00",
          "2020-03-26T00:00:00",
          "2020-03-27T00:00:00",
          "2020-03-28T00:00:00",
          "2020-03-29T00:00:00",
          "2020-03-30T00:00:00",
          "2020-03-31T00:00:00",
          "2020-04-01T00:00:00",
          "2020-04-02T00:00:00",
          "2020-04-03T00:00:00",
          "2020-04-04T00:00:00",
          "2020-04-05T00:00:00",
          "2020-04-06T00:00:00",
          "2020-04-07T00:00:00",
          "2020-04-08T00:00:00",
          "2020-04-09T00:00:00",
          "2020-04-10T00:00:00",
          "2020-04-11T00:00:00",
          "2020-04-12T00:00:00",
          "2020-04-13T00:00:00",
          "2020-04-14T00:00:00",
          "2020-04-15T00:00:00",
          "2020-04-16T00:00:00",
          "2020-04-17T00:00:00",
          "2020-04-18T00:00:00",
          "2020-04-19T00:00:00",
          "2020-04-20T00:00:00",
          "2020-04-21T00:00:00",
          "2020-04-22T00:00:00",
          "2020-04-23T00:00:00",
          "2020-04-24T00:00:00",
          "2020-04-25T00:00:00",
          "2020-04-26T00:00:00",
          "2020-04-27T00:00:00",
          "2020-04-28T00:00:00",
          "2020-04-29T00:00:00",
          "2020-04-30T00:00:00",
          "2020-05-01T00:00:00",
          "2020-05-02T00:00:00",
          "2020-05-03T00:00:00",
          "2020-05-04T00:00:00",
          "2020-05-05T00:00:00",
          "2020-05-06T00:00:00",
          "2020-05-07T00:00:00",
          "2020-05-08T00:00:00",
          "2020-05-09T00:00:00",
          "2020-05-10T00:00:00",
          "2020-05-11T00:00:00",
          "2020-05-12T00:00:00",
          "2020-05-13T00:00:00",
          "2020-05-14T00:00:00",
          "2020-05-15T00:00:00",
          "2020-05-16T00:00:00",
          "2020-05-17T00:00:00",
          "2020-05-18T00:00:00",
          "2020-05-19T00:00:00",
          "2020-05-20T00:00:00",
          "2020-05-21T00:00:00",
          "2020-05-22T00:00:00",
          "2020-05-23T00:00:00",
          "2020-05-24T00:00:00",
          "2020-05-25T00:00:00",
          "2020-05-26T00:00:00",
          "2020-05-27T00:00:00",
          "2020-05-28T00:00:00",
          "2020-05-29T00:00:00",
          "2020-05-30T00:00:00",
          "2020-05-31T00:00:00",
          "2020-06-01T00:00:00",
          "2020-06-02T00:00:00",
          "2020-06-03T00:00:00",
          "2020-06-04T00:00:00",
          "2020-06-05T00:00:00",
          "2020-06-06T00:00:00",
          "2020-06-07T00:00:00",
          "2020-06-08T00:00:00",
          "2020-06-09T00:00:00",
          "2020-06-10T00:00:00",
          "2020-06-11T00:00:00",
          "2020-06-12T00:00:00",
          "2020-06-13T00:00:00",
          "2020-06-14T00:00:00",
          "2020-06-15T00:00:00",
          "2020-06-16T00:00:00",
          "2020-06-17T00:00:00",
          "2020-06-18T00:00:00",
          "2020-06-19T00:00:00",
          "2020-06-20T00:00:00",
          "2020-06-21T00:00:00",
          "2020-06-22T00:00:00",
          "2020-06-23T00:00:00",
          "2020-06-24T00:00:00",
          "2020-06-25T00:00:00",
          "2020-06-26T00:00:00",
          "2020-06-27T00:00:00",
          "2020-06-28T00:00:00",
          "2020-06-29T00:00:00",
          "2020-06-30T00:00:00",
          "2020-07-01T00:00:00",
          "2020-07-02T00:00:00",
          "2020-07-03T00:00:00",
          "2020-07-04T00:00:00",
          "2020-07-05T00:00:00",
          "2020-07-06T00:00:00",
          "2020-07-07T00:00:00",
          "2020-07-08T00:00:00",
          "2020-07-09T00:00:00",
          "2020-07-10T00:00:00",
          "2020-07-11T00:00:00",
          "2020-07-12T00:00:00",
          "2020-07-13T00:00:00",
          "2020-07-14T00:00:00",
          "2020-07-15T00:00:00",
          "2020-07-16T00:00:00",
          "2020-07-17T00:00:00",
          "2020-07-18T00:00:00",
          "2020-07-19T00:00:00",
          "2020-07-20T00:00:00",
          "2020-07-21T00:00:00",
          "2020-07-22T00:00:00",
          "2020-07-23T00:00:00",
          "2020-07-24T00:00:00",
          "2020-07-25T00:00:00",
          "2020-07-26T00:00:00",
          "2020-07-27T00:00:00",
          "2020-07-28T00:00:00",
          "2020-07-29T00:00:00",
          "2020-07-30T00:00:00",
          "2020-07-31T00:00:00",
          "2020-08-01T00:00:00",
          "2020-08-02T00:00:00",
          "2020-08-03T00:00:00",
          "2020-08-04T00:00:00",
          "2020-08-05T00:00:00",
          "2020-08-06T00:00:00",
          "2020-08-07T00:00:00",
          "2020-08-08T00:00:00",
          "2020-08-09T00:00:00",
          "2020-08-10T00:00:00",
          "2020-08-11T00:00:00",
          "2020-08-12T00:00:00",
          "2020-08-13T00:00:00",
          "2020-08-14T00:00:00",
          "2020-08-15T00:00:00",
          "2020-08-16T00:00:00",
          "2020-08-17T00:00:00",
          "2020-08-18T00:00:00",
          "2020-08-19T00:00:00",
          "2020-08-20T00:00:00",
          "2020-08-21T00:00:00",
          "2020-08-22T00:00:00",
          "2020-08-23T00:00:00",
          "2020-08-24T00:00:00",
          "2020-08-25T00:00:00",
          "2020-08-26T00:00:00",
          "2020-08-27T00:00:00",
          "2020-08-28T00:00:00",
          "2020-08-29T00:00:00",
          "2020-08-30T00:00:00",
          "2020-08-31T00:00:00",
          "2020-09-01T00:00:00",
          "2020-09-02T00:00:00",
          "2020-09-03T00:00:00",
          "2020-09-04T00:00:00",
          "2020-09-05T00:00:00",
          "2020-09-06T00:00:00",
          "2020-09-07T00:00:00",
          "2020-09-08T00:00:00",
          "2020-09-09T00:00:00",
          "2020-09-10T00:00:00",
          "2020-09-11T00:00:00",
          "2020-09-12T00:00:00",
          "2020-09-13T00:00:00",
          "2020-09-14T00:00:00",
          "2020-09-15T00:00:00",
          "2020-09-16T00:00:00",
          "2020-09-17T00:00:00",
          "2020-09-18T00:00:00",
          "2020-09-19T00:00:00",
          "2020-09-20T00:00:00",
          "2020-09-21T00:00:00",
          "2020-09-22T00:00:00",
          "2020-09-23T00:00:00",
          "2020-09-24T00:00:00",
          "2020-09-25T00:00:00",
          "2020-09-26T00:00:00",
          "2020-09-27T00:00:00",
          "2020-09-28T00:00:00",
          "2020-09-29T00:00:00",
          "2020-09-30T00:00:00",
          "2020-10-01T00:00:00",
          "2020-10-02T00:00:00",
          "2020-10-03T00:00:00",
          "2020-10-04T00:00:00",
          "2020-10-05T00:00:00",
          "2020-10-06T00:00:00",
          "2020-10-07T00:00:00",
          "2020-10-08T00:00:00",
          "2020-10-09T00:00:00",
          "2020-10-10T00:00:00",
          "2020-10-11T00:00:00",
          "2020-10-12T00:00:00",
          "2020-10-13T00:00:00",
          "2020-10-14T00:00:00",
          "2020-10-15T00:00:00",
          "2020-10-16T00:00:00",
          "2020-10-17T00:00:00",
          "2020-10-18T00:00:00",
          "2020-10-19T00:00:00",
          "2020-10-20T00:00:00",
          "2020-10-21T00:00:00",
          "2020-10-22T00:00:00",
          "2020-10-23T00:00:00",
          "2020-10-24T00:00:00",
          "2020-10-25T00:00:00",
          "2020-10-26T00:00:00",
          "2020-10-27T00:00:00",
          "2020-10-28T00:00:00",
          "2020-10-29T00:00:00",
          "2020-10-30T00:00:00",
          "2020-10-31T00:00:00",
          "2020-11-01T00:00:00",
          "2020-11-02T00:00:00",
          "2020-11-03T00:00:00",
          "2020-11-04T00:00:00",
          "2020-11-05T00:00:00",
          "2020-11-06T00:00:00",
          "2020-11-07T00:00:00",
          "2020-11-08T00:00:00",
          "2020-11-09T00:00:00",
          "2020-11-10T00:00:00",
          "2020-11-11T00:00:00",
          "2020-11-12T00:00:00",
          "2020-11-13T00:00:00",
          "2020-11-14T00:00:00",
          "2020-11-15T00:00:00",
          "2020-11-16T00:00:00",
          "2020-11-17T00:00:00",
          "2020-11-18T00:00:00",
          "2020-11-19T00:00:00",
          "2020-11-20T00:00:00",
          "2020-11-21T00:00:00",
          "2020-11-22T00:00:00",
          "2020-11-23T00:00:00",
          "2020-11-24T00:00:00",
          "2020-11-25T00:00:00",
          "2020-11-26T00:00:00",
          "2020-11-27T00:00:00",
          "2020-11-28T00:00:00",
          "2020-11-29T00:00:00",
          "2020-11-30T00:00:00",
          "2020-12-01T00:00:00",
          "2020-12-02T00:00:00",
          "2020-12-03T00:00:00",
          "2020-12-04T00:00:00",
          "2020-12-05T00:00:00",
          "2020-12-06T00:00:00",
          "2020-12-07T00:00:00",
          "2020-12-08T00:00:00",
          "2020-12-09T00:00:00",
          "2020-12-10T00:00:00",
          "2020-12-11T00:00:00",
          "2020-12-12T00:00:00",
          "2020-12-13T00:00:00",
          "2020-12-14T00:00:00",
          "2020-12-15T00:00:00",
          "2020-12-16T00:00:00",
          "2020-12-17T00:00:00",
          "2020-12-18T00:00:00",
          "2020-12-19T00:00:00",
          "2020-12-20T00:00:00",
          "2020-12-21T00:00:00",
          "2020-12-22T00:00:00",
          "2020-12-23T00:00:00",
          "2020-12-24T00:00:00",
          "2020-12-25T00:00:00",
          "2020-12-26T00:00:00",
          "2020-12-27T00:00:00",
          "2020-12-28T00:00:00",
          "2020-12-29T00:00:00",
          "2020-12-30T00:00:00",
          "2020-12-31T00:00:00",
          "2021-01-01T00:00:00"
         ],
         "y": [
          1,
          1,
          1,
          1,
          1,
          2,
          5,
          3,
          1,
          2,
          3,
          2,
          3,
          1,
          4,
          2,
          11,
          29,
          29,
          60,
          50,
          36,
          70,
          97,
          105,
          149,
          129,
          81,
          65,
          155,
          220,
          174,
          209,
          248,
          181,
          153,
          329,
          295,
          355,
          328,
          369,
          233,
          243,
          595,
          493,
          546,
          440,
          528,
          440,
          446,
          900,
          884,
          928,
          948,
          1087,
          763,
          722,
          1438,
          1391,
          1325,
          1419,
          1636,
          1058,
          1013,
          1821,
          1830,
          1789,
          1801,
          1419,
          1366,
          1255,
          2522,
          2107,
          2282,
          2406,
          2421,
          1527,
          1423,
          2964,
          2937,
          3116,
          3076,
          3478,
          2169,
          1638,
          4031,
          3575,
          3902,
          4005,
          3992,
          2279,
          1875,
          4623,
          4334,
          4464,
          4221,
          4369,
          2729,
          2078,
          5286,
          4755,
          4948,
          4908,
          5043,
          3015,
          2340,
          6153,
          5765,
          5731,
          5391,
          5625,
          3069,
          2588,
          6553,
          6406,
          6124,
          6080,
          6111,
          3564,
          2464,
          6875,
          6614,
          6297,
          6278,
          6529,
          3665,
          2944,
          7505,
          7194,
          7597,
          7048,
          7069,
          3648,
          2983,
          7823,
          7875,
          7435,
          7130,
          7186,
          3850,
          3230,
          8824,
          8460,
          8791,
          8233,
          7951,
          4384,
          3416,
          9088,
          8634,
          8297,
          8055,
          8001,
          4142,
          2995,
          8451,
          8162,
          7659,
          7567,
          6693,
          3782,
          2503,
          7468,
          7365,
          7161,
          6679,
          6594,
          3664,
          2387,
          7175,
          6866,
          6420,
          6389,
          6179,
          3213,
          2307,
          6865,
          6664,
          6259,
          5977,
          6281,
          3113,
          2304,
          7002,
          6597,
          7009,
          6422,
          6307,
          3109,
          2170,
          6937,
          7061,
          6893,
          6241,
          6003,
          2828,
          2050,
          6327,
          6551,
          5992,
          5650,
          5440,
          2740,
          1843,
          6182,
          4268,
          2153,
          6307,
          5658,
          2751,
          1759,
          6235,
          6098,
          5681,
          5321,
          5271,
          2619,
          1758,
          6161,
          5976,
          5496,
          5229,
          4970,
          2383,
          1693,
          5756,
          5897,
          5648,
          5466,
          5664,
          2962,
          2124,
          6662,
          6991,
          6411,
          6369,
          6520,
          3212,
          2206,
          8063,
          8243,
          7237,
          7112,
          7105,
          3380,
          2361,
          8159,
          7836,
          6984,
          6648,
          6180,
          2864,
          2016,
          4960,
          7898,
          7342,
          7264,
          6833,
          3342,
          2430,
          8261,
          8235,
          8142,
          7969,
          7402,
          3717,
          2504,
          3027,
          9303,
          8536,
          8096,
          8147,
          4045,
          2620,
          9956,
          10024,
          9291,
          9425,
          9286,
          4683,
          2870,
          10612,
          11014,
          11043,
          10669,
          10334,
          5456,
          2937,
          12239,
          12375,
          11675,
          11758,
          11660,
          6096,
          3095,
          13147,
          12943,
          12014,
          11476,
          11021,
          5664,
          3324,
          12663,
          11941,
          10004,
          7987,
          2041,
          4307,
          3202,
          10332,
          8691,
          5927,
          3340,
          1
         ]
        },
        {
         "line": {
          "color": "#b71c1c",
          "width": 2.5
         },
         "mode": "lines",
         "name": "Promedio de 7 días",
         "type": "scatter",
         "x": [
          "2020-01-13T00:00:00",
          "2020-01-28T00:00:00",
          "2020-01-29T00:00:00",
          "2020-02-10T00:00:00",
          "2020-02-20T00:00:00",
          "2020-02-24T00:00:00",
          "2020-02-27T00:00:00",
          "2020-02-28T00:00:00",
          "2020-02-29T00:00:00",
          "2020-03-02T00:00:00",
          "2020-03-03T00:00:00",
          "2020-03-04T00:00:00",
          "2020-03-05T00:00:00",
          "2020-03-07T00:00:00",
          "2020-03-08T00:00:00",
          "2020-03-09T00:00:00",
          "2020-03-10T00:00:00",
          "2020-03-11T00:00:00",
          "2020-03-12T00:00:00",
          "2020-03-13T00:00:00",
          "2020-03-14T00:00:00",
          "2020-03-15T00:00:00",
          "2020-03-16T00:00:00",
          "2020-03-17T00:00:00",
          "2020-03-18T00:00:00",
          "2020-03-19T00:00:00",
          "2020-03-20T00:00:00",
          "2020-03-21T00:00:00",
          "2020-03-22T00:00:00",
          "2020-03-23T00:00:00",
          "2020-03-24T00:00:00",
          "2020-03-25T00:00:00",
          "2020-03-26T00:00:00",
          "2020-03-27T00:00:00",
          "2020-03-28T00:00:00",
          "2020-03-29T00:00:00",
          "2020-03-30T00:00:00",
          "2020-03-31T00:00:00",
          "2020-04-01T00:00:00",
          "2020-04-02T00:00:00",
          "2020-04-03T00:00:00",
          "2020-04-04T00:00:00",
          "2020-04-05T00:00:00",
          "2020-04-06T00:00:00",
          "2020-04-07T00:00:00",
          "2020-04-08T00:00:00",
          "2020-04-09T00:00:00",
          "2020-04-10T00:00:00",
          "2020-04-11T00:00:00",
          "2020-04-12T00:00:00",
          "2020-04-13T00:00:00",
          "2020-04-14T00:00:00",
          "2020-04-15T00:00:00",
          "2020-04-16T00:00:00",
          "2020-04-17T00:00:00",
          "2020-04-18T00:00:00",
          "2020-04-19T00:00:00",
          "2020-04-20T00:00:00",
          "2020-04-21T00:00:00",
          "2020-04-22T00:00:00",
          "2020-04-23T00:00:00",
          "2020-04-24T00:00:00",
          "2020-04-25T00:00:00",
          "2020-04-26T00:00:00",
          "2020-04-27T00:00:00",
          "2020-04-28T00:00:00",
          "2020-04-29T00:00:00",
          "2020-04-30T00:00:00",
          "2020-05-01T00:00:00",
          "2020-05-02T00:00:00",
          "2020-05-03T00:00:00",
          "2020-05-04T00:00:00",
          "2020-05-05T00:00:00",
          "2020-05-06T00:00:00",
          "2020-05-07T00:00:00",
          "2020-05-08T00:00:00",
          "2020-05-09T00:00:00",
          "2020-05-10T00:00:00",
          "2020-05-11T00:00:00",
          "2020-05-12T00:00:00",
          "2020-05-13T00:00:00",
          "2020-05-14T00:00:00",
          "2020-05-15T00:00:00",
          "2020-05-16T00:00:00",
          "2020-05-17T00:00:00",
          "2020-05-18T00:00:00",
          "2020-05-19T00:00:00",
          "2020-05-20T00:00:00",
          "2020-05-21T00:00:00",
          "2020-05-22T00:00:00",
          "2020-05-23T00:00:00",
          "2020-05-24T00:00:00",
          "2020-05-25T00:00:00",
          "2020-05-26T00:00:00",
          "2020-05-27T00:00:00",
          "2020-05-28T00:00:00",
          "2020-05-29T00:00:00",
          "2020-05-30T00:00:00",
          "2020-05-31T00:00:00",
          "2020-06-01T00:00:00",
          "2020-06-02T00:00:00",
          "2020-06-03T00:00:00",
          "2020-06-04T00:00:00",
          "2020-06-05T00:00:00",
          "2020-06-06T00:00:00",
          "2020-06-07T00:00:00",
          "2020-06-08T00:00:00",
          "2020-06-09T00:00:00",
          "2020-06-10T00:00:00",
          "2020-06-11T00:00:00",
          "2020-06-12T00:00:00",
          "2020-06-13T00:00:00",
          "2020-06-14T00:00:00",
          "2020-06-15T00:00:00",
          "2020-06-16T00:00:00",
          "2020-06-17T00:00:00",
          "2020-06-18T00:00:00",
          "2020-06-19T00:00:00",
          "2020-06-20T00:00:00",
          "2020-06-21T00:00:00",
          "2020-06-22T00:00:00",
          "2020-06-23T00:00:00",
          "2020-06-24T00:00:00",
          "2020-06-25T00:00:00",
          "2020-06-26T00:00:00",
          "2020-06-27T00:00:00",
          "2020-06-28T00:00:00",
          "2020-06-29T00:00:00",
          "2020-06-30T00:00:00",
          "2020-07-01T00:00:00",
          "2020-07-02T00:00:00",
          "2020-07-03T00:00:00",
          "2020-07-04T00:00:00",
          "2020-07-05T00:00:00",
          "2020-07-06T00:00:00",
          "2020-07-07T00:00:00",
          "2020-07-08T00:00:00",
          "2020-07-09T00:00:00",
          "2020-07-10T00:00:00",
          "2020-07-11T00:00:00",
          "2020-07-12T00:00:00",
          "2020-07-13T00:00:00",
          "2020-07-14T00:00:00",
          "2020-07-15T00:00:00",
          "2020-07-16T00:00:00",
          "2020-07-17T00:00:00",
          "2020-07-18T00:00:00",
          "2020-07-19T00:00:00",
          "2020-07-20T00:00:00",
          "2020-07-21T00:00:00",
          "2020-07-22T00:00:00",
          "2020-07-23T00:00:00",
          "2020-07-24T00:00:00",
          "2020-07-25T00:00:00",
          "2020-07-26T00:00:00",
          "2020-07-27T00:00:00",
          "2020-07-28T00:00:00",
          "2020-07-29T00:00:00",
          "2020-07-30T00:00:00",
          "2020-07-31T00:00:00",
          "2020-08-01T00:00:00",
          "2020-08-02T00:00:00",
          "2020-08-03T00:00:00",
          "2020-08-04T00:00:00",
          "2020-08-05T00:00:00",
          "2020-08-06T00:00:00",
          "2020-08-07T00:00:00",
          "2020-08-08T00:00:00",
          "2020-08-09T00:00:00",
          "2020-08-10T00:00:00",
          "2020-08-11T00:00:00",
          "2020-08-12T00:00:00",
          "2020-08-13T00:00:00",
          "2020-08-14T00:00:00",
          "2020-08-15T00:00:00",
          "2020-08-16T00:00:00",
          "2020-08-17T00:00:00",
          "2020-08-18T00:00:00",
          "2020-08-19T00:00:00",
          "2020-08-20T00:00:00",
          "2020-08-21T00:00:00",
          "2020-08-22T00:00:00",
          "2020-08-23T00:00:00",
          "2020-08-24T00:00:00",
          "2020-08-25T00:00:00",
          "2020-08-26T00:00:00",
          "2020-08-27T00:00:00",
          "2020-08-28T00:00:00",
          "2020-08-29T00:00:00",
          "2020-08-30T00:00:00",
          "2020-08-31T00:00:00",
          "2020-09-01T00:00:00",
          "2020-09-02T00:00:00",
          "2020-09-03T00:00:00",
          "2020-09-04T00:00:00",
          "2020-09-05T00:00:00",
          "2020-09-06T00:00:00",
          "2020-09-07T00:00:00",
          "2020-09-08T00:00:00",
          "2020-09-09T00:00:00",
          "2020-09-10T00:00:00",
          "2020-09-11T00:00:00",
          "2020-09-12T00:00:00",
          "2020-09-13T00:00:00",
          "2020-09-14T00:00:00",
          "2020-09-15T00:00:00",
          "2020-09-16T00:00:00",
          "2020-09-17T00:00:00",
          "2020-09-18T00:00:00",
          "2020-09-19T00:00:00",
          "2020-09-20T00:00:00",
          "2020-09-21T00:00:00",
          "2020-09-22T00:00:00",
          "2020-09-23T00:00:00",
          "2020-09-24T00:00:00",
          "2020-09-25T00:00:00",
          "2020-09-26T00:00:00",
          "2020-09-27T00:00:00",
          "2020-09-28T00:00:00",
          "2020-09-29T00:00:00",
          "2020-09-30T00:00:00",
          "2020-10-01T00:00:00",
          "2020-10-02T00:00:00",
          "2020-10-03T00:00:00",
          "2020-10-04T00:00:00",
          "2020-10-05T00:00:00",
          "2020-10-06T00:00:00",
          "2020-10-07T00:00:00",
          "2020-10-08T00:00:00",
          "2020-10-09T00:00:00",
          "2020-10-10T00:00:00",
          "2020-10-11T00:00:00",
          "2020-10-12T00:00:00",
          "2020-10-13T00:00:00",
          "2020-10-14T00:00:00",
          "2020-10-15T00:00:00",
          "2020-10-16T00:00:00",
          "2020-10-17T00:00:00",
          "2020-10-18T00:00:00",
          "2020-10-19T00:00:00",
          "2020-10-20T00:00:00",
          "2020-10-21T00:00:00",
          "2020-10-22T00:00:00",
          "2020-10-23T00:00:00",
          "2020-10-24T00:00:00",
          "2020-10-25T00:00:00",
          "2020-10-26T00:00:00",
          "2020-10-27T00:00:00",
          "2020-10-28T00:00:00",
          "2020-10-29T00:00:00",
          "2020-10-30T00:00:00",
          "2020-10-31T00:00:00",
          "2020-11-01T00:00:00",
          "2020-11-02T00:00:00",
          "2020-11-03T00:00:00",
          "2020-11-04T00:00:00",
          "2020-11-05T00:00:00",
          "2020-11-06T00:00:00",
          "2020-11-07T00:00:00",
          "2020-11-08T00:00:00",
          "2020-11-09T00:00:00",
          "2020-11-10T00:00:00",
          "2020-11-11T00:00:00",
          "2020-11-12T00:00:00",
          "2020-11-13T00:00:00",
          "2020-11-14T00:00:00",
          "2020-11-15T00:00:00",
          "2020-11-16T00:00:00",
          "2020-11-17T00:00:00",
          "2020-11-18T00:00:00",
          "2020-11-19T00:00:00",
          "2020-11-20T00:00:00",
          "2020-11-21T00:00:00",
          "2020-11-22T00:00:00",
          "2020-11-23T00:00:00",
          "2020-11-24T00:00:00",
          "2020-11-25T00:00:00",
          "2020-11-26T00:00:00",
          "2020-11-27T00:00:00",
          "2020-11-28T00:00:00",
          "2020-11-29T00:00:00",
          "2020-11-30T00:00:00",
          "2020-12-01T00:00:00",
          "2020-12-02T00:00:00",
          "2020-12-03T00:00:00",
          "2020-12-04T00:00:00",
          "2020-12-05T00:00:00",
          "2020-12-06T00:00:00",
          "2020-12-07T00:00:00",
          "2020-12-08T00:00:00",
          "2020-12-09T00:00:00",
          "2020-12-10T00:00:00",
          "2020-12-11T00:00:00",
          "2020-12-12T00:00:00",
          "2020-12-13T00:00:00",
          "2020-12-14T00:00:00",
          "2020-12-15T00:00:00",
          "2020-12-16T00:00:00",
          "2020-12-17T00:00:00",
          "2020-12-18T00:00:00",
          "2020-12-19T00:00:00",
          "2020-12-20T00:00:00",
          "2020-12-21T00:00:00",
          "2020-12-22T00:00:00",
          "2020-12-23T00:00:00",
          "2020-12-24T00:00:00",
          "2020-12-25T00:00:00",
          "2020-12-26T00:00:00",
          "2020-12-27T00:00:00",
          "2020-12-28T00:00:00",
          "2020-12-29T00:00:00",
          "2020-12-30T00:00:00",
          "2020-12-31T00:00:00",
          "2021-01-01T00:00:00"
         ],
         "y": [
          0,
          0,
          0,
          1,
          1,
          1,
          2,
          2,
          2,
          2,
          2,
          3,
          3,
          2,
          2,
          2,
          4,
          7,
          11,
          19,
          26,
          31,
          41,
          53,
          64,
          81,
          91,
          95,
          99,
          112,
          129,
          139,
          148,
          165,
          179,
          191,
          216,
          227,
          253,
          270,
          287,
          295,
          307,
          345,
          374,
          401,
          417,
          440,
          469,
          498,
          542,
          598,
          652,
          725,
          805,
          851,
          890,
          967,
          1040,
          1096,
          1164,
          1242,
          1284,
          1326,
          1380,
          1443,
          1509,
          1564,
          1533,
          1577,
          1612,
          1712,
          1751,
          1822,
          1908,
          2051,
          2074,
          2098,
          2161,
          2280,
          2399,
          2495,
          2646,
          2738,
          2768,
          2921,
          3012,
          3124,
          3257,
          3330,
          3346,
          3380,
          3464,
          3573,
          3653,
          3684,
          3738,
          3802,
          3831,
          3926,
          3986,
          4055,
          4153,
          4250,
          4290,
          4328,
          4452,
          4596,
          4708,
          4777,
          4860,
          4868,
          4903,
          4960,
          5052,
          5108,
          5206,
          5276,
          5347,
          5329,
          5375,
          5405,
          5429,
          5458,
          5517,
          5532,
          5600,
          5690,
          5773,
          5959,
          6069,
          6146,
          6144,
          6149,
          6195,
          6292,
          6269,
          6280,
          6297,
          6326,
          6361,
          6504,
          6588,
          6782,
          6939,
          7048,
          7125,
          7151,
          7189,
          7214,
          7143,
          7118,
          7125,
          7090,
          7030,
          6939,
          6872,
          6781,
          6711,
          6524,
          6473,
          6402,
          6262,
          6148,
          6077,
          5950,
          5936,
          5919,
          5903,
          5861,
          5789,
          5684,
          5642,
          5583,
          5518,
          5507,
          5463,
          5434,
          5411,
          5352,
          5367,
          5352,
          5352,
          5371,
          5362,
          5469,
          5533,
          5536,
          5536,
          5517,
          5507,
          5574,
          5557,
          5531,
          5488,
          5448,
          5430,
          5343,
          5270,
          5142,
          5057,
          4977,
          4964,
          4935,
          4914,
          4588,
          4039,
          4133,
          4164,
          4166,
          4154,
          4162,
          4423,
          4927,
          4786,
          4731,
          4712,
          4712,
          4701,
          4684,
          4657,
          4644,
          4601,
          4568,
          4558,
          4500,
          4489,
          4511,
          4545,
          4644,
          4727,
          4788,
          4918,
          5074,
          5183,
          5312,
          5434,
          5470,
          5482,
          5682,
          5861,
          5979,
          6085,
          6168,
          6192,
          6214,
          6228,
          6170,
          6134,
          6068,
          5935,
          5862,
          5812,
          5355,
          5364,
          5415,
          5503,
          5597,
          5665,
          5724,
          6196,
          6244,
          6358,
          6459,
          6540,
          6594,
          6604,
          5857,
          6009,
          6065,
          6084,
          6190,
          6237,
          6253,
          7243,
          7346,
          7454,
          7644,
          7807,
          7898,
          7934,
          8027,
          8169,
          8419,
          8597,
          8746,
          8857,
          8866,
          9099,
          9293,
          9384,
          9539,
          9729,
          9820,
          9843,
          9972,
          10053,
          10102,
          10062,
          9970,
          9909,
          9941,
          9872,
          9729,
          9442,
          8943,
          7661,
          7467,
          7449,
          7116,
          6652,
          6070,
          5406,
          5114
         ]
        }
       ],
       "layout": {
        "hovermode": "x unified",
        "template": {
         "data": {
          "bar": [
           {
            "error_x": {
             "color": "#2a3f5f"
            },
            "error_y": {
             "color": "#2a3f5f"
            },
            "marker": {
             "line": {
              "color": "white",
              "width": 0.5
             }
            },
            "type": "bar"
           }
          ],
          "barpolar": [
           {
            "marker": {
             "line": {
              "color": "white",
              "width": 0.5
             }
            },
            "type": "barpolar"
           }
          ],
          "carpet": [
           {
            "aaxis": {
             "endlinecolor": "#2a3f5f",
             "gridcolor": "#C8D4E3",
             "linecolor": "#C8D4E3",
             "minorgridcolor": "#C8D4E3",
             "startlinecolor": "#2a3f5f"
            },
            "baxis": {
             "endlinecolor": "#2a3f5f",
             "gridcolor": "#C8D4E3",
             "linecolor": "#C8D4E3",
             "minorgridcolor": "#C8D4E3",
             "startlinecolor": "#2a3f5f"
            },
            "type": "carpet"
           }
          ],
          "choropleth": [
           {
            "colorbar": {
             "outlinewidth": 0,
             "ticks": ""
            },
            "type": "choropleth"
           }
          ],
          "contour": [
           {
            "colorbar": {
             "outlinewidth": 0,
             "ticks": ""
            },
            "colorscale": [
             [
              0,
              "#0d0887"
             ],
             [
              0.1111111111111111,
              "#46039f"
             ],
             [
              0.2222222222222222,
              "#7201a8"
             ],
             [
              0.3333333333333333,
              "#9c179e"
             ],
             [
              0.4444444444444444,
              "#bd3786"
             ],
             [
              0.5555555555555556,
              "#d8576b"
             ],
             [
              0.6666666666666666,
              "#ed7953"
             ],
             [
              0.7777777777777778,
              "#fb9f3a"
             ],
             [
              0.8888888888888888,
              "#fdca26"
             ],
             [
              1,
              "#f0f921"
             ]
            ],
            "type": "contour"
           }
          ],
          "contourcarpet": [
           {
            "colorbar": {
             "outlinewidth": 0,
             "ticks": ""
            },
            "type": "contourcarpet"
           }
          ],
          "heatmap": [
           {
            "colorbar": {
             "outlinewidth": 0,
             "ticks": ""
            },
            "colorscale": [
             [
              0,
              "#0d0887"
             ],
             [
              0.1111111111111111,
              "#46039f"
             ],
             [
              0.2222222222222222,
              "#7201a8"
             ],
             [
              0.3333333333333333,
              "#9c179e"
             ],
             [
              0.4444444444444444,
              "#bd3786"
             ],
             [
              0.5555555555555556,
              "#d8576b"
             ],
             [
              0.6666666666666666,
              "#ed7953"
             ],
             [
              0.7777777777777778,
              "#fb9f3a"
             ],
             [
              0.8888888888888888,
              "#fdca26"
             ],
             [
              1,
              "#f0f921"
             ]
            ],
            "type": "heatmap"
           }
          ],
          "heatmapgl": [
           {
            "colorbar": {
             "outlinewidth": 0,
             "ticks": ""
            },
            "colorscale": [
             [
              0,
              "#0d0887"
             ],
             [
              0.1111111111111111,
              "#46039f"
             ],
             [
              0.2222222222222222,
              "#7201a8"
             ],
             [
              0.3333333333333333,
              "#9c179e"
             ],
             [
              0.4444444444444444,
              "#bd3786"
             ],
             [
              0.5555555555555556,
              "#d8576b"
             ],
             [
              0.6666666666666666,
              "#ed7953"
             ],
             [
              0.7777777777777778,
              "#fb9f3a"
             ],
             [
              0.8888888888888888,
              "#fdca26"
             ],
             [
              1,
              "#f0f921"
             ]
            ],
            "type": "heatmapgl"
           }
          ],
          "histogram": [
           {
            "marker": {
             "colorbar": {
              "outlinewidth": 0,
              "ticks": ""
             }
            },
            "type": "histogram"
           }
          ],
          "histogram2d": [
           {
            "colorbar": {
             "outlinewidth": 0,
             "ticks": ""
            },
            "colorscale": [
             [
              0,
              "#0d0887"
             ],
             [
              0.1111111111111111,
              "#46039f"
             ],
             [
              0.2222222222222222,
              "#7201a8"
             ],
             [
              0.3333333333333333,
              "#9c179e"
             ],
             [
              0.4444444444444444,
              "#bd3786"
             ],
             [
              0.5555555555555556,
              "#d8576b"
             ],
             [
              0.6666666666666666,
              "#ed7953"
             ],
             [
              0.7777777777777778,
              "#fb9f3a"
             ],
             [
              0.8888888888888888,
              "#fdca26"
             ],
             [
              1,
              "#f0f921"
             ]
            ],
            "type": "histogram2d"
           }
          ],
          "histogram2dcontour": [
           {
            "colorbar": {
             "outlinewidth": 0,
             "ticks": ""
            },
            "colorscale": [
             [
              0,
              "#0d0887"
             ],
             [
              0.1111111111111111,
              "#46039f"
             ],
             [
              0.2222222222222222,
              "#7201a8"
             ],
             [
              0.3333333333333333,
              "#9c179e"
             ],
             [
              0.4444444444444444,
              "#bd3786"
             ],
             [
              0.5555555555555556,
              "#d8576b"
             ],
             [
              0.6666666666666666,
              "#ed7953"
             ],
             [
              0.7777777777777778,
              "#fb9f3a"
             ],
             [
              0.8888888888888888,
              "#fdca26"
             ],
             [
              1,
              "#f0f921"
             ]
            ],
            "type": "histogram2dcontour"
           }
          ],
          "mesh3d": [
           {
            "colorbar": {
             "outlinewidth": 0,
             "ticks": ""
            },
            "type": "mesh3d"
           }
          ],
          "parcoords": [
           {
            "line": {
             "colorbar": {
              "outlinewidth": 0,
              "ticks": ""
             }
            },
            "type": "parcoords"
           }
          ],
          "pie": [
           {
            "automargin": true,
            "type": "pie"
           }
          ],
          "scatter": [
           {
            "marker": {
             "colorbar": {
              "outlinewidth": 0,
              "ticks": ""
             }
            },
            "type": "scatter"
           }
          ],
          "scatter3d": [
           {
            "line": {
             "colorbar": {
              "outlinewidth": 0,
              "ticks": ""
             }
            },
            "marker": {
             "colorbar": {
              "outlinewidth": 0,
              "ticks": ""
             }
            },
            "type": "scatter3d"
           }
          ],
          "scattercarpet": [
           {
            "marker": {
             "colorbar": {
              "outlinewidth": 0,
              "ticks": ""
             }
            },
            "type": "scattercarpet"
           }
          ],
          "scattergeo": [
           {
            "marker": {
             "colorbar": {
              "outlinewidth": 0,
              "ticks": ""
             }
            },
            "type": "scattergeo"
           }
          ],
          "scattergl": [
           {
            "marker": {
             "colorbar": {
              "outlinewidth": 0,
              "ticks": ""
             }
            },
            "type": "scattergl"
           }
          ],
          "scattermapbox": [
           {
            "marker": {
             "colorbar": {
              "outlinewidth": 0,
              "ticks": ""
             }
            },
            "type": "scattermapbox"
           }
          ],
          "scatterpolar": [
           {
            "marker": {
             "colorbar": {
              "outlinewidth": 0,
              "ticks": ""
             }
            },
            "type": "scatterpolar"
           }
          ],
          "scatterpolargl": [
           {
            "marker": {
             "colorbar": {
              "outlinewidth": 0,
              "ticks": ""
             }
            },
            "type": "scatterpolargl"
           }
          ],
          "scatterternary": [
           {
            "marker": {
             "colorbar": {
              "outlinewidth": 0,
              "ticks": ""
             }
            },
            "type": "scatterternary"
           }
          ],
          "surface": [
           {
            "colorbar": {
             "outlinewidth": 0,
             "ticks": ""
            },
            "colorscale": [
             [
              0,
              "#0d0887"
             ],
             [
              0.1111111111111111,
              "#46039f"
             ],
             [
              0.2222222222222222,
              "#7201a8"
             ],
             [
              0.3333333333333333,
              "#9c179e"
             ],
             [
              0.4444444444444444,
              "#bd3786"
             ],
             [
              0.5555555555555556,
              "#d8576b"
             ],
             [
              0.6666666666666666,
              "#ed7953"
             ],
             [
              0.7777777777777778,
              "#fb9f3a"
             ],
             [
              0.8888888888888888,
              "#fdca26"
             ],
             [
              1,
              "#f0f921"
             ]
            ],
            "type": "surface"
           }
          ],
          "table": [
           {
            "cells": {
             "fill": {
              "color": "#EBF0F8"
             },
             "line": {
              "color": "white"
             }
            },
            "header": {
             "fill": {
              "color": "#C8D4E3"
             },
             "line": {
              "color": "white"
             }
            },
            "type": "table"
           }
          ]
         },
         "layout": {
          "annotationdefaults": {
           "arrowcolor": "#2a3f5f",
           "arrowhead": 0,
           "arrowwidth": 1
          },
          "coloraxis": {
           "colorbar": {
            "outlinewidth": 0,
            "ticks": ""
           }
          },
          "colorscale": {
           "diverging": [
            [
             0,
             "#8e0152"
            ],
            [
             0.1,
             "#c51b7d"
            ],
            [
             0.2,
             "#de77ae"
            ],
            [
             0.3,
             "#f1b6da"
            ],
            [
             0.4,
             "#fde0ef"
            ],
            [
             0.5,
             "#f7f7f7"
            ],
            [
             0.6,
             "#e6f5d0"
            ],
            [
             0.7,
             "#b8e186"
            ],
            [
             0.8,
             "#7fbc41"
            ],
            [
             0.9,
             "#4d9221"
            ],
            [
             1,
             "#276419"
            ]
           ],
           "sequential": [
            [
             0,
             "#0d0887"
            ],
            [
             0.1111111111111111,
             "#46039f"
            ],
            [
             0.2222222222222222,
             "#7201a8"
            ],
            [
             0.3333333333333333,
             "#9c179e"
            ],
            [
             0.4444444444444444,
             "#bd3786"
            ],
            [
             0.5555555555555556,
             "#d8576b"
            ],
            [
             0.6666666666666666,
             "#ed7953"
            ],
            [
             0.7777777777777778,
             "#fb9f3a"
            ],
            [
             0.8888888888888888,
             "#fdca26"
            ],
            [
             1,
             "#f0f921"
            ]
           ],
           "sequentialminus": [
            [
             0,
             "#0d0887"
            ],
            [
             0.1111111111111111,
             "#46039f"
            ],
            [
             0.2222222222222222,
             "#7201a8"
            ],
            [
             0.3333333333333333,
             "#9c179e"
            ],
            [
             0.4444444444444444,
             "#bd3786"
            ],
            [
             0.5555555555555556,
             "#d8576b"
            ],
            [
             0.6666666666666666,
             "#ed7953"
            ],
            [
             0.7777777777777778,
             "#fb9f3a"
            ],
            [
             0.8888888888888888,
             "#fdca26"
            ],
            [
             1,
             "#f0f921"
            ]
           ]
          },
          "colorway": [
           "#636efa",
           "#EF553B",
           "#00cc96",
           "#ab63fa",
           "#FFA15A",
           "#19d3f3",
           "#FF6692",
           "#B6E880",
           "#FF97FF",
           "#FECB52"
          ],
          "font": {
           "color": "#2a3f5f"
          },
          "geo": {
           "bgcolor": "white",
           "lakecolor": "white",
           "landcolor": "white",
           "showlakes": true,
           "showland": true,
           "subunitcolor": "#C8D4E3"
          },
          "hoverlabel": {
           "align": "left"
          },
          "hovermode": "closest",
          "mapbox": {
           "style": "light"
          },
          "paper_bgcolor": "white",
          "plot_bgcolor": "white",
          "polar": {
           "angularaxis": {
            "gridcolor": "#EBF0F8",
            "linecolor": "#EBF0F8",
            "ticks": ""
           },
           "bgcolor": "white",
           "radialaxis": {
            "gridcolor": "#EBF0F8",
            "linecolor": "#EBF0F8",
            "ticks": ""
           }
          },
          "scene": {
           "xaxis": {
            "backgroundcolor": "white",
            "gridcolor": "#DFE8F3",
            "gridwidth": 2,
            "linecolor": "#EBF0F8",
            "showbackground": true,
            "ticks": "",
            "zerolinecolor": "#EBF0F8"
           },
           "yaxis": {
            "backgroundcolor": "white",
            "gridcolor": "#DFE8F3",
            "gridwidth": 2,
            "linecolor": "#EBF0F8",
            "showbackground": true,
            "ticks": "",
            "zerolinecolor": "#EBF0F8"
           },
           "zaxis": {
            "backgroundcolor": "white",
            "gridcolor": "#DFE8F3",
            "gridwidth": 2,
            "linecolor": "#EBF0F8",
            "showbackground": true,
            "ticks": "",
            "zerolinecolor": "#EBF0F8"
           }
          },
          "shapedefaults": {
           "line": {
            "color": "#2a3f5f"
           }
          },
          "ternary": {
           "aaxis": {
            "gridcolor": "#DFE8F3",
            "linecolor": "#A2B1C6",
            "ticks": ""
           },
           "baxis": {
            "gridcolor": "#DFE8F3",
            "linecolor": "#A2B1C6",
            "ticks": ""
           },
           "bgcolor": "white",
           "caxis": {
            "gridcolor": "#DFE8F3",
            "linecolor": "#A2B1C6",
            "ticks": ""
           }
          },
          "title": {
           "x": 0.05
          },
          "xaxis": {
           "automargin": true,
           "gridcolor": "#EBF0F8",
           "linecolor": "#EBF0F8",
           "ticks": "",
           "title": {
            "standoff": 15
           },
           "zerolinecolor": "#EBF0F8",
           "zerolinewidth": 2
          },
          "yaxis": {
           "automargin": true,
           "gridcolor": "#EBF0F8",
           "linecolor": "#EBF0F8",
           "ticks": "",
           "title": {
            "standoff": 15
           },
           "zerolinecolor": "#EBF0F8",
           "zerolinewidth": 2
          }
         }
        },
        "title": {
         "text": "Nuevos casos de COVID-19 reportados diariamente en México"
        },
        "width": 900,
        "xaxis": {
         "spikethickness": 0.4,
         "title": {
          "text": "Fecha de registro"
         }
        },
        "yaxis": {
         "title": {
          "text": "Nuevos casos confirmados"
         }
        }
       }
      }
     },
     "metadata": {}
    },
    {
     "output_type": "display_data",
     "data": {
      "application/vnd.plotly.v1+json": {
       "config": {
        "plotlyServerURL": "https://plot.ly"
       },
       "data": [
        {
         "marker": {
          "color": "#546e7a",
          "opacity": 0.75
         },
         "name": "Nuevas defunciones",
         "type": "bar",
         "x": [
          "2020-03-03T00:00:00",
          "2020-03-13T00:00:00",
          "2020-03-17T00:00:00",
          "2020-03-18T00:00:00",
          "2020-03-20T00:00:00",
          "2020-03-22T00:00:00",
          "2020-03-23T00:00:00",
          "2020-03-24T00:00:00",
          "2020-03-25T00:00:00",
          "2020-03-26T00:00:00",
          "2020-03-27T00:00:00",
          "2020-03-28T00:00:00",
          "2020-03-29T00:00:00",
          "2020-03-30T00:00:00",
          "2020-03-31T00:00:00",
          "2020-04-01T00:00:00",
          "2020-04-02T00:00:00",
          "2020-04-03T00:00:00",
          "2020-04-04T00:00:00",
          "2020-04-05T00:00:00",
          "2020-04-06T00:00:00",
          "2020-04-07T00:00:00",
          "2020-04-08T00:00:00",
          "2020-04-09T00:00:00",
          "2020-04-10T00:00:00",
          "2020-04-11T00:00:00",
          "2020-04-12T00:00:00",
          "2020-04-13T00:00:00",
          "2020-04-14T00:00:00",
          "2020-04-15T00:00:00",
          "2020-04-16T00:00:00",
          "2020-04-17T00:00:00",
          "2020-04-18T00:00:00",
          "2020-04-19T00:00:00",
          "2020-04-20T00:00:00",
          "2020-04-21T00:00:00",
          "2020-04-22T00:00:00",
          "2020-04-23T00:00:00",
          "2020-04-24T00:00:00",
          "2020-04-25T00:00:00",
          "2020-04-26T00:00:00",
          "2020-04-27T00:00:00",
          "2020-04-28T00:00:00",
          "2020-04-29T00:00:00",
          "2020-04-30T00:00:00",
          "2020-05-01T00:00:00",
          "2020-05-02T00:00:00",
          "2020-05-03T00:00:00",
          "2020-05-04T00:00:00",
          "2020-05-05T00:00:00",
          "2020-05-06T00:00:00",
          "2020-05-07T00:00:00",
          "2020-05-08T00:00:00",
          "2020-05-09T00:00:00",
          "2020-05-10T00:00:00",
          "2020-05-11T00:00:00",
          "2020-05-12T00:00:00",
          "2020-05-13T00:00:00",
          "2020-05-14T00:00:00",
          "2020-05-15T00:00:00",
          "2020-05-16T00:00:00",
          "2020-05-17T00:00:00",
          "2020-05-18T00:00:00",
          "2020-05-19T00:00:00",
          "2020-05-20T00:00:00",
          "2020-05-21T00:00:00",
          "2020-05-22T00:00:00",
          "2020-05-23T00:00:00",
          "2020-05-24T00:00:00",
          "2020-05-25T00:00:00",
          "2020-05-26T00:00:00",
          "2020-05-27T00:00:00",
          "2020-05-28T00:00:00",
          "2020-05-29T00:00:00",
          "2020-05-30T00:00:00",
          "2020-05-31T00:00:00",
          "2020-06-01T00:00:00",
          "2020-06-02T00:00:00",
          "2020-06-03T00:00:00",
          "2020-06-04T00:00:00",
          "2020-06-05T00:00:00",
          "2020-06-06T00:00:00",
          "2020-06-07T00:00:00",
          "2020-06-08T00:00:00",
          "2020-06-09T00:00:00",
          "2020-06-10T00:00:00",
          "2020-06-11T00:00:00",
          "2020-06-12T00:00:00",
          "2020-06-13T00:00:00",
          "2020-06-14T00:00:00",
          "2020-06-15T00:00:00",
          "2020-06-16T00:00:00",
          "2020-06-17T00:00:00",
          "2020-06-18T00:00:00",
          "2020-06-19T00:00:00",
          "2020-06-20T00:00:00",
          "2020-06-21T00:00:00",
          "2020-06-22T00:00:00",
          "2020-06-23T00:00:00",
          "2020-06-24T00:00:00",
          "2020-06-25T00:00:00",
          "2020-06-26T00:00:00",
          "2020-06-27T00:00:00",
          "2020-06-28T00:00:00",
          "2020-06-29T00:00:00",
          "2020-06-30T00:00:00",
          "2020-07-01T00:00:00",
          "2020-07-02T00:00:00",
          "2020-07-03T00:00:00",
          "2020-07-04T00:00:00",
          "2020-07-05T00:00:00",
          "2020-07-06T00:00:00",
          "2020-07-07T00:00:00",
          "2020-07-08T00:00:00",
          "2020-07-09T00:00:00",
          "2020-07-10T00:00:00",
          "2020-07-11T00:00:00",
          "2020-07-12T00:00:00",
          "2020-07-13T00:00:00",
          "2020-07-14T00:00:00",
          "2020-07-15T00:00:00",
          "2020-07-16T00:00:00",
          "2020-07-17T00:00:00",
          "2020-07-18T00:00:00",
          "2020-07-19T00:00:00",
          "2020-07-20T00:00:00",
          "2020-07-21T00:00:00",
          "2020-07-22T00:00:00",
          "2020-07-23T00:00:00",
          "2020-07-24T00:00:00",
          "2020-07-25T00:00:00",
          "2020-07-26T00:00:00",
          "2020-07-27T00:00:00",
          "2020-07-28T00:00:00",
          "2020-07-29T00:00:00",
          "2020-07-30T00:00:00",
          "2020-07-31T00:00:00",
          "2020-08-01T00:00:00",
          "2020-08-02T00:00:00",
          "2020-08-03T00:00:00",
          "2020-08-04T00:00:00",
          "2020-08-05T00:00:00",
          "2020-08-06T00:00:00",
          "2020-08-07T00:00:00",
          "2020-08-08T00:00:00",
          "2020-08-09T00:00:00",
          "2020-08-10T00:00:00",
          "2020-08-11T00:00:00",
          "2020-08-12T00:00:00",
          "2020-08-13T00:00:00",
          "2020-08-14T00:00:00",
          "2020-08-15T00:00:00",
          "2020-08-16T00:00:00",
          "2020-08-17T00:00:00",
          "2020-08-18T00:00:00",
          "2020-08-19T00:00:00",
          "2020-08-20T00:00:00",
          "2020-08-21T00:00:00",
          "2020-08-22T00:00:00",
          "2020-08-23T00:00:00",
          "2020-08-24T00:00:00",
          "2020-08-25T00:00:00",
          "2020-08-26T00:00:00",
          "2020-08-27T00:00:00",
          "2020-08-28T00:00:00",
          "2020-08-29T00:00:00",
          "2020-08-30T00:00:00",
          "2020-08-31T00:00:00",
          "2020-09-01T00:00:00",
          "2020-09-02T00:00:00",
          "2020-09-03T00:00:00",
          "2020-09-04T00:00:00",
          "2020-09-05T00:00:00",
          "2020-09-06T00:00:00",
          "2020-09-07T00:00:00",
          "2020-09-08T00:00:00",
          "2020-09-09T00:00:00",
          "2020-09-10T00:00:00",
          "2020-09-11T00:00:00",
          "2020-09-12T00:00:00",
          "2020-09-13T00:00:00",
          "2020-09-14T00:00:00",
          "2020-09-15T00:00:00",
          "2020-09-16T00:00:00",
          "2020-09-17T00:00:00",
          "2020-09-18T00:00:00",
          "2020-09-19T00:00:00",
          "2020-09-20T00:00:00",
          "2020-09-21T00:00:00",
          "2020-09-22T00:00:00",
          "2020-09-23T00:00:00",
          "2020-09-24T00:00:00",
          "2020-09-25T00:00:00",
          "2020-09-26T00:00:00",
          "2020-09-27T00:00:00",
          "2020-09-28T00:00:00",
          "2020-09-29T00:00:00",
          "2020-09-30T00:00:00",
          "2020-10-01T00:00:00",
          "2020-10-02T00:00:00",
          "2020-10-03T00:00:00",
          "2020-10-04T00:00:00",
          "2020-10-05T00:00:00",
          "2020-10-06T00:00:00",
          "2020-10-07T00:00:00",
          "2020-10-08T00:00:00",
          "2020-10-09T00:00:00",
          "2020-10-10T00:00:00",
          "2020-10-11T00:00:00",
          "2020-10-12T00:00:00",
          "2020-10-13T00:00:00",
          "2020-10-14T00:00:00",
          "2020-10-15T00:00:00",
          "2020-10-16T00:00:00",
          "2020-10-17T00:00:00",
          "2020-10-18T00:00:00",
          "2020-10-19T00:00:00",
          "2020-10-20T00:00:00",
          "2020-10-21T00:00:00",
          "2020-10-22T00:00:00",
          "2020-10-23T00:00:00",
          "2020-10-24T00:00:00",
          "2020-10-25T00:00:00",
          "2020-10-26T00:00:00",
          "2020-10-27T00:00:00",
          "2020-10-28T00:00:00",
          "2020-10-29T00:00:00",
          "2020-10-30T00:00:00",
          "2020-10-31T00:00:00",
          "2020-11-01T00:00:00",
          "2020-11-02T00:00:00",
          "2020-11-03T00:00:00",
          "2020-11-04T00:00:00",
          "2020-11-05T00:00:00",
          "2020-11-06T00:00:00",
          "2020-11-07T00:00:00",
          "2020-11-08T00:00:00",
          "2020-11-09T00:00:00",
          "2020-11-10T00:00:00",
          "2020-11-11T00:00:00",
          "2020-11-12T00:00:00",
          "2020-11-13T00:00:00",
          "2020-11-14T00:00:00",
          "2020-11-15T00:00:00",
          "2020-11-16T00:00:00",
          "2020-11-17T00:00:00",
          "2020-11-18T00:00:00",
          "2020-11-19T00:00:00",
          "2020-11-20T00:00:00",
          "2020-11-21T00:00:00",
          "2020-11-22T00:00:00",
          "2020-11-23T00:00:00",
          "2020-11-24T00:00:00",
          "2020-11-25T00:00:00",
          "2020-11-26T00:00:00",
          "2020-11-27T00:00:00",
          "2020-11-28T00:00:00",
          "2020-11-29T00:00:00",
          "2020-11-30T00:00:00",
          "2020-12-01T00:00:00",
          "2020-12-02T00:00:00",
          "2020-12-03T00:00:00",
          "2020-12-04T00:00:00",
          "2020-12-05T00:00:00",
          "2020-12-06T00:00:00",
          "2020-12-07T00:00:00",
          "2020-12-08T00:00:00",
          "2020-12-09T00:00:00",
          "2020-12-10T00:00:00",
          "2020-12-11T00:00:00",
          "2020-12-12T00:00:00",
          "2020-12-13T00:00:00",
          "2020-12-14T00:00:00",
          "2020-12-15T00:00:00",
          "2020-12-16T00:00:00",
          "2020-12-17T00:00:00",
          "2020-12-18T00:00:00",
          "2020-12-19T00:00:00",
          "2020-12-20T00:00:00",
          "2020-12-21T00:00:00",
          "2020-12-22T00:00:00",
          "2020-12-23T00:00:00",
          "2020-12-24T00:00:00",
          "2020-12-25T00:00:00",
          "2020-12-26T00:00:00",
          "2020-12-27T00:00:00",
          "2020-12-28T00:00:00",
          "2020-12-29T00:00:00",
          "2020-12-30T00:00:00",
          "2020-12-31T00:00:00",
          "2021-01-01T00:00:00"
         ],
         "y": [
          1,
          1,
          1,
          2,
          1,
          2,
          1,
          2,
          2,
          8,
          8,
          15,
          9,
          12,
          22,
          20,
          27,
          33,
          33,
          30,
          53,
          56,
          49,
          55,
          68,
          71,
          73,
          84,
          96,
          97,
          89,
          115,
          118,
          147,
          173,
          172,
          172,
          181,
          216,
          234,
          255,
          223,
          229,
          304,
          283,
          323,
          279,
          283,
          349,
          335,
          323,
          311,
          346,
          336,
          344,
          365,
          388,
          399,
          445,
          456,
          421,
          488,
          486,
          486,
          484,
          484,
          468,
          457,
          502,
          529,
          521,
          497,
          518,
          480,
          523,
          548,
          602,
          545,
          593,
          575,
          542,
          590,
          623,
          665,
          622,
          639,
          593,
          651,
          617,
          643,
          647,
          715,
          693,
          621,
          601,
          533,
          625,
          616,
          596,
          587,
          571,
          634,
          637,
          625,
          684,
          663,
          629,
          639,
          637,
          666,
          693,
          764,
          749,
          682,
          705,
          676,
          682,
          694,
          765,
          730,
          739,
          744,
          701,
          673,
          734,
          727,
          769,
          662,
          723,
          671,
          719,
          727,
          719,
          703,
          626,
          696,
          621,
          667,
          625,
          682,
          707,
          651,
          631,
          589,
          623,
          601,
          617,
          615,
          558,
          562,
          527,
          523,
          528,
          568,
          499,
          547,
          505,
          510,
          507,
          476,
          487,
          494,
          484,
          458,
          486,
          469,
          485,
          504,
          461,
          455,
          451,
          434,
          412,
          421,
          443,
          401,
          436,
          386,
          394,
          419,
          362,
          416,
          393,
          379,
          365,
          326,
          366,
          386,
          376,
          392,
          361,
          364,
          331,
          346,
          331,
          332,
          332,
          318,
          326,
          312,
          331,
          311,
          333,
          318,
          316,
          303,
          283,
          338,
          328,
          382,
          342,
          332,
          350,
          331,
          345,
          360,
          428,
          373,
          421,
          410,
          393,
          383,
          438,
          427,
          408,
          418,
          416,
          416,
          379,
          389,
          436,
          417,
          414,
          446,
          444,
          401,
          399,
          432,
          402,
          424,
          456,
          409,
          394,
          407,
          417,
          445,
          425,
          401,
          468,
          463,
          511,
          468,
          470,
          451,
          484,
          523,
          475,
          488,
          514,
          538,
          501,
          510,
          484,
          529,
          519,
          542,
          502,
          530,
          522,
          534,
          525,
          553,
          539,
          560,
          550,
          540,
          561,
          581,
          559,
          617,
          577,
          561,
          540,
          498,
          549,
          561,
          530,
          480,
          315,
          71,
          1
         ]
        },
        {
         "line": {
          "color": "black",
          "width": 2.5
         },
         "mode": "lines",
         "name": "Promedio de 7 días",
         "type": "scatter",
         "x": [
          "2020-03-03T00:00:00",
          "2020-03-13T00:00:00",
          "2020-03-17T00:00:00",
          "2020-03-18T00:00:00",
          "2020-03-20T00:00:00",
          "2020-03-22T00:00:00",
          "2020-03-23T00:00:00",
          "2020-03-24T00:00:00",
          "2020-03-25T00:00:00",
          "2020-03-26T00:00:00",
          "2020-03-27T00:00:00",
          "2020-03-28T00:00:00",
          "2020-03-29T00:00:00",
          "2020-03-30T00:00:00",
          "2020-03-31T00:00:00",
          "2020-04-01T00:00:00",
          "2020-04-02T00:00:00",
          "2020-04-03T00:00:00",
          "2020-04-04T00:00:00",
          "2020-04-05T00:00:00",
          "2020-04-06T00:00:00",
          "2020-04-07T00:00:00",
          "2020-04-08T00:00:00",
          "2020-04-09T00:00:00",
          "2020-04-10T00:00:00",
          "2020-04-11T00:00:00",
          "2020-04-12T00:00:00",
          "2020-04-13T00:00:00",
          "2020-04-14T00:00:00",
          "2020-04-15T00:00:00",
          "2020-04-16T00:00:00",
          "2020-04-17T00:00:00",
          "2020-04-18T00:00:00",
          "2020-04-19T00:00:00",
          "2020-04-20T00:00:00",
          "2020-04-21T00:00:00",
          "2020-04-22T00:00:00",
          "2020-04-23T00:00:00",
          "2020-04-24T00:00:00",
          "2020-04-25T00:00:00",
          "2020-04-26T00:00:00",
          "2020-04-27T00:00:00",
          "2020-04-28T00:00:00",
          "2020-04-29T00:00:00",
          "2020-04-30T00:00:00",
          "2020-05-01T00:00:00",
          "2020-05-02T00:00:00",
          "2020-05-03T00:00:00",
          "2020-05-04T00:00:00",
          "2020-05-05T00:00:00",
          "2020-05-06T00:00:00",
          "2020-05-07T00:00:00",
          "2020-05-08T00:00:00",
          "2020-05-09T00:00:00",
          "2020-05-10T00:00:00",
          "2020-05-11T00:00:00",
          "2020-05-12T00:00:00",
          "2020-05-13T00:00:00",
          "2020-05-14T00:00:00",
          "2020-05-15T00:00:00",
          "2020-05-16T00:00:00",
          "2020-05-17T00:00:00",
          "2020-05-18T00:00:00",
          "2020-05-19T00:00:00",
          "2020-05-20T00:00:00",
          "2020-05-21T00:00:00",
          "2020-05-22T00:00:00",
          "2020-05-23T00:00:00",
          "2020-05-24T00:00:00",
          "2020-05-25T00:00:00",
          "2020-05-26T00:00:00",
          "2020-05-27T00:00:00",
          "2020-05-28T00:00:00",
          "2020-05-29T00:00:00",
          "2020-05-30T00:00:00",
          "2020-05-31T00:00:00",
          "2020-06-01T00:00:00",
          "2020-06-02T00:00:00",
          "2020-06-03T00:00:00",
          "2020-06-04T00:00:00",
          "2020-06-05T00:00:00",
          "2020-06-06T00:00:00",
          "2020-06-07T00:00:00",
          "2020-06-08T00:00:00",
          "2020-06-09T00:00:00",
          "2020-06-10T00:00:00",
          "2020-06-11T00:00:00",
          "2020-06-12T00:00:00",
          "2020-06-13T00:00:00",
          "2020-06-14T00:00:00",
          "2020-06-15T00:00:00",
          "2020-06-16T00:00:00",
          "2020-06-17T00:00:00",
          "2020-06-18T00:00:00",
          "2020-06-19T00:00:00",
          "2020-06-20T00:00:00",
          "2020-06-21T00:00:00",
          "2020-06-22T00:00:00",
          "2020-06-23T00:00:00",
          "2020-06-24T00:00:00",
          "2020-06-25T00:00:00",
          "2020-06-26T00:00:00",
          "2020-06-27T00:00:00",
          "2020-06-28T00:00:00",
          "2020-06-29T00:00:00",
          "2020-06-30T00:00:00",
          "2020-07-01T00:00:00",
          "2020-07-02T00:00:00",
          "2020-07-03T00:00:00",
          "2020-07-04T00:00:00",
          "2020-07-05T00:00:00",
          "2020-07-06T00:00:00",
          "2020-07-07T00:00:00",
          "2020-07-08T00:00:00",
          "2020-07-09T00:00:00",
          "2020-07-10T00:00:00",
          "2020-07-11T00:00:00",
          "2020-07-12T00:00:00",
          "2020-07-13T00:00:00",
          "2020-07-14T00:00:00",
          "2020-07-15T00:00:00",
          "2020-07-16T00:00:00",
          "2020-07-17T00:00:00",
          "2020-07-18T00:00:00",
          "2020-07-19T00:00:00",
          "2020-07-20T00:00:00",
          "2020-07-21T00:00:00",
          "2020-07-22T00:00:00",
          "2020-07-23T00:00:00",
          "2020-07-24T00:00:00",
          "2020-07-25T00:00:00",
          "2020-07-26T00:00:00",
          "2020-07-27T00:00:00",
          "2020-07-28T00:00:00",
          "2020-07-29T00:00:00",
          "2020-07-30T00:00:00",
          "2020-07-31T00:00:00",
          "2020-08-01T00:00:00",
          "2020-08-02T00:00:00",
          "2020-08-03T00:00:00",
          "2020-08-04T00:00:00",
          "2020-08-05T00:00:00",
          "2020-08-06T00:00:00",
          "2020-08-07T00:00:00",
          "2020-08-08T00:00:00",
          "2020-08-09T00:00:00",
          "2020-08-10T00:00:00",
          "2020-08-11T00:00:00",
          "2020-08-12T00:00:00",
          "2020-08-13T00:00:00",
          "2020-08-14T00:00:00",
          "2020-08-15T00:00:00",
          "2020-08-16T00:00:00",
          "2020-08-17T00:00:00",
          "2020-08-18T00:00:00",
          "2020-08-19T00:00:00",
          "2020-08-20T00:00:00",
          "2020-08-21T00:00:00",
          "2020-08-22T00:00:00",
          "2020-08-23T00:00:00",
          "2020-08-24T00:00:00",
          "2020-08-25T00:00:00",
          "2020-08-26T00:00:00",
          "2020-08-27T00:00:00",
          "2020-08-28T00:00:00",
          "2020-08-29T00:00:00",
          "2020-08-30T00:00:00",
          "2020-08-31T00:00:00",
          "2020-09-01T00:00:00",
          "2020-09-02T00:00:00",
          "2020-09-03T00:00:00",
          "2020-09-04T00:00:00",
          "2020-09-05T00:00:00",
          "2020-09-06T00:00:00",
          "2020-09-07T00:00:00",
          "2020-09-08T00:00:00",
          "2020-09-09T00:00:00",
          "2020-09-10T00:00:00",
          "2020-09-11T00:00:00",
          "2020-09-12T00:00:00",
          "2020-09-13T00:00:00",
          "2020-09-14T00:00:00",
          "2020-09-15T00:00:00",
          "2020-09-16T00:00:00",
          "2020-09-17T00:00:00",
          "2020-09-18T00:00:00",
          "2020-09-19T00:00:00",
          "2020-09-20T00:00:00",
          "2020-09-21T00:00:00",
          "2020-09-22T00:00:00",
          "2020-09-23T00:00:00",
          "2020-09-24T00:00:00",
          "2020-09-25T00:00:00",
          "2020-09-26T00:00:00",
          "2020-09-27T00:00:00",
          "2020-09-28T00:00:00",
          "2020-09-29T00:00:00",
          "2020-09-30T00:00:00",
          "2020-10-01T00:00:00",
          "2020-10-02T00:00:00",
          "2020-10-03T00:00:00",
          "2020-10-04T00:00:00",
          "2020-10-05T00:00:00",
          "2020-10-06T00:00:00",
          "2020-10-07T00:00:00",
          "2020-10-08T00:00:00",
          "2020-10-09T00:00:00",
          "2020-10-10T00:00:00",
          "2020-10-11T00:00:00",
          "2020-10-12T00:00:00",
          "2020-10-13T00:00:00",
          "2020-10-14T00:00:00",
          "2020-10-15T00:00:00",
          "2020-10-16T00:00:00",
          "2020-10-17T00:00:00",
          "2020-10-18T00:00:00",
          "2020-10-19T00:00:00",
          "2020-10-20T00:00:00",
          "2020-10-21T00:00:00",
          "2020-10-22T00:00:00",
          "2020-10-23T00:00:00",
          "2020-10-24T00:00:00",
          "2020-10-25T00:00:00",
          "2020-10-26T00:00:00",
          "2020-10-27T00:00:00",
          "2020-10-28T00:00:00",
          "2020-10-29T00:00:00",
          "2020-10-30T00:00:00",
          "2020-10-31T00:00:00",
          "2020-11-01T00:00:00",
          "2020-11-02T00:00:00",
          "2020-11-03T00:00:00",
          "2020-11-04T00:00:00",
          "2020-11-05T00:00:00",
          "2020-11-06T00:00:00",
          "2020-11-07T00:00:00",
          "2020-11-08T00:00:00",
          "2020-11-09T00:00:00",
          "2020-11-10T00:00:00",
          "2020-11-11T00:00:00",
          "2020-11-12T00:00:00",
          "2020-11-13T00:00:00",
          "2020-11-14T00:00:00",
          "2020-11-15T00:00:00",
          "2020-11-16T00:00:00",
          "2020-11-17T00:00:00",
          "2020-11-18T00:00:00",
          "2020-11-19T00:00:00",
          "2020-11-20T00:00:00",
          "2020-11-21T00:00:00",
          "2020-11-22T00:00:00",
          "2020-11-23T00:00:00",
          "2020-11-24T00:00:00",
          "2020-11-25T00:00:00",
          "2020-11-26T00:00:00",
          "2020-11-27T00:00:00",
          "2020-11-28T00:00:00",
          "2020-11-29T00:00:00",
          "2020-11-30T00:00:00",
          "2020-12-01T00:00:00",
          "2020-12-02T00:00:00",
          "2020-12-03T00:00:00",
          "2020-12-04T00:00:00",
          "2020-12-05T00:00:00",
          "2020-12-06T00:00:00",
          "2020-12-07T00:00:00",
          "2020-12-08T00:00:00",
          "2020-12-09T00:00:00",
          "2020-12-10T00:00:00",
          "2020-12-11T00:00:00",
          "2020-12-12T00:00:00",
          "2020-12-13T00:00:00",
          "2020-12-14T00:00:00",
          "2020-12-15T00:00:00",
          "2020-12-16T00:00:00",
          "2020-12-17T00:00:00",
          "2020-12-18T00:00:00",
          "2020-12-19T00:00:00",
          "2020-12-20T00:00:00",
          "2020-12-21T00:00:00",
          "2020-12-22T00:00:00",
          "2020-12-23T00:00:00",
          "2020-12-24T00:00:00",
          "2020-12-25T00:00:00",
          "2020-12-26T00:00:00",
          "2020-12-27T00:00:00",
          "2020-12-28T00:00:00",
          "2020-12-29T00:00:00",
          "2020-12-30T00:00:00",
          "2020-12-31T00:00:00",
          "2021-01-01T00:00:00"
         ],
         "y": [
          0,
          0,
          0,
          1,
          1,
          1,
          1,
          1,
          2,
          3,
          3,
          5,
          6,
          8,
          11,
          13,
          16,
          20,
          22,
          25,
          31,
          36,
          40,
          44,
          49,
          55,
          61,
          65,
          71,
          78,
          83,
          89,
          96,
          107,
          119,
          130,
          141,
          154,
          168,
          185,
          200,
          208,
          216,
          235,
          249,
          264,
          271,
          275,
          293,
          308,
          311,
          315,
          318,
          326,
          335,
          337,
          345,
          356,
          375,
          390,
          403,
          423,
          440,
          454,
          467,
          472,
          474,
          479,
          481,
          487,
          492,
          494,
          499,
          501,
          510,
          517,
          527,
          530,
          544,
          552,
          561,
          571,
          581,
          590,
          601,
          608,
          611,
          626,
          630,
          633,
          630,
          644,
          651,
          655,
          648,
          636,
          634,
          629,
          612,
          597,
          590,
          595,
          609,
          609,
          619,
          629,
          635,
          644,
          645,
          649,
          659,
          670,
          682,
          690,
          699,
          705,
          707,
          707,
          708,
          705,
          713,
          719,
          722,
          721,
          727,
          721,
          727,
          716,
          713,
          708,
          715,
          714,
          713,
          703,
          698,
          694,
          687,
          680,
          665,
          660,
          661,
          664,
          655,
          650,
          644,
          641,
          631,
          618,
          605,
          595,
          586,
          572,
          561,
          554,
          538,
          536,
          528,
          526,
          523,
          516,
          504,
          504,
          495,
          488,
          485,
          479,
          480,
          483,
          478,
          474,
          473,
          466,
          457,
          448,
          440,
          431,
          428,
          419,
          413,
          414,
          406,
          402,
          401,
          393,
          390,
          380,
          372,
          376,
          370,
          370,
          367,
          367,
          368,
          365,
          357,
          351,
          342,
          336,
          331,
          328,
          326,
          323,
          323,
          321,
          321,
          318,
          314,
          315,
          317,
          324,
          327,
          330,
          336,
          343,
          344,
          349,
          355,
          360,
          373,
          381,
          390,
          395,
          407,
          406,
          411,
          411,
          412,
          415,
          415,
          408,
          409,
          410,
          410,
          414,
          418,
          421,
          422,
          422,
          420,
          421,
          423,
          418,
          417,
          418,
          416,
          422,
          422,
          414,
          422,
          432,
          447,
          454,
          458,
          462,
          474,
          481,
          483,
          480,
          486,
          496,
          503,
          507,
          501,
          509,
          514,
          518,
          512,
          517,
          518,
          525,
          525,
          530,
          529,
          538,
          540,
          543,
          547,
          555,
          556,
          567,
          569,
          571,
          571,
          562,
          557,
          558,
          545,
          531,
          496,
          429,
          358
         ]
        }
       ],
       "layout": {
        "hovermode": "x unified",
        "template": {
         "data": {
          "bar": [
           {
            "error_x": {
             "color": "#2a3f5f"
            },
            "error_y": {
             "color": "#2a3f5f"
            },
            "marker": {
             "line": {
              "color": "white",
              "width": 0.5
             }
            },
            "type": "bar"
           }
          ],
          "barpolar": [
           {
            "marker": {
             "line": {
              "color": "white",
              "width": 0.5
             }
            },
            "type": "barpolar"
           }
          ],
          "carpet": [
           {
            "aaxis": {
             "endlinecolor": "#2a3f5f",
             "gridcolor": "#C8D4E3",
             "linecolor": "#C8D4E3",
             "minorgridcolor": "#C8D4E3",
             "startlinecolor": "#2a3f5f"
            },
            "baxis": {
             "endlinecolor": "#2a3f5f",
             "gridcolor": "#C8D4E3",
             "linecolor": "#C8D4E3",
             "minorgridcolor": "#C8D4E3",
             "startlinecolor": "#2a3f5f"
            },
            "type": "carpet"
           }
          ],
          "choropleth": [
           {
            "colorbar": {
             "outlinewidth": 0,
             "ticks": ""
            },
            "type": "choropleth"
           }
          ],
          "contour": [
           {
            "colorbar": {
             "outlinewidth": 0,
             "ticks": ""
            },
            "colorscale": [
             [
              0,
              "#0d0887"
             ],
             [
              0.1111111111111111,
              "#46039f"
             ],
             [
              0.2222222222222222,
              "#7201a8"
             ],
             [
              0.3333333333333333,
              "#9c179e"
             ],
             [
              0.4444444444444444,
              "#bd3786"
             ],
             [
              0.5555555555555556,
              "#d8576b"
             ],
             [
              0.6666666666666666,
              "#ed7953"
             ],
             [
              0.7777777777777778,
              "#fb9f3a"
             ],
             [
              0.8888888888888888,
              "#fdca26"
             ],
             [
              1,
              "#f0f921"
             ]
            ],
            "type": "contour"
           }
          ],
          "contourcarpet": [
           {
            "colorbar": {
             "outlinewidth": 0,
             "ticks": ""
            },
            "type": "contourcarpet"
           }
          ],
          "heatmap": [
           {
            "colorbar": {
             "outlinewidth": 0,
             "ticks": ""
            },
            "colorscale": [
             [
              0,
              "#0d0887"
             ],
             [
              0.1111111111111111,
              "#46039f"
             ],
             [
              0.2222222222222222,
              "#7201a8"
             ],
             [
              0.3333333333333333,
              "#9c179e"
             ],
             [
              0.4444444444444444,
              "#bd3786"
             ],
             [
              0.5555555555555556,
              "#d8576b"
             ],
             [
              0.6666666666666666,
              "#ed7953"
             ],
             [
              0.7777777777777778,
              "#fb9f3a"
             ],
             [
              0.8888888888888888,
              "#fdca26"
             ],
             [
              1,
              "#f0f921"
             ]
            ],
            "type": "heatmap"
           }
          ],
          "heatmapgl": [
           {
            "colorbar": {
             "outlinewidth": 0,
             "ticks": ""
            },
            "colorscale": [
             [
              0,
              "#0d0887"
             ],
             [
              0.1111111111111111,
              "#46039f"
             ],
             [
              0.2222222222222222,
              "#7201a8"
             ],
             [
              0.3333333333333333,
              "#9c179e"
             ],
             [
              0.4444444444444444,
              "#bd3786"
             ],
             [
              0.5555555555555556,
              "#d8576b"
             ],
             [
              0.6666666666666666,
              "#ed7953"
             ],
             [
              0.7777777777777778,
              "#fb9f3a"
             ],
             [
              0.8888888888888888,
              "#fdca26"
             ],
             [
              1,
              "#f0f921"
             ]
            ],
            "type": "heatmapgl"
           }
          ],
          "histogram": [
           {
            "marker": {
             "colorbar": {
              "outlinewidth": 0,
              "ticks": ""
             }
            },
            "type": "histogram"
           }
          ],
          "histogram2d": [
           {
            "colorbar": {
             "outlinewidth": 0,
             "ticks": ""
            },
            "colorscale": [
             [
              0,
              "#0d0887"
             ],
             [
              0.1111111111111111,
              "#46039f"
             ],
             [
              0.2222222222222222,
              "#7201a8"
             ],
             [
              0.3333333333333333,
              "#9c179e"
             ],
             [
              0.4444444444444444,
              "#bd3786"
             ],
             [
              0.5555555555555556,
              "#d8576b"
             ],
             [
              0.6666666666666666,
              "#ed7953"
             ],
             [
              0.7777777777777778,
              "#fb9f3a"
             ],
             [
              0.8888888888888888,
              "#fdca26"
             ],
             [
              1,
              "#f0f921"
             ]
            ],
            "type": "histogram2d"
           }
          ],
          "histogram2dcontour": [
           {
            "colorbar": {
             "outlinewidth": 0,
             "ticks": ""
            },
            "colorscale": [
             [
              0,
              "#0d0887"
             ],
             [
              0.1111111111111111,
              "#46039f"
             ],
             [
              0.2222222222222222,
              "#7201a8"
             ],
             [
              0.3333333333333333,
              "#9c179e"
             ],
             [
              0.4444444444444444,
              "#bd3786"
             ],
             [
              0.5555555555555556,
              "#d8576b"
             ],
             [
              0.6666666666666666,
              "#ed7953"
             ],
             [
              0.7777777777777778,
              "#fb9f3a"
             ],
             [
              0.8888888888888888,
              "#fdca26"
             ],
             [
              1,
              "#f0f921"
             ]
            ],
            "type": "histogram2dcontour"
           }
          ],
          "mesh3d": [
           {
            "colorbar": {
             "outlinewidth": 0,
             "ticks": ""
            },
            "type": "mesh3d"
           }
          ],
          "parcoords": [
           {
            "line": {
             "colorbar": {
              "outlinewidth": 0,
              "ticks": ""
             }
            },
            "type": "parcoords"
           }
          ],
          "pie": [
           {
            "automargin": true,
            "type": "pie"
           }
          ],
          "scatter": [
           {
            "marker": {
             "colorbar": {
              "outlinewidth": 0,
              "ticks": ""
             }
            },
            "type": "scatter"
           }
          ],
          "scatter3d": [
           {
            "line": {
             "colorbar": {
              "outlinewidth": 0,
              "ticks": ""
             }
            },
            "marker": {
             "colorbar": {
              "outlinewidth": 0,
              "ticks": ""
             }
            },
            "type": "scatter3d"
           }
          ],
          "scattercarpet": [
           {
            "marker": {
             "colorbar": {
              "outlinewidth": 0,
              "ticks": ""
             }
            },
            "type": "scattercarpet"
           }
          ],
          "scattergeo": [
           {
            "marker": {
             "colorbar": {
              "outlinewidth": 0,
              "ticks": ""
             }
            },
            "type": "scattergeo"
           }
          ],
          "scattergl": [
           {
            "marker": {
             "colorbar": {
              "outlinewidth": 0,
              "ticks": ""
             }
            },
            "type": "scattergl"
           }
          ],
          "scattermapbox": [
           {
            "marker": {
             "colorbar": {
              "outlinewidth": 0,
              "ticks": ""
             }
            },
            "type": "scattermapbox"
           }
          ],
          "scatterpolar": [
           {
            "marker": {
             "colorbar": {
              "outlinewidth": 0,
              "ticks": ""
             }
            },
            "type": "scatterpolar"
           }
          ],
          "scatterpolargl": [
           {
            "marker": {
             "colorbar": {
              "outlinewidth": 0,
              "ticks": ""
             }
            },
            "type": "scatterpolargl"
           }
          ],
          "scatterternary": [
           {
            "marker": {
             "colorbar": {
              "outlinewidth": 0,
              "ticks": ""
             }
            },
            "type": "scatterternary"
           }
          ],
          "surface": [
           {
            "colorbar": {
             "outlinewidth": 0,
             "ticks": ""
            },
            "colorscale": [
             [
              0,
              "#0d0887"
             ],
             [
              0.1111111111111111,
              "#46039f"
             ],
             [
              0.2222222222222222,
              "#7201a8"
             ],
             [
              0.3333333333333333,
              "#9c179e"
             ],
             [
              0.4444444444444444,
              "#bd3786"
             ],
             [
              0.5555555555555556,
              "#d8576b"
             ],
             [
              0.6666666666666666,
              "#ed7953"
             ],
             [
              0.7777777777777778,
              "#fb9f3a"
             ],
             [
              0.8888888888888888,
              "#fdca26"
             ],
             [
              1,
              "#f0f921"
             ]
            ],
            "type": "surface"
           }
          ],
          "table": [
           {
            "cells": {
             "fill": {
              "color": "#EBF0F8"
             },
             "line": {
              "color": "white"
             }
            },
            "header": {
             "fill": {
              "color": "#C8D4E3"
             },
             "line": {
              "color": "white"
             }
            },
            "type": "table"
           }
          ]
         },
         "layout": {
          "annotationdefaults": {
           "arrowcolor": "#2a3f5f",
           "arrowhead": 0,
           "arrowwidth": 1
          },
          "coloraxis": {
           "colorbar": {
            "outlinewidth": 0,
            "ticks": ""
           }
          },
          "colorscale": {
           "diverging": [
            [
             0,
             "#8e0152"
            ],
            [
             0.1,
             "#c51b7d"
            ],
            [
             0.2,
             "#de77ae"
            ],
            [
             0.3,
             "#f1b6da"
            ],
            [
             0.4,
             "#fde0ef"
            ],
            [
             0.5,
             "#f7f7f7"
            ],
            [
             0.6,
             "#e6f5d0"
            ],
            [
             0.7,
             "#b8e186"
            ],
            [
             0.8,
             "#7fbc41"
            ],
            [
             0.9,
             "#4d9221"
            ],
            [
             1,
             "#276419"
            ]
           ],
           "sequential": [
            [
             0,
             "#0d0887"
            ],
            [
             0.1111111111111111,
             "#46039f"
            ],
            [
             0.2222222222222222,
             "#7201a8"
            ],
            [
             0.3333333333333333,
             "#9c179e"
            ],
            [
             0.4444444444444444,
             "#bd3786"
            ],
            [
             0.5555555555555556,
             "#d8576b"
            ],
            [
             0.6666666666666666,
             "#ed7953"
            ],
            [
             0.7777777777777778,
             "#fb9f3a"
            ],
            [
             0.8888888888888888,
             "#fdca26"
            ],
            [
             1,
             "#f0f921"
            ]
           ],
           "sequentialminus": [
            [
             0,
             "#0d0887"
            ],
            [
             0.1111111111111111,
             "#46039f"
            ],
            [
             0.2222222222222222,
             "#7201a8"
            ],
            [
             0.3333333333333333,
             "#9c179e"
            ],
            [
             0.4444444444444444,
             "#bd3786"
            ],
            [
             0.5555555555555556,
             "#d8576b"
            ],
            [
             0.6666666666666666,
             "#ed7953"
            ],
            [
             0.7777777777777778,
             "#fb9f3a"
            ],
            [
             0.8888888888888888,
             "#fdca26"
            ],
            [
             1,
             "#f0f921"
            ]
           ]
          },
          "colorway": [
           "#636efa",
           "#EF553B",
           "#00cc96",
           "#ab63fa",
           "#FFA15A",
           "#19d3f3",
           "#FF6692",
           "#B6E880",
           "#FF97FF",
           "#FECB52"
          ],
          "font": {
           "color": "#2a3f5f"
          },
          "geo": {
           "bgcolor": "white",
           "lakecolor": "white",
           "landcolor": "white",
           "showlakes": true,
           "showland": true,
           "subunitcolor": "#C8D4E3"
          },
          "hoverlabel": {
           "align": "left"
          },
          "hovermode": "closest",
          "mapbox": {
           "style": "light"
          },
          "paper_bgcolor": "white",
          "plot_bgcolor": "white",
          "polar": {
           "angularaxis": {
            "gridcolor": "#EBF0F8",
            "linecolor": "#EBF0F8",
            "ticks": ""
           },
           "bgcolor": "white",
           "radialaxis": {
            "gridcolor": "#EBF0F8",
            "linecolor": "#EBF0F8",
            "ticks": ""
           }
          },
          "scene": {
           "xaxis": {
            "backgroundcolor": "white",
            "gridcolor": "#DFE8F3",
            "gridwidth": 2,
            "linecolor": "#EBF0F8",
            "showbackground": true,
            "ticks": "",
            "zerolinecolor": "#EBF0F8"
           },
           "yaxis": {
            "backgroundcolor": "white",
            "gridcolor": "#DFE8F3",
            "gridwidth": 2,
            "linecolor": "#EBF0F8",
            "showbackground": true,
            "ticks": "",
            "zerolinecolor": "#EBF0F8"
           },
           "zaxis": {
            "backgroundcolor": "white",
            "gridcolor": "#DFE8F3",
            "gridwidth": 2,
            "linecolor": "#EBF0F8",
            "showbackground": true,
            "ticks": "",
            "zerolinecolor": "#EBF0F8"
           }
          },
          "shapedefaults": {
           "line": {
            "color": "#2a3f5f"
           }
          },
          "ternary": {
           "aaxis": {
            "gridcolor": "#DFE8F3",
            "linecolor": "#A2B1C6",
            "ticks": ""
           },
           "baxis": {
            "gridcolor": "#DFE8F3",
            "linecolor": "#A2B1C6",
            "ticks": ""
           },
           "bgcolor": "white",
           "caxis": {
            "gridcolor": "#DFE8F3",
            "linecolor": "#A2B1C6",
            "ticks": ""
           }
          },
          "title": {
           "x": 0.05
          },
          "xaxis": {
           "automargin": true,
           "gridcolor": "#EBF0F8",
           "linecolor": "#EBF0F8",
           "ticks": "",
           "title": {
            "standoff": 15
           },
           "zerolinecolor": "#EBF0F8",
           "zerolinewidth": 2
          },
          "yaxis": {
           "automargin": true,
           "gridcolor": "#EBF0F8",
           "linecolor": "#EBF0F8",
           "ticks": "",
           "title": {
            "standoff": 15
           },
           "zerolinecolor": "#EBF0F8",
           "zerolinewidth": 2
          }
         }
        },
        "title": {
         "text": "Nuevas defunciones de COVID-19 reportadas diariamente en México"
        },
        "width": 900,
        "xaxis": {
         "spikethickness": 0.4,
         "title": {
          "text": "Fecha de registro"
         }
        },
        "yaxis": {
         "title": {
          "text": "Nuevas defunciones confirmadas"
         }
        }
       }
      }
     },
     "metadata": {}
    }
   ],
   "source": [
    "\n",
    "# fig_bar1_conf = px.bar(x =confirmados_por_fecha[\"fecha_ingreso\"], y = confirmados_por_fecha[\"confirmados\"], \n",
    "    \n",
    "#                     labels= dict(x = \"Fecha de registro\", y = \"Nuevos casos confirmados\"), title=\"Nuevos casos de COVID-19 reportados diariamente\", width = 900)\n",
    "#fig_bar1_conf.update_traces( marker = dict(color = \"#ff1744\", opacity = 0.6))\n",
    "# fig_bar2_def = px.bar(x = defunciones_por_fecha[\"fecha_defuncion\"], y = defunciones_por_fecha[\"defunciones\"],\n",
    "#                         labels = dict(x = \"Fecha de defunción\", y = \"Defunciones\"), title = \"Nuevas defunciones por COVID-19 reportadas diariamente\", width = 900)\n",
    "\n",
    "# fig_bar2_def.update_traces(marker = dict(color = \"black\"))\n",
    "\n",
    "# Bar plots for confirmed and death cases ...\n",
    "def show_confirmed_cases(cases, region):\n",
    "    fig_bar1 = go.Figure()\n",
    "    fig_bar1.add_trace(go.Bar(x =cases[\"fecha_ingreso\"], y = cases[\"confirmados\"], \n",
    "                                marker = dict(color = \"#ff1744\", opacity = 0.6 ), name = \"Nuevos casos\"))\n",
    "    #Average of seven days curve ...                             \n",
    "    fig_bar1.add_trace(go.Scatter(x = cases[\"fecha_ingreso\"], y =  average_of_seven_days(cases[\"confirmados\"]),\n",
    "                                        mode = \"lines\", line = dict(color = \"#b71c1c\", width = 2.5), name = \"Promedio de 7 días\"))\n",
    "    #custom layout\n",
    "    fig_bar1.update_xaxes(title = \"Fecha de registro\",spikethickness= .4)\n",
    "    fig_bar1.update_yaxes(title = \"Nuevos casos confirmados\")\n",
    "    fig_bar1.update_layout(width = 900, hovermode = \"x unified\", title = \"Nuevos casos de COVID-19 reportados diariamente en \" + region)\n",
    "    #Showing figure ... \n",
    "    fig_bar1.show()\n",
    "\n",
    "def show_deaths(deaths,region):\n",
    "    # Death cases ...\n",
    "    fig_bar2 = go.Figure()\n",
    "    fig_bar2.add_trace(go.Bar(x = deaths[\"fecha_defuncion\"], y = deaths[\"defunciones\"],\n",
    "                                marker = dict(color = \"#546e7a\", opacity = 0.75), name = \"Nuevas defunciones\"))\n",
    "    #Average of seven days curve ...                         \n",
    "    fig_bar2.add_trace(go.Scatter(x = deaths[\"fecha_defuncion\"], y =average_of_seven_days(deaths[\"defunciones\"]),\n",
    "                                        mode = \"lines\", line = dict(color = \"black\", width = 2.5), name = \"Promedio de 7 días\"))\n",
    "    #custom layout\n",
    "    fig_bar2.update_xaxes(title = \"Fecha de registro\",spikethickness= .4)\n",
    "    fig_bar2.update_yaxes(title = \"Nuevas defunciones confirmadas\")\n",
    "    fig_bar2.update_layout(width = 900, hovermode = \"x unified\", title = \"Nuevas defunciones de COVID-19 reportadas diariamente en \" + region)\n",
    "    #Showing figure ...\n",
    "    fig_bar2.show()\n",
    "\n",
    "show_confirmed_cases(confirmados_por_fecha, \"México\")\n",
    "show_deaths(defunciones_por_fecha,\"México\")"
   ]
  },
  {
   "cell_type": "code",
   "execution_count": 94,
   "metadata": {},
   "outputs": [
    {
     "output_type": "display_data",
     "data": {
      "application/vnd.plotly.v1+json": {
       "config": {
        "plotlyServerURL": "https://plot.ly"
       },
       "data": [
        {
         "line": {
          "color": "#ff1744",
          "width": 2.5
         },
         "mode": "lines",
         "name": "Casos confirmados",
         "type": "scatter",
         "x": [
          "2020-01-13T00:00:00",
          "2020-01-28T00:00:00",
          "2020-01-29T00:00:00",
          "2020-02-10T00:00:00",
          "2020-02-20T00:00:00",
          "2020-02-24T00:00:00",
          "2020-02-27T00:00:00",
          "2020-02-28T00:00:00",
          "2020-02-29T00:00:00",
          "2020-03-02T00:00:00",
          "2020-03-03T00:00:00",
          "2020-03-04T00:00:00",
          "2020-03-05T00:00:00",
          "2020-03-07T00:00:00",
          "2020-03-08T00:00:00",
          "2020-03-09T00:00:00",
          "2020-03-10T00:00:00",
          "2020-03-11T00:00:00",
          "2020-03-12T00:00:00",
          "2020-03-13T00:00:00",
          "2020-03-14T00:00:00",
          "2020-03-15T00:00:00",
          "2020-03-16T00:00:00",
          "2020-03-17T00:00:00",
          "2020-03-18T00:00:00",
          "2020-03-19T00:00:00",
          "2020-03-20T00:00:00",
          "2020-03-21T00:00:00",
          "2020-03-22T00:00:00",
          "2020-03-23T00:00:00",
          "2020-03-24T00:00:00",
          "2020-03-25T00:00:00",
          "2020-03-26T00:00:00",
          "2020-03-27T00:00:00",
          "2020-03-28T00:00:00",
          "2020-03-29T00:00:00",
          "2020-03-30T00:00:00",
          "2020-03-31T00:00:00",
          "2020-04-01T00:00:00",
          "2020-04-02T00:00:00",
          "2020-04-03T00:00:00",
          "2020-04-04T00:00:00",
          "2020-04-05T00:00:00",
          "2020-04-06T00:00:00",
          "2020-04-07T00:00:00",
          "2020-04-08T00:00:00",
          "2020-04-09T00:00:00",
          "2020-04-10T00:00:00",
          "2020-04-11T00:00:00",
          "2020-04-12T00:00:00",
          "2020-04-13T00:00:00",
          "2020-04-14T00:00:00",
          "2020-04-15T00:00:00",
          "2020-04-16T00:00:00",
          "2020-04-17T00:00:00",
          "2020-04-18T00:00:00",
          "2020-04-19T00:00:00",
          "2020-04-20T00:00:00",
          "2020-04-21T00:00:00",
          "2020-04-22T00:00:00",
          "2020-04-23T00:00:00",
          "2020-04-24T00:00:00",
          "2020-04-25T00:00:00",
          "2020-04-26T00:00:00",
          "2020-04-27T00:00:00",
          "2020-04-28T00:00:00",
          "2020-04-29T00:00:00",
          "2020-04-30T00:00:00",
          "2020-05-01T00:00:00",
          "2020-05-02T00:00:00",
          "2020-05-03T00:00:00",
          "2020-05-04T00:00:00",
          "2020-05-05T00:00:00",
          "2020-05-06T00:00:00",
          "2020-05-07T00:00:00",
          "2020-05-08T00:00:00",
          "2020-05-09T00:00:00",
          "2020-05-10T00:00:00",
          "2020-05-11T00:00:00",
          "2020-05-12T00:00:00",
          "2020-05-13T00:00:00",
          "2020-05-14T00:00:00",
          "2020-05-15T00:00:00",
          "2020-05-16T00:00:00",
          "2020-05-17T00:00:00",
          "2020-05-18T00:00:00",
          "2020-05-19T00:00:00",
          "2020-05-20T00:00:00",
          "2020-05-21T00:00:00",
          "2020-05-22T00:00:00",
          "2020-05-23T00:00:00",
          "2020-05-24T00:00:00",
          "2020-05-25T00:00:00",
          "2020-05-26T00:00:00",
          "2020-05-27T00:00:00",
          "2020-05-28T00:00:00",
          "2020-05-29T00:00:00",
          "2020-05-30T00:00:00",
          "2020-05-31T00:00:00",
          "2020-06-01T00:00:00",
          "2020-06-02T00:00:00",
          "2020-06-03T00:00:00",
          "2020-06-04T00:00:00",
          "2020-06-05T00:00:00",
          "2020-06-06T00:00:00",
          "2020-06-07T00:00:00",
          "2020-06-08T00:00:00",
          "2020-06-09T00:00:00",
          "2020-06-10T00:00:00",
          "2020-06-11T00:00:00",
          "2020-06-12T00:00:00",
          "2020-06-13T00:00:00",
          "2020-06-14T00:00:00",
          "2020-06-15T00:00:00",
          "2020-06-16T00:00:00",
          "2020-06-17T00:00:00",
          "2020-06-18T00:00:00",
          "2020-06-19T00:00:00",
          "2020-06-20T00:00:00",
          "2020-06-21T00:00:00",
          "2020-06-22T00:00:00",
          "2020-06-23T00:00:00",
          "2020-06-24T00:00:00",
          "2020-06-25T00:00:00",
          "2020-06-26T00:00:00",
          "2020-06-27T00:00:00",
          "2020-06-28T00:00:00",
          "2020-06-29T00:00:00",
          "2020-06-30T00:00:00",
          "2020-07-01T00:00:00",
          "2020-07-02T00:00:00",
          "2020-07-03T00:00:00",
          "2020-07-04T00:00:00",
          "2020-07-05T00:00:00",
          "2020-07-06T00:00:00",
          "2020-07-07T00:00:00",
          "2020-07-08T00:00:00",
          "2020-07-09T00:00:00",
          "2020-07-10T00:00:00",
          "2020-07-11T00:00:00",
          "2020-07-12T00:00:00",
          "2020-07-13T00:00:00",
          "2020-07-14T00:00:00",
          "2020-07-15T00:00:00",
          "2020-07-16T00:00:00",
          "2020-07-17T00:00:00",
          "2020-07-18T00:00:00",
          "2020-07-19T00:00:00",
          "2020-07-20T00:00:00",
          "2020-07-21T00:00:00",
          "2020-07-22T00:00:00",
          "2020-07-23T00:00:00",
          "2020-07-24T00:00:00",
          "2020-07-25T00:00:00",
          "2020-07-26T00:00:00",
          "2020-07-27T00:00:00",
          "2020-07-28T00:00:00",
          "2020-07-29T00:00:00",
          "2020-07-30T00:00:00",
          "2020-07-31T00:00:00",
          "2020-08-01T00:00:00",
          "2020-08-02T00:00:00",
          "2020-08-03T00:00:00",
          "2020-08-04T00:00:00",
          "2020-08-05T00:00:00",
          "2020-08-06T00:00:00",
          "2020-08-07T00:00:00",
          "2020-08-08T00:00:00",
          "2020-08-09T00:00:00",
          "2020-08-10T00:00:00",
          "2020-08-11T00:00:00",
          "2020-08-12T00:00:00",
          "2020-08-13T00:00:00",
          "2020-08-14T00:00:00",
          "2020-08-15T00:00:00",
          "2020-08-16T00:00:00",
          "2020-08-17T00:00:00",
          "2020-08-18T00:00:00",
          "2020-08-19T00:00:00",
          "2020-08-20T00:00:00",
          "2020-08-21T00:00:00",
          "2020-08-22T00:00:00",
          "2020-08-23T00:00:00",
          "2020-08-24T00:00:00",
          "2020-08-25T00:00:00",
          "2020-08-26T00:00:00",
          "2020-08-27T00:00:00",
          "2020-08-28T00:00:00",
          "2020-08-29T00:00:00",
          "2020-08-30T00:00:00",
          "2020-08-31T00:00:00",
          "2020-09-01T00:00:00",
          "2020-09-02T00:00:00",
          "2020-09-03T00:00:00",
          "2020-09-04T00:00:00",
          "2020-09-05T00:00:00",
          "2020-09-06T00:00:00",
          "2020-09-07T00:00:00",
          "2020-09-08T00:00:00",
          "2020-09-09T00:00:00",
          "2020-09-10T00:00:00",
          "2020-09-11T00:00:00",
          "2020-09-12T00:00:00",
          "2020-09-13T00:00:00",
          "2020-09-14T00:00:00",
          "2020-09-15T00:00:00",
          "2020-09-16T00:00:00",
          "2020-09-17T00:00:00",
          "2020-09-18T00:00:00",
          "2020-09-19T00:00:00",
          "2020-09-20T00:00:00",
          "2020-09-21T00:00:00",
          "2020-09-22T00:00:00",
          "2020-09-23T00:00:00",
          "2020-09-24T00:00:00",
          "2020-09-25T00:00:00",
          "2020-09-26T00:00:00",
          "2020-09-27T00:00:00",
          "2020-09-28T00:00:00",
          "2020-09-29T00:00:00",
          "2020-09-30T00:00:00",
          "2020-10-01T00:00:00",
          "2020-10-02T00:00:00",
          "2020-10-03T00:00:00",
          "2020-10-04T00:00:00",
          "2020-10-05T00:00:00",
          "2020-10-06T00:00:00",
          "2020-10-07T00:00:00",
          "2020-10-08T00:00:00",
          "2020-10-09T00:00:00",
          "2020-10-10T00:00:00",
          "2020-10-11T00:00:00",
          "2020-10-12T00:00:00",
          "2020-10-13T00:00:00",
          "2020-10-14T00:00:00",
          "2020-10-15T00:00:00",
          "2020-10-16T00:00:00",
          "2020-10-17T00:00:00",
          "2020-10-18T00:00:00",
          "2020-10-19T00:00:00",
          "2020-10-20T00:00:00",
          "2020-10-21T00:00:00",
          "2020-10-22T00:00:00",
          "2020-10-23T00:00:00",
          "2020-10-24T00:00:00",
          "2020-10-25T00:00:00",
          "2020-10-26T00:00:00",
          "2020-10-27T00:00:00",
          "2020-10-28T00:00:00",
          "2020-10-29T00:00:00",
          "2020-10-30T00:00:00",
          "2020-10-31T00:00:00",
          "2020-11-01T00:00:00",
          "2020-11-02T00:00:00",
          "2020-11-03T00:00:00",
          "2020-11-04T00:00:00",
          "2020-11-05T00:00:00",
          "2020-11-06T00:00:00",
          "2020-11-07T00:00:00",
          "2020-11-08T00:00:00",
          "2020-11-09T00:00:00",
          "2020-11-10T00:00:00",
          "2020-11-11T00:00:00",
          "2020-11-12T00:00:00",
          "2020-11-13T00:00:00",
          "2020-11-14T00:00:00",
          "2020-11-15T00:00:00",
          "2020-11-16T00:00:00",
          "2020-11-17T00:00:00",
          "2020-11-18T00:00:00",
          "2020-11-19T00:00:00",
          "2020-11-20T00:00:00",
          "2020-11-21T00:00:00",
          "2020-11-22T00:00:00",
          "2020-11-23T00:00:00",
          "2020-11-24T00:00:00",
          "2020-11-25T00:00:00",
          "2020-11-26T00:00:00",
          "2020-11-27T00:00:00",
          "2020-11-28T00:00:00",
          "2020-11-29T00:00:00",
          "2020-11-30T00:00:00",
          "2020-12-01T00:00:00",
          "2020-12-02T00:00:00",
          "2020-12-03T00:00:00",
          "2020-12-04T00:00:00",
          "2020-12-05T00:00:00",
          "2020-12-06T00:00:00",
          "2020-12-07T00:00:00",
          "2020-12-08T00:00:00",
          "2020-12-09T00:00:00",
          "2020-12-10T00:00:00",
          "2020-12-11T00:00:00",
          "2020-12-12T00:00:00",
          "2020-12-13T00:00:00",
          "2020-12-14T00:00:00",
          "2020-12-15T00:00:00",
          "2020-12-16T00:00:00",
          "2020-12-17T00:00:00",
          "2020-12-18T00:00:00",
          "2020-12-19T00:00:00",
          "2020-12-20T00:00:00",
          "2020-12-21T00:00:00",
          "2020-12-22T00:00:00",
          "2020-12-23T00:00:00",
          "2020-12-24T00:00:00",
          "2020-12-25T00:00:00",
          "2020-12-26T00:00:00",
          "2020-12-27T00:00:00",
          "2020-12-28T00:00:00",
          "2020-12-29T00:00:00",
          "2020-12-30T00:00:00",
          "2020-12-31T00:00:00",
          "2021-01-01T00:00:00"
         ],
         "y": [
          1,
          2,
          3,
          4,
          5,
          7,
          12,
          15,
          16,
          18,
          21,
          23,
          26,
          27,
          31,
          33,
          44,
          73,
          102,
          162,
          212,
          248,
          318,
          415,
          520,
          669,
          798,
          879,
          944,
          1099,
          1319,
          1493,
          1702,
          1950,
          2131,
          2284,
          2613,
          2908,
          3263,
          3591,
          3960,
          4193,
          4436,
          5031,
          5524,
          6070,
          6510,
          7038,
          7478,
          7924,
          8824,
          9708,
          10636,
          11584,
          12671,
          13434,
          14156,
          15594,
          16985,
          18310,
          19729,
          21365,
          22423,
          23436,
          25257,
          27087,
          28876,
          30677,
          32096,
          33462,
          34717,
          37239,
          39346,
          41628,
          44034,
          46455,
          47982,
          49405,
          52369,
          55306,
          58422,
          61498,
          64976,
          67145,
          68783,
          72814,
          76389,
          80291,
          84296,
          88288,
          90567,
          92442,
          97065,
          101399,
          105863,
          110084,
          114453,
          117182,
          119260,
          124546,
          129301,
          134249,
          139157,
          144200,
          147215,
          149555,
          155708,
          161473,
          167204,
          172595,
          178220,
          181289,
          183877,
          190430,
          196836,
          202960,
          209040,
          215151,
          218715,
          221179,
          228054,
          234668,
          240965,
          247243,
          253772,
          257437,
          260381,
          267886,
          275080,
          282677,
          289725,
          296794,
          300442,
          303425,
          311248,
          319123,
          326558,
          333688,
          340874,
          344724,
          347954,
          356778,
          365238,
          374029,
          382262,
          390213,
          394597,
          398013,
          407101,
          415735,
          424032,
          432087,
          440088,
          444230,
          447225,
          455676,
          463838,
          471497,
          479064,
          485757,
          489539,
          492042,
          499510,
          506875,
          514036,
          520715,
          527309,
          530973,
          533360,
          540535,
          547401,
          553821,
          560210,
          566389,
          569602,
          571909,
          578774,
          585438,
          591697,
          597674,
          603955,
          607068,
          609372,
          616374,
          622971,
          629980,
          636402,
          642709,
          645818,
          647988,
          654925,
          661986,
          668879,
          675120,
          681123,
          683951,
          686001,
          692328,
          698879,
          704871,
          710521,
          715961,
          718701,
          720544,
          726726,
          730994,
          733147,
          739454,
          745112,
          747863,
          749622,
          755857,
          761955,
          767636,
          772957,
          778228,
          780847,
          782605,
          788766,
          794742,
          800238,
          805467,
          810437,
          812820,
          814513,
          820269,
          826166,
          831814,
          837280,
          842944,
          845906,
          848030,
          854692,
          861683,
          868094,
          874463,
          880983,
          884195,
          886401,
          894464,
          902707,
          909944,
          917056,
          924161,
          927541,
          929902,
          938061,
          945897,
          952881,
          959529,
          965709,
          968573,
          970589,
          975549,
          983447,
          990789,
          998053,
          1004886,
          1008228,
          1010658,
          1018919,
          1027154,
          1035296,
          1043265,
          1050667,
          1054384,
          1056888,
          1059915,
          1069218,
          1077754,
          1085850,
          1093997,
          1098042,
          1100662,
          1110618,
          1120642,
          1129933,
          1139358,
          1148644,
          1153327,
          1156197,
          1166809,
          1177823,
          1188866,
          1199535,
          1209869,
          1215325,
          1218262,
          1230501,
          1242876,
          1254551,
          1266309,
          1277969,
          1284065,
          1287160,
          1300307,
          1313250,
          1325264,
          1336740,
          1347761,
          1353425,
          1356749,
          1369412,
          1381353,
          1391357,
          1399344,
          1401385,
          1405692,
          1408894,
          1419226,
          1427917,
          1433844,
          1437184,
          1437185
         ]
        },
        {
         "line": {
          "color": "black",
          "width": 2.5
         },
         "mode": "lines",
         "name": "Defunciones ",
         "type": "scatter",
         "x": [
          "2020-03-03T00:00:00",
          "2020-03-13T00:00:00",
          "2020-03-17T00:00:00",
          "2020-03-18T00:00:00",
          "2020-03-20T00:00:00",
          "2020-03-22T00:00:00",
          "2020-03-23T00:00:00",
          "2020-03-24T00:00:00",
          "2020-03-25T00:00:00",
          "2020-03-26T00:00:00",
          "2020-03-27T00:00:00",
          "2020-03-28T00:00:00",
          "2020-03-29T00:00:00",
          "2020-03-30T00:00:00",
          "2020-03-31T00:00:00",
          "2020-04-01T00:00:00",
          "2020-04-02T00:00:00",
          "2020-04-03T00:00:00",
          "2020-04-04T00:00:00",
          "2020-04-05T00:00:00",
          "2020-04-06T00:00:00",
          "2020-04-07T00:00:00",
          "2020-04-08T00:00:00",
          "2020-04-09T00:00:00",
          "2020-04-10T00:00:00",
          "2020-04-11T00:00:00",
          "2020-04-12T00:00:00",
          "2020-04-13T00:00:00",
          "2020-04-14T00:00:00",
          "2020-04-15T00:00:00",
          "2020-04-16T00:00:00",
          "2020-04-17T00:00:00",
          "2020-04-18T00:00:00",
          "2020-04-19T00:00:00",
          "2020-04-20T00:00:00",
          "2020-04-21T00:00:00",
          "2020-04-22T00:00:00",
          "2020-04-23T00:00:00",
          "2020-04-24T00:00:00",
          "2020-04-25T00:00:00",
          "2020-04-26T00:00:00",
          "2020-04-27T00:00:00",
          "2020-04-28T00:00:00",
          "2020-04-29T00:00:00",
          "2020-04-30T00:00:00",
          "2020-05-01T00:00:00",
          "2020-05-02T00:00:00",
          "2020-05-03T00:00:00",
          "2020-05-04T00:00:00",
          "2020-05-05T00:00:00",
          "2020-05-06T00:00:00",
          "2020-05-07T00:00:00",
          "2020-05-08T00:00:00",
          "2020-05-09T00:00:00",
          "2020-05-10T00:00:00",
          "2020-05-11T00:00:00",
          "2020-05-12T00:00:00",
          "2020-05-13T00:00:00",
          "2020-05-14T00:00:00",
          "2020-05-15T00:00:00",
          "2020-05-16T00:00:00",
          "2020-05-17T00:00:00",
          "2020-05-18T00:00:00",
          "2020-05-19T00:00:00",
          "2020-05-20T00:00:00",
          "2020-05-21T00:00:00",
          "2020-05-22T00:00:00",
          "2020-05-23T00:00:00",
          "2020-05-24T00:00:00",
          "2020-05-25T00:00:00",
          "2020-05-26T00:00:00",
          "2020-05-27T00:00:00",
          "2020-05-28T00:00:00",
          "2020-05-29T00:00:00",
          "2020-05-30T00:00:00",
          "2020-05-31T00:00:00",
          "2020-06-01T00:00:00",
          "2020-06-02T00:00:00",
          "2020-06-03T00:00:00",
          "2020-06-04T00:00:00",
          "2020-06-05T00:00:00",
          "2020-06-06T00:00:00",
          "2020-06-07T00:00:00",
          "2020-06-08T00:00:00",
          "2020-06-09T00:00:00",
          "2020-06-10T00:00:00",
          "2020-06-11T00:00:00",
          "2020-06-12T00:00:00",
          "2020-06-13T00:00:00",
          "2020-06-14T00:00:00",
          "2020-06-15T00:00:00",
          "2020-06-16T00:00:00",
          "2020-06-17T00:00:00",
          "2020-06-18T00:00:00",
          "2020-06-19T00:00:00",
          "2020-06-20T00:00:00",
          "2020-06-21T00:00:00",
          "2020-06-22T00:00:00",
          "2020-06-23T00:00:00",
          "2020-06-24T00:00:00",
          "2020-06-25T00:00:00",
          "2020-06-26T00:00:00",
          "2020-06-27T00:00:00",
          "2020-06-28T00:00:00",
          "2020-06-29T00:00:00",
          "2020-06-30T00:00:00",
          "2020-07-01T00:00:00",
          "2020-07-02T00:00:00",
          "2020-07-03T00:00:00",
          "2020-07-04T00:00:00",
          "2020-07-05T00:00:00",
          "2020-07-06T00:00:00",
          "2020-07-07T00:00:00",
          "2020-07-08T00:00:00",
          "2020-07-09T00:00:00",
          "2020-07-10T00:00:00",
          "2020-07-11T00:00:00",
          "2020-07-12T00:00:00",
          "2020-07-13T00:00:00",
          "2020-07-14T00:00:00",
          "2020-07-15T00:00:00",
          "2020-07-16T00:00:00",
          "2020-07-17T00:00:00",
          "2020-07-18T00:00:00",
          "2020-07-19T00:00:00",
          "2020-07-20T00:00:00",
          "2020-07-21T00:00:00",
          "2020-07-22T00:00:00",
          "2020-07-23T00:00:00",
          "2020-07-24T00:00:00",
          "2020-07-25T00:00:00",
          "2020-07-26T00:00:00",
          "2020-07-27T00:00:00",
          "2020-07-28T00:00:00",
          "2020-07-29T00:00:00",
          "2020-07-30T00:00:00",
          "2020-07-31T00:00:00",
          "2020-08-01T00:00:00",
          "2020-08-02T00:00:00",
          "2020-08-03T00:00:00",
          "2020-08-04T00:00:00",
          "2020-08-05T00:00:00",
          "2020-08-06T00:00:00",
          "2020-08-07T00:00:00",
          "2020-08-08T00:00:00",
          "2020-08-09T00:00:00",
          "2020-08-10T00:00:00",
          "2020-08-11T00:00:00",
          "2020-08-12T00:00:00",
          "2020-08-13T00:00:00",
          "2020-08-14T00:00:00",
          "2020-08-15T00:00:00",
          "2020-08-16T00:00:00",
          "2020-08-17T00:00:00",
          "2020-08-18T00:00:00",
          "2020-08-19T00:00:00",
          "2020-08-20T00:00:00",
          "2020-08-21T00:00:00",
          "2020-08-22T00:00:00",
          "2020-08-23T00:00:00",
          "2020-08-24T00:00:00",
          "2020-08-25T00:00:00",
          "2020-08-26T00:00:00",
          "2020-08-27T00:00:00",
          "2020-08-28T00:00:00",
          "2020-08-29T00:00:00",
          "2020-08-30T00:00:00",
          "2020-08-31T00:00:00",
          "2020-09-01T00:00:00",
          "2020-09-02T00:00:00",
          "2020-09-03T00:00:00",
          "2020-09-04T00:00:00",
          "2020-09-05T00:00:00",
          "2020-09-06T00:00:00",
          "2020-09-07T00:00:00",
          "2020-09-08T00:00:00",
          "2020-09-09T00:00:00",
          "2020-09-10T00:00:00",
          "2020-09-11T00:00:00",
          "2020-09-12T00:00:00",
          "2020-09-13T00:00:00",
          "2020-09-14T00:00:00",
          "2020-09-15T00:00:00",
          "2020-09-16T00:00:00",
          "2020-09-17T00:00:00",
          "2020-09-18T00:00:00",
          "2020-09-19T00:00:00",
          "2020-09-20T00:00:00",
          "2020-09-21T00:00:00",
          "2020-09-22T00:00:00",
          "2020-09-23T00:00:00",
          "2020-09-24T00:00:00",
          "2020-09-25T00:00:00",
          "2020-09-26T00:00:00",
          "2020-09-27T00:00:00",
          "2020-09-28T00:00:00",
          "2020-09-29T00:00:00",
          "2020-09-30T00:00:00",
          "2020-10-01T00:00:00",
          "2020-10-02T00:00:00",
          "2020-10-03T00:00:00",
          "2020-10-04T00:00:00",
          "2020-10-05T00:00:00",
          "2020-10-06T00:00:00",
          "2020-10-07T00:00:00",
          "2020-10-08T00:00:00",
          "2020-10-09T00:00:00",
          "2020-10-10T00:00:00",
          "2020-10-11T00:00:00",
          "2020-10-12T00:00:00",
          "2020-10-13T00:00:00",
          "2020-10-14T00:00:00",
          "2020-10-15T00:00:00",
          "2020-10-16T00:00:00",
          "2020-10-17T00:00:00",
          "2020-10-18T00:00:00",
          "2020-10-19T00:00:00",
          "2020-10-20T00:00:00",
          "2020-10-21T00:00:00",
          "2020-10-22T00:00:00",
          "2020-10-23T00:00:00",
          "2020-10-24T00:00:00",
          "2020-10-25T00:00:00",
          "2020-10-26T00:00:00",
          "2020-10-27T00:00:00",
          "2020-10-28T00:00:00",
          "2020-10-29T00:00:00",
          "2020-10-30T00:00:00",
          "2020-10-31T00:00:00",
          "2020-11-01T00:00:00",
          "2020-11-02T00:00:00",
          "2020-11-03T00:00:00",
          "2020-11-04T00:00:00",
          "2020-11-05T00:00:00",
          "2020-11-06T00:00:00",
          "2020-11-07T00:00:00",
          "2020-11-08T00:00:00",
          "2020-11-09T00:00:00",
          "2020-11-10T00:00:00",
          "2020-11-11T00:00:00",
          "2020-11-12T00:00:00",
          "2020-11-13T00:00:00",
          "2020-11-14T00:00:00",
          "2020-11-15T00:00:00",
          "2020-11-16T00:00:00",
          "2020-11-17T00:00:00",
          "2020-11-18T00:00:00",
          "2020-11-19T00:00:00",
          "2020-11-20T00:00:00",
          "2020-11-21T00:00:00",
          "2020-11-22T00:00:00",
          "2020-11-23T00:00:00",
          "2020-11-24T00:00:00",
          "2020-11-25T00:00:00",
          "2020-11-26T00:00:00",
          "2020-11-27T00:00:00",
          "2020-11-28T00:00:00",
          "2020-11-29T00:00:00",
          "2020-11-30T00:00:00",
          "2020-12-01T00:00:00",
          "2020-12-02T00:00:00",
          "2020-12-03T00:00:00",
          "2020-12-04T00:00:00",
          "2020-12-05T00:00:00",
          "2020-12-06T00:00:00",
          "2020-12-07T00:00:00",
          "2020-12-08T00:00:00",
          "2020-12-09T00:00:00",
          "2020-12-10T00:00:00",
          "2020-12-11T00:00:00",
          "2020-12-12T00:00:00",
          "2020-12-13T00:00:00",
          "2020-12-14T00:00:00",
          "2020-12-15T00:00:00",
          "2020-12-16T00:00:00",
          "2020-12-17T00:00:00",
          "2020-12-18T00:00:00",
          "2020-12-19T00:00:00",
          "2020-12-20T00:00:00",
          "2020-12-21T00:00:00",
          "2020-12-22T00:00:00",
          "2020-12-23T00:00:00",
          "2020-12-24T00:00:00",
          "2020-12-25T00:00:00",
          "2020-12-26T00:00:00",
          "2020-12-27T00:00:00",
          "2020-12-28T00:00:00",
          "2020-12-29T00:00:00",
          "2020-12-30T00:00:00",
          "2020-12-31T00:00:00",
          "2021-01-01T00:00:00"
         ],
         "y": [
          1,
          2,
          3,
          5,
          6,
          8,
          9,
          11,
          13,
          21,
          29,
          44,
          53,
          65,
          87,
          107,
          134,
          167,
          200,
          230,
          283,
          339,
          388,
          443,
          511,
          582,
          655,
          739,
          835,
          932,
          1021,
          1136,
          1254,
          1401,
          1574,
          1746,
          1918,
          2099,
          2315,
          2549,
          2804,
          3027,
          3256,
          3560,
          3843,
          4166,
          4445,
          4728,
          5077,
          5412,
          5735,
          6046,
          6392,
          6728,
          7072,
          7437,
          7825,
          8224,
          8669,
          9125,
          9546,
          10034,
          10520,
          11006,
          11490,
          11974,
          12442,
          12899,
          13401,
          13930,
          14451,
          14948,
          15466,
          15946,
          16469,
          17017,
          17619,
          18164,
          18757,
          19332,
          19874,
          20464,
          21087,
          21752,
          22374,
          23013,
          23606,
          24257,
          24874,
          25517,
          26164,
          26879,
          27572,
          28193,
          28794,
          29327,
          29952,
          30568,
          31164,
          31751,
          32322,
          32956,
          33593,
          34218,
          34902,
          35565,
          36194,
          36833,
          37470,
          38136,
          38829,
          39593,
          40342,
          41024,
          41729,
          42405,
          43087,
          43781,
          44546,
          45276,
          46015,
          46759,
          47460,
          48133,
          48867,
          49594,
          50363,
          51025,
          51748,
          52419,
          53138,
          53865,
          54584,
          55287,
          55913,
          56609,
          57230,
          57897,
          58522,
          59204,
          59911,
          60562,
          61193,
          61782,
          62405,
          63006,
          63623,
          64238,
          64796,
          65358,
          65885,
          66408,
          66936,
          67504,
          68003,
          68550,
          69055,
          69565,
          70072,
          70548,
          71035,
          71529,
          72013,
          72471,
          72957,
          73426,
          73911,
          74415,
          74876,
          75331,
          75782,
          76216,
          76628,
          77049,
          77492,
          77893,
          78329,
          78715,
          79109,
          79528,
          79890,
          80306,
          80699,
          81078,
          81443,
          81769,
          82135,
          82521,
          82897,
          83289,
          83650,
          84014,
          84345,
          84691,
          85022,
          85354,
          85686,
          86004,
          86330,
          86642,
          86973,
          87284,
          87617,
          87935,
          88251,
          88554,
          88837,
          89175,
          89503,
          89885,
          90227,
          90559,
          90909,
          91240,
          91585,
          91945,
          92373,
          92746,
          93167,
          93577,
          93970,
          94353,
          94791,
          95218,
          95626,
          96044,
          96460,
          96876,
          97255,
          97644,
          98080,
          98497,
          98911,
          99357,
          99801,
          100202,
          100601,
          101033,
          101435,
          101859,
          102315,
          102724,
          103118,
          103525,
          103942,
          104387,
          104812,
          105213,
          105681,
          106144,
          106655,
          107123,
          107593,
          108044,
          108528,
          109051,
          109526,
          110014,
          110528,
          111066,
          111567,
          112077,
          112561,
          113090,
          113609,
          114151,
          114653,
          115183,
          115705,
          116239,
          116764,
          117317,
          117856,
          118416,
          118966,
          119506,
          120067,
          120648,
          121207,
          121824,
          122401,
          122962,
          123502,
          124000,
          124549,
          125110,
          125640,
          126120,
          126435,
          126506,
          126507
         ]
        }
       ],
       "layout": {
        "template": {
         "data": {
          "bar": [
           {
            "error_x": {
             "color": "#2a3f5f"
            },
            "error_y": {
             "color": "#2a3f5f"
            },
            "marker": {
             "line": {
              "color": "white",
              "width": 0.5
             }
            },
            "type": "bar"
           }
          ],
          "barpolar": [
           {
            "marker": {
             "line": {
              "color": "white",
              "width": 0.5
             }
            },
            "type": "barpolar"
           }
          ],
          "carpet": [
           {
            "aaxis": {
             "endlinecolor": "#2a3f5f",
             "gridcolor": "#C8D4E3",
             "linecolor": "#C8D4E3",
             "minorgridcolor": "#C8D4E3",
             "startlinecolor": "#2a3f5f"
            },
            "baxis": {
             "endlinecolor": "#2a3f5f",
             "gridcolor": "#C8D4E3",
             "linecolor": "#C8D4E3",
             "minorgridcolor": "#C8D4E3",
             "startlinecolor": "#2a3f5f"
            },
            "type": "carpet"
           }
          ],
          "choropleth": [
           {
            "colorbar": {
             "outlinewidth": 0,
             "ticks": ""
            },
            "type": "choropleth"
           }
          ],
          "contour": [
           {
            "colorbar": {
             "outlinewidth": 0,
             "ticks": ""
            },
            "colorscale": [
             [
              0,
              "#0d0887"
             ],
             [
              0.1111111111111111,
              "#46039f"
             ],
             [
              0.2222222222222222,
              "#7201a8"
             ],
             [
              0.3333333333333333,
              "#9c179e"
             ],
             [
              0.4444444444444444,
              "#bd3786"
             ],
             [
              0.5555555555555556,
              "#d8576b"
             ],
             [
              0.6666666666666666,
              "#ed7953"
             ],
             [
              0.7777777777777778,
              "#fb9f3a"
             ],
             [
              0.8888888888888888,
              "#fdca26"
             ],
             [
              1,
              "#f0f921"
             ]
            ],
            "type": "contour"
           }
          ],
          "contourcarpet": [
           {
            "colorbar": {
             "outlinewidth": 0,
             "ticks": ""
            },
            "type": "contourcarpet"
           }
          ],
          "heatmap": [
           {
            "colorbar": {
             "outlinewidth": 0,
             "ticks": ""
            },
            "colorscale": [
             [
              0,
              "#0d0887"
             ],
             [
              0.1111111111111111,
              "#46039f"
             ],
             [
              0.2222222222222222,
              "#7201a8"
             ],
             [
              0.3333333333333333,
              "#9c179e"
             ],
             [
              0.4444444444444444,
              "#bd3786"
             ],
             [
              0.5555555555555556,
              "#d8576b"
             ],
             [
              0.6666666666666666,
              "#ed7953"
             ],
             [
              0.7777777777777778,
              "#fb9f3a"
             ],
             [
              0.8888888888888888,
              "#fdca26"
             ],
             [
              1,
              "#f0f921"
             ]
            ],
            "type": "heatmap"
           }
          ],
          "heatmapgl": [
           {
            "colorbar": {
             "outlinewidth": 0,
             "ticks": ""
            },
            "colorscale": [
             [
              0,
              "#0d0887"
             ],
             [
              0.1111111111111111,
              "#46039f"
             ],
             [
              0.2222222222222222,
              "#7201a8"
             ],
             [
              0.3333333333333333,
              "#9c179e"
             ],
             [
              0.4444444444444444,
              "#bd3786"
             ],
             [
              0.5555555555555556,
              "#d8576b"
             ],
             [
              0.6666666666666666,
              "#ed7953"
             ],
             [
              0.7777777777777778,
              "#fb9f3a"
             ],
             [
              0.8888888888888888,
              "#fdca26"
             ],
             [
              1,
              "#f0f921"
             ]
            ],
            "type": "heatmapgl"
           }
          ],
          "histogram": [
           {
            "marker": {
             "colorbar": {
              "outlinewidth": 0,
              "ticks": ""
             }
            },
            "type": "histogram"
           }
          ],
          "histogram2d": [
           {
            "colorbar": {
             "outlinewidth": 0,
             "ticks": ""
            },
            "colorscale": [
             [
              0,
              "#0d0887"
             ],
             [
              0.1111111111111111,
              "#46039f"
             ],
             [
              0.2222222222222222,
              "#7201a8"
             ],
             [
              0.3333333333333333,
              "#9c179e"
             ],
             [
              0.4444444444444444,
              "#bd3786"
             ],
             [
              0.5555555555555556,
              "#d8576b"
             ],
             [
              0.6666666666666666,
              "#ed7953"
             ],
             [
              0.7777777777777778,
              "#fb9f3a"
             ],
             [
              0.8888888888888888,
              "#fdca26"
             ],
             [
              1,
              "#f0f921"
             ]
            ],
            "type": "histogram2d"
           }
          ],
          "histogram2dcontour": [
           {
            "colorbar": {
             "outlinewidth": 0,
             "ticks": ""
            },
            "colorscale": [
             [
              0,
              "#0d0887"
             ],
             [
              0.1111111111111111,
              "#46039f"
             ],
             [
              0.2222222222222222,
              "#7201a8"
             ],
             [
              0.3333333333333333,
              "#9c179e"
             ],
             [
              0.4444444444444444,
              "#bd3786"
             ],
             [
              0.5555555555555556,
              "#d8576b"
             ],
             [
              0.6666666666666666,
              "#ed7953"
             ],
             [
              0.7777777777777778,
              "#fb9f3a"
             ],
             [
              0.8888888888888888,
              "#fdca26"
             ],
             [
              1,
              "#f0f921"
             ]
            ],
            "type": "histogram2dcontour"
           }
          ],
          "mesh3d": [
           {
            "colorbar": {
             "outlinewidth": 0,
             "ticks": ""
            },
            "type": "mesh3d"
           }
          ],
          "parcoords": [
           {
            "line": {
             "colorbar": {
              "outlinewidth": 0,
              "ticks": ""
             }
            },
            "type": "parcoords"
           }
          ],
          "pie": [
           {
            "automargin": true,
            "type": "pie"
           }
          ],
          "scatter": [
           {
            "marker": {
             "colorbar": {
              "outlinewidth": 0,
              "ticks": ""
             }
            },
            "type": "scatter"
           }
          ],
          "scatter3d": [
           {
            "line": {
             "colorbar": {
              "outlinewidth": 0,
              "ticks": ""
             }
            },
            "marker": {
             "colorbar": {
              "outlinewidth": 0,
              "ticks": ""
             }
            },
            "type": "scatter3d"
           }
          ],
          "scattercarpet": [
           {
            "marker": {
             "colorbar": {
              "outlinewidth": 0,
              "ticks": ""
             }
            },
            "type": "scattercarpet"
           }
          ],
          "scattergeo": [
           {
            "marker": {
             "colorbar": {
              "outlinewidth": 0,
              "ticks": ""
             }
            },
            "type": "scattergeo"
           }
          ],
          "scattergl": [
           {
            "marker": {
             "colorbar": {
              "outlinewidth": 0,
              "ticks": ""
             }
            },
            "type": "scattergl"
           }
          ],
          "scattermapbox": [
           {
            "marker": {
             "colorbar": {
              "outlinewidth": 0,
              "ticks": ""
             }
            },
            "type": "scattermapbox"
           }
          ],
          "scatterpolar": [
           {
            "marker": {
             "colorbar": {
              "outlinewidth": 0,
              "ticks": ""
             }
            },
            "type": "scatterpolar"
           }
          ],
          "scatterpolargl": [
           {
            "marker": {
             "colorbar": {
              "outlinewidth": 0,
              "ticks": ""
             }
            },
            "type": "scatterpolargl"
           }
          ],
          "scatterternary": [
           {
            "marker": {
             "colorbar": {
              "outlinewidth": 0,
              "ticks": ""
             }
            },
            "type": "scatterternary"
           }
          ],
          "surface": [
           {
            "colorbar": {
             "outlinewidth": 0,
             "ticks": ""
            },
            "colorscale": [
             [
              0,
              "#0d0887"
             ],
             [
              0.1111111111111111,
              "#46039f"
             ],
             [
              0.2222222222222222,
              "#7201a8"
             ],
             [
              0.3333333333333333,
              "#9c179e"
             ],
             [
              0.4444444444444444,
              "#bd3786"
             ],
             [
              0.5555555555555556,
              "#d8576b"
             ],
             [
              0.6666666666666666,
              "#ed7953"
             ],
             [
              0.7777777777777778,
              "#fb9f3a"
             ],
             [
              0.8888888888888888,
              "#fdca26"
             ],
             [
              1,
              "#f0f921"
             ]
            ],
            "type": "surface"
           }
          ],
          "table": [
           {
            "cells": {
             "fill": {
              "color": "#EBF0F8"
             },
             "line": {
              "color": "white"
             }
            },
            "header": {
             "fill": {
              "color": "#C8D4E3"
             },
             "line": {
              "color": "white"
             }
            },
            "type": "table"
           }
          ]
         },
         "layout": {
          "annotationdefaults": {
           "arrowcolor": "#2a3f5f",
           "arrowhead": 0,
           "arrowwidth": 1
          },
          "coloraxis": {
           "colorbar": {
            "outlinewidth": 0,
            "ticks": ""
           }
          },
          "colorscale": {
           "diverging": [
            [
             0,
             "#8e0152"
            ],
            [
             0.1,
             "#c51b7d"
            ],
            [
             0.2,
             "#de77ae"
            ],
            [
             0.3,
             "#f1b6da"
            ],
            [
             0.4,
             "#fde0ef"
            ],
            [
             0.5,
             "#f7f7f7"
            ],
            [
             0.6,
             "#e6f5d0"
            ],
            [
             0.7,
             "#b8e186"
            ],
            [
             0.8,
             "#7fbc41"
            ],
            [
             0.9,
             "#4d9221"
            ],
            [
             1,
             "#276419"
            ]
           ],
           "sequential": [
            [
             0,
             "#0d0887"
            ],
            [
             0.1111111111111111,
             "#46039f"
            ],
            [
             0.2222222222222222,
             "#7201a8"
            ],
            [
             0.3333333333333333,
             "#9c179e"
            ],
            [
             0.4444444444444444,
             "#bd3786"
            ],
            [
             0.5555555555555556,
             "#d8576b"
            ],
            [
             0.6666666666666666,
             "#ed7953"
            ],
            [
             0.7777777777777778,
             "#fb9f3a"
            ],
            [
             0.8888888888888888,
             "#fdca26"
            ],
            [
             1,
             "#f0f921"
            ]
           ],
           "sequentialminus": [
            [
             0,
             "#0d0887"
            ],
            [
             0.1111111111111111,
             "#46039f"
            ],
            [
             0.2222222222222222,
             "#7201a8"
            ],
            [
             0.3333333333333333,
             "#9c179e"
            ],
            [
             0.4444444444444444,
             "#bd3786"
            ],
            [
             0.5555555555555556,
             "#d8576b"
            ],
            [
             0.6666666666666666,
             "#ed7953"
            ],
            [
             0.7777777777777778,
             "#fb9f3a"
            ],
            [
             0.8888888888888888,
             "#fdca26"
            ],
            [
             1,
             "#f0f921"
            ]
           ]
          },
          "colorway": [
           "#636efa",
           "#EF553B",
           "#00cc96",
           "#ab63fa",
           "#FFA15A",
           "#19d3f3",
           "#FF6692",
           "#B6E880",
           "#FF97FF",
           "#FECB52"
          ],
          "font": {
           "color": "#2a3f5f"
          },
          "geo": {
           "bgcolor": "white",
           "lakecolor": "white",
           "landcolor": "white",
           "showlakes": true,
           "showland": true,
           "subunitcolor": "#C8D4E3"
          },
          "hoverlabel": {
           "align": "left"
          },
          "hovermode": "closest",
          "mapbox": {
           "style": "light"
          },
          "paper_bgcolor": "white",
          "plot_bgcolor": "white",
          "polar": {
           "angularaxis": {
            "gridcolor": "#EBF0F8",
            "linecolor": "#EBF0F8",
            "ticks": ""
           },
           "bgcolor": "white",
           "radialaxis": {
            "gridcolor": "#EBF0F8",
            "linecolor": "#EBF0F8",
            "ticks": ""
           }
          },
          "scene": {
           "xaxis": {
            "backgroundcolor": "white",
            "gridcolor": "#DFE8F3",
            "gridwidth": 2,
            "linecolor": "#EBF0F8",
            "showbackground": true,
            "ticks": "",
            "zerolinecolor": "#EBF0F8"
           },
           "yaxis": {
            "backgroundcolor": "white",
            "gridcolor": "#DFE8F3",
            "gridwidth": 2,
            "linecolor": "#EBF0F8",
            "showbackground": true,
            "ticks": "",
            "zerolinecolor": "#EBF0F8"
           },
           "zaxis": {
            "backgroundcolor": "white",
            "gridcolor": "#DFE8F3",
            "gridwidth": 2,
            "linecolor": "#EBF0F8",
            "showbackground": true,
            "ticks": "",
            "zerolinecolor": "#EBF0F8"
           }
          },
          "shapedefaults": {
           "line": {
            "color": "#2a3f5f"
           }
          },
          "ternary": {
           "aaxis": {
            "gridcolor": "#DFE8F3",
            "linecolor": "#A2B1C6",
            "ticks": ""
           },
           "baxis": {
            "gridcolor": "#DFE8F3",
            "linecolor": "#A2B1C6",
            "ticks": ""
           },
           "bgcolor": "white",
           "caxis": {
            "gridcolor": "#DFE8F3",
            "linecolor": "#A2B1C6",
            "ticks": ""
           }
          },
          "title": {
           "x": 0.05
          },
          "xaxis": {
           "automargin": true,
           "gridcolor": "#EBF0F8",
           "linecolor": "#EBF0F8",
           "ticks": "",
           "title": {
            "standoff": 15
           },
           "zerolinecolor": "#EBF0F8",
           "zerolinewidth": 2
          },
          "yaxis": {
           "automargin": true,
           "gridcolor": "#EBF0F8",
           "linecolor": "#EBF0F8",
           "ticks": "",
           "title": {
            "standoff": 15
           },
           "zerolinecolor": "#EBF0F8",
           "zerolinewidth": 2
          }
         }
        },
        "title": {
         "text": "Casos acumulados en México"
        },
        "xaxis": {
         "title": {
          "text": "Fecha de registro"
         }
        },
        "yaxis": {
         "title": {
          "text": "Número de casos acumulados"
         }
        }
       }
      }
     },
     "metadata": {}
    }
   ],
   "source": [
    "# Ploting the commulative confirmed and deaths cases ...\n",
    "\n",
    "def acum_plot(x_conf_data, y_conf_data, x_def_data, y_def_data, region ):\n",
    "    fig_acum = go.Figure()\n",
    "\n",
    "    fig_acum.add_trace(go.Scatter(x = x_conf_data, y = y_conf_data,\n",
    "                    mode = \"lines\" , line = dict(color = \"#ff1744\", width = 2.5), name = \"Casos confirmados\" ))\n",
    "\n",
    "    fig_acum.add_trace(go.Scatter(x = x_def_data, y = y_def_data,\n",
    "                    mode = \"lines\", line = dict(color = \"black\", width = 2.5), name = \"Defunciones \"))\n",
    "\n",
    "    fig_acum.update_xaxes(title = \"Fecha de registro\")\n",
    "    fig_acum.update_yaxes(title = \"Número de casos acumulados\")\n",
    "    fig_acum.update_layout(title = \"Casos acumulados en \" + region )\n",
    "    fig_acum.show()\n",
    "\n",
    "\n",
    "# fig_acum = go.Figure()\n",
    "\n",
    "# fig_acum.add_trace(go.Scatter(x = confirmados_por_fecha[\"fecha_ingreso\"], y = confirmados_por_fecha[\"casos_acumulados\"],\n",
    "#                     mode = \"lines\" , line = dict(color = \"#ff1744\", width = 2.5), name = \"Casos confirmados\" ))\n",
    "\n",
    "# fig_acum.add_trace(go.Scatter(x = defunciones_por_fecha[\"fecha_defuncion\"], y = defunciones_por_fecha[\"defunciones_acumuladas\"],\n",
    "#                     mode = \"lines\", line = dict(color = \"black\", width = 2.5), name = \"Defunciones \"))\n",
    "\n",
    "\n",
    "\n",
    "# fig_acum.update_xaxes(title = \"Fecha de registro\")\n",
    "# fig_acum.update_yaxes(title = \"Número de casos acumulados\")\n",
    "# fig_acum.update_layout(title = \"Casos acumulados en México\")\n",
    "# fig_acum.show()\n",
    "\n",
    "acum_plot(confirmados_por_fecha[\"fecha_ingreso\"],confirmados_por_fecha[\"casos_acumulados\"],\n",
    "            defunciones_por_fecha[\"fecha_defuncion\"], defunciones_por_fecha[\"defunciones_acumuladas\"], region = \"México\" )\n"
   ]
  },
  {
   "cell_type": "code",
   "execution_count": 95,
   "metadata": {},
   "outputs": [
    {
     "output_type": "display_data",
     "data": {
      "application/vnd.plotly.v1+json": {
       "config": {
        "plotlyServerURL": "https://plot.ly"
       },
       "data": [
        {
         "line": {
          "color": "#b4004e"
         },
         "mode": "lines",
         "name": "Casos confirmados",
         "type": "scatter",
         "x": [
          "2020-01-13T00:00:00",
          "2020-01-28T00:00:00",
          "2020-01-29T00:00:00",
          "2020-02-10T00:00:00",
          "2020-02-20T00:00:00",
          "2020-02-24T00:00:00",
          "2020-02-27T00:00:00",
          "2020-02-28T00:00:00",
          "2020-02-29T00:00:00",
          "2020-03-02T00:00:00",
          "2020-03-03T00:00:00",
          "2020-03-04T00:00:00",
          "2020-03-05T00:00:00",
          "2020-03-07T00:00:00",
          "2020-03-08T00:00:00",
          "2020-03-09T00:00:00",
          "2020-03-10T00:00:00",
          "2020-03-11T00:00:00",
          "2020-03-12T00:00:00",
          "2020-03-13T00:00:00",
          "2020-03-14T00:00:00",
          "2020-03-15T00:00:00",
          "2020-03-16T00:00:00",
          "2020-03-17T00:00:00",
          "2020-03-18T00:00:00",
          "2020-03-19T00:00:00",
          "2020-03-20T00:00:00",
          "2020-03-21T00:00:00",
          "2020-03-22T00:00:00",
          "2020-03-23T00:00:00",
          "2020-03-24T00:00:00",
          "2020-03-25T00:00:00",
          "2020-03-26T00:00:00",
          "2020-03-27T00:00:00",
          "2020-03-28T00:00:00",
          "2020-03-29T00:00:00",
          "2020-03-30T00:00:00",
          "2020-03-31T00:00:00",
          "2020-04-01T00:00:00",
          "2020-04-02T00:00:00",
          "2020-04-03T00:00:00",
          "2020-04-04T00:00:00",
          "2020-04-05T00:00:00",
          "2020-04-06T00:00:00",
          "2020-04-07T00:00:00",
          "2020-04-08T00:00:00",
          "2020-04-09T00:00:00",
          "2020-04-10T00:00:00",
          "2020-04-11T00:00:00",
          "2020-04-12T00:00:00",
          "2020-04-13T00:00:00",
          "2020-04-14T00:00:00",
          "2020-04-15T00:00:00",
          "2020-04-16T00:00:00",
          "2020-04-17T00:00:00",
          "2020-04-18T00:00:00",
          "2020-04-19T00:00:00",
          "2020-04-20T00:00:00",
          "2020-04-21T00:00:00",
          "2020-04-22T00:00:00",
          "2020-04-23T00:00:00",
          "2020-04-24T00:00:00",
          "2020-04-25T00:00:00",
          "2020-04-26T00:00:00",
          "2020-04-27T00:00:00",
          "2020-04-28T00:00:00",
          "2020-04-29T00:00:00",
          "2020-04-30T00:00:00",
          "2020-05-01T00:00:00",
          "2020-05-02T00:00:00",
          "2020-05-03T00:00:00",
          "2020-05-04T00:00:00",
          "2020-05-05T00:00:00",
          "2020-05-06T00:00:00",
          "2020-05-07T00:00:00",
          "2020-05-08T00:00:00",
          "2020-05-09T00:00:00",
          "2020-05-10T00:00:00",
          "2020-05-11T00:00:00",
          "2020-05-12T00:00:00",
          "2020-05-13T00:00:00",
          "2020-05-14T00:00:00",
          "2020-05-15T00:00:00",
          "2020-05-16T00:00:00",
          "2020-05-17T00:00:00",
          "2020-05-18T00:00:00",
          "2020-05-19T00:00:00",
          "2020-05-20T00:00:00",
          "2020-05-21T00:00:00",
          "2020-05-22T00:00:00",
          "2020-05-23T00:00:00",
          "2020-05-24T00:00:00",
          "2020-05-25T00:00:00",
          "2020-05-26T00:00:00",
          "2020-05-27T00:00:00",
          "2020-05-28T00:00:00",
          "2020-05-29T00:00:00",
          "2020-05-30T00:00:00",
          "2020-05-31T00:00:00",
          "2020-06-01T00:00:00",
          "2020-06-02T00:00:00",
          "2020-06-03T00:00:00",
          "2020-06-04T00:00:00",
          "2020-06-05T00:00:00",
          "2020-06-06T00:00:00",
          "2020-06-07T00:00:00",
          "2020-06-08T00:00:00",
          "2020-06-09T00:00:00",
          "2020-06-10T00:00:00",
          "2020-06-11T00:00:00",
          "2020-06-12T00:00:00",
          "2020-06-13T00:00:00",
          "2020-06-14T00:00:00",
          "2020-06-15T00:00:00",
          "2020-06-16T00:00:00",
          "2020-06-17T00:00:00",
          "2020-06-18T00:00:00",
          "2020-06-19T00:00:00",
          "2020-06-20T00:00:00",
          "2020-06-21T00:00:00",
          "2020-06-22T00:00:00",
          "2020-06-23T00:00:00",
          "2020-06-24T00:00:00",
          "2020-06-25T00:00:00",
          "2020-06-26T00:00:00",
          "2020-06-27T00:00:00",
          "2020-06-28T00:00:00",
          "2020-06-29T00:00:00",
          "2020-06-30T00:00:00",
          "2020-07-01T00:00:00",
          "2020-07-02T00:00:00",
          "2020-07-03T00:00:00",
          "2020-07-04T00:00:00",
          "2020-07-05T00:00:00",
          "2020-07-06T00:00:00",
          "2020-07-07T00:00:00",
          "2020-07-08T00:00:00",
          "2020-07-09T00:00:00",
          "2020-07-10T00:00:00",
          "2020-07-11T00:00:00",
          "2020-07-12T00:00:00",
          "2020-07-13T00:00:00",
          "2020-07-14T00:00:00",
          "2020-07-15T00:00:00",
          "2020-07-16T00:00:00",
          "2020-07-17T00:00:00",
          "2020-07-18T00:00:00",
          "2020-07-19T00:00:00",
          "2020-07-20T00:00:00",
          "2020-07-21T00:00:00",
          "2020-07-22T00:00:00",
          "2020-07-23T00:00:00",
          "2020-07-24T00:00:00",
          "2020-07-25T00:00:00",
          "2020-07-26T00:00:00",
          "2020-07-27T00:00:00",
          "2020-07-28T00:00:00",
          "2020-07-29T00:00:00",
          "2020-07-30T00:00:00",
          "2020-07-31T00:00:00",
          "2020-08-01T00:00:00",
          "2020-08-02T00:00:00",
          "2020-08-03T00:00:00",
          "2020-08-04T00:00:00",
          "2020-08-05T00:00:00",
          "2020-08-06T00:00:00",
          "2020-08-07T00:00:00",
          "2020-08-08T00:00:00",
          "2020-08-09T00:00:00",
          "2020-08-10T00:00:00",
          "2020-08-11T00:00:00",
          "2020-08-12T00:00:00",
          "2020-08-13T00:00:00",
          "2020-08-14T00:00:00",
          "2020-08-15T00:00:00",
          "2020-08-16T00:00:00",
          "2020-08-17T00:00:00",
          "2020-08-18T00:00:00",
          "2020-08-19T00:00:00",
          "2020-08-20T00:00:00",
          "2020-08-21T00:00:00",
          "2020-08-22T00:00:00",
          "2020-08-23T00:00:00",
          "2020-08-24T00:00:00",
          "2020-08-25T00:00:00",
          "2020-08-26T00:00:00",
          "2020-08-27T00:00:00",
          "2020-08-28T00:00:00",
          "2020-08-29T00:00:00",
          "2020-08-30T00:00:00",
          "2020-08-31T00:00:00",
          "2020-09-01T00:00:00",
          "2020-09-02T00:00:00",
          "2020-09-03T00:00:00",
          "2020-09-04T00:00:00",
          "2020-09-05T00:00:00",
          "2020-09-06T00:00:00",
          "2020-09-07T00:00:00",
          "2020-09-08T00:00:00",
          "2020-09-09T00:00:00",
          "2020-09-10T00:00:00",
          "2020-09-11T00:00:00",
          "2020-09-12T00:00:00",
          "2020-09-13T00:00:00",
          "2020-09-14T00:00:00",
          "2020-09-15T00:00:00",
          "2020-09-16T00:00:00",
          "2020-09-17T00:00:00",
          "2020-09-18T00:00:00",
          "2020-09-19T00:00:00",
          "2020-09-20T00:00:00",
          "2020-09-21T00:00:00",
          "2020-09-22T00:00:00",
          "2020-09-23T00:00:00",
          "2020-09-24T00:00:00",
          "2020-09-25T00:00:00",
          "2020-09-26T00:00:00",
          "2020-09-27T00:00:00",
          "2020-09-28T00:00:00",
          "2020-09-29T00:00:00",
          "2020-09-30T00:00:00",
          "2020-10-01T00:00:00",
          "2020-10-02T00:00:00",
          "2020-10-03T00:00:00",
          "2020-10-04T00:00:00",
          "2020-10-05T00:00:00",
          "2020-10-06T00:00:00",
          "2020-10-07T00:00:00",
          "2020-10-08T00:00:00",
          "2020-10-09T00:00:00",
          "2020-10-10T00:00:00",
          "2020-10-11T00:00:00",
          "2020-10-12T00:00:00",
          "2020-10-13T00:00:00",
          "2020-10-14T00:00:00",
          "2020-10-15T00:00:00",
          "2020-10-16T00:00:00",
          "2020-10-17T00:00:00",
          "2020-10-18T00:00:00",
          "2020-10-19T00:00:00",
          "2020-10-20T00:00:00",
          "2020-10-21T00:00:00",
          "2020-10-22T00:00:00",
          "2020-10-23T00:00:00",
          "2020-10-24T00:00:00",
          "2020-10-25T00:00:00",
          "2020-10-26T00:00:00",
          "2020-10-27T00:00:00",
          "2020-10-28T00:00:00",
          "2020-10-29T00:00:00",
          "2020-10-30T00:00:00",
          "2020-10-31T00:00:00",
          "2020-11-01T00:00:00",
          "2020-11-02T00:00:00",
          "2020-11-03T00:00:00",
          "2020-11-04T00:00:00",
          "2020-11-05T00:00:00",
          "2020-11-06T00:00:00",
          "2020-11-07T00:00:00",
          "2020-11-08T00:00:00",
          "2020-11-09T00:00:00",
          "2020-11-10T00:00:00",
          "2020-11-11T00:00:00",
          "2020-11-12T00:00:00",
          "2020-11-13T00:00:00",
          "2020-11-14T00:00:00",
          "2020-11-15T00:00:00",
          "2020-11-16T00:00:00",
          "2020-11-17T00:00:00",
          "2020-11-18T00:00:00",
          "2020-11-19T00:00:00",
          "2020-11-20T00:00:00",
          "2020-11-21T00:00:00",
          "2020-11-22T00:00:00",
          "2020-11-23T00:00:00",
          "2020-11-24T00:00:00",
          "2020-11-25T00:00:00",
          "2020-11-26T00:00:00",
          "2020-11-27T00:00:00",
          "2020-11-28T00:00:00",
          "2020-11-29T00:00:00",
          "2020-11-30T00:00:00",
          "2020-12-01T00:00:00",
          "2020-12-02T00:00:00",
          "2020-12-03T00:00:00",
          "2020-12-04T00:00:00",
          "2020-12-05T00:00:00",
          "2020-12-06T00:00:00",
          "2020-12-07T00:00:00",
          "2020-12-08T00:00:00",
          "2020-12-09T00:00:00",
          "2020-12-10T00:00:00",
          "2020-12-11T00:00:00",
          "2020-12-12T00:00:00",
          "2020-12-13T00:00:00",
          "2020-12-14T00:00:00",
          "2020-12-15T00:00:00",
          "2020-12-16T00:00:00",
          "2020-12-17T00:00:00",
          "2020-12-18T00:00:00",
          "2020-12-19T00:00:00",
          "2020-12-20T00:00:00",
          "2020-12-21T00:00:00",
          "2020-12-22T00:00:00",
          "2020-12-23T00:00:00",
          "2020-12-24T00:00:00",
          "2020-12-25T00:00:00",
          "2020-12-26T00:00:00",
          "2020-12-27T00:00:00",
          "2020-12-28T00:00:00",
          "2020-12-29T00:00:00",
          "2020-12-30T00:00:00",
          "2020-12-31T00:00:00",
          "2021-01-01T00:00:00"
         ],
         "y": [
          1,
          1,
          1,
          1,
          1,
          2,
          5,
          3,
          1,
          2,
          3,
          2,
          3,
          1,
          4,
          2,
          11,
          29,
          29,
          60,
          50,
          36,
          70,
          97,
          105,
          149,
          129,
          81,
          65,
          155,
          220,
          174,
          209,
          248,
          181,
          153,
          329,
          295,
          355,
          328,
          369,
          233,
          243,
          595,
          493,
          546,
          440,
          528,
          440,
          446,
          900,
          884,
          928,
          948,
          1087,
          763,
          722,
          1438,
          1391,
          1325,
          1419,
          1636,
          1058,
          1013,
          1821,
          1830,
          1789,
          1801,
          1419,
          1366,
          1255,
          2522,
          2107,
          2282,
          2406,
          2421,
          1527,
          1423,
          2964,
          2937,
          3116,
          3076,
          3478,
          2169,
          1638,
          4031,
          3575,
          3902,
          4005,
          3992,
          2279,
          1875,
          4623,
          4334,
          4464,
          4221,
          4369,
          2729,
          2078,
          5286,
          4755,
          4948,
          4908,
          5043,
          3015,
          2340,
          6153,
          5765,
          5731,
          5391,
          5625,
          3069,
          2588,
          6553,
          6406,
          6124,
          6080,
          6111,
          3564,
          2464,
          6875,
          6614,
          6297,
          6278,
          6529,
          3665,
          2944,
          7505,
          7194,
          7597,
          7048,
          7069,
          3648,
          2983,
          7823,
          7875,
          7435,
          7130,
          7186,
          3850,
          3230,
          8824,
          8460,
          8791,
          8233,
          7951,
          4384,
          3416,
          9088,
          8634,
          8297,
          8055,
          8001,
          4142,
          2995,
          8451,
          8162,
          7659,
          7567,
          6693,
          3782,
          2503,
          7468,
          7365,
          7161,
          6679,
          6594,
          3664,
          2387,
          7175,
          6866,
          6420,
          6389,
          6179,
          3213,
          2307,
          6865,
          6664,
          6259,
          5977,
          6281,
          3113,
          2304,
          7002,
          6597,
          7009,
          6422,
          6307,
          3109,
          2170,
          6937,
          7061,
          6893,
          6241,
          6003,
          2828,
          2050,
          6327,
          6551,
          5992,
          5650,
          5440,
          2740,
          1843,
          6182,
          4268,
          2153,
          6307,
          5658,
          2751,
          1759,
          6235,
          6098,
          5681,
          5321,
          5271,
          2619,
          1758,
          6161,
          5976,
          5496,
          5229,
          4970,
          2383,
          1693,
          5756,
          5897,
          5648,
          5466,
          5664,
          2962,
          2124,
          6662,
          6991,
          6411,
          6369,
          6520,
          3212,
          2206,
          8063,
          8243,
          7237,
          7112,
          7105,
          3380,
          2361,
          8159,
          7836,
          6984,
          6648,
          6180,
          2864,
          2016,
          4960,
          7898,
          7342,
          7264,
          6833,
          3342,
          2430,
          8261,
          8235,
          8142,
          7969,
          7402,
          3717,
          2504,
          3027,
          9303,
          8536,
          8096,
          8147,
          4045,
          2620,
          9956,
          10024,
          9291,
          9425,
          9286,
          4683,
          2870,
          10612,
          11014,
          11043,
          10669,
          10334,
          5456,
          2937,
          12239,
          12375,
          11675,
          11758,
          11660,
          6096,
          3095,
          13147,
          12943,
          12014,
          11476,
          11021,
          5664,
          3324,
          12663,
          11941,
          10004,
          7987,
          2041,
          4307,
          3202,
          10332,
          8691,
          5927,
          3340,
          1
         ]
        },
        {
         "line": {
          "color": "black"
         },
         "mode": "lines",
         "name": "Defunciones",
         "type": "scatter",
         "x": [
          "2020-03-03T00:00:00",
          "2020-03-13T00:00:00",
          "2020-03-17T00:00:00",
          "2020-03-18T00:00:00",
          "2020-03-20T00:00:00",
          "2020-03-22T00:00:00",
          "2020-03-23T00:00:00",
          "2020-03-24T00:00:00",
          "2020-03-25T00:00:00",
          "2020-03-26T00:00:00",
          "2020-03-27T00:00:00",
          "2020-03-28T00:00:00",
          "2020-03-29T00:00:00",
          "2020-03-30T00:00:00",
          "2020-03-31T00:00:00",
          "2020-04-01T00:00:00",
          "2020-04-02T00:00:00",
          "2020-04-03T00:00:00",
          "2020-04-04T00:00:00",
          "2020-04-05T00:00:00",
          "2020-04-06T00:00:00",
          "2020-04-07T00:00:00",
          "2020-04-08T00:00:00",
          "2020-04-09T00:00:00",
          "2020-04-10T00:00:00",
          "2020-04-11T00:00:00",
          "2020-04-12T00:00:00",
          "2020-04-13T00:00:00",
          "2020-04-14T00:00:00",
          "2020-04-15T00:00:00",
          "2020-04-16T00:00:00",
          "2020-04-17T00:00:00",
          "2020-04-18T00:00:00",
          "2020-04-19T00:00:00",
          "2020-04-20T00:00:00",
          "2020-04-21T00:00:00",
          "2020-04-22T00:00:00",
          "2020-04-23T00:00:00",
          "2020-04-24T00:00:00",
          "2020-04-25T00:00:00",
          "2020-04-26T00:00:00",
          "2020-04-27T00:00:00",
          "2020-04-28T00:00:00",
          "2020-04-29T00:00:00",
          "2020-04-30T00:00:00",
          "2020-05-01T00:00:00",
          "2020-05-02T00:00:00",
          "2020-05-03T00:00:00",
          "2020-05-04T00:00:00",
          "2020-05-05T00:00:00",
          "2020-05-06T00:00:00",
          "2020-05-07T00:00:00",
          "2020-05-08T00:00:00",
          "2020-05-09T00:00:00",
          "2020-05-10T00:00:00",
          "2020-05-11T00:00:00",
          "2020-05-12T00:00:00",
          "2020-05-13T00:00:00",
          "2020-05-14T00:00:00",
          "2020-05-15T00:00:00",
          "2020-05-16T00:00:00",
          "2020-05-17T00:00:00",
          "2020-05-18T00:00:00",
          "2020-05-19T00:00:00",
          "2020-05-20T00:00:00",
          "2020-05-21T00:00:00",
          "2020-05-22T00:00:00",
          "2020-05-23T00:00:00",
          "2020-05-24T00:00:00",
          "2020-05-25T00:00:00",
          "2020-05-26T00:00:00",
          "2020-05-27T00:00:00",
          "2020-05-28T00:00:00",
          "2020-05-29T00:00:00",
          "2020-05-30T00:00:00",
          "2020-05-31T00:00:00",
          "2020-06-01T00:00:00",
          "2020-06-02T00:00:00",
          "2020-06-03T00:00:00",
          "2020-06-04T00:00:00",
          "2020-06-05T00:00:00",
          "2020-06-06T00:00:00",
          "2020-06-07T00:00:00",
          "2020-06-08T00:00:00",
          "2020-06-09T00:00:00",
          "2020-06-10T00:00:00",
          "2020-06-11T00:00:00",
          "2020-06-12T00:00:00",
          "2020-06-13T00:00:00",
          "2020-06-14T00:00:00",
          "2020-06-15T00:00:00",
          "2020-06-16T00:00:00",
          "2020-06-17T00:00:00",
          "2020-06-18T00:00:00",
          "2020-06-19T00:00:00",
          "2020-06-20T00:00:00",
          "2020-06-21T00:00:00",
          "2020-06-22T00:00:00",
          "2020-06-23T00:00:00",
          "2020-06-24T00:00:00",
          "2020-06-25T00:00:00",
          "2020-06-26T00:00:00",
          "2020-06-27T00:00:00",
          "2020-06-28T00:00:00",
          "2020-06-29T00:00:00",
          "2020-06-30T00:00:00",
          "2020-07-01T00:00:00",
          "2020-07-02T00:00:00",
          "2020-07-03T00:00:00",
          "2020-07-04T00:00:00",
          "2020-07-05T00:00:00",
          "2020-07-06T00:00:00",
          "2020-07-07T00:00:00",
          "2020-07-08T00:00:00",
          "2020-07-09T00:00:00",
          "2020-07-10T00:00:00",
          "2020-07-11T00:00:00",
          "2020-07-12T00:00:00",
          "2020-07-13T00:00:00",
          "2020-07-14T00:00:00",
          "2020-07-15T00:00:00",
          "2020-07-16T00:00:00",
          "2020-07-17T00:00:00",
          "2020-07-18T00:00:00",
          "2020-07-19T00:00:00",
          "2020-07-20T00:00:00",
          "2020-07-21T00:00:00",
          "2020-07-22T00:00:00",
          "2020-07-23T00:00:00",
          "2020-07-24T00:00:00",
          "2020-07-25T00:00:00",
          "2020-07-26T00:00:00",
          "2020-07-27T00:00:00",
          "2020-07-28T00:00:00",
          "2020-07-29T00:00:00",
          "2020-07-30T00:00:00",
          "2020-07-31T00:00:00",
          "2020-08-01T00:00:00",
          "2020-08-02T00:00:00",
          "2020-08-03T00:00:00",
          "2020-08-04T00:00:00",
          "2020-08-05T00:00:00",
          "2020-08-06T00:00:00",
          "2020-08-07T00:00:00",
          "2020-08-08T00:00:00",
          "2020-08-09T00:00:00",
          "2020-08-10T00:00:00",
          "2020-08-11T00:00:00",
          "2020-08-12T00:00:00",
          "2020-08-13T00:00:00",
          "2020-08-14T00:00:00",
          "2020-08-15T00:00:00",
          "2020-08-16T00:00:00",
          "2020-08-17T00:00:00",
          "2020-08-18T00:00:00",
          "2020-08-19T00:00:00",
          "2020-08-20T00:00:00",
          "2020-08-21T00:00:00",
          "2020-08-22T00:00:00",
          "2020-08-23T00:00:00",
          "2020-08-24T00:00:00",
          "2020-08-25T00:00:00",
          "2020-08-26T00:00:00",
          "2020-08-27T00:00:00",
          "2020-08-28T00:00:00",
          "2020-08-29T00:00:00",
          "2020-08-30T00:00:00",
          "2020-08-31T00:00:00",
          "2020-09-01T00:00:00",
          "2020-09-02T00:00:00",
          "2020-09-03T00:00:00",
          "2020-09-04T00:00:00",
          "2020-09-05T00:00:00",
          "2020-09-06T00:00:00",
          "2020-09-07T00:00:00",
          "2020-09-08T00:00:00",
          "2020-09-09T00:00:00",
          "2020-09-10T00:00:00",
          "2020-09-11T00:00:00",
          "2020-09-12T00:00:00",
          "2020-09-13T00:00:00",
          "2020-09-14T00:00:00",
          "2020-09-15T00:00:00",
          "2020-09-16T00:00:00",
          "2020-09-17T00:00:00",
          "2020-09-18T00:00:00",
          "2020-09-19T00:00:00",
          "2020-09-20T00:00:00",
          "2020-09-21T00:00:00",
          "2020-09-22T00:00:00",
          "2020-09-23T00:00:00",
          "2020-09-24T00:00:00",
          "2020-09-25T00:00:00",
          "2020-09-26T00:00:00",
          "2020-09-27T00:00:00",
          "2020-09-28T00:00:00",
          "2020-09-29T00:00:00",
          "2020-09-30T00:00:00",
          "2020-10-01T00:00:00",
          "2020-10-02T00:00:00",
          "2020-10-03T00:00:00",
          "2020-10-04T00:00:00",
          "2020-10-05T00:00:00",
          "2020-10-06T00:00:00",
          "2020-10-07T00:00:00",
          "2020-10-08T00:00:00",
          "2020-10-09T00:00:00",
          "2020-10-10T00:00:00",
          "2020-10-11T00:00:00",
          "2020-10-12T00:00:00",
          "2020-10-13T00:00:00",
          "2020-10-14T00:00:00",
          "2020-10-15T00:00:00",
          "2020-10-16T00:00:00",
          "2020-10-17T00:00:00",
          "2020-10-18T00:00:00",
          "2020-10-19T00:00:00",
          "2020-10-20T00:00:00",
          "2020-10-21T00:00:00",
          "2020-10-22T00:00:00",
          "2020-10-23T00:00:00",
          "2020-10-24T00:00:00",
          "2020-10-25T00:00:00",
          "2020-10-26T00:00:00",
          "2020-10-27T00:00:00",
          "2020-10-28T00:00:00",
          "2020-10-29T00:00:00",
          "2020-10-30T00:00:00",
          "2020-10-31T00:00:00",
          "2020-11-01T00:00:00",
          "2020-11-02T00:00:00",
          "2020-11-03T00:00:00",
          "2020-11-04T00:00:00",
          "2020-11-05T00:00:00",
          "2020-11-06T00:00:00",
          "2020-11-07T00:00:00",
          "2020-11-08T00:00:00",
          "2020-11-09T00:00:00",
          "2020-11-10T00:00:00",
          "2020-11-11T00:00:00",
          "2020-11-12T00:00:00",
          "2020-11-13T00:00:00",
          "2020-11-14T00:00:00",
          "2020-11-15T00:00:00",
          "2020-11-16T00:00:00",
          "2020-11-17T00:00:00",
          "2020-11-18T00:00:00",
          "2020-11-19T00:00:00",
          "2020-11-20T00:00:00",
          "2020-11-21T00:00:00",
          "2020-11-22T00:00:00",
          "2020-11-23T00:00:00",
          "2020-11-24T00:00:00",
          "2020-11-25T00:00:00",
          "2020-11-26T00:00:00",
          "2020-11-27T00:00:00",
          "2020-11-28T00:00:00",
          "2020-11-29T00:00:00",
          "2020-11-30T00:00:00",
          "2020-12-01T00:00:00",
          "2020-12-02T00:00:00",
          "2020-12-03T00:00:00",
          "2020-12-04T00:00:00",
          "2020-12-05T00:00:00",
          "2020-12-06T00:00:00",
          "2020-12-07T00:00:00",
          "2020-12-08T00:00:00",
          "2020-12-09T00:00:00",
          "2020-12-10T00:00:00",
          "2020-12-11T00:00:00",
          "2020-12-12T00:00:00",
          "2020-12-13T00:00:00",
          "2020-12-14T00:00:00",
          "2020-12-15T00:00:00",
          "2020-12-16T00:00:00",
          "2020-12-17T00:00:00",
          "2020-12-18T00:00:00",
          "2020-12-19T00:00:00",
          "2020-12-20T00:00:00",
          "2020-12-21T00:00:00",
          "2020-12-22T00:00:00",
          "2020-12-23T00:00:00",
          "2020-12-24T00:00:00",
          "2020-12-25T00:00:00",
          "2020-12-26T00:00:00",
          "2020-12-27T00:00:00",
          "2020-12-28T00:00:00",
          "2020-12-29T00:00:00",
          "2020-12-30T00:00:00",
          "2020-12-31T00:00:00",
          "2021-01-01T00:00:00"
         ],
         "y": [
          1,
          1,
          1,
          2,
          1,
          2,
          1,
          2,
          2,
          8,
          8,
          15,
          9,
          12,
          22,
          20,
          27,
          33,
          33,
          30,
          53,
          56,
          49,
          55,
          68,
          71,
          73,
          84,
          96,
          97,
          89,
          115,
          118,
          147,
          173,
          172,
          172,
          181,
          216,
          234,
          255,
          223,
          229,
          304,
          283,
          323,
          279,
          283,
          349,
          335,
          323,
          311,
          346,
          336,
          344,
          365,
          388,
          399,
          445,
          456,
          421,
          488,
          486,
          486,
          484,
          484,
          468,
          457,
          502,
          529,
          521,
          497,
          518,
          480,
          523,
          548,
          602,
          545,
          593,
          575,
          542,
          590,
          623,
          665,
          622,
          639,
          593,
          651,
          617,
          643,
          647,
          715,
          693,
          621,
          601,
          533,
          625,
          616,
          596,
          587,
          571,
          634,
          637,
          625,
          684,
          663,
          629,
          639,
          637,
          666,
          693,
          764,
          749,
          682,
          705,
          676,
          682,
          694,
          765,
          730,
          739,
          744,
          701,
          673,
          734,
          727,
          769,
          662,
          723,
          671,
          719,
          727,
          719,
          703,
          626,
          696,
          621,
          667,
          625,
          682,
          707,
          651,
          631,
          589,
          623,
          601,
          617,
          615,
          558,
          562,
          527,
          523,
          528,
          568,
          499,
          547,
          505,
          510,
          507,
          476,
          487,
          494,
          484,
          458,
          486,
          469,
          485,
          504,
          461,
          455,
          451,
          434,
          412,
          421,
          443,
          401,
          436,
          386,
          394,
          419,
          362,
          416,
          393,
          379,
          365,
          326,
          366,
          386,
          376,
          392,
          361,
          364,
          331,
          346,
          331,
          332,
          332,
          318,
          326,
          312,
          331,
          311,
          333,
          318,
          316,
          303,
          283,
          338,
          328,
          382,
          342,
          332,
          350,
          331,
          345,
          360,
          428,
          373,
          421,
          410,
          393,
          383,
          438,
          427,
          408,
          418,
          416,
          416,
          379,
          389,
          436,
          417,
          414,
          446,
          444,
          401,
          399,
          432,
          402,
          424,
          456,
          409,
          394,
          407,
          417,
          445,
          425,
          401,
          468,
          463,
          511,
          468,
          470,
          451,
          484,
          523,
          475,
          488,
          514,
          538,
          501,
          510,
          484,
          529,
          519,
          542,
          502,
          530,
          522,
          534,
          525,
          553,
          539,
          560,
          550,
          540,
          561,
          581,
          559,
          617,
          577,
          561,
          540,
          498,
          549,
          561,
          530,
          480,
          315,
          71,
          1
         ]
        },
        {
         "line": {
          "color": "#c67c00"
         },
         "mode": "lines",
         "name": "Casos sospechosos",
         "type": "scatter",
         "x": [
          "2020-01-01T00:00:00",
          "2020-01-02T00:00:00",
          "2020-01-03T00:00:00",
          "2020-01-04T00:00:00",
          "2020-01-05T00:00:00",
          "2020-01-06T00:00:00",
          "2020-01-07T00:00:00",
          "2020-01-08T00:00:00",
          "2020-01-09T00:00:00",
          "2020-01-10T00:00:00",
          "2020-01-11T00:00:00",
          "2020-01-12T00:00:00",
          "2020-01-13T00:00:00",
          "2020-01-14T00:00:00",
          "2020-01-15T00:00:00",
          "2020-01-16T00:00:00",
          "2020-01-17T00:00:00",
          "2020-01-18T00:00:00",
          "2020-01-19T00:00:00",
          "2020-01-20T00:00:00",
          "2020-01-21T00:00:00",
          "2020-01-22T00:00:00",
          "2020-01-23T00:00:00",
          "2020-01-24T00:00:00",
          "2020-01-25T00:00:00",
          "2020-01-26T00:00:00",
          "2020-01-27T00:00:00",
          "2020-01-28T00:00:00",
          "2020-01-29T00:00:00",
          "2020-01-30T00:00:00",
          "2020-01-31T00:00:00",
          "2020-02-01T00:00:00",
          "2020-02-02T00:00:00",
          "2020-02-03T00:00:00",
          "2020-02-04T00:00:00",
          "2020-02-05T00:00:00",
          "2020-02-06T00:00:00",
          "2020-02-07T00:00:00",
          "2020-02-08T00:00:00",
          "2020-02-09T00:00:00",
          "2020-02-10T00:00:00",
          "2020-02-11T00:00:00",
          "2020-02-12T00:00:00",
          "2020-02-13T00:00:00",
          "2020-02-14T00:00:00",
          "2020-02-15T00:00:00",
          "2020-02-16T00:00:00",
          "2020-02-17T00:00:00",
          "2020-02-18T00:00:00",
          "2020-02-19T00:00:00",
          "2020-02-20T00:00:00",
          "2020-02-21T00:00:00",
          "2020-02-22T00:00:00",
          "2020-02-23T00:00:00",
          "2020-02-24T00:00:00",
          "2020-02-25T00:00:00",
          "2020-02-26T00:00:00",
          "2020-02-27T00:00:00",
          "2020-02-28T00:00:00",
          "2020-02-29T00:00:00",
          "2020-03-01T00:00:00",
          "2020-03-02T00:00:00",
          "2020-03-03T00:00:00",
          "2020-03-04T00:00:00",
          "2020-03-05T00:00:00",
          "2020-03-06T00:00:00",
          "2020-03-07T00:00:00",
          "2020-03-08T00:00:00",
          "2020-03-09T00:00:00",
          "2020-03-10T00:00:00",
          "2020-03-11T00:00:00",
          "2020-03-12T00:00:00",
          "2020-03-13T00:00:00",
          "2020-03-14T00:00:00",
          "2020-03-15T00:00:00",
          "2020-03-16T00:00:00",
          "2020-03-17T00:00:00",
          "2020-03-18T00:00:00",
          "2020-03-19T00:00:00",
          "2020-03-20T00:00:00",
          "2020-03-21T00:00:00",
          "2020-03-22T00:00:00",
          "2020-03-23T00:00:00",
          "2020-03-24T00:00:00",
          "2020-03-25T00:00:00",
          "2020-03-26T00:00:00",
          "2020-03-27T00:00:00",
          "2020-03-28T00:00:00",
          "2020-03-29T00:00:00",
          "2020-03-30T00:00:00",
          "2020-03-31T00:00:00",
          "2020-04-01T00:00:00",
          "2020-04-02T00:00:00",
          "2020-04-03T00:00:00",
          "2020-04-04T00:00:00",
          "2020-04-05T00:00:00",
          "2020-04-06T00:00:00",
          "2020-04-07T00:00:00",
          "2020-04-08T00:00:00",
          "2020-04-09T00:00:00",
          "2020-04-10T00:00:00",
          "2020-04-11T00:00:00",
          "2020-04-12T00:00:00",
          "2020-04-13T00:00:00",
          "2020-04-14T00:00:00",
          "2020-04-15T00:00:00",
          "2020-04-16T00:00:00",
          "2020-04-17T00:00:00",
          "2020-04-18T00:00:00",
          "2020-04-19T00:00:00",
          "2020-04-20T00:00:00",
          "2020-04-21T00:00:00",
          "2020-04-22T00:00:00",
          "2020-04-23T00:00:00",
          "2020-04-24T00:00:00",
          "2020-04-25T00:00:00",
          "2020-04-26T00:00:00",
          "2020-04-27T00:00:00",
          "2020-04-28T00:00:00",
          "2020-04-29T00:00:00",
          "2020-04-30T00:00:00",
          "2020-05-01T00:00:00",
          "2020-05-02T00:00:00",
          "2020-05-03T00:00:00",
          "2020-05-04T00:00:00",
          "2020-05-05T00:00:00",
          "2020-05-06T00:00:00",
          "2020-05-07T00:00:00",
          "2020-05-08T00:00:00",
          "2020-05-09T00:00:00",
          "2020-05-10T00:00:00",
          "2020-05-11T00:00:00",
          "2020-05-12T00:00:00",
          "2020-05-13T00:00:00",
          "2020-05-14T00:00:00",
          "2020-05-15T00:00:00",
          "2020-05-16T00:00:00",
          "2020-05-17T00:00:00",
          "2020-05-18T00:00:00",
          "2020-05-19T00:00:00",
          "2020-05-20T00:00:00",
          "2020-05-21T00:00:00",
          "2020-05-22T00:00:00",
          "2020-05-23T00:00:00",
          "2020-05-24T00:00:00",
          "2020-05-25T00:00:00",
          "2020-05-26T00:00:00",
          "2020-05-27T00:00:00",
          "2020-05-28T00:00:00",
          "2020-05-29T00:00:00",
          "2020-05-30T00:00:00",
          "2020-05-31T00:00:00",
          "2020-06-01T00:00:00",
          "2020-06-02T00:00:00",
          "2020-06-03T00:00:00",
          "2020-06-04T00:00:00",
          "2020-06-05T00:00:00",
          "2020-06-06T00:00:00",
          "2020-06-07T00:00:00",
          "2020-06-08T00:00:00",
          "2020-06-09T00:00:00",
          "2020-06-10T00:00:00",
          "2020-06-11T00:00:00",
          "2020-06-12T00:00:00",
          "2020-06-13T00:00:00",
          "2020-06-14T00:00:00",
          "2020-06-15T00:00:00",
          "2020-06-16T00:00:00",
          "2020-06-17T00:00:00",
          "2020-06-18T00:00:00",
          "2020-06-19T00:00:00",
          "2020-06-20T00:00:00",
          "2020-06-21T00:00:00",
          "2020-06-22T00:00:00",
          "2020-06-23T00:00:00",
          "2020-06-24T00:00:00",
          "2020-06-25T00:00:00",
          "2020-06-26T00:00:00",
          "2020-06-27T00:00:00",
          "2020-06-28T00:00:00",
          "2020-06-29T00:00:00",
          "2020-06-30T00:00:00",
          "2020-07-01T00:00:00",
          "2020-07-02T00:00:00",
          "2020-07-03T00:00:00",
          "2020-07-04T00:00:00",
          "2020-07-05T00:00:00",
          "2020-07-06T00:00:00",
          "2020-07-07T00:00:00",
          "2020-07-08T00:00:00",
          "2020-07-09T00:00:00",
          "2020-07-10T00:00:00",
          "2020-07-11T00:00:00",
          "2020-07-12T00:00:00",
          "2020-07-13T00:00:00",
          "2020-07-14T00:00:00",
          "2020-07-15T00:00:00",
          "2020-07-16T00:00:00",
          "2020-07-17T00:00:00",
          "2020-07-18T00:00:00",
          "2020-07-19T00:00:00",
          "2020-07-20T00:00:00",
          "2020-07-21T00:00:00",
          "2020-07-22T00:00:00",
          "2020-07-23T00:00:00",
          "2020-07-24T00:00:00",
          "2020-07-25T00:00:00",
          "2020-07-26T00:00:00",
          "2020-07-27T00:00:00",
          "2020-07-28T00:00:00",
          "2020-07-29T00:00:00",
          "2020-07-30T00:00:00",
          "2020-07-31T00:00:00",
          "2020-08-01T00:00:00",
          "2020-08-02T00:00:00",
          "2020-08-03T00:00:00",
          "2020-08-04T00:00:00",
          "2020-08-05T00:00:00",
          "2020-08-06T00:00:00",
          "2020-08-07T00:00:00",
          "2020-08-08T00:00:00",
          "2020-08-09T00:00:00",
          "2020-08-10T00:00:00",
          "2020-08-11T00:00:00",
          "2020-08-12T00:00:00",
          "2020-08-13T00:00:00",
          "2020-08-14T00:00:00",
          "2020-08-15T00:00:00",
          "2020-08-16T00:00:00",
          "2020-08-17T00:00:00",
          "2020-08-18T00:00:00",
          "2020-08-19T00:00:00",
          "2020-08-20T00:00:00",
          "2020-08-21T00:00:00",
          "2020-08-22T00:00:00",
          "2020-08-23T00:00:00",
          "2020-08-24T00:00:00",
          "2020-08-25T00:00:00",
          "2020-08-26T00:00:00",
          "2020-08-27T00:00:00",
          "2020-08-28T00:00:00",
          "2020-08-29T00:00:00",
          "2020-08-30T00:00:00",
          "2020-08-31T00:00:00",
          "2020-09-01T00:00:00",
          "2020-09-02T00:00:00",
          "2020-09-03T00:00:00",
          "2020-09-04T00:00:00",
          "2020-09-05T00:00:00",
          "2020-09-06T00:00:00",
          "2020-09-07T00:00:00",
          "2020-09-08T00:00:00",
          "2020-09-09T00:00:00",
          "2020-09-10T00:00:00",
          "2020-09-11T00:00:00",
          "2020-09-12T00:00:00",
          "2020-09-13T00:00:00",
          "2020-09-14T00:00:00",
          "2020-09-15T00:00:00",
          "2020-09-16T00:00:00",
          "2020-09-17T00:00:00",
          "2020-09-18T00:00:00",
          "2020-09-19T00:00:00",
          "2020-09-20T00:00:00",
          "2020-09-21T00:00:00",
          "2020-09-22T00:00:00",
          "2020-09-23T00:00:00",
          "2020-09-24T00:00:00",
          "2020-09-25T00:00:00",
          "2020-09-26T00:00:00",
          "2020-09-27T00:00:00",
          "2020-09-28T00:00:00",
          "2020-09-29T00:00:00",
          "2020-09-30T00:00:00",
          "2020-10-01T00:00:00",
          "2020-10-02T00:00:00",
          "2020-10-03T00:00:00",
          "2020-10-04T00:00:00",
          "2020-10-05T00:00:00",
          "2020-10-06T00:00:00",
          "2020-10-07T00:00:00",
          "2020-10-08T00:00:00",
          "2020-10-09T00:00:00",
          "2020-10-10T00:00:00",
          "2020-10-11T00:00:00",
          "2020-10-12T00:00:00",
          "2020-10-13T00:00:00",
          "2020-10-14T00:00:00",
          "2020-10-15T00:00:00",
          "2020-10-16T00:00:00",
          "2020-10-17T00:00:00",
          "2020-10-18T00:00:00",
          "2020-10-19T00:00:00",
          "2020-10-20T00:00:00",
          "2020-10-21T00:00:00",
          "2020-10-22T00:00:00",
          "2020-10-23T00:00:00",
          "2020-10-24T00:00:00",
          "2020-10-25T00:00:00",
          "2020-10-26T00:00:00",
          "2020-10-27T00:00:00",
          "2020-10-28T00:00:00",
          "2020-10-29T00:00:00",
          "2020-10-30T00:00:00",
          "2020-10-31T00:00:00",
          "2020-11-01T00:00:00",
          "2020-11-02T00:00:00",
          "2020-11-03T00:00:00",
          "2020-11-04T00:00:00",
          "2020-11-05T00:00:00",
          "2020-11-06T00:00:00",
          "2020-11-07T00:00:00",
          "2020-11-08T00:00:00",
          "2020-11-09T00:00:00",
          "2020-11-10T00:00:00",
          "2020-11-11T00:00:00",
          "2020-11-12T00:00:00",
          "2020-11-13T00:00:00",
          "2020-11-14T00:00:00",
          "2020-11-15T00:00:00",
          "2020-11-16T00:00:00",
          "2020-11-17T00:00:00",
          "2020-11-18T00:00:00",
          "2020-11-19T00:00:00",
          "2020-11-20T00:00:00",
          "2020-11-21T00:00:00",
          "2020-11-22T00:00:00",
          "2020-11-23T00:00:00",
          "2020-11-24T00:00:00",
          "2020-11-25T00:00:00",
          "2020-11-26T00:00:00",
          "2020-11-27T00:00:00",
          "2020-11-28T00:00:00",
          "2020-11-29T00:00:00",
          "2020-11-30T00:00:00",
          "2020-12-01T00:00:00",
          "2020-12-02T00:00:00",
          "2020-12-03T00:00:00",
          "2020-12-04T00:00:00",
          "2020-12-05T00:00:00",
          "2020-12-06T00:00:00",
          "2020-12-07T00:00:00",
          "2020-12-08T00:00:00",
          "2020-12-09T00:00:00",
          "2020-12-10T00:00:00",
          "2020-12-11T00:00:00",
          "2020-12-12T00:00:00",
          "2020-12-13T00:00:00",
          "2020-12-14T00:00:00",
          "2020-12-15T00:00:00",
          "2020-12-16T00:00:00",
          "2020-12-17T00:00:00",
          "2020-12-18T00:00:00",
          "2020-12-19T00:00:00",
          "2020-12-20T00:00:00",
          "2020-12-21T00:00:00",
          "2020-12-22T00:00:00",
          "2020-12-23T00:00:00",
          "2020-12-24T00:00:00",
          "2020-12-25T00:00:00",
          "2020-12-26T00:00:00",
          "2020-12-27T00:00:00",
          "2020-12-28T00:00:00",
          "2020-12-29T00:00:00",
          "2020-12-30T00:00:00",
          "2020-12-31T00:00:00",
          "2021-01-01T00:00:00"
         ],
         "y": [
          133,
          114,
          113,
          107,
          164,
          181,
          172,
          146,
          151,
          151,
          146,
          216,
          312,
          258,
          251,
          206,
          160,
          179,
          280,
          311,
          241,
          211,
          193,
          210,
          209,
          264,
          322,
          249,
          217,
          152,
          155,
          198,
          224,
          265,
          279,
          216,
          145,
          164,
          203,
          246,
          305,
          205,
          176,
          152,
          164,
          235,
          248,
          261,
          251,
          211,
          173,
          167,
          222,
          237,
          274,
          239,
          197,
          165,
          186,
          270,
          350,
          321,
          256,
          228,
          188,
          136,
          146,
          240,
          275,
          273,
          228,
          152,
          194,
          227,
          370,
          378,
          349,
          348,
          302,
          458,
          401,
          518,
          915,
          881,
          1008,
          910,
          950,
          995,
          1088,
          1334,
          1068,
          1279,
          872,
          924,
          880,
          869,
          1073,
          933,
          970,
          886,
          1118,
          1008,
          997,
          1330,
          1118,
          1168,
          1131,
          1129,
          1102,
          1174,
          1526,
          1018,
          921,
          890,
          862,
          850,
          745,
          838,
          686,
          588,
          631,
          920,
          662,
          665,
          724,
          804,
          686,
          654,
          764,
          678,
          972,
          844,
          743,
          765,
          778,
          1043,
          711,
          801,
          1130,
          815,
          1093,
          720,
          804,
          764,
          824,
          1117,
          798,
          801,
          924,
          779,
          775,
          714,
          1323,
          916,
          945,
          825,
          950,
          922,
          861,
          1115,
          887,
          1173,
          854,
          1075,
          944,
          927,
          1440,
          1136,
          966,
          1281,
          1258,
          1854,
          1388,
          1816,
          1447,
          1611,
          1482,
          1696,
          1344,
          1268,
          1570,
          1468,
          1732,
          1255,
          1121,
          946,
          1160,
          1321,
          1174,
          1029,
          1016,
          1359,
          1111,
          936,
          1198,
          1082,
          1202,
          1062,
          1080,
          980,
          995,
          1453,
          995,
          989,
          920,
          988,
          1008,
          876,
          1174,
          870,
          845,
          795,
          858,
          1170,
          799,
          1006,
          813,
          1059,
          789,
          861,
          828,
          761,
          1357,
          817,
          858,
          802,
          759,
          838,
          768,
          986,
          1026,
          613,
          977,
          865,
          713,
          728,
          960,
          1123,
          968,
          916,
          1229,
          816,
          953,
          1199,
          1285,
          830,
          819,
          794,
          879,
          689,
          930,
          800,
          840,
          848,
          648,
          665,
          585,
          848,
          793,
          645,
          828,
          804,
          850,
          1008,
          990,
          761,
          650,
          716,
          870,
          631,
          811,
          1102,
          871,
          1022,
          1038,
          754,
          722,
          763,
          1123,
          971,
          854,
          923,
          840,
          985,
          738,
          1064,
          970,
          937,
          972,
          948,
          862,
          969,
          1132,
          1219,
          894,
          997,
          933,
          819,
          1118,
          1260,
          1083,
          1286,
          973,
          1068,
          881,
          1406,
          1369,
          1345,
          1218,
          1338,
          1277,
          1201,
          1095,
          1323,
          1310,
          989,
          967,
          999,
          838,
          946,
          943,
          1181,
          1218,
          1276,
          1516,
          1084,
          931,
          1424,
          1169,
          1405,
          1034,
          1181,
          1207,
          1107,
          1597,
          1727,
          1344,
          1390,
          1397,
          1338,
          1312,
          1748,
          1486,
          1458,
          2006,
          1554,
          1564,
          1343,
          2112,
          2237,
          1748,
          1669,
          1936,
          1816,
          2511,
          2938,
          2983,
          3177,
          3558,
          3926,
          4506,
          4471,
          5200,
          3352,
          2151,
          924,
          8
         ]
        }
       ],
       "layout": {
        "height": 400,
        "template": {
         "data": {
          "bar": [
           {
            "error_x": {
             "color": "#2a3f5f"
            },
            "error_y": {
             "color": "#2a3f5f"
            },
            "marker": {
             "line": {
              "color": "white",
              "width": 0.5
             }
            },
            "type": "bar"
           }
          ],
          "barpolar": [
           {
            "marker": {
             "line": {
              "color": "white",
              "width": 0.5
             }
            },
            "type": "barpolar"
           }
          ],
          "carpet": [
           {
            "aaxis": {
             "endlinecolor": "#2a3f5f",
             "gridcolor": "#C8D4E3",
             "linecolor": "#C8D4E3",
             "minorgridcolor": "#C8D4E3",
             "startlinecolor": "#2a3f5f"
            },
            "baxis": {
             "endlinecolor": "#2a3f5f",
             "gridcolor": "#C8D4E3",
             "linecolor": "#C8D4E3",
             "minorgridcolor": "#C8D4E3",
             "startlinecolor": "#2a3f5f"
            },
            "type": "carpet"
           }
          ],
          "choropleth": [
           {
            "colorbar": {
             "outlinewidth": 0,
             "ticks": ""
            },
            "type": "choropleth"
           }
          ],
          "contour": [
           {
            "colorbar": {
             "outlinewidth": 0,
             "ticks": ""
            },
            "colorscale": [
             [
              0,
              "#0d0887"
             ],
             [
              0.1111111111111111,
              "#46039f"
             ],
             [
              0.2222222222222222,
              "#7201a8"
             ],
             [
              0.3333333333333333,
              "#9c179e"
             ],
             [
              0.4444444444444444,
              "#bd3786"
             ],
             [
              0.5555555555555556,
              "#d8576b"
             ],
             [
              0.6666666666666666,
              "#ed7953"
             ],
             [
              0.7777777777777778,
              "#fb9f3a"
             ],
             [
              0.8888888888888888,
              "#fdca26"
             ],
             [
              1,
              "#f0f921"
             ]
            ],
            "type": "contour"
           }
          ],
          "contourcarpet": [
           {
            "colorbar": {
             "outlinewidth": 0,
             "ticks": ""
            },
            "type": "contourcarpet"
           }
          ],
          "heatmap": [
           {
            "colorbar": {
             "outlinewidth": 0,
             "ticks": ""
            },
            "colorscale": [
             [
              0,
              "#0d0887"
             ],
             [
              0.1111111111111111,
              "#46039f"
             ],
             [
              0.2222222222222222,
              "#7201a8"
             ],
             [
              0.3333333333333333,
              "#9c179e"
             ],
             [
              0.4444444444444444,
              "#bd3786"
             ],
             [
              0.5555555555555556,
              "#d8576b"
             ],
             [
              0.6666666666666666,
              "#ed7953"
             ],
             [
              0.7777777777777778,
              "#fb9f3a"
             ],
             [
              0.8888888888888888,
              "#fdca26"
             ],
             [
              1,
              "#f0f921"
             ]
            ],
            "type": "heatmap"
           }
          ],
          "heatmapgl": [
           {
            "colorbar": {
             "outlinewidth": 0,
             "ticks": ""
            },
            "colorscale": [
             [
              0,
              "#0d0887"
             ],
             [
              0.1111111111111111,
              "#46039f"
             ],
             [
              0.2222222222222222,
              "#7201a8"
             ],
             [
              0.3333333333333333,
              "#9c179e"
             ],
             [
              0.4444444444444444,
              "#bd3786"
             ],
             [
              0.5555555555555556,
              "#d8576b"
             ],
             [
              0.6666666666666666,
              "#ed7953"
             ],
             [
              0.7777777777777778,
              "#fb9f3a"
             ],
             [
              0.8888888888888888,
              "#fdca26"
             ],
             [
              1,
              "#f0f921"
             ]
            ],
            "type": "heatmapgl"
           }
          ],
          "histogram": [
           {
            "marker": {
             "colorbar": {
              "outlinewidth": 0,
              "ticks": ""
             }
            },
            "type": "histogram"
           }
          ],
          "histogram2d": [
           {
            "colorbar": {
             "outlinewidth": 0,
             "ticks": ""
            },
            "colorscale": [
             [
              0,
              "#0d0887"
             ],
             [
              0.1111111111111111,
              "#46039f"
             ],
             [
              0.2222222222222222,
              "#7201a8"
             ],
             [
              0.3333333333333333,
              "#9c179e"
             ],
             [
              0.4444444444444444,
              "#bd3786"
             ],
             [
              0.5555555555555556,
              "#d8576b"
             ],
             [
              0.6666666666666666,
              "#ed7953"
             ],
             [
              0.7777777777777778,
              "#fb9f3a"
             ],
             [
              0.8888888888888888,
              "#fdca26"
             ],
             [
              1,
              "#f0f921"
             ]
            ],
            "type": "histogram2d"
           }
          ],
          "histogram2dcontour": [
           {
            "colorbar": {
             "outlinewidth": 0,
             "ticks": ""
            },
            "colorscale": [
             [
              0,
              "#0d0887"
             ],
             [
              0.1111111111111111,
              "#46039f"
             ],
             [
              0.2222222222222222,
              "#7201a8"
             ],
             [
              0.3333333333333333,
              "#9c179e"
             ],
             [
              0.4444444444444444,
              "#bd3786"
             ],
             [
              0.5555555555555556,
              "#d8576b"
             ],
             [
              0.6666666666666666,
              "#ed7953"
             ],
             [
              0.7777777777777778,
              "#fb9f3a"
             ],
             [
              0.8888888888888888,
              "#fdca26"
             ],
             [
              1,
              "#f0f921"
             ]
            ],
            "type": "histogram2dcontour"
           }
          ],
          "mesh3d": [
           {
            "colorbar": {
             "outlinewidth": 0,
             "ticks": ""
            },
            "type": "mesh3d"
           }
          ],
          "parcoords": [
           {
            "line": {
             "colorbar": {
              "outlinewidth": 0,
              "ticks": ""
             }
            },
            "type": "parcoords"
           }
          ],
          "pie": [
           {
            "automargin": true,
            "type": "pie"
           }
          ],
          "scatter": [
           {
            "marker": {
             "colorbar": {
              "outlinewidth": 0,
              "ticks": ""
             }
            },
            "type": "scatter"
           }
          ],
          "scatter3d": [
           {
            "line": {
             "colorbar": {
              "outlinewidth": 0,
              "ticks": ""
             }
            },
            "marker": {
             "colorbar": {
              "outlinewidth": 0,
              "ticks": ""
             }
            },
            "type": "scatter3d"
           }
          ],
          "scattercarpet": [
           {
            "marker": {
             "colorbar": {
              "outlinewidth": 0,
              "ticks": ""
             }
            },
            "type": "scattercarpet"
           }
          ],
          "scattergeo": [
           {
            "marker": {
             "colorbar": {
              "outlinewidth": 0,
              "ticks": ""
             }
            },
            "type": "scattergeo"
           }
          ],
          "scattergl": [
           {
            "marker": {
             "colorbar": {
              "outlinewidth": 0,
              "ticks": ""
             }
            },
            "type": "scattergl"
           }
          ],
          "scattermapbox": [
           {
            "marker": {
             "colorbar": {
              "outlinewidth": 0,
              "ticks": ""
             }
            },
            "type": "scattermapbox"
           }
          ],
          "scatterpolar": [
           {
            "marker": {
             "colorbar": {
              "outlinewidth": 0,
              "ticks": ""
             }
            },
            "type": "scatterpolar"
           }
          ],
          "scatterpolargl": [
           {
            "marker": {
             "colorbar": {
              "outlinewidth": 0,
              "ticks": ""
             }
            },
            "type": "scatterpolargl"
           }
          ],
          "scatterternary": [
           {
            "marker": {
             "colorbar": {
              "outlinewidth": 0,
              "ticks": ""
             }
            },
            "type": "scatterternary"
           }
          ],
          "surface": [
           {
            "colorbar": {
             "outlinewidth": 0,
             "ticks": ""
            },
            "colorscale": [
             [
              0,
              "#0d0887"
             ],
             [
              0.1111111111111111,
              "#46039f"
             ],
             [
              0.2222222222222222,
              "#7201a8"
             ],
             [
              0.3333333333333333,
              "#9c179e"
             ],
             [
              0.4444444444444444,
              "#bd3786"
             ],
             [
              0.5555555555555556,
              "#d8576b"
             ],
             [
              0.6666666666666666,
              "#ed7953"
             ],
             [
              0.7777777777777778,
              "#fb9f3a"
             ],
             [
              0.8888888888888888,
              "#fdca26"
             ],
             [
              1,
              "#f0f921"
             ]
            ],
            "type": "surface"
           }
          ],
          "table": [
           {
            "cells": {
             "fill": {
              "color": "#EBF0F8"
             },
             "line": {
              "color": "white"
             }
            },
            "header": {
             "fill": {
              "color": "#C8D4E3"
             },
             "line": {
              "color": "white"
             }
            },
            "type": "table"
           }
          ]
         },
         "layout": {
          "annotationdefaults": {
           "arrowcolor": "#2a3f5f",
           "arrowhead": 0,
           "arrowwidth": 1
          },
          "coloraxis": {
           "colorbar": {
            "outlinewidth": 0,
            "ticks": ""
           }
          },
          "colorscale": {
           "diverging": [
            [
             0,
             "#8e0152"
            ],
            [
             0.1,
             "#c51b7d"
            ],
            [
             0.2,
             "#de77ae"
            ],
            [
             0.3,
             "#f1b6da"
            ],
            [
             0.4,
             "#fde0ef"
            ],
            [
             0.5,
             "#f7f7f7"
            ],
            [
             0.6,
             "#e6f5d0"
            ],
            [
             0.7,
             "#b8e186"
            ],
            [
             0.8,
             "#7fbc41"
            ],
            [
             0.9,
             "#4d9221"
            ],
            [
             1,
             "#276419"
            ]
           ],
           "sequential": [
            [
             0,
             "#0d0887"
            ],
            [
             0.1111111111111111,
             "#46039f"
            ],
            [
             0.2222222222222222,
             "#7201a8"
            ],
            [
             0.3333333333333333,
             "#9c179e"
            ],
            [
             0.4444444444444444,
             "#bd3786"
            ],
            [
             0.5555555555555556,
             "#d8576b"
            ],
            [
             0.6666666666666666,
             "#ed7953"
            ],
            [
             0.7777777777777778,
             "#fb9f3a"
            ],
            [
             0.8888888888888888,
             "#fdca26"
            ],
            [
             1,
             "#f0f921"
            ]
           ],
           "sequentialminus": [
            [
             0,
             "#0d0887"
            ],
            [
             0.1111111111111111,
             "#46039f"
            ],
            [
             0.2222222222222222,
             "#7201a8"
            ],
            [
             0.3333333333333333,
             "#9c179e"
            ],
            [
             0.4444444444444444,
             "#bd3786"
            ],
            [
             0.5555555555555556,
             "#d8576b"
            ],
            [
             0.6666666666666666,
             "#ed7953"
            ],
            [
             0.7777777777777778,
             "#fb9f3a"
            ],
            [
             0.8888888888888888,
             "#fdca26"
            ],
            [
             1,
             "#f0f921"
            ]
           ]
          },
          "colorway": [
           "#636efa",
           "#EF553B",
           "#00cc96",
           "#ab63fa",
           "#FFA15A",
           "#19d3f3",
           "#FF6692",
           "#B6E880",
           "#FF97FF",
           "#FECB52"
          ],
          "font": {
           "color": "#2a3f5f"
          },
          "geo": {
           "bgcolor": "white",
           "lakecolor": "white",
           "landcolor": "white",
           "showlakes": true,
           "showland": true,
           "subunitcolor": "#C8D4E3"
          },
          "hoverlabel": {
           "align": "left"
          },
          "hovermode": "closest",
          "mapbox": {
           "style": "light"
          },
          "paper_bgcolor": "white",
          "plot_bgcolor": "white",
          "polar": {
           "angularaxis": {
            "gridcolor": "#EBF0F8",
            "linecolor": "#EBF0F8",
            "ticks": ""
           },
           "bgcolor": "white",
           "radialaxis": {
            "gridcolor": "#EBF0F8",
            "linecolor": "#EBF0F8",
            "ticks": ""
           }
          },
          "scene": {
           "xaxis": {
            "backgroundcolor": "white",
            "gridcolor": "#DFE8F3",
            "gridwidth": 2,
            "linecolor": "#EBF0F8",
            "showbackground": true,
            "ticks": "",
            "zerolinecolor": "#EBF0F8"
           },
           "yaxis": {
            "backgroundcolor": "white",
            "gridcolor": "#DFE8F3",
            "gridwidth": 2,
            "linecolor": "#EBF0F8",
            "showbackground": true,
            "ticks": "",
            "zerolinecolor": "#EBF0F8"
           },
           "zaxis": {
            "backgroundcolor": "white",
            "gridcolor": "#DFE8F3",
            "gridwidth": 2,
            "linecolor": "#EBF0F8",
            "showbackground": true,
            "ticks": "",
            "zerolinecolor": "#EBF0F8"
           }
          },
          "shapedefaults": {
           "line": {
            "color": "#2a3f5f"
           }
          },
          "ternary": {
           "aaxis": {
            "gridcolor": "#DFE8F3",
            "linecolor": "#A2B1C6",
            "ticks": ""
           },
           "baxis": {
            "gridcolor": "#DFE8F3",
            "linecolor": "#A2B1C6",
            "ticks": ""
           },
           "bgcolor": "white",
           "caxis": {
            "gridcolor": "#DFE8F3",
            "linecolor": "#A2B1C6",
            "ticks": ""
           }
          },
          "title": {
           "x": 0.05
          },
          "xaxis": {
           "automargin": true,
           "gridcolor": "#EBF0F8",
           "linecolor": "#EBF0F8",
           "ticks": "",
           "title": {
            "standoff": 15
           },
           "zerolinecolor": "#EBF0F8",
           "zerolinewidth": 2
          },
          "yaxis": {
           "automargin": true,
           "gridcolor": "#EBF0F8",
           "linecolor": "#EBF0F8",
           "ticks": "",
           "title": {
            "standoff": 15
           },
           "zerolinecolor": "#EBF0F8",
           "zerolinewidth": 2
          }
         }
        },
        "title": {
         "text": "COVID-19 México"
        },
        "width": 1200,
        "xaxis": {
         "showgrid": true,
         "title": {
          "text": "Fecha"
         }
        },
        "yaxis": {
         "showgrid": true,
         "title": {
          "text": "Número de personas"
         }
        }
       }
      }
     },
     "metadata": {}
    }
   ],
   "source": [
    "\n",
    "# Ploting each line in the same figure ...\n",
    "\n",
    "# fig_2 = px.line(confirmados_por_fecha, x = \"fecha_sintomas\", y = \"confirmados\", width = 1000, height= 300,\n",
    "#                  labels= dict(fecha_sintomas = \"Fecha\", confirmados = \"Número de personas\", name = \"Casos confirmados\"))\n",
    "\n",
    "fig_2 = go.Figure()\n",
    "\n",
    "fig_2.add_trace(go.Scatter(x = confirmados_por_fecha[\"fecha_ingreso\"], y = confirmados_por_fecha[\"confirmados\"], \n",
    "                mode = \"lines\",name = \"Casos confirmados\", line = dict(color = \"#b4004e\")) )\n",
    "fig_2.add_trace(go.Scatter(x = defunciones_por_fecha[\"fecha_defuncion\"], y = defunciones_por_fecha[\"defunciones\"], \n",
    "                mode = \"lines\",name = \"Defunciones\", line = dict(color = \"black\") ) )\n",
    "fig_2.add_trace(go.Scatter(x = sospechosos_por_fecha[\"fecha_sintomas\"], y = sospechosos_por_fecha[\"sospechosos\"],\n",
    "                mode = \"lines\", name = \"Casos sospechosos\", line = dict(color = \"#c67c00\")))\n",
    "\n",
    "fig_2.update_xaxes(showgrid = True, title = \"Fecha\")\n",
    "fig_2.update_yaxes(showgrid = True , title = \"Número de personas\")\n",
    "fig_2.update_layout( width = 1200, height= 400 , title = \"COVID-19 México\")\n",
    "fig_2.show()"
   ]
  },
  {
   "cell_type": "code",
   "execution_count": 96,
   "metadata": {},
   "outputs": [
    {
     "output_type": "execute_result",
     "data": {
      "text/plain": [
       "        FECHA_ACTUALIZACION ID_REGISTRO  ORIGEN  SECTOR  ENTIDAD_UM  SEXO  \\\n",
       "0                2021-01-01      071735       2       9          21     2   \n",
       "1                2021-01-01      1468a5       1       4           5     1   \n",
       "2                2021-01-01      043f64       2       4           9     2   \n",
       "3                2021-01-01      0e07d8       1       4          15     2   \n",
       "4                2021-01-01      13757c       1      12          15     1   \n",
       "...                     ...         ...     ...     ...         ...   ...   \n",
       "3653577          2021-01-01      3da0ef       2      12           9     1   \n",
       "3653578          2021-01-01      2887cf       2      12           9     1   \n",
       "3653582          2021-01-01      221490       1      12           9     1   \n",
       "3653585          2021-01-01      374eb2       2      12           9     1   \n",
       "3653590          2021-01-01      230c5d       1      12           9     1   \n",
       "\n",
       "         ENTIDAD_NAC  ENTIDAD_RES  MUNICIPIO_RES  TIPO_PACIENTE  ...  \\\n",
       "0                 21           21            114              1  ...   \n",
       "1                 15            5             18              1  ...   \n",
       "2                  9            9             10              2  ...   \n",
       "3                 15           15            104              2  ...   \n",
       "4                 15           15            106              1  ...   \n",
       "...              ...          ...            ...            ...  ...   \n",
       "3653577            9            9             13              1  ...   \n",
       "3653578            9            9              5              1  ...   \n",
       "3653582            9            9              7              1  ...   \n",
       "3653585           15            9             10              1  ...   \n",
       "3653590            9            9             10              1  ...   \n",
       "\n",
       "        OTRO_CASO TOMA_MUESTRA_LAB RESULTADO_LAB  TOMA_MUESTRA_ANTIGENO  \\\n",
       "0               2                1             1                      2   \n",
       "1               1                1             1                      2   \n",
       "2              99                1             1                      2   \n",
       "3              99                1             1                      2   \n",
       "4               1                1             1                      2   \n",
       "...           ...              ...           ...                    ...   \n",
       "3653577         2                2            97                      1   \n",
       "3653578         2                2            97                      1   \n",
       "3653582         1                2            97                      1   \n",
       "3653585         2                2            97                      1   \n",
       "3653590         2                2            97                      1   \n",
       "\n",
       "         RESULTADO_ANTIGENO  CLASIFICACION_FINAL  MIGRANTE  PAIS_NACIONALIDAD  \\\n",
       "0                        97                    3        99            MÃ©xico   \n",
       "1                        97                    3        99            MÃ©xico   \n",
       "2                        97                    3        99            MÃ©xico   \n",
       "3                        97                    3        99            MÃ©xico   \n",
       "4                        97                    3        99            MÃ©xico   \n",
       "...                     ...                  ...       ...                ...   \n",
       "3653577                   1                    3        99            MÃ©xico   \n",
       "3653578                   1                    3        99            MÃ©xico   \n",
       "3653582                   1                    3        99            MÃ©xico   \n",
       "3653585                   2                    1        99            MÃ©xico   \n",
       "3653590                   1                    3        99            MÃ©xico   \n",
       "\n",
       "         PAIS_ORIGEN  UCI  \n",
       "0                 97   97  \n",
       "1                 97   97  \n",
       "2                 97    1  \n",
       "3                 97    2  \n",
       "4                 97   97  \n",
       "...              ...  ...  \n",
       "3653577           97   97  \n",
       "3653578           97   97  \n",
       "3653582           97   97  \n",
       "3653585           97   97  \n",
       "3653590           97   97  \n",
       "\n",
       "[1437185 rows x 40 columns]"
      ],
      "text/html": "<div>\n<style scoped>\n    .dataframe tbody tr th:only-of-type {\n        vertical-align: middle;\n    }\n\n    .dataframe tbody tr th {\n        vertical-align: top;\n    }\n\n    .dataframe thead th {\n        text-align: right;\n    }\n</style>\n<table border=\"1\" class=\"dataframe\">\n  <thead>\n    <tr style=\"text-align: right;\">\n      <th></th>\n      <th>FECHA_ACTUALIZACION</th>\n      <th>ID_REGISTRO</th>\n      <th>ORIGEN</th>\n      <th>SECTOR</th>\n      <th>ENTIDAD_UM</th>\n      <th>SEXO</th>\n      <th>ENTIDAD_NAC</th>\n      <th>ENTIDAD_RES</th>\n      <th>MUNICIPIO_RES</th>\n      <th>TIPO_PACIENTE</th>\n      <th>...</th>\n      <th>OTRO_CASO</th>\n      <th>TOMA_MUESTRA_LAB</th>\n      <th>RESULTADO_LAB</th>\n      <th>TOMA_MUESTRA_ANTIGENO</th>\n      <th>RESULTADO_ANTIGENO</th>\n      <th>CLASIFICACION_FINAL</th>\n      <th>MIGRANTE</th>\n      <th>PAIS_NACIONALIDAD</th>\n      <th>PAIS_ORIGEN</th>\n      <th>UCI</th>\n    </tr>\n  </thead>\n  <tbody>\n    <tr>\n      <th>0</th>\n      <td>2021-01-01</td>\n      <td>071735</td>\n      <td>2</td>\n      <td>9</td>\n      <td>21</td>\n      <td>2</td>\n      <td>21</td>\n      <td>21</td>\n      <td>114</td>\n      <td>1</td>\n      <td>...</td>\n      <td>2</td>\n      <td>1</td>\n      <td>1</td>\n      <td>2</td>\n      <td>97</td>\n      <td>3</td>\n      <td>99</td>\n      <td>MÃ©xico</td>\n      <td>97</td>\n      <td>97</td>\n    </tr>\n    <tr>\n      <th>1</th>\n      <td>2021-01-01</td>\n      <td>1468a5</td>\n      <td>1</td>\n      <td>4</td>\n      <td>5</td>\n      <td>1</td>\n      <td>15</td>\n      <td>5</td>\n      <td>18</td>\n      <td>1</td>\n      <td>...</td>\n      <td>1</td>\n      <td>1</td>\n      <td>1</td>\n      <td>2</td>\n      <td>97</td>\n      <td>3</td>\n      <td>99</td>\n      <td>MÃ©xico</td>\n      <td>97</td>\n      <td>97</td>\n    </tr>\n    <tr>\n      <th>2</th>\n      <td>2021-01-01</td>\n      <td>043f64</td>\n      <td>2</td>\n      <td>4</td>\n      <td>9</td>\n      <td>2</td>\n      <td>9</td>\n      <td>9</td>\n      <td>10</td>\n      <td>2</td>\n      <td>...</td>\n      <td>99</td>\n      <td>1</td>\n      <td>1</td>\n      <td>2</td>\n      <td>97</td>\n      <td>3</td>\n      <td>99</td>\n      <td>MÃ©xico</td>\n      <td>97</td>\n      <td>1</td>\n    </tr>\n    <tr>\n      <th>3</th>\n      <td>2021-01-01</td>\n      <td>0e07d8</td>\n      <td>1</td>\n      <td>4</td>\n      <td>15</td>\n      <td>2</td>\n      <td>15</td>\n      <td>15</td>\n      <td>104</td>\n      <td>2</td>\n      <td>...</td>\n      <td>99</td>\n      <td>1</td>\n      <td>1</td>\n      <td>2</td>\n      <td>97</td>\n      <td>3</td>\n      <td>99</td>\n      <td>MÃ©xico</td>\n      <td>97</td>\n      <td>2</td>\n    </tr>\n    <tr>\n      <th>4</th>\n      <td>2021-01-01</td>\n      <td>13757c</td>\n      <td>1</td>\n      <td>12</td>\n      <td>15</td>\n      <td>1</td>\n      <td>15</td>\n      <td>15</td>\n      <td>106</td>\n      <td>1</td>\n      <td>...</td>\n      <td>1</td>\n      <td>1</td>\n      <td>1</td>\n      <td>2</td>\n      <td>97</td>\n      <td>3</td>\n      <td>99</td>\n      <td>MÃ©xico</td>\n      <td>97</td>\n      <td>97</td>\n    </tr>\n    <tr>\n      <th>...</th>\n      <td>...</td>\n      <td>...</td>\n      <td>...</td>\n      <td>...</td>\n      <td>...</td>\n      <td>...</td>\n      <td>...</td>\n      <td>...</td>\n      <td>...</td>\n      <td>...</td>\n      <td>...</td>\n      <td>...</td>\n      <td>...</td>\n      <td>...</td>\n      <td>...</td>\n      <td>...</td>\n      <td>...</td>\n      <td>...</td>\n      <td>...</td>\n      <td>...</td>\n      <td>...</td>\n    </tr>\n    <tr>\n      <th>3653577</th>\n      <td>2021-01-01</td>\n      <td>3da0ef</td>\n      <td>2</td>\n      <td>12</td>\n      <td>9</td>\n      <td>1</td>\n      <td>9</td>\n      <td>9</td>\n      <td>13</td>\n      <td>1</td>\n      <td>...</td>\n      <td>2</td>\n      <td>2</td>\n      <td>97</td>\n      <td>1</td>\n      <td>1</td>\n      <td>3</td>\n      <td>99</td>\n      <td>MÃ©xico</td>\n      <td>97</td>\n      <td>97</td>\n    </tr>\n    <tr>\n      <th>3653578</th>\n      <td>2021-01-01</td>\n      <td>2887cf</td>\n      <td>2</td>\n      <td>12</td>\n      <td>9</td>\n      <td>1</td>\n      <td>9</td>\n      <td>9</td>\n      <td>5</td>\n      <td>1</td>\n      <td>...</td>\n      <td>2</td>\n      <td>2</td>\n      <td>97</td>\n      <td>1</td>\n      <td>1</td>\n      <td>3</td>\n      <td>99</td>\n      <td>MÃ©xico</td>\n      <td>97</td>\n      <td>97</td>\n    </tr>\n    <tr>\n      <th>3653582</th>\n      <td>2021-01-01</td>\n      <td>221490</td>\n      <td>1</td>\n      <td>12</td>\n      <td>9</td>\n      <td>1</td>\n      <td>9</td>\n      <td>9</td>\n      <td>7</td>\n      <td>1</td>\n      <td>...</td>\n      <td>1</td>\n      <td>2</td>\n      <td>97</td>\n      <td>1</td>\n      <td>1</td>\n      <td>3</td>\n      <td>99</td>\n      <td>MÃ©xico</td>\n      <td>97</td>\n      <td>97</td>\n    </tr>\n    <tr>\n      <th>3653585</th>\n      <td>2021-01-01</td>\n      <td>374eb2</td>\n      <td>2</td>\n      <td>12</td>\n      <td>9</td>\n      <td>1</td>\n      <td>15</td>\n      <td>9</td>\n      <td>10</td>\n      <td>1</td>\n      <td>...</td>\n      <td>2</td>\n      <td>2</td>\n      <td>97</td>\n      <td>1</td>\n      <td>2</td>\n      <td>1</td>\n      <td>99</td>\n      <td>MÃ©xico</td>\n      <td>97</td>\n      <td>97</td>\n    </tr>\n    <tr>\n      <th>3653590</th>\n      <td>2021-01-01</td>\n      <td>230c5d</td>\n      <td>1</td>\n      <td>12</td>\n      <td>9</td>\n      <td>1</td>\n      <td>9</td>\n      <td>9</td>\n      <td>10</td>\n      <td>1</td>\n      <td>...</td>\n      <td>2</td>\n      <td>2</td>\n      <td>97</td>\n      <td>1</td>\n      <td>1</td>\n      <td>3</td>\n      <td>99</td>\n      <td>MÃ©xico</td>\n      <td>97</td>\n      <td>97</td>\n    </tr>\n  </tbody>\n</table>\n<p>1437185 rows × 40 columns</p>\n</div>"
     },
     "metadata": {},
     "execution_count": 96
    }
   ],
   "source": [
    "# Distribution of cases per state ...................................\n",
    "confirmados"
   ]
  },
  {
   "cell_type": "code",
   "execution_count": 97,
   "metadata": {},
   "outputs": [
    {
     "output_type": "execute_result",
     "data": {
      "text/plain": [
       "    ENTIDAD_RES  Casos confirmados\n",
       "0             1              17021\n",
       "1             2              34889\n",
       "2             3              17820\n",
       "3             4               7273\n",
       "4             5              49685\n",
       "5             6               7949\n",
       "6             7               8293\n",
       "7             8              36517\n",
       "8             9             334137\n",
       "9            10              25248\n",
       "10           11              83520\n",
       "11           12              26024\n",
       "12           13              24599\n",
       "13           14              52399\n",
       "14           15             147443\n",
       "15           16              33235\n",
       "16           17               9930\n",
       "17           18               7922\n",
       "18           19              83209\n",
       "19           20              28404\n",
       "20           21              47636\n",
       "21           22              32582\n",
       "22           23              15968\n",
       "23           24              39968\n",
       "24           25              26847\n",
       "25           26              52146\n",
       "26           27              44592\n",
       "27           28              39416\n",
       "28           29              11351\n",
       "29           30              43211\n",
       "30           31              26748\n",
       "31           32              21203"
      ],
      "text/html": "<div>\n<style scoped>\n    .dataframe tbody tr th:only-of-type {\n        vertical-align: middle;\n    }\n\n    .dataframe tbody tr th {\n        vertical-align: top;\n    }\n\n    .dataframe thead th {\n        text-align: right;\n    }\n</style>\n<table border=\"1\" class=\"dataframe\">\n  <thead>\n    <tr style=\"text-align: right;\">\n      <th></th>\n      <th>ENTIDAD_RES</th>\n      <th>Casos confirmados</th>\n    </tr>\n  </thead>\n  <tbody>\n    <tr>\n      <th>0</th>\n      <td>1</td>\n      <td>17021</td>\n    </tr>\n    <tr>\n      <th>1</th>\n      <td>2</td>\n      <td>34889</td>\n    </tr>\n    <tr>\n      <th>2</th>\n      <td>3</td>\n      <td>17820</td>\n    </tr>\n    <tr>\n      <th>3</th>\n      <td>4</td>\n      <td>7273</td>\n    </tr>\n    <tr>\n      <th>4</th>\n      <td>5</td>\n      <td>49685</td>\n    </tr>\n    <tr>\n      <th>5</th>\n      <td>6</td>\n      <td>7949</td>\n    </tr>\n    <tr>\n      <th>6</th>\n      <td>7</td>\n      <td>8293</td>\n    </tr>\n    <tr>\n      <th>7</th>\n      <td>8</td>\n      <td>36517</td>\n    </tr>\n    <tr>\n      <th>8</th>\n      <td>9</td>\n      <td>334137</td>\n    </tr>\n    <tr>\n      <th>9</th>\n      <td>10</td>\n      <td>25248</td>\n    </tr>\n    <tr>\n      <th>10</th>\n      <td>11</td>\n      <td>83520</td>\n    </tr>\n    <tr>\n      <th>11</th>\n      <td>12</td>\n      <td>26024</td>\n    </tr>\n    <tr>\n      <th>12</th>\n      <td>13</td>\n      <td>24599</td>\n    </tr>\n    <tr>\n      <th>13</th>\n      <td>14</td>\n      <td>52399</td>\n    </tr>\n    <tr>\n      <th>14</th>\n      <td>15</td>\n      <td>147443</td>\n    </tr>\n    <tr>\n      <th>15</th>\n      <td>16</td>\n      <td>33235</td>\n    </tr>\n    <tr>\n      <th>16</th>\n      <td>17</td>\n      <td>9930</td>\n    </tr>\n    <tr>\n      <th>17</th>\n      <td>18</td>\n      <td>7922</td>\n    </tr>\n    <tr>\n      <th>18</th>\n      <td>19</td>\n      <td>83209</td>\n    </tr>\n    <tr>\n      <th>19</th>\n      <td>20</td>\n      <td>28404</td>\n    </tr>\n    <tr>\n      <th>20</th>\n      <td>21</td>\n      <td>47636</td>\n    </tr>\n    <tr>\n      <th>21</th>\n      <td>22</td>\n      <td>32582</td>\n    </tr>\n    <tr>\n      <th>22</th>\n      <td>23</td>\n      <td>15968</td>\n    </tr>\n    <tr>\n      <th>23</th>\n      <td>24</td>\n      <td>39968</td>\n    </tr>\n    <tr>\n      <th>24</th>\n      <td>25</td>\n      <td>26847</td>\n    </tr>\n    <tr>\n      <th>25</th>\n      <td>26</td>\n      <td>52146</td>\n    </tr>\n    <tr>\n      <th>26</th>\n      <td>27</td>\n      <td>44592</td>\n    </tr>\n    <tr>\n      <th>27</th>\n      <td>28</td>\n      <td>39416</td>\n    </tr>\n    <tr>\n      <th>28</th>\n      <td>29</td>\n      <td>11351</td>\n    </tr>\n    <tr>\n      <th>29</th>\n      <td>30</td>\n      <td>43211</td>\n    </tr>\n    <tr>\n      <th>30</th>\n      <td>31</td>\n      <td>26748</td>\n    </tr>\n    <tr>\n      <th>31</th>\n      <td>32</td>\n      <td>21203</td>\n    </tr>\n  </tbody>\n</table>\n</div>"
     },
     "metadata": {},
     "execution_count": 97
    }
   ],
   "source": [
    "#Grouping by state ENTIDAD_RES\n",
    "confirmados_por_estado = confirmados.groupby(\"ENTIDAD_RES\").size().to_frame(\"Casos confirmados\").reset_index()\n",
    "confirmados_por_estado"
   ]
  },
  {
   "cell_type": "code",
   "execution_count": 98,
   "metadata": {},
   "outputs": [
    {
     "output_type": "execute_result",
     "data": {
      "text/plain": [
       "dict_keys(['Catálogo ORIGEN', 'Catálogo SECTOR', 'Catálogo SEXO', 'Catálogo TIPO_PACIENTE', 'Catálogo SI_NO', 'Catálogo NACIONALIDAD', 'Catálogo RESULTADO_LAB', 'Catálogo RESULTADO_ANTIGENO', 'Catálogo CLASIFICACION_FINAL', 'Catálogo de ENTIDADES', 'Catálogo MUNICIPIOS'])"
      ]
     },
     "metadata": {},
     "execution_count": 98
    }
   ],
   "source": [
    "# Cargando el diccionario de estados\n",
    "dics = pd.read_excel(\"../diccionarios/201128 Catalogos_.xlsx\", sheet_name = None)\n",
    "dics.keys()"
   ]
  },
  {
   "cell_type": "code",
   "execution_count": 99,
   "metadata": {},
   "outputs": [
    {
     "output_type": "execute_result",
     "data": {
      "text/plain": [
       "    CLAVE_ENTIDAD               ENTIDAD_FEDERATIVA ABREVIATURA\n",
       "0               1                   AGUASCALIENTES          AS\n",
       "1               2                  BAJA CALIFORNIA          BC\n",
       "2               3              BAJA CALIFORNIA SUR          BS\n",
       "3               4                         CAMPECHE          CC\n",
       "4               5             COAHUILA DE ZARAGOZA          CL\n",
       "5               6                           COLIMA          CM\n",
       "6               7                          CHIAPAS          CS\n",
       "7               8                        CHIHUAHUA          CH\n",
       "8               9                 CIUDAD DE MÉXICO          DF\n",
       "9              10                          DURANGO          DG\n",
       "10             11                       GUANAJUATO          GT\n",
       "11             12                         GUERRERO          GR\n",
       "12             13                          HIDALGO          HG\n",
       "13             14                          JALISCO          JC\n",
       "14             15                           MÉXICO          MC\n",
       "15             16              MICHOACÁN DE OCAMPO          MN\n",
       "16             17                          MORELOS          MS\n",
       "17             18                          NAYARIT          NT\n",
       "18             19                       NUEVO LEÓN          NL\n",
       "19             20                           OAXACA          OC\n",
       "20             21                           PUEBLA          PL\n",
       "21             22                        QUERÉTARO          QT\n",
       "22             23                     QUINTANA ROO          QR\n",
       "23             24                  SAN LUIS POTOSÍ          SP\n",
       "24             25                          SINALOA          SL\n",
       "25             26                           SONORA          SR\n",
       "26             27                          TABASCO          TC\n",
       "27             28                       TAMAULIPAS          TS\n",
       "28             29                         TLAXCALA          TL\n",
       "29             30  VERACRUZ DE IGNACIO DE LA LLAVE          VZ\n",
       "30             31                          YUCATÁN          YN\n",
       "31             32                        ZACATECAS          ZS\n",
       "32             36         ESTADOS UNIDOS MEXICANOS         EUM\n",
       "33             97                        NO APLICA         NaN\n",
       "34             98                        SE IGNORA          SI\n",
       "35             99                  NO ESPECIFICADO          NE"
      ],
      "text/html": "<div>\n<style scoped>\n    .dataframe tbody tr th:only-of-type {\n        vertical-align: middle;\n    }\n\n    .dataframe tbody tr th {\n        vertical-align: top;\n    }\n\n    .dataframe thead th {\n        text-align: right;\n    }\n</style>\n<table border=\"1\" class=\"dataframe\">\n  <thead>\n    <tr style=\"text-align: right;\">\n      <th></th>\n      <th>CLAVE_ENTIDAD</th>\n      <th>ENTIDAD_FEDERATIVA</th>\n      <th>ABREVIATURA</th>\n    </tr>\n  </thead>\n  <tbody>\n    <tr>\n      <th>0</th>\n      <td>1</td>\n      <td>AGUASCALIENTES</td>\n      <td>AS</td>\n    </tr>\n    <tr>\n      <th>1</th>\n      <td>2</td>\n      <td>BAJA CALIFORNIA</td>\n      <td>BC</td>\n    </tr>\n    <tr>\n      <th>2</th>\n      <td>3</td>\n      <td>BAJA CALIFORNIA SUR</td>\n      <td>BS</td>\n    </tr>\n    <tr>\n      <th>3</th>\n      <td>4</td>\n      <td>CAMPECHE</td>\n      <td>CC</td>\n    </tr>\n    <tr>\n      <th>4</th>\n      <td>5</td>\n      <td>COAHUILA DE ZARAGOZA</td>\n      <td>CL</td>\n    </tr>\n    <tr>\n      <th>5</th>\n      <td>6</td>\n      <td>COLIMA</td>\n      <td>CM</td>\n    </tr>\n    <tr>\n      <th>6</th>\n      <td>7</td>\n      <td>CHIAPAS</td>\n      <td>CS</td>\n    </tr>\n    <tr>\n      <th>7</th>\n      <td>8</td>\n      <td>CHIHUAHUA</td>\n      <td>CH</td>\n    </tr>\n    <tr>\n      <th>8</th>\n      <td>9</td>\n      <td>CIUDAD DE MÉXICO</td>\n      <td>DF</td>\n    </tr>\n    <tr>\n      <th>9</th>\n      <td>10</td>\n      <td>DURANGO</td>\n      <td>DG</td>\n    </tr>\n    <tr>\n      <th>10</th>\n      <td>11</td>\n      <td>GUANAJUATO</td>\n      <td>GT</td>\n    </tr>\n    <tr>\n      <th>11</th>\n      <td>12</td>\n      <td>GUERRERO</td>\n      <td>GR</td>\n    </tr>\n    <tr>\n      <th>12</th>\n      <td>13</td>\n      <td>HIDALGO</td>\n      <td>HG</td>\n    </tr>\n    <tr>\n      <th>13</th>\n      <td>14</td>\n      <td>JALISCO</td>\n      <td>JC</td>\n    </tr>\n    <tr>\n      <th>14</th>\n      <td>15</td>\n      <td>MÉXICO</td>\n      <td>MC</td>\n    </tr>\n    <tr>\n      <th>15</th>\n      <td>16</td>\n      <td>MICHOACÁN DE OCAMPO</td>\n      <td>MN</td>\n    </tr>\n    <tr>\n      <th>16</th>\n      <td>17</td>\n      <td>MORELOS</td>\n      <td>MS</td>\n    </tr>\n    <tr>\n      <th>17</th>\n      <td>18</td>\n      <td>NAYARIT</td>\n      <td>NT</td>\n    </tr>\n    <tr>\n      <th>18</th>\n      <td>19</td>\n      <td>NUEVO LEÓN</td>\n      <td>NL</td>\n    </tr>\n    <tr>\n      <th>19</th>\n      <td>20</td>\n      <td>OAXACA</td>\n      <td>OC</td>\n    </tr>\n    <tr>\n      <th>20</th>\n      <td>21</td>\n      <td>PUEBLA</td>\n      <td>PL</td>\n    </tr>\n    <tr>\n      <th>21</th>\n      <td>22</td>\n      <td>QUERÉTARO</td>\n      <td>QT</td>\n    </tr>\n    <tr>\n      <th>22</th>\n      <td>23</td>\n      <td>QUINTANA ROO</td>\n      <td>QR</td>\n    </tr>\n    <tr>\n      <th>23</th>\n      <td>24</td>\n      <td>SAN LUIS POTOSÍ</td>\n      <td>SP</td>\n    </tr>\n    <tr>\n      <th>24</th>\n      <td>25</td>\n      <td>SINALOA</td>\n      <td>SL</td>\n    </tr>\n    <tr>\n      <th>25</th>\n      <td>26</td>\n      <td>SONORA</td>\n      <td>SR</td>\n    </tr>\n    <tr>\n      <th>26</th>\n      <td>27</td>\n      <td>TABASCO</td>\n      <td>TC</td>\n    </tr>\n    <tr>\n      <th>27</th>\n      <td>28</td>\n      <td>TAMAULIPAS</td>\n      <td>TS</td>\n    </tr>\n    <tr>\n      <th>28</th>\n      <td>29</td>\n      <td>TLAXCALA</td>\n      <td>TL</td>\n    </tr>\n    <tr>\n      <th>29</th>\n      <td>30</td>\n      <td>VERACRUZ DE IGNACIO DE LA LLAVE</td>\n      <td>VZ</td>\n    </tr>\n    <tr>\n      <th>30</th>\n      <td>31</td>\n      <td>YUCATÁN</td>\n      <td>YN</td>\n    </tr>\n    <tr>\n      <th>31</th>\n      <td>32</td>\n      <td>ZACATECAS</td>\n      <td>ZS</td>\n    </tr>\n    <tr>\n      <th>32</th>\n      <td>36</td>\n      <td>ESTADOS UNIDOS MEXICANOS</td>\n      <td>EUM</td>\n    </tr>\n    <tr>\n      <th>33</th>\n      <td>97</td>\n      <td>NO APLICA</td>\n      <td>NaN</td>\n    </tr>\n    <tr>\n      <th>34</th>\n      <td>98</td>\n      <td>SE IGNORA</td>\n      <td>SI</td>\n    </tr>\n    <tr>\n      <th>35</th>\n      <td>99</td>\n      <td>NO ESPECIFICADO</td>\n      <td>NE</td>\n    </tr>\n  </tbody>\n</table>\n</div>"
     },
     "metadata": {},
     "execution_count": 99
    }
   ],
   "source": [
    "dic_estados = dics[\"Catálogo de ENTIDADES\"]\n",
    "dic_estados"
   ]
  },
  {
   "cell_type": "code",
   "execution_count": 100,
   "metadata": {},
   "outputs": [
    {
     "output_type": "execute_result",
     "data": {
      "text/plain": [
       "    ENTIDAD_RES  Casos confirmados  CLAVE_ENTIDAD  \\\n",
       "0             1              17021              1   \n",
       "1             2              34889              2   \n",
       "2             3              17820              3   \n",
       "3             4               7273              4   \n",
       "4             5              49685              5   \n",
       "5             6               7949              6   \n",
       "6             7               8293              7   \n",
       "7             8              36517              8   \n",
       "8             9             334137              9   \n",
       "9            10              25248             10   \n",
       "10           11              83520             11   \n",
       "11           12              26024             12   \n",
       "12           13              24599             13   \n",
       "13           14              52399             14   \n",
       "14           15             147443             15   \n",
       "15           16              33235             16   \n",
       "16           17               9930             17   \n",
       "17           18               7922             18   \n",
       "18           19              83209             19   \n",
       "19           20              28404             20   \n",
       "20           21              47636             21   \n",
       "21           22              32582             22   \n",
       "22           23              15968             23   \n",
       "23           24              39968             24   \n",
       "24           25              26847             25   \n",
       "25           26              52146             26   \n",
       "26           27              44592             27   \n",
       "27           28              39416             28   \n",
       "28           29              11351             29   \n",
       "29           30              43211             30   \n",
       "30           31              26748             31   \n",
       "31           32              21203             32   \n",
       "\n",
       "                 ENTIDAD_FEDERATIVA ABREVIATURA  \n",
       "0                    AGUASCALIENTES          AS  \n",
       "1                   BAJA CALIFORNIA          BC  \n",
       "2               BAJA CALIFORNIA SUR          BS  \n",
       "3                          CAMPECHE          CC  \n",
       "4              COAHUILA DE ZARAGOZA          CL  \n",
       "5                            COLIMA          CM  \n",
       "6                           CHIAPAS          CS  \n",
       "7                         CHIHUAHUA          CH  \n",
       "8                  CIUDAD DE MÉXICO          DF  \n",
       "9                           DURANGO          DG  \n",
       "10                       GUANAJUATO          GT  \n",
       "11                         GUERRERO          GR  \n",
       "12                          HIDALGO          HG  \n",
       "13                          JALISCO          JC  \n",
       "14                           MÉXICO          MC  \n",
       "15              MICHOACÁN DE OCAMPO          MN  \n",
       "16                          MORELOS          MS  \n",
       "17                          NAYARIT          NT  \n",
       "18                       NUEVO LEÓN          NL  \n",
       "19                           OAXACA          OC  \n",
       "20                           PUEBLA          PL  \n",
       "21                        QUERÉTARO          QT  \n",
       "22                     QUINTANA ROO          QR  \n",
       "23                  SAN LUIS POTOSÍ          SP  \n",
       "24                          SINALOA          SL  \n",
       "25                           SONORA          SR  \n",
       "26                          TABASCO          TC  \n",
       "27                       TAMAULIPAS          TS  \n",
       "28                         TLAXCALA          TL  \n",
       "29  VERACRUZ DE IGNACIO DE LA LLAVE          VZ  \n",
       "30                          YUCATÁN          YN  \n",
       "31                        ZACATECAS          ZS  "
      ],
      "text/html": "<div>\n<style scoped>\n    .dataframe tbody tr th:only-of-type {\n        vertical-align: middle;\n    }\n\n    .dataframe tbody tr th {\n        vertical-align: top;\n    }\n\n    .dataframe thead th {\n        text-align: right;\n    }\n</style>\n<table border=\"1\" class=\"dataframe\">\n  <thead>\n    <tr style=\"text-align: right;\">\n      <th></th>\n      <th>ENTIDAD_RES</th>\n      <th>Casos confirmados</th>\n      <th>CLAVE_ENTIDAD</th>\n      <th>ENTIDAD_FEDERATIVA</th>\n      <th>ABREVIATURA</th>\n    </tr>\n  </thead>\n  <tbody>\n    <tr>\n      <th>0</th>\n      <td>1</td>\n      <td>17021</td>\n      <td>1</td>\n      <td>AGUASCALIENTES</td>\n      <td>AS</td>\n    </tr>\n    <tr>\n      <th>1</th>\n      <td>2</td>\n      <td>34889</td>\n      <td>2</td>\n      <td>BAJA CALIFORNIA</td>\n      <td>BC</td>\n    </tr>\n    <tr>\n      <th>2</th>\n      <td>3</td>\n      <td>17820</td>\n      <td>3</td>\n      <td>BAJA CALIFORNIA SUR</td>\n      <td>BS</td>\n    </tr>\n    <tr>\n      <th>3</th>\n      <td>4</td>\n      <td>7273</td>\n      <td>4</td>\n      <td>CAMPECHE</td>\n      <td>CC</td>\n    </tr>\n    <tr>\n      <th>4</th>\n      <td>5</td>\n      <td>49685</td>\n      <td>5</td>\n      <td>COAHUILA DE ZARAGOZA</td>\n      <td>CL</td>\n    </tr>\n    <tr>\n      <th>5</th>\n      <td>6</td>\n      <td>7949</td>\n      <td>6</td>\n      <td>COLIMA</td>\n      <td>CM</td>\n    </tr>\n    <tr>\n      <th>6</th>\n      <td>7</td>\n      <td>8293</td>\n      <td>7</td>\n      <td>CHIAPAS</td>\n      <td>CS</td>\n    </tr>\n    <tr>\n      <th>7</th>\n      <td>8</td>\n      <td>36517</td>\n      <td>8</td>\n      <td>CHIHUAHUA</td>\n      <td>CH</td>\n    </tr>\n    <tr>\n      <th>8</th>\n      <td>9</td>\n      <td>334137</td>\n      <td>9</td>\n      <td>CIUDAD DE MÉXICO</td>\n      <td>DF</td>\n    </tr>\n    <tr>\n      <th>9</th>\n      <td>10</td>\n      <td>25248</td>\n      <td>10</td>\n      <td>DURANGO</td>\n      <td>DG</td>\n    </tr>\n    <tr>\n      <th>10</th>\n      <td>11</td>\n      <td>83520</td>\n      <td>11</td>\n      <td>GUANAJUATO</td>\n      <td>GT</td>\n    </tr>\n    <tr>\n      <th>11</th>\n      <td>12</td>\n      <td>26024</td>\n      <td>12</td>\n      <td>GUERRERO</td>\n      <td>GR</td>\n    </tr>\n    <tr>\n      <th>12</th>\n      <td>13</td>\n      <td>24599</td>\n      <td>13</td>\n      <td>HIDALGO</td>\n      <td>HG</td>\n    </tr>\n    <tr>\n      <th>13</th>\n      <td>14</td>\n      <td>52399</td>\n      <td>14</td>\n      <td>JALISCO</td>\n      <td>JC</td>\n    </tr>\n    <tr>\n      <th>14</th>\n      <td>15</td>\n      <td>147443</td>\n      <td>15</td>\n      <td>MÉXICO</td>\n      <td>MC</td>\n    </tr>\n    <tr>\n      <th>15</th>\n      <td>16</td>\n      <td>33235</td>\n      <td>16</td>\n      <td>MICHOACÁN DE OCAMPO</td>\n      <td>MN</td>\n    </tr>\n    <tr>\n      <th>16</th>\n      <td>17</td>\n      <td>9930</td>\n      <td>17</td>\n      <td>MORELOS</td>\n      <td>MS</td>\n    </tr>\n    <tr>\n      <th>17</th>\n      <td>18</td>\n      <td>7922</td>\n      <td>18</td>\n      <td>NAYARIT</td>\n      <td>NT</td>\n    </tr>\n    <tr>\n      <th>18</th>\n      <td>19</td>\n      <td>83209</td>\n      <td>19</td>\n      <td>NUEVO LEÓN</td>\n      <td>NL</td>\n    </tr>\n    <tr>\n      <th>19</th>\n      <td>20</td>\n      <td>28404</td>\n      <td>20</td>\n      <td>OAXACA</td>\n      <td>OC</td>\n    </tr>\n    <tr>\n      <th>20</th>\n      <td>21</td>\n      <td>47636</td>\n      <td>21</td>\n      <td>PUEBLA</td>\n      <td>PL</td>\n    </tr>\n    <tr>\n      <th>21</th>\n      <td>22</td>\n      <td>32582</td>\n      <td>22</td>\n      <td>QUERÉTARO</td>\n      <td>QT</td>\n    </tr>\n    <tr>\n      <th>22</th>\n      <td>23</td>\n      <td>15968</td>\n      <td>23</td>\n      <td>QUINTANA ROO</td>\n      <td>QR</td>\n    </tr>\n    <tr>\n      <th>23</th>\n      <td>24</td>\n      <td>39968</td>\n      <td>24</td>\n      <td>SAN LUIS POTOSÍ</td>\n      <td>SP</td>\n    </tr>\n    <tr>\n      <th>24</th>\n      <td>25</td>\n      <td>26847</td>\n      <td>25</td>\n      <td>SINALOA</td>\n      <td>SL</td>\n    </tr>\n    <tr>\n      <th>25</th>\n      <td>26</td>\n      <td>52146</td>\n      <td>26</td>\n      <td>SONORA</td>\n      <td>SR</td>\n    </tr>\n    <tr>\n      <th>26</th>\n      <td>27</td>\n      <td>44592</td>\n      <td>27</td>\n      <td>TABASCO</td>\n      <td>TC</td>\n    </tr>\n    <tr>\n      <th>27</th>\n      <td>28</td>\n      <td>39416</td>\n      <td>28</td>\n      <td>TAMAULIPAS</td>\n      <td>TS</td>\n    </tr>\n    <tr>\n      <th>28</th>\n      <td>29</td>\n      <td>11351</td>\n      <td>29</td>\n      <td>TLAXCALA</td>\n      <td>TL</td>\n    </tr>\n    <tr>\n      <th>29</th>\n      <td>30</td>\n      <td>43211</td>\n      <td>30</td>\n      <td>VERACRUZ DE IGNACIO DE LA LLAVE</td>\n      <td>VZ</td>\n    </tr>\n    <tr>\n      <th>30</th>\n      <td>31</td>\n      <td>26748</td>\n      <td>31</td>\n      <td>YUCATÁN</td>\n      <td>YN</td>\n    </tr>\n    <tr>\n      <th>31</th>\n      <td>32</td>\n      <td>21203</td>\n      <td>32</td>\n      <td>ZACATECAS</td>\n      <td>ZS</td>\n    </tr>\n  </tbody>\n</table>\n</div>"
     },
     "metadata": {},
     "execution_count": 100
    }
   ],
   "source": [
    "confirmados_por_entidad = pd.merge(confirmados_por_estado, dic_estados, how = \"left\", left_on = \"ENTIDAD_RES\", right_on = \"CLAVE_ENTIDAD\" ) # left outer join\n",
    "confirmados_por_entidad"
   ]
  },
  {
   "cell_type": "code",
   "execution_count": 101,
   "metadata": {},
   "outputs": [
    {
     "output_type": "execute_result",
     "data": {
      "text/plain": [
       "ENTIDAD_RES            int64\n",
       "Casos confirmados      int64\n",
       "CLAVE_ENTIDAD          int64\n",
       "ENTIDAD_FEDERATIVA    object\n",
       "ABREVIATURA           object\n",
       "dtype: object"
      ]
     },
     "metadata": {},
     "execution_count": 101
    }
   ],
   "source": [
    "confirmados_por_entidad.dtypes"
   ]
  },
  {
   "cell_type": "code",
   "execution_count": 102,
   "metadata": {},
   "outputs": [
    {
     "output_type": "display_data",
     "data": {
      "application/vnd.plotly.v1+json": {
       "config": {
        "plotlyServerURL": "https://plot.ly"
       },
       "data": [
        {
         "alignmentgroup": "True",
         "hovertemplate": "Entidad Federativa=%{x}<br>Número de casos confirmados=%{y}<extra></extra>",
         "legendgroup": "",
         "marker": {
          "color": "#b71c1c"
         },
         "name": "",
         "offsetgroup": "",
         "opacity": 0.8,
         "orientation": "v",
         "showlegend": false,
         "textposition": "auto",
         "type": "bar",
         "x": [
          "CIUDAD DE MÉXICO",
          "MÉXICO",
          "GUANAJUATO",
          "NUEVO LEÓN",
          "JALISCO",
          "SONORA",
          "COAHUILA DE ZARAGOZA",
          "PUEBLA",
          "TABASCO",
          "VERACRUZ DE IGNACIO DE LA LLAVE",
          "SAN LUIS POTOSÍ",
          "TAMAULIPAS",
          "CHIHUAHUA",
          "BAJA CALIFORNIA",
          "MICHOACÁN DE OCAMPO",
          "QUERÉTARO",
          "OAXACA",
          "SINALOA",
          "YUCATÁN",
          "GUERRERO",
          "DURANGO",
          "HIDALGO",
          "ZACATECAS",
          "BAJA CALIFORNIA SUR",
          "AGUASCALIENTES",
          "QUINTANA ROO",
          "TLAXCALA",
          "MORELOS",
          "CHIAPAS",
          "COLIMA",
          "NAYARIT",
          "CAMPECHE"
         ],
         "xaxis": "x",
         "y": [
          334137,
          147443,
          83520,
          83209,
          52399,
          52146,
          49685,
          47636,
          44592,
          43211,
          39968,
          39416,
          36517,
          34889,
          33235,
          32582,
          28404,
          26847,
          26748,
          26024,
          25248,
          24599,
          21203,
          17820,
          17021,
          15968,
          11351,
          9930,
          8293,
          7949,
          7922,
          7273
         ],
         "yaxis": "y"
        }
       ],
       "layout": {
        "barmode": "relative",
        "legend": {
         "tracegroupgap": 0
        },
        "template": {
         "data": {
          "bar": [
           {
            "error_x": {
             "color": "#2a3f5f"
            },
            "error_y": {
             "color": "#2a3f5f"
            },
            "marker": {
             "line": {
              "color": "white",
              "width": 0.5
             }
            },
            "type": "bar"
           }
          ],
          "barpolar": [
           {
            "marker": {
             "line": {
              "color": "white",
              "width": 0.5
             }
            },
            "type": "barpolar"
           }
          ],
          "carpet": [
           {
            "aaxis": {
             "endlinecolor": "#2a3f5f",
             "gridcolor": "#C8D4E3",
             "linecolor": "#C8D4E3",
             "minorgridcolor": "#C8D4E3",
             "startlinecolor": "#2a3f5f"
            },
            "baxis": {
             "endlinecolor": "#2a3f5f",
             "gridcolor": "#C8D4E3",
             "linecolor": "#C8D4E3",
             "minorgridcolor": "#C8D4E3",
             "startlinecolor": "#2a3f5f"
            },
            "type": "carpet"
           }
          ],
          "choropleth": [
           {
            "colorbar": {
             "outlinewidth": 0,
             "ticks": ""
            },
            "type": "choropleth"
           }
          ],
          "contour": [
           {
            "colorbar": {
             "outlinewidth": 0,
             "ticks": ""
            },
            "colorscale": [
             [
              0,
              "#0d0887"
             ],
             [
              0.1111111111111111,
              "#46039f"
             ],
             [
              0.2222222222222222,
              "#7201a8"
             ],
             [
              0.3333333333333333,
              "#9c179e"
             ],
             [
              0.4444444444444444,
              "#bd3786"
             ],
             [
              0.5555555555555556,
              "#d8576b"
             ],
             [
              0.6666666666666666,
              "#ed7953"
             ],
             [
              0.7777777777777778,
              "#fb9f3a"
             ],
             [
              0.8888888888888888,
              "#fdca26"
             ],
             [
              1,
              "#f0f921"
             ]
            ],
            "type": "contour"
           }
          ],
          "contourcarpet": [
           {
            "colorbar": {
             "outlinewidth": 0,
             "ticks": ""
            },
            "type": "contourcarpet"
           }
          ],
          "heatmap": [
           {
            "colorbar": {
             "outlinewidth": 0,
             "ticks": ""
            },
            "colorscale": [
             [
              0,
              "#0d0887"
             ],
             [
              0.1111111111111111,
              "#46039f"
             ],
             [
              0.2222222222222222,
              "#7201a8"
             ],
             [
              0.3333333333333333,
              "#9c179e"
             ],
             [
              0.4444444444444444,
              "#bd3786"
             ],
             [
              0.5555555555555556,
              "#d8576b"
             ],
             [
              0.6666666666666666,
              "#ed7953"
             ],
             [
              0.7777777777777778,
              "#fb9f3a"
             ],
             [
              0.8888888888888888,
              "#fdca26"
             ],
             [
              1,
              "#f0f921"
             ]
            ],
            "type": "heatmap"
           }
          ],
          "heatmapgl": [
           {
            "colorbar": {
             "outlinewidth": 0,
             "ticks": ""
            },
            "colorscale": [
             [
              0,
              "#0d0887"
             ],
             [
              0.1111111111111111,
              "#46039f"
             ],
             [
              0.2222222222222222,
              "#7201a8"
             ],
             [
              0.3333333333333333,
              "#9c179e"
             ],
             [
              0.4444444444444444,
              "#bd3786"
             ],
             [
              0.5555555555555556,
              "#d8576b"
             ],
             [
              0.6666666666666666,
              "#ed7953"
             ],
             [
              0.7777777777777778,
              "#fb9f3a"
             ],
             [
              0.8888888888888888,
              "#fdca26"
             ],
             [
              1,
              "#f0f921"
             ]
            ],
            "type": "heatmapgl"
           }
          ],
          "histogram": [
           {
            "marker": {
             "colorbar": {
              "outlinewidth": 0,
              "ticks": ""
             }
            },
            "type": "histogram"
           }
          ],
          "histogram2d": [
           {
            "colorbar": {
             "outlinewidth": 0,
             "ticks": ""
            },
            "colorscale": [
             [
              0,
              "#0d0887"
             ],
             [
              0.1111111111111111,
              "#46039f"
             ],
             [
              0.2222222222222222,
              "#7201a8"
             ],
             [
              0.3333333333333333,
              "#9c179e"
             ],
             [
              0.4444444444444444,
              "#bd3786"
             ],
             [
              0.5555555555555556,
              "#d8576b"
             ],
             [
              0.6666666666666666,
              "#ed7953"
             ],
             [
              0.7777777777777778,
              "#fb9f3a"
             ],
             [
              0.8888888888888888,
              "#fdca26"
             ],
             [
              1,
              "#f0f921"
             ]
            ],
            "type": "histogram2d"
           }
          ],
          "histogram2dcontour": [
           {
            "colorbar": {
             "outlinewidth": 0,
             "ticks": ""
            },
            "colorscale": [
             [
              0,
              "#0d0887"
             ],
             [
              0.1111111111111111,
              "#46039f"
             ],
             [
              0.2222222222222222,
              "#7201a8"
             ],
             [
              0.3333333333333333,
              "#9c179e"
             ],
             [
              0.4444444444444444,
              "#bd3786"
             ],
             [
              0.5555555555555556,
              "#d8576b"
             ],
             [
              0.6666666666666666,
              "#ed7953"
             ],
             [
              0.7777777777777778,
              "#fb9f3a"
             ],
             [
              0.8888888888888888,
              "#fdca26"
             ],
             [
              1,
              "#f0f921"
             ]
            ],
            "type": "histogram2dcontour"
           }
          ],
          "mesh3d": [
           {
            "colorbar": {
             "outlinewidth": 0,
             "ticks": ""
            },
            "type": "mesh3d"
           }
          ],
          "parcoords": [
           {
            "line": {
             "colorbar": {
              "outlinewidth": 0,
              "ticks": ""
             }
            },
            "type": "parcoords"
           }
          ],
          "pie": [
           {
            "automargin": true,
            "type": "pie"
           }
          ],
          "scatter": [
           {
            "marker": {
             "colorbar": {
              "outlinewidth": 0,
              "ticks": ""
             }
            },
            "type": "scatter"
           }
          ],
          "scatter3d": [
           {
            "line": {
             "colorbar": {
              "outlinewidth": 0,
              "ticks": ""
             }
            },
            "marker": {
             "colorbar": {
              "outlinewidth": 0,
              "ticks": ""
             }
            },
            "type": "scatter3d"
           }
          ],
          "scattercarpet": [
           {
            "marker": {
             "colorbar": {
              "outlinewidth": 0,
              "ticks": ""
             }
            },
            "type": "scattercarpet"
           }
          ],
          "scattergeo": [
           {
            "marker": {
             "colorbar": {
              "outlinewidth": 0,
              "ticks": ""
             }
            },
            "type": "scattergeo"
           }
          ],
          "scattergl": [
           {
            "marker": {
             "colorbar": {
              "outlinewidth": 0,
              "ticks": ""
             }
            },
            "type": "scattergl"
           }
          ],
          "scattermapbox": [
           {
            "marker": {
             "colorbar": {
              "outlinewidth": 0,
              "ticks": ""
             }
            },
            "type": "scattermapbox"
           }
          ],
          "scatterpolar": [
           {
            "marker": {
             "colorbar": {
              "outlinewidth": 0,
              "ticks": ""
             }
            },
            "type": "scatterpolar"
           }
          ],
          "scatterpolargl": [
           {
            "marker": {
             "colorbar": {
              "outlinewidth": 0,
              "ticks": ""
             }
            },
            "type": "scatterpolargl"
           }
          ],
          "scatterternary": [
           {
            "marker": {
             "colorbar": {
              "outlinewidth": 0,
              "ticks": ""
             }
            },
            "type": "scatterternary"
           }
          ],
          "surface": [
           {
            "colorbar": {
             "outlinewidth": 0,
             "ticks": ""
            },
            "colorscale": [
             [
              0,
              "#0d0887"
             ],
             [
              0.1111111111111111,
              "#46039f"
             ],
             [
              0.2222222222222222,
              "#7201a8"
             ],
             [
              0.3333333333333333,
              "#9c179e"
             ],
             [
              0.4444444444444444,
              "#bd3786"
             ],
             [
              0.5555555555555556,
              "#d8576b"
             ],
             [
              0.6666666666666666,
              "#ed7953"
             ],
             [
              0.7777777777777778,
              "#fb9f3a"
             ],
             [
              0.8888888888888888,
              "#fdca26"
             ],
             [
              1,
              "#f0f921"
             ]
            ],
            "type": "surface"
           }
          ],
          "table": [
           {
            "cells": {
             "fill": {
              "color": "#EBF0F8"
             },
             "line": {
              "color": "white"
             }
            },
            "header": {
             "fill": {
              "color": "#C8D4E3"
             },
             "line": {
              "color": "white"
             }
            },
            "type": "table"
           }
          ]
         },
         "layout": {
          "annotationdefaults": {
           "arrowcolor": "#2a3f5f",
           "arrowhead": 0,
           "arrowwidth": 1
          },
          "coloraxis": {
           "colorbar": {
            "outlinewidth": 0,
            "ticks": ""
           }
          },
          "colorscale": {
           "diverging": [
            [
             0,
             "#8e0152"
            ],
            [
             0.1,
             "#c51b7d"
            ],
            [
             0.2,
             "#de77ae"
            ],
            [
             0.3,
             "#f1b6da"
            ],
            [
             0.4,
             "#fde0ef"
            ],
            [
             0.5,
             "#f7f7f7"
            ],
            [
             0.6,
             "#e6f5d0"
            ],
            [
             0.7,
             "#b8e186"
            ],
            [
             0.8,
             "#7fbc41"
            ],
            [
             0.9,
             "#4d9221"
            ],
            [
             1,
             "#276419"
            ]
           ],
           "sequential": [
            [
             0,
             "#0d0887"
            ],
            [
             0.1111111111111111,
             "#46039f"
            ],
            [
             0.2222222222222222,
             "#7201a8"
            ],
            [
             0.3333333333333333,
             "#9c179e"
            ],
            [
             0.4444444444444444,
             "#bd3786"
            ],
            [
             0.5555555555555556,
             "#d8576b"
            ],
            [
             0.6666666666666666,
             "#ed7953"
            ],
            [
             0.7777777777777778,
             "#fb9f3a"
            ],
            [
             0.8888888888888888,
             "#fdca26"
            ],
            [
             1,
             "#f0f921"
            ]
           ],
           "sequentialminus": [
            [
             0,
             "#0d0887"
            ],
            [
             0.1111111111111111,
             "#46039f"
            ],
            [
             0.2222222222222222,
             "#7201a8"
            ],
            [
             0.3333333333333333,
             "#9c179e"
            ],
            [
             0.4444444444444444,
             "#bd3786"
            ],
            [
             0.5555555555555556,
             "#d8576b"
            ],
            [
             0.6666666666666666,
             "#ed7953"
            ],
            [
             0.7777777777777778,
             "#fb9f3a"
            ],
            [
             0.8888888888888888,
             "#fdca26"
            ],
            [
             1,
             "#f0f921"
            ]
           ]
          },
          "colorway": [
           "#636efa",
           "#EF553B",
           "#00cc96",
           "#ab63fa",
           "#FFA15A",
           "#19d3f3",
           "#FF6692",
           "#B6E880",
           "#FF97FF",
           "#FECB52"
          ],
          "font": {
           "color": "#2a3f5f"
          },
          "geo": {
           "bgcolor": "white",
           "lakecolor": "white",
           "landcolor": "white",
           "showlakes": true,
           "showland": true,
           "subunitcolor": "#C8D4E3"
          },
          "hoverlabel": {
           "align": "left"
          },
          "hovermode": "closest",
          "mapbox": {
           "style": "light"
          },
          "paper_bgcolor": "white",
          "plot_bgcolor": "white",
          "polar": {
           "angularaxis": {
            "gridcolor": "#EBF0F8",
            "linecolor": "#EBF0F8",
            "ticks": ""
           },
           "bgcolor": "white",
           "radialaxis": {
            "gridcolor": "#EBF0F8",
            "linecolor": "#EBF0F8",
            "ticks": ""
           }
          },
          "scene": {
           "xaxis": {
            "backgroundcolor": "white",
            "gridcolor": "#DFE8F3",
            "gridwidth": 2,
            "linecolor": "#EBF0F8",
            "showbackground": true,
            "ticks": "",
            "zerolinecolor": "#EBF0F8"
           },
           "yaxis": {
            "backgroundcolor": "white",
            "gridcolor": "#DFE8F3",
            "gridwidth": 2,
            "linecolor": "#EBF0F8",
            "showbackground": true,
            "ticks": "",
            "zerolinecolor": "#EBF0F8"
           },
           "zaxis": {
            "backgroundcolor": "white",
            "gridcolor": "#DFE8F3",
            "gridwidth": 2,
            "linecolor": "#EBF0F8",
            "showbackground": true,
            "ticks": "",
            "zerolinecolor": "#EBF0F8"
           }
          },
          "shapedefaults": {
           "line": {
            "color": "#2a3f5f"
           }
          },
          "ternary": {
           "aaxis": {
            "gridcolor": "#DFE8F3",
            "linecolor": "#A2B1C6",
            "ticks": ""
           },
           "baxis": {
            "gridcolor": "#DFE8F3",
            "linecolor": "#A2B1C6",
            "ticks": ""
           },
           "bgcolor": "white",
           "caxis": {
            "gridcolor": "#DFE8F3",
            "linecolor": "#A2B1C6",
            "ticks": ""
           }
          },
          "title": {
           "x": 0.05
          },
          "xaxis": {
           "automargin": true,
           "gridcolor": "#EBF0F8",
           "linecolor": "#EBF0F8",
           "ticks": "",
           "title": {
            "standoff": 15
           },
           "zerolinecolor": "#EBF0F8",
           "zerolinewidth": 2
          },
          "yaxis": {
           "automargin": true,
           "gridcolor": "#EBF0F8",
           "linecolor": "#EBF0F8",
           "ticks": "",
           "title": {
            "standoff": 15
           },
           "zerolinecolor": "#EBF0F8",
           "zerolinewidth": 2
          }
         }
        },
        "title": {
         "text": "Número de casos confirmados por estado"
        },
        "xaxis": {
         "anchor": "y",
         "domain": [
          0,
          1
         ],
         "tickfont": {
          "size": 10
         },
         "title": {
          "text": "Entidad Federativa"
         },
         "type": "category"
        },
        "yaxis": {
         "anchor": "x",
         "domain": [
          0,
          1
         ],
         "title": {
          "text": "Número de casos confirmados"
         }
        }
       }
      }
     },
     "metadata": {}
    }
   ],
   "source": [
    "# Bar plot of the confirmed cases by stte\n",
    "confirmados_por_entidad.sort_values(\"Casos confirmados\", ascending = False, inplace = True ) # Ordenando por número de casos de forma descendente \n",
    "fig_bar_edo = px.bar( x = confirmados_por_entidad[\"ENTIDAD_FEDERATIVA\"], y = confirmados_por_entidad[\"Casos confirmados\"],\n",
    "                        labels = dict(x = \"Entidad Federativa\", y = \"Número de casos confirmados\"), title = \"Número de casos confirmados por estado\")\n",
    "\n",
    "\n",
    "fig_bar_edo.update_xaxes(type='category', tickfont=dict(size = 10))\n",
    "fig_bar_edo.update_traces(marker = dict(color = \"#b71c1c\"), opacity = 0.8)\n",
    "fig_bar_edo.show()"
   ]
  },
  {
   "cell_type": "code",
   "execution_count": 103,
   "metadata": {},
   "outputs": [
    {
     "output_type": "execute_result",
     "data": {
      "text/plain": [
       "        RENGLON   AÑO             ENTIDAD  CVE_GEO  EDAD     SEXO  POBLACION\n",
       "0             1  1950  República Mexicana        0     0  Hombres     572103\n",
       "1             2  1950  República Mexicana        0     0  Mujeres     559162\n",
       "2             3  1950  República Mexicana        0     1  Hombres     514540\n",
       "3             4  1950  República Mexicana        0     1  Mujeres     505269\n",
       "4             5  1950  República Mexicana        0     2  Hombres     478546\n",
       "...         ...   ...                 ...      ...   ...      ...        ...\n",
       "592455   592456  2050           Zacatecas       32   107  Mujeres          4\n",
       "592456   592457  2050           Zacatecas       32   108  Hombres          1\n",
       "592457   592458  2050           Zacatecas       32   108  Mujeres          2\n",
       "592458   592459  2050           Zacatecas       32   109  Hombres          0\n",
       "592459   592460  2050           Zacatecas       32   109  Mujeres          1\n",
       "\n",
       "[592460 rows x 7 columns]"
      ],
      "text/html": "<div>\n<style scoped>\n    .dataframe tbody tr th:only-of-type {\n        vertical-align: middle;\n    }\n\n    .dataframe tbody tr th {\n        vertical-align: top;\n    }\n\n    .dataframe thead th {\n        text-align: right;\n    }\n</style>\n<table border=\"1\" class=\"dataframe\">\n  <thead>\n    <tr style=\"text-align: right;\">\n      <th></th>\n      <th>RENGLON</th>\n      <th>AÑO</th>\n      <th>ENTIDAD</th>\n      <th>CVE_GEO</th>\n      <th>EDAD</th>\n      <th>SEXO</th>\n      <th>POBLACION</th>\n    </tr>\n  </thead>\n  <tbody>\n    <tr>\n      <th>0</th>\n      <td>1</td>\n      <td>1950</td>\n      <td>República Mexicana</td>\n      <td>0</td>\n      <td>0</td>\n      <td>Hombres</td>\n      <td>572103</td>\n    </tr>\n    <tr>\n      <th>1</th>\n      <td>2</td>\n      <td>1950</td>\n      <td>República Mexicana</td>\n      <td>0</td>\n      <td>0</td>\n      <td>Mujeres</td>\n      <td>559162</td>\n    </tr>\n    <tr>\n      <th>2</th>\n      <td>3</td>\n      <td>1950</td>\n      <td>República Mexicana</td>\n      <td>0</td>\n      <td>1</td>\n      <td>Hombres</td>\n      <td>514540</td>\n    </tr>\n    <tr>\n      <th>3</th>\n      <td>4</td>\n      <td>1950</td>\n      <td>República Mexicana</td>\n      <td>0</td>\n      <td>1</td>\n      <td>Mujeres</td>\n      <td>505269</td>\n    </tr>\n    <tr>\n      <th>4</th>\n      <td>5</td>\n      <td>1950</td>\n      <td>República Mexicana</td>\n      <td>0</td>\n      <td>2</td>\n      <td>Hombres</td>\n      <td>478546</td>\n    </tr>\n    <tr>\n      <th>...</th>\n      <td>...</td>\n      <td>...</td>\n      <td>...</td>\n      <td>...</td>\n      <td>...</td>\n      <td>...</td>\n      <td>...</td>\n    </tr>\n    <tr>\n      <th>592455</th>\n      <td>592456</td>\n      <td>2050</td>\n      <td>Zacatecas</td>\n      <td>32</td>\n      <td>107</td>\n      <td>Mujeres</td>\n      <td>4</td>\n    </tr>\n    <tr>\n      <th>592456</th>\n      <td>592457</td>\n      <td>2050</td>\n      <td>Zacatecas</td>\n      <td>32</td>\n      <td>108</td>\n      <td>Hombres</td>\n      <td>1</td>\n    </tr>\n    <tr>\n      <th>592457</th>\n      <td>592458</td>\n      <td>2050</td>\n      <td>Zacatecas</td>\n      <td>32</td>\n      <td>108</td>\n      <td>Mujeres</td>\n      <td>2</td>\n    </tr>\n    <tr>\n      <th>592458</th>\n      <td>592459</td>\n      <td>2050</td>\n      <td>Zacatecas</td>\n      <td>32</td>\n      <td>109</td>\n      <td>Hombres</td>\n      <td>0</td>\n    </tr>\n    <tr>\n      <th>592459</th>\n      <td>592460</td>\n      <td>2050</td>\n      <td>Zacatecas</td>\n      <td>32</td>\n      <td>109</td>\n      <td>Mujeres</td>\n      <td>1</td>\n    </tr>\n  </tbody>\n</table>\n<p>592460 rows × 7 columns</p>\n</div>"
     },
     "metadata": {},
     "execution_count": 103
    }
   ],
   "source": [
    "poblaciones = pd.read_csv(\"http://www.conapo.gob.mx/work/models/CONAPO/Datos_Abiertos/Proyecciones2018/pob_mit_proyecciones.csv\", encoding=\"latin1\")\n",
    "poblaciones"
   ]
  },
  {
   "cell_type": "code",
   "execution_count": 104,
   "metadata": {},
   "outputs": [],
   "source": [
    "poblacion_2020 = poblaciones[poblaciones[\"AÑO\"] == 2020]"
   ]
  },
  {
   "cell_type": "code",
   "execution_count": 105,
   "metadata": {},
   "outputs": [],
   "source": [
    "grupos_pob = poblacion_2020.groupby([\"CVE_GEO\",\"ENTIDAD\"])\n",
    "poblacion_tot_estado = grupos_pob[\"POBLACION\"].sum().to_frame(\"POBLACION\").reset_index()   # Sum operation in the POBLACION column of each group"
   ]
  },
  {
   "cell_type": "code",
   "execution_count": 106,
   "metadata": {},
   "outputs": [
    {
     "output_type": "execute_result",
     "data": {
      "text/plain": [
       "Index(['ENTIDAD_RES', 'Casos confirmados', 'CLAVE_ENTIDAD',\n",
       "       'ENTIDAD_FEDERATIVA', 'ABREVIATURA', 'CVE_GEO', 'ENTIDAD', 'POBLACION'],\n",
       "      dtype='object')"
      ]
     },
     "metadata": {},
     "execution_count": 106
    }
   ],
   "source": [
    "datos_por_estado = pd.merge(confirmados_por_entidad, poblacion_tot_estado, how = \"left\", left_on = \"CLAVE_ENTIDAD\", right_on = \"CVE_GEO\" )\n",
    "datos_por_estado.columns"
   ]
  },
  {
   "cell_type": "code",
   "execution_count": 107,
   "metadata": {},
   "outputs": [
    {
     "output_type": "execute_result",
     "data": {
      "text/plain": [
       "    ENTIDAD_RES  Casos confirmados  CLAVE_ENTIDAD  \\\n",
       "0             9             334137              9   \n",
       "1             3              17820              3   \n",
       "2            27              44592             27   \n",
       "3            26              52146             26   \n",
       "4             5              49685              5   \n",
       "5            19              83209             19   \n",
       "6            22              32582             22   \n",
       "7            24              39968             24   \n",
       "8            10              25248             10   \n",
       "9            11              83520             11   \n",
       "10           32              21203             32   \n",
       "11            1              17021              1   \n",
       "12           31              26748             31   \n",
       "13           28              39416             28   \n",
       "14            6               7949              6   \n",
       "15            8              36517              8   \n",
       "16            2              34889              2   \n",
       "17           23              15968             23   \n",
       "18           25              26847             25   \n",
       "19           15             147443             15   \n",
       "20           29              11351             29   \n",
       "21           13              24599             13   \n",
       "22            4               7273              4   \n",
       "23           21              47636             21   \n",
       "24           12              26024             12   \n",
       "25           16              33235             16   \n",
       "26           20              28404             20   \n",
       "27           14              52399             14   \n",
       "28           18               7922             18   \n",
       "29           30              43211             30   \n",
       "30           17               9930             17   \n",
       "31            7               8293              7   \n",
       "\n",
       "                 ENTIDAD_FEDERATIVA ABREVIATURA  CVE_GEO              ENTIDAD  \\\n",
       "0                  CIUDAD DE MÉXICO          DF        9     Ciudad de México   \n",
       "1               BAJA CALIFORNIA SUR          BS        3  Baja California Sur   \n",
       "2                           TABASCO          TC       27              Tabasco   \n",
       "3                            SONORA          SR       26               Sonora   \n",
       "4              COAHUILA DE ZARAGOZA          CL        5             Coahuila   \n",
       "5                        NUEVO LEÓN          NL       19           Nuevo León   \n",
       "6                         QUERÉTARO          QT       22            Querétaro   \n",
       "7                   SAN LUIS POTOSÍ          SP       24      San Luis Potosí   \n",
       "8                           DURANGO          DG       10              Durango   \n",
       "9                        GUANAJUATO          GT       11           Guanajuato   \n",
       "10                        ZACATECAS          ZS       32            Zacatecas   \n",
       "11                   AGUASCALIENTES          AS        1       Aguascalientes   \n",
       "12                          YUCATÁN          YN       31              Yucatán   \n",
       "13                       TAMAULIPAS          TS       28           Tamaulipas   \n",
       "14                           COLIMA          CM        6               Colima   \n",
       "15                        CHIHUAHUA          CH        8            Chihuahua   \n",
       "16                  BAJA CALIFORNIA          BC        2      Baja California   \n",
       "17                     QUINTANA ROO          QR       23         Quintana Roo   \n",
       "18                          SINALOA          SL       25              Sinaloa   \n",
       "19                           MÉXICO          MC       15               México   \n",
       "20                         TLAXCALA          TL       29             Tlaxcala   \n",
       "21                          HIDALGO          HG       13              Hidalgo   \n",
       "22                         CAMPECHE          CC        4             Campeche   \n",
       "23                           PUEBLA          PL       21               Puebla   \n",
       "24                         GUERRERO          GR       12             Guerrero   \n",
       "25              MICHOACÁN DE OCAMPO          MN       16            Michoacán   \n",
       "26                           OAXACA          OC       20               Oaxaca   \n",
       "27                          JALISCO          JC       14              Jalisco   \n",
       "28                          NAYARIT          NT       18              Nayarit   \n",
       "29  VERACRUZ DE IGNACIO DE LA LLAVE          VZ       30             Veracruz   \n",
       "30                          MORELOS          MS       17              Morelos   \n",
       "31                          CHIAPAS          CS        7              Chiapas   \n",
       "\n",
       "    POBLACION  TASA DE CASOS POR 100K  \n",
       "0     9018645             3704.957896  \n",
       "1      804708             2214.467857  \n",
       "2     2572287             1733.554615  \n",
       "3     3074745             1695.945517  \n",
       "4     3218720             1543.626038  \n",
       "5     5610153             1483.185931  \n",
       "6     2279637             1429.262641  \n",
       "7     2866142             1394.487782  \n",
       "8     1868996             1350.885716  \n",
       "9     6228175             1341.002782  \n",
       "10    1666426             1272.363729  \n",
       "11    1434635             1186.434180  \n",
       "12    2259098             1184.012380  \n",
       "13    3650602             1079.712332  \n",
       "14     785153             1012.414141  \n",
       "15    3801487              960.597787  \n",
       "16    3634868              959.842283  \n",
       "17    1723259              926.616370  \n",
       "18    3156674              850.483769  \n",
       "19   17427790              846.022359  \n",
       "20    1380011              822.529675  \n",
       "21    3086414              797.009086  \n",
       "22    1000617              726.851533  \n",
       "23    6604451              721.271155  \n",
       "24    3657048              711.612207  \n",
       "25    4825401              688.751049  \n",
       "26    4143593              685.492036  \n",
       "27    8409693              623.078631  \n",
       "28    1288571              614.789561  \n",
       "29    8539862              505.991783  \n",
       "30    2044058              485.798348  \n",
       "31    5730367              144.720225  "
      ],
      "text/html": "<div>\n<style scoped>\n    .dataframe tbody tr th:only-of-type {\n        vertical-align: middle;\n    }\n\n    .dataframe tbody tr th {\n        vertical-align: top;\n    }\n\n    .dataframe thead th {\n        text-align: right;\n    }\n</style>\n<table border=\"1\" class=\"dataframe\">\n  <thead>\n    <tr style=\"text-align: right;\">\n      <th></th>\n      <th>ENTIDAD_RES</th>\n      <th>Casos confirmados</th>\n      <th>CLAVE_ENTIDAD</th>\n      <th>ENTIDAD_FEDERATIVA</th>\n      <th>ABREVIATURA</th>\n      <th>CVE_GEO</th>\n      <th>ENTIDAD</th>\n      <th>POBLACION</th>\n      <th>TASA DE CASOS POR 100K</th>\n    </tr>\n  </thead>\n  <tbody>\n    <tr>\n      <th>0</th>\n      <td>9</td>\n      <td>334137</td>\n      <td>9</td>\n      <td>CIUDAD DE MÉXICO</td>\n      <td>DF</td>\n      <td>9</td>\n      <td>Ciudad de México</td>\n      <td>9018645</td>\n      <td>3704.957896</td>\n    </tr>\n    <tr>\n      <th>1</th>\n      <td>3</td>\n      <td>17820</td>\n      <td>3</td>\n      <td>BAJA CALIFORNIA SUR</td>\n      <td>BS</td>\n      <td>3</td>\n      <td>Baja California Sur</td>\n      <td>804708</td>\n      <td>2214.467857</td>\n    </tr>\n    <tr>\n      <th>2</th>\n      <td>27</td>\n      <td>44592</td>\n      <td>27</td>\n      <td>TABASCO</td>\n      <td>TC</td>\n      <td>27</td>\n      <td>Tabasco</td>\n      <td>2572287</td>\n      <td>1733.554615</td>\n    </tr>\n    <tr>\n      <th>3</th>\n      <td>26</td>\n      <td>52146</td>\n      <td>26</td>\n      <td>SONORA</td>\n      <td>SR</td>\n      <td>26</td>\n      <td>Sonora</td>\n      <td>3074745</td>\n      <td>1695.945517</td>\n    </tr>\n    <tr>\n      <th>4</th>\n      <td>5</td>\n      <td>49685</td>\n      <td>5</td>\n      <td>COAHUILA DE ZARAGOZA</td>\n      <td>CL</td>\n      <td>5</td>\n      <td>Coahuila</td>\n      <td>3218720</td>\n      <td>1543.626038</td>\n    </tr>\n    <tr>\n      <th>5</th>\n      <td>19</td>\n      <td>83209</td>\n      <td>19</td>\n      <td>NUEVO LEÓN</td>\n      <td>NL</td>\n      <td>19</td>\n      <td>Nuevo León</td>\n      <td>5610153</td>\n      <td>1483.185931</td>\n    </tr>\n    <tr>\n      <th>6</th>\n      <td>22</td>\n      <td>32582</td>\n      <td>22</td>\n      <td>QUERÉTARO</td>\n      <td>QT</td>\n      <td>22</td>\n      <td>Querétaro</td>\n      <td>2279637</td>\n      <td>1429.262641</td>\n    </tr>\n    <tr>\n      <th>7</th>\n      <td>24</td>\n      <td>39968</td>\n      <td>24</td>\n      <td>SAN LUIS POTOSÍ</td>\n      <td>SP</td>\n      <td>24</td>\n      <td>San Luis Potosí</td>\n      <td>2866142</td>\n      <td>1394.487782</td>\n    </tr>\n    <tr>\n      <th>8</th>\n      <td>10</td>\n      <td>25248</td>\n      <td>10</td>\n      <td>DURANGO</td>\n      <td>DG</td>\n      <td>10</td>\n      <td>Durango</td>\n      <td>1868996</td>\n      <td>1350.885716</td>\n    </tr>\n    <tr>\n      <th>9</th>\n      <td>11</td>\n      <td>83520</td>\n      <td>11</td>\n      <td>GUANAJUATO</td>\n      <td>GT</td>\n      <td>11</td>\n      <td>Guanajuato</td>\n      <td>6228175</td>\n      <td>1341.002782</td>\n    </tr>\n    <tr>\n      <th>10</th>\n      <td>32</td>\n      <td>21203</td>\n      <td>32</td>\n      <td>ZACATECAS</td>\n      <td>ZS</td>\n      <td>32</td>\n      <td>Zacatecas</td>\n      <td>1666426</td>\n      <td>1272.363729</td>\n    </tr>\n    <tr>\n      <th>11</th>\n      <td>1</td>\n      <td>17021</td>\n      <td>1</td>\n      <td>AGUASCALIENTES</td>\n      <td>AS</td>\n      <td>1</td>\n      <td>Aguascalientes</td>\n      <td>1434635</td>\n      <td>1186.434180</td>\n    </tr>\n    <tr>\n      <th>12</th>\n      <td>31</td>\n      <td>26748</td>\n      <td>31</td>\n      <td>YUCATÁN</td>\n      <td>YN</td>\n      <td>31</td>\n      <td>Yucatán</td>\n      <td>2259098</td>\n      <td>1184.012380</td>\n    </tr>\n    <tr>\n      <th>13</th>\n      <td>28</td>\n      <td>39416</td>\n      <td>28</td>\n      <td>TAMAULIPAS</td>\n      <td>TS</td>\n      <td>28</td>\n      <td>Tamaulipas</td>\n      <td>3650602</td>\n      <td>1079.712332</td>\n    </tr>\n    <tr>\n      <th>14</th>\n      <td>6</td>\n      <td>7949</td>\n      <td>6</td>\n      <td>COLIMA</td>\n      <td>CM</td>\n      <td>6</td>\n      <td>Colima</td>\n      <td>785153</td>\n      <td>1012.414141</td>\n    </tr>\n    <tr>\n      <th>15</th>\n      <td>8</td>\n      <td>36517</td>\n      <td>8</td>\n      <td>CHIHUAHUA</td>\n      <td>CH</td>\n      <td>8</td>\n      <td>Chihuahua</td>\n      <td>3801487</td>\n      <td>960.597787</td>\n    </tr>\n    <tr>\n      <th>16</th>\n      <td>2</td>\n      <td>34889</td>\n      <td>2</td>\n      <td>BAJA CALIFORNIA</td>\n      <td>BC</td>\n      <td>2</td>\n      <td>Baja California</td>\n      <td>3634868</td>\n      <td>959.842283</td>\n    </tr>\n    <tr>\n      <th>17</th>\n      <td>23</td>\n      <td>15968</td>\n      <td>23</td>\n      <td>QUINTANA ROO</td>\n      <td>QR</td>\n      <td>23</td>\n      <td>Quintana Roo</td>\n      <td>1723259</td>\n      <td>926.616370</td>\n    </tr>\n    <tr>\n      <th>18</th>\n      <td>25</td>\n      <td>26847</td>\n      <td>25</td>\n      <td>SINALOA</td>\n      <td>SL</td>\n      <td>25</td>\n      <td>Sinaloa</td>\n      <td>3156674</td>\n      <td>850.483769</td>\n    </tr>\n    <tr>\n      <th>19</th>\n      <td>15</td>\n      <td>147443</td>\n      <td>15</td>\n      <td>MÉXICO</td>\n      <td>MC</td>\n      <td>15</td>\n      <td>México</td>\n      <td>17427790</td>\n      <td>846.022359</td>\n    </tr>\n    <tr>\n      <th>20</th>\n      <td>29</td>\n      <td>11351</td>\n      <td>29</td>\n      <td>TLAXCALA</td>\n      <td>TL</td>\n      <td>29</td>\n      <td>Tlaxcala</td>\n      <td>1380011</td>\n      <td>822.529675</td>\n    </tr>\n    <tr>\n      <th>21</th>\n      <td>13</td>\n      <td>24599</td>\n      <td>13</td>\n      <td>HIDALGO</td>\n      <td>HG</td>\n      <td>13</td>\n      <td>Hidalgo</td>\n      <td>3086414</td>\n      <td>797.009086</td>\n    </tr>\n    <tr>\n      <th>22</th>\n      <td>4</td>\n      <td>7273</td>\n      <td>4</td>\n      <td>CAMPECHE</td>\n      <td>CC</td>\n      <td>4</td>\n      <td>Campeche</td>\n      <td>1000617</td>\n      <td>726.851533</td>\n    </tr>\n    <tr>\n      <th>23</th>\n      <td>21</td>\n      <td>47636</td>\n      <td>21</td>\n      <td>PUEBLA</td>\n      <td>PL</td>\n      <td>21</td>\n      <td>Puebla</td>\n      <td>6604451</td>\n      <td>721.271155</td>\n    </tr>\n    <tr>\n      <th>24</th>\n      <td>12</td>\n      <td>26024</td>\n      <td>12</td>\n      <td>GUERRERO</td>\n      <td>GR</td>\n      <td>12</td>\n      <td>Guerrero</td>\n      <td>3657048</td>\n      <td>711.612207</td>\n    </tr>\n    <tr>\n      <th>25</th>\n      <td>16</td>\n      <td>33235</td>\n      <td>16</td>\n      <td>MICHOACÁN DE OCAMPO</td>\n      <td>MN</td>\n      <td>16</td>\n      <td>Michoacán</td>\n      <td>4825401</td>\n      <td>688.751049</td>\n    </tr>\n    <tr>\n      <th>26</th>\n      <td>20</td>\n      <td>28404</td>\n      <td>20</td>\n      <td>OAXACA</td>\n      <td>OC</td>\n      <td>20</td>\n      <td>Oaxaca</td>\n      <td>4143593</td>\n      <td>685.492036</td>\n    </tr>\n    <tr>\n      <th>27</th>\n      <td>14</td>\n      <td>52399</td>\n      <td>14</td>\n      <td>JALISCO</td>\n      <td>JC</td>\n      <td>14</td>\n      <td>Jalisco</td>\n      <td>8409693</td>\n      <td>623.078631</td>\n    </tr>\n    <tr>\n      <th>28</th>\n      <td>18</td>\n      <td>7922</td>\n      <td>18</td>\n      <td>NAYARIT</td>\n      <td>NT</td>\n      <td>18</td>\n      <td>Nayarit</td>\n      <td>1288571</td>\n      <td>614.789561</td>\n    </tr>\n    <tr>\n      <th>29</th>\n      <td>30</td>\n      <td>43211</td>\n      <td>30</td>\n      <td>VERACRUZ DE IGNACIO DE LA LLAVE</td>\n      <td>VZ</td>\n      <td>30</td>\n      <td>Veracruz</td>\n      <td>8539862</td>\n      <td>505.991783</td>\n    </tr>\n    <tr>\n      <th>30</th>\n      <td>17</td>\n      <td>9930</td>\n      <td>17</td>\n      <td>MORELOS</td>\n      <td>MS</td>\n      <td>17</td>\n      <td>Morelos</td>\n      <td>2044058</td>\n      <td>485.798348</td>\n    </tr>\n    <tr>\n      <th>31</th>\n      <td>7</td>\n      <td>8293</td>\n      <td>7</td>\n      <td>CHIAPAS</td>\n      <td>CS</td>\n      <td>7</td>\n      <td>Chiapas</td>\n      <td>5730367</td>\n      <td>144.720225</td>\n    </tr>\n  </tbody>\n</table>\n</div>"
     },
     "metadata": {},
     "execution_count": 107
    }
   ],
   "source": [
    "# Rate of confirmed case by 100,000 people \n",
    "datos_por_estado[\"TASA DE CASOS POR 100K\"] = 100000 * datos_por_estado[\"Casos confirmados\"]/datos_por_estado[\"POBLACION\"]\n",
    "datos_por_estado.sort_values(\"TASA DE CASOS POR 100K\", ascending = False, inplace = True)\n",
    "datos_por_estado.reset_index(drop = True, inplace = True)\n",
    "datos_por_estado"
   ]
  },
  {
   "cell_type": "code",
   "execution_count": 108,
   "metadata": {},
   "outputs": [
    {
     "output_type": "display_data",
     "data": {
      "application/vnd.plotly.v1+json": {
       "config": {
        "plotlyServerURL": "https://plot.ly"
       },
       "data": [
        {
         "alignmentgroup": "True",
         "hovertemplate": "=%{x}<br>Casos confirmados / 100k personas=%{y}<extra></extra>",
         "legendgroup": "",
         "marker": {
          "color": "#ff616f"
         },
         "name": "",
         "offsetgroup": "",
         "orientation": "v",
         "showlegend": false,
         "textposition": "auto",
         "type": "bar",
         "x": [
          "Ciudad de México",
          "Baja California Sur",
          "Tabasco",
          "Sonora",
          "Coahuila",
          "Nuevo León",
          "Querétaro",
          "San Luis Potosí",
          "Durango",
          "Guanajuato",
          "Zacatecas",
          "Aguascalientes",
          "Yucatán",
          "Tamaulipas",
          "Colima",
          "Chihuahua",
          "Baja California",
          "Quintana Roo",
          "Sinaloa",
          "México",
          "Tlaxcala",
          "Hidalgo",
          "Campeche",
          "Puebla",
          "Guerrero",
          "Michoacán",
          "Oaxaca",
          "Jalisco",
          "Nayarit",
          "Veracruz",
          "Morelos",
          "Chiapas"
         ],
         "xaxis": "x",
         "y": [
          3704.957895559699,
          2214.4678566635353,
          1733.5546150176865,
          1695.945517433153,
          1543.6260376795744,
          1483.1859309362865,
          1429.2626413766752,
          1394.4877818335588,
          1350.885716181308,
          1341.0027817137443,
          1272.3637293225142,
          1186.4341801224703,
          1184.0123801623479,
          1079.7123323769613,
          1012.4141409381356,
          960.5977871290892,
          959.8422831310518,
          926.6163704933501,
          850.483768675511,
          846.0223585434527,
          822.529675488094,
          797.0090856249356,
          726.8515326043831,
          721.2711548620771,
          711.6122074416305,
          688.7510488765597,
          685.4920355353433,
          623.078630813277,
          614.7895614599429,
          505.99178300539285,
          485.7983481877716,
          144.72022472557168
         ],
         "yaxis": "y"
        }
       ],
       "layout": {
        "barmode": "relative",
        "legend": {
         "tracegroupgap": 0
        },
        "template": {
         "data": {
          "bar": [
           {
            "error_x": {
             "color": "#2a3f5f"
            },
            "error_y": {
             "color": "#2a3f5f"
            },
            "marker": {
             "line": {
              "color": "white",
              "width": 0.5
             }
            },
            "type": "bar"
           }
          ],
          "barpolar": [
           {
            "marker": {
             "line": {
              "color": "white",
              "width": 0.5
             }
            },
            "type": "barpolar"
           }
          ],
          "carpet": [
           {
            "aaxis": {
             "endlinecolor": "#2a3f5f",
             "gridcolor": "#C8D4E3",
             "linecolor": "#C8D4E3",
             "minorgridcolor": "#C8D4E3",
             "startlinecolor": "#2a3f5f"
            },
            "baxis": {
             "endlinecolor": "#2a3f5f",
             "gridcolor": "#C8D4E3",
             "linecolor": "#C8D4E3",
             "minorgridcolor": "#C8D4E3",
             "startlinecolor": "#2a3f5f"
            },
            "type": "carpet"
           }
          ],
          "choropleth": [
           {
            "colorbar": {
             "outlinewidth": 0,
             "ticks": ""
            },
            "type": "choropleth"
           }
          ],
          "contour": [
           {
            "colorbar": {
             "outlinewidth": 0,
             "ticks": ""
            },
            "colorscale": [
             [
              0,
              "#0d0887"
             ],
             [
              0.1111111111111111,
              "#46039f"
             ],
             [
              0.2222222222222222,
              "#7201a8"
             ],
             [
              0.3333333333333333,
              "#9c179e"
             ],
             [
              0.4444444444444444,
              "#bd3786"
             ],
             [
              0.5555555555555556,
              "#d8576b"
             ],
             [
              0.6666666666666666,
              "#ed7953"
             ],
             [
              0.7777777777777778,
              "#fb9f3a"
             ],
             [
              0.8888888888888888,
              "#fdca26"
             ],
             [
              1,
              "#f0f921"
             ]
            ],
            "type": "contour"
           }
          ],
          "contourcarpet": [
           {
            "colorbar": {
             "outlinewidth": 0,
             "ticks": ""
            },
            "type": "contourcarpet"
           }
          ],
          "heatmap": [
           {
            "colorbar": {
             "outlinewidth": 0,
             "ticks": ""
            },
            "colorscale": [
             [
              0,
              "#0d0887"
             ],
             [
              0.1111111111111111,
              "#46039f"
             ],
             [
              0.2222222222222222,
              "#7201a8"
             ],
             [
              0.3333333333333333,
              "#9c179e"
             ],
             [
              0.4444444444444444,
              "#bd3786"
             ],
             [
              0.5555555555555556,
              "#d8576b"
             ],
             [
              0.6666666666666666,
              "#ed7953"
             ],
             [
              0.7777777777777778,
              "#fb9f3a"
             ],
             [
              0.8888888888888888,
              "#fdca26"
             ],
             [
              1,
              "#f0f921"
             ]
            ],
            "type": "heatmap"
           }
          ],
          "heatmapgl": [
           {
            "colorbar": {
             "outlinewidth": 0,
             "ticks": ""
            },
            "colorscale": [
             [
              0,
              "#0d0887"
             ],
             [
              0.1111111111111111,
              "#46039f"
             ],
             [
              0.2222222222222222,
              "#7201a8"
             ],
             [
              0.3333333333333333,
              "#9c179e"
             ],
             [
              0.4444444444444444,
              "#bd3786"
             ],
             [
              0.5555555555555556,
              "#d8576b"
             ],
             [
              0.6666666666666666,
              "#ed7953"
             ],
             [
              0.7777777777777778,
              "#fb9f3a"
             ],
             [
              0.8888888888888888,
              "#fdca26"
             ],
             [
              1,
              "#f0f921"
             ]
            ],
            "type": "heatmapgl"
           }
          ],
          "histogram": [
           {
            "marker": {
             "colorbar": {
              "outlinewidth": 0,
              "ticks": ""
             }
            },
            "type": "histogram"
           }
          ],
          "histogram2d": [
           {
            "colorbar": {
             "outlinewidth": 0,
             "ticks": ""
            },
            "colorscale": [
             [
              0,
              "#0d0887"
             ],
             [
              0.1111111111111111,
              "#46039f"
             ],
             [
              0.2222222222222222,
              "#7201a8"
             ],
             [
              0.3333333333333333,
              "#9c179e"
             ],
             [
              0.4444444444444444,
              "#bd3786"
             ],
             [
              0.5555555555555556,
              "#d8576b"
             ],
             [
              0.6666666666666666,
              "#ed7953"
             ],
             [
              0.7777777777777778,
              "#fb9f3a"
             ],
             [
              0.8888888888888888,
              "#fdca26"
             ],
             [
              1,
              "#f0f921"
             ]
            ],
            "type": "histogram2d"
           }
          ],
          "histogram2dcontour": [
           {
            "colorbar": {
             "outlinewidth": 0,
             "ticks": ""
            },
            "colorscale": [
             [
              0,
              "#0d0887"
             ],
             [
              0.1111111111111111,
              "#46039f"
             ],
             [
              0.2222222222222222,
              "#7201a8"
             ],
             [
              0.3333333333333333,
              "#9c179e"
             ],
             [
              0.4444444444444444,
              "#bd3786"
             ],
             [
              0.5555555555555556,
              "#d8576b"
             ],
             [
              0.6666666666666666,
              "#ed7953"
             ],
             [
              0.7777777777777778,
              "#fb9f3a"
             ],
             [
              0.8888888888888888,
              "#fdca26"
             ],
             [
              1,
              "#f0f921"
             ]
            ],
            "type": "histogram2dcontour"
           }
          ],
          "mesh3d": [
           {
            "colorbar": {
             "outlinewidth": 0,
             "ticks": ""
            },
            "type": "mesh3d"
           }
          ],
          "parcoords": [
           {
            "line": {
             "colorbar": {
              "outlinewidth": 0,
              "ticks": ""
             }
            },
            "type": "parcoords"
           }
          ],
          "pie": [
           {
            "automargin": true,
            "type": "pie"
           }
          ],
          "scatter": [
           {
            "marker": {
             "colorbar": {
              "outlinewidth": 0,
              "ticks": ""
             }
            },
            "type": "scatter"
           }
          ],
          "scatter3d": [
           {
            "line": {
             "colorbar": {
              "outlinewidth": 0,
              "ticks": ""
             }
            },
            "marker": {
             "colorbar": {
              "outlinewidth": 0,
              "ticks": ""
             }
            },
            "type": "scatter3d"
           }
          ],
          "scattercarpet": [
           {
            "marker": {
             "colorbar": {
              "outlinewidth": 0,
              "ticks": ""
             }
            },
            "type": "scattercarpet"
           }
          ],
          "scattergeo": [
           {
            "marker": {
             "colorbar": {
              "outlinewidth": 0,
              "ticks": ""
             }
            },
            "type": "scattergeo"
           }
          ],
          "scattergl": [
           {
            "marker": {
             "colorbar": {
              "outlinewidth": 0,
              "ticks": ""
             }
            },
            "type": "scattergl"
           }
          ],
          "scattermapbox": [
           {
            "marker": {
             "colorbar": {
              "outlinewidth": 0,
              "ticks": ""
             }
            },
            "type": "scattermapbox"
           }
          ],
          "scatterpolar": [
           {
            "marker": {
             "colorbar": {
              "outlinewidth": 0,
              "ticks": ""
             }
            },
            "type": "scatterpolar"
           }
          ],
          "scatterpolargl": [
           {
            "marker": {
             "colorbar": {
              "outlinewidth": 0,
              "ticks": ""
             }
            },
            "type": "scatterpolargl"
           }
          ],
          "scatterternary": [
           {
            "marker": {
             "colorbar": {
              "outlinewidth": 0,
              "ticks": ""
             }
            },
            "type": "scatterternary"
           }
          ],
          "surface": [
           {
            "colorbar": {
             "outlinewidth": 0,
             "ticks": ""
            },
            "colorscale": [
             [
              0,
              "#0d0887"
             ],
             [
              0.1111111111111111,
              "#46039f"
             ],
             [
              0.2222222222222222,
              "#7201a8"
             ],
             [
              0.3333333333333333,
              "#9c179e"
             ],
             [
              0.4444444444444444,
              "#bd3786"
             ],
             [
              0.5555555555555556,
              "#d8576b"
             ],
             [
              0.6666666666666666,
              "#ed7953"
             ],
             [
              0.7777777777777778,
              "#fb9f3a"
             ],
             [
              0.8888888888888888,
              "#fdca26"
             ],
             [
              1,
              "#f0f921"
             ]
            ],
            "type": "surface"
           }
          ],
          "table": [
           {
            "cells": {
             "fill": {
              "color": "#EBF0F8"
             },
             "line": {
              "color": "white"
             }
            },
            "header": {
             "fill": {
              "color": "#C8D4E3"
             },
             "line": {
              "color": "white"
             }
            },
            "type": "table"
           }
          ]
         },
         "layout": {
          "annotationdefaults": {
           "arrowcolor": "#2a3f5f",
           "arrowhead": 0,
           "arrowwidth": 1
          },
          "coloraxis": {
           "colorbar": {
            "outlinewidth": 0,
            "ticks": ""
           }
          },
          "colorscale": {
           "diverging": [
            [
             0,
             "#8e0152"
            ],
            [
             0.1,
             "#c51b7d"
            ],
            [
             0.2,
             "#de77ae"
            ],
            [
             0.3,
             "#f1b6da"
            ],
            [
             0.4,
             "#fde0ef"
            ],
            [
             0.5,
             "#f7f7f7"
            ],
            [
             0.6,
             "#e6f5d0"
            ],
            [
             0.7,
             "#b8e186"
            ],
            [
             0.8,
             "#7fbc41"
            ],
            [
             0.9,
             "#4d9221"
            ],
            [
             1,
             "#276419"
            ]
           ],
           "sequential": [
            [
             0,
             "#0d0887"
            ],
            [
             0.1111111111111111,
             "#46039f"
            ],
            [
             0.2222222222222222,
             "#7201a8"
            ],
            [
             0.3333333333333333,
             "#9c179e"
            ],
            [
             0.4444444444444444,
             "#bd3786"
            ],
            [
             0.5555555555555556,
             "#d8576b"
            ],
            [
             0.6666666666666666,
             "#ed7953"
            ],
            [
             0.7777777777777778,
             "#fb9f3a"
            ],
            [
             0.8888888888888888,
             "#fdca26"
            ],
            [
             1,
             "#f0f921"
            ]
           ],
           "sequentialminus": [
            [
             0,
             "#0d0887"
            ],
            [
             0.1111111111111111,
             "#46039f"
            ],
            [
             0.2222222222222222,
             "#7201a8"
            ],
            [
             0.3333333333333333,
             "#9c179e"
            ],
            [
             0.4444444444444444,
             "#bd3786"
            ],
            [
             0.5555555555555556,
             "#d8576b"
            ],
            [
             0.6666666666666666,
             "#ed7953"
            ],
            [
             0.7777777777777778,
             "#fb9f3a"
            ],
            [
             0.8888888888888888,
             "#fdca26"
            ],
            [
             1,
             "#f0f921"
            ]
           ]
          },
          "colorway": [
           "#636efa",
           "#EF553B",
           "#00cc96",
           "#ab63fa",
           "#FFA15A",
           "#19d3f3",
           "#FF6692",
           "#B6E880",
           "#FF97FF",
           "#FECB52"
          ],
          "font": {
           "color": "#2a3f5f"
          },
          "geo": {
           "bgcolor": "white",
           "lakecolor": "white",
           "landcolor": "white",
           "showlakes": true,
           "showland": true,
           "subunitcolor": "#C8D4E3"
          },
          "hoverlabel": {
           "align": "left"
          },
          "hovermode": "closest",
          "mapbox": {
           "style": "light"
          },
          "paper_bgcolor": "white",
          "plot_bgcolor": "white",
          "polar": {
           "angularaxis": {
            "gridcolor": "#EBF0F8",
            "linecolor": "#EBF0F8",
            "ticks": ""
           },
           "bgcolor": "white",
           "radialaxis": {
            "gridcolor": "#EBF0F8",
            "linecolor": "#EBF0F8",
            "ticks": ""
           }
          },
          "scene": {
           "xaxis": {
            "backgroundcolor": "white",
            "gridcolor": "#DFE8F3",
            "gridwidth": 2,
            "linecolor": "#EBF0F8",
            "showbackground": true,
            "ticks": "",
            "zerolinecolor": "#EBF0F8"
           },
           "yaxis": {
            "backgroundcolor": "white",
            "gridcolor": "#DFE8F3",
            "gridwidth": 2,
            "linecolor": "#EBF0F8",
            "showbackground": true,
            "ticks": "",
            "zerolinecolor": "#EBF0F8"
           },
           "zaxis": {
            "backgroundcolor": "white",
            "gridcolor": "#DFE8F3",
            "gridwidth": 2,
            "linecolor": "#EBF0F8",
            "showbackground": true,
            "ticks": "",
            "zerolinecolor": "#EBF0F8"
           }
          },
          "shapedefaults": {
           "line": {
            "color": "#2a3f5f"
           }
          },
          "ternary": {
           "aaxis": {
            "gridcolor": "#DFE8F3",
            "linecolor": "#A2B1C6",
            "ticks": ""
           },
           "baxis": {
            "gridcolor": "#DFE8F3",
            "linecolor": "#A2B1C6",
            "ticks": ""
           },
           "bgcolor": "white",
           "caxis": {
            "gridcolor": "#DFE8F3",
            "linecolor": "#A2B1C6",
            "ticks": ""
           }
          },
          "title": {
           "x": 0.05
          },
          "xaxis": {
           "automargin": true,
           "gridcolor": "#EBF0F8",
           "linecolor": "#EBF0F8",
           "ticks": "",
           "title": {
            "standoff": 15
           },
           "zerolinecolor": "#EBF0F8",
           "zerolinewidth": 2
          },
          "yaxis": {
           "automargin": true,
           "gridcolor": "#EBF0F8",
           "linecolor": "#EBF0F8",
           "ticks": "",
           "title": {
            "standoff": 15
           },
           "zerolinecolor": "#EBF0F8",
           "zerolinewidth": 2
          }
         }
        },
        "title": {
         "text": "Tasa de casos confirmados por cada 100,000 personas"
        },
        "xaxis": {
         "anchor": "y",
         "domain": [
          0,
          1
         ],
         "title": {
          "text": ""
         }
        },
        "yaxis": {
         "anchor": "x",
         "domain": [
          0,
          1
         ],
         "title": {
          "text": "Casos confirmados / 100k personas"
         }
        }
       }
      }
     },
     "metadata": {}
    }
   ],
   "source": [
    "# Bar plot of the rate of confirmed cases per 100k persons \n",
    "fig_bar_cases_rate = px.bar(x = datos_por_estado[\"ENTIDAD\"], y = datos_por_estado[\"TASA DE CASOS POR 100K\"],\n",
    "                            labels = dict(y = \"Casos confirmados / 100k personas\" , x = \"\") ,title = \"Tasa de casos confirmados por cada 100,000 personas\")\n",
    "\n",
    "\n",
    "fig_bar_cases_rate.update_traces(marker = dict(color = \"#ff616f\"))\n",
    "#fig_bar_cases_rate.update_xaxes(tickfont = dict(size = 11))\n",
    "fig_bar_cases_rate.show()"
   ]
  },
  {
   "cell_type": "code",
   "execution_count": 109,
   "metadata": {},
   "outputs": [
    {
     "output_type": "execute_result",
     "data": {
      "text/plain": [
       "      ENTIDAD_RES FECHA_INGRESO  confirmados fecha_ingreso\n",
       "0               1    2020-02-20            1    2020-02-20\n",
       "1               1    2020-03-14            1    2020-03-14\n",
       "2               1    2020-03-17            1    2020-03-17\n",
       "3               1    2020-03-18            3    2020-03-18\n",
       "4               1    2020-03-19            1    2020-03-19\n",
       "...           ...           ...          ...           ...\n",
       "9202           32    2020-12-27           37    2020-12-27\n",
       "9203           32    2020-12-28          146    2020-12-28\n",
       "9204           32    2020-12-29          144    2020-12-29\n",
       "9205           32    2020-12-30          107    2020-12-30\n",
       "9206           32    2020-12-31           40    2020-12-31\n",
       "\n",
       "[9207 rows x 4 columns]"
      ],
      "text/html": "<div>\n<style scoped>\n    .dataframe tbody tr th:only-of-type {\n        vertical-align: middle;\n    }\n\n    .dataframe tbody tr th {\n        vertical-align: top;\n    }\n\n    .dataframe thead th {\n        text-align: right;\n    }\n</style>\n<table border=\"1\" class=\"dataframe\">\n  <thead>\n    <tr style=\"text-align: right;\">\n      <th></th>\n      <th>ENTIDAD_RES</th>\n      <th>FECHA_INGRESO</th>\n      <th>confirmados</th>\n      <th>fecha_ingreso</th>\n    </tr>\n  </thead>\n  <tbody>\n    <tr>\n      <th>0</th>\n      <td>1</td>\n      <td>2020-02-20</td>\n      <td>1</td>\n      <td>2020-02-20</td>\n    </tr>\n    <tr>\n      <th>1</th>\n      <td>1</td>\n      <td>2020-03-14</td>\n      <td>1</td>\n      <td>2020-03-14</td>\n    </tr>\n    <tr>\n      <th>2</th>\n      <td>1</td>\n      <td>2020-03-17</td>\n      <td>1</td>\n      <td>2020-03-17</td>\n    </tr>\n    <tr>\n      <th>3</th>\n      <td>1</td>\n      <td>2020-03-18</td>\n      <td>3</td>\n      <td>2020-03-18</td>\n    </tr>\n    <tr>\n      <th>4</th>\n      <td>1</td>\n      <td>2020-03-19</td>\n      <td>1</td>\n      <td>2020-03-19</td>\n    </tr>\n    <tr>\n      <th>...</th>\n      <td>...</td>\n      <td>...</td>\n      <td>...</td>\n      <td>...</td>\n    </tr>\n    <tr>\n      <th>9202</th>\n      <td>32</td>\n      <td>2020-12-27</td>\n      <td>37</td>\n      <td>2020-12-27</td>\n    </tr>\n    <tr>\n      <th>9203</th>\n      <td>32</td>\n      <td>2020-12-28</td>\n      <td>146</td>\n      <td>2020-12-28</td>\n    </tr>\n    <tr>\n      <th>9204</th>\n      <td>32</td>\n      <td>2020-12-29</td>\n      <td>144</td>\n      <td>2020-12-29</td>\n    </tr>\n    <tr>\n      <th>9205</th>\n      <td>32</td>\n      <td>2020-12-30</td>\n      <td>107</td>\n      <td>2020-12-30</td>\n    </tr>\n    <tr>\n      <th>9206</th>\n      <td>32</td>\n      <td>2020-12-31</td>\n      <td>40</td>\n      <td>2020-12-31</td>\n    </tr>\n  </tbody>\n</table>\n<p>9207 rows × 4 columns</p>\n</div>"
     },
     "metadata": {},
     "execution_count": 109
    }
   ],
   "source": [
    "# Groping by state ENTIDAD_RES and FECHA_INGRESO\n",
    "confirmados_por_estado_fecha = confirmados.groupby([\"ENTIDAD_RES\",\"FECHA_INGRESO\"]).size().to_frame(\"confirmados\").reset_index()\n",
    "confirmados_por_estado_fecha[\"fecha_ingreso\"] = pd.to_datetime(confirmados_por_estado_fecha[\"FECHA_INGRESO\"], format = \"%Y-%m-%d\")\n",
    "\n",
    "\n",
    "confirmados_por_estado_fecha"
   ]
  },
  {
   "cell_type": "code",
   "execution_count": 110,
   "metadata": {},
   "outputs": [
    {
     "output_type": "execute_result",
     "data": {
      "text/plain": [
       "      ENTIDAD_RES   FECHA_DEF  defunciones fecha_defuncion\n",
       "0               1  2020-04-10            1      2020-04-10\n",
       "1               1  2020-04-13            1      2020-04-13\n",
       "2               1  2020-04-17            1      2020-04-17\n",
       "3               1  2020-04-19            1      2020-04-19\n",
       "4               1  2020-04-22            1      2020-04-22\n",
       "...           ...         ...          ...             ...\n",
       "8146           32  2020-12-26            4      2020-12-26\n",
       "8147           32  2020-12-27            7      2020-12-27\n",
       "8148           32  2020-12-28            9      2020-12-28\n",
       "8149           32  2020-12-29            8      2020-12-29\n",
       "8150           32  2020-12-30            5      2020-12-30\n",
       "\n",
       "[8151 rows x 4 columns]"
      ],
      "text/html": "<div>\n<style scoped>\n    .dataframe tbody tr th:only-of-type {\n        vertical-align: middle;\n    }\n\n    .dataframe tbody tr th {\n        vertical-align: top;\n    }\n\n    .dataframe thead th {\n        text-align: right;\n    }\n</style>\n<table border=\"1\" class=\"dataframe\">\n  <thead>\n    <tr style=\"text-align: right;\">\n      <th></th>\n      <th>ENTIDAD_RES</th>\n      <th>FECHA_DEF</th>\n      <th>defunciones</th>\n      <th>fecha_defuncion</th>\n    </tr>\n  </thead>\n  <tbody>\n    <tr>\n      <th>0</th>\n      <td>1</td>\n      <td>2020-04-10</td>\n      <td>1</td>\n      <td>2020-04-10</td>\n    </tr>\n    <tr>\n      <th>1</th>\n      <td>1</td>\n      <td>2020-04-13</td>\n      <td>1</td>\n      <td>2020-04-13</td>\n    </tr>\n    <tr>\n      <th>2</th>\n      <td>1</td>\n      <td>2020-04-17</td>\n      <td>1</td>\n      <td>2020-04-17</td>\n    </tr>\n    <tr>\n      <th>3</th>\n      <td>1</td>\n      <td>2020-04-19</td>\n      <td>1</td>\n      <td>2020-04-19</td>\n    </tr>\n    <tr>\n      <th>4</th>\n      <td>1</td>\n      <td>2020-04-22</td>\n      <td>1</td>\n      <td>2020-04-22</td>\n    </tr>\n    <tr>\n      <th>...</th>\n      <td>...</td>\n      <td>...</td>\n      <td>...</td>\n      <td>...</td>\n    </tr>\n    <tr>\n      <th>8146</th>\n      <td>32</td>\n      <td>2020-12-26</td>\n      <td>4</td>\n      <td>2020-12-26</td>\n    </tr>\n    <tr>\n      <th>8147</th>\n      <td>32</td>\n      <td>2020-12-27</td>\n      <td>7</td>\n      <td>2020-12-27</td>\n    </tr>\n    <tr>\n      <th>8148</th>\n      <td>32</td>\n      <td>2020-12-28</td>\n      <td>9</td>\n      <td>2020-12-28</td>\n    </tr>\n    <tr>\n      <th>8149</th>\n      <td>32</td>\n      <td>2020-12-29</td>\n      <td>8</td>\n      <td>2020-12-29</td>\n    </tr>\n    <tr>\n      <th>8150</th>\n      <td>32</td>\n      <td>2020-12-30</td>\n      <td>5</td>\n      <td>2020-12-30</td>\n    </tr>\n  </tbody>\n</table>\n<p>8151 rows × 4 columns</p>\n</div>"
     },
     "metadata": {},
     "execution_count": 110
    }
   ],
   "source": [
    "defunciones_por_estado_fecha = defunciones.groupby([\"ENTIDAD_RES\", \"FECHA_DEF\"]).size().to_frame(\"defunciones\").reset_index()\n",
    "defunciones_por_estado_fecha[\"fecha_defuncion\"] = pd.to_datetime(defunciones_por_estado_fecha[\"FECHA_DEF\"], format = \"%Y-%m-%d\")\n",
    "defunciones_por_estado_fecha"
   ]
  },
  {
   "cell_type": "code",
   "execution_count": 111,
   "metadata": {},
   "outputs": [
    {
     "output_type": "execute_result",
     "data": {
      "text/plain": [
       "      ENTIDAD_RES FECHA_INGRESO  confirmados fecha_ingreso         ENTIDAD  \\\n",
       "0               1    2020-02-20            1    2020-02-20  Aguascalientes   \n",
       "1               1    2020-03-14            1    2020-03-14  Aguascalientes   \n",
       "2               1    2020-03-17            1    2020-03-17  Aguascalientes   \n",
       "3               1    2020-03-18            3    2020-03-18  Aguascalientes   \n",
       "4               1    2020-03-19            1    2020-03-19  Aguascalientes   \n",
       "...           ...           ...          ...           ...             ...   \n",
       "9202           32    2020-12-27           37    2020-12-27       Zacatecas   \n",
       "9203           32    2020-12-28          146    2020-12-28       Zacatecas   \n",
       "9204           32    2020-12-29          144    2020-12-29       Zacatecas   \n",
       "9205           32    2020-12-30          107    2020-12-30       Zacatecas   \n",
       "9206           32    2020-12-31           40    2020-12-31       Zacatecas   \n",
       "\n",
       "      CLAVE_ENTIDAD  \n",
       "0                 1  \n",
       "1                 1  \n",
       "2                 1  \n",
       "3                 1  \n",
       "4                 1  \n",
       "...             ...  \n",
       "9202             32  \n",
       "9203             32  \n",
       "9204             32  \n",
       "9205             32  \n",
       "9206             32  \n",
       "\n",
       "[9207 rows x 6 columns]"
      ],
      "text/html": "<div>\n<style scoped>\n    .dataframe tbody tr th:only-of-type {\n        vertical-align: middle;\n    }\n\n    .dataframe tbody tr th {\n        vertical-align: top;\n    }\n\n    .dataframe thead th {\n        text-align: right;\n    }\n</style>\n<table border=\"1\" class=\"dataframe\">\n  <thead>\n    <tr style=\"text-align: right;\">\n      <th></th>\n      <th>ENTIDAD_RES</th>\n      <th>FECHA_INGRESO</th>\n      <th>confirmados</th>\n      <th>fecha_ingreso</th>\n      <th>ENTIDAD</th>\n      <th>CLAVE_ENTIDAD</th>\n    </tr>\n  </thead>\n  <tbody>\n    <tr>\n      <th>0</th>\n      <td>1</td>\n      <td>2020-02-20</td>\n      <td>1</td>\n      <td>2020-02-20</td>\n      <td>Aguascalientes</td>\n      <td>1</td>\n    </tr>\n    <tr>\n      <th>1</th>\n      <td>1</td>\n      <td>2020-03-14</td>\n      <td>1</td>\n      <td>2020-03-14</td>\n      <td>Aguascalientes</td>\n      <td>1</td>\n    </tr>\n    <tr>\n      <th>2</th>\n      <td>1</td>\n      <td>2020-03-17</td>\n      <td>1</td>\n      <td>2020-03-17</td>\n      <td>Aguascalientes</td>\n      <td>1</td>\n    </tr>\n    <tr>\n      <th>3</th>\n      <td>1</td>\n      <td>2020-03-18</td>\n      <td>3</td>\n      <td>2020-03-18</td>\n      <td>Aguascalientes</td>\n      <td>1</td>\n    </tr>\n    <tr>\n      <th>4</th>\n      <td>1</td>\n      <td>2020-03-19</td>\n      <td>1</td>\n      <td>2020-03-19</td>\n      <td>Aguascalientes</td>\n      <td>1</td>\n    </tr>\n    <tr>\n      <th>...</th>\n      <td>...</td>\n      <td>...</td>\n      <td>...</td>\n      <td>...</td>\n      <td>...</td>\n      <td>...</td>\n    </tr>\n    <tr>\n      <th>9202</th>\n      <td>32</td>\n      <td>2020-12-27</td>\n      <td>37</td>\n      <td>2020-12-27</td>\n      <td>Zacatecas</td>\n      <td>32</td>\n    </tr>\n    <tr>\n      <th>9203</th>\n      <td>32</td>\n      <td>2020-12-28</td>\n      <td>146</td>\n      <td>2020-12-28</td>\n      <td>Zacatecas</td>\n      <td>32</td>\n    </tr>\n    <tr>\n      <th>9204</th>\n      <td>32</td>\n      <td>2020-12-29</td>\n      <td>144</td>\n      <td>2020-12-29</td>\n      <td>Zacatecas</td>\n      <td>32</td>\n    </tr>\n    <tr>\n      <th>9205</th>\n      <td>32</td>\n      <td>2020-12-30</td>\n      <td>107</td>\n      <td>2020-12-30</td>\n      <td>Zacatecas</td>\n      <td>32</td>\n    </tr>\n    <tr>\n      <th>9206</th>\n      <td>32</td>\n      <td>2020-12-31</td>\n      <td>40</td>\n      <td>2020-12-31</td>\n      <td>Zacatecas</td>\n      <td>32</td>\n    </tr>\n  </tbody>\n</table>\n<p>9207 rows × 6 columns</p>\n</div>"
     },
     "metadata": {},
     "execution_count": 111
    }
   ],
   "source": [
    "entidad_clave = datos_por_estado[\"ENTIDAD\"].to_frame()\n",
    "entidad_clave[\"CLAVE_ENTIDAD\"] = datos_por_estado[\"CLAVE_ENTIDAD\"]\n",
    "# Merge between entidad_cave and confirmados_por_estado_fecha\n",
    "confirmados_por_estado_fecha_clave = pd.merge(confirmados_por_estado_fecha, entidad_clave, how = \"left\", left_on = \"ENTIDAD_RES\", right_on = \"CLAVE_ENTIDAD\")\n",
    "confirmados_por_estado_fecha_clave\n"
   ]
  },
  {
   "cell_type": "code",
   "execution_count": 112,
   "metadata": {},
   "outputs": [
    {
     "output_type": "execute_result",
     "data": {
      "text/plain": [
       "      ENTIDAD_RES   FECHA_DEF  defunciones fecha_defuncion         ENTIDAD  \\\n",
       "0               1  2020-04-10            1      2020-04-10  Aguascalientes   \n",
       "1               1  2020-04-13            1      2020-04-13  Aguascalientes   \n",
       "2               1  2020-04-17            1      2020-04-17  Aguascalientes   \n",
       "3               1  2020-04-19            1      2020-04-19  Aguascalientes   \n",
       "4               1  2020-04-22            1      2020-04-22  Aguascalientes   \n",
       "...           ...         ...          ...             ...             ...   \n",
       "8146           32  2020-12-26            4      2020-12-26       Zacatecas   \n",
       "8147           32  2020-12-27            7      2020-12-27       Zacatecas   \n",
       "8148           32  2020-12-28            9      2020-12-28       Zacatecas   \n",
       "8149           32  2020-12-29            8      2020-12-29       Zacatecas   \n",
       "8150           32  2020-12-30            5      2020-12-30       Zacatecas   \n",
       "\n",
       "      CLAVE_ENTIDAD  \n",
       "0                 1  \n",
       "1                 1  \n",
       "2                 1  \n",
       "3                 1  \n",
       "4                 1  \n",
       "...             ...  \n",
       "8146             32  \n",
       "8147             32  \n",
       "8148             32  \n",
       "8149             32  \n",
       "8150             32  \n",
       "\n",
       "[8151 rows x 6 columns]"
      ],
      "text/html": "<div>\n<style scoped>\n    .dataframe tbody tr th:only-of-type {\n        vertical-align: middle;\n    }\n\n    .dataframe tbody tr th {\n        vertical-align: top;\n    }\n\n    .dataframe thead th {\n        text-align: right;\n    }\n</style>\n<table border=\"1\" class=\"dataframe\">\n  <thead>\n    <tr style=\"text-align: right;\">\n      <th></th>\n      <th>ENTIDAD_RES</th>\n      <th>FECHA_DEF</th>\n      <th>defunciones</th>\n      <th>fecha_defuncion</th>\n      <th>ENTIDAD</th>\n      <th>CLAVE_ENTIDAD</th>\n    </tr>\n  </thead>\n  <tbody>\n    <tr>\n      <th>0</th>\n      <td>1</td>\n      <td>2020-04-10</td>\n      <td>1</td>\n      <td>2020-04-10</td>\n      <td>Aguascalientes</td>\n      <td>1</td>\n    </tr>\n    <tr>\n      <th>1</th>\n      <td>1</td>\n      <td>2020-04-13</td>\n      <td>1</td>\n      <td>2020-04-13</td>\n      <td>Aguascalientes</td>\n      <td>1</td>\n    </tr>\n    <tr>\n      <th>2</th>\n      <td>1</td>\n      <td>2020-04-17</td>\n      <td>1</td>\n      <td>2020-04-17</td>\n      <td>Aguascalientes</td>\n      <td>1</td>\n    </tr>\n    <tr>\n      <th>3</th>\n      <td>1</td>\n      <td>2020-04-19</td>\n      <td>1</td>\n      <td>2020-04-19</td>\n      <td>Aguascalientes</td>\n      <td>1</td>\n    </tr>\n    <tr>\n      <th>4</th>\n      <td>1</td>\n      <td>2020-04-22</td>\n      <td>1</td>\n      <td>2020-04-22</td>\n      <td>Aguascalientes</td>\n      <td>1</td>\n    </tr>\n    <tr>\n      <th>...</th>\n      <td>...</td>\n      <td>...</td>\n      <td>...</td>\n      <td>...</td>\n      <td>...</td>\n      <td>...</td>\n    </tr>\n    <tr>\n      <th>8146</th>\n      <td>32</td>\n      <td>2020-12-26</td>\n      <td>4</td>\n      <td>2020-12-26</td>\n      <td>Zacatecas</td>\n      <td>32</td>\n    </tr>\n    <tr>\n      <th>8147</th>\n      <td>32</td>\n      <td>2020-12-27</td>\n      <td>7</td>\n      <td>2020-12-27</td>\n      <td>Zacatecas</td>\n      <td>32</td>\n    </tr>\n    <tr>\n      <th>8148</th>\n      <td>32</td>\n      <td>2020-12-28</td>\n      <td>9</td>\n      <td>2020-12-28</td>\n      <td>Zacatecas</td>\n      <td>32</td>\n    </tr>\n    <tr>\n      <th>8149</th>\n      <td>32</td>\n      <td>2020-12-29</td>\n      <td>8</td>\n      <td>2020-12-29</td>\n      <td>Zacatecas</td>\n      <td>32</td>\n    </tr>\n    <tr>\n      <th>8150</th>\n      <td>32</td>\n      <td>2020-12-30</td>\n      <td>5</td>\n      <td>2020-12-30</td>\n      <td>Zacatecas</td>\n      <td>32</td>\n    </tr>\n  </tbody>\n</table>\n<p>8151 rows × 6 columns</p>\n</div>"
     },
     "metadata": {},
     "execution_count": 112
    }
   ],
   "source": [
    "# Merge betweem entidad_clave and defunciones_por_estado_fecha\n",
    "defunciones_por_estado_fecha_clave = pd.merge(defunciones_por_estado_fecha, entidad_clave, how = \"left\", left_on = \"ENTIDAD_RES\", right_on = \"CLAVE_ENTIDAD\")\n",
    "defunciones_por_estado_fecha_clave"
   ]
  },
  {
   "cell_type": "code",
   "execution_count": 113,
   "metadata": {},
   "outputs": [
    {
     "output_type": "stream",
     "name": "stdout",
     "text": [
      "Total de casos confirmados =  83520\n"
     ]
    },
    {
     "output_type": "execute_result",
     "data": {
      "text/plain": [
       "     ENTIDAD_RES FECHA_INGRESO  confirmados fecha_ingreso     ENTIDAD  \\\n",
       "0             11    2020-03-13            1    2020-03-13  Guanajuato   \n",
       "1             11    2020-03-15            2    2020-03-15  Guanajuato   \n",
       "2             11    2020-03-16            2    2020-03-16  Guanajuato   \n",
       "3             11    2020-03-18            1    2020-03-18  Guanajuato   \n",
       "4             11    2020-03-19            1    2020-03-19  Guanajuato   \n",
       "..           ...           ...          ...           ...         ...   \n",
       "287           11    2020-12-27          271    2020-12-27  Guanajuato   \n",
       "288           11    2020-12-28          749    2020-12-28  Guanajuato   \n",
       "289           11    2020-12-29          630    2020-12-29  Guanajuato   \n",
       "290           11    2020-12-30          165    2020-12-30  Guanajuato   \n",
       "291           11    2020-12-31           49    2020-12-31  Guanajuato   \n",
       "\n",
       "     CLAVE_ENTIDAD  confirmados_acumulados  \n",
       "0               11                       1  \n",
       "1               11                       3  \n",
       "2               11                       5  \n",
       "3               11                       6  \n",
       "4               11                       7  \n",
       "..             ...                     ...  \n",
       "287             11                   81927  \n",
       "288             11                   82676  \n",
       "289             11                   83306  \n",
       "290             11                   83471  \n",
       "291             11                   83520  \n",
       "\n",
       "[292 rows x 7 columns]"
      ],
      "text/html": "<div>\n<style scoped>\n    .dataframe tbody tr th:only-of-type {\n        vertical-align: middle;\n    }\n\n    .dataframe tbody tr th {\n        vertical-align: top;\n    }\n\n    .dataframe thead th {\n        text-align: right;\n    }\n</style>\n<table border=\"1\" class=\"dataframe\">\n  <thead>\n    <tr style=\"text-align: right;\">\n      <th></th>\n      <th>ENTIDAD_RES</th>\n      <th>FECHA_INGRESO</th>\n      <th>confirmados</th>\n      <th>fecha_ingreso</th>\n      <th>ENTIDAD</th>\n      <th>CLAVE_ENTIDAD</th>\n      <th>confirmados_acumulados</th>\n    </tr>\n  </thead>\n  <tbody>\n    <tr>\n      <th>0</th>\n      <td>11</td>\n      <td>2020-03-13</td>\n      <td>1</td>\n      <td>2020-03-13</td>\n      <td>Guanajuato</td>\n      <td>11</td>\n      <td>1</td>\n    </tr>\n    <tr>\n      <th>1</th>\n      <td>11</td>\n      <td>2020-03-15</td>\n      <td>2</td>\n      <td>2020-03-15</td>\n      <td>Guanajuato</td>\n      <td>11</td>\n      <td>3</td>\n    </tr>\n    <tr>\n      <th>2</th>\n      <td>11</td>\n      <td>2020-03-16</td>\n      <td>2</td>\n      <td>2020-03-16</td>\n      <td>Guanajuato</td>\n      <td>11</td>\n      <td>5</td>\n    </tr>\n    <tr>\n      <th>3</th>\n      <td>11</td>\n      <td>2020-03-18</td>\n      <td>1</td>\n      <td>2020-03-18</td>\n      <td>Guanajuato</td>\n      <td>11</td>\n      <td>6</td>\n    </tr>\n    <tr>\n      <th>4</th>\n      <td>11</td>\n      <td>2020-03-19</td>\n      <td>1</td>\n      <td>2020-03-19</td>\n      <td>Guanajuato</td>\n      <td>11</td>\n      <td>7</td>\n    </tr>\n    <tr>\n      <th>...</th>\n      <td>...</td>\n      <td>...</td>\n      <td>...</td>\n      <td>...</td>\n      <td>...</td>\n      <td>...</td>\n      <td>...</td>\n    </tr>\n    <tr>\n      <th>287</th>\n      <td>11</td>\n      <td>2020-12-27</td>\n      <td>271</td>\n      <td>2020-12-27</td>\n      <td>Guanajuato</td>\n      <td>11</td>\n      <td>81927</td>\n    </tr>\n    <tr>\n      <th>288</th>\n      <td>11</td>\n      <td>2020-12-28</td>\n      <td>749</td>\n      <td>2020-12-28</td>\n      <td>Guanajuato</td>\n      <td>11</td>\n      <td>82676</td>\n    </tr>\n    <tr>\n      <th>289</th>\n      <td>11</td>\n      <td>2020-12-29</td>\n      <td>630</td>\n      <td>2020-12-29</td>\n      <td>Guanajuato</td>\n      <td>11</td>\n      <td>83306</td>\n    </tr>\n    <tr>\n      <th>290</th>\n      <td>11</td>\n      <td>2020-12-30</td>\n      <td>165</td>\n      <td>2020-12-30</td>\n      <td>Guanajuato</td>\n      <td>11</td>\n      <td>83471</td>\n    </tr>\n    <tr>\n      <th>291</th>\n      <td>11</td>\n      <td>2020-12-31</td>\n      <td>49</td>\n      <td>2020-12-31</td>\n      <td>Guanajuato</td>\n      <td>11</td>\n      <td>83520</td>\n    </tr>\n  </tbody>\n</table>\n<p>292 rows × 7 columns</p>\n</div>"
     },
     "metadata": {},
     "execution_count": 113
    }
   ],
   "source": [
    "clave_estado = 11\n",
    "confirmados_mich = confirmados_por_estado_fecha_clave[confirmados_por_estado_fecha_clave[\"ENTIDAD_RES\"] == clave_estado]\n",
    "print(\"Total de casos confirmados = \",confirmados_mich[\"confirmados\"].sum())\n",
    "confirmados_mich.reset_index(drop = True, inplace = True)\n",
    "confirmados_mich[\"confirmados_acumulados\"] = commulative_cases(confirmados_mich[\"confirmados\"]) # Accumulated confirmed cases in Mich.\n",
    "confirmados_mich"
   ]
  },
  {
   "cell_type": "code",
   "execution_count": 114,
   "metadata": {},
   "outputs": [
    {
     "output_type": "stream",
     "name": "stdout",
     "text": [
      "Total de defunciones acumuladas =  5365\n"
     ]
    },
    {
     "output_type": "execute_result",
     "data": {
      "text/plain": [
       "     ENTIDAD_RES   FECHA_DEF  defunciones fecha_defuncion     ENTIDAD  \\\n",
       "0             11  2020-04-05            2      2020-04-05  Guanajuato   \n",
       "1             11  2020-04-07            1      2020-04-07  Guanajuato   \n",
       "2             11  2020-04-09            1      2020-04-09  Guanajuato   \n",
       "3             11  2020-04-10            1      2020-04-10  Guanajuato   \n",
       "4             11  2020-04-14            2      2020-04-14  Guanajuato   \n",
       "..           ...         ...          ...             ...         ...   \n",
       "255           11  2020-12-27           28      2020-12-27  Guanajuato   \n",
       "256           11  2020-12-28           35      2020-12-28  Guanajuato   \n",
       "257           11  2020-12-29           48      2020-12-29  Guanajuato   \n",
       "258           11  2020-12-30           23      2020-12-30  Guanajuato   \n",
       "259           11  2020-12-31            8      2020-12-31  Guanajuato   \n",
       "\n",
       "     CLAVE_ENTIDAD  defunciones_acumuladas  \n",
       "0               11                       2  \n",
       "1               11                       3  \n",
       "2               11                       4  \n",
       "3               11                       5  \n",
       "4               11                       7  \n",
       "..             ...                     ...  \n",
       "255             11                    5251  \n",
       "256             11                    5286  \n",
       "257             11                    5334  \n",
       "258             11                    5357  \n",
       "259             11                    5365  \n",
       "\n",
       "[260 rows x 7 columns]"
      ],
      "text/html": "<div>\n<style scoped>\n    .dataframe tbody tr th:only-of-type {\n        vertical-align: middle;\n    }\n\n    .dataframe tbody tr th {\n        vertical-align: top;\n    }\n\n    .dataframe thead th {\n        text-align: right;\n    }\n</style>\n<table border=\"1\" class=\"dataframe\">\n  <thead>\n    <tr style=\"text-align: right;\">\n      <th></th>\n      <th>ENTIDAD_RES</th>\n      <th>FECHA_DEF</th>\n      <th>defunciones</th>\n      <th>fecha_defuncion</th>\n      <th>ENTIDAD</th>\n      <th>CLAVE_ENTIDAD</th>\n      <th>defunciones_acumuladas</th>\n    </tr>\n  </thead>\n  <tbody>\n    <tr>\n      <th>0</th>\n      <td>11</td>\n      <td>2020-04-05</td>\n      <td>2</td>\n      <td>2020-04-05</td>\n      <td>Guanajuato</td>\n      <td>11</td>\n      <td>2</td>\n    </tr>\n    <tr>\n      <th>1</th>\n      <td>11</td>\n      <td>2020-04-07</td>\n      <td>1</td>\n      <td>2020-04-07</td>\n      <td>Guanajuato</td>\n      <td>11</td>\n      <td>3</td>\n    </tr>\n    <tr>\n      <th>2</th>\n      <td>11</td>\n      <td>2020-04-09</td>\n      <td>1</td>\n      <td>2020-04-09</td>\n      <td>Guanajuato</td>\n      <td>11</td>\n      <td>4</td>\n    </tr>\n    <tr>\n      <th>3</th>\n      <td>11</td>\n      <td>2020-04-10</td>\n      <td>1</td>\n      <td>2020-04-10</td>\n      <td>Guanajuato</td>\n      <td>11</td>\n      <td>5</td>\n    </tr>\n    <tr>\n      <th>4</th>\n      <td>11</td>\n      <td>2020-04-14</td>\n      <td>2</td>\n      <td>2020-04-14</td>\n      <td>Guanajuato</td>\n      <td>11</td>\n      <td>7</td>\n    </tr>\n    <tr>\n      <th>...</th>\n      <td>...</td>\n      <td>...</td>\n      <td>...</td>\n      <td>...</td>\n      <td>...</td>\n      <td>...</td>\n      <td>...</td>\n    </tr>\n    <tr>\n      <th>255</th>\n      <td>11</td>\n      <td>2020-12-27</td>\n      <td>28</td>\n      <td>2020-12-27</td>\n      <td>Guanajuato</td>\n      <td>11</td>\n      <td>5251</td>\n    </tr>\n    <tr>\n      <th>256</th>\n      <td>11</td>\n      <td>2020-12-28</td>\n      <td>35</td>\n      <td>2020-12-28</td>\n      <td>Guanajuato</td>\n      <td>11</td>\n      <td>5286</td>\n    </tr>\n    <tr>\n      <th>257</th>\n      <td>11</td>\n      <td>2020-12-29</td>\n      <td>48</td>\n      <td>2020-12-29</td>\n      <td>Guanajuato</td>\n      <td>11</td>\n      <td>5334</td>\n    </tr>\n    <tr>\n      <th>258</th>\n      <td>11</td>\n      <td>2020-12-30</td>\n      <td>23</td>\n      <td>2020-12-30</td>\n      <td>Guanajuato</td>\n      <td>11</td>\n      <td>5357</td>\n    </tr>\n    <tr>\n      <th>259</th>\n      <td>11</td>\n      <td>2020-12-31</td>\n      <td>8</td>\n      <td>2020-12-31</td>\n      <td>Guanajuato</td>\n      <td>11</td>\n      <td>5365</td>\n    </tr>\n  </tbody>\n</table>\n<p>260 rows × 7 columns</p>\n</div>"
     },
     "metadata": {},
     "execution_count": 114
    }
   ],
   "source": [
    "defunciones_mich = defunciones_por_estado_fecha_clave[defunciones_por_estado_fecha_clave[\"ENTIDAD_RES\"] == clave_estado ]\n",
    "print(\"Total de defunciones acumuladas = \", defunciones_mich[\"defunciones\"].sum())\n",
    "defunciones_mich.reset_index(drop = True, inplace = True)     \n",
    "defunciones_mich[\"defunciones_acumuladas\"] = commulative_cases(defunciones_mich[\"defunciones\"])\n",
    "defunciones_mich"
   ]
  },
  {
   "cell_type": "code",
   "execution_count": 115,
   "metadata": {},
   "outputs": [
    {
     "output_type": "display_data",
     "data": {
      "application/vnd.plotly.v1+json": {
       "config": {
        "plotlyServerURL": "https://plot.ly"
       },
       "data": [
        {
         "line": {
          "color": "#ff1744",
          "width": 2.5
         },
         "mode": "lines",
         "name": "Casos confirmados",
         "type": "scatter",
         "x": [
          "2020-03-13T00:00:00",
          "2020-03-15T00:00:00",
          "2020-03-16T00:00:00",
          "2020-03-18T00:00:00",
          "2020-03-19T00:00:00",
          "2020-03-20T00:00:00",
          "2020-03-21T00:00:00",
          "2020-03-22T00:00:00",
          "2020-03-23T00:00:00",
          "2020-03-24T00:00:00",
          "2020-03-25T00:00:00",
          "2020-03-26T00:00:00",
          "2020-03-27T00:00:00",
          "2020-03-28T00:00:00",
          "2020-03-29T00:00:00",
          "2020-03-30T00:00:00",
          "2020-03-31T00:00:00",
          "2020-04-01T00:00:00",
          "2020-04-02T00:00:00",
          "2020-04-03T00:00:00",
          "2020-04-04T00:00:00",
          "2020-04-05T00:00:00",
          "2020-04-06T00:00:00",
          "2020-04-07T00:00:00",
          "2020-04-08T00:00:00",
          "2020-04-09T00:00:00",
          "2020-04-10T00:00:00",
          "2020-04-11T00:00:00",
          "2020-04-12T00:00:00",
          "2020-04-13T00:00:00",
          "2020-04-14T00:00:00",
          "2020-04-15T00:00:00",
          "2020-04-16T00:00:00",
          "2020-04-17T00:00:00",
          "2020-04-18T00:00:00",
          "2020-04-19T00:00:00",
          "2020-04-20T00:00:00",
          "2020-04-21T00:00:00",
          "2020-04-22T00:00:00",
          "2020-04-23T00:00:00",
          "2020-04-24T00:00:00",
          "2020-04-25T00:00:00",
          "2020-04-26T00:00:00",
          "2020-04-27T00:00:00",
          "2020-04-28T00:00:00",
          "2020-04-29T00:00:00",
          "2020-04-30T00:00:00",
          "2020-05-01T00:00:00",
          "2020-05-02T00:00:00",
          "2020-05-03T00:00:00",
          "2020-05-04T00:00:00",
          "2020-05-05T00:00:00",
          "2020-05-06T00:00:00",
          "2020-05-07T00:00:00",
          "2020-05-08T00:00:00",
          "2020-05-09T00:00:00",
          "2020-05-10T00:00:00",
          "2020-05-11T00:00:00",
          "2020-05-12T00:00:00",
          "2020-05-13T00:00:00",
          "2020-05-14T00:00:00",
          "2020-05-15T00:00:00",
          "2020-05-16T00:00:00",
          "2020-05-17T00:00:00",
          "2020-05-18T00:00:00",
          "2020-05-19T00:00:00",
          "2020-05-20T00:00:00",
          "2020-05-21T00:00:00",
          "2020-05-22T00:00:00",
          "2020-05-23T00:00:00",
          "2020-05-24T00:00:00",
          "2020-05-25T00:00:00",
          "2020-05-26T00:00:00",
          "2020-05-27T00:00:00",
          "2020-05-28T00:00:00",
          "2020-05-29T00:00:00",
          "2020-05-30T00:00:00",
          "2020-05-31T00:00:00",
          "2020-06-01T00:00:00",
          "2020-06-02T00:00:00",
          "2020-06-03T00:00:00",
          "2020-06-04T00:00:00",
          "2020-06-05T00:00:00",
          "2020-06-06T00:00:00",
          "2020-06-07T00:00:00",
          "2020-06-08T00:00:00",
          "2020-06-09T00:00:00",
          "2020-06-10T00:00:00",
          "2020-06-11T00:00:00",
          "2020-06-12T00:00:00",
          "2020-06-13T00:00:00",
          "2020-06-14T00:00:00",
          "2020-06-15T00:00:00",
          "2020-06-16T00:00:00",
          "2020-06-17T00:00:00",
          "2020-06-18T00:00:00",
          "2020-06-19T00:00:00",
          "2020-06-20T00:00:00",
          "2020-06-21T00:00:00",
          "2020-06-22T00:00:00",
          "2020-06-23T00:00:00",
          "2020-06-24T00:00:00",
          "2020-06-25T00:00:00",
          "2020-06-26T00:00:00",
          "2020-06-27T00:00:00",
          "2020-06-28T00:00:00",
          "2020-06-29T00:00:00",
          "2020-06-30T00:00:00",
          "2020-07-01T00:00:00",
          "2020-07-02T00:00:00",
          "2020-07-03T00:00:00",
          "2020-07-04T00:00:00",
          "2020-07-05T00:00:00",
          "2020-07-06T00:00:00",
          "2020-07-07T00:00:00",
          "2020-07-08T00:00:00",
          "2020-07-09T00:00:00",
          "2020-07-10T00:00:00",
          "2020-07-11T00:00:00",
          "2020-07-12T00:00:00",
          "2020-07-13T00:00:00",
          "2020-07-14T00:00:00",
          "2020-07-15T00:00:00",
          "2020-07-16T00:00:00",
          "2020-07-17T00:00:00",
          "2020-07-18T00:00:00",
          "2020-07-19T00:00:00",
          "2020-07-20T00:00:00",
          "2020-07-21T00:00:00",
          "2020-07-22T00:00:00",
          "2020-07-23T00:00:00",
          "2020-07-24T00:00:00",
          "2020-07-25T00:00:00",
          "2020-07-26T00:00:00",
          "2020-07-27T00:00:00",
          "2020-07-28T00:00:00",
          "2020-07-29T00:00:00",
          "2020-07-30T00:00:00",
          "2020-07-31T00:00:00",
          "2020-08-01T00:00:00",
          "2020-08-02T00:00:00",
          "2020-08-03T00:00:00",
          "2020-08-04T00:00:00",
          "2020-08-05T00:00:00",
          "2020-08-06T00:00:00",
          "2020-08-07T00:00:00",
          "2020-08-08T00:00:00",
          "2020-08-09T00:00:00",
          "2020-08-10T00:00:00",
          "2020-08-11T00:00:00",
          "2020-08-12T00:00:00",
          "2020-08-13T00:00:00",
          "2020-08-14T00:00:00",
          "2020-08-15T00:00:00",
          "2020-08-16T00:00:00",
          "2020-08-17T00:00:00",
          "2020-08-18T00:00:00",
          "2020-08-19T00:00:00",
          "2020-08-20T00:00:00",
          "2020-08-21T00:00:00",
          "2020-08-22T00:00:00",
          "2020-08-23T00:00:00",
          "2020-08-24T00:00:00",
          "2020-08-25T00:00:00",
          "2020-08-26T00:00:00",
          "2020-08-27T00:00:00",
          "2020-08-28T00:00:00",
          "2020-08-29T00:00:00",
          "2020-08-30T00:00:00",
          "2020-08-31T00:00:00",
          "2020-09-01T00:00:00",
          "2020-09-02T00:00:00",
          "2020-09-03T00:00:00",
          "2020-09-04T00:00:00",
          "2020-09-05T00:00:00",
          "2020-09-06T00:00:00",
          "2020-09-07T00:00:00",
          "2020-09-08T00:00:00",
          "2020-09-09T00:00:00",
          "2020-09-10T00:00:00",
          "2020-09-11T00:00:00",
          "2020-09-12T00:00:00",
          "2020-09-13T00:00:00",
          "2020-09-14T00:00:00",
          "2020-09-15T00:00:00",
          "2020-09-16T00:00:00",
          "2020-09-17T00:00:00",
          "2020-09-18T00:00:00",
          "2020-09-19T00:00:00",
          "2020-09-20T00:00:00",
          "2020-09-21T00:00:00",
          "2020-09-22T00:00:00",
          "2020-09-23T00:00:00",
          "2020-09-24T00:00:00",
          "2020-09-25T00:00:00",
          "2020-09-26T00:00:00",
          "2020-09-27T00:00:00",
          "2020-09-28T00:00:00",
          "2020-09-29T00:00:00",
          "2020-09-30T00:00:00",
          "2020-10-01T00:00:00",
          "2020-10-02T00:00:00",
          "2020-10-03T00:00:00",
          "2020-10-04T00:00:00",
          "2020-10-05T00:00:00",
          "2020-10-06T00:00:00",
          "2020-10-07T00:00:00",
          "2020-10-08T00:00:00",
          "2020-10-09T00:00:00",
          "2020-10-10T00:00:00",
          "2020-10-11T00:00:00",
          "2020-10-12T00:00:00",
          "2020-10-13T00:00:00",
          "2020-10-14T00:00:00",
          "2020-10-15T00:00:00",
          "2020-10-16T00:00:00",
          "2020-10-17T00:00:00",
          "2020-10-18T00:00:00",
          "2020-10-19T00:00:00",
          "2020-10-20T00:00:00",
          "2020-10-21T00:00:00",
          "2020-10-22T00:00:00",
          "2020-10-23T00:00:00",
          "2020-10-24T00:00:00",
          "2020-10-25T00:00:00",
          "2020-10-26T00:00:00",
          "2020-10-27T00:00:00",
          "2020-10-28T00:00:00",
          "2020-10-29T00:00:00",
          "2020-10-30T00:00:00",
          "2020-10-31T00:00:00",
          "2020-11-01T00:00:00",
          "2020-11-02T00:00:00",
          "2020-11-03T00:00:00",
          "2020-11-04T00:00:00",
          "2020-11-05T00:00:00",
          "2020-11-06T00:00:00",
          "2020-11-07T00:00:00",
          "2020-11-08T00:00:00",
          "2020-11-09T00:00:00",
          "2020-11-10T00:00:00",
          "2020-11-11T00:00:00",
          "2020-11-12T00:00:00",
          "2020-11-13T00:00:00",
          "2020-11-14T00:00:00",
          "2020-11-15T00:00:00",
          "2020-11-16T00:00:00",
          "2020-11-17T00:00:00",
          "2020-11-18T00:00:00",
          "2020-11-19T00:00:00",
          "2020-11-20T00:00:00",
          "2020-11-21T00:00:00",
          "2020-11-22T00:00:00",
          "2020-11-23T00:00:00",
          "2020-11-24T00:00:00",
          "2020-11-25T00:00:00",
          "2020-11-26T00:00:00",
          "2020-11-27T00:00:00",
          "2020-11-28T00:00:00",
          "2020-11-29T00:00:00",
          "2020-11-30T00:00:00",
          "2020-12-01T00:00:00",
          "2020-12-02T00:00:00",
          "2020-12-03T00:00:00",
          "2020-12-04T00:00:00",
          "2020-12-05T00:00:00",
          "2020-12-06T00:00:00",
          "2020-12-07T00:00:00",
          "2020-12-08T00:00:00",
          "2020-12-09T00:00:00",
          "2020-12-10T00:00:00",
          "2020-12-11T00:00:00",
          "2020-12-12T00:00:00",
          "2020-12-13T00:00:00",
          "2020-12-14T00:00:00",
          "2020-12-15T00:00:00",
          "2020-12-16T00:00:00",
          "2020-12-17T00:00:00",
          "2020-12-18T00:00:00",
          "2020-12-19T00:00:00",
          "2020-12-20T00:00:00",
          "2020-12-21T00:00:00",
          "2020-12-22T00:00:00",
          "2020-12-23T00:00:00",
          "2020-12-24T00:00:00",
          "2020-12-25T00:00:00",
          "2020-12-26T00:00:00",
          "2020-12-27T00:00:00",
          "2020-12-28T00:00:00",
          "2020-12-29T00:00:00",
          "2020-12-30T00:00:00",
          "2020-12-31T00:00:00"
         ],
         "y": [
          1,
          3,
          5,
          6,
          7,
          12,
          23,
          24,
          30,
          31,
          35,
          41,
          46,
          50,
          51,
          56,
          58,
          59,
          61,
          66,
          69,
          72,
          80,
          86,
          95,
          97,
          100,
          106,
          108,
          111,
          115,
          128,
          142,
          171,
          182,
          192,
          206,
          216,
          229,
          238,
          250,
          261,
          268,
          293,
          310,
          324,
          340,
          354,
          364,
          375,
          408,
          431,
          461,
          498,
          541,
          567,
          590,
          631,
          684,
          725,
          776,
          812,
          846,
          866,
          920,
          989,
          1047,
          1111,
          1167,
          1219,
          1239,
          1359,
          1456,
          1563,
          1704,
          1848,
          1946,
          2016,
          2198,
          2372,
          2550,
          2769,
          2941,
          3067,
          3148,
          3347,
          3577,
          3766,
          3971,
          4186,
          4312,
          4396,
          4736,
          5055,
          5391,
          5717,
          6093,
          6283,
          6400,
          6786,
          7197,
          7591,
          7891,
          8259,
          8469,
          8590,
          8999,
          9419,
          9835,
          10258,
          10692,
          10919,
          11052,
          11536,
          12053,
          12557,
          13080,
          13536,
          13723,
          13893,
          14465,
          15028,
          15656,
          16213,
          16655,
          16889,
          17044,
          17544,
          18199,
          18767,
          19304,
          19813,
          20044,
          20227,
          20833,
          21474,
          21960,
          22509,
          22947,
          23118,
          23268,
          23803,
          24257,
          24637,
          25001,
          25434,
          25618,
          25732,
          26170,
          26615,
          27050,
          27505,
          27900,
          28070,
          28177,
          28543,
          28904,
          29348,
          29772,
          30250,
          30410,
          30562,
          31079,
          31502,
          31972,
          32411,
          32845,
          33052,
          33209,
          33777,
          34248,
          34632,
          35031,
          35452,
          35576,
          35718,
          36135,
          36590,
          36979,
          37404,
          37810,
          37943,
          38063,
          38563,
          38824,
          38978,
          39287,
          39590,
          39700,
          39781,
          40071,
          40347,
          40554,
          40814,
          41033,
          41115,
          41191,
          41508,
          41755,
          42033,
          42306,
          42612,
          42669,
          42731,
          42937,
          43148,
          43418,
          43692,
          43968,
          44058,
          44143,
          44454,
          44758,
          45037,
          45330,
          45636,
          45746,
          45849,
          46236,
          46690,
          47117,
          47498,
          47906,
          48062,
          48187,
          48732,
          49296,
          49731,
          50154,
          50555,
          50696,
          50831,
          51083,
          51570,
          52042,
          52540,
          53012,
          53196,
          53372,
          53916,
          54508,
          55107,
          55669,
          56248,
          56532,
          56675,
          56914,
          57674,
          58356,
          59073,
          59809,
          60099,
          60285,
          61108,
          62022,
          62818,
          63681,
          64523,
          64871,
          65109,
          65891,
          66830,
          67654,
          68439,
          69143,
          69398,
          69600,
          70447,
          71356,
          72205,
          73114,
          73778,
          74111,
          74317,
          75278,
          76135,
          76850,
          77509,
          78110,
          78393,
          78669,
          79460,
          80267,
          80852,
          81249,
          81388,
          81656,
          81927,
          82676,
          83306,
          83471,
          83520
         ]
        },
        {
         "line": {
          "color": "black",
          "width": 2.5
         },
         "mode": "lines",
         "name": "Defunciones ",
         "type": "scatter",
         "x": [
          "2020-04-05T00:00:00",
          "2020-04-07T00:00:00",
          "2020-04-09T00:00:00",
          "2020-04-10T00:00:00",
          "2020-04-14T00:00:00",
          "2020-04-15T00:00:00",
          "2020-04-17T00:00:00",
          "2020-04-21T00:00:00",
          "2020-04-22T00:00:00",
          "2020-04-23T00:00:00",
          "2020-04-24T00:00:00",
          "2020-04-25T00:00:00",
          "2020-04-26T00:00:00",
          "2020-04-29T00:00:00",
          "2020-04-30T00:00:00",
          "2020-05-01T00:00:00",
          "2020-05-02T00:00:00",
          "2020-05-03T00:00:00",
          "2020-05-04T00:00:00",
          "2020-05-05T00:00:00",
          "2020-05-06T00:00:00",
          "2020-05-07T00:00:00",
          "2020-05-08T00:00:00",
          "2020-05-09T00:00:00",
          "2020-05-10T00:00:00",
          "2020-05-11T00:00:00",
          "2020-05-12T00:00:00",
          "2020-05-13T00:00:00",
          "2020-05-14T00:00:00",
          "2020-05-15T00:00:00",
          "2020-05-16T00:00:00",
          "2020-05-17T00:00:00",
          "2020-05-18T00:00:00",
          "2020-05-19T00:00:00",
          "2020-05-20T00:00:00",
          "2020-05-21T00:00:00",
          "2020-05-22T00:00:00",
          "2020-05-23T00:00:00",
          "2020-05-24T00:00:00",
          "2020-05-25T00:00:00",
          "2020-05-26T00:00:00",
          "2020-05-27T00:00:00",
          "2020-05-28T00:00:00",
          "2020-05-29T00:00:00",
          "2020-05-30T00:00:00",
          "2020-05-31T00:00:00",
          "2020-06-01T00:00:00",
          "2020-06-02T00:00:00",
          "2020-06-03T00:00:00",
          "2020-06-04T00:00:00",
          "2020-06-05T00:00:00",
          "2020-06-06T00:00:00",
          "2020-06-07T00:00:00",
          "2020-06-08T00:00:00",
          "2020-06-09T00:00:00",
          "2020-06-10T00:00:00",
          "2020-06-11T00:00:00",
          "2020-06-12T00:00:00",
          "2020-06-13T00:00:00",
          "2020-06-14T00:00:00",
          "2020-06-15T00:00:00",
          "2020-06-16T00:00:00",
          "2020-06-17T00:00:00",
          "2020-06-18T00:00:00",
          "2020-06-19T00:00:00",
          "2020-06-20T00:00:00",
          "2020-06-21T00:00:00",
          "2020-06-22T00:00:00",
          "2020-06-23T00:00:00",
          "2020-06-24T00:00:00",
          "2020-06-25T00:00:00",
          "2020-06-26T00:00:00",
          "2020-06-27T00:00:00",
          "2020-06-28T00:00:00",
          "2020-06-29T00:00:00",
          "2020-06-30T00:00:00",
          "2020-07-01T00:00:00",
          "2020-07-02T00:00:00",
          "2020-07-03T00:00:00",
          "2020-07-04T00:00:00",
          "2020-07-05T00:00:00",
          "2020-07-06T00:00:00",
          "2020-07-07T00:00:00",
          "2020-07-08T00:00:00",
          "2020-07-09T00:00:00",
          "2020-07-10T00:00:00",
          "2020-07-11T00:00:00",
          "2020-07-12T00:00:00",
          "2020-07-13T00:00:00",
          "2020-07-14T00:00:00",
          "2020-07-15T00:00:00",
          "2020-07-16T00:00:00",
          "2020-07-17T00:00:00",
          "2020-07-18T00:00:00",
          "2020-07-19T00:00:00",
          "2020-07-20T00:00:00",
          "2020-07-21T00:00:00",
          "2020-07-22T00:00:00",
          "2020-07-23T00:00:00",
          "2020-07-24T00:00:00",
          "2020-07-25T00:00:00",
          "2020-07-26T00:00:00",
          "2020-07-27T00:00:00",
          "2020-07-28T00:00:00",
          "2020-07-29T00:00:00",
          "2020-07-30T00:00:00",
          "2020-07-31T00:00:00",
          "2020-08-01T00:00:00",
          "2020-08-02T00:00:00",
          "2020-08-03T00:00:00",
          "2020-08-04T00:00:00",
          "2020-08-05T00:00:00",
          "2020-08-06T00:00:00",
          "2020-08-07T00:00:00",
          "2020-08-08T00:00:00",
          "2020-08-09T00:00:00",
          "2020-08-10T00:00:00",
          "2020-08-11T00:00:00",
          "2020-08-12T00:00:00",
          "2020-08-13T00:00:00",
          "2020-08-14T00:00:00",
          "2020-08-15T00:00:00",
          "2020-08-16T00:00:00",
          "2020-08-17T00:00:00",
          "2020-08-18T00:00:00",
          "2020-08-19T00:00:00",
          "2020-08-20T00:00:00",
          "2020-08-21T00:00:00",
          "2020-08-22T00:00:00",
          "2020-08-23T00:00:00",
          "2020-08-24T00:00:00",
          "2020-08-25T00:00:00",
          "2020-08-26T00:00:00",
          "2020-08-27T00:00:00",
          "2020-08-28T00:00:00",
          "2020-08-29T00:00:00",
          "2020-08-30T00:00:00",
          "2020-08-31T00:00:00",
          "2020-09-01T00:00:00",
          "2020-09-02T00:00:00",
          "2020-09-03T00:00:00",
          "2020-09-04T00:00:00",
          "2020-09-05T00:00:00",
          "2020-09-06T00:00:00",
          "2020-09-07T00:00:00",
          "2020-09-08T00:00:00",
          "2020-09-09T00:00:00",
          "2020-09-10T00:00:00",
          "2020-09-11T00:00:00",
          "2020-09-12T00:00:00",
          "2020-09-13T00:00:00",
          "2020-09-14T00:00:00",
          "2020-09-15T00:00:00",
          "2020-09-16T00:00:00",
          "2020-09-17T00:00:00",
          "2020-09-18T00:00:00",
          "2020-09-19T00:00:00",
          "2020-09-20T00:00:00",
          "2020-09-21T00:00:00",
          "2020-09-22T00:00:00",
          "2020-09-23T00:00:00",
          "2020-09-24T00:00:00",
          "2020-09-25T00:00:00",
          "2020-09-26T00:00:00",
          "2020-09-27T00:00:00",
          "2020-09-28T00:00:00",
          "2020-09-29T00:00:00",
          "2020-09-30T00:00:00",
          "2020-10-01T00:00:00",
          "2020-10-02T00:00:00",
          "2020-10-03T00:00:00",
          "2020-10-04T00:00:00",
          "2020-10-05T00:00:00",
          "2020-10-06T00:00:00",
          "2020-10-07T00:00:00",
          "2020-10-08T00:00:00",
          "2020-10-09T00:00:00",
          "2020-10-10T00:00:00",
          "2020-10-11T00:00:00",
          "2020-10-12T00:00:00",
          "2020-10-13T00:00:00",
          "2020-10-14T00:00:00",
          "2020-10-15T00:00:00",
          "2020-10-16T00:00:00",
          "2020-10-17T00:00:00",
          "2020-10-18T00:00:00",
          "2020-10-19T00:00:00",
          "2020-10-20T00:00:00",
          "2020-10-21T00:00:00",
          "2020-10-22T00:00:00",
          "2020-10-23T00:00:00",
          "2020-10-24T00:00:00",
          "2020-10-25T00:00:00",
          "2020-10-26T00:00:00",
          "2020-10-27T00:00:00",
          "2020-10-28T00:00:00",
          "2020-10-29T00:00:00",
          "2020-10-30T00:00:00",
          "2020-10-31T00:00:00",
          "2020-11-01T00:00:00",
          "2020-11-02T00:00:00",
          "2020-11-03T00:00:00",
          "2020-11-04T00:00:00",
          "2020-11-05T00:00:00",
          "2020-11-06T00:00:00",
          "2020-11-07T00:00:00",
          "2020-11-08T00:00:00",
          "2020-11-09T00:00:00",
          "2020-11-10T00:00:00",
          "2020-11-11T00:00:00",
          "2020-11-12T00:00:00",
          "2020-11-13T00:00:00",
          "2020-11-14T00:00:00",
          "2020-11-15T00:00:00",
          "2020-11-16T00:00:00",
          "2020-11-17T00:00:00",
          "2020-11-18T00:00:00",
          "2020-11-19T00:00:00",
          "2020-11-20T00:00:00",
          "2020-11-21T00:00:00",
          "2020-11-22T00:00:00",
          "2020-11-23T00:00:00",
          "2020-11-24T00:00:00",
          "2020-11-25T00:00:00",
          "2020-11-26T00:00:00",
          "2020-11-27T00:00:00",
          "2020-11-28T00:00:00",
          "2020-11-29T00:00:00",
          "2020-11-30T00:00:00",
          "2020-12-01T00:00:00",
          "2020-12-02T00:00:00",
          "2020-12-03T00:00:00",
          "2020-12-04T00:00:00",
          "2020-12-05T00:00:00",
          "2020-12-06T00:00:00",
          "2020-12-07T00:00:00",
          "2020-12-08T00:00:00",
          "2020-12-09T00:00:00",
          "2020-12-10T00:00:00",
          "2020-12-11T00:00:00",
          "2020-12-12T00:00:00",
          "2020-12-13T00:00:00",
          "2020-12-14T00:00:00",
          "2020-12-15T00:00:00",
          "2020-12-16T00:00:00",
          "2020-12-17T00:00:00",
          "2020-12-18T00:00:00",
          "2020-12-19T00:00:00",
          "2020-12-20T00:00:00",
          "2020-12-21T00:00:00",
          "2020-12-22T00:00:00",
          "2020-12-23T00:00:00",
          "2020-12-24T00:00:00",
          "2020-12-25T00:00:00",
          "2020-12-26T00:00:00",
          "2020-12-27T00:00:00",
          "2020-12-28T00:00:00",
          "2020-12-29T00:00:00",
          "2020-12-30T00:00:00",
          "2020-12-31T00:00:00"
         ],
         "y": [
          2,
          3,
          4,
          5,
          7,
          8,
          11,
          13,
          16,
          19,
          20,
          23,
          25,
          27,
          30,
          33,
          35,
          38,
          41,
          43,
          46,
          50,
          56,
          60,
          61,
          64,
          65,
          69,
          71,
          77,
          80,
          82,
          88,
          92,
          94,
          99,
          105,
          111,
          115,
          123,
          128,
          134,
          142,
          144,
          151,
          157,
          159,
          164,
          170,
          178,
          189,
          206,
          220,
          234,
          245,
          264,
          281,
          296,
          315,
          329,
          352,
          374,
          391,
          417,
          441,
          468,
          484,
          513,
          539,
          565,
          590,
          612,
          639,
          662,
          702,
          733,
          762,
          806,
          842,
          879,
          911,
          945,
          981,
          1024,
          1063,
          1096,
          1129,
          1168,
          1196,
          1231,
          1268,
          1299,
          1331,
          1374,
          1405,
          1441,
          1484,
          1521,
          1544,
          1596,
          1636,
          1676,
          1720,
          1757,
          1793,
          1832,
          1863,
          1903,
          1933,
          1961,
          1998,
          2040,
          2076,
          2107,
          2147,
          2181,
          2215,
          2240,
          2261,
          2282,
          2314,
          2336,
          2357,
          2390,
          2417,
          2445,
          2474,
          2496,
          2531,
          2555,
          2571,
          2596,
          2616,
          2640,
          2663,
          2683,
          2703,
          2733,
          2756,
          2776,
          2794,
          2817,
          2838,
          2852,
          2864,
          2876,
          2892,
          2909,
          2934,
          2953,
          2967,
          2987,
          3004,
          3015,
          3024,
          3034,
          3054,
          3079,
          3087,
          3108,
          3115,
          3124,
          3135,
          3148,
          3159,
          3166,
          3178,
          3191,
          3201,
          3214,
          3231,
          3242,
          3257,
          3268,
          3290,
          3300,
          3310,
          3321,
          3337,
          3343,
          3356,
          3368,
          3379,
          3387,
          3398,
          3407,
          3412,
          3426,
          3444,
          3459,
          3470,
          3484,
          3496,
          3510,
          3530,
          3546,
          3557,
          3571,
          3584,
          3596,
          3603,
          3623,
          3635,
          3644,
          3658,
          3676,
          3697,
          3717,
          3731,
          3746,
          3767,
          3783,
          3799,
          3820,
          3847,
          3875,
          3893,
          3914,
          3939,
          3967,
          3996,
          4028,
          4052,
          4079,
          4106,
          4142,
          4181,
          4216,
          4259,
          4300,
          4341,
          4371,
          4393,
          4428,
          4468,
          4498,
          4533,
          4580,
          4619,
          4664,
          4703,
          4737,
          4782,
          4816,
          4851,
          4879,
          4917,
          4958,
          4992,
          5031,
          5067,
          5109,
          5153,
          5189,
          5223,
          5251,
          5286,
          5334,
          5357,
          5365
         ]
        }
       ],
       "layout": {
        "template": {
         "data": {
          "bar": [
           {
            "error_x": {
             "color": "#2a3f5f"
            },
            "error_y": {
             "color": "#2a3f5f"
            },
            "marker": {
             "line": {
              "color": "white",
              "width": 0.5
             }
            },
            "type": "bar"
           }
          ],
          "barpolar": [
           {
            "marker": {
             "line": {
              "color": "white",
              "width": 0.5
             }
            },
            "type": "barpolar"
           }
          ],
          "carpet": [
           {
            "aaxis": {
             "endlinecolor": "#2a3f5f",
             "gridcolor": "#C8D4E3",
             "linecolor": "#C8D4E3",
             "minorgridcolor": "#C8D4E3",
             "startlinecolor": "#2a3f5f"
            },
            "baxis": {
             "endlinecolor": "#2a3f5f",
             "gridcolor": "#C8D4E3",
             "linecolor": "#C8D4E3",
             "minorgridcolor": "#C8D4E3",
             "startlinecolor": "#2a3f5f"
            },
            "type": "carpet"
           }
          ],
          "choropleth": [
           {
            "colorbar": {
             "outlinewidth": 0,
             "ticks": ""
            },
            "type": "choropleth"
           }
          ],
          "contour": [
           {
            "colorbar": {
             "outlinewidth": 0,
             "ticks": ""
            },
            "colorscale": [
             [
              0,
              "#0d0887"
             ],
             [
              0.1111111111111111,
              "#46039f"
             ],
             [
              0.2222222222222222,
              "#7201a8"
             ],
             [
              0.3333333333333333,
              "#9c179e"
             ],
             [
              0.4444444444444444,
              "#bd3786"
             ],
             [
              0.5555555555555556,
              "#d8576b"
             ],
             [
              0.6666666666666666,
              "#ed7953"
             ],
             [
              0.7777777777777778,
              "#fb9f3a"
             ],
             [
              0.8888888888888888,
              "#fdca26"
             ],
             [
              1,
              "#f0f921"
             ]
            ],
            "type": "contour"
           }
          ],
          "contourcarpet": [
           {
            "colorbar": {
             "outlinewidth": 0,
             "ticks": ""
            },
            "type": "contourcarpet"
           }
          ],
          "heatmap": [
           {
            "colorbar": {
             "outlinewidth": 0,
             "ticks": ""
            },
            "colorscale": [
             [
              0,
              "#0d0887"
             ],
             [
              0.1111111111111111,
              "#46039f"
             ],
             [
              0.2222222222222222,
              "#7201a8"
             ],
             [
              0.3333333333333333,
              "#9c179e"
             ],
             [
              0.4444444444444444,
              "#bd3786"
             ],
             [
              0.5555555555555556,
              "#d8576b"
             ],
             [
              0.6666666666666666,
              "#ed7953"
             ],
             [
              0.7777777777777778,
              "#fb9f3a"
             ],
             [
              0.8888888888888888,
              "#fdca26"
             ],
             [
              1,
              "#f0f921"
             ]
            ],
            "type": "heatmap"
           }
          ],
          "heatmapgl": [
           {
            "colorbar": {
             "outlinewidth": 0,
             "ticks": ""
            },
            "colorscale": [
             [
              0,
              "#0d0887"
             ],
             [
              0.1111111111111111,
              "#46039f"
             ],
             [
              0.2222222222222222,
              "#7201a8"
             ],
             [
              0.3333333333333333,
              "#9c179e"
             ],
             [
              0.4444444444444444,
              "#bd3786"
             ],
             [
              0.5555555555555556,
              "#d8576b"
             ],
             [
              0.6666666666666666,
              "#ed7953"
             ],
             [
              0.7777777777777778,
              "#fb9f3a"
             ],
             [
              0.8888888888888888,
              "#fdca26"
             ],
             [
              1,
              "#f0f921"
             ]
            ],
            "type": "heatmapgl"
           }
          ],
          "histogram": [
           {
            "marker": {
             "colorbar": {
              "outlinewidth": 0,
              "ticks": ""
             }
            },
            "type": "histogram"
           }
          ],
          "histogram2d": [
           {
            "colorbar": {
             "outlinewidth": 0,
             "ticks": ""
            },
            "colorscale": [
             [
              0,
              "#0d0887"
             ],
             [
              0.1111111111111111,
              "#46039f"
             ],
             [
              0.2222222222222222,
              "#7201a8"
             ],
             [
              0.3333333333333333,
              "#9c179e"
             ],
             [
              0.4444444444444444,
              "#bd3786"
             ],
             [
              0.5555555555555556,
              "#d8576b"
             ],
             [
              0.6666666666666666,
              "#ed7953"
             ],
             [
              0.7777777777777778,
              "#fb9f3a"
             ],
             [
              0.8888888888888888,
              "#fdca26"
             ],
             [
              1,
              "#f0f921"
             ]
            ],
            "type": "histogram2d"
           }
          ],
          "histogram2dcontour": [
           {
            "colorbar": {
             "outlinewidth": 0,
             "ticks": ""
            },
            "colorscale": [
             [
              0,
              "#0d0887"
             ],
             [
              0.1111111111111111,
              "#46039f"
             ],
             [
              0.2222222222222222,
              "#7201a8"
             ],
             [
              0.3333333333333333,
              "#9c179e"
             ],
             [
              0.4444444444444444,
              "#bd3786"
             ],
             [
              0.5555555555555556,
              "#d8576b"
             ],
             [
              0.6666666666666666,
              "#ed7953"
             ],
             [
              0.7777777777777778,
              "#fb9f3a"
             ],
             [
              0.8888888888888888,
              "#fdca26"
             ],
             [
              1,
              "#f0f921"
             ]
            ],
            "type": "histogram2dcontour"
           }
          ],
          "mesh3d": [
           {
            "colorbar": {
             "outlinewidth": 0,
             "ticks": ""
            },
            "type": "mesh3d"
           }
          ],
          "parcoords": [
           {
            "line": {
             "colorbar": {
              "outlinewidth": 0,
              "ticks": ""
             }
            },
            "type": "parcoords"
           }
          ],
          "pie": [
           {
            "automargin": true,
            "type": "pie"
           }
          ],
          "scatter": [
           {
            "marker": {
             "colorbar": {
              "outlinewidth": 0,
              "ticks": ""
             }
            },
            "type": "scatter"
           }
          ],
          "scatter3d": [
           {
            "line": {
             "colorbar": {
              "outlinewidth": 0,
              "ticks": ""
             }
            },
            "marker": {
             "colorbar": {
              "outlinewidth": 0,
              "ticks": ""
             }
            },
            "type": "scatter3d"
           }
          ],
          "scattercarpet": [
           {
            "marker": {
             "colorbar": {
              "outlinewidth": 0,
              "ticks": ""
             }
            },
            "type": "scattercarpet"
           }
          ],
          "scattergeo": [
           {
            "marker": {
             "colorbar": {
              "outlinewidth": 0,
              "ticks": ""
             }
            },
            "type": "scattergeo"
           }
          ],
          "scattergl": [
           {
            "marker": {
             "colorbar": {
              "outlinewidth": 0,
              "ticks": ""
             }
            },
            "type": "scattergl"
           }
          ],
          "scattermapbox": [
           {
            "marker": {
             "colorbar": {
              "outlinewidth": 0,
              "ticks": ""
             }
            },
            "type": "scattermapbox"
           }
          ],
          "scatterpolar": [
           {
            "marker": {
             "colorbar": {
              "outlinewidth": 0,
              "ticks": ""
             }
            },
            "type": "scatterpolar"
           }
          ],
          "scatterpolargl": [
           {
            "marker": {
             "colorbar": {
              "outlinewidth": 0,
              "ticks": ""
             }
            },
            "type": "scatterpolargl"
           }
          ],
          "scatterternary": [
           {
            "marker": {
             "colorbar": {
              "outlinewidth": 0,
              "ticks": ""
             }
            },
            "type": "scatterternary"
           }
          ],
          "surface": [
           {
            "colorbar": {
             "outlinewidth": 0,
             "ticks": ""
            },
            "colorscale": [
             [
              0,
              "#0d0887"
             ],
             [
              0.1111111111111111,
              "#46039f"
             ],
             [
              0.2222222222222222,
              "#7201a8"
             ],
             [
              0.3333333333333333,
              "#9c179e"
             ],
             [
              0.4444444444444444,
              "#bd3786"
             ],
             [
              0.5555555555555556,
              "#d8576b"
             ],
             [
              0.6666666666666666,
              "#ed7953"
             ],
             [
              0.7777777777777778,
              "#fb9f3a"
             ],
             [
              0.8888888888888888,
              "#fdca26"
             ],
             [
              1,
              "#f0f921"
             ]
            ],
            "type": "surface"
           }
          ],
          "table": [
           {
            "cells": {
             "fill": {
              "color": "#EBF0F8"
             },
             "line": {
              "color": "white"
             }
            },
            "header": {
             "fill": {
              "color": "#C8D4E3"
             },
             "line": {
              "color": "white"
             }
            },
            "type": "table"
           }
          ]
         },
         "layout": {
          "annotationdefaults": {
           "arrowcolor": "#2a3f5f",
           "arrowhead": 0,
           "arrowwidth": 1
          },
          "coloraxis": {
           "colorbar": {
            "outlinewidth": 0,
            "ticks": ""
           }
          },
          "colorscale": {
           "diverging": [
            [
             0,
             "#8e0152"
            ],
            [
             0.1,
             "#c51b7d"
            ],
            [
             0.2,
             "#de77ae"
            ],
            [
             0.3,
             "#f1b6da"
            ],
            [
             0.4,
             "#fde0ef"
            ],
            [
             0.5,
             "#f7f7f7"
            ],
            [
             0.6,
             "#e6f5d0"
            ],
            [
             0.7,
             "#b8e186"
            ],
            [
             0.8,
             "#7fbc41"
            ],
            [
             0.9,
             "#4d9221"
            ],
            [
             1,
             "#276419"
            ]
           ],
           "sequential": [
            [
             0,
             "#0d0887"
            ],
            [
             0.1111111111111111,
             "#46039f"
            ],
            [
             0.2222222222222222,
             "#7201a8"
            ],
            [
             0.3333333333333333,
             "#9c179e"
            ],
            [
             0.4444444444444444,
             "#bd3786"
            ],
            [
             0.5555555555555556,
             "#d8576b"
            ],
            [
             0.6666666666666666,
             "#ed7953"
            ],
            [
             0.7777777777777778,
             "#fb9f3a"
            ],
            [
             0.8888888888888888,
             "#fdca26"
            ],
            [
             1,
             "#f0f921"
            ]
           ],
           "sequentialminus": [
            [
             0,
             "#0d0887"
            ],
            [
             0.1111111111111111,
             "#46039f"
            ],
            [
             0.2222222222222222,
             "#7201a8"
            ],
            [
             0.3333333333333333,
             "#9c179e"
            ],
            [
             0.4444444444444444,
             "#bd3786"
            ],
            [
             0.5555555555555556,
             "#d8576b"
            ],
            [
             0.6666666666666666,
             "#ed7953"
            ],
            [
             0.7777777777777778,
             "#fb9f3a"
            ],
            [
             0.8888888888888888,
             "#fdca26"
            ],
            [
             1,
             "#f0f921"
            ]
           ]
          },
          "colorway": [
           "#636efa",
           "#EF553B",
           "#00cc96",
           "#ab63fa",
           "#FFA15A",
           "#19d3f3",
           "#FF6692",
           "#B6E880",
           "#FF97FF",
           "#FECB52"
          ],
          "font": {
           "color": "#2a3f5f"
          },
          "geo": {
           "bgcolor": "white",
           "lakecolor": "white",
           "landcolor": "white",
           "showlakes": true,
           "showland": true,
           "subunitcolor": "#C8D4E3"
          },
          "hoverlabel": {
           "align": "left"
          },
          "hovermode": "closest",
          "mapbox": {
           "style": "light"
          },
          "paper_bgcolor": "white",
          "plot_bgcolor": "white",
          "polar": {
           "angularaxis": {
            "gridcolor": "#EBF0F8",
            "linecolor": "#EBF0F8",
            "ticks": ""
           },
           "bgcolor": "white",
           "radialaxis": {
            "gridcolor": "#EBF0F8",
            "linecolor": "#EBF0F8",
            "ticks": ""
           }
          },
          "scene": {
           "xaxis": {
            "backgroundcolor": "white",
            "gridcolor": "#DFE8F3",
            "gridwidth": 2,
            "linecolor": "#EBF0F8",
            "showbackground": true,
            "ticks": "",
            "zerolinecolor": "#EBF0F8"
           },
           "yaxis": {
            "backgroundcolor": "white",
            "gridcolor": "#DFE8F3",
            "gridwidth": 2,
            "linecolor": "#EBF0F8",
            "showbackground": true,
            "ticks": "",
            "zerolinecolor": "#EBF0F8"
           },
           "zaxis": {
            "backgroundcolor": "white",
            "gridcolor": "#DFE8F3",
            "gridwidth": 2,
            "linecolor": "#EBF0F8",
            "showbackground": true,
            "ticks": "",
            "zerolinecolor": "#EBF0F8"
           }
          },
          "shapedefaults": {
           "line": {
            "color": "#2a3f5f"
           }
          },
          "ternary": {
           "aaxis": {
            "gridcolor": "#DFE8F3",
            "linecolor": "#A2B1C6",
            "ticks": ""
           },
           "baxis": {
            "gridcolor": "#DFE8F3",
            "linecolor": "#A2B1C6",
            "ticks": ""
           },
           "bgcolor": "white",
           "caxis": {
            "gridcolor": "#DFE8F3",
            "linecolor": "#A2B1C6",
            "ticks": ""
           }
          },
          "title": {
           "x": 0.05
          },
          "xaxis": {
           "automargin": true,
           "gridcolor": "#EBF0F8",
           "linecolor": "#EBF0F8",
           "ticks": "",
           "title": {
            "standoff": 15
           },
           "zerolinecolor": "#EBF0F8",
           "zerolinewidth": 2
          },
          "yaxis": {
           "automargin": true,
           "gridcolor": "#EBF0F8",
           "linecolor": "#EBF0F8",
           "ticks": "",
           "title": {
            "standoff": 15
           },
           "zerolinecolor": "#EBF0F8",
           "zerolinewidth": 2
          }
         }
        },
        "title": {
         "text": "Casos acumulados en Guanajuato"
        },
        "xaxis": {
         "title": {
          "text": "Fecha de registro"
         }
        },
        "yaxis": {
         "title": {
          "text": "Número de casos acumulados"
         }
        }
       }
      }
     },
     "metadata": {}
    },
    {
     "output_type": "stream",
     "name": "stdout",
     "text": [
      "Total de defunciones acumuladas =  5365\nTotal de casos confirmados =  83520\n"
     ]
    }
   ],
   "source": [
    "#\n",
    "acum_plot(confirmados_mich[\"fecha_ingreso\"],confirmados_mich[\"confirmados_acumulados\"],\n",
    "            defunciones_mich[\"fecha_defuncion\"], defunciones_mich[\"defunciones_acumuladas\"], region = confirmados_mich[\"ENTIDAD\"].iloc[0] )\n",
    "print(\"Total de defunciones acumuladas = \", defunciones_mich[\"defunciones\"].sum())\n",
    "print(\"Total de casos confirmados = \",confirmados_mich[\"confirmados\"].sum())"
   ]
  },
  {
   "cell_type": "code",
   "execution_count": 116,
   "metadata": {},
   "outputs": [
    {
     "output_type": "display_data",
     "data": {
      "application/vnd.plotly.v1+json": {
       "config": {
        "plotlyServerURL": "https://plot.ly"
       },
       "data": [
        {
         "marker": {
          "color": "#ff1744",
          "opacity": 0.6
         },
         "name": "Nuevos casos",
         "type": "bar",
         "x": [
          "2020-03-13T00:00:00",
          "2020-03-15T00:00:00",
          "2020-03-16T00:00:00",
          "2020-03-18T00:00:00",
          "2020-03-19T00:00:00",
          "2020-03-20T00:00:00",
          "2020-03-21T00:00:00",
          "2020-03-22T00:00:00",
          "2020-03-23T00:00:00",
          "2020-03-24T00:00:00",
          "2020-03-25T00:00:00",
          "2020-03-26T00:00:00",
          "2020-03-27T00:00:00",
          "2020-03-28T00:00:00",
          "2020-03-29T00:00:00",
          "2020-03-30T00:00:00",
          "2020-03-31T00:00:00",
          "2020-04-01T00:00:00",
          "2020-04-02T00:00:00",
          "2020-04-03T00:00:00",
          "2020-04-04T00:00:00",
          "2020-04-05T00:00:00",
          "2020-04-06T00:00:00",
          "2020-04-07T00:00:00",
          "2020-04-08T00:00:00",
          "2020-04-09T00:00:00",
          "2020-04-10T00:00:00",
          "2020-04-11T00:00:00",
          "2020-04-12T00:00:00",
          "2020-04-13T00:00:00",
          "2020-04-14T00:00:00",
          "2020-04-15T00:00:00",
          "2020-04-16T00:00:00",
          "2020-04-17T00:00:00",
          "2020-04-18T00:00:00",
          "2020-04-19T00:00:00",
          "2020-04-20T00:00:00",
          "2020-04-21T00:00:00",
          "2020-04-22T00:00:00",
          "2020-04-23T00:00:00",
          "2020-04-24T00:00:00",
          "2020-04-25T00:00:00",
          "2020-04-26T00:00:00",
          "2020-04-27T00:00:00",
          "2020-04-28T00:00:00",
          "2020-04-29T00:00:00",
          "2020-04-30T00:00:00",
          "2020-05-01T00:00:00",
          "2020-05-02T00:00:00",
          "2020-05-03T00:00:00",
          "2020-05-04T00:00:00",
          "2020-05-05T00:00:00",
          "2020-05-06T00:00:00",
          "2020-05-07T00:00:00",
          "2020-05-08T00:00:00",
          "2020-05-09T00:00:00",
          "2020-05-10T00:00:00",
          "2020-05-11T00:00:00",
          "2020-05-12T00:00:00",
          "2020-05-13T00:00:00",
          "2020-05-14T00:00:00",
          "2020-05-15T00:00:00",
          "2020-05-16T00:00:00",
          "2020-05-17T00:00:00",
          "2020-05-18T00:00:00",
          "2020-05-19T00:00:00",
          "2020-05-20T00:00:00",
          "2020-05-21T00:00:00",
          "2020-05-22T00:00:00",
          "2020-05-23T00:00:00",
          "2020-05-24T00:00:00",
          "2020-05-25T00:00:00",
          "2020-05-26T00:00:00",
          "2020-05-27T00:00:00",
          "2020-05-28T00:00:00",
          "2020-05-29T00:00:00",
          "2020-05-30T00:00:00",
          "2020-05-31T00:00:00",
          "2020-06-01T00:00:00",
          "2020-06-02T00:00:00",
          "2020-06-03T00:00:00",
          "2020-06-04T00:00:00",
          "2020-06-05T00:00:00",
          "2020-06-06T00:00:00",
          "2020-06-07T00:00:00",
          "2020-06-08T00:00:00",
          "2020-06-09T00:00:00",
          "2020-06-10T00:00:00",
          "2020-06-11T00:00:00",
          "2020-06-12T00:00:00",
          "2020-06-13T00:00:00",
          "2020-06-14T00:00:00",
          "2020-06-15T00:00:00",
          "2020-06-16T00:00:00",
          "2020-06-17T00:00:00",
          "2020-06-18T00:00:00",
          "2020-06-19T00:00:00",
          "2020-06-20T00:00:00",
          "2020-06-21T00:00:00",
          "2020-06-22T00:00:00",
          "2020-06-23T00:00:00",
          "2020-06-24T00:00:00",
          "2020-06-25T00:00:00",
          "2020-06-26T00:00:00",
          "2020-06-27T00:00:00",
          "2020-06-28T00:00:00",
          "2020-06-29T00:00:00",
          "2020-06-30T00:00:00",
          "2020-07-01T00:00:00",
          "2020-07-02T00:00:00",
          "2020-07-03T00:00:00",
          "2020-07-04T00:00:00",
          "2020-07-05T00:00:00",
          "2020-07-06T00:00:00",
          "2020-07-07T00:00:00",
          "2020-07-08T00:00:00",
          "2020-07-09T00:00:00",
          "2020-07-10T00:00:00",
          "2020-07-11T00:00:00",
          "2020-07-12T00:00:00",
          "2020-07-13T00:00:00",
          "2020-07-14T00:00:00",
          "2020-07-15T00:00:00",
          "2020-07-16T00:00:00",
          "2020-07-17T00:00:00",
          "2020-07-18T00:00:00",
          "2020-07-19T00:00:00",
          "2020-07-20T00:00:00",
          "2020-07-21T00:00:00",
          "2020-07-22T00:00:00",
          "2020-07-23T00:00:00",
          "2020-07-24T00:00:00",
          "2020-07-25T00:00:00",
          "2020-07-26T00:00:00",
          "2020-07-27T00:00:00",
          "2020-07-28T00:00:00",
          "2020-07-29T00:00:00",
          "2020-07-30T00:00:00",
          "2020-07-31T00:00:00",
          "2020-08-01T00:00:00",
          "2020-08-02T00:00:00",
          "2020-08-03T00:00:00",
          "2020-08-04T00:00:00",
          "2020-08-05T00:00:00",
          "2020-08-06T00:00:00",
          "2020-08-07T00:00:00",
          "2020-08-08T00:00:00",
          "2020-08-09T00:00:00",
          "2020-08-10T00:00:00",
          "2020-08-11T00:00:00",
          "2020-08-12T00:00:00",
          "2020-08-13T00:00:00",
          "2020-08-14T00:00:00",
          "2020-08-15T00:00:00",
          "2020-08-16T00:00:00",
          "2020-08-17T00:00:00",
          "2020-08-18T00:00:00",
          "2020-08-19T00:00:00",
          "2020-08-20T00:00:00",
          "2020-08-21T00:00:00",
          "2020-08-22T00:00:00",
          "2020-08-23T00:00:00",
          "2020-08-24T00:00:00",
          "2020-08-25T00:00:00",
          "2020-08-26T00:00:00",
          "2020-08-27T00:00:00",
          "2020-08-28T00:00:00",
          "2020-08-29T00:00:00",
          "2020-08-30T00:00:00",
          "2020-08-31T00:00:00",
          "2020-09-01T00:00:00",
          "2020-09-02T00:00:00",
          "2020-09-03T00:00:00",
          "2020-09-04T00:00:00",
          "2020-09-05T00:00:00",
          "2020-09-06T00:00:00",
          "2020-09-07T00:00:00",
          "2020-09-08T00:00:00",
          "2020-09-09T00:00:00",
          "2020-09-10T00:00:00",
          "2020-09-11T00:00:00",
          "2020-09-12T00:00:00",
          "2020-09-13T00:00:00",
          "2020-09-14T00:00:00",
          "2020-09-15T00:00:00",
          "2020-09-16T00:00:00",
          "2020-09-17T00:00:00",
          "2020-09-18T00:00:00",
          "2020-09-19T00:00:00",
          "2020-09-20T00:00:00",
          "2020-09-21T00:00:00",
          "2020-09-22T00:00:00",
          "2020-09-23T00:00:00",
          "2020-09-24T00:00:00",
          "2020-09-25T00:00:00",
          "2020-09-26T00:00:00",
          "2020-09-27T00:00:00",
          "2020-09-28T00:00:00",
          "2020-09-29T00:00:00",
          "2020-09-30T00:00:00",
          "2020-10-01T00:00:00",
          "2020-10-02T00:00:00",
          "2020-10-03T00:00:00",
          "2020-10-04T00:00:00",
          "2020-10-05T00:00:00",
          "2020-10-06T00:00:00",
          "2020-10-07T00:00:00",
          "2020-10-08T00:00:00",
          "2020-10-09T00:00:00",
          "2020-10-10T00:00:00",
          "2020-10-11T00:00:00",
          "2020-10-12T00:00:00",
          "2020-10-13T00:00:00",
          "2020-10-14T00:00:00",
          "2020-10-15T00:00:00",
          "2020-10-16T00:00:00",
          "2020-10-17T00:00:00",
          "2020-10-18T00:00:00",
          "2020-10-19T00:00:00",
          "2020-10-20T00:00:00",
          "2020-10-21T00:00:00",
          "2020-10-22T00:00:00",
          "2020-10-23T00:00:00",
          "2020-10-24T00:00:00",
          "2020-10-25T00:00:00",
          "2020-10-26T00:00:00",
          "2020-10-27T00:00:00",
          "2020-10-28T00:00:00",
          "2020-10-29T00:00:00",
          "2020-10-30T00:00:00",
          "2020-10-31T00:00:00",
          "2020-11-01T00:00:00",
          "2020-11-02T00:00:00",
          "2020-11-03T00:00:00",
          "2020-11-04T00:00:00",
          "2020-11-05T00:00:00",
          "2020-11-06T00:00:00",
          "2020-11-07T00:00:00",
          "2020-11-08T00:00:00",
          "2020-11-09T00:00:00",
          "2020-11-10T00:00:00",
          "2020-11-11T00:00:00",
          "2020-11-12T00:00:00",
          "2020-11-13T00:00:00",
          "2020-11-14T00:00:00",
          "2020-11-15T00:00:00",
          "2020-11-16T00:00:00",
          "2020-11-17T00:00:00",
          "2020-11-18T00:00:00",
          "2020-11-19T00:00:00",
          "2020-11-20T00:00:00",
          "2020-11-21T00:00:00",
          "2020-11-22T00:00:00",
          "2020-11-23T00:00:00",
          "2020-11-24T00:00:00",
          "2020-11-25T00:00:00",
          "2020-11-26T00:00:00",
          "2020-11-27T00:00:00",
          "2020-11-28T00:00:00",
          "2020-11-29T00:00:00",
          "2020-11-30T00:00:00",
          "2020-12-01T00:00:00",
          "2020-12-02T00:00:00",
          "2020-12-03T00:00:00",
          "2020-12-04T00:00:00",
          "2020-12-05T00:00:00",
          "2020-12-06T00:00:00",
          "2020-12-07T00:00:00",
          "2020-12-08T00:00:00",
          "2020-12-09T00:00:00",
          "2020-12-10T00:00:00",
          "2020-12-11T00:00:00",
          "2020-12-12T00:00:00",
          "2020-12-13T00:00:00",
          "2020-12-14T00:00:00",
          "2020-12-15T00:00:00",
          "2020-12-16T00:00:00",
          "2020-12-17T00:00:00",
          "2020-12-18T00:00:00",
          "2020-12-19T00:00:00",
          "2020-12-20T00:00:00",
          "2020-12-21T00:00:00",
          "2020-12-22T00:00:00",
          "2020-12-23T00:00:00",
          "2020-12-24T00:00:00",
          "2020-12-25T00:00:00",
          "2020-12-26T00:00:00",
          "2020-12-27T00:00:00",
          "2020-12-28T00:00:00",
          "2020-12-29T00:00:00",
          "2020-12-30T00:00:00",
          "2020-12-31T00:00:00"
         ],
         "y": [
          1,
          2,
          2,
          1,
          1,
          5,
          11,
          1,
          6,
          1,
          4,
          6,
          5,
          4,
          1,
          5,
          2,
          1,
          2,
          5,
          3,
          3,
          8,
          6,
          9,
          2,
          3,
          6,
          2,
          3,
          4,
          13,
          14,
          29,
          11,
          10,
          14,
          10,
          13,
          9,
          12,
          11,
          7,
          25,
          17,
          14,
          16,
          14,
          10,
          11,
          33,
          23,
          30,
          37,
          43,
          26,
          23,
          41,
          53,
          41,
          51,
          36,
          34,
          20,
          54,
          69,
          58,
          64,
          56,
          52,
          20,
          120,
          97,
          107,
          141,
          144,
          98,
          70,
          182,
          174,
          178,
          219,
          172,
          126,
          81,
          199,
          230,
          189,
          205,
          215,
          126,
          84,
          340,
          319,
          336,
          326,
          376,
          190,
          117,
          386,
          411,
          394,
          300,
          368,
          210,
          121,
          409,
          420,
          416,
          423,
          434,
          227,
          133,
          484,
          517,
          504,
          523,
          456,
          187,
          170,
          572,
          563,
          628,
          557,
          442,
          234,
          155,
          500,
          655,
          568,
          537,
          509,
          231,
          183,
          606,
          641,
          486,
          549,
          438,
          171,
          150,
          535,
          454,
          380,
          364,
          433,
          184,
          114,
          438,
          445,
          435,
          455,
          395,
          170,
          107,
          366,
          361,
          444,
          424,
          478,
          160,
          152,
          517,
          423,
          470,
          439,
          434,
          207,
          157,
          568,
          471,
          384,
          399,
          421,
          124,
          142,
          417,
          455,
          389,
          425,
          406,
          133,
          120,
          500,
          261,
          154,
          309,
          303,
          110,
          81,
          290,
          276,
          207,
          260,
          219,
          82,
          76,
          317,
          247,
          278,
          273,
          306,
          57,
          62,
          206,
          211,
          270,
          274,
          276,
          90,
          85,
          311,
          304,
          279,
          293,
          306,
          110,
          103,
          387,
          454,
          427,
          381,
          408,
          156,
          125,
          545,
          564,
          435,
          423,
          401,
          141,
          135,
          252,
          487,
          472,
          498,
          472,
          184,
          176,
          544,
          592,
          599,
          562,
          579,
          284,
          143,
          239,
          760,
          682,
          717,
          736,
          290,
          186,
          823,
          914,
          796,
          863,
          842,
          348,
          238,
          782,
          939,
          824,
          785,
          704,
          255,
          202,
          847,
          909,
          849,
          909,
          664,
          333,
          206,
          961,
          857,
          715,
          659,
          601,
          283,
          276,
          791,
          807,
          585,
          397,
          139,
          268,
          271,
          749,
          630,
          165,
          49
         ]
        },
        {
         "line": {
          "color": "#b71c1c",
          "width": 2.5
         },
         "mode": "lines",
         "name": "Promedio de 7 días",
         "type": "scatter",
         "x": [
          "2020-03-13T00:00:00",
          "2020-03-15T00:00:00",
          "2020-03-16T00:00:00",
          "2020-03-18T00:00:00",
          "2020-03-19T00:00:00",
          "2020-03-20T00:00:00",
          "2020-03-21T00:00:00",
          "2020-03-22T00:00:00",
          "2020-03-23T00:00:00",
          "2020-03-24T00:00:00",
          "2020-03-25T00:00:00",
          "2020-03-26T00:00:00",
          "2020-03-27T00:00:00",
          "2020-03-28T00:00:00",
          "2020-03-29T00:00:00",
          "2020-03-30T00:00:00",
          "2020-03-31T00:00:00",
          "2020-04-01T00:00:00",
          "2020-04-02T00:00:00",
          "2020-04-03T00:00:00",
          "2020-04-04T00:00:00",
          "2020-04-05T00:00:00",
          "2020-04-06T00:00:00",
          "2020-04-07T00:00:00",
          "2020-04-08T00:00:00",
          "2020-04-09T00:00:00",
          "2020-04-10T00:00:00",
          "2020-04-11T00:00:00",
          "2020-04-12T00:00:00",
          "2020-04-13T00:00:00",
          "2020-04-14T00:00:00",
          "2020-04-15T00:00:00",
          "2020-04-16T00:00:00",
          "2020-04-17T00:00:00",
          "2020-04-18T00:00:00",
          "2020-04-19T00:00:00",
          "2020-04-20T00:00:00",
          "2020-04-21T00:00:00",
          "2020-04-22T00:00:00",
          "2020-04-23T00:00:00",
          "2020-04-24T00:00:00",
          "2020-04-25T00:00:00",
          "2020-04-26T00:00:00",
          "2020-04-27T00:00:00",
          "2020-04-28T00:00:00",
          "2020-04-29T00:00:00",
          "2020-04-30T00:00:00",
          "2020-05-01T00:00:00",
          "2020-05-02T00:00:00",
          "2020-05-03T00:00:00",
          "2020-05-04T00:00:00",
          "2020-05-05T00:00:00",
          "2020-05-06T00:00:00",
          "2020-05-07T00:00:00",
          "2020-05-08T00:00:00",
          "2020-05-09T00:00:00",
          "2020-05-10T00:00:00",
          "2020-05-11T00:00:00",
          "2020-05-12T00:00:00",
          "2020-05-13T00:00:00",
          "2020-05-14T00:00:00",
          "2020-05-15T00:00:00",
          "2020-05-16T00:00:00",
          "2020-05-17T00:00:00",
          "2020-05-18T00:00:00",
          "2020-05-19T00:00:00",
          "2020-05-20T00:00:00",
          "2020-05-21T00:00:00",
          "2020-05-22T00:00:00",
          "2020-05-23T00:00:00",
          "2020-05-24T00:00:00",
          "2020-05-25T00:00:00",
          "2020-05-26T00:00:00",
          "2020-05-27T00:00:00",
          "2020-05-28T00:00:00",
          "2020-05-29T00:00:00",
          "2020-05-30T00:00:00",
          "2020-05-31T00:00:00",
          "2020-06-01T00:00:00",
          "2020-06-02T00:00:00",
          "2020-06-03T00:00:00",
          "2020-06-04T00:00:00",
          "2020-06-05T00:00:00",
          "2020-06-06T00:00:00",
          "2020-06-07T00:00:00",
          "2020-06-08T00:00:00",
          "2020-06-09T00:00:00",
          "2020-06-10T00:00:00",
          "2020-06-11T00:00:00",
          "2020-06-12T00:00:00",
          "2020-06-13T00:00:00",
          "2020-06-14T00:00:00",
          "2020-06-15T00:00:00",
          "2020-06-16T00:00:00",
          "2020-06-17T00:00:00",
          "2020-06-18T00:00:00",
          "2020-06-19T00:00:00",
          "2020-06-20T00:00:00",
          "2020-06-21T00:00:00",
          "2020-06-22T00:00:00",
          "2020-06-23T00:00:00",
          "2020-06-24T00:00:00",
          "2020-06-25T00:00:00",
          "2020-06-26T00:00:00",
          "2020-06-27T00:00:00",
          "2020-06-28T00:00:00",
          "2020-06-29T00:00:00",
          "2020-06-30T00:00:00",
          "2020-07-01T00:00:00",
          "2020-07-02T00:00:00",
          "2020-07-03T00:00:00",
          "2020-07-04T00:00:00",
          "2020-07-05T00:00:00",
          "2020-07-06T00:00:00",
          "2020-07-07T00:00:00",
          "2020-07-08T00:00:00",
          "2020-07-09T00:00:00",
          "2020-07-10T00:00:00",
          "2020-07-11T00:00:00",
          "2020-07-12T00:00:00",
          "2020-07-13T00:00:00",
          "2020-07-14T00:00:00",
          "2020-07-15T00:00:00",
          "2020-07-16T00:00:00",
          "2020-07-17T00:00:00",
          "2020-07-18T00:00:00",
          "2020-07-19T00:00:00",
          "2020-07-20T00:00:00",
          "2020-07-21T00:00:00",
          "2020-07-22T00:00:00",
          "2020-07-23T00:00:00",
          "2020-07-24T00:00:00",
          "2020-07-25T00:00:00",
          "2020-07-26T00:00:00",
          "2020-07-27T00:00:00",
          "2020-07-28T00:00:00",
          "2020-07-29T00:00:00",
          "2020-07-30T00:00:00",
          "2020-07-31T00:00:00",
          "2020-08-01T00:00:00",
          "2020-08-02T00:00:00",
          "2020-08-03T00:00:00",
          "2020-08-04T00:00:00",
          "2020-08-05T00:00:00",
          "2020-08-06T00:00:00",
          "2020-08-07T00:00:00",
          "2020-08-08T00:00:00",
          "2020-08-09T00:00:00",
          "2020-08-10T00:00:00",
          "2020-08-11T00:00:00",
          "2020-08-12T00:00:00",
          "2020-08-13T00:00:00",
          "2020-08-14T00:00:00",
          "2020-08-15T00:00:00",
          "2020-08-16T00:00:00",
          "2020-08-17T00:00:00",
          "2020-08-18T00:00:00",
          "2020-08-19T00:00:00",
          "2020-08-20T00:00:00",
          "2020-08-21T00:00:00",
          "2020-08-22T00:00:00",
          "2020-08-23T00:00:00",
          "2020-08-24T00:00:00",
          "2020-08-25T00:00:00",
          "2020-08-26T00:00:00",
          "2020-08-27T00:00:00",
          "2020-08-28T00:00:00",
          "2020-08-29T00:00:00",
          "2020-08-30T00:00:00",
          "2020-08-31T00:00:00",
          "2020-09-01T00:00:00",
          "2020-09-02T00:00:00",
          "2020-09-03T00:00:00",
          "2020-09-04T00:00:00",
          "2020-09-05T00:00:00",
          "2020-09-06T00:00:00",
          "2020-09-07T00:00:00",
          "2020-09-08T00:00:00",
          "2020-09-09T00:00:00",
          "2020-09-10T00:00:00",
          "2020-09-11T00:00:00",
          "2020-09-12T00:00:00",
          "2020-09-13T00:00:00",
          "2020-09-14T00:00:00",
          "2020-09-15T00:00:00",
          "2020-09-16T00:00:00",
          "2020-09-17T00:00:00",
          "2020-09-18T00:00:00",
          "2020-09-19T00:00:00",
          "2020-09-20T00:00:00",
          "2020-09-21T00:00:00",
          "2020-09-22T00:00:00",
          "2020-09-23T00:00:00",
          "2020-09-24T00:00:00",
          "2020-09-25T00:00:00",
          "2020-09-26T00:00:00",
          "2020-09-27T00:00:00",
          "2020-09-28T00:00:00",
          "2020-09-29T00:00:00",
          "2020-09-30T00:00:00",
          "2020-10-01T00:00:00",
          "2020-10-02T00:00:00",
          "2020-10-03T00:00:00",
          "2020-10-04T00:00:00",
          "2020-10-05T00:00:00",
          "2020-10-06T00:00:00",
          "2020-10-07T00:00:00",
          "2020-10-08T00:00:00",
          "2020-10-09T00:00:00",
          "2020-10-10T00:00:00",
          "2020-10-11T00:00:00",
          "2020-10-12T00:00:00",
          "2020-10-13T00:00:00",
          "2020-10-14T00:00:00",
          "2020-10-15T00:00:00",
          "2020-10-16T00:00:00",
          "2020-10-17T00:00:00",
          "2020-10-18T00:00:00",
          "2020-10-19T00:00:00",
          "2020-10-20T00:00:00",
          "2020-10-21T00:00:00",
          "2020-10-22T00:00:00",
          "2020-10-23T00:00:00",
          "2020-10-24T00:00:00",
          "2020-10-25T00:00:00",
          "2020-10-26T00:00:00",
          "2020-10-27T00:00:00",
          "2020-10-28T00:00:00",
          "2020-10-29T00:00:00",
          "2020-10-30T00:00:00",
          "2020-10-31T00:00:00",
          "2020-11-01T00:00:00",
          "2020-11-02T00:00:00",
          "2020-11-03T00:00:00",
          "2020-11-04T00:00:00",
          "2020-11-05T00:00:00",
          "2020-11-06T00:00:00",
          "2020-11-07T00:00:00",
          "2020-11-08T00:00:00",
          "2020-11-09T00:00:00",
          "2020-11-10T00:00:00",
          "2020-11-11T00:00:00",
          "2020-11-12T00:00:00",
          "2020-11-13T00:00:00",
          "2020-11-14T00:00:00",
          "2020-11-15T00:00:00",
          "2020-11-16T00:00:00",
          "2020-11-17T00:00:00",
          "2020-11-18T00:00:00",
          "2020-11-19T00:00:00",
          "2020-11-20T00:00:00",
          "2020-11-21T00:00:00",
          "2020-11-22T00:00:00",
          "2020-11-23T00:00:00",
          "2020-11-24T00:00:00",
          "2020-11-25T00:00:00",
          "2020-11-26T00:00:00",
          "2020-11-27T00:00:00",
          "2020-11-28T00:00:00",
          "2020-11-29T00:00:00",
          "2020-11-30T00:00:00",
          "2020-12-01T00:00:00",
          "2020-12-02T00:00:00",
          "2020-12-03T00:00:00",
          "2020-12-04T00:00:00",
          "2020-12-05T00:00:00",
          "2020-12-06T00:00:00",
          "2020-12-07T00:00:00",
          "2020-12-08T00:00:00",
          "2020-12-09T00:00:00",
          "2020-12-10T00:00:00",
          "2020-12-11T00:00:00",
          "2020-12-12T00:00:00",
          "2020-12-13T00:00:00",
          "2020-12-14T00:00:00",
          "2020-12-15T00:00:00",
          "2020-12-16T00:00:00",
          "2020-12-17T00:00:00",
          "2020-12-18T00:00:00",
          "2020-12-19T00:00:00",
          "2020-12-20T00:00:00",
          "2020-12-21T00:00:00",
          "2020-12-22T00:00:00",
          "2020-12-23T00:00:00",
          "2020-12-24T00:00:00",
          "2020-12-25T00:00:00",
          "2020-12-26T00:00:00",
          "2020-12-27T00:00:00",
          "2020-12-28T00:00:00",
          "2020-12-29T00:00:00",
          "2020-12-30T00:00:00",
          "2020-12-31T00:00:00"
         ],
         "y": [
          0,
          0,
          1,
          1,
          1,
          2,
          3,
          3,
          4,
          4,
          4,
          5,
          5,
          4,
          4,
          4,
          4,
          3,
          3,
          3,
          3,
          3,
          3,
          4,
          5,
          5,
          5,
          5,
          5,
          4,
          4,
          5,
          6,
          10,
          11,
          12,
          14,
          14,
          14,
          14,
          11,
          11,
          11,
          12,
          13,
          14,
          15,
          15,
          15,
          15,
          16,
          17,
          20,
          23,
          27,
          29,
          31,
          32,
          36,
          38,
          40,
          39,
          40,
          39,
          41,
          44,
          46,
          48,
          51,
          53,
          53,
          63,
          67,
          74,
          85,
          97,
          104,
          111,
          120,
          131,
          141,
          152,
          156,
          160,
          162,
          164,
          172,
          174,
          172,
          178,
          178,
          178,
          198,
          211,
          232,
          249,
          272,
          282,
          286,
          293,
          306,
          314,
          311,
          309,
          312,
          313,
          316,
          317,
          321,
          338,
          348,
          350,
          352,
          362,
          376,
          389,
          403,
          406,
          401,
          406,
          418,
          425,
          443,
          448,
          446,
          452,
          450,
          440,
          453,
          444,
          442,
          451,
          451,
          455,
          470,
          468,
          456,
          458,
          448,
          439,
          434,
          424,
          398,
          382,
          356,
          355,
          357,
          352,
          338,
          337,
          345,
          358,
          352,
          350,
          349,
          339,
          327,
          328,
          324,
          336,
          334,
          341,
          362,
          371,
          375,
          377,
          371,
          377,
          378,
          385,
          392,
          380,
          374,
          372,
          361,
          358,
          337,
          335,
          335,
          339,
          337,
          338,
          335,
          347,
          319,
          286,
          269,
          254,
          251,
          245,
          215,
          218,
          225,
          218,
          206,
          202,
          201,
          205,
          201,
          211,
          213,
          226,
          222,
          220,
          204,
          199,
          198,
          198,
          194,
          198,
          202,
          217,
          230,
          231,
          234,
          238,
          241,
          244,
          255,
          276,
          297,
          310,
          324,
          331,
          334,
          357,
          372,
          373,
          379,
          378,
          376,
          378,
          336,
          325,
          330,
          341,
          351,
          357,
          363,
          405,
          420,
          438,
          447,
          462,
          477,
          472,
          428,
          452,
          464,
          486,
          509,
          510,
          516,
          599,
          621,
          637,
          658,
          673,
          682,
          689,
          683,
          687,
          691,
          680,
          660,
          647,
          642,
          651,
          647,
          650,
          668,
          662,
          673,
          674,
          690,
          683,
          664,
          628,
          619,
          612,
          622,
          597,
          590,
          572,
          534,
          468,
          466,
          465,
          459,
          434,
          374,
          324
         ]
        }
       ],
       "layout": {
        "hovermode": "x unified",
        "template": {
         "data": {
          "bar": [
           {
            "error_x": {
             "color": "#2a3f5f"
            },
            "error_y": {
             "color": "#2a3f5f"
            },
            "marker": {
             "line": {
              "color": "white",
              "width": 0.5
             }
            },
            "type": "bar"
           }
          ],
          "barpolar": [
           {
            "marker": {
             "line": {
              "color": "white",
              "width": 0.5
             }
            },
            "type": "barpolar"
           }
          ],
          "carpet": [
           {
            "aaxis": {
             "endlinecolor": "#2a3f5f",
             "gridcolor": "#C8D4E3",
             "linecolor": "#C8D4E3",
             "minorgridcolor": "#C8D4E3",
             "startlinecolor": "#2a3f5f"
            },
            "baxis": {
             "endlinecolor": "#2a3f5f",
             "gridcolor": "#C8D4E3",
             "linecolor": "#C8D4E3",
             "minorgridcolor": "#C8D4E3",
             "startlinecolor": "#2a3f5f"
            },
            "type": "carpet"
           }
          ],
          "choropleth": [
           {
            "colorbar": {
             "outlinewidth": 0,
             "ticks": ""
            },
            "type": "choropleth"
           }
          ],
          "contour": [
           {
            "colorbar": {
             "outlinewidth": 0,
             "ticks": ""
            },
            "colorscale": [
             [
              0,
              "#0d0887"
             ],
             [
              0.1111111111111111,
              "#46039f"
             ],
             [
              0.2222222222222222,
              "#7201a8"
             ],
             [
              0.3333333333333333,
              "#9c179e"
             ],
             [
              0.4444444444444444,
              "#bd3786"
             ],
             [
              0.5555555555555556,
              "#d8576b"
             ],
             [
              0.6666666666666666,
              "#ed7953"
             ],
             [
              0.7777777777777778,
              "#fb9f3a"
             ],
             [
              0.8888888888888888,
              "#fdca26"
             ],
             [
              1,
              "#f0f921"
             ]
            ],
            "type": "contour"
           }
          ],
          "contourcarpet": [
           {
            "colorbar": {
             "outlinewidth": 0,
             "ticks": ""
            },
            "type": "contourcarpet"
           }
          ],
          "heatmap": [
           {
            "colorbar": {
             "outlinewidth": 0,
             "ticks": ""
            },
            "colorscale": [
             [
              0,
              "#0d0887"
             ],
             [
              0.1111111111111111,
              "#46039f"
             ],
             [
              0.2222222222222222,
              "#7201a8"
             ],
             [
              0.3333333333333333,
              "#9c179e"
             ],
             [
              0.4444444444444444,
              "#bd3786"
             ],
             [
              0.5555555555555556,
              "#d8576b"
             ],
             [
              0.6666666666666666,
              "#ed7953"
             ],
             [
              0.7777777777777778,
              "#fb9f3a"
             ],
             [
              0.8888888888888888,
              "#fdca26"
             ],
             [
              1,
              "#f0f921"
             ]
            ],
            "type": "heatmap"
           }
          ],
          "heatmapgl": [
           {
            "colorbar": {
             "outlinewidth": 0,
             "ticks": ""
            },
            "colorscale": [
             [
              0,
              "#0d0887"
             ],
             [
              0.1111111111111111,
              "#46039f"
             ],
             [
              0.2222222222222222,
              "#7201a8"
             ],
             [
              0.3333333333333333,
              "#9c179e"
             ],
             [
              0.4444444444444444,
              "#bd3786"
             ],
             [
              0.5555555555555556,
              "#d8576b"
             ],
             [
              0.6666666666666666,
              "#ed7953"
             ],
             [
              0.7777777777777778,
              "#fb9f3a"
             ],
             [
              0.8888888888888888,
              "#fdca26"
             ],
             [
              1,
              "#f0f921"
             ]
            ],
            "type": "heatmapgl"
           }
          ],
          "histogram": [
           {
            "marker": {
             "colorbar": {
              "outlinewidth": 0,
              "ticks": ""
             }
            },
            "type": "histogram"
           }
          ],
          "histogram2d": [
           {
            "colorbar": {
             "outlinewidth": 0,
             "ticks": ""
            },
            "colorscale": [
             [
              0,
              "#0d0887"
             ],
             [
              0.1111111111111111,
              "#46039f"
             ],
             [
              0.2222222222222222,
              "#7201a8"
             ],
             [
              0.3333333333333333,
              "#9c179e"
             ],
             [
              0.4444444444444444,
              "#bd3786"
             ],
             [
              0.5555555555555556,
              "#d8576b"
             ],
             [
              0.6666666666666666,
              "#ed7953"
             ],
             [
              0.7777777777777778,
              "#fb9f3a"
             ],
             [
              0.8888888888888888,
              "#fdca26"
             ],
             [
              1,
              "#f0f921"
             ]
            ],
            "type": "histogram2d"
           }
          ],
          "histogram2dcontour": [
           {
            "colorbar": {
             "outlinewidth": 0,
             "ticks": ""
            },
            "colorscale": [
             [
              0,
              "#0d0887"
             ],
             [
              0.1111111111111111,
              "#46039f"
             ],
             [
              0.2222222222222222,
              "#7201a8"
             ],
             [
              0.3333333333333333,
              "#9c179e"
             ],
             [
              0.4444444444444444,
              "#bd3786"
             ],
             [
              0.5555555555555556,
              "#d8576b"
             ],
             [
              0.6666666666666666,
              "#ed7953"
             ],
             [
              0.7777777777777778,
              "#fb9f3a"
             ],
             [
              0.8888888888888888,
              "#fdca26"
             ],
             [
              1,
              "#f0f921"
             ]
            ],
            "type": "histogram2dcontour"
           }
          ],
          "mesh3d": [
           {
            "colorbar": {
             "outlinewidth": 0,
             "ticks": ""
            },
            "type": "mesh3d"
           }
          ],
          "parcoords": [
           {
            "line": {
             "colorbar": {
              "outlinewidth": 0,
              "ticks": ""
             }
            },
            "type": "parcoords"
           }
          ],
          "pie": [
           {
            "automargin": true,
            "type": "pie"
           }
          ],
          "scatter": [
           {
            "marker": {
             "colorbar": {
              "outlinewidth": 0,
              "ticks": ""
             }
            },
            "type": "scatter"
           }
          ],
          "scatter3d": [
           {
            "line": {
             "colorbar": {
              "outlinewidth": 0,
              "ticks": ""
             }
            },
            "marker": {
             "colorbar": {
              "outlinewidth": 0,
              "ticks": ""
             }
            },
            "type": "scatter3d"
           }
          ],
          "scattercarpet": [
           {
            "marker": {
             "colorbar": {
              "outlinewidth": 0,
              "ticks": ""
             }
            },
            "type": "scattercarpet"
           }
          ],
          "scattergeo": [
           {
            "marker": {
             "colorbar": {
              "outlinewidth": 0,
              "ticks": ""
             }
            },
            "type": "scattergeo"
           }
          ],
          "scattergl": [
           {
            "marker": {
             "colorbar": {
              "outlinewidth": 0,
              "ticks": ""
             }
            },
            "type": "scattergl"
           }
          ],
          "scattermapbox": [
           {
            "marker": {
             "colorbar": {
              "outlinewidth": 0,
              "ticks": ""
             }
            },
            "type": "scattermapbox"
           }
          ],
          "scatterpolar": [
           {
            "marker": {
             "colorbar": {
              "outlinewidth": 0,
              "ticks": ""
             }
            },
            "type": "scatterpolar"
           }
          ],
          "scatterpolargl": [
           {
            "marker": {
             "colorbar": {
              "outlinewidth": 0,
              "ticks": ""
             }
            },
            "type": "scatterpolargl"
           }
          ],
          "scatterternary": [
           {
            "marker": {
             "colorbar": {
              "outlinewidth": 0,
              "ticks": ""
             }
            },
            "type": "scatterternary"
           }
          ],
          "surface": [
           {
            "colorbar": {
             "outlinewidth": 0,
             "ticks": ""
            },
            "colorscale": [
             [
              0,
              "#0d0887"
             ],
             [
              0.1111111111111111,
              "#46039f"
             ],
             [
              0.2222222222222222,
              "#7201a8"
             ],
             [
              0.3333333333333333,
              "#9c179e"
             ],
             [
              0.4444444444444444,
              "#bd3786"
             ],
             [
              0.5555555555555556,
              "#d8576b"
             ],
             [
              0.6666666666666666,
              "#ed7953"
             ],
             [
              0.7777777777777778,
              "#fb9f3a"
             ],
             [
              0.8888888888888888,
              "#fdca26"
             ],
             [
              1,
              "#f0f921"
             ]
            ],
            "type": "surface"
           }
          ],
          "table": [
           {
            "cells": {
             "fill": {
              "color": "#EBF0F8"
             },
             "line": {
              "color": "white"
             }
            },
            "header": {
             "fill": {
              "color": "#C8D4E3"
             },
             "line": {
              "color": "white"
             }
            },
            "type": "table"
           }
          ]
         },
         "layout": {
          "annotationdefaults": {
           "arrowcolor": "#2a3f5f",
           "arrowhead": 0,
           "arrowwidth": 1
          },
          "coloraxis": {
           "colorbar": {
            "outlinewidth": 0,
            "ticks": ""
           }
          },
          "colorscale": {
           "diverging": [
            [
             0,
             "#8e0152"
            ],
            [
             0.1,
             "#c51b7d"
            ],
            [
             0.2,
             "#de77ae"
            ],
            [
             0.3,
             "#f1b6da"
            ],
            [
             0.4,
             "#fde0ef"
            ],
            [
             0.5,
             "#f7f7f7"
            ],
            [
             0.6,
             "#e6f5d0"
            ],
            [
             0.7,
             "#b8e186"
            ],
            [
             0.8,
             "#7fbc41"
            ],
            [
             0.9,
             "#4d9221"
            ],
            [
             1,
             "#276419"
            ]
           ],
           "sequential": [
            [
             0,
             "#0d0887"
            ],
            [
             0.1111111111111111,
             "#46039f"
            ],
            [
             0.2222222222222222,
             "#7201a8"
            ],
            [
             0.3333333333333333,
             "#9c179e"
            ],
            [
             0.4444444444444444,
             "#bd3786"
            ],
            [
             0.5555555555555556,
             "#d8576b"
            ],
            [
             0.6666666666666666,
             "#ed7953"
            ],
            [
             0.7777777777777778,
             "#fb9f3a"
            ],
            [
             0.8888888888888888,
             "#fdca26"
            ],
            [
             1,
             "#f0f921"
            ]
           ],
           "sequentialminus": [
            [
             0,
             "#0d0887"
            ],
            [
             0.1111111111111111,
             "#46039f"
            ],
            [
             0.2222222222222222,
             "#7201a8"
            ],
            [
             0.3333333333333333,
             "#9c179e"
            ],
            [
             0.4444444444444444,
             "#bd3786"
            ],
            [
             0.5555555555555556,
             "#d8576b"
            ],
            [
             0.6666666666666666,
             "#ed7953"
            ],
            [
             0.7777777777777778,
             "#fb9f3a"
            ],
            [
             0.8888888888888888,
             "#fdca26"
            ],
            [
             1,
             "#f0f921"
            ]
           ]
          },
          "colorway": [
           "#636efa",
           "#EF553B",
           "#00cc96",
           "#ab63fa",
           "#FFA15A",
           "#19d3f3",
           "#FF6692",
           "#B6E880",
           "#FF97FF",
           "#FECB52"
          ],
          "font": {
           "color": "#2a3f5f"
          },
          "geo": {
           "bgcolor": "white",
           "lakecolor": "white",
           "landcolor": "white",
           "showlakes": true,
           "showland": true,
           "subunitcolor": "#C8D4E3"
          },
          "hoverlabel": {
           "align": "left"
          },
          "hovermode": "closest",
          "mapbox": {
           "style": "light"
          },
          "paper_bgcolor": "white",
          "plot_bgcolor": "white",
          "polar": {
           "angularaxis": {
            "gridcolor": "#EBF0F8",
            "linecolor": "#EBF0F8",
            "ticks": ""
           },
           "bgcolor": "white",
           "radialaxis": {
            "gridcolor": "#EBF0F8",
            "linecolor": "#EBF0F8",
            "ticks": ""
           }
          },
          "scene": {
           "xaxis": {
            "backgroundcolor": "white",
            "gridcolor": "#DFE8F3",
            "gridwidth": 2,
            "linecolor": "#EBF0F8",
            "showbackground": true,
            "ticks": "",
            "zerolinecolor": "#EBF0F8"
           },
           "yaxis": {
            "backgroundcolor": "white",
            "gridcolor": "#DFE8F3",
            "gridwidth": 2,
            "linecolor": "#EBF0F8",
            "showbackground": true,
            "ticks": "",
            "zerolinecolor": "#EBF0F8"
           },
           "zaxis": {
            "backgroundcolor": "white",
            "gridcolor": "#DFE8F3",
            "gridwidth": 2,
            "linecolor": "#EBF0F8",
            "showbackground": true,
            "ticks": "",
            "zerolinecolor": "#EBF0F8"
           }
          },
          "shapedefaults": {
           "line": {
            "color": "#2a3f5f"
           }
          },
          "ternary": {
           "aaxis": {
            "gridcolor": "#DFE8F3",
            "linecolor": "#A2B1C6",
            "ticks": ""
           },
           "baxis": {
            "gridcolor": "#DFE8F3",
            "linecolor": "#A2B1C6",
            "ticks": ""
           },
           "bgcolor": "white",
           "caxis": {
            "gridcolor": "#DFE8F3",
            "linecolor": "#A2B1C6",
            "ticks": ""
           }
          },
          "title": {
           "x": 0.05
          },
          "xaxis": {
           "automargin": true,
           "gridcolor": "#EBF0F8",
           "linecolor": "#EBF0F8",
           "ticks": "",
           "title": {
            "standoff": 15
           },
           "zerolinecolor": "#EBF0F8",
           "zerolinewidth": 2
          },
          "yaxis": {
           "automargin": true,
           "gridcolor": "#EBF0F8",
           "linecolor": "#EBF0F8",
           "ticks": "",
           "title": {
            "standoff": 15
           },
           "zerolinecolor": "#EBF0F8",
           "zerolinewidth": 2
          }
         }
        },
        "title": {
         "text": "Nuevos casos de COVID-19 reportados diariamente en Guanajuato"
        },
        "width": 900,
        "xaxis": {
         "spikethickness": 0.4,
         "title": {
          "text": "Fecha de registro"
         }
        },
        "yaxis": {
         "title": {
          "text": "Nuevos casos confirmados"
         }
        }
       }
      }
     },
     "metadata": {}
    },
    {
     "output_type": "display_data",
     "data": {
      "application/vnd.plotly.v1+json": {
       "config": {
        "plotlyServerURL": "https://plot.ly"
       },
       "data": [
        {
         "marker": {
          "color": "#546e7a",
          "opacity": 0.75
         },
         "name": "Nuevas defunciones",
         "type": "bar",
         "x": [
          "2020-04-05T00:00:00",
          "2020-04-07T00:00:00",
          "2020-04-09T00:00:00",
          "2020-04-10T00:00:00",
          "2020-04-14T00:00:00",
          "2020-04-15T00:00:00",
          "2020-04-17T00:00:00",
          "2020-04-21T00:00:00",
          "2020-04-22T00:00:00",
          "2020-04-23T00:00:00",
          "2020-04-24T00:00:00",
          "2020-04-25T00:00:00",
          "2020-04-26T00:00:00",
          "2020-04-29T00:00:00",
          "2020-04-30T00:00:00",
          "2020-05-01T00:00:00",
          "2020-05-02T00:00:00",
          "2020-05-03T00:00:00",
          "2020-05-04T00:00:00",
          "2020-05-05T00:00:00",
          "2020-05-06T00:00:00",
          "2020-05-07T00:00:00",
          "2020-05-08T00:00:00",
          "2020-05-09T00:00:00",
          "2020-05-10T00:00:00",
          "2020-05-11T00:00:00",
          "2020-05-12T00:00:00",
          "2020-05-13T00:00:00",
          "2020-05-14T00:00:00",
          "2020-05-15T00:00:00",
          "2020-05-16T00:00:00",
          "2020-05-17T00:00:00",
          "2020-05-18T00:00:00",
          "2020-05-19T00:00:00",
          "2020-05-20T00:00:00",
          "2020-05-21T00:00:00",
          "2020-05-22T00:00:00",
          "2020-05-23T00:00:00",
          "2020-05-24T00:00:00",
          "2020-05-25T00:00:00",
          "2020-05-26T00:00:00",
          "2020-05-27T00:00:00",
          "2020-05-28T00:00:00",
          "2020-05-29T00:00:00",
          "2020-05-30T00:00:00",
          "2020-05-31T00:00:00",
          "2020-06-01T00:00:00",
          "2020-06-02T00:00:00",
          "2020-06-03T00:00:00",
          "2020-06-04T00:00:00",
          "2020-06-05T00:00:00",
          "2020-06-06T00:00:00",
          "2020-06-07T00:00:00",
          "2020-06-08T00:00:00",
          "2020-06-09T00:00:00",
          "2020-06-10T00:00:00",
          "2020-06-11T00:00:00",
          "2020-06-12T00:00:00",
          "2020-06-13T00:00:00",
          "2020-06-14T00:00:00",
          "2020-06-15T00:00:00",
          "2020-06-16T00:00:00",
          "2020-06-17T00:00:00",
          "2020-06-18T00:00:00",
          "2020-06-19T00:00:00",
          "2020-06-20T00:00:00",
          "2020-06-21T00:00:00",
          "2020-06-22T00:00:00",
          "2020-06-23T00:00:00",
          "2020-06-24T00:00:00",
          "2020-06-25T00:00:00",
          "2020-06-26T00:00:00",
          "2020-06-27T00:00:00",
          "2020-06-28T00:00:00",
          "2020-06-29T00:00:00",
          "2020-06-30T00:00:00",
          "2020-07-01T00:00:00",
          "2020-07-02T00:00:00",
          "2020-07-03T00:00:00",
          "2020-07-04T00:00:00",
          "2020-07-05T00:00:00",
          "2020-07-06T00:00:00",
          "2020-07-07T00:00:00",
          "2020-07-08T00:00:00",
          "2020-07-09T00:00:00",
          "2020-07-10T00:00:00",
          "2020-07-11T00:00:00",
          "2020-07-12T00:00:00",
          "2020-07-13T00:00:00",
          "2020-07-14T00:00:00",
          "2020-07-15T00:00:00",
          "2020-07-16T00:00:00",
          "2020-07-17T00:00:00",
          "2020-07-18T00:00:00",
          "2020-07-19T00:00:00",
          "2020-07-20T00:00:00",
          "2020-07-21T00:00:00",
          "2020-07-22T00:00:00",
          "2020-07-23T00:00:00",
          "2020-07-24T00:00:00",
          "2020-07-25T00:00:00",
          "2020-07-26T00:00:00",
          "2020-07-27T00:00:00",
          "2020-07-28T00:00:00",
          "2020-07-29T00:00:00",
          "2020-07-30T00:00:00",
          "2020-07-31T00:00:00",
          "2020-08-01T00:00:00",
          "2020-08-02T00:00:00",
          "2020-08-03T00:00:00",
          "2020-08-04T00:00:00",
          "2020-08-05T00:00:00",
          "2020-08-06T00:00:00",
          "2020-08-07T00:00:00",
          "2020-08-08T00:00:00",
          "2020-08-09T00:00:00",
          "2020-08-10T00:00:00",
          "2020-08-11T00:00:00",
          "2020-08-12T00:00:00",
          "2020-08-13T00:00:00",
          "2020-08-14T00:00:00",
          "2020-08-15T00:00:00",
          "2020-08-16T00:00:00",
          "2020-08-17T00:00:00",
          "2020-08-18T00:00:00",
          "2020-08-19T00:00:00",
          "2020-08-20T00:00:00",
          "2020-08-21T00:00:00",
          "2020-08-22T00:00:00",
          "2020-08-23T00:00:00",
          "2020-08-24T00:00:00",
          "2020-08-25T00:00:00",
          "2020-08-26T00:00:00",
          "2020-08-27T00:00:00",
          "2020-08-28T00:00:00",
          "2020-08-29T00:00:00",
          "2020-08-30T00:00:00",
          "2020-08-31T00:00:00",
          "2020-09-01T00:00:00",
          "2020-09-02T00:00:00",
          "2020-09-03T00:00:00",
          "2020-09-04T00:00:00",
          "2020-09-05T00:00:00",
          "2020-09-06T00:00:00",
          "2020-09-07T00:00:00",
          "2020-09-08T00:00:00",
          "2020-09-09T00:00:00",
          "2020-09-10T00:00:00",
          "2020-09-11T00:00:00",
          "2020-09-12T00:00:00",
          "2020-09-13T00:00:00",
          "2020-09-14T00:00:00",
          "2020-09-15T00:00:00",
          "2020-09-16T00:00:00",
          "2020-09-17T00:00:00",
          "2020-09-18T00:00:00",
          "2020-09-19T00:00:00",
          "2020-09-20T00:00:00",
          "2020-09-21T00:00:00",
          "2020-09-22T00:00:00",
          "2020-09-23T00:00:00",
          "2020-09-24T00:00:00",
          "2020-09-25T00:00:00",
          "2020-09-26T00:00:00",
          "2020-09-27T00:00:00",
          "2020-09-28T00:00:00",
          "2020-09-29T00:00:00",
          "2020-09-30T00:00:00",
          "2020-10-01T00:00:00",
          "2020-10-02T00:00:00",
          "2020-10-03T00:00:00",
          "2020-10-04T00:00:00",
          "2020-10-05T00:00:00",
          "2020-10-06T00:00:00",
          "2020-10-07T00:00:00",
          "2020-10-08T00:00:00",
          "2020-10-09T00:00:00",
          "2020-10-10T00:00:00",
          "2020-10-11T00:00:00",
          "2020-10-12T00:00:00",
          "2020-10-13T00:00:00",
          "2020-10-14T00:00:00",
          "2020-10-15T00:00:00",
          "2020-10-16T00:00:00",
          "2020-10-17T00:00:00",
          "2020-10-18T00:00:00",
          "2020-10-19T00:00:00",
          "2020-10-20T00:00:00",
          "2020-10-21T00:00:00",
          "2020-10-22T00:00:00",
          "2020-10-23T00:00:00",
          "2020-10-24T00:00:00",
          "2020-10-25T00:00:00",
          "2020-10-26T00:00:00",
          "2020-10-27T00:00:00",
          "2020-10-28T00:00:00",
          "2020-10-29T00:00:00",
          "2020-10-30T00:00:00",
          "2020-10-31T00:00:00",
          "2020-11-01T00:00:00",
          "2020-11-02T00:00:00",
          "2020-11-03T00:00:00",
          "2020-11-04T00:00:00",
          "2020-11-05T00:00:00",
          "2020-11-06T00:00:00",
          "2020-11-07T00:00:00",
          "2020-11-08T00:00:00",
          "2020-11-09T00:00:00",
          "2020-11-10T00:00:00",
          "2020-11-11T00:00:00",
          "2020-11-12T00:00:00",
          "2020-11-13T00:00:00",
          "2020-11-14T00:00:00",
          "2020-11-15T00:00:00",
          "2020-11-16T00:00:00",
          "2020-11-17T00:00:00",
          "2020-11-18T00:00:00",
          "2020-11-19T00:00:00",
          "2020-11-20T00:00:00",
          "2020-11-21T00:00:00",
          "2020-11-22T00:00:00",
          "2020-11-23T00:00:00",
          "2020-11-24T00:00:00",
          "2020-11-25T00:00:00",
          "2020-11-26T00:00:00",
          "2020-11-27T00:00:00",
          "2020-11-28T00:00:00",
          "2020-11-29T00:00:00",
          "2020-11-30T00:00:00",
          "2020-12-01T00:00:00",
          "2020-12-02T00:00:00",
          "2020-12-03T00:00:00",
          "2020-12-04T00:00:00",
          "2020-12-05T00:00:00",
          "2020-12-06T00:00:00",
          "2020-12-07T00:00:00",
          "2020-12-08T00:00:00",
          "2020-12-09T00:00:00",
          "2020-12-10T00:00:00",
          "2020-12-11T00:00:00",
          "2020-12-12T00:00:00",
          "2020-12-13T00:00:00",
          "2020-12-14T00:00:00",
          "2020-12-15T00:00:00",
          "2020-12-16T00:00:00",
          "2020-12-17T00:00:00",
          "2020-12-18T00:00:00",
          "2020-12-19T00:00:00",
          "2020-12-20T00:00:00",
          "2020-12-21T00:00:00",
          "2020-12-22T00:00:00",
          "2020-12-23T00:00:00",
          "2020-12-24T00:00:00",
          "2020-12-25T00:00:00",
          "2020-12-26T00:00:00",
          "2020-12-27T00:00:00",
          "2020-12-28T00:00:00",
          "2020-12-29T00:00:00",
          "2020-12-30T00:00:00",
          "2020-12-31T00:00:00"
         ],
         "y": [
          2,
          1,
          1,
          1,
          2,
          1,
          3,
          2,
          3,
          3,
          1,
          3,
          2,
          2,
          3,
          3,
          2,
          3,
          3,
          2,
          3,
          4,
          6,
          4,
          1,
          3,
          1,
          4,
          2,
          6,
          3,
          2,
          6,
          4,
          2,
          5,
          6,
          6,
          4,
          8,
          5,
          6,
          8,
          2,
          7,
          6,
          2,
          5,
          6,
          8,
          11,
          17,
          14,
          14,
          11,
          19,
          17,
          15,
          19,
          14,
          23,
          22,
          17,
          26,
          24,
          27,
          16,
          29,
          26,
          26,
          25,
          22,
          27,
          23,
          40,
          31,
          29,
          44,
          36,
          37,
          32,
          34,
          36,
          43,
          39,
          33,
          33,
          39,
          28,
          35,
          37,
          31,
          32,
          43,
          31,
          36,
          43,
          37,
          23,
          52,
          40,
          40,
          44,
          37,
          36,
          39,
          31,
          40,
          30,
          28,
          37,
          42,
          36,
          31,
          40,
          34,
          34,
          25,
          21,
          21,
          32,
          22,
          21,
          33,
          27,
          28,
          29,
          22,
          35,
          24,
          16,
          25,
          20,
          24,
          23,
          20,
          20,
          30,
          23,
          20,
          18,
          23,
          21,
          14,
          12,
          12,
          16,
          17,
          25,
          19,
          14,
          20,
          17,
          11,
          9,
          10,
          20,
          25,
          8,
          21,
          7,
          9,
          11,
          13,
          11,
          7,
          12,
          13,
          10,
          13,
          17,
          11,
          15,
          11,
          22,
          10,
          10,
          11,
          16,
          6,
          13,
          12,
          11,
          8,
          11,
          9,
          5,
          14,
          18,
          15,
          11,
          14,
          12,
          14,
          20,
          16,
          11,
          14,
          13,
          12,
          7,
          20,
          12,
          9,
          14,
          18,
          21,
          20,
          14,
          15,
          21,
          16,
          16,
          21,
          27,
          28,
          18,
          21,
          25,
          28,
          29,
          32,
          24,
          27,
          27,
          36,
          39,
          35,
          43,
          41,
          41,
          30,
          22,
          35,
          40,
          30,
          35,
          47,
          39,
          45,
          39,
          34,
          45,
          34,
          35,
          28,
          38,
          41,
          34,
          39,
          36,
          42,
          44,
          36,
          34,
          28,
          35,
          48,
          23,
          8
         ]
        },
        {
         "line": {
          "color": "black",
          "width": 2.5
         },
         "mode": "lines",
         "name": "Promedio de 7 días",
         "type": "scatter",
         "x": [
          "2020-04-05T00:00:00",
          "2020-04-07T00:00:00",
          "2020-04-09T00:00:00",
          "2020-04-10T00:00:00",
          "2020-04-14T00:00:00",
          "2020-04-15T00:00:00",
          "2020-04-17T00:00:00",
          "2020-04-21T00:00:00",
          "2020-04-22T00:00:00",
          "2020-04-23T00:00:00",
          "2020-04-24T00:00:00",
          "2020-04-25T00:00:00",
          "2020-04-26T00:00:00",
          "2020-04-29T00:00:00",
          "2020-04-30T00:00:00",
          "2020-05-01T00:00:00",
          "2020-05-02T00:00:00",
          "2020-05-03T00:00:00",
          "2020-05-04T00:00:00",
          "2020-05-05T00:00:00",
          "2020-05-06T00:00:00",
          "2020-05-07T00:00:00",
          "2020-05-08T00:00:00",
          "2020-05-09T00:00:00",
          "2020-05-10T00:00:00",
          "2020-05-11T00:00:00",
          "2020-05-12T00:00:00",
          "2020-05-13T00:00:00",
          "2020-05-14T00:00:00",
          "2020-05-15T00:00:00",
          "2020-05-16T00:00:00",
          "2020-05-17T00:00:00",
          "2020-05-18T00:00:00",
          "2020-05-19T00:00:00",
          "2020-05-20T00:00:00",
          "2020-05-21T00:00:00",
          "2020-05-22T00:00:00",
          "2020-05-23T00:00:00",
          "2020-05-24T00:00:00",
          "2020-05-25T00:00:00",
          "2020-05-26T00:00:00",
          "2020-05-27T00:00:00",
          "2020-05-28T00:00:00",
          "2020-05-29T00:00:00",
          "2020-05-30T00:00:00",
          "2020-05-31T00:00:00",
          "2020-06-01T00:00:00",
          "2020-06-02T00:00:00",
          "2020-06-03T00:00:00",
          "2020-06-04T00:00:00",
          "2020-06-05T00:00:00",
          "2020-06-06T00:00:00",
          "2020-06-07T00:00:00",
          "2020-06-08T00:00:00",
          "2020-06-09T00:00:00",
          "2020-06-10T00:00:00",
          "2020-06-11T00:00:00",
          "2020-06-12T00:00:00",
          "2020-06-13T00:00:00",
          "2020-06-14T00:00:00",
          "2020-06-15T00:00:00",
          "2020-06-16T00:00:00",
          "2020-06-17T00:00:00",
          "2020-06-18T00:00:00",
          "2020-06-19T00:00:00",
          "2020-06-20T00:00:00",
          "2020-06-21T00:00:00",
          "2020-06-22T00:00:00",
          "2020-06-23T00:00:00",
          "2020-06-24T00:00:00",
          "2020-06-25T00:00:00",
          "2020-06-26T00:00:00",
          "2020-06-27T00:00:00",
          "2020-06-28T00:00:00",
          "2020-06-29T00:00:00",
          "2020-06-30T00:00:00",
          "2020-07-01T00:00:00",
          "2020-07-02T00:00:00",
          "2020-07-03T00:00:00",
          "2020-07-04T00:00:00",
          "2020-07-05T00:00:00",
          "2020-07-06T00:00:00",
          "2020-07-07T00:00:00",
          "2020-07-08T00:00:00",
          "2020-07-09T00:00:00",
          "2020-07-10T00:00:00",
          "2020-07-11T00:00:00",
          "2020-07-12T00:00:00",
          "2020-07-13T00:00:00",
          "2020-07-14T00:00:00",
          "2020-07-15T00:00:00",
          "2020-07-16T00:00:00",
          "2020-07-17T00:00:00",
          "2020-07-18T00:00:00",
          "2020-07-19T00:00:00",
          "2020-07-20T00:00:00",
          "2020-07-21T00:00:00",
          "2020-07-22T00:00:00",
          "2020-07-23T00:00:00",
          "2020-07-24T00:00:00",
          "2020-07-25T00:00:00",
          "2020-07-26T00:00:00",
          "2020-07-27T00:00:00",
          "2020-07-28T00:00:00",
          "2020-07-29T00:00:00",
          "2020-07-30T00:00:00",
          "2020-07-31T00:00:00",
          "2020-08-01T00:00:00",
          "2020-08-02T00:00:00",
          "2020-08-03T00:00:00",
          "2020-08-04T00:00:00",
          "2020-08-05T00:00:00",
          "2020-08-06T00:00:00",
          "2020-08-07T00:00:00",
          "2020-08-08T00:00:00",
          "2020-08-09T00:00:00",
          "2020-08-10T00:00:00",
          "2020-08-11T00:00:00",
          "2020-08-12T00:00:00",
          "2020-08-13T00:00:00",
          "2020-08-14T00:00:00",
          "2020-08-15T00:00:00",
          "2020-08-16T00:00:00",
          "2020-08-17T00:00:00",
          "2020-08-18T00:00:00",
          "2020-08-19T00:00:00",
          "2020-08-20T00:00:00",
          "2020-08-21T00:00:00",
          "2020-08-22T00:00:00",
          "2020-08-23T00:00:00",
          "2020-08-24T00:00:00",
          "2020-08-25T00:00:00",
          "2020-08-26T00:00:00",
          "2020-08-27T00:00:00",
          "2020-08-28T00:00:00",
          "2020-08-29T00:00:00",
          "2020-08-30T00:00:00",
          "2020-08-31T00:00:00",
          "2020-09-01T00:00:00",
          "2020-09-02T00:00:00",
          "2020-09-03T00:00:00",
          "2020-09-04T00:00:00",
          "2020-09-05T00:00:00",
          "2020-09-06T00:00:00",
          "2020-09-07T00:00:00",
          "2020-09-08T00:00:00",
          "2020-09-09T00:00:00",
          "2020-09-10T00:00:00",
          "2020-09-11T00:00:00",
          "2020-09-12T00:00:00",
          "2020-09-13T00:00:00",
          "2020-09-14T00:00:00",
          "2020-09-15T00:00:00",
          "2020-09-16T00:00:00",
          "2020-09-17T00:00:00",
          "2020-09-18T00:00:00",
          "2020-09-19T00:00:00",
          "2020-09-20T00:00:00",
          "2020-09-21T00:00:00",
          "2020-09-22T00:00:00",
          "2020-09-23T00:00:00",
          "2020-09-24T00:00:00",
          "2020-09-25T00:00:00",
          "2020-09-26T00:00:00",
          "2020-09-27T00:00:00",
          "2020-09-28T00:00:00",
          "2020-09-29T00:00:00",
          "2020-09-30T00:00:00",
          "2020-10-01T00:00:00",
          "2020-10-02T00:00:00",
          "2020-10-03T00:00:00",
          "2020-10-04T00:00:00",
          "2020-10-05T00:00:00",
          "2020-10-06T00:00:00",
          "2020-10-07T00:00:00",
          "2020-10-08T00:00:00",
          "2020-10-09T00:00:00",
          "2020-10-10T00:00:00",
          "2020-10-11T00:00:00",
          "2020-10-12T00:00:00",
          "2020-10-13T00:00:00",
          "2020-10-14T00:00:00",
          "2020-10-15T00:00:00",
          "2020-10-16T00:00:00",
          "2020-10-17T00:00:00",
          "2020-10-18T00:00:00",
          "2020-10-19T00:00:00",
          "2020-10-20T00:00:00",
          "2020-10-21T00:00:00",
          "2020-10-22T00:00:00",
          "2020-10-23T00:00:00",
          "2020-10-24T00:00:00",
          "2020-10-25T00:00:00",
          "2020-10-26T00:00:00",
          "2020-10-27T00:00:00",
          "2020-10-28T00:00:00",
          "2020-10-29T00:00:00",
          "2020-10-30T00:00:00",
          "2020-10-31T00:00:00",
          "2020-11-01T00:00:00",
          "2020-11-02T00:00:00",
          "2020-11-03T00:00:00",
          "2020-11-04T00:00:00",
          "2020-11-05T00:00:00",
          "2020-11-06T00:00:00",
          "2020-11-07T00:00:00",
          "2020-11-08T00:00:00",
          "2020-11-09T00:00:00",
          "2020-11-10T00:00:00",
          "2020-11-11T00:00:00",
          "2020-11-12T00:00:00",
          "2020-11-13T00:00:00",
          "2020-11-14T00:00:00",
          "2020-11-15T00:00:00",
          "2020-11-16T00:00:00",
          "2020-11-17T00:00:00",
          "2020-11-18T00:00:00",
          "2020-11-19T00:00:00",
          "2020-11-20T00:00:00",
          "2020-11-21T00:00:00",
          "2020-11-22T00:00:00",
          "2020-11-23T00:00:00",
          "2020-11-24T00:00:00",
          "2020-11-25T00:00:00",
          "2020-11-26T00:00:00",
          "2020-11-27T00:00:00",
          "2020-11-28T00:00:00",
          "2020-11-29T00:00:00",
          "2020-11-30T00:00:00",
          "2020-12-01T00:00:00",
          "2020-12-02T00:00:00",
          "2020-12-03T00:00:00",
          "2020-12-04T00:00:00",
          "2020-12-05T00:00:00",
          "2020-12-06T00:00:00",
          "2020-12-07T00:00:00",
          "2020-12-08T00:00:00",
          "2020-12-09T00:00:00",
          "2020-12-10T00:00:00",
          "2020-12-11T00:00:00",
          "2020-12-12T00:00:00",
          "2020-12-13T00:00:00",
          "2020-12-14T00:00:00",
          "2020-12-15T00:00:00",
          "2020-12-16T00:00:00",
          "2020-12-17T00:00:00",
          "2020-12-18T00:00:00",
          "2020-12-19T00:00:00",
          "2020-12-20T00:00:00",
          "2020-12-21T00:00:00",
          "2020-12-22T00:00:00",
          "2020-12-23T00:00:00",
          "2020-12-24T00:00:00",
          "2020-12-25T00:00:00",
          "2020-12-26T00:00:00",
          "2020-12-27T00:00:00",
          "2020-12-28T00:00:00",
          "2020-12-29T00:00:00",
          "2020-12-30T00:00:00",
          "2020-12-31T00:00:00"
         ],
         "y": [
          0,
          0,
          1,
          1,
          1,
          1,
          2,
          2,
          2,
          2,
          2,
          2,
          2,
          2,
          2,
          2,
          2,
          3,
          3,
          3,
          3,
          3,
          3,
          4,
          3,
          3,
          3,
          3,
          3,
          3,
          3,
          3,
          3,
          4,
          4,
          4,
          4,
          4,
          5,
          5,
          5,
          6,
          6,
          6,
          6,
          6,
          5,
          5,
          5,
          5,
          6,
          8,
          9,
          11,
          12,
          13,
          15,
          15,
          16,
          16,
          17,
          18,
          18,
          19,
          21,
          22,
          22,
          23,
          24,
          25,
          25,
          24,
          24,
          25,
          27,
          28,
          28,
          31,
          33,
          34,
          36,
          35,
          35,
          37,
          37,
          36,
          36,
          37,
          36,
          36,
          35,
          34,
          34,
          35,
          34,
          35,
          36,
          36,
          35,
          38,
          37,
          39,
          40,
          39,
          39,
          41,
          38,
          38,
          37,
          34,
          34,
          35,
          35,
          35,
          35,
          35,
          36,
          35,
          32,
          29,
          30,
          27,
          25,
          25,
          25,
          26,
          27,
          26,
          28,
          28,
          26,
          26,
          24,
          24,
          24,
          22,
          21,
          23,
          23,
          23,
          22,
          22,
          22,
          21,
          19,
          17,
          17,
          16,
          17,
          16,
          16,
          18,
          18,
          18,
          16,
          14,
          14,
          16,
          14,
          15,
          14,
          14,
          14,
          13,
          11,
          11,
          10,
          11,
          11,
          11,
          12,
          12,
          13,
          13,
          14,
          14,
          14,
          13,
          14,
          12,
          13,
          11,
          11,
          11,
          11,
          10,
          10,
          10,
          11,
          11,
          12,
          12,
          13,
          14,
          15,
          15,
          14,
          14,
          14,
          14,
          13,
          13,
          13,
          12,
          12,
          13,
          14,
          16,
          15,
          16,
          18,
          18,
          18,
          18,
          19,
          21,
          21,
          21,
          22,
          24,
          25,
          26,
          25,
          27,
          27,
          29,
          31,
          31,
          33,
          35,
          37,
          38,
          36,
          35,
          36,
          34,
          33,
          34,
          35,
          39,
          39,
          38,
          41,
          40,
          39,
          37,
          36,
          36,
          36,
          36,
          36,
          37,
          39,
          39,
          38,
          37,
          36,
          38,
          35,
          30
         ]
        }
       ],
       "layout": {
        "hovermode": "x unified",
        "template": {
         "data": {
          "bar": [
           {
            "error_x": {
             "color": "#2a3f5f"
            },
            "error_y": {
             "color": "#2a3f5f"
            },
            "marker": {
             "line": {
              "color": "white",
              "width": 0.5
             }
            },
            "type": "bar"
           }
          ],
          "barpolar": [
           {
            "marker": {
             "line": {
              "color": "white",
              "width": 0.5
             }
            },
            "type": "barpolar"
           }
          ],
          "carpet": [
           {
            "aaxis": {
             "endlinecolor": "#2a3f5f",
             "gridcolor": "#C8D4E3",
             "linecolor": "#C8D4E3",
             "minorgridcolor": "#C8D4E3",
             "startlinecolor": "#2a3f5f"
            },
            "baxis": {
             "endlinecolor": "#2a3f5f",
             "gridcolor": "#C8D4E3",
             "linecolor": "#C8D4E3",
             "minorgridcolor": "#C8D4E3",
             "startlinecolor": "#2a3f5f"
            },
            "type": "carpet"
           }
          ],
          "choropleth": [
           {
            "colorbar": {
             "outlinewidth": 0,
             "ticks": ""
            },
            "type": "choropleth"
           }
          ],
          "contour": [
           {
            "colorbar": {
             "outlinewidth": 0,
             "ticks": ""
            },
            "colorscale": [
             [
              0,
              "#0d0887"
             ],
             [
              0.1111111111111111,
              "#46039f"
             ],
             [
              0.2222222222222222,
              "#7201a8"
             ],
             [
              0.3333333333333333,
              "#9c179e"
             ],
             [
              0.4444444444444444,
              "#bd3786"
             ],
             [
              0.5555555555555556,
              "#d8576b"
             ],
             [
              0.6666666666666666,
              "#ed7953"
             ],
             [
              0.7777777777777778,
              "#fb9f3a"
             ],
             [
              0.8888888888888888,
              "#fdca26"
             ],
             [
              1,
              "#f0f921"
             ]
            ],
            "type": "contour"
           }
          ],
          "contourcarpet": [
           {
            "colorbar": {
             "outlinewidth": 0,
             "ticks": ""
            },
            "type": "contourcarpet"
           }
          ],
          "heatmap": [
           {
            "colorbar": {
             "outlinewidth": 0,
             "ticks": ""
            },
            "colorscale": [
             [
              0,
              "#0d0887"
             ],
             [
              0.1111111111111111,
              "#46039f"
             ],
             [
              0.2222222222222222,
              "#7201a8"
             ],
             [
              0.3333333333333333,
              "#9c179e"
             ],
             [
              0.4444444444444444,
              "#bd3786"
             ],
             [
              0.5555555555555556,
              "#d8576b"
             ],
             [
              0.6666666666666666,
              "#ed7953"
             ],
             [
              0.7777777777777778,
              "#fb9f3a"
             ],
             [
              0.8888888888888888,
              "#fdca26"
             ],
             [
              1,
              "#f0f921"
             ]
            ],
            "type": "heatmap"
           }
          ],
          "heatmapgl": [
           {
            "colorbar": {
             "outlinewidth": 0,
             "ticks": ""
            },
            "colorscale": [
             [
              0,
              "#0d0887"
             ],
             [
              0.1111111111111111,
              "#46039f"
             ],
             [
              0.2222222222222222,
              "#7201a8"
             ],
             [
              0.3333333333333333,
              "#9c179e"
             ],
             [
              0.4444444444444444,
              "#bd3786"
             ],
             [
              0.5555555555555556,
              "#d8576b"
             ],
             [
              0.6666666666666666,
              "#ed7953"
             ],
             [
              0.7777777777777778,
              "#fb9f3a"
             ],
             [
              0.8888888888888888,
              "#fdca26"
             ],
             [
              1,
              "#f0f921"
             ]
            ],
            "type": "heatmapgl"
           }
          ],
          "histogram": [
           {
            "marker": {
             "colorbar": {
              "outlinewidth": 0,
              "ticks": ""
             }
            },
            "type": "histogram"
           }
          ],
          "histogram2d": [
           {
            "colorbar": {
             "outlinewidth": 0,
             "ticks": ""
            },
            "colorscale": [
             [
              0,
              "#0d0887"
             ],
             [
              0.1111111111111111,
              "#46039f"
             ],
             [
              0.2222222222222222,
              "#7201a8"
             ],
             [
              0.3333333333333333,
              "#9c179e"
             ],
             [
              0.4444444444444444,
              "#bd3786"
             ],
             [
              0.5555555555555556,
              "#d8576b"
             ],
             [
              0.6666666666666666,
              "#ed7953"
             ],
             [
              0.7777777777777778,
              "#fb9f3a"
             ],
             [
              0.8888888888888888,
              "#fdca26"
             ],
             [
              1,
              "#f0f921"
             ]
            ],
            "type": "histogram2d"
           }
          ],
          "histogram2dcontour": [
           {
            "colorbar": {
             "outlinewidth": 0,
             "ticks": ""
            },
            "colorscale": [
             [
              0,
              "#0d0887"
             ],
             [
              0.1111111111111111,
              "#46039f"
             ],
             [
              0.2222222222222222,
              "#7201a8"
             ],
             [
              0.3333333333333333,
              "#9c179e"
             ],
             [
              0.4444444444444444,
              "#bd3786"
             ],
             [
              0.5555555555555556,
              "#d8576b"
             ],
             [
              0.6666666666666666,
              "#ed7953"
             ],
             [
              0.7777777777777778,
              "#fb9f3a"
             ],
             [
              0.8888888888888888,
              "#fdca26"
             ],
             [
              1,
              "#f0f921"
             ]
            ],
            "type": "histogram2dcontour"
           }
          ],
          "mesh3d": [
           {
            "colorbar": {
             "outlinewidth": 0,
             "ticks": ""
            },
            "type": "mesh3d"
           }
          ],
          "parcoords": [
           {
            "line": {
             "colorbar": {
              "outlinewidth": 0,
              "ticks": ""
             }
            },
            "type": "parcoords"
           }
          ],
          "pie": [
           {
            "automargin": true,
            "type": "pie"
           }
          ],
          "scatter": [
           {
            "marker": {
             "colorbar": {
              "outlinewidth": 0,
              "ticks": ""
             }
            },
            "type": "scatter"
           }
          ],
          "scatter3d": [
           {
            "line": {
             "colorbar": {
              "outlinewidth": 0,
              "ticks": ""
             }
            },
            "marker": {
             "colorbar": {
              "outlinewidth": 0,
              "ticks": ""
             }
            },
            "type": "scatter3d"
           }
          ],
          "scattercarpet": [
           {
            "marker": {
             "colorbar": {
              "outlinewidth": 0,
              "ticks": ""
             }
            },
            "type": "scattercarpet"
           }
          ],
          "scattergeo": [
           {
            "marker": {
             "colorbar": {
              "outlinewidth": 0,
              "ticks": ""
             }
            },
            "type": "scattergeo"
           }
          ],
          "scattergl": [
           {
            "marker": {
             "colorbar": {
              "outlinewidth": 0,
              "ticks": ""
             }
            },
            "type": "scattergl"
           }
          ],
          "scattermapbox": [
           {
            "marker": {
             "colorbar": {
              "outlinewidth": 0,
              "ticks": ""
             }
            },
            "type": "scattermapbox"
           }
          ],
          "scatterpolar": [
           {
            "marker": {
             "colorbar": {
              "outlinewidth": 0,
              "ticks": ""
             }
            },
            "type": "scatterpolar"
           }
          ],
          "scatterpolargl": [
           {
            "marker": {
             "colorbar": {
              "outlinewidth": 0,
              "ticks": ""
             }
            },
            "type": "scatterpolargl"
           }
          ],
          "scatterternary": [
           {
            "marker": {
             "colorbar": {
              "outlinewidth": 0,
              "ticks": ""
             }
            },
            "type": "scatterternary"
           }
          ],
          "surface": [
           {
            "colorbar": {
             "outlinewidth": 0,
             "ticks": ""
            },
            "colorscale": [
             [
              0,
              "#0d0887"
             ],
             [
              0.1111111111111111,
              "#46039f"
             ],
             [
              0.2222222222222222,
              "#7201a8"
             ],
             [
              0.3333333333333333,
              "#9c179e"
             ],
             [
              0.4444444444444444,
              "#bd3786"
             ],
             [
              0.5555555555555556,
              "#d8576b"
             ],
             [
              0.6666666666666666,
              "#ed7953"
             ],
             [
              0.7777777777777778,
              "#fb9f3a"
             ],
             [
              0.8888888888888888,
              "#fdca26"
             ],
             [
              1,
              "#f0f921"
             ]
            ],
            "type": "surface"
           }
          ],
          "table": [
           {
            "cells": {
             "fill": {
              "color": "#EBF0F8"
             },
             "line": {
              "color": "white"
             }
            },
            "header": {
             "fill": {
              "color": "#C8D4E3"
             },
             "line": {
              "color": "white"
             }
            },
            "type": "table"
           }
          ]
         },
         "layout": {
          "annotationdefaults": {
           "arrowcolor": "#2a3f5f",
           "arrowhead": 0,
           "arrowwidth": 1
          },
          "coloraxis": {
           "colorbar": {
            "outlinewidth": 0,
            "ticks": ""
           }
          },
          "colorscale": {
           "diverging": [
            [
             0,
             "#8e0152"
            ],
            [
             0.1,
             "#c51b7d"
            ],
            [
             0.2,
             "#de77ae"
            ],
            [
             0.3,
             "#f1b6da"
            ],
            [
             0.4,
             "#fde0ef"
            ],
            [
             0.5,
             "#f7f7f7"
            ],
            [
             0.6,
             "#e6f5d0"
            ],
            [
             0.7,
             "#b8e186"
            ],
            [
             0.8,
             "#7fbc41"
            ],
            [
             0.9,
             "#4d9221"
            ],
            [
             1,
             "#276419"
            ]
           ],
           "sequential": [
            [
             0,
             "#0d0887"
            ],
            [
             0.1111111111111111,
             "#46039f"
            ],
            [
             0.2222222222222222,
             "#7201a8"
            ],
            [
             0.3333333333333333,
             "#9c179e"
            ],
            [
             0.4444444444444444,
             "#bd3786"
            ],
            [
             0.5555555555555556,
             "#d8576b"
            ],
            [
             0.6666666666666666,
             "#ed7953"
            ],
            [
             0.7777777777777778,
             "#fb9f3a"
            ],
            [
             0.8888888888888888,
             "#fdca26"
            ],
            [
             1,
             "#f0f921"
            ]
           ],
           "sequentialminus": [
            [
             0,
             "#0d0887"
            ],
            [
             0.1111111111111111,
             "#46039f"
            ],
            [
             0.2222222222222222,
             "#7201a8"
            ],
            [
             0.3333333333333333,
             "#9c179e"
            ],
            [
             0.4444444444444444,
             "#bd3786"
            ],
            [
             0.5555555555555556,
             "#d8576b"
            ],
            [
             0.6666666666666666,
             "#ed7953"
            ],
            [
             0.7777777777777778,
             "#fb9f3a"
            ],
            [
             0.8888888888888888,
             "#fdca26"
            ],
            [
             1,
             "#f0f921"
            ]
           ]
          },
          "colorway": [
           "#636efa",
           "#EF553B",
           "#00cc96",
           "#ab63fa",
           "#FFA15A",
           "#19d3f3",
           "#FF6692",
           "#B6E880",
           "#FF97FF",
           "#FECB52"
          ],
          "font": {
           "color": "#2a3f5f"
          },
          "geo": {
           "bgcolor": "white",
           "lakecolor": "white",
           "landcolor": "white",
           "showlakes": true,
           "showland": true,
           "subunitcolor": "#C8D4E3"
          },
          "hoverlabel": {
           "align": "left"
          },
          "hovermode": "closest",
          "mapbox": {
           "style": "light"
          },
          "paper_bgcolor": "white",
          "plot_bgcolor": "white",
          "polar": {
           "angularaxis": {
            "gridcolor": "#EBF0F8",
            "linecolor": "#EBF0F8",
            "ticks": ""
           },
           "bgcolor": "white",
           "radialaxis": {
            "gridcolor": "#EBF0F8",
            "linecolor": "#EBF0F8",
            "ticks": ""
           }
          },
          "scene": {
           "xaxis": {
            "backgroundcolor": "white",
            "gridcolor": "#DFE8F3",
            "gridwidth": 2,
            "linecolor": "#EBF0F8",
            "showbackground": true,
            "ticks": "",
            "zerolinecolor": "#EBF0F8"
           },
           "yaxis": {
            "backgroundcolor": "white",
            "gridcolor": "#DFE8F3",
            "gridwidth": 2,
            "linecolor": "#EBF0F8",
            "showbackground": true,
            "ticks": "",
            "zerolinecolor": "#EBF0F8"
           },
           "zaxis": {
            "backgroundcolor": "white",
            "gridcolor": "#DFE8F3",
            "gridwidth": 2,
            "linecolor": "#EBF0F8",
            "showbackground": true,
            "ticks": "",
            "zerolinecolor": "#EBF0F8"
           }
          },
          "shapedefaults": {
           "line": {
            "color": "#2a3f5f"
           }
          },
          "ternary": {
           "aaxis": {
            "gridcolor": "#DFE8F3",
            "linecolor": "#A2B1C6",
            "ticks": ""
           },
           "baxis": {
            "gridcolor": "#DFE8F3",
            "linecolor": "#A2B1C6",
            "ticks": ""
           },
           "bgcolor": "white",
           "caxis": {
            "gridcolor": "#DFE8F3",
            "linecolor": "#A2B1C6",
            "ticks": ""
           }
          },
          "title": {
           "x": 0.05
          },
          "xaxis": {
           "automargin": true,
           "gridcolor": "#EBF0F8",
           "linecolor": "#EBF0F8",
           "ticks": "",
           "title": {
            "standoff": 15
           },
           "zerolinecolor": "#EBF0F8",
           "zerolinewidth": 2
          },
          "yaxis": {
           "automargin": true,
           "gridcolor": "#EBF0F8",
           "linecolor": "#EBF0F8",
           "ticks": "",
           "title": {
            "standoff": 15
           },
           "zerolinecolor": "#EBF0F8",
           "zerolinewidth": 2
          }
         }
        },
        "title": {
         "text": "Nuevas defunciones de COVID-19 reportadas diariamente en Guanajuato"
        },
        "width": 900,
        "xaxis": {
         "spikethickness": 0.4,
         "title": {
          "text": "Fecha de registro"
         }
        },
        "yaxis": {
         "title": {
          "text": "Nuevas defunciones confirmadas"
         }
        }
       }
      }
     },
     "metadata": {}
    }
   ],
   "source": [
    "show_confirmed_cases(confirmados_mich, region = confirmados_mich[\"ENTIDAD\"].iloc[0])\n",
    "show_deaths(defunciones_mich, region = confirmados_mich[\"ENTIDAD\"].iloc[0])"
   ]
  },
  {
   "cell_type": "code",
   "execution_count": 117,
   "metadata": {
    "tags": []
   },
   "outputs": [
    {
     "output_type": "execute_result",
     "data": {
      "text/plain": [
       "    Province/State Country/Region      Lat      Long  1/22/20  1/23/20  \\\n",
       "180            NaN         Mexico  23.6345 -102.5528        0        0   \n",
       "\n",
       "     1/24/20  1/25/20  1/26/20  1/27/20  ...  12/23/20  12/24/20  12/25/20  \\\n",
       "180        0        0        0        0  ...   1350079   1362564   1372243   \n",
       "\n",
       "     12/26/20  12/27/20  12/28/20  12/29/20  12/30/20  12/31/20   1/1/21  \n",
       "180   1377217   1383434   1389430   1401529   1413935   1426094  1437185  \n",
       "\n",
       "[1 rows x 350 columns]"
      ],
      "text/html": "<div>\n<style scoped>\n    .dataframe tbody tr th:only-of-type {\n        vertical-align: middle;\n    }\n\n    .dataframe tbody tr th {\n        vertical-align: top;\n    }\n\n    .dataframe thead th {\n        text-align: right;\n    }\n</style>\n<table border=\"1\" class=\"dataframe\">\n  <thead>\n    <tr style=\"text-align: right;\">\n      <th></th>\n      <th>Province/State</th>\n      <th>Country/Region</th>\n      <th>Lat</th>\n      <th>Long</th>\n      <th>1/22/20</th>\n      <th>1/23/20</th>\n      <th>1/24/20</th>\n      <th>1/25/20</th>\n      <th>1/26/20</th>\n      <th>1/27/20</th>\n      <th>...</th>\n      <th>12/23/20</th>\n      <th>12/24/20</th>\n      <th>12/25/20</th>\n      <th>12/26/20</th>\n      <th>12/27/20</th>\n      <th>12/28/20</th>\n      <th>12/29/20</th>\n      <th>12/30/20</th>\n      <th>12/31/20</th>\n      <th>1/1/21</th>\n    </tr>\n  </thead>\n  <tbody>\n    <tr>\n      <th>180</th>\n      <td>NaN</td>\n      <td>Mexico</td>\n      <td>23.6345</td>\n      <td>-102.5528</td>\n      <td>0</td>\n      <td>0</td>\n      <td>0</td>\n      <td>0</td>\n      <td>0</td>\n      <td>0</td>\n      <td>...</td>\n      <td>1350079</td>\n      <td>1362564</td>\n      <td>1372243</td>\n      <td>1377217</td>\n      <td>1383434</td>\n      <td>1389430</td>\n      <td>1401529</td>\n      <td>1413935</td>\n      <td>1426094</td>\n      <td>1437185</td>\n    </tr>\n  </tbody>\n</table>\n<p>1 rows × 350 columns</p>\n</div>"
     },
     "metadata": {},
     "execution_count": 117
    }
   ],
   "source": [
    "jhu_data = pd.read_csv(\"https://raw.githubusercontent.com/CSSEGISandData/COVID-19/master/csse_covid_19_data/csse_covid_19_time_series/time_series_covid19_confirmed_global.csv\", encoding=\"utf-8\")\n",
    "mexico_jhu_data = jhu_data[jhu_data[\"Country/Region\"] == \"Mexico\"]\n",
    "mexico_jhu_data"
   ]
  },
  {
   "cell_type": "code",
   "execution_count": 118,
   "metadata": {},
   "outputs": [
    {
     "output_type": "execute_result",
     "data": {
      "text/plain": [
       "     FIPS Admin2       Province_State Country_Region          Last_Update  \\\n",
       "386   NaN    NaN       Aguascalientes         Mexico  2020-12-30 05:22:34   \n",
       "387   NaN    NaN      Baja California         Mexico  2020-12-30 05:22:34   \n",
       "388   NaN    NaN  Baja California Sur         Mexico  2020-12-30 05:22:34   \n",
       "389   NaN    NaN             Campeche         Mexico  2020-12-30 05:22:34   \n",
       "390   NaN    NaN              Chiapas         Mexico  2020-12-30 05:22:34   \n",
       "391   NaN    NaN            Chihuahua         Mexico  2020-12-30 05:22:34   \n",
       "392   NaN    NaN     Ciudad de Mexico         Mexico  2020-12-30 05:22:34   \n",
       "393   NaN    NaN             Coahuila         Mexico  2020-12-30 05:22:34   \n",
       "394   NaN    NaN               Colima         Mexico  2020-12-30 05:22:34   \n",
       "395   NaN    NaN              Durango         Mexico  2020-12-30 05:22:34   \n",
       "396   NaN    NaN           Guanajuato         Mexico  2020-12-30 05:22:34   \n",
       "397   NaN    NaN             Guerrero         Mexico  2020-12-30 05:22:34   \n",
       "398   NaN    NaN              Hidalgo         Mexico  2020-12-30 05:22:34   \n",
       "399   NaN    NaN              Jalisco         Mexico  2020-12-30 05:22:34   \n",
       "400   NaN    NaN               Mexico         Mexico  2020-12-30 05:22:34   \n",
       "401   NaN    NaN            Michoacan         Mexico  2020-12-30 05:22:34   \n",
       "402   NaN    NaN              Morelos         Mexico  2020-12-30 05:22:34   \n",
       "403   NaN    NaN              Nayarit         Mexico  2020-12-30 05:22:34   \n",
       "404   NaN    NaN           Nuevo Leon         Mexico  2020-12-30 05:22:34   \n",
       "405   NaN    NaN               Oaxaca         Mexico  2020-12-30 05:22:34   \n",
       "406   NaN    NaN               Puebla         Mexico  2020-12-30 05:22:34   \n",
       "407   NaN    NaN            Queretaro         Mexico  2020-12-30 05:22:34   \n",
       "408   NaN    NaN         Quintana Roo         Mexico  2020-12-30 05:22:34   \n",
       "409   NaN    NaN      San Luis Potosi         Mexico  2020-12-30 05:22:34   \n",
       "410   NaN    NaN              Sinaloa         Mexico  2020-12-30 05:22:34   \n",
       "411   NaN    NaN               Sonora         Mexico  2020-12-30 05:22:34   \n",
       "412   NaN    NaN              Tabasco         Mexico  2020-12-30 05:22:34   \n",
       "413   NaN    NaN           Tamaulipas         Mexico  2020-12-30 05:22:34   \n",
       "414   NaN    NaN             Tlaxcala         Mexico  2020-12-30 05:22:34   \n",
       "415   NaN    NaN              Unknown         Mexico  2020-12-30 05:22:34   \n",
       "416   NaN    NaN             Veracruz         Mexico  2020-12-30 05:22:34   \n",
       "417   NaN    NaN              Yucatan         Mexico  2020-12-30 05:22:34   \n",
       "418   NaN    NaN            Zacatecas         Mexico  2020-12-30 05:22:34   \n",
       "\n",
       "         Lat     Long_  Confirmed  Deaths  Recovered     Active  \\\n",
       "386  21.8853 -102.2916      16805    1349          0    15456.0   \n",
       "387  30.8406 -115.2838      33776    5388          0    28388.0   \n",
       "388  26.0444 -111.6661      17280     763          0    16517.0   \n",
       "389  19.8301  -90.5349       7233     964          0     6269.0   \n",
       "390  16.7569  -93.1292       8228    1198          0     7030.0   \n",
       "391  28.6330 -106.0691      36032    4387          0    31645.0   \n",
       "392  19.4326  -99.1332     320251   16385          0   303866.0   \n",
       "393  27.0587 -101.7068      48772    4119          0    44653.0   \n",
       "394  19.1223 -104.0072       7832     795          0     7037.0   \n",
       "395  24.5593 -104.6588      24893    1521          0    23372.0   \n",
       "396  21.0190 -101.2574      81433    5198          0    76235.0   \n",
       "397  17.4392  -99.5451      25869    2689          0    23180.0   \n",
       "398  20.0911  -98.7624      24009    3338          0    20671.0   \n",
       "399  20.6595 -103.3494      51235    5909          0    45326.0   \n",
       "400  19.4969  -99.7233     143488   18562          0   124926.0   \n",
       "401  19.5665 -101.7068      32823    2684          0    30139.0   \n",
       "402  18.6813  -99.1013       9589    1428          0     8161.0   \n",
       "403  21.7514 -104.8455       7798    1046          0     6752.0   \n",
       "404  25.5922  -99.9962      81477    5078          0    76399.0   \n",
       "405  17.0732  -96.7266      27945    2104          0    25841.0   \n",
       "406  19.0414  -98.2063      46516    5660          0    40856.0   \n",
       "407  20.5888 -100.3899      31624    1862          0    29762.0   \n",
       "408  19.1817  -88.4791      15756    2017          0    13739.0   \n",
       "409  22.1565 -100.9855      39556    3014          0    36542.0   \n",
       "410  25.1721 -107.4795      26511    4207          0    22304.0   \n",
       "411  29.2972 -110.3309      51177    4057          0    47120.0   \n",
       "412  17.8409  -92.6189      43668    3182          0    40486.0   \n",
       "413  24.2669  -98.8363      39126    3258          0    35868.0   \n",
       "414  19.3139  -98.2404      10844    1390          0     9454.0   \n",
       "415      NaN       NaN          0       0    1058429 -1058429.0   \n",
       "416  19.1738  -96.1342      42762    6298          0    36464.0   \n",
       "417  20.7099  -89.0943      26504    2261          0    24243.0   \n",
       "418  22.7709 -102.5832      20717    1734          0    18983.0   \n",
       "\n",
       "                    Combined_Key  Incident_Rate  Case_Fatality_Ratio  \n",
       "386       Aguascalientes, Mexico    1171.378086             8.027373  \n",
       "387      Baja California, Mexico     929.222189            15.952155  \n",
       "388  Baja California Sur, Mexico    2147.362770             4.415509  \n",
       "389             Campeche, Mexico     722.853999            13.327803  \n",
       "390              Chiapas, Mexico     143.585917            14.560039  \n",
       "391            Chihuahua, Mexico     947.839622            12.175289  \n",
       "392     Ciudad de Mexico, Mexico    3550.987981             5.116299  \n",
       "393             Coahuila, Mexico    1515.260725             8.445420  \n",
       "394               Colima, Mexico     997.512587            10.150664  \n",
       "395              Durango, Mexico    1331.891561             6.110151  \n",
       "396           Guanajuato, Mexico    1307.493768             6.383162  \n",
       "397             Guerrero, Mexico     707.373816            10.394681  \n",
       "398              Hidalgo, Mexico     777.893050            13.903120  \n",
       "399              Jalisco, Mexico     609.237460            11.533132  \n",
       "400               Mexico, Mexico     823.328718            12.936273  \n",
       "401            Michoacan, Mexico     680.212898             8.177193  \n",
       "402              Morelos, Mexico     469.115847            14.892064  \n",
       "403              Nayarit, Mexico     605.166498            13.413696  \n",
       "404           Nuevo Leon, Mexico    1452.313333             6.232434  \n",
       "405               Oaxaca, Mexico     674.414693             7.529075  \n",
       "406               Puebla, Mexico     704.312894            12.167856  \n",
       "407            Queretaro, Mexico    1387.238407             5.887933  \n",
       "408         Quintana Roo, Mexico     914.314099            12.801472  \n",
       "409      San Luis Potosi, Mexico    1380.113058             7.619577  \n",
       "410              Sinaloa, Mexico     839.839654            15.868885  \n",
       "411               Sonora, Mexico    1664.430709             7.927389  \n",
       "412              Tabasco, Mexico    1697.633273             7.286800  \n",
       "413           Tamaulipas, Mexico    1071.768437             8.326944  \n",
       "414             Tlaxcala, Mexico     785.790838            12.818148  \n",
       "415              Unknown, Mexico            NaN                  NaN  \n",
       "416             Veracruz, Mexico     500.734087            14.728030  \n",
       "417              Yucatan, Mexico    1173.211609             8.530788  \n",
       "418            Zacatecas, Mexico    1243.199518             8.369938  "
      ],
      "text/html": "<div>\n<style scoped>\n    .dataframe tbody tr th:only-of-type {\n        vertical-align: middle;\n    }\n\n    .dataframe tbody tr th {\n        vertical-align: top;\n    }\n\n    .dataframe thead th {\n        text-align: right;\n    }\n</style>\n<table border=\"1\" class=\"dataframe\">\n  <thead>\n    <tr style=\"text-align: right;\">\n      <th></th>\n      <th>FIPS</th>\n      <th>Admin2</th>\n      <th>Province_State</th>\n      <th>Country_Region</th>\n      <th>Last_Update</th>\n      <th>Lat</th>\n      <th>Long_</th>\n      <th>Confirmed</th>\n      <th>Deaths</th>\n      <th>Recovered</th>\n      <th>Active</th>\n      <th>Combined_Key</th>\n      <th>Incident_Rate</th>\n      <th>Case_Fatality_Ratio</th>\n    </tr>\n  </thead>\n  <tbody>\n    <tr>\n      <th>386</th>\n      <td>NaN</td>\n      <td>NaN</td>\n      <td>Aguascalientes</td>\n      <td>Mexico</td>\n      <td>2020-12-30 05:22:34</td>\n      <td>21.8853</td>\n      <td>-102.2916</td>\n      <td>16805</td>\n      <td>1349</td>\n      <td>0</td>\n      <td>15456.0</td>\n      <td>Aguascalientes, Mexico</td>\n      <td>1171.378086</td>\n      <td>8.027373</td>\n    </tr>\n    <tr>\n      <th>387</th>\n      <td>NaN</td>\n      <td>NaN</td>\n      <td>Baja California</td>\n      <td>Mexico</td>\n      <td>2020-12-30 05:22:34</td>\n      <td>30.8406</td>\n      <td>-115.2838</td>\n      <td>33776</td>\n      <td>5388</td>\n      <td>0</td>\n      <td>28388.0</td>\n      <td>Baja California, Mexico</td>\n      <td>929.222189</td>\n      <td>15.952155</td>\n    </tr>\n    <tr>\n      <th>388</th>\n      <td>NaN</td>\n      <td>NaN</td>\n      <td>Baja California Sur</td>\n      <td>Mexico</td>\n      <td>2020-12-30 05:22:34</td>\n      <td>26.0444</td>\n      <td>-111.6661</td>\n      <td>17280</td>\n      <td>763</td>\n      <td>0</td>\n      <td>16517.0</td>\n      <td>Baja California Sur, Mexico</td>\n      <td>2147.362770</td>\n      <td>4.415509</td>\n    </tr>\n    <tr>\n      <th>389</th>\n      <td>NaN</td>\n      <td>NaN</td>\n      <td>Campeche</td>\n      <td>Mexico</td>\n      <td>2020-12-30 05:22:34</td>\n      <td>19.8301</td>\n      <td>-90.5349</td>\n      <td>7233</td>\n      <td>964</td>\n      <td>0</td>\n      <td>6269.0</td>\n      <td>Campeche, Mexico</td>\n      <td>722.853999</td>\n      <td>13.327803</td>\n    </tr>\n    <tr>\n      <th>390</th>\n      <td>NaN</td>\n      <td>NaN</td>\n      <td>Chiapas</td>\n      <td>Mexico</td>\n      <td>2020-12-30 05:22:34</td>\n      <td>16.7569</td>\n      <td>-93.1292</td>\n      <td>8228</td>\n      <td>1198</td>\n      <td>0</td>\n      <td>7030.0</td>\n      <td>Chiapas, Mexico</td>\n      <td>143.585917</td>\n      <td>14.560039</td>\n    </tr>\n    <tr>\n      <th>391</th>\n      <td>NaN</td>\n      <td>NaN</td>\n      <td>Chihuahua</td>\n      <td>Mexico</td>\n      <td>2020-12-30 05:22:34</td>\n      <td>28.6330</td>\n      <td>-106.0691</td>\n      <td>36032</td>\n      <td>4387</td>\n      <td>0</td>\n      <td>31645.0</td>\n      <td>Chihuahua, Mexico</td>\n      <td>947.839622</td>\n      <td>12.175289</td>\n    </tr>\n    <tr>\n      <th>392</th>\n      <td>NaN</td>\n      <td>NaN</td>\n      <td>Ciudad de Mexico</td>\n      <td>Mexico</td>\n      <td>2020-12-30 05:22:34</td>\n      <td>19.4326</td>\n      <td>-99.1332</td>\n      <td>320251</td>\n      <td>16385</td>\n      <td>0</td>\n      <td>303866.0</td>\n      <td>Ciudad de Mexico, Mexico</td>\n      <td>3550.987981</td>\n      <td>5.116299</td>\n    </tr>\n    <tr>\n      <th>393</th>\n      <td>NaN</td>\n      <td>NaN</td>\n      <td>Coahuila</td>\n      <td>Mexico</td>\n      <td>2020-12-30 05:22:34</td>\n      <td>27.0587</td>\n      <td>-101.7068</td>\n      <td>48772</td>\n      <td>4119</td>\n      <td>0</td>\n      <td>44653.0</td>\n      <td>Coahuila, Mexico</td>\n      <td>1515.260725</td>\n      <td>8.445420</td>\n    </tr>\n    <tr>\n      <th>394</th>\n      <td>NaN</td>\n      <td>NaN</td>\n      <td>Colima</td>\n      <td>Mexico</td>\n      <td>2020-12-30 05:22:34</td>\n      <td>19.1223</td>\n      <td>-104.0072</td>\n      <td>7832</td>\n      <td>795</td>\n      <td>0</td>\n      <td>7037.0</td>\n      <td>Colima, Mexico</td>\n      <td>997.512587</td>\n      <td>10.150664</td>\n    </tr>\n    <tr>\n      <th>395</th>\n      <td>NaN</td>\n      <td>NaN</td>\n      <td>Durango</td>\n      <td>Mexico</td>\n      <td>2020-12-30 05:22:34</td>\n      <td>24.5593</td>\n      <td>-104.6588</td>\n      <td>24893</td>\n      <td>1521</td>\n      <td>0</td>\n      <td>23372.0</td>\n      <td>Durango, Mexico</td>\n      <td>1331.891561</td>\n      <td>6.110151</td>\n    </tr>\n    <tr>\n      <th>396</th>\n      <td>NaN</td>\n      <td>NaN</td>\n      <td>Guanajuato</td>\n      <td>Mexico</td>\n      <td>2020-12-30 05:22:34</td>\n      <td>21.0190</td>\n      <td>-101.2574</td>\n      <td>81433</td>\n      <td>5198</td>\n      <td>0</td>\n      <td>76235.0</td>\n      <td>Guanajuato, Mexico</td>\n      <td>1307.493768</td>\n      <td>6.383162</td>\n    </tr>\n    <tr>\n      <th>397</th>\n      <td>NaN</td>\n      <td>NaN</td>\n      <td>Guerrero</td>\n      <td>Mexico</td>\n      <td>2020-12-30 05:22:34</td>\n      <td>17.4392</td>\n      <td>-99.5451</td>\n      <td>25869</td>\n      <td>2689</td>\n      <td>0</td>\n      <td>23180.0</td>\n      <td>Guerrero, Mexico</td>\n      <td>707.373816</td>\n      <td>10.394681</td>\n    </tr>\n    <tr>\n      <th>398</th>\n      <td>NaN</td>\n      <td>NaN</td>\n      <td>Hidalgo</td>\n      <td>Mexico</td>\n      <td>2020-12-30 05:22:34</td>\n      <td>20.0911</td>\n      <td>-98.7624</td>\n      <td>24009</td>\n      <td>3338</td>\n      <td>0</td>\n      <td>20671.0</td>\n      <td>Hidalgo, Mexico</td>\n      <td>777.893050</td>\n      <td>13.903120</td>\n    </tr>\n    <tr>\n      <th>399</th>\n      <td>NaN</td>\n      <td>NaN</td>\n      <td>Jalisco</td>\n      <td>Mexico</td>\n      <td>2020-12-30 05:22:34</td>\n      <td>20.6595</td>\n      <td>-103.3494</td>\n      <td>51235</td>\n      <td>5909</td>\n      <td>0</td>\n      <td>45326.0</td>\n      <td>Jalisco, Mexico</td>\n      <td>609.237460</td>\n      <td>11.533132</td>\n    </tr>\n    <tr>\n      <th>400</th>\n      <td>NaN</td>\n      <td>NaN</td>\n      <td>Mexico</td>\n      <td>Mexico</td>\n      <td>2020-12-30 05:22:34</td>\n      <td>19.4969</td>\n      <td>-99.7233</td>\n      <td>143488</td>\n      <td>18562</td>\n      <td>0</td>\n      <td>124926.0</td>\n      <td>Mexico, Mexico</td>\n      <td>823.328718</td>\n      <td>12.936273</td>\n    </tr>\n    <tr>\n      <th>401</th>\n      <td>NaN</td>\n      <td>NaN</td>\n      <td>Michoacan</td>\n      <td>Mexico</td>\n      <td>2020-12-30 05:22:34</td>\n      <td>19.5665</td>\n      <td>-101.7068</td>\n      <td>32823</td>\n      <td>2684</td>\n      <td>0</td>\n      <td>30139.0</td>\n      <td>Michoacan, Mexico</td>\n      <td>680.212898</td>\n      <td>8.177193</td>\n    </tr>\n    <tr>\n      <th>402</th>\n      <td>NaN</td>\n      <td>NaN</td>\n      <td>Morelos</td>\n      <td>Mexico</td>\n      <td>2020-12-30 05:22:34</td>\n      <td>18.6813</td>\n      <td>-99.1013</td>\n      <td>9589</td>\n      <td>1428</td>\n      <td>0</td>\n      <td>8161.0</td>\n      <td>Morelos, Mexico</td>\n      <td>469.115847</td>\n      <td>14.892064</td>\n    </tr>\n    <tr>\n      <th>403</th>\n      <td>NaN</td>\n      <td>NaN</td>\n      <td>Nayarit</td>\n      <td>Mexico</td>\n      <td>2020-12-30 05:22:34</td>\n      <td>21.7514</td>\n      <td>-104.8455</td>\n      <td>7798</td>\n      <td>1046</td>\n      <td>0</td>\n      <td>6752.0</td>\n      <td>Nayarit, Mexico</td>\n      <td>605.166498</td>\n      <td>13.413696</td>\n    </tr>\n    <tr>\n      <th>404</th>\n      <td>NaN</td>\n      <td>NaN</td>\n      <td>Nuevo Leon</td>\n      <td>Mexico</td>\n      <td>2020-12-30 05:22:34</td>\n      <td>25.5922</td>\n      <td>-99.9962</td>\n      <td>81477</td>\n      <td>5078</td>\n      <td>0</td>\n      <td>76399.0</td>\n      <td>Nuevo Leon, Mexico</td>\n      <td>1452.313333</td>\n      <td>6.232434</td>\n    </tr>\n    <tr>\n      <th>405</th>\n      <td>NaN</td>\n      <td>NaN</td>\n      <td>Oaxaca</td>\n      <td>Mexico</td>\n      <td>2020-12-30 05:22:34</td>\n      <td>17.0732</td>\n      <td>-96.7266</td>\n      <td>27945</td>\n      <td>2104</td>\n      <td>0</td>\n      <td>25841.0</td>\n      <td>Oaxaca, Mexico</td>\n      <td>674.414693</td>\n      <td>7.529075</td>\n    </tr>\n    <tr>\n      <th>406</th>\n      <td>NaN</td>\n      <td>NaN</td>\n      <td>Puebla</td>\n      <td>Mexico</td>\n      <td>2020-12-30 05:22:34</td>\n      <td>19.0414</td>\n      <td>-98.2063</td>\n      <td>46516</td>\n      <td>5660</td>\n      <td>0</td>\n      <td>40856.0</td>\n      <td>Puebla, Mexico</td>\n      <td>704.312894</td>\n      <td>12.167856</td>\n    </tr>\n    <tr>\n      <th>407</th>\n      <td>NaN</td>\n      <td>NaN</td>\n      <td>Queretaro</td>\n      <td>Mexico</td>\n      <td>2020-12-30 05:22:34</td>\n      <td>20.5888</td>\n      <td>-100.3899</td>\n      <td>31624</td>\n      <td>1862</td>\n      <td>0</td>\n      <td>29762.0</td>\n      <td>Queretaro, Mexico</td>\n      <td>1387.238407</td>\n      <td>5.887933</td>\n    </tr>\n    <tr>\n      <th>408</th>\n      <td>NaN</td>\n      <td>NaN</td>\n      <td>Quintana Roo</td>\n      <td>Mexico</td>\n      <td>2020-12-30 05:22:34</td>\n      <td>19.1817</td>\n      <td>-88.4791</td>\n      <td>15756</td>\n      <td>2017</td>\n      <td>0</td>\n      <td>13739.0</td>\n      <td>Quintana Roo, Mexico</td>\n      <td>914.314099</td>\n      <td>12.801472</td>\n    </tr>\n    <tr>\n      <th>409</th>\n      <td>NaN</td>\n      <td>NaN</td>\n      <td>San Luis Potosi</td>\n      <td>Mexico</td>\n      <td>2020-12-30 05:22:34</td>\n      <td>22.1565</td>\n      <td>-100.9855</td>\n      <td>39556</td>\n      <td>3014</td>\n      <td>0</td>\n      <td>36542.0</td>\n      <td>San Luis Potosi, Mexico</td>\n      <td>1380.113058</td>\n      <td>7.619577</td>\n    </tr>\n    <tr>\n      <th>410</th>\n      <td>NaN</td>\n      <td>NaN</td>\n      <td>Sinaloa</td>\n      <td>Mexico</td>\n      <td>2020-12-30 05:22:34</td>\n      <td>25.1721</td>\n      <td>-107.4795</td>\n      <td>26511</td>\n      <td>4207</td>\n      <td>0</td>\n      <td>22304.0</td>\n      <td>Sinaloa, Mexico</td>\n      <td>839.839654</td>\n      <td>15.868885</td>\n    </tr>\n    <tr>\n      <th>411</th>\n      <td>NaN</td>\n      <td>NaN</td>\n      <td>Sonora</td>\n      <td>Mexico</td>\n      <td>2020-12-30 05:22:34</td>\n      <td>29.2972</td>\n      <td>-110.3309</td>\n      <td>51177</td>\n      <td>4057</td>\n      <td>0</td>\n      <td>47120.0</td>\n      <td>Sonora, Mexico</td>\n      <td>1664.430709</td>\n      <td>7.927389</td>\n    </tr>\n    <tr>\n      <th>412</th>\n      <td>NaN</td>\n      <td>NaN</td>\n      <td>Tabasco</td>\n      <td>Mexico</td>\n      <td>2020-12-30 05:22:34</td>\n      <td>17.8409</td>\n      <td>-92.6189</td>\n      <td>43668</td>\n      <td>3182</td>\n      <td>0</td>\n      <td>40486.0</td>\n      <td>Tabasco, Mexico</td>\n      <td>1697.633273</td>\n      <td>7.286800</td>\n    </tr>\n    <tr>\n      <th>413</th>\n      <td>NaN</td>\n      <td>NaN</td>\n      <td>Tamaulipas</td>\n      <td>Mexico</td>\n      <td>2020-12-30 05:22:34</td>\n      <td>24.2669</td>\n      <td>-98.8363</td>\n      <td>39126</td>\n      <td>3258</td>\n      <td>0</td>\n      <td>35868.0</td>\n      <td>Tamaulipas, Mexico</td>\n      <td>1071.768437</td>\n      <td>8.326944</td>\n    </tr>\n    <tr>\n      <th>414</th>\n      <td>NaN</td>\n      <td>NaN</td>\n      <td>Tlaxcala</td>\n      <td>Mexico</td>\n      <td>2020-12-30 05:22:34</td>\n      <td>19.3139</td>\n      <td>-98.2404</td>\n      <td>10844</td>\n      <td>1390</td>\n      <td>0</td>\n      <td>9454.0</td>\n      <td>Tlaxcala, Mexico</td>\n      <td>785.790838</td>\n      <td>12.818148</td>\n    </tr>\n    <tr>\n      <th>415</th>\n      <td>NaN</td>\n      <td>NaN</td>\n      <td>Unknown</td>\n      <td>Mexico</td>\n      <td>2020-12-30 05:22:34</td>\n      <td>NaN</td>\n      <td>NaN</td>\n      <td>0</td>\n      <td>0</td>\n      <td>1058429</td>\n      <td>-1058429.0</td>\n      <td>Unknown, Mexico</td>\n      <td>NaN</td>\n      <td>NaN</td>\n    </tr>\n    <tr>\n      <th>416</th>\n      <td>NaN</td>\n      <td>NaN</td>\n      <td>Veracruz</td>\n      <td>Mexico</td>\n      <td>2020-12-30 05:22:34</td>\n      <td>19.1738</td>\n      <td>-96.1342</td>\n      <td>42762</td>\n      <td>6298</td>\n      <td>0</td>\n      <td>36464.0</td>\n      <td>Veracruz, Mexico</td>\n      <td>500.734087</td>\n      <td>14.728030</td>\n    </tr>\n    <tr>\n      <th>417</th>\n      <td>NaN</td>\n      <td>NaN</td>\n      <td>Yucatan</td>\n      <td>Mexico</td>\n      <td>2020-12-30 05:22:34</td>\n      <td>20.7099</td>\n      <td>-89.0943</td>\n      <td>26504</td>\n      <td>2261</td>\n      <td>0</td>\n      <td>24243.0</td>\n      <td>Yucatan, Mexico</td>\n      <td>1173.211609</td>\n      <td>8.530788</td>\n    </tr>\n    <tr>\n      <th>418</th>\n      <td>NaN</td>\n      <td>NaN</td>\n      <td>Zacatecas</td>\n      <td>Mexico</td>\n      <td>2020-12-30 05:22:34</td>\n      <td>22.7709</td>\n      <td>-102.5832</td>\n      <td>20717</td>\n      <td>1734</td>\n      <td>0</td>\n      <td>18983.0</td>\n      <td>Zacatecas, Mexico</td>\n      <td>1243.199518</td>\n      <td>8.369938</td>\n    </tr>\n  </tbody>\n</table>\n</div>"
     },
     "metadata": {},
     "execution_count": 118
    }
   ],
   "source": [
    "jhu_daily_reports = pd.read_csv(\"https://raw.githubusercontent.com/CSSEGISandData/COVID-19/master/csse_covid_19_data/csse_covid_19_daily_reports/12-29-2020.csv\", encoding=\"utf-8\")\n",
    "mexico_daily_report = jhu_daily_reports[jhu_daily_reports[\"Country_Region\"] == \"Mexico\"]\n",
    "mexico_daily_report"
   ]
  },
  {
   "cell_type": "code",
   "execution_count": null,
   "metadata": {},
   "outputs": [],
   "source": []
  }
 ],
 "metadata": {
  "kernelspec": {
   "display_name": "Python 3",
   "language": "python",
   "name": "python3"
  },
  "language_info": {
   "codemirror_mode": {
    "name": "ipython",
    "version": 3
   },
   "file_extension": ".py",
   "mimetype": "text/x-python",
   "name": "python",
   "nbconvert_exporter": "python",
   "pygments_lexer": "ipython3",
   "version": "3.7.1-final"
  }
 },
 "nbformat": 4,
 "nbformat_minor": 2
}